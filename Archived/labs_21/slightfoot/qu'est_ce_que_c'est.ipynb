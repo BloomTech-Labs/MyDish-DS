{
 "nbformat": 4,
 "nbformat_minor": 2,
 "metadata": {
  "language_info": {
   "name": "python",
   "codemirror_mode": {
    "name": "ipython",
    "version": 3
   },
   "version": "3.7.6-final"
  },
  "orig_nbformat": 2,
  "file_extension": ".py",
  "mimetype": "text/x-python",
  "name": "python",
  "npconvert_exporter": "python",
  "pygments_lexer": "ipython3",
  "version": 3,
  "kernelspec": {
   "name": "python37664bitpsycopgconda9c230a95206041298c56f3779b9a9417",
   "display_name": "Python 3.7.6 64-bit ('psycopg': conda)"
  }
 },
 "cells": [
  {
   "cell_type": "code",
   "execution_count": null,
   "metadata": {},
   "outputs": [],
   "source": [
    "!pip install psycopg2"
   ]
  },
  {
   "cell_type": "code",
   "execution_count": 1,
   "metadata": {},
   "outputs": [],
   "source": [
    "import db_config"
   ]
  },
  {
   "cell_type": "code",
   "execution_count": 2,
   "metadata": {},
   "outputs": [],
   "source": [
    "import os\n",
    "import psycopg2"
   ]
  },
  {
   "cell_type": "code",
   "execution_count": 3,
   "metadata": {},
   "outputs": [],
   "source": [
    "conn = psycopg2.connect(database = db_config.database, \n",
    "                        user = db_config.user, \n",
    "                        password = db_config.password, \n",
    "                        host = db_config.host,\n",
    "                        port = db_config.port)\n",
    "\n",
    "# conn = psycopg2.connect(database = \"postgres\", \n",
    "#                         user = \"mydish\", \n",
    "#                         password = \"tz6MTgxObUZ62MNv0xgp\", \n",
    "#                         host = \"mydishdb.c3und8sjo4p2.us-east-2.rds.amazonaws.com\",\n",
    "#                         port = \"5432\")"
   ]
  },
  {
   "cell_type": "code",
   "execution_count": 4,
   "metadata": {},
   "outputs": [
    {
     "data": {
      "text/plain": "[('ingredients',),\n ('instructions',),\n ('knex_migrations',),\n ('knex_migrations_lock',),\n ('notes',),\n ('previous_versions',),\n ('recipe_ingredients',),\n ('recipes',),\n ('recipe_tags',),\n ('roles',),\n ('tags',),\n ('units',),\n ('user_roles',),\n ('users',)]"
     },
     "execution_count": 4,
     "metadata": {},
     "output_type": "execute_result"
    }
   ],
   "source": [
    "cursor = conn.cursor()\n",
    "\n",
    "cursor.execute(\"\"\"SELECT table_name FROM information_schema.tables WHERE table_schema='public'\n",
    "ORDER BY table_schema,table_name;\n",
    "\"\"\")\n",
    "\n",
    "# for table in cursor.fetchall():\n",
    "#     print(table, '\\n\\n\\n')\n",
    "derp = cursor.fetchall()\n",
    "\n",
    "cursor.close()\n",
    "\n",
    "derp"
   ]
  },
  {
   "cell_type": "code",
   "execution_count": 7,
   "metadata": {},
   "outputs": [
    {
     "data": {
      "text/plain": "[(1,\n  'Eggplant',\n  'https://images.pexels.com/photos/772513/pexels-photo-772513.png?auto=compress&cs=tinysrgb&dpr=3&h=750&w=1260',\n  None,\n  2,\n  None,\n  15,\n  None,\n  datetime.datetime(2020, 2, 4, 20, 23, 24, 95015, tzinfo=psycopg2.tz.FixedOffsetTimezone(offset=0, name=None)),\n  datetime.datetime(2020, 2, 4, 20, 23, 24, 95015, tzinfo=psycopg2.tz.FixedOffsetTimezone(offset=0, name=None)),\n  'Original Recipe'),\n (2,\n  'Cereal',\n  'https://images.pexels.com/photos/135525/pexels-photo-135525.jpeg?auto=compress&cs=tinysrgb&dpr=2&h=750&w=1260',\n  None,\n  1,\n  45,\n  None,\n  None,\n  datetime.datetime(2020, 2, 4, 20, 23, 24, 95015, tzinfo=psycopg2.tz.FixedOffsetTimezone(offset=0, name=None)),\n  datetime.datetime(2020, 2, 4, 20, 23, 24, 95015, tzinfo=psycopg2.tz.FixedOffsetTimezone(offset=0, name=None)),\n  'Original Recipe'),\n (3,\n  'Hard Boiled Egg',\n  'https://images.pexels.com/photos/806457/pexels-photo-806457.jpeg?auto=compress&cs=tinysrgb&dpr=2&h=750&w=1260',\n  None,\n  2,\n  5,\n  15,\n  None,\n  datetime.datetime(2020, 2, 4, 20, 23, 24, 95015, tzinfo=psycopg2.tz.FixedOffsetTimezone(offset=0, name=None)),\n  datetime.datetime(2020, 2, 4, 20, 23, 24, 95015, tzinfo=psycopg2.tz.FixedOffsetTimezone(offset=0, name=None)),\n  'Original Recipe'),\n (4,\n  'Home Fries',\n  'https://images.pexels.com/photos/1583884/pexels-photo-1583884.jpeg?auto=compress&cs=tinysrgb&dpr=2&h=750&w=1260',\n  None,\n  3,\n  None,\n  20,\n  None,\n  datetime.datetime(2020, 2, 4, 20, 23, 24, 95015, tzinfo=psycopg2.tz.FixedOffsetTimezone(offset=0, name=None)),\n  datetime.datetime(2020, 2, 4, 20, 23, 24, 95015, tzinfo=psycopg2.tz.FixedOffsetTimezone(offset=0, name=None)),\n  'Original Recipe'),\n (7,\n  'Carne Asada Tacos',\n  'https://images.unsplash.com/photo-1504544750208-dc0358e63f7f?ixlib=rb-1.2.1&ixid=eyJhcHBfaWQiOjEyMDd9&auto=format&fit=crop&w=500&q=60',\n  None,\n  5,\n  10,\n  10,\n  None,\n  datetime.datetime(2020, 2, 5, 4, 4, 49, 132342, tzinfo=psycopg2.tz.FixedOffsetTimezone(offset=0, name=None)),\n  datetime.datetime(2020, 2, 5, 21, 13, 18, 661000, tzinfo=psycopg2.tz.FixedOffsetTimezone(offset=0, name=None)),\n  'More avocados and more cilantro'),\n (6,\n  'Butter Cookies',\n  'https://images.unsplash.com/photo-1531022717358-b09206455881?ixlib=rb-1.2.1&ixid=eyJhcHBfaWQiOjEyMDd9&auto=format&fit=crop&w=500&q=60',\n  None,\n  5,\n  15,\n  10,\n  None,\n  datetime.datetime(2020, 2, 5, 0, 16, 42, 368987, tzinfo=psycopg2.tz.FixedOffsetTimezone(offset=0, name=None)),\n  datetime.datetime(2020, 2, 5, 22, 24, 17, 736000, tzinfo=psycopg2.tz.FixedOffsetTimezone(offset=0, name=None)),\n  'Back to butter'),\n (8,\n  'Chocolate Ice Cream',\n  None,\n  None,\n  15,\n  45,\n  None,\n  None,\n  datetime.datetime(2020, 2, 8, 0, 27, 12, 965305, tzinfo=psycopg2.tz.FixedOffsetTimezone(offset=0, name=None)),\n  datetime.datetime(2020, 2, 8, 0, 27, 12, 965305, tzinfo=psycopg2.tz.FixedOffsetTimezone(offset=0, name=None)),\n  'Original Recipe'),\n (9,\n  'Yumm Chicken Fajitas',\n  None,\n  None,\n  17,\n  10,\n  40,\n  None,\n  datetime.datetime(2020, 2, 11, 22, 18, 22, 718674, tzinfo=psycopg2.tz.FixedOffsetTimezone(offset=0, name=None)),\n  datetime.datetime(2020, 2, 11, 22, 40, 22, 229000, tzinfo=psycopg2.tz.FixedOffsetTimezone(offset=0, name=None)),\n  'Updated missing ingredients '),\n (10,\n  'Toast',\n  None,\n  None,\n  20,\n  1,\n  1,\n  None,\n  datetime.datetime(2020, 2, 12, 0, 12, 25, 620115, tzinfo=psycopg2.tz.FixedOffsetTimezone(offset=0, name=None)),\n  datetime.datetime(2020, 2, 12, 0, 12, 25, 620115, tzinfo=psycopg2.tz.FixedOffsetTimezone(offset=0, name=None)),\n  'Original Recipe'),\n (11,\n  'Carrot stick surprise',\n  None,\n  None,\n  25,\n  3,\n  None,\n  None,\n  datetime.datetime(2020, 2, 20, 21, 54, 6, 863906, tzinfo=psycopg2.tz.FixedOffsetTimezone(offset=0, name=None)),\n  datetime.datetime(2020, 2, 20, 21, 54, 6, 863906, tzinfo=psycopg2.tz.FixedOffsetTimezone(offset=0, name=None)),\n  'Original Recipe'),\n (12,\n  'Lizened blarch with flassels',\n  None,\n  None,\n  25,\n  13,\n  29,\n  None,\n  datetime.datetime(2020, 2, 20, 22, 22, 48, 483835, tzinfo=psycopg2.tz.FixedOffsetTimezone(offset=0, name=None)),\n  datetime.datetime(2020, 2, 20, 22, 24, 47, 826000, tzinfo=psycopg2.tz.FixedOffsetTimezone(offset=0, name=None)),\n  'Added note'),\n (13,\n  'Vegan Spaghetti Bolognese ',\n  None,\n  None,\n  27,\n  20,\n  30,\n  None,\n  datetime.datetime(2020, 2, 24, 17, 58, 52, 183330, tzinfo=psycopg2.tz.FixedOffsetTimezone(offset=0, name=None)),\n  datetime.datetime(2020, 2, 24, 17, 58, 52, 183330, tzinfo=psycopg2.tz.FixedOffsetTimezone(offset=0, name=None)),\n  'Original Recipe'),\n (14,\n  'Spaghetti',\n  None,\n  None,\n  28,\n  20,\n  60,\n  None,\n  datetime.datetime(2020, 2, 25, 2, 37, 40, 498827, tzinfo=psycopg2.tz.FixedOffsetTimezone(offset=0, name=None)),\n  datetime.datetime(2020, 2, 25, 2, 37, 40, 498827, tzinfo=psycopg2.tz.FixedOffsetTimezone(offset=0, name=None)),\n  'Original Recipe')]"
     },
     "execution_count": 7,
     "metadata": {},
     "output_type": "execute_result"
    }
   ],
   "source": [
    "cursor = conn.cursor()\n",
    "\n",
    "cursor.execute(\"\"\"SELECT * FROM public.recipes;\"\"\")\n",
    "\n",
    "# for table in cursor.fetchall():\n",
    "#     print(table, '\\n\\n\\n')\n",
    "derp = cursor.fetchall()\n",
    "\n",
    "cursor.close()\n",
    "\n",
    "derp"
   ]
  },
  {
   "cell_type": "code",
   "execution_count": 6,
   "metadata": {},
   "outputs": [],
   "source": [
    "tables_dict = {}\n",
    "\n",
    "for i in derp:\n",
    "\n",
    "    crsr2 = conn.cursor()\n",
    "\n",
    "    table_name = i[0]\n",
    "    query = \"\"\"SELECT column_name FROM information_schema.columns WHERE TABLE_NAME = '\"\"\" + table_name + \"\"\"';\"\"\"\n",
    "    crsr2.execute(query)\n",
    "\n",
    "    temp_schema = crsr2.fetchall()\n",
    "\n",
    "    crsr2.close()\n",
    "\n",
    "    tables_dict[i] = temp_schema"
   ]
  },
  {
   "cell_type": "code",
   "execution_count": 7,
   "metadata": {},
   "outputs": [
    {
     "name": "stdout",
     "output_type": "stream",
     "text": "ingredients\n-----\nid\nname\ncategory\n\n\ninstructions\n-----\nid\nrecipe_id\nstep_number\ndescription\n\n\nknex_migrations\n-----\nid\nname\nbatch\nmigration_time\n\n\nknex_migrations_lock\n-----\nindex\nis_locked\n\n\nnotes\n-----\nid\nrecipe_id\ndescription\n\n\nprevious_versions\n-----\nid\nrecipe_id\nchanges\ncreated_at\nupdated_at\nrevision_number\n\n\nrecipe_ingredients\n-----\nid\nrecipe_id\ningredient_id\nunit_id\nquantity\n\n\nrecipes\n-----\nid\ntitle\nimg\nforked_from\nowner_id\nprep_time\ncook_time\ndescription\ncreated_at\nupdated_at\nauthor_comment\n\n\nrecipe_tags\n-----\nid\nrecipe_id\ntag_id\n\n\nroles\n-----\nid\nname\n\n\ntags\n-----\nid\nname\n\n\nunits\n-----\nid\nname\ntype\nabbreviation\n\n\nuser_roles\n-----\nid\nuser_id\nrole_id\n\n\nusers\n-----\nid\nusername\npassword\ndisplay_name\nemail\navatar_url\n\n\n"
    }
   ],
   "source": [
    "for key in tables_dict:\n",
    "    print(f'{key[0]}\\n-----')\n",
    "    for val in tables_dict[key]:\n",
    "        print(val[0])\n",
    "    print('\\n')"
   ]
  }
 ]
}