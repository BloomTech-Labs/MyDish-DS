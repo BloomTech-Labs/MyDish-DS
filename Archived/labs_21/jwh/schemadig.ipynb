{
 "cells": [
  {
   "cell_type": "code",
   "execution_count": 1,
   "metadata": {},
   "outputs": [],
   "source": [
    "import os\n",
    "import psycopg2"
   ]
  },
  {
   "cell_type": "code",
   "execution_count": 2,
   "metadata": {},
   "outputs": [],
   "source": [
    "conn = psycopg2.connect(database ='postgres', user = 'postgres', password = 'tz6MTgxObUZ62MNv0xgp', host = 'mydishdb-dev.c3und8sjo4p2.us-east-2.rds.amazonaws.com', port = '5432')"
   ]
  },
  {
   "cell_type": "code",
   "execution_count": 3,
   "metadata": {},
   "outputs": [],
   "source": [
    "# conn = psycopg2.connect(database ='postgres', user = 'mydish', password = 'tz6MTgxObUZ62MNv0xgp', host = 'mydishdb-prod.c3und8sjo4p2.us-east-2.rds.amazonaws.com', port = '5432')"
   ]
  },
  {
   "cell_type": "markdown",
   "metadata": {},
   "source": [
    "Review existing tables"
   ]
  },
  {
   "cell_type": "code",
   "execution_count": 4,
   "metadata": {},
   "outputs": [
    {
     "data": {
      "text/plain": [
       "[('ds_full_ingr',),\n",
       " ('ds_full_step',),\n",
       " ('ds_plain_step',),\n",
       " ('ds_vision_block',),\n",
       " ('ds_vision_parsed',),\n",
       " ('ds_vision_return',)]"
      ]
     },
     "execution_count": 4,
     "metadata": {},
     "output_type": "execute_result"
    }
   ],
   "source": [
    "cursor = conn.cursor()\n",
    "\n",
    "cursor.execute(\"\"\"SELECT table_name FROM information_schema.tables WHERE table_schema='public'\n",
    "ORDER BY table_schema, table_name;\n",
    "\"\"\")\n",
    "\n",
    "table_list = cursor.fetchall()\n",
    "\n",
    "cursor.close()\n",
    "\n",
    "table_list"
   ]
  },
  {
   "cell_type": "code",
   "execution_count": 5,
   "metadata": {},
   "outputs": [
    {
     "name": "stdout",
     "output_type": "stream",
     "text": [
      "ds_full_ingr\n",
      "-----\n",
      "id\n",
      "secondary_id\n",
      "info_source\n",
      "ingr_amount\n",
      "ingr_unit\n",
      "ingr_name\n",
      "\n",
      "\n",
      "ds_full_step\n",
      "-----\n",
      "id\n",
      "recipe_version_id\n",
      "ds_vision_return_id\n",
      "step_order\n",
      "action\n",
      "\n",
      "\n",
      "ds_plain_step\n",
      "-----\n",
      "id\n",
      "recipe_version_id\n",
      "ds_vision_return_id\n",
      "step_order\n",
      "instr_text\n",
      "\n",
      "\n",
      "ds_vision_block\n",
      "-----\n",
      "id\n",
      "ds_vision_return_id\n",
      "model_assignment\n",
      "user_assignment\n",
      "dev_assignment\n",
      "\n",
      "\n",
      "ds_vision_parsed\n",
      "-----\n",
      "id\n",
      "ds_vision_return_id\n",
      "title\n",
      "total_ingr\n",
      "total_steps\n",
      "\n",
      "\n",
      "ds_vision_return\n",
      "-----\n",
      "id\n",
      "img_link\n",
      "raw_return\n",
      "total_blocks\n",
      "\n",
      "\n"
     ]
    }
   ],
   "source": [
    "tables_dict = {}\n",
    "\n",
    "for i in table_list:\n",
    "\n",
    "    cursor = conn.cursor()\n",
    "\n",
    "    table_name = i[0]\n",
    "    query = f\"\"\"SELECT column_name FROM information_schema.columns WHERE TABLE_NAME = '{table_name}';\"\"\"\n",
    "    cursor.execute(query)\n",
    "\n",
    "    temp_schema = cursor.fetchall()\n",
    "\n",
    "    cursor.close()\n",
    "\n",
    "    tables_dict[i] = temp_schema\n",
    "\n",
    "for key in tables_dict:\n",
    "    \n",
    "    print(f'{key[0]}\\n-----')\n",
    "    \n",
    "    for val in tables_dict[key]:\n",
    "        print(val[0])\n",
    "        \n",
    "    print('\\n')"
   ]
  },
  {
   "cell_type": "code",
   "execution_count": 6,
   "metadata": {},
   "outputs": [
    {
     "data": {
      "text/plain": [
       "[('id',), ('img_link',), ('raw_return',), ('total_blocks',)]"
      ]
     },
     "execution_count": 6,
     "metadata": {},
     "output_type": "execute_result"
    }
   ],
   "source": [
    "cursor = conn.cursor()\n",
    "\n",
    "cursor.execute(\"\"\"SELECT column_name FROM information_schema.columns WHERE TABLE_NAME = 'ds_vision_return';\"\"\")\n",
    "\n",
    "results = cursor.fetchall()\n",
    "cursor.close()\n",
    "results"
   ]
  },
  {
   "cell_type": "markdown",
   "metadata": {},
   "source": [
    "Delete Tables"
   ]
  },
  {
   "cell_type": "code",
   "execution_count": 7,
   "metadata": {},
   "outputs": [],
   "source": [
    "for table in table_list:\n",
    "\n",
    "    cursor = conn.cursor()\n",
    "\n",
    "    cursor.execute(f\"\"\"DROP TABLE {table[0]};\"\"\")\n",
    "\n",
    "    cursor.close()"
   ]
  },
  {
   "cell_type": "markdown",
   "metadata": {},
   "source": [
    "Create Tables"
   ]
  },
  {
   "cell_type": "code",
   "execution_count": 8,
   "metadata": {},
   "outputs": [],
   "source": [
    "cursor = conn.cursor()\n",
    "cursor.execute(\"\"\"\n",
    "CREATE TABLE ds_vision_return\n",
    "    (\n",
    "        id INT PRIMARY KEY,\n",
    "        img_link VARCHAR,\n",
    "        raw_return VARCHAR,\n",
    "        total_blocks INT\n",
    "    );\n",
    "\"\"\")\n",
    "\n",
    "cursor.close()"
   ]
  },
  {
   "cell_type": "code",
   "execution_count": 9,
   "metadata": {},
   "outputs": [],
   "source": [
    "cursor = conn.cursor()\n",
    "\n",
    "# a table of blocks from all vision returned recipes\n",
    "# some blocks may be only part of a full ingredient, or part of an instruction\n",
    "# turth values may need to be assigned by data engineers if users want to -\n",
    "# modify recipe as its approved or if they abandon it\n",
    "\n",
    "cursor.execute(\"\"\"\n",
    "CREATE TABLE ds_vision_block\n",
    "    (\n",
    "        id INT PRIMARY KEY,\n",
    "        ds_vision_return_id INT,\n",
    "        model_assignment VARCHAR,\n",
    "        user_assignment VARCHAR,\n",
    "        dev_assignment VARCHAR\n",
    "    );\n",
    "\"\"\")\n",
    "\n",
    "cursor.close()"
   ]
  },
  {
   "cell_type": "code",
   "execution_count": 10,
   "metadata": {},
   "outputs": [],
   "source": [
    "cursor = conn.cursor()\n",
    "\n",
    "# could also have fields for any number of ways to categorize recipe like -\n",
    "# dish type (soup/sandwich, meal type (breakfast/snack), diet type (vegan, etc) \n",
    "\n",
    "cursor.execute(\"\"\"\n",
    "CREATE TABLE ds_vision_parsed\n",
    "    (\n",
    "        id INT PRIMARY KEY,\n",
    "        ds_vision_return_id INT,\n",
    "        title VARCHAR,\n",
    "        total_ingr INT,\n",
    "        total_steps INT\n",
    "    );\n",
    "\"\"\")\n",
    "\n",
    "cursor.close()"
   ]
  },
  {
   "cell_type": "code",
   "execution_count": 11,
   "metadata": {},
   "outputs": [],
   "source": [
    "cursor = conn.cursor()\n",
    "\n",
    "cursor.execute(\"\"\"\n",
    "CREATE TABLE ds_full_ingr\n",
    "    (\n",
    "        id INT PRIMARY KEY,\n",
    "        secondary_id INT,\n",
    "        info_source VARCHAR,\n",
    "        ingr_amount INT,\n",
    "        ingr_unit VARCHAR,\n",
    "        ingr_name VARCHAR\n",
    "    );\n",
    "\"\"\")\n",
    "\n",
    "cursor.close()"
   ]
  },
  {
   "cell_type": "code",
   "execution_count": 12,
   "metadata": {},
   "outputs": [],
   "source": [
    "cursor = conn.cursor()\n",
    "\n",
    "# need to think more about which id to use -\n",
    "# version_id would refernce vision_return_id most likely\n",
    "\n",
    "cursor.execute(\"\"\"\n",
    "CREATE TABLE ds_plain_step\n",
    "    (\n",
    "        id INT PRIMARY KEY,\n",
    "        recipe_version_id INT,\n",
    "        ds_vision_return_id INT,\n",
    "        step_order INT,\n",
    "        instr_text VARCHAR\n",
    "    );\n",
    "\"\"\")\n",
    "\n",
    "cursor.close()"
   ]
  },
  {
   "cell_type": "code",
   "execution_count": 13,
   "metadata": {},
   "outputs": [],
   "source": [
    "cursor = conn.cursor()\n",
    "\n",
    "# half-baked -\n",
    "# needs a way to reference all ingredients and mixtures used\n",
    "\n",
    "cursor.execute(\"\"\"\n",
    "CREATE TABLE ds_full_step\n",
    "    (\n",
    "        id INT PRIMARY KEY,\n",
    "        recipe_version_id INT,\n",
    "        ds_vision_return_id INT,\n",
    "        step_order INT,\n",
    "        action VARCHAR\n",
    "    );\n",
    "\"\"\")\n",
    "\n",
    "cursor.close()"
   ]
  },
  {
   "cell_type": "code",
   "execution_count": 14,
   "metadata": {},
   "outputs": [
    {
     "ename": "SyntaxError",
     "evalue": "'break' outside loop (<ipython-input-14-6aaf1f276005>, line 4)",
     "output_type": "error",
     "traceback": [
      "\u001b[1;36m  File \u001b[1;32m\"<ipython-input-14-6aaf1f276005>\"\u001b[1;36m, line \u001b[1;32m4\u001b[0m\n\u001b[1;31mSyntaxError\u001b[0m\u001b[1;31m:\u001b[0m 'break' outside loop\n"
     ]
    }
   ],
   "source": [
    "break"
   ]
  },
  {
   "cell_type": "markdown",
   "metadata": {},
   "source": [
    "Save Changes"
   ]
  },
  {
   "cell_type": "code",
   "execution_count": null,
   "metadata": {},
   "outputs": [],
   "source": [
    "conn.commit()"
   ]
  },
  {
   "cell_type": "code",
   "execution_count": null,
   "metadata": {},
   "outputs": [],
   "source": [
    "break"
   ]
  },
  {
   "cell_type": "markdown",
   "metadata": {},
   "source": [
    "First draft DS schema"
   ]
  },
  {
   "cell_type": "code",
   "execution_count": null,
   "metadata": {},
   "outputs": [],
   "source": [
    "cursor = conn.cursor()\n",
    "cursor.execute(\"\"\"\n",
    "CREATE TABLE ds_vision_return\n",
    "    (\n",
    "        id INT PRIMARY KEY,\n",
    "        payload_dump VARCHAR,\n",
    "        pred_title VARCHAR,\n",
    "        pred_ingr_set VARCHAR,\n",
    "        pred_instructions_set VARCHAR,\n",
    "        img_link VARCHAR\n",
    "    );\n",
    "\"\"\")\n",
    "\n",
    "cursor.close()"
   ]
  },
  {
   "cell_type": "code",
   "execution_count": null,
   "metadata": {},
   "outputs": [],
   "source": [
    "def longlist(datatype):\n",
    "    ingrs = ''\n",
    "    for i in range(65):\n",
    "        ingrs += f',\\n        ingr_{i+1} {datatype}'\n",
    "    return ingrs"
   ]
  },
  {
   "cell_type": "code",
   "execution_count": null,
   "metadata": {},
   "outputs": [],
   "source": [
    "ingrs = longlist('VARCHAR')"
   ]
  },
  {
   "cell_type": "code",
   "execution_count": null,
   "metadata": {},
   "outputs": [],
   "source": [
    "cursor = conn.cursor()\n",
    "cursor.execute(f\"\"\"\n",
    "CREATE TABLE ds_ingr_set_vision_parsed\n",
    "    (\n",
    "        id INT PRIMARY KEY,\n",
    "        ds_vision_return_id INT{ingrs}\n",
    "    );\n",
    "\"\"\")\n",
    "\n",
    "cursor.close()"
   ]
  },
  {
   "cell_type": "code",
   "execution_count": null,
   "metadata": {},
   "outputs": [],
   "source": [
    "cursor = conn.cursor()\n",
    "cursor.execute(f\"\"\"\n",
    "CREATE TABLE ds_ingr_set_user_parsed\n",
    "    (\n",
    "        id INT PRIMARY KEY,\n",
    "        recipe_id INT,\n",
    "        ds_vision_return_id INT{ingrs}\n",
    "    );\n",
    "\"\"\")\n",
    "\n",
    "cursor.close()"
   ]
  },
  {
   "cell_type": "code",
   "execution_count": null,
   "metadata": {},
   "outputs": [],
   "source": [
    "cursor = conn.cursor()\n",
    "cursor.execute(f\"\"\"\n",
    "CREATE TABLE ds_unit_vision_parsed\n",
    "    (\n",
    "        id INT PRIMARY KEY,\n",
    "        ds_vision_return_id INT{ingrs}\n",
    "    );\n",
    "\"\"\")\n",
    "\n",
    "cursor.close()"
   ]
  },
  {
   "cell_type": "code",
   "execution_count": null,
   "metadata": {},
   "outputs": [],
   "source": [
    "cursor = conn.cursor()\n",
    "cursor.execute(f\"\"\"\n",
    "CREATE TABLE ds_unit_user_parsed\n",
    "    (\n",
    "        id INT PRIMARY KEY,\n",
    "        recipe_id INT,\n",
    "        ds_vision_return_id INT{ingrs}\n",
    "    );\n",
    "\"\"\")\n",
    "\n",
    "cursor.close()"
   ]
  },
  {
   "cell_type": "code",
   "execution_count": null,
   "metadata": {},
   "outputs": [],
   "source": [
    "ingrs = longlist('INT')"
   ]
  },
  {
   "cell_type": "code",
   "execution_count": null,
   "metadata": {},
   "outputs": [],
   "source": [
    "cursor = conn.cursor()\n",
    "\n",
    "cursor.execute(f\"\"\"\n",
    "CREATE TABLE ds_quantity_vision_parsed\n",
    "    (\n",
    "        id INT PRIMARY KEY,\n",
    "        ds_vision_return_id INT{ingrs}\n",
    "    );\n",
    "\"\"\")\n",
    "\n",
    "cursor.close()"
   ]
  },
  {
   "cell_type": "code",
   "execution_count": null,
   "metadata": {},
   "outputs": [],
   "source": [
    "cursor = conn.cursor()\n",
    "cursor.execute(f\"\"\"\n",
    "CREATE TABLE ds_quantity_user_parsed\n",
    "    (\n",
    "        id INT PRIMARY KEY,\n",
    "        recipe_id INT,\n",
    "        ds_vision_return_id INT{ingrs}\n",
    "    );\n",
    "\"\"\")\n",
    "\n",
    "cursor.close()"
   ]
  },
  {
   "cell_type": "code",
   "execution_count": null,
   "metadata": {},
   "outputs": [],
   "source": []
  },
  {
   "cell_type": "code",
   "execution_count": null,
   "metadata": {},
   "outputs": [],
   "source": [
    "break"
   ]
  },
  {
   "cell_type": "markdown",
   "metadata": {},
   "source": [
    "Testing beanstalk API"
   ]
  },
  {
   "cell_type": "code",
   "execution_count": null,
   "metadata": {},
   "outputs": [],
   "source": [
    "import requests\n",
    "import json"
   ]
  },
  {
   "cell_type": "code",
   "execution_count": null,
   "metadata": {},
   "outputs": [],
   "source": [
    "url = 'http://mydishingrpred.us-east-2.elasticbeanstalk.com/pred'"
   ]
  },
  {
   "cell_type": "code",
   "execution_count": null,
   "metadata": {},
   "outputs": [],
   "source": [
    "requests.get(url)"
   ]
  }
 ],
 "metadata": {
  "file_extension": ".py",
  "kernelspec": {
   "display_name": "Python 3",
   "language": "python",
   "name": "python3"
  },
  "language_info": {
   "codemirror_mode": {
    "name": "ipython",
    "version": 3
   },
   "file_extension": ".py",
   "mimetype": "text/x-python",
   "name": "python",
   "nbconvert_exporter": "python",
   "pygments_lexer": "ipython3",
   "version": "3.7.4"
  },
  "mimetype": "text/x-python",
  "name": "python",
  "npconvert_exporter": "python",
  "pygments_lexer": "ipython3",
  "version": 3
 },
 "nbformat": 4,
 "nbformat_minor": 4
}
