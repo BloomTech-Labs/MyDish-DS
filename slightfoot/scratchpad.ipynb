{
 "nbformat": 4,
 "nbformat_minor": 2,
 "metadata": {
  "language_info": {
   "name": "python",
   "codemirror_mode": {
    "name": "ipython",
    "version": 3
   },
   "version": "3.7.6-final"
  },
  "orig_nbformat": 2,
  "file_extension": ".py",
  "mimetype": "text/x-python",
  "name": "python",
  "npconvert_exporter": "python",
  "pygments_lexer": "ipython3",
  "version": 3,
  "kernelspec": {
   "name": "python37664bitmydishconda797818ee0abc4ea29f1e1dc6ed83066f",
   "display_name": "Python 3.7.6 64-bit ('MyDish': conda)"
  }
 },
 "cells": [
  {
   "cell_type": "markdown",
   "execution_count": null,
   "metadata": {},
   "outputs": [],
   "source": [
    "# Really tho'... how many ingredients could there possibly be???"
   ]
  },
  {
   "cell_type": "code",
   "execution_count": 1,
   "metadata": {},
   "outputs": [],
   "source": [
    "# imports.  you're prolly gonna use all these, right?\n",
    "import pdb\n",
    "\n",
    "import pandas as pd\n",
    "import numpy as np\n",
    "import matplotlib.pyplot as plt\n",
    "\n",
    "from tensorflow.keras.preprocessing import sequence\n",
    "from tensorflow.keras.models import Sequential\n",
    "from tensorflow.keras.layers import Dense, Embedding\n",
    "from tensorflow.keras.layers import LSTM\n",
    "\n",
    "from sklearn.feature_extraction.text import CountVectorizer, TfidfVectorizer\n",
    "from sklearn.metrics.pairwise import cosine_similarity\n",
    "from sklearn.neighbors import NearestNeighbors\n",
    "\n",
    "import re\n",
    "import string"
   ]
  },
  {
   "cell_type": "code",
   "execution_count": 2,
   "metadata": {},
   "outputs": [],
   "source": [
    "import spacy\n",
    "nlp = spacy.load(\"en_core_web_lg\")"
   ]
  },
  {
   "cell_type": "code",
   "execution_count": 2,
   "metadata": {},
   "outputs": [],
   "source": [
    "# Pulling in recipe lists\n",
    "df = pd.read_csv('../data/clean_recipes.csv', sep=';')\n",
    "kgl1_df = pd.read_json('../data/kgl_ingredient_train.json')\n",
    "kgl2_df = pd.read_json('../data/kgl_ingredient_test.json')"
   ]
  },
  {
   "cell_type": "code",
   "execution_count": 3,
   "metadata": {},
   "outputs": [
    {
     "output_type": "execute_result",
     "data": {
      "text/plain": "                           Recipe Name Review Count  \\\n0        Golden Crescent Rolls Recipe           304   \n1  Poppy Seed Bread with Glaze Recipe           137   \n2           Applesauce Bread I Recipe           124   \n\n                                        Recipe Photo         Author  \\\n0  https://images.media-allrecipes.com/userphotos...        Mike A.   \n1  https://images.media-allrecipes.com/userphotos...  Christina Jun   \n2  https://images.media-allrecipes.com/userphotos...          GAF55   \n\n  Prepare Time Cook Time Total Time  \\\n0         25 m      15 m   3 h 10 m   \n1         15 m       1 h   1 h 20 m   \n2         10 m  1 h 20 m   1 h 30 m   \n\n                                         ingredients  \\\n0  yeast,water,white sugar,salt,egg,butter,flour,...   \n1  flour,salt,baking powder,poppy,butter,vegetabl...   \n2  flour,egg,white sugar,vegetable oil,applesauce...   \n\n                                          Directions  RecipeID  \n0  Dissolve yeast in warm water.**Stir in sugar, ...      7000  \n1  'Preheat oven to 350 degrees F (175 degrees C)...      7001  \n2  Preheat oven to 350 degrees F (175 degrees C)....      7003  ",
      "text/html": "<div>\n<style scoped>\n    .dataframe tbody tr th:only-of-type {\n        vertical-align: middle;\n    }\n\n    .dataframe tbody tr th {\n        vertical-align: top;\n    }\n\n    .dataframe thead th {\n        text-align: right;\n    }\n</style>\n<table border=\"1\" class=\"dataframe\">\n  <thead>\n    <tr style=\"text-align: right;\">\n      <th></th>\n      <th>Recipe Name</th>\n      <th>Review Count</th>\n      <th>Recipe Photo</th>\n      <th>Author</th>\n      <th>Prepare Time</th>\n      <th>Cook Time</th>\n      <th>Total Time</th>\n      <th>ingredients</th>\n      <th>Directions</th>\n      <th>RecipeID</th>\n    </tr>\n  </thead>\n  <tbody>\n    <tr>\n      <th>0</th>\n      <td>Golden Crescent Rolls Recipe</td>\n      <td>304</td>\n      <td>https://images.media-allrecipes.com/userphotos...</td>\n      <td>Mike A.</td>\n      <td>25 m</td>\n      <td>15 m</td>\n      <td>3 h 10 m</td>\n      <td>yeast,water,white sugar,salt,egg,butter,flour,...</td>\n      <td>Dissolve yeast in warm water.**Stir in sugar, ...</td>\n      <td>7000</td>\n    </tr>\n    <tr>\n      <th>1</th>\n      <td>Poppy Seed Bread with Glaze Recipe</td>\n      <td>137</td>\n      <td>https://images.media-allrecipes.com/userphotos...</td>\n      <td>Christina Jun</td>\n      <td>15 m</td>\n      <td>1 h</td>\n      <td>1 h 20 m</td>\n      <td>flour,salt,baking powder,poppy,butter,vegetabl...</td>\n      <td>'Preheat oven to 350 degrees F (175 degrees C)...</td>\n      <td>7001</td>\n    </tr>\n    <tr>\n      <th>2</th>\n      <td>Applesauce Bread I Recipe</td>\n      <td>124</td>\n      <td>https://images.media-allrecipes.com/userphotos...</td>\n      <td>GAF55</td>\n      <td>10 m</td>\n      <td>1 h 20 m</td>\n      <td>1 h 30 m</td>\n      <td>flour,egg,white sugar,vegetable oil,applesauce...</td>\n      <td>Preheat oven to 350 degrees F (175 degrees C)....</td>\n      <td>7003</td>\n    </tr>\n  </tbody>\n</table>\n</div>"
     },
     "metadata": {},
     "execution_count": 3
    }
   ],
   "source": [
    "df = df.rename(columns={'Ingredients':'ingredients'})\n",
    "df.head(3)"
   ]
  },
  {
   "cell_type": "code",
   "execution_count": 4,
   "metadata": {},
   "outputs": [],
   "source": [
    "# df ingredients is a single string, splitting into a list of strings\n",
    "df['ingredients'] = df['ingredients'].apply(lambda x: x.split(','))"
   ]
  },
  {
   "cell_type": "code",
   "execution_count": 5,
   "metadata": {},
   "outputs": [],
   "source": [
    "l1 = df['ingredients']\n",
    "l2 = kgl1_df['ingredients']\n",
    "l3 = kgl2_df['ingredients']\n",
    "\n",
    "ingr_series = l1.append([l2, l3], ignore_index=True)"
   ]
  },
  {
   "cell_type": "code",
   "execution_count": 6,
   "metadata": {},
   "outputs": [
    {
     "output_type": "execute_result",
     "data": {
      "text/plain": "0    [yeast, water, white sugar, salt, egg, butter,...\n1    [flour, salt, baking powder, poppy, butter, ve...\n2    [flour, egg, white sugar, vegetable oil, apple...\n3    [flour, baking powder, baking soda, salt, cinn...\n4    [oat, buttermilk, vegetable oil, egg, brown su...\n5    [shortening, white sugar, salt, milk, egg, lem...\n6    [shortening, water, brown sugar, yeast, water,...\n7    [water, cottage cheese, vegetable oil, egg, fl...\n8    [margarine, white sugar, egg, banana, coffee, ...\n9    [cornmeal, milk, egg, bell pepper, onion, garl...\nName: ingredients, dtype: object"
     },
     "metadata": {},
     "execution_count": 6
    }
   ],
   "source": [
    "ingr_series[:10]"
   ]
  },
  {
   "cell_type": "code",
   "execution_count": 7,
   "metadata": {},
   "outputs": [],
   "source": [
    "def scrub_ingredients(ingr_list):\n",
    "    \n",
    "    chtble = str.maketrans('', '', string.punctuation + '0123456789')\n",
    "    \n",
    "    # drop special characters and multiple spaces, then convert to lowercase\n",
    "    clean_list = []\n",
    "    for ingr_string in ingr_list:\n",
    "        ingr_string = re.sub(r'\\W\\s+', ' ', ingr_string.strip().translate(chtble))\n",
    "        clean_list.append(ingr_string.lower())\n",
    "\n",
    "    # convert to lowercase & drop known measurement words\n",
    "    dropwords = ['ounce', 'ounces', 'oz', 'lb', ' pound', 'the', 'a', 'an'\n",
    "                 'package', 'packages', 'inches', 'and', 'for', 'as', 'is']\n",
    "\n",
    "    outlist = []\n",
    "\n",
    "    for i in clean_list:\n",
    "        words = i.split()\n",
    "        words = [word for word in words if word not in dropwords]\n",
    "        i = ' '.join(words)\n",
    "        outlist.append(i)\n",
    "    \n",
    "    return outlist"
   ]
  },
  {
   "cell_type": "code",
   "execution_count": 8,
   "metadata": {},
   "outputs": [
    {
     "output_type": "execute_result",
     "data": {
      "text/plain": "0    [yeast, water, white sugar, salt, egg, butter,...\n1    [flour, salt, baking powder, poppy, butter, ve...\n2    [flour, egg, white sugar, vegetable oil, apple...\n3    [flour, baking powder, baking soda, salt, cinn...\n4    [oat, buttermilk, vegetable oil, egg, brown su...\n5    [shortening, white sugar, salt, milk, egg, lem...\n6    [shortening, water, brown sugar, yeast, water,...\n7    [water, cottage cheese, vegetable oil, egg, fl...\n8    [margarine, white sugar, egg, banana, coffee, ...\n9    [cornmeal, milk, egg, bell pepper, onion, garl...\nName: ingredients, dtype: object"
     },
     "metadata": {},
     "execution_count": 8
    }
   ],
   "source": [
    "ingr_s = ingr_series.apply(scrub_ingredients)\n",
    "ingr_s[:10]"
   ]
  },
  {
   "cell_type": "code",
   "execution_count": 9,
   "metadata": {},
   "outputs": [],
   "source": [
    "def ingredient_count(dfcolumn):\n",
    "\n",
    "    # Create dictionary with word count\n",
    "    d = dict()\n",
    "\n",
    "    for l in dfcolumn:\n",
    "        for i in l:\n",
    "            if i in d:\n",
    "                d[i] = d[i] + 1\n",
    "            else:\n",
    "                d[i] = 1\n",
    "\n",
    "    return pd.DataFrame(d.items(), columns=['ingredient', 'count'])"
   ]
  },
  {
   "cell_type": "code",
   "execution_count": 10,
   "metadata": {},
   "outputs": [
    {
     "output_type": "execute_result",
     "data": {
      "text/plain": "             ingredient  count\n0                  salt  27050\n1                 water  11899\n2                garlic  11287\n3                butter  10534\n4                onions  10008\n5             olive oil   9889\n6                 sugar   9319\n7         garlic cloves   7772\n8                pepper   7080\n9         vegetable oil   6874\n10          white sugar   6378\n11  ground black pepper   5990\n12                flour   5861\n13     allpurpose flour   5816\n14                 milk   5618",
      "text/html": "<div>\n<style scoped>\n    .dataframe tbody tr th:only-of-type {\n        vertical-align: middle;\n    }\n\n    .dataframe tbody tr th {\n        vertical-align: top;\n    }\n\n    .dataframe thead th {\n        text-align: right;\n    }\n</style>\n<table border=\"1\" class=\"dataframe\">\n  <thead>\n    <tr style=\"text-align: right;\">\n      <th></th>\n      <th>ingredient</th>\n      <th>count</th>\n    </tr>\n  </thead>\n  <tbody>\n    <tr>\n      <th>0</th>\n      <td>salt</td>\n      <td>27050</td>\n    </tr>\n    <tr>\n      <th>1</th>\n      <td>water</td>\n      <td>11899</td>\n    </tr>\n    <tr>\n      <th>2</th>\n      <td>garlic</td>\n      <td>11287</td>\n    </tr>\n    <tr>\n      <th>3</th>\n      <td>butter</td>\n      <td>10534</td>\n    </tr>\n    <tr>\n      <th>4</th>\n      <td>onions</td>\n      <td>10008</td>\n    </tr>\n    <tr>\n      <th>5</th>\n      <td>olive oil</td>\n      <td>9889</td>\n    </tr>\n    <tr>\n      <th>6</th>\n      <td>sugar</td>\n      <td>9319</td>\n    </tr>\n    <tr>\n      <th>7</th>\n      <td>garlic cloves</td>\n      <td>7772</td>\n    </tr>\n    <tr>\n      <th>8</th>\n      <td>pepper</td>\n      <td>7080</td>\n    </tr>\n    <tr>\n      <th>9</th>\n      <td>vegetable oil</td>\n      <td>6874</td>\n    </tr>\n    <tr>\n      <th>10</th>\n      <td>white sugar</td>\n      <td>6378</td>\n    </tr>\n    <tr>\n      <th>11</th>\n      <td>ground black pepper</td>\n      <td>5990</td>\n    </tr>\n    <tr>\n      <th>12</th>\n      <td>flour</td>\n      <td>5861</td>\n    </tr>\n    <tr>\n      <th>13</th>\n      <td>allpurpose flour</td>\n      <td>5816</td>\n    </tr>\n    <tr>\n      <th>14</th>\n      <td>milk</td>\n      <td>5618</td>\n    </tr>\n  </tbody>\n</table>\n</div>"
     },
     "metadata": {},
     "execution_count": 10
    }
   ],
   "source": [
    "# create df of unique ingredients and their number of occurances in recipe dfs\n",
    "ingr_count_df = ingredient_count(ingr_s).sort_values('count', ascending=False).reset_index(drop=True)\n",
    "ingr_count_df.head(15)"
   ]
  },
  {
   "cell_type": "markdown",
   "metadata": {},
   "source": [
    "# The long way round..."
   ]
  },
  {
   "cell_type": "code",
   "execution_count": null,
   "metadata": {},
   "outputs": [],
   "source": [
    "## Reset ##\n",
    "\n",
    "# copy ingr df, and remove all ingredients with only a single obseration in the dataset\n",
    "#       (hoping to purge typos and bizarre edge cases)\n",
    "\n",
    "ingr_count_categories = ingr_count_df.copy()\n",
    "ingr_count_categories = ingr_count_categories[ingr_count_categories['count'] >= 2]\n",
    "ingr_count_categories['categories'] = np.empty((len(ingr_count_categories), 0)).tolist()\n",
    "\n",
    "root_ingr_list = []\n"
   ]
  },
  {
   "cell_type": "code",
   "execution_count": 101,
   "metadata": {},
   "outputs": [
    {
     "output_type": "error",
     "ename": "ValueError",
     "evalue": "Lengths must match to compare",
     "traceback": [
      "\u001b[1;31m---------------------------------------------------------------------------\u001b[0m",
      "\u001b[1;31mValueError\u001b[0m                                Traceback (most recent call last)",
      "\u001b[1;32m<ipython-input-101-4c0b200e57fc>\u001b[0m in \u001b[0;36m<module>\u001b[1;34m\u001b[0m\n\u001b[0;32m      1\u001b[0m \u001b[1;31m# make a list of remaining ingredients to begin categorization process\u001b[0m\u001b[1;33m\u001b[0m\u001b[1;33m\u001b[0m\u001b[1;33m\u001b[0m\u001b[0m\n\u001b[1;32m----> 2\u001b[1;33m \u001b[0muncategorized_ingr\u001b[0m \u001b[1;33m=\u001b[0m \u001b[0mingr_count_categories\u001b[0m\u001b[1;33m[\u001b[0m\u001b[0mingr_count_categories\u001b[0m\u001b[1;33m[\u001b[0m\u001b[1;34m'categories'\u001b[0m\u001b[1;33m]\u001b[0m \u001b[1;33m==\u001b[0m \u001b[1;33m[\u001b[0m\u001b[1;33m]\u001b[0m\u001b[1;33m]\u001b[0m\u001b[1;33m\u001b[0m\u001b[1;33m\u001b[0m\u001b[0m\n\u001b[0m\u001b[0;32m      3\u001b[0m \u001b[0mworking_ingr_list\u001b[0m \u001b[1;33m=\u001b[0m \u001b[0mlist\u001b[0m\u001b[1;33m(\u001b[0m\u001b[0muncategorized_ingr\u001b[0m\u001b[1;33m[\u001b[0m\u001b[1;34m'ingredient'\u001b[0m\u001b[1;33m]\u001b[0m\u001b[1;33m)\u001b[0m\u001b[1;33m\u001b[0m\u001b[1;33m\u001b[0m\u001b[0m\n\u001b[0;32m      4\u001b[0m \u001b[0mprint\u001b[0m\u001b[1;33m(\u001b[0m\u001b[0mlen\u001b[0m\u001b[1;33m(\u001b[0m\u001b[0mworking_ingr_list\u001b[0m\u001b[1;33m)\u001b[0m\u001b[1;33m,\u001b[0m \u001b[1;34m'items in working_ingr_list'\u001b[0m\u001b[1;33m)\u001b[0m\u001b[1;33m\u001b[0m\u001b[1;33m\u001b[0m\u001b[0m\n\u001b[0;32m      5\u001b[0m \u001b[0mprint\u001b[0m\u001b[1;33m(\u001b[0m\u001b[1;34m'\\nSnapshot of df remaining uncategorized'\u001b[0m\u001b[1;33m)\u001b[0m\u001b[1;33m\u001b[0m\u001b[1;33m\u001b[0m\u001b[0m\n",
      "\u001b[1;32m~\\Miniconda3\\envs\\MyDish\\lib\\site-packages\\pandas\\core\\ops\\common.py\u001b[0m in \u001b[0;36mnew_method\u001b[1;34m(self, other)\u001b[0m\n\u001b[0;32m     62\u001b[0m         \u001b[0mother\u001b[0m \u001b[1;33m=\u001b[0m \u001b[0mitem_from_zerodim\u001b[0m\u001b[1;33m(\u001b[0m\u001b[0mother\u001b[0m\u001b[1;33m)\u001b[0m\u001b[1;33m\u001b[0m\u001b[1;33m\u001b[0m\u001b[0m\n\u001b[0;32m     63\u001b[0m \u001b[1;33m\u001b[0m\u001b[0m\n\u001b[1;32m---> 64\u001b[1;33m         \u001b[1;32mreturn\u001b[0m \u001b[0mmethod\u001b[0m\u001b[1;33m(\u001b[0m\u001b[0mself\u001b[0m\u001b[1;33m,\u001b[0m \u001b[0mother\u001b[0m\u001b[1;33m)\u001b[0m\u001b[1;33m\u001b[0m\u001b[1;33m\u001b[0m\u001b[0m\n\u001b[0m\u001b[0;32m     65\u001b[0m \u001b[1;33m\u001b[0m\u001b[0m\n\u001b[0;32m     66\u001b[0m     \u001b[1;32mreturn\u001b[0m \u001b[0mnew_method\u001b[0m\u001b[1;33m\u001b[0m\u001b[1;33m\u001b[0m\u001b[0m\n",
      "\u001b[1;32m~\\Miniconda3\\envs\\MyDish\\lib\\site-packages\\pandas\\core\\ops\\__init__.py\u001b[0m in \u001b[0;36mwrapper\u001b[1;34m(self, other)\u001b[0m\n\u001b[0;32m    524\u001b[0m         \u001b[0mrvalues\u001b[0m \u001b[1;33m=\u001b[0m \u001b[0mextract_array\u001b[0m\u001b[1;33m(\u001b[0m\u001b[0mother\u001b[0m\u001b[1;33m,\u001b[0m \u001b[0mextract_numpy\u001b[0m\u001b[1;33m=\u001b[0m\u001b[1;32mTrue\u001b[0m\u001b[1;33m)\u001b[0m\u001b[1;33m\u001b[0m\u001b[1;33m\u001b[0m\u001b[0m\n\u001b[0;32m    525\u001b[0m \u001b[1;33m\u001b[0m\u001b[0m\n\u001b[1;32m--> 526\u001b[1;33m         \u001b[0mres_values\u001b[0m \u001b[1;33m=\u001b[0m \u001b[0mcomparison_op\u001b[0m\u001b[1;33m(\u001b[0m\u001b[0mlvalues\u001b[0m\u001b[1;33m,\u001b[0m \u001b[0mrvalues\u001b[0m\u001b[1;33m,\u001b[0m \u001b[0mop\u001b[0m\u001b[1;33m)\u001b[0m\u001b[1;33m\u001b[0m\u001b[1;33m\u001b[0m\u001b[0m\n\u001b[0m\u001b[0;32m    527\u001b[0m \u001b[1;33m\u001b[0m\u001b[0m\n\u001b[0;32m    528\u001b[0m         \u001b[1;32mreturn\u001b[0m \u001b[0m_construct_result\u001b[0m\u001b[1;33m(\u001b[0m\u001b[0mself\u001b[0m\u001b[1;33m,\u001b[0m \u001b[0mres_values\u001b[0m\u001b[1;33m,\u001b[0m \u001b[0mindex\u001b[0m\u001b[1;33m=\u001b[0m\u001b[0mself\u001b[0m\u001b[1;33m.\u001b[0m\u001b[0mindex\u001b[0m\u001b[1;33m,\u001b[0m \u001b[0mname\u001b[0m\u001b[1;33m=\u001b[0m\u001b[0mres_name\u001b[0m\u001b[1;33m)\u001b[0m\u001b[1;33m\u001b[0m\u001b[1;33m\u001b[0m\u001b[0m\n",
      "\u001b[1;32m~\\Miniconda3\\envs\\MyDish\\lib\\site-packages\\pandas\\core\\ops\\array_ops.py\u001b[0m in \u001b[0;36mcomparison_op\u001b[1;34m(left, right, op)\u001b[0m\n\u001b[0;32m    232\u001b[0m         \u001b[1;31m#  The ambiguous case is object-dtype.  See GH#27803\u001b[0m\u001b[1;33m\u001b[0m\u001b[1;33m\u001b[0m\u001b[1;33m\u001b[0m\u001b[0m\n\u001b[0;32m    233\u001b[0m         \u001b[1;32mif\u001b[0m \u001b[0mlen\u001b[0m\u001b[1;33m(\u001b[0m\u001b[0mlvalues\u001b[0m\u001b[1;33m)\u001b[0m \u001b[1;33m!=\u001b[0m \u001b[0mlen\u001b[0m\u001b[1;33m(\u001b[0m\u001b[0mrvalues\u001b[0m\u001b[1;33m)\u001b[0m\u001b[1;33m:\u001b[0m\u001b[1;33m\u001b[0m\u001b[1;33m\u001b[0m\u001b[0m\n\u001b[1;32m--> 234\u001b[1;33m             \u001b[1;32mraise\u001b[0m \u001b[0mValueError\u001b[0m\u001b[1;33m(\u001b[0m\u001b[1;34m\"Lengths must match to compare\"\u001b[0m\u001b[1;33m)\u001b[0m\u001b[1;33m\u001b[0m\u001b[1;33m\u001b[0m\u001b[0m\n\u001b[0m\u001b[0;32m    235\u001b[0m \u001b[1;33m\u001b[0m\u001b[0m\n\u001b[0;32m    236\u001b[0m     \u001b[1;32mif\u001b[0m \u001b[0mshould_extension_dispatch\u001b[0m\u001b[1;33m(\u001b[0m\u001b[0mlvalues\u001b[0m\u001b[1;33m,\u001b[0m \u001b[0mrvalues\u001b[0m\u001b[1;33m)\u001b[0m\u001b[1;33m:\u001b[0m\u001b[1;33m\u001b[0m\u001b[1;33m\u001b[0m\u001b[0m\n",
      "\u001b[1;31mValueError\u001b[0m: Lengths must match to compare"
     ]
    }
   ],
   "source": [
    "# make a list of remaining ingredients to begin categorization process\n",
    "uncategorized_ingr = ingr_count_categories.loc[(ingr_count_categories['categories'].str.len() == 0), :]\n",
    "working_ingr_list = list(uncategorized_ingr['ingredient'])\n",
    "print(len(working_ingr_list), 'items in working_ingr_list')\n",
    "print('\\nSnapshot of df remaining uncategorized')\n",
    "ingr_count_categories.head()"
   ]
  },
  {
   "cell_type": "code",
   "execution_count": 154,
   "metadata": {},
   "outputs": [],
   "source": [
    "# # Method for removing any single item from category list by word\n",
    "# ingr_categories = ingr_categories.remove('avacado')\n",
    "\n",
    "# # Method for removing any single item from db by index\n",
    "# ingr_count_df_trimmed.drop()"
   ]
  },
  {
   "cell_type": "markdown",
   "metadata": {},
   "source": [
    "## gameplan...\n",
    "\n",
    "### variables -\n",
    "- list of \"unique ingredients\" working through\n",
    "- df with ingredients & their assigned category/categories\n",
    "- list of defined categories\n",
    "\n",
    "### steps -\n",
    "- maintain a list of \"unique\" ingredients\n",
    "  - **ingr_list**\n",
    "- take the root/essence of the first 5 words in df ingr_count_categories\n",
    "  - red potatoes >> potato\n",
    "  - sea salt >> salt\n",
    "  - boiled cabbage >> cabbage\n",
    "  - (etc...)\n",
    "- print a snapshot of the way those words appear in the ingr_list\n",
    "  - potato >> [potatoes, baked potato, etc....]\n",
    "- manually identify any outliers that don't fit the root word\n",
    "  - ...potato chips, ...\n",
    "- list.append root word to df.category wherever that substring correctly appears in the ingredient list\n",
    "  - 93 ---- zucchini ---- 1279 ---- []\n",
    "  - 94 ---- potatoes ---- 1272 ---- \\[potato]\n",
    "  - 95 ---- bay leaf ---- 1264 ---- []\n",
    "  - ...\n",
    "  - 3163 ---- vanilla pudding   ---- 1279 ---- []\n",
    "  - 3164 ---- potato chips      ---- 1272 ---- \\[]\n",
    "  - 3165 ---- halibut steak     ---- 1264 ---- []\n"
   ]
  },
  {
   "cell_type": "code",
   "execution_count": 1710,
   "metadata": {},
   "outputs": [
    {
     "output_type": "stream",
     "name": "stdout",
     "text": "current number of \"root\" ingredient words: 132\nnumber of remaining ingredients in working_ingr_list: 3070 \n\nNext top 10:\n"
    },
    {
     "output_type": "execute_result",
     "data": {
      "text/plain": "['green chilies',\n 'hot sauce',\n 'red pepper flakes',\n 'sauce',\n 'coconut',\n 'red pepper',\n 'mushrooms',\n 'corn',\n 'pecan',\n 'mushroom']"
     },
     "metadata": {},
     "execution_count": 1710
    }
   ],
   "source": [
    "root_ingr_list = sorted(list(set(ingr_count_categories.loc[(ingr_count_categories['categories'].str.len() > 0), :]['categories'])))\n",
    "working_ingr_list = list(ingr_count_categories.loc[(ingr_count_categories['categories'].str.len() == 0), :]['ingredient'])\n",
    "\n",
    "print(f'current number of \"root\" ingredient words: {len(root_ingr_list)}')\n",
    "print(f'number of remaining ingredients in working_ingr_list: {len(working_ingr_list)} \\n\\nNext top 10:')\n",
    "working_ingr_list[0:10]"
   ]
  },
  {
   "cell_type": "code",
   "execution_count": 1711,
   "metadata": {},
   "outputs": [
    {
     "output_type": "execute_result",
     "data": {
      "text/plain": "        word  count\n0      sauce     88\n1      dried     55\n2        mix     49\n3      chile     48\n4  seasoning     48\n5     frozen     45\n6        red     45\n7      paste     45\n8      fresh     44\n9     powder     40",
      "text/html": "<div>\n<style scoped>\n    .dataframe tbody tr th:only-of-type {\n        vertical-align: middle;\n    }\n\n    .dataframe tbody tr th {\n        vertical-align: top;\n    }\n\n    .dataframe thead th {\n        text-align: right;\n    }\n</style>\n<table border=\"1\" class=\"dataframe\">\n  <thead>\n    <tr style=\"text-align: right;\">\n      <th></th>\n      <th>word</th>\n      <th>count</th>\n    </tr>\n  </thead>\n  <tbody>\n    <tr>\n      <th>0</th>\n      <td>sauce</td>\n      <td>88</td>\n    </tr>\n    <tr>\n      <th>1</th>\n      <td>dried</td>\n      <td>55</td>\n    </tr>\n    <tr>\n      <th>2</th>\n      <td>mix</td>\n      <td>49</td>\n    </tr>\n    <tr>\n      <th>3</th>\n      <td>chile</td>\n      <td>48</td>\n    </tr>\n    <tr>\n      <th>4</th>\n      <td>seasoning</td>\n      <td>48</td>\n    </tr>\n    <tr>\n      <th>5</th>\n      <td>frozen</td>\n      <td>45</td>\n    </tr>\n    <tr>\n      <th>6</th>\n      <td>red</td>\n      <td>45</td>\n    </tr>\n    <tr>\n      <th>7</th>\n      <td>paste</td>\n      <td>45</td>\n    </tr>\n    <tr>\n      <th>8</th>\n      <td>fresh</td>\n      <td>44</td>\n    </tr>\n    <tr>\n      <th>9</th>\n      <td>powder</td>\n      <td>40</td>\n    </tr>\n  </tbody>\n</table>\n</div>"
     },
     "metadata": {},
     "execution_count": 1711
    }
   ],
   "source": [
    "all_wrds_list = ' '\n",
    "all_wrds_list = all_wrds_list.join(working_ingr_list)\n",
    "d = dict()\n",
    "\n",
    "for i in all_wrds_list.split():\n",
    "    if i in d:\n",
    "        d[i] = d[i] + 1\n",
    "    else:\n",
    "        d[i] = 1\n",
    "\n",
    "ingr_word_count_df = pd.DataFrame(d.items(), columns=['word', 'count'])\n",
    "ingr_word_count_df = ingr_word_count_df.sort_values('count', ascending=False).reset_index(drop=True)\n",
    "ingr_word_count_df.head(10)"
   ]
  },
  {
   "cell_type": "code",
   "execution_count": 1712,
   "metadata": {},
   "outputs": [
    {
     "output_type": "execute_result",
     "data": {
      "text/plain": "{'applesauce',\n 'avocado',\n 'bacon',\n 'bake',\n 'baking powder',\n 'baking soda',\n 'basil',\n 'bay leaves',\n 'bean',\n 'beef',\n 'beer',\n 'bell pepper',\n 'bread',\n 'bread crumbs',\n 'butter',\n 'cake',\n 'cake mix',\n 'capers',\n 'carrot',\n 'cayenne',\n 'celery',\n 'cheese',\n 'chicken',\n 'chili peppers',\n 'chili powder',\n 'chocolate',\n 'cilantro',\n 'cinnamon',\n 'clove',\n 'cooking spray',\n 'coriander',\n 'corn starch',\n 'corn syrup',\n 'cornbread',\n 'cornflake',\n 'cornmeal',\n 'cornstarch',\n 'cream',\n 'cream cheese',\n 'crushed red pepper',\n 'crust',\n 'cucumber',\n 'cumin',\n 'curry paste',\n 'curry powder',\n 'dough',\n 'egg',\n 'eggplant',\n 'fennel',\n 'fish sauce',\n 'flour',\n 'garam masala',\n 'garlic',\n 'garlic powder',\n 'ginger',\n 'goat',\n 'ground beef',\n 'ham',\n 'hen',\n 'honey',\n 'ice cream',\n 'jalapeno',\n 'juice',\n 'ketchup',\n 'lemon',\n 'lemon juice',\n 'lettuce',\n 'lime',\n 'margarine',\n 'mayonaise',\n 'mayonnaise',\n 'milk',\n 'mozzarella',\n 'mustard',\n 'nutmeg',\n 'oat',\n 'oil',\n 'olive',\n 'onion',\n 'orange',\n 'oregano',\n 'oyster sauce',\n 'paprika',\n 'parmesan',\n 'parsley',\n 'pasta',\n 'pasta sauce',\n 'pastry',\n 'peaches',\n 'pepper',\n 'pineapple',\n 'poppyseed',\n 'pork',\n 'potato',\n 'raisin',\n 'rice',\n 'rosemary',\n 'sake',\n 'salsa',\n 'salt',\n 'sausage',\n 'scallions',\n 'seasoning mix',\n 'sesame',\n 'shallot',\n 'shortening',\n 'shredded cheese',\n 'shrimp',\n 'soup',\n 'sour cream',\n 'soy sauce',\n 'spinach',\n 'steak',\n 'stock/broth',\n 'sugar',\n 'syrup',\n 'thyme',\n 'tomato',\n 'tomato juice',\n 'tomato paste',\n 'tomato sauce',\n 'tortilla',\n 'turmeric',\n 'vanilla',\n 'vinegar',\n 'walnut',\n 'water',\n 'wine',\n 'worcestershire',\n 'yeast',\n 'yogurt',\n 'zucchini'}"
     },
     "metadata": {},
     "execution_count": 1712
    }
   ],
   "source": [
    "ingr_set"
   ]
  },
  {
   "cell_type": "code",
   "execution_count": 1713,
   "metadata": {},
   "outputs": [
    {
     "output_type": "execute_result",
     "data": {
      "text/plain": "['corn',\n 'apple',\n 'saffron threads',\n 'pinenuts',\n 'pie',\n 'green chile',\n 'fresh dill',\n 'cauliflower',\n 'green cabbage',\n 'coconut']"
     },
     "metadata": {},
     "execution_count": 1713
    }
   ],
   "source": [
    "ingr0_wordlist[0:10]"
   ]
  },
  {
   "cell_type": "code",
   "execution_count": 1714,
   "metadata": {},
   "outputs": [],
   "source": [
    "search_root_word = 'raisin'\n",
    "new_root_category = ''\n",
    "\n",
    "if new_root_category == '':\n",
    "    new_root_category = search_root_word"
   ]
  },
  {
   "cell_type": "code",
   "execution_count": 1715,
   "metadata": {},
   "outputs": [],
   "source": [
    "# make a view of applicable ingredients with their index numbers\n",
    "trimmed_df = ingr_count_categories.loc[(ingr_count_categories['categories'].str.len() == 0), :]\n",
    "subject_ingr_df = trimmed_df[trimmed_df['ingredient'].str.contains(search_root_word)]\n",
    "for i in subject_ingr_df.index:\n",
    "    print(f\"{i}: {list(subject_ingr_df.loc[i, ['ingredient']])[0]}\")"
   ]
  },
  {
   "cell_type": "code",
   "execution_count": 1716,
   "metadata": {},
   "outputs": [
    {
     "output_type": "stream",
     "name": "stdout",
     "text": "[]\n"
    }
   ],
   "source": [
    "# to manually copy/paste/edit what items we don't want included in the category\n",
    "subject_ingr_indxs = list(subject_ingr_df.index)\n",
    "print(subject_ingr_indxs)"
   ]
  },
  {
   "cell_type": "code",
   "execution_count": 1717,
   "metadata": {},
   "outputs": [],
   "source": [
    "# comb through indexes and remove inaccurate indexes for that \"category\"\n",
    "\n",
    "# # method for replacing categories\n",
    "# indx_trim = ingr_count_categories.loc[(ingr_count_categories.categories == 'corn meal'), :].index\n",
    "# new_root_category = 'replacement val'\n",
    "\n",
    "# if all returns were acceptable:\n",
    "indx_trim = subject_ingr_indxs.copy()\n",
    "\n",
    "# if list of indexes needs to be curated:\n",
    "# indx_trim = [359, 581, 871, 909, 1151, 1273, 1474, 1480, 1567, 1858, 2047, 2199, 2497, 2543, 2619, 2650, 2801, 3038, 3139, 3217, 3313, 3629, 3840, 4001, 4125, 4304, 4308, 4450, 4584, 4650, 4807, 4870, 4874, 4882, 4998, 5136, 5334, 5406, 5512]"
   ]
  },
  {
   "cell_type": "code",
   "execution_count": 1718,
   "metadata": {},
   "outputs": [
    {
     "output_type": "execute_result",
     "data": {
      "text/plain": "         ingredient  count categories\n196         raisins    595     raisin\n226          raisin    534     raisin\n384  golden raisins    291     raisin",
      "text/html": "<div>\n<style scoped>\n    .dataframe tbody tr th:only-of-type {\n        vertical-align: middle;\n    }\n\n    .dataframe tbody tr th {\n        vertical-align: top;\n    }\n\n    .dataframe thead th {\n        text-align: right;\n    }\n</style>\n<table border=\"1\" class=\"dataframe\">\n  <thead>\n    <tr style=\"text-align: right;\">\n      <th></th>\n      <th>ingredient</th>\n      <th>count</th>\n      <th>categories</th>\n    </tr>\n  </thead>\n  <tbody>\n    <tr>\n      <th>196</th>\n      <td>raisins</td>\n      <td>595</td>\n      <td>raisin</td>\n    </tr>\n    <tr>\n      <th>226</th>\n      <td>raisin</td>\n      <td>534</td>\n      <td>raisin</td>\n    </tr>\n    <tr>\n      <th>384</th>\n      <td>golden raisins</td>\n      <td>291</td>\n      <td>raisin</td>\n    </tr>\n  </tbody>\n</table>\n</div>"
     },
     "metadata": {},
     "execution_count": 1718
    }
   ],
   "source": [
    "# apply new category label to remaining indexes in ingr_count_categories dataframe\n",
    "ingr_count_categories.loc[indx_trim, ['categories']] = new_root_category\n",
    "\n",
    "# quick peek at the updated categoriezed df\n",
    "ingr_count_categories[ingr_count_categories['categories'] == new_root_category].head(5)"
   ]
  },
  {
   "cell_type": "code",
   "execution_count": 1719,
   "metadata": {},
   "outputs": [],
   "source": [
    "# create new working_ingr_list with uncategorized ingredients and start over\n",
    "uncategorized_ingr = ingr_count_categories.loc[(ingr_count_categories['categories'].str.len() == 0), :]\n",
    "working_ingr_list = list(uncategorized_ingr['ingredient'])"
   ]
  },
  {
   "cell_type": "code",
   "execution_count": 1720,
   "metadata": {},
   "outputs": [],
   "source": [
    "# save categorized df, just in case a crash happens!!!\n",
    "ingr_count_categories.to_csv('categorized_ingr2.csv', index=False)"
   ]
  },
  {
   "cell_type": "code",
   "execution_count": 1721,
   "metadata": {},
   "outputs": [
    {
     "output_type": "stream",
     "name": "stdout",
     "text": "percent of total ingr count missing a \"root ingr\" value: 0.18103970054410795\n\n\"unique\" ingr remaining: 0.5550533357439884\n"
    }
   ],
   "source": [
    "# snapshot of work still to be done:\n",
    "total_ingr_count = sum(ingr_count_categories['count'])\n",
    "missing_root_ingr = ingr_count_categories.loc[(ingr_count_categories['categories'].str.len() == 0), :]\n",
    "perc_missing_root = sum(missing_root_ingr['count'])/total_ingr_count\n",
    "\n",
    "print(f'percent of total ingr count missing a \"root ingr\" value: {perc_missing_root}\\n')\n",
    "print(f'\"unique\" ingr remaining: {len(working_ingr_list)/len(ingr_count_categories)}')"
   ]
  },
  {
   "cell_type": "code",
   "execution_count": 1722,
   "metadata": {},
   "outputs": [],
   "source": [
    "ingr_set = set(ingr_count_categories.loc[(ingr_count_categories['categories'].str.len() > 0)].categories)"
   ]
  },
  {
   "cell_type": "code",
   "execution_count": 1705,
   "metadata": {},
   "outputs": [],
   "source": [
    "\n",
    "\n",
    "\n",
    "\n",
    "\n",
    "\n",
    "\n",
    ""
   ]
  },
  {
   "cell_type": "code",
   "execution_count": 1723,
   "metadata": {},
   "outputs": [
    {
     "output_type": "execute_result",
     "data": {
      "text/plain": "  ingr_0 ingr_1         ingr_2         ingr_3      ingr_4         ingr_5  \\\n0  yeast  water    white sugar           salt         egg         butter   \n1  flour   salt  baking powder          poppy      butter  vegetable oil   \n2  flour    egg    white sugar  vegetable oil  applesauce         raisin   \n\n     ingr_6       ingr_7         ingr_8      ingr_9  ... ingr_55 ingr_56  \\\n0     flour       butter            NaN         NaN  ...     NaN     NaN   \n1       egg         milk    white sugar     vanilla  ...     NaN     NaN   \n2  cinnamon  baking soda  baking powder  sour cream  ...     NaN     NaN   \n\n  ingr_57 ingr_58 ingr_59 ingr_60 ingr_61 ingr_62 ingr_63 ingr_64  \n0     NaN     NaN     NaN     NaN     NaN     NaN     NaN     NaN  \n1     NaN     NaN     NaN     NaN     NaN     NaN     NaN     NaN  \n2     NaN     NaN     NaN     NaN     NaN     NaN     NaN     NaN  \n\n[3 rows x 65 columns]",
      "text/html": "<div>\n<style scoped>\n    .dataframe tbody tr th:only-of-type {\n        vertical-align: middle;\n    }\n\n    .dataframe tbody tr th {\n        vertical-align: top;\n    }\n\n    .dataframe thead th {\n        text-align: right;\n    }\n</style>\n<table border=\"1\" class=\"dataframe\">\n  <thead>\n    <tr style=\"text-align: right;\">\n      <th></th>\n      <th>ingr_0</th>\n      <th>ingr_1</th>\n      <th>ingr_2</th>\n      <th>ingr_3</th>\n      <th>ingr_4</th>\n      <th>ingr_5</th>\n      <th>ingr_6</th>\n      <th>ingr_7</th>\n      <th>ingr_8</th>\n      <th>ingr_9</th>\n      <th>...</th>\n      <th>ingr_55</th>\n      <th>ingr_56</th>\n      <th>ingr_57</th>\n      <th>ingr_58</th>\n      <th>ingr_59</th>\n      <th>ingr_60</th>\n      <th>ingr_61</th>\n      <th>ingr_62</th>\n      <th>ingr_63</th>\n      <th>ingr_64</th>\n    </tr>\n  </thead>\n  <tbody>\n    <tr>\n      <th>0</th>\n      <td>yeast</td>\n      <td>water</td>\n      <td>white sugar</td>\n      <td>salt</td>\n      <td>egg</td>\n      <td>butter</td>\n      <td>flour</td>\n      <td>butter</td>\n      <td>NaN</td>\n      <td>NaN</td>\n      <td>...</td>\n      <td>NaN</td>\n      <td>NaN</td>\n      <td>NaN</td>\n      <td>NaN</td>\n      <td>NaN</td>\n      <td>NaN</td>\n      <td>NaN</td>\n      <td>NaN</td>\n      <td>NaN</td>\n      <td>NaN</td>\n    </tr>\n    <tr>\n      <th>1</th>\n      <td>flour</td>\n      <td>salt</td>\n      <td>baking powder</td>\n      <td>poppy</td>\n      <td>butter</td>\n      <td>vegetable oil</td>\n      <td>egg</td>\n      <td>milk</td>\n      <td>white sugar</td>\n      <td>vanilla</td>\n      <td>...</td>\n      <td>NaN</td>\n      <td>NaN</td>\n      <td>NaN</td>\n      <td>NaN</td>\n      <td>NaN</td>\n      <td>NaN</td>\n      <td>NaN</td>\n      <td>NaN</td>\n      <td>NaN</td>\n      <td>NaN</td>\n    </tr>\n    <tr>\n      <th>2</th>\n      <td>flour</td>\n      <td>egg</td>\n      <td>white sugar</td>\n      <td>vegetable oil</td>\n      <td>applesauce</td>\n      <td>raisin</td>\n      <td>cinnamon</td>\n      <td>baking soda</td>\n      <td>baking powder</td>\n      <td>sour cream</td>\n      <td>...</td>\n      <td>NaN</td>\n      <td>NaN</td>\n      <td>NaN</td>\n      <td>NaN</td>\n      <td>NaN</td>\n      <td>NaN</td>\n      <td>NaN</td>\n      <td>NaN</td>\n      <td>NaN</td>\n      <td>NaN</td>\n    </tr>\n  </tbody>\n</table>\n<p>3 rows × 65 columns</p>\n</div>"
     },
     "metadata": {},
     "execution_count": 1723
    }
   ],
   "source": [
    "#  get a rough idea what the progress is ---\n",
    "checking_df = ingr_count_categories.copy()\n",
    "testing_df = ingr_s.apply(pd.Series)\n",
    "testing_df = testing_df.rename(columns = lambda x: 'ingr_' + str(x))\n",
    "testing_df.head(3)"
   ]
  },
  {
   "cell_type": "code",
   "execution_count": 1307,
   "metadata": {},
   "outputs": [],
   "source": [
    "# testing_df[testing_df['ingr_0'] == 'bake']"
   ]
  },
  {
   "cell_type": "code",
   "execution_count": 1724,
   "metadata": {},
   "outputs": [],
   "source": [
    "# create a dictionary pairing original values and their root ingr value\n",
    "ingr_keys = list(ingr_count_categories['ingredient'])\n",
    "ingr_vals = list(ingr_count_categories['categories'])\n",
    "\n",
    "ingr_dict = {ingr_keys[i]: ingr_vals[i] for i in range(len(ingr_keys))} "
   ]
  },
  {
   "cell_type": "code",
   "execution_count": 1725,
   "metadata": {},
   "outputs": [
    {
     "output_type": "execute_result",
     "data": {
      "text/plain": "  ingr_0         ingr_1         ingr_2     ingr_3      ingr_4  ingr_5  \\\n0  yeast          water          sugar       salt         egg  butter   \n1  flour           salt  baking powder  poppyseed      butter     oil   \n2  flour            egg          sugar        oil  applesauce  raisin   \n3  flour  baking powder    baking soda       salt    cinnamon  nutmeg   \n4    oat           milk            oil        egg       sugar   flour   \n\n          ingr_6       ingr_7         ingr_8      ingr_9  ... ingr_55 ingr_56  \\\n0          flour       butter            NaN         NaN  ...     NaN     NaN   \n1            egg         milk          sugar     vanilla  ...     NaN     NaN   \n2       cinnamon  baking soda  baking powder  sour cream  ...     NaN     NaN   \n3          sugar          oat            NaN      walnut  ...     NaN     NaN   \n4  baking powder  baking soda           salt         NaN  ...     NaN     NaN   \n\n  ingr_57 ingr_58 ingr_59 ingr_60 ingr_61 ingr_62 ingr_63 ingr_64  \n0     NaN     NaN     NaN     NaN     NaN     NaN     NaN     NaN  \n1     NaN     NaN     NaN     NaN     NaN     NaN     NaN     NaN  \n2     NaN     NaN     NaN     NaN     NaN     NaN     NaN     NaN  \n3     NaN     NaN     NaN     NaN     NaN     NaN     NaN     NaN  \n4     NaN     NaN     NaN     NaN     NaN     NaN     NaN     NaN  \n\n[5 rows x 65 columns]",
      "text/html": "<div>\n<style scoped>\n    .dataframe tbody tr th:only-of-type {\n        vertical-align: middle;\n    }\n\n    .dataframe tbody tr th {\n        vertical-align: top;\n    }\n\n    .dataframe thead th {\n        text-align: right;\n    }\n</style>\n<table border=\"1\" class=\"dataframe\">\n  <thead>\n    <tr style=\"text-align: right;\">\n      <th></th>\n      <th>ingr_0</th>\n      <th>ingr_1</th>\n      <th>ingr_2</th>\n      <th>ingr_3</th>\n      <th>ingr_4</th>\n      <th>ingr_5</th>\n      <th>ingr_6</th>\n      <th>ingr_7</th>\n      <th>ingr_8</th>\n      <th>ingr_9</th>\n      <th>...</th>\n      <th>ingr_55</th>\n      <th>ingr_56</th>\n      <th>ingr_57</th>\n      <th>ingr_58</th>\n      <th>ingr_59</th>\n      <th>ingr_60</th>\n      <th>ingr_61</th>\n      <th>ingr_62</th>\n      <th>ingr_63</th>\n      <th>ingr_64</th>\n    </tr>\n  </thead>\n  <tbody>\n    <tr>\n      <th>0</th>\n      <td>yeast</td>\n      <td>water</td>\n      <td>sugar</td>\n      <td>salt</td>\n      <td>egg</td>\n      <td>butter</td>\n      <td>flour</td>\n      <td>butter</td>\n      <td>NaN</td>\n      <td>NaN</td>\n      <td>...</td>\n      <td>NaN</td>\n      <td>NaN</td>\n      <td>NaN</td>\n      <td>NaN</td>\n      <td>NaN</td>\n      <td>NaN</td>\n      <td>NaN</td>\n      <td>NaN</td>\n      <td>NaN</td>\n      <td>NaN</td>\n    </tr>\n    <tr>\n      <th>1</th>\n      <td>flour</td>\n      <td>salt</td>\n      <td>baking powder</td>\n      <td>poppyseed</td>\n      <td>butter</td>\n      <td>oil</td>\n      <td>egg</td>\n      <td>milk</td>\n      <td>sugar</td>\n      <td>vanilla</td>\n      <td>...</td>\n      <td>NaN</td>\n      <td>NaN</td>\n      <td>NaN</td>\n      <td>NaN</td>\n      <td>NaN</td>\n      <td>NaN</td>\n      <td>NaN</td>\n      <td>NaN</td>\n      <td>NaN</td>\n      <td>NaN</td>\n    </tr>\n    <tr>\n      <th>2</th>\n      <td>flour</td>\n      <td>egg</td>\n      <td>sugar</td>\n      <td>oil</td>\n      <td>applesauce</td>\n      <td>raisin</td>\n      <td>cinnamon</td>\n      <td>baking soda</td>\n      <td>baking powder</td>\n      <td>sour cream</td>\n      <td>...</td>\n      <td>NaN</td>\n      <td>NaN</td>\n      <td>NaN</td>\n      <td>NaN</td>\n      <td>NaN</td>\n      <td>NaN</td>\n      <td>NaN</td>\n      <td>NaN</td>\n      <td>NaN</td>\n      <td>NaN</td>\n    </tr>\n    <tr>\n      <th>3</th>\n      <td>flour</td>\n      <td>baking powder</td>\n      <td>baking soda</td>\n      <td>salt</td>\n      <td>cinnamon</td>\n      <td>nutmeg</td>\n      <td>sugar</td>\n      <td>oat</td>\n      <td>NaN</td>\n      <td>walnut</td>\n      <td>...</td>\n      <td>NaN</td>\n      <td>NaN</td>\n      <td>NaN</td>\n      <td>NaN</td>\n      <td>NaN</td>\n      <td>NaN</td>\n      <td>NaN</td>\n      <td>NaN</td>\n      <td>NaN</td>\n      <td>NaN</td>\n    </tr>\n    <tr>\n      <th>4</th>\n      <td>oat</td>\n      <td>milk</td>\n      <td>oil</td>\n      <td>egg</td>\n      <td>sugar</td>\n      <td>flour</td>\n      <td>baking powder</td>\n      <td>baking soda</td>\n      <td>salt</td>\n      <td>NaN</td>\n      <td>...</td>\n      <td>NaN</td>\n      <td>NaN</td>\n      <td>NaN</td>\n      <td>NaN</td>\n      <td>NaN</td>\n      <td>NaN</td>\n      <td>NaN</td>\n      <td>NaN</td>\n      <td>NaN</td>\n      <td>NaN</td>\n    </tr>\n  </tbody>\n</table>\n<p>5 rows × 65 columns</p>\n</div>"
     },
     "metadata": {},
     "execution_count": 1725
    }
   ],
   "source": [
    "# replace values in modeling df with replace vals\n",
    "#   *** mapping dict vals is only available with pd.Series, stack >> map >> unstack as workaround\n",
    "testing_sub_df = testing_df.copy()\n",
    "testing_sub_df = testing_sub_df.stack().map(ingr_dict).unstack()\n",
    "testing_sub_df = testing_sub_df.stack().apply(lambda y: np.nan if len(y)==0 else y).unstack()\n",
    "testing_sub_df.head()"
   ]
  },
  {
   "cell_type": "code",
   "execution_count": 1730,
   "metadata": {},
   "outputs": [
    {
     "output_type": "execute_result",
     "data": {
      "text/plain": "ingr_0     10892\ningr_1     11707\ningr_2     11843\ningr_3     12715\ningr_4     14498\ningr_5     17364\ningr_6     21260\ningr_7     25944\ningr_8     30589\ningr_9     35496\ningr_10    40293\ningr_11    44611\ningr_12    48302\ningr_13    51431\ningr_14    53972\ningr_15    56008\ningr_16    57697\ningr_17    58941\ningr_18    59905\ningr_19    60554\ningr_20    61051\ningr_21    61353\ningr_22    61589\ningr_23    61729\ningr_24    61824\ndtype: int64"
     },
     "metadata": {},
     "execution_count": 1730
    }
   ],
   "source": [
    "testing_sub_df.isna().sum().head(25)"
   ]
  },
  {
   "cell_type": "code",
   "execution_count": 1726,
   "metadata": {},
   "outputs": [
    {
     "output_type": "execute_result",
     "data": {
      "text/plain": "77               berry\n78              cereal\n80               apple\n105         baking mix\n118          blueberry\n             ...      \n62047      red lentils\n62050    raspberry jam\n62059    yellow squash\n62063      cauliflower\n62065        hot sauce\nName: ingr_0, Length: 10892, dtype: object"
     },
     "metadata": {},
     "execution_count": 1726
    }
   ],
   "source": [
    "ingr_0_list = testing_df.iloc[testing_sub_df[testing_sub_df['ingr_0'].isna()].index]['ingr_0']\n",
    "ingr_0_list"
   ]
  },
  {
   "cell_type": "code",
   "execution_count": 1727,
   "metadata": {},
   "outputs": [
    {
     "output_type": "execute_result",
     "data": {
      "text/plain": "               word  count\n0              corn    122\n1             apple     97\n2   saffron threads     90\n3          pinenuts     89\n4               pie     82\n5       green chile     81\n6        fresh dill     79\n7       cauliflower     75\n8     green cabbage     73\n9           coconut     72\n10            roast     70\n11        cranberry     69\n12     tomato purée     68\n13          pumpkin     65\n14       lemongrass     63",
      "text/html": "<div>\n<style scoped>\n    .dataframe tbody tr th:only-of-type {\n        vertical-align: middle;\n    }\n\n    .dataframe tbody tr th {\n        vertical-align: top;\n    }\n\n    .dataframe thead th {\n        text-align: right;\n    }\n</style>\n<table border=\"1\" class=\"dataframe\">\n  <thead>\n    <tr style=\"text-align: right;\">\n      <th></th>\n      <th>word</th>\n      <th>count</th>\n    </tr>\n  </thead>\n  <tbody>\n    <tr>\n      <th>0</th>\n      <td>corn</td>\n      <td>122</td>\n    </tr>\n    <tr>\n      <th>1</th>\n      <td>apple</td>\n      <td>97</td>\n    </tr>\n    <tr>\n      <th>2</th>\n      <td>saffron threads</td>\n      <td>90</td>\n    </tr>\n    <tr>\n      <th>3</th>\n      <td>pinenuts</td>\n      <td>89</td>\n    </tr>\n    <tr>\n      <th>4</th>\n      <td>pie</td>\n      <td>82</td>\n    </tr>\n    <tr>\n      <th>5</th>\n      <td>green chile</td>\n      <td>81</td>\n    </tr>\n    <tr>\n      <th>6</th>\n      <td>fresh dill</td>\n      <td>79</td>\n    </tr>\n    <tr>\n      <th>7</th>\n      <td>cauliflower</td>\n      <td>75</td>\n    </tr>\n    <tr>\n      <th>8</th>\n      <td>green cabbage</td>\n      <td>73</td>\n    </tr>\n    <tr>\n      <th>9</th>\n      <td>coconut</td>\n      <td>72</td>\n    </tr>\n    <tr>\n      <th>10</th>\n      <td>roast</td>\n      <td>70</td>\n    </tr>\n    <tr>\n      <th>11</th>\n      <td>cranberry</td>\n      <td>69</td>\n    </tr>\n    <tr>\n      <th>12</th>\n      <td>tomato purée</td>\n      <td>68</td>\n    </tr>\n    <tr>\n      <th>13</th>\n      <td>pumpkin</td>\n      <td>65</td>\n    </tr>\n    <tr>\n      <th>14</th>\n      <td>lemongrass</td>\n      <td>63</td>\n    </tr>\n  </tbody>\n</table>\n</div>"
     },
     "metadata": {},
     "execution_count": 1727
    }
   ],
   "source": [
    "ingr_0_list = testing_df.iloc[testing_sub_df[testing_sub_df['ingr_0'].isna()].index]['ingr_0']\n",
    "\n",
    "d = dict()\n",
    "\n",
    "for i in ingr_0_list:\n",
    "    if i in d:\n",
    "        d[i] = d[i] + 1\n",
    "    else:\n",
    "        d[i] = 1\n",
    "\n",
    "ingr0_word_df = pd.DataFrame(d.items(), columns=['word', 'count'])\n",
    "ingr0_word_df = ingr0_word_df.sort_values('count', ascending=False).reset_index(drop=True)\n",
    "ingr0_wordlist = list(ingr0_word_df['word'])\n",
    "ingr0_word_df.head(15)"
   ]
  },
  {
   "cell_type": "code",
   "execution_count": 207,
   "metadata": {},
   "outputs": [
    {
     "data": {
      "text/html": "<div>\n<style scoped>\n    .dataframe tbody tr th:only-of-type {\n        vertical-align: middle;\n    }\n\n    .dataframe tbody tr th {\n        vertical-align: top;\n    }\n\n    .dataframe thead th {\n        text-align: right;\n    }\n</style>\n<table border=\"1\" class=\"dataframe\">\n  <thead>\n    <tr style=\"text-align: right;\">\n      <th></th>\n      <th>ingr_0</th>\n      <th>ingr_1</th>\n      <th>ingr_2</th>\n      <th>ingr_3</th>\n      <th>ingr_4</th>\n      <th>ingr_5</th>\n      <th>ingr_6</th>\n      <th>ingr_7</th>\n      <th>ingr_8</th>\n      <th>ingr_9</th>\n      <th>...</th>\n      <th>ingr_55</th>\n      <th>ingr_56</th>\n      <th>ingr_57</th>\n      <th>ingr_58</th>\n      <th>ingr_59</th>\n      <th>ingr_60</th>\n      <th>ingr_61</th>\n      <th>ingr_62</th>\n      <th>ingr_63</th>\n      <th>ingr_64</th>\n    </tr>\n  </thead>\n  <tbody>\n    <tr>\n      <th>0</th>\n      <td>yeast</td>\n      <td>water</td>\n      <td>white sugar</td>\n      <td>salt</td>\n      <td>egg</td>\n      <td>butter</td>\n      <td>flour</td>\n      <td>butter</td>\n      <td>NaN</td>\n      <td>NaN</td>\n      <td>...</td>\n      <td>NaN</td>\n      <td>NaN</td>\n      <td>NaN</td>\n      <td>NaN</td>\n      <td>NaN</td>\n      <td>NaN</td>\n      <td>NaN</td>\n      <td>NaN</td>\n      <td>NaN</td>\n      <td>NaN</td>\n    </tr>\n    <tr>\n      <th>1</th>\n      <td>flour</td>\n      <td>salt</td>\n      <td>baking powder</td>\n      <td>poppy</td>\n      <td>butter</td>\n      <td>vegetable oil</td>\n      <td>egg</td>\n      <td>milk</td>\n      <td>white sugar</td>\n      <td>vanilla</td>\n      <td>...</td>\n      <td>NaN</td>\n      <td>NaN</td>\n      <td>NaN</td>\n      <td>NaN</td>\n      <td>NaN</td>\n      <td>NaN</td>\n      <td>NaN</td>\n      <td>NaN</td>\n      <td>NaN</td>\n      <td>NaN</td>\n    </tr>\n    <tr>\n      <th>2</th>\n      <td>flour</td>\n      <td>egg</td>\n      <td>white sugar</td>\n      <td>vegetable oil</td>\n      <td>applesauce</td>\n      <td>raisin</td>\n      <td>cinnamon</td>\n      <td>baking soda</td>\n      <td>baking powder</td>\n      <td>sour cream</td>\n      <td>...</td>\n      <td>NaN</td>\n      <td>NaN</td>\n      <td>NaN</td>\n      <td>NaN</td>\n      <td>NaN</td>\n      <td>NaN</td>\n      <td>NaN</td>\n      <td>NaN</td>\n      <td>NaN</td>\n      <td>NaN</td>\n    </tr>\n    <tr>\n      <th>3</th>\n      <td>flour</td>\n      <td>baking powder</td>\n      <td>baking soda</td>\n      <td>salt</td>\n      <td>cinnamon</td>\n      <td>nutmeg</td>\n      <td>brown sugar</td>\n      <td>oat</td>\n      <td>apple</td>\n      <td>walnut</td>\n      <td>...</td>\n      <td>NaN</td>\n      <td>NaN</td>\n      <td>NaN</td>\n      <td>NaN</td>\n      <td>NaN</td>\n      <td>NaN</td>\n      <td>NaN</td>\n      <td>NaN</td>\n      <td>NaN</td>\n      <td>NaN</td>\n    </tr>\n    <tr>\n      <th>4</th>\n      <td>oat</td>\n      <td>buttermilk</td>\n      <td>vegetable oil</td>\n      <td>egg</td>\n      <td>brown sugar</td>\n      <td>flour</td>\n      <td>baking powder</td>\n      <td>baking soda</td>\n      <td>salt</td>\n      <td>NaN</td>\n      <td>...</td>\n      <td>NaN</td>\n      <td>NaN</td>\n      <td>NaN</td>\n      <td>NaN</td>\n      <td>NaN</td>\n      <td>NaN</td>\n      <td>NaN</td>\n      <td>NaN</td>\n      <td>NaN</td>\n      <td>NaN</td>\n    </tr>\n    <tr>\n      <th>5</th>\n      <td>shortening</td>\n      <td>white sugar</td>\n      <td>salt</td>\n      <td>milk</td>\n      <td>egg</td>\n      <td>lemon</td>\n      <td>yeast</td>\n      <td>flour</td>\n      <td>fruit</td>\n      <td>NaN</td>\n      <td>...</td>\n      <td>NaN</td>\n      <td>NaN</td>\n      <td>NaN</td>\n      <td>NaN</td>\n      <td>NaN</td>\n      <td>NaN</td>\n      <td>NaN</td>\n      <td>NaN</td>\n      <td>NaN</td>\n      <td>NaN</td>\n    </tr>\n    <tr>\n      <th>6</th>\n      <td>shortening</td>\n      <td>water</td>\n      <td>brown sugar</td>\n      <td>yeast</td>\n      <td>water</td>\n      <td>white sugar</td>\n      <td>salt</td>\n      <td>bread</td>\n      <td>whole wheat</td>\n      <td>NaN</td>\n      <td>...</td>\n      <td>NaN</td>\n      <td>NaN</td>\n      <td>NaN</td>\n      <td>NaN</td>\n      <td>NaN</td>\n      <td>NaN</td>\n      <td>NaN</td>\n      <td>NaN</td>\n      <td>NaN</td>\n      <td>NaN</td>\n    </tr>\n    <tr>\n      <th>7</th>\n      <td>water</td>\n      <td>cottage cheese</td>\n      <td>vegetable oil</td>\n      <td>egg</td>\n      <td>flour</td>\n      <td>white sugar</td>\n      <td>baking soda</td>\n      <td>salt</td>\n      <td>yeast</td>\n      <td>NaN</td>\n      <td>...</td>\n      <td>NaN</td>\n      <td>NaN</td>\n      <td>NaN</td>\n      <td>NaN</td>\n      <td>NaN</td>\n      <td>NaN</td>\n      <td>NaN</td>\n      <td>NaN</td>\n      <td>NaN</td>\n      <td>NaN</td>\n    </tr>\n    <tr>\n      <th>8</th>\n      <td>margarine</td>\n      <td>white sugar</td>\n      <td>egg</td>\n      <td>banana</td>\n      <td>coffee</td>\n      <td>water</td>\n      <td>vanilla</td>\n      <td>flour</td>\n      <td>salt</td>\n      <td>baking powder</td>\n      <td>...</td>\n      <td>NaN</td>\n      <td>NaN</td>\n      <td>NaN</td>\n      <td>NaN</td>\n      <td>NaN</td>\n      <td>NaN</td>\n      <td>NaN</td>\n      <td>NaN</td>\n      <td>NaN</td>\n      <td>NaN</td>\n    </tr>\n    <tr>\n      <th>9</th>\n      <td>cornmeal</td>\n      <td>milk</td>\n      <td>egg</td>\n      <td>bell pepper</td>\n      <td>onion</td>\n      <td>garlic</td>\n      <td>salt</td>\n      <td>baking soda</td>\n      <td>white sugar</td>\n      <td>corn</td>\n      <td>...</td>\n      <td>NaN</td>\n      <td>NaN</td>\n      <td>NaN</td>\n      <td>NaN</td>\n      <td>NaN</td>\n      <td>NaN</td>\n      <td>NaN</td>\n      <td>NaN</td>\n      <td>NaN</td>\n      <td>NaN</td>\n    </tr>\n  </tbody>\n</table>\n<p>10 rows × 65 columns</p>\n</div>",
      "text/plain": "       ingr_0          ingr_1         ingr_2         ingr_3       ingr_4  \\\n0       yeast           water    white sugar           salt          egg   \n1       flour            salt  baking powder          poppy       butter   \n2       flour             egg    white sugar  vegetable oil   applesauce   \n3       flour   baking powder    baking soda           salt     cinnamon   \n4         oat      buttermilk  vegetable oil            egg  brown sugar   \n5  shortening     white sugar           salt           milk          egg   \n6  shortening           water    brown sugar          yeast        water   \n7       water  cottage cheese  vegetable oil            egg        flour   \n8   margarine     white sugar            egg         banana       coffee   \n9    cornmeal            milk            egg    bell pepper        onion   \n\n          ingr_5         ingr_6       ingr_7         ingr_8         ingr_9  \\\n0         butter          flour       butter            NaN            NaN   \n1  vegetable oil            egg         milk    white sugar        vanilla   \n2         raisin       cinnamon  baking soda  baking powder     sour cream   \n3         nutmeg    brown sugar          oat          apple         walnut   \n4          flour  baking powder  baking soda           salt            NaN   \n5          lemon          yeast        flour          fruit            NaN   \n6    white sugar           salt        bread    whole wheat            NaN   \n7    white sugar    baking soda         salt          yeast            NaN   \n8          water        vanilla        flour           salt  baking powder   \n9         garlic           salt  baking soda    white sugar           corn   \n\n   ... ingr_55 ingr_56 ingr_57 ingr_58 ingr_59 ingr_60 ingr_61 ingr_62  \\\n0  ...     NaN     NaN     NaN     NaN     NaN     NaN     NaN     NaN   \n1  ...     NaN     NaN     NaN     NaN     NaN     NaN     NaN     NaN   \n2  ...     NaN     NaN     NaN     NaN     NaN     NaN     NaN     NaN   \n3  ...     NaN     NaN     NaN     NaN     NaN     NaN     NaN     NaN   \n4  ...     NaN     NaN     NaN     NaN     NaN     NaN     NaN     NaN   \n5  ...     NaN     NaN     NaN     NaN     NaN     NaN     NaN     NaN   \n6  ...     NaN     NaN     NaN     NaN     NaN     NaN     NaN     NaN   \n7  ...     NaN     NaN     NaN     NaN     NaN     NaN     NaN     NaN   \n8  ...     NaN     NaN     NaN     NaN     NaN     NaN     NaN     NaN   \n9  ...     NaN     NaN     NaN     NaN     NaN     NaN     NaN     NaN   \n\n  ingr_63 ingr_64  \n0     NaN     NaN  \n1     NaN     NaN  \n2     NaN     NaN  \n3     NaN     NaN  \n4     NaN     NaN  \n5     NaN     NaN  \n6     NaN     NaN  \n7     NaN     NaN  \n8     NaN     NaN  \n9     NaN     NaN  \n\n[10 rows x 65 columns]"
     },
     "execution_count": 207,
     "metadata": {},
     "output_type": "execute_result"
    }
   ],
   "source": [
    "modeling_df = ingr_s.apply(pd.Series)\n",
    "modeling_df = modeling_df.rename(columns = lambda x: 'ingr_' + str(x))\n",
    "modeling_df.head(10)"
   ]
  },
  {
   "cell_type": "code",
   "execution_count": 208,
   "metadata": {},
   "outputs": [
    {
     "data": {
      "text/plain": "ingr_0      0.000000\ningr_1      0.069278\ningr_2      0.667000\ningr_3      2.571332\ningr_4      6.173774\ningr_5     11.951216\ningr_6     19.618489\ningr_7     28.648762\ningr_8     38.076979\ningr_9     47.830640\ningr_10    57.033302\ningr_11    65.470686\ningr_12    72.807682\ningr_13    78.997567\ningr_14    84.048398\ningr_15    87.987562\ningr_16    91.190449\ningr_17    93.689281\ningr_18    95.559780\ningr_19    96.872835\ningr_20    97.902334\ningr_21    98.538723\ningr_22    98.980167\ningr_23    99.284667\ningr_24    99.487667\ndtype: float64"
     },
     "execution_count": 208,
     "metadata": {},
     "output_type": "execute_result"
    }
   ],
   "source": [
    "(modeling_df.isnull().mean() * 100).head(25)"
   ]
  },
  {
   "cell_type": "code",
   "execution_count": 209,
   "metadata": {},
   "outputs": [
    {
     "data": {
      "text/html": "<div>\n<style scoped>\n    .dataframe tbody tr th:only-of-type {\n        vertical-align: middle;\n    }\n\n    .dataframe tbody tr th {\n        vertical-align: top;\n    }\n\n    .dataframe thead th {\n        text-align: right;\n    }\n</style>\n<table border=\"1\" class=\"dataframe\">\n  <thead>\n    <tr style=\"text-align: right;\">\n      <th></th>\n      <th>ingr_0</th>\n      <th>ingr_1</th>\n      <th>ingr_2</th>\n      <th>ingr_3</th>\n      <th>ingr_4</th>\n      <th>ingr_5</th>\n      <th>ingr_6</th>\n      <th>ingr_7</th>\n      <th>ingr_8</th>\n      <th>ingr_9</th>\n      <th>...</th>\n      <th>ingr_55</th>\n      <th>ingr_56</th>\n      <th>ingr_57</th>\n      <th>ingr_58</th>\n      <th>ingr_59</th>\n      <th>ingr_60</th>\n      <th>ingr_61</th>\n      <th>ingr_62</th>\n      <th>ingr_63</th>\n      <th>ingr_64</th>\n    </tr>\n  </thead>\n  <tbody>\n    <tr>\n      <th>0</th>\n      <td>yeast</td>\n      <td>water</td>\n      <td>white sugar</td>\n      <td>salt</td>\n      <td>egg</td>\n      <td>butter</td>\n      <td>flour</td>\n      <td>butter</td>\n      <td></td>\n      <td></td>\n      <td>...</td>\n      <td></td>\n      <td></td>\n      <td></td>\n      <td></td>\n      <td></td>\n      <td></td>\n      <td></td>\n      <td></td>\n      <td></td>\n      <td></td>\n    </tr>\n    <tr>\n      <th>1</th>\n      <td>flour</td>\n      <td>salt</td>\n      <td>baking powder</td>\n      <td>poppy</td>\n      <td>butter</td>\n      <td>vegetable oil</td>\n      <td>egg</td>\n      <td>milk</td>\n      <td>white sugar</td>\n      <td>vanilla</td>\n      <td>...</td>\n      <td></td>\n      <td></td>\n      <td></td>\n      <td></td>\n      <td></td>\n      <td></td>\n      <td></td>\n      <td></td>\n      <td></td>\n      <td></td>\n    </tr>\n    <tr>\n      <th>2</th>\n      <td>flour</td>\n      <td>egg</td>\n      <td>white sugar</td>\n      <td>vegetable oil</td>\n      <td>applesauce</td>\n      <td>raisin</td>\n      <td>cinnamon</td>\n      <td>baking soda</td>\n      <td>baking powder</td>\n      <td>sour cream</td>\n      <td>...</td>\n      <td></td>\n      <td></td>\n      <td></td>\n      <td></td>\n      <td></td>\n      <td></td>\n      <td></td>\n      <td></td>\n      <td></td>\n      <td></td>\n    </tr>\n    <tr>\n      <th>3</th>\n      <td>flour</td>\n      <td>baking powder</td>\n      <td>baking soda</td>\n      <td>salt</td>\n      <td>cinnamon</td>\n      <td>nutmeg</td>\n      <td>brown sugar</td>\n      <td>oat</td>\n      <td>apple</td>\n      <td>walnut</td>\n      <td>...</td>\n      <td></td>\n      <td></td>\n      <td></td>\n      <td></td>\n      <td></td>\n      <td></td>\n      <td></td>\n      <td></td>\n      <td></td>\n      <td></td>\n    </tr>\n    <tr>\n      <th>4</th>\n      <td>oat</td>\n      <td>buttermilk</td>\n      <td>vegetable oil</td>\n      <td>egg</td>\n      <td>brown sugar</td>\n      <td>flour</td>\n      <td>baking powder</td>\n      <td>baking soda</td>\n      <td>salt</td>\n      <td></td>\n      <td>...</td>\n      <td></td>\n      <td></td>\n      <td></td>\n      <td></td>\n      <td></td>\n      <td></td>\n      <td></td>\n      <td></td>\n      <td></td>\n      <td></td>\n    </tr>\n  </tbody>\n</table>\n<p>5 rows × 65 columns</p>\n</div>",
      "text/plain": "  ingr_0         ingr_1         ingr_2         ingr_3       ingr_4  \\\n0  yeast          water    white sugar           salt          egg   \n1  flour           salt  baking powder          poppy       butter   \n2  flour            egg    white sugar  vegetable oil   applesauce   \n3  flour  baking powder    baking soda           salt     cinnamon   \n4    oat     buttermilk  vegetable oil            egg  brown sugar   \n\n          ingr_5         ingr_6       ingr_7         ingr_8      ingr_9  ...  \\\n0         butter          flour       butter                             ...   \n1  vegetable oil            egg         milk    white sugar     vanilla  ...   \n2         raisin       cinnamon  baking soda  baking powder  sour cream  ...   \n3         nutmeg    brown sugar          oat          apple      walnut  ...   \n4          flour  baking powder  baking soda           salt              ...   \n\n  ingr_55 ingr_56 ingr_57 ingr_58 ingr_59 ingr_60 ingr_61 ingr_62 ingr_63  \\\n0                                                                           \n1                                                                           \n2                                                                           \n3                                                                           \n4                                                                           \n\n  ingr_64  \n0          \n1          \n2          \n3          \n4          \n\n[5 rows x 65 columns]"
     },
     "execution_count": 209,
     "metadata": {},
     "output_type": "execute_result"
    }
   ],
   "source": [
    "modeling_df = modeling_df.replace(np.nan, '', regex=True)\n",
    "modeling_df.head()"
   ]
  },
  {
   "cell_type": "code",
   "execution_count": 210,
   "metadata": {},
   "outputs": [],
   "source": [
    "ingr_int = {ingr:i for i, ingr in enumerate(ingr_count_df['ingredient'])}\n",
    "int_ingr = {i:ingr for i, ingr in enumerate(ingr_count_df['ingredient'])}"
   ]
  },
  {
   "cell_type": "code",
   "execution_count": 211,
   "metadata": {},
   "outputs": [
    {
     "name": "stdout",
     "output_type": "stream",
     "text": "(62069, 65)\n"
    },
    {
     "data": {
      "text/html": "<div>\n<style scoped>\n    .dataframe tbody tr th:only-of-type {\n        vertical-align: middle;\n    }\n\n    .dataframe tbody tr th {\n        vertical-align: top;\n    }\n\n    .dataframe thead th {\n        text-align: right;\n    }\n</style>\n<table border=\"1\" class=\"dataframe\">\n  <thead>\n    <tr style=\"text-align: right;\">\n      <th></th>\n      <th>ingr_0</th>\n      <th>ingr_1</th>\n      <th>ingr_2</th>\n      <th>ingr_3</th>\n      <th>ingr_4</th>\n      <th>ingr_5</th>\n      <th>ingr_6</th>\n      <th>ingr_7</th>\n      <th>ingr_8</th>\n      <th>ingr_9</th>\n      <th>...</th>\n      <th>ingr_55</th>\n      <th>ingr_56</th>\n      <th>ingr_57</th>\n      <th>ingr_58</th>\n      <th>ingr_59</th>\n      <th>ingr_60</th>\n      <th>ingr_61</th>\n      <th>ingr_62</th>\n      <th>ingr_63</th>\n      <th>ingr_64</th>\n    </tr>\n  </thead>\n  <tbody>\n    <tr>\n      <th>0</th>\n      <td>352</td>\n      <td>1</td>\n      <td>10</td>\n      <td>0</td>\n      <td>15</td>\n      <td>3</td>\n      <td>12</td>\n      <td>3</td>\n      <td>4232</td>\n      <td>4232</td>\n      <td>...</td>\n      <td>4232</td>\n      <td>4232</td>\n      <td>4232</td>\n      <td>4232</td>\n      <td>4232</td>\n      <td>4232</td>\n      <td>4232</td>\n      <td>4232</td>\n      <td>4232</td>\n      <td>4232</td>\n    </tr>\n    <tr>\n      <th>1</th>\n      <td>12</td>\n      <td>0</td>\n      <td>27</td>\n      <td>1089</td>\n      <td>3</td>\n      <td>9</td>\n      <td>15</td>\n      <td>14</td>\n      <td>10</td>\n      <td>25</td>\n      <td>...</td>\n      <td>4232</td>\n      <td>4232</td>\n      <td>4232</td>\n      <td>4232</td>\n      <td>4232</td>\n      <td>4232</td>\n      <td>4232</td>\n      <td>4232</td>\n      <td>4232</td>\n      <td>4232</td>\n    </tr>\n    <tr>\n      <th>2</th>\n      <td>12</td>\n      <td>15</td>\n      <td>10</td>\n      <td>9</td>\n      <td>679</td>\n      <td>226</td>\n      <td>44</td>\n      <td>35</td>\n      <td>27</td>\n      <td>31</td>\n      <td>...</td>\n      <td>4232</td>\n      <td>4232</td>\n      <td>4232</td>\n      <td>4232</td>\n      <td>4232</td>\n      <td>4232</td>\n      <td>4232</td>\n      <td>4232</td>\n      <td>4232</td>\n      <td>4232</td>\n    </tr>\n    <tr>\n      <th>3</th>\n      <td>12</td>\n      <td>27</td>\n      <td>35</td>\n      <td>0</td>\n      <td>44</td>\n      <td>131</td>\n      <td>24</td>\n      <td>278</td>\n      <td>253</td>\n      <td>122</td>\n      <td>...</td>\n      <td>4232</td>\n      <td>4232</td>\n      <td>4232</td>\n      <td>4232</td>\n      <td>4232</td>\n      <td>4232</td>\n      <td>4232</td>\n      <td>4232</td>\n      <td>4232</td>\n      <td>4232</td>\n    </tr>\n    <tr>\n      <th>4</th>\n      <td>278</td>\n      <td>90</td>\n      <td>9</td>\n      <td>15</td>\n      <td>24</td>\n      <td>12</td>\n      <td>27</td>\n      <td>35</td>\n      <td>0</td>\n      <td>4232</td>\n      <td>...</td>\n      <td>4232</td>\n      <td>4232</td>\n      <td>4232</td>\n      <td>4232</td>\n      <td>4232</td>\n      <td>4232</td>\n      <td>4232</td>\n      <td>4232</td>\n      <td>4232</td>\n      <td>4232</td>\n    </tr>\n  </tbody>\n</table>\n<p>5 rows × 65 columns</p>\n</div>",
      "text/plain": "   ingr_0  ingr_1  ingr_2  ingr_3  ingr_4  ingr_5  ingr_6  ingr_7  ingr_8  \\\n0     352       1      10       0      15       3      12       3    4232   \n1      12       0      27    1089       3       9      15      14      10   \n2      12      15      10       9     679     226      44      35      27   \n3      12      27      35       0      44     131      24     278     253   \n4     278      90       9      15      24      12      27      35       0   \n\n   ingr_9  ...  ingr_55  ingr_56  ingr_57  ingr_58  ingr_59  ingr_60  ingr_61  \\\n0    4232  ...     4232     4232     4232     4232     4232     4232     4232   \n1      25  ...     4232     4232     4232     4232     4232     4232     4232   \n2      31  ...     4232     4232     4232     4232     4232     4232     4232   \n3     122  ...     4232     4232     4232     4232     4232     4232     4232   \n4    4232  ...     4232     4232     4232     4232     4232     4232     4232   \n\n   ingr_62  ingr_63  ingr_64  \n0     4232     4232     4232  \n1     4232     4232     4232  \n2     4232     4232     4232  \n3     4232     4232     4232  \n4     4232     4232     4232  \n\n[5 rows x 65 columns]"
     },
     "execution_count": 211,
     "metadata": {},
     "output_type": "execute_result"
    }
   ],
   "source": [
    "# convert ingredients to numeric representations\n",
    "encoded_df = modeling_df.applymap(ingr_int.get)\n",
    "print(encoded_df.shape)\n",
    "encoded_df.head()"
   ]
  },
  {
   "cell_type": "code",
   "execution_count": 212,
   "metadata": {},
   "outputs": [
    {
     "name": "stdout",
     "output_type": "stream",
     "text": "(54227, 65)\n"
    },
    {
     "data": {
      "text/html": "<div>\n<style scoped>\n    .dataframe tbody tr th:only-of-type {\n        vertical-align: middle;\n    }\n\n    .dataframe tbody tr th {\n        vertical-align: top;\n    }\n\n    .dataframe thead th {\n        text-align: right;\n    }\n</style>\n<table border=\"1\" class=\"dataframe\">\n  <thead>\n    <tr style=\"text-align: right;\">\n      <th></th>\n      <th>ingr_0</th>\n      <th>ingr_1</th>\n      <th>ingr_2</th>\n      <th>ingr_3</th>\n      <th>ingr_4</th>\n      <th>ingr_5</th>\n      <th>ingr_6</th>\n      <th>ingr_7</th>\n      <th>ingr_8</th>\n      <th>ingr_9</th>\n      <th>...</th>\n      <th>ingr_55</th>\n      <th>ingr_56</th>\n      <th>ingr_57</th>\n      <th>ingr_58</th>\n      <th>ingr_59</th>\n      <th>ingr_60</th>\n      <th>ingr_61</th>\n      <th>ingr_62</th>\n      <th>ingr_63</th>\n      <th>ingr_64</th>\n    </tr>\n  </thead>\n  <tbody>\n    <tr>\n      <th>0</th>\n      <td>352</td>\n      <td>1</td>\n      <td>10</td>\n      <td>0</td>\n      <td>15</td>\n      <td>3</td>\n      <td>12</td>\n      <td>3</td>\n      <td>4232</td>\n      <td>4232</td>\n      <td>...</td>\n      <td>4232</td>\n      <td>4232</td>\n      <td>4232</td>\n      <td>4232</td>\n      <td>4232</td>\n      <td>4232</td>\n      <td>4232</td>\n      <td>4232</td>\n      <td>4232</td>\n      <td>4232</td>\n    </tr>\n    <tr>\n      <th>1</th>\n      <td>12</td>\n      <td>0</td>\n      <td>27</td>\n      <td>1089</td>\n      <td>3</td>\n      <td>9</td>\n      <td>15</td>\n      <td>14</td>\n      <td>10</td>\n      <td>25</td>\n      <td>...</td>\n      <td>4232</td>\n      <td>4232</td>\n      <td>4232</td>\n      <td>4232</td>\n      <td>4232</td>\n      <td>4232</td>\n      <td>4232</td>\n      <td>4232</td>\n      <td>4232</td>\n      <td>4232</td>\n    </tr>\n    <tr>\n      <th>2</th>\n      <td>12</td>\n      <td>15</td>\n      <td>10</td>\n      <td>9</td>\n      <td>679</td>\n      <td>226</td>\n      <td>44</td>\n      <td>35</td>\n      <td>27</td>\n      <td>31</td>\n      <td>...</td>\n      <td>4232</td>\n      <td>4232</td>\n      <td>4232</td>\n      <td>4232</td>\n      <td>4232</td>\n      <td>4232</td>\n      <td>4232</td>\n      <td>4232</td>\n      <td>4232</td>\n      <td>4232</td>\n    </tr>\n    <tr>\n      <th>3</th>\n      <td>12</td>\n      <td>27</td>\n      <td>35</td>\n      <td>0</td>\n      <td>44</td>\n      <td>131</td>\n      <td>24</td>\n      <td>278</td>\n      <td>253</td>\n      <td>122</td>\n      <td>...</td>\n      <td>4232</td>\n      <td>4232</td>\n      <td>4232</td>\n      <td>4232</td>\n      <td>4232</td>\n      <td>4232</td>\n      <td>4232</td>\n      <td>4232</td>\n      <td>4232</td>\n      <td>4232</td>\n    </tr>\n    <tr>\n      <th>4</th>\n      <td>278</td>\n      <td>90</td>\n      <td>9</td>\n      <td>15</td>\n      <td>24</td>\n      <td>12</td>\n      <td>27</td>\n      <td>35</td>\n      <td>0</td>\n      <td>4232</td>\n      <td>...</td>\n      <td>4232</td>\n      <td>4232</td>\n      <td>4232</td>\n      <td>4232</td>\n      <td>4232</td>\n      <td>4232</td>\n      <td>4232</td>\n      <td>4232</td>\n      <td>4232</td>\n      <td>4232</td>\n    </tr>\n  </tbody>\n</table>\n<p>5 rows × 65 columns</p>\n</div>",
      "text/plain": "   ingr_0  ingr_1  ingr_2  ingr_3  ingr_4  ingr_5  ingr_6  ingr_7  ingr_8  \\\n0     352       1      10       0      15       3      12       3    4232   \n1      12       0      27    1089       3       9      15      14      10   \n2      12      15      10       9     679     226      44      35      27   \n3      12      27      35       0      44     131      24     278     253   \n4     278      90       9      15      24      12      27      35       0   \n\n   ingr_9  ...  ingr_55  ingr_56  ingr_57  ingr_58  ingr_59  ingr_60  ingr_61  \\\n0    4232  ...     4232     4232     4232     4232     4232     4232     4232   \n1      25  ...     4232     4232     4232     4232     4232     4232     4232   \n2      31  ...     4232     4232     4232     4232     4232     4232     4232   \n3     122  ...     4232     4232     4232     4232     4232     4232     4232   \n4    4232  ...     4232     4232     4232     4232     4232     4232     4232   \n\n   ingr_62  ingr_63  ingr_64  \n0     4232     4232     4232  \n1     4232     4232     4232  \n2     4232     4232     4232  \n3     4232     4232     4232  \n4     4232     4232     4232  \n\n[5 rows x 65 columns]"
     },
     "execution_count": 212,
     "metadata": {},
     "output_type": "execute_result"
    }
   ],
   "source": [
    "# drop all recipes that have fewer than 5 ingredients\n",
    "encoded_df = encoded_df[encoded_df['ingr_5'] < 4232]\n",
    "encoded_df.reset_index(drop=True)\n",
    "print(encoded_df.shape)\n",
    "encoded_df.head()"
   ]
  },
  {
   "cell_type": "code",
   "execution_count": 213,
   "metadata": {},
   "outputs": [
    {
     "data": {
      "text/html": "<div>\n<style scoped>\n    .dataframe tbody tr th:only-of-type {\n        vertical-align: middle;\n    }\n\n    .dataframe tbody tr th {\n        vertical-align: top;\n    }\n\n    .dataframe thead th {\n        text-align: right;\n    }\n</style>\n<table border=\"1\" class=\"dataframe\">\n  <thead>\n    <tr style=\"text-align: right;\">\n      <th></th>\n      <th>ingr_0</th>\n      <th>ingr_1</th>\n      <th>ingr_2</th>\n      <th>ingr_3</th>\n      <th>ingr_4</th>\n      <th>ingr_5</th>\n      <th>ingr_6</th>\n      <th>ingr_7</th>\n      <th>ingr_8</th>\n      <th>ingr_9</th>\n      <th>...</th>\n      <th>ingr_55</th>\n      <th>ingr_56</th>\n      <th>ingr_57</th>\n      <th>ingr_58</th>\n      <th>ingr_59</th>\n      <th>ingr_60</th>\n      <th>ingr_61</th>\n      <th>ingr_62</th>\n      <th>ingr_63</th>\n      <th>ingr_64</th>\n    </tr>\n  </thead>\n  <tbody>\n    <tr>\n      <th>0</th>\n      <td>352</td>\n      <td>1</td>\n      <td>10</td>\n      <td>0</td>\n      <td>15</td>\n      <td>3</td>\n      <td>12</td>\n      <td>3</td>\n      <td>4232</td>\n      <td>4232</td>\n      <td>...</td>\n      <td>4232</td>\n      <td>4232</td>\n      <td>4232</td>\n      <td>4232</td>\n      <td>4232</td>\n      <td>4232</td>\n      <td>4232</td>\n      <td>4232</td>\n      <td>4232</td>\n      <td>4232</td>\n    </tr>\n    <tr>\n      <th>1</th>\n      <td>12</td>\n      <td>0</td>\n      <td>27</td>\n      <td>1089</td>\n      <td>3</td>\n      <td>9</td>\n      <td>15</td>\n      <td>14</td>\n      <td>10</td>\n      <td>25</td>\n      <td>...</td>\n      <td>4232</td>\n      <td>4232</td>\n      <td>4232</td>\n      <td>4232</td>\n      <td>4232</td>\n      <td>4232</td>\n      <td>4232</td>\n      <td>4232</td>\n      <td>4232</td>\n      <td>4232</td>\n    </tr>\n    <tr>\n      <th>2</th>\n      <td>12</td>\n      <td>15</td>\n      <td>10</td>\n      <td>9</td>\n      <td>679</td>\n      <td>226</td>\n      <td>44</td>\n      <td>35</td>\n      <td>27</td>\n      <td>31</td>\n      <td>...</td>\n      <td>4232</td>\n      <td>4232</td>\n      <td>4232</td>\n      <td>4232</td>\n      <td>4232</td>\n      <td>4232</td>\n      <td>4232</td>\n      <td>4232</td>\n      <td>4232</td>\n      <td>4232</td>\n    </tr>\n    <tr>\n      <th>3</th>\n      <td>12</td>\n      <td>27</td>\n      <td>35</td>\n      <td>0</td>\n      <td>44</td>\n      <td>131</td>\n      <td>24</td>\n      <td>278</td>\n      <td>253</td>\n      <td>122</td>\n      <td>...</td>\n      <td>4232</td>\n      <td>4232</td>\n      <td>4232</td>\n      <td>4232</td>\n      <td>4232</td>\n      <td>4232</td>\n      <td>4232</td>\n      <td>4232</td>\n      <td>4232</td>\n      <td>4232</td>\n    </tr>\n    <tr>\n      <th>4</th>\n      <td>278</td>\n      <td>90</td>\n      <td>9</td>\n      <td>15</td>\n      <td>24</td>\n      <td>12</td>\n      <td>27</td>\n      <td>35</td>\n      <td>0</td>\n      <td>4232</td>\n      <td>...</td>\n      <td>4232</td>\n      <td>4232</td>\n      <td>4232</td>\n      <td>4232</td>\n      <td>4232</td>\n      <td>4232</td>\n      <td>4232</td>\n      <td>4232</td>\n      <td>4232</td>\n      <td>4232</td>\n    </tr>\n  </tbody>\n</table>\n<p>5 rows × 65 columns</p>\n</div>",
      "text/plain": "   ingr_0  ingr_1  ingr_2  ingr_3  ingr_4  ingr_5  ingr_6  ingr_7  ingr_8  \\\n0     352       1      10       0      15       3      12       3    4232   \n1      12       0      27    1089       3       9      15      14      10   \n2      12      15      10       9     679     226      44      35      27   \n3      12      27      35       0      44     131      24     278     253   \n4     278      90       9      15      24      12      27      35       0   \n\n   ingr_9  ...  ingr_55  ingr_56  ingr_57  ingr_58  ingr_59  ingr_60  ingr_61  \\\n0    4232  ...     4232     4232     4232     4232     4232     4232     4232   \n1      25  ...     4232     4232     4232     4232     4232     4232     4232   \n2      31  ...     4232     4232     4232     4232     4232     4232     4232   \n3     122  ...     4232     4232     4232     4232     4232     4232     4232   \n4    4232  ...     4232     4232     4232     4232     4232     4232     4232   \n\n   ingr_62  ingr_63  ingr_64  \n0     4232     4232     4232  \n1     4232     4232     4232  \n2     4232     4232     4232  \n3     4232     4232     4232  \n4     4232     4232     4232  \n\n[5 rows x 65 columns]"
     },
     "execution_count": 213,
     "metadata": {},
     "output_type": "execute_result"
    }
   ],
   "source": [
    "derp_df = encoded_df.iloc[0:5]\n",
    "derp_df"
   ]
  },
  {
   "cell_type": "code",
   "execution_count": 214,
   "metadata": {},
   "outputs": [
    {
     "name": "stdout",
     "output_type": "stream",
     "text": "(54226, 65)\n"
    }
   ],
   "source": [
    "encoded_df = encoded_df[encoded_df['ingr_59'] == 4232]\n",
    "print(encoded_df.shape)"
   ]
  },
  {
   "cell_type": "code",
   "execution_count": 215,
   "metadata": {},
   "outputs": [],
   "source": [
    "def create_rec_sequences(recipe_row):\n",
    "\n",
    "    # take length of row & create length 5 lists that can be added to sequences[]\n",
    "    \n",
    "    counter = 0\n",
    "\n",
    "    r_list = []\n",
    "    next_ingr = []\n",
    "    \n",
    "    for counter in range(0, len(recipe_row), 3):\n",
    "        if recipe_row[counter + 5] == 4232:\n",
    "            return r_list, next_ingr\n",
    "        r_list.append(recipe_row[counter:counter+5])\n",
    "        next_ingr.append(recipe_row[counter + 5])"
   ]
  },
  {
   "cell_type": "code",
   "execution_count": 216,
   "metadata": {},
   "outputs": [
    {
     "name": "stdout",
     "output_type": "stream",
     "text": "[ingr_0    352\ningr_1      1\ningr_2     10\ningr_3      0\ningr_4     15\nName: 0, dtype: int64, ingr_0      12\ningr_1       0\ningr_2      27\ningr_3    1089\ningr_4       3\nName: 1, dtype: int64, ingr_3    1089\ningr_4       3\ningr_5       9\ningr_6      15\ningr_7      14\nName: 1, dtype: int64, ingr_6      15\ningr_7      14\ningr_8      10\ningr_9      25\ningr_10    204\nName: 1, dtype: int64, ingr_9      25\ningr_10    204\ningr_11    146\ningr_12      3\ningr_13    204\nName: 1, dtype: int64, ingr_0     12\ningr_1     15\ningr_2     10\ningr_3      9\ningr_4    679\nName: 2, dtype: int64, ingr_3      9\ningr_4    679\ningr_5    226\ningr_6     44\ningr_7     35\nName: 2, dtype: int64, ingr_0    12\ningr_1    27\ningr_2    35\ningr_3     0\ningr_4    44\nName: 3, dtype: int64, ingr_3      0\ningr_4     44\ningr_5    131\ningr_6     24\ningr_7    278\nName: 3, dtype: int64, ingr_6      24\ningr_7     278\ningr_8     253\ningr_9     122\ningr_10    226\nName: 3, dtype: int64, ingr_0    278\ningr_1     90\ningr_2      9\ningr_3     15\ningr_4     24\nName: 4, dtype: int64, ingr_3    15\ningr_4    24\ningr_5    12\ningr_6    27\ningr_7    35\nName: 4, dtype: int64] [3, 9, 10, 146, 25, 226, 27, 131, 253, 15, 12, 0]\n"
    }
   ],
   "source": [
    "#  create list of sequences for 5 item lists\n",
    "#  i.e. sequences[0] = [352, 1, 10, 0, 15]\n",
    "#       sequences[1] = [1, 10, 0, 15, 3]\n",
    "\n",
    "# testing grounds!\n",
    "sequences = []\n",
    "next_ingr = []\n",
    "\n",
    "for row in range(0, len(derp_df)):\n",
    "    derpen = derp_df.iloc[row]\n",
    "\n",
    "    seq_to_add, next_to_add = create_rec_sequences(derpen)\n",
    "    \n",
    "    for seq in seq_to_add:\n",
    "        sequences.append(seq)\n",
    "    \n",
    "    for nxt in next_to_add:\n",
    "        next_ingr.append(nxt)\n",
    "        \n",
    "\n",
    "print(sequences, next_ingr)"
   ]
  },
  {
   "cell_type": "code",
   "execution_count": 217,
   "metadata": {},
   "outputs": [
    {
     "name": "stdout",
     "output_type": "stream",
     "text": "ingr_0    352\ningr_1      1\ningr_2     10\ningr_3      0\ningr_4     15\nName: 0, dtype: int64 \n 3\ningr_0      12\ningr_1       0\ningr_2      27\ningr_3    1089\ningr_4       3\nName: 1, dtype: int64 \n 9\ningr_3    1089\ningr_4       3\ningr_5       9\ningr_6      15\ningr_7      14\nName: 1, dtype: int64 \n 10\ningr_6      15\ningr_7      14\ningr_8      10\ningr_9      25\ningr_10    204\nName: 1, dtype: int64 \n 146\ningr_9      25\ningr_10    204\ningr_11    146\ningr_12      3\ningr_13    204\nName: 1, dtype: int64 \n 25\ningr_0     12\ningr_1     15\ningr_2     10\ningr_3      9\ningr_4    679\nName: 2, dtype: int64 \n 226\ningr_3      9\ningr_4    679\ningr_5    226\ningr_6     44\ningr_7     35\nName: 2, dtype: int64 \n 27\ningr_0    12\ningr_1    27\ningr_2    35\ningr_3     0\ningr_4    44\nName: 3, dtype: int64 \n 131\ningr_3      0\ningr_4     44\ningr_5    131\ningr_6     24\ningr_7    278\nName: 3, dtype: int64 \n 253\ningr_6      24\ningr_7     278\ningr_8     253\ningr_9     122\ningr_10    226\nName: 3, dtype: int64 \n 15\n"
    }
   ],
   "source": [
    "sequences = []\n",
    "next_ingr = []\n",
    "\n",
    "for row in range(0, len(encoded_df)):\n",
    "    \n",
    "    ingr_list = encoded_df.iloc[row]\n",
    "    seq_to_add, next_to_add = create_rec_sequences(ingr_list)\n",
    "\n",
    "    for seq in seq_to_add:\n",
    "        sequences.append(seq)\n",
    "    for nxt in next_to_add:\n",
    "        next_ingr.append(nxt)\n",
    "\n",
    "for i in range(0, 10):\n",
    "    print(sequences[i], '\\n', next_ingr[i])\n"
   ]
  },
  {
   "cell_type": "code",
   "execution_count": 218,
   "metadata": {},
   "outputs": [
    {
     "name": "stdout",
     "output_type": "stream",
     "text": "\n sequences: 129423 \n next_ingredients: 129423\n"
    }
   ],
   "source": [
    "print('\\n sequences:', len(sequences), '\\n', 'next_ingredients:', len(next_ingr))"
   ]
  },
  {
   "cell_type": "code",
   "execution_count": 219,
   "metadata": {},
   "outputs": [],
   "source": [
    "max_pred_length = 10"
   ]
  },
  {
   "cell_type": "code",
   "execution_count": 220,
   "metadata": {},
   "outputs": [],
   "source": [
    "x = np.zeros((len(sequences), max_pred_length, len(ingr_count_df)), dtype=np.bool)\n",
    "y = np.zeros((len(sequences), len(ingr_count_df)), dtype=np.bool)\n",
    "\n",
    "for i, sequence in enumerate(sequences):\n",
    "    for t, ingr in enumerate(sequence):\n",
    "        x[i,t,ingr] = 1\n",
    "    \n",
    "    y[i, next_ingr[i]] = 1"
   ]
  },
  {
   "cell_type": "code",
   "execution_count": 221,
   "metadata": {},
   "outputs": [
    {
     "name": "stdout",
     "output_type": "stream",
     "text": "(129423, 10, 7631)\n(129423, 7631)\n"
    }
   ],
   "source": [
    "print(x.shape)\n",
    "print(y.shape)"
   ]
  },
  {
   "cell_type": "code",
   "execution_count": 222,
   "metadata": {},
   "outputs": [],
   "source": [
    "model = Sequential()\n",
    "model.add(LSTM(128, input_shape=(max_pred_length, len(ingr_count_df))))\n",
    "model.add(Dense(len(ingr_count_df), activation='softmax'))\n",
    "\n",
    "model.compile(loss='categorical_crossentropy', optimizer='nadam')"
   ]
  },
  {
   "cell_type": "code",
   "execution_count": 223,
   "metadata": {},
   "outputs": [
    {
     "name": "stdout",
     "output_type": "stream",
     "text": "Train on 129423 samples\nEpoch 1/5\n129423/129423 [==============================] - 421s 3ms/sample - loss: 6.4722\nEpoch 2/5\n129423/129423 [==============================] - 419s 3ms/sample - loss: 6.0842\nEpoch 3/5\n129423/129423 [==============================] - 432s 3ms/sample - loss: 5.8086\nEpoch 4/5\n129423/129423 [==============================] - 444s 3ms/sample - loss: 5.6051\nEpoch 5/5\n129423/129423 [==============================] - 439s 3ms/sample - loss: 5.4651\n"
    },
    {
     "data": {
      "text/plain": "<tensorflow.python.keras.callbacks.History at 0x192aa7b9888>"
     },
     "execution_count": 223,
     "metadata": {},
     "output_type": "execute_result"
    }
   ],
   "source": [
    "model.fit(x, y,\n",
    "          batch_size=128,\n",
    "          epochs=5)"
   ]
  },
  {
   "cell_type": "code",
   "execution_count": 224,
   "metadata": {},
   "outputs": [
    {
     "name": "stdout",
     "output_type": "stream",
     "text": "WARNING:tensorflow:From C:\\Users\\RevL\\Miniconda3\\envs\\MyDish\\lib\\site-packages\\tensorflow_core\\python\\ops\\resource_variable_ops.py:1786: calling BaseResourceVariable.__init__ (from tensorflow.python.ops.resource_variable_ops) with constraint is deprecated and will be removed in a future version.\nInstructions for updating:\nIf using Keras pass *_constraint arguments to layers.\nINFO:tensorflow:Assets written to: ingr_pred_model.pkl\\assets\n"
    }
   ],
   "source": [
    "model.save('ingr_pred_model.pkl')"
   ]
  },
  {
   "cell_type": "code",
   "execution_count": 225,
   "metadata": {},
   "outputs": [],
   "source": [
    "import json\n",
    "with open('ingr_int.json', 'w') as fp:\n",
    "    json.dump(ingr_int, fp)\n",
    "\n",
    "with open('int_ingr.json', 'w') as fp:\n",
    "    json.dump(int_ingr, fp)"
   ]
  },
  {
   "cell_type": "code",
   "execution_count": 30,
   "metadata": {},
   "outputs": [],
   "source": [
    "ingr_names = [ingr_int.keys()]"
   ]
  },
  {
   "cell_type": "code",
   "execution_count": 31,
   "metadata": {},
   "outputs": [],
   "source": [
    "def sample(preds, temperature=1.0):\n",
    "    # helper function to sample an index from a probability array\n",
    "    preds = np.asarray(preds).astype('float64')\n",
    "    preds = np.log(preds) / temperature\n",
    "    exp_preds = np.exp(preds)\n",
    "    preds = exp_preds / np.sum(exp_preds)\n",
    "    probas = np.random.multinomial(1, preds, 1)\n",
    "    return np.argmax(probas)"
   ]
  },
  {
   "cell_type": "code",
   "execution_count": 33,
   "metadata": {},
   "outputs": [
    {
     "name": "stdout",
     "output_type": "stream",
     "text": "{'vanilla extract', 'sugar', 'active dry yeast', 'hot water', 'coconut milk', 'baking powder', 'yellow chives', 'white sugar', 'flour', 'cream cheese', 'water', 'salt', 'milk', 'steak sauce', 'carrot', 'nutmeg', 'unsalted butter', 'lemon juice', 'egg', 'baking soda'}\n"
    }
   ],
   "source": [
    "known_ingr = ['peanut butter', 'flour', 'sugar', 'eggs', 'chocolate chips']\n",
    "\n",
    "pred_next = []\n",
    "\n",
    "for diversity in [0.2, 0.5, 1.0, 1.2]:\n",
    "\n",
    "    start_ingr = [ingr_int[x] for x in known_ingr]\n",
    "    \n",
    "    for i in range(10):\n",
    "        x_pred = np.zeros((1, max_pred_length, len(ingr_count_df)))\n",
    "        for t, ingr in enumerate(start_ingr):\n",
    "            x_pred[0, t, ingr] = 1\n",
    "\n",
    "        preds = model.predict(x_pred, verbose=0)[0]\n",
    "        next_index = sample(preds, diversity)\n",
    "        next_ingredient = int_ingr[next_index]\n",
    "\n",
    "        pred_next.append(next_ingredient)\n",
    "\n",
    "\n",
    "print(set(pred_next))"
   ]
  },
  {
   "cell_type": "code",
   "execution_count": 226,
   "metadata": {},
   "outputs": [
    {
     "output_type": "execute_result",
     "data": {
      "text/plain": "7631"
     },
     "metadata": {},
     "execution_count": 226
    }
   ],
   "source": [
    "len(ingr_count_df)"
   ]
  },
  {
   "cell_type": "code",
   "execution_count": 54,
   "metadata": {},
   "outputs": [
    {
     "name": "stdout",
     "output_type": "stream",
     "text": "{'green onion', 'pepper', 'basil', 'canola oil', 'allpurpose flour', 'tomato sauce', 'celery', 'peach preserves', 'tumeric', 'frosting', 'worcestershire sauce', 'ground cumin', 'bok choy', 'salt', 'chicken broth', 'saffron', 'oregano', 'sweet onion', 'pinto beans', 'preserved lemon'}\n"
    }
   ],
   "source": [
    "known_ingr = ['thyme', 'pepper', 'chicken']\n",
    "\n",
    "pred_next = []\n",
    "\n",
    "for diversity in [0.2, 0.5, 1.0, 1.2]:\n",
    "\n",
    "    start_ingr = [ingr_int[x] for x in known_ingr]\n",
    "    \n",
    "    for i in range(8):\n",
    "        x_pred = np.zeros((1, max_pred_length, len(ingr_count_df)))\n",
    "        for t, ingr in enumerate(start_ingr):\n",
    "            x_pred[0, t, ingr] = 1\n",
    "\n",
    "        preds = model.predict(x_pred, verbose=0)[0]\n",
    "        next_index = sample(preds, diversity)\n",
    "        next_ingredient = int_ingr[next_index]\n",
    "\n",
    "        pred_next.append(next_ingredient)\n",
    "\n",
    "\n",
    "print(set(pred_next))"
   ]
  },
  {
   "cell_type": "code",
   "execution_count": 42,
   "metadata": {},
   "outputs": [
    {
     "data": {
      "text/html": "<div>\n<style scoped>\n    .dataframe tbody tr th:only-of-type {\n        vertical-align: middle;\n    }\n\n    .dataframe tbody tr th {\n        vertical-align: top;\n    }\n\n    .dataframe thead th {\n        text-align: right;\n    }\n</style>\n<table border=\"1\" class=\"dataframe\">\n  <thead>\n    <tr style=\"text-align: right;\">\n      <th></th>\n      <th>ingredient</th>\n      <th>count</th>\n    </tr>\n  </thead>\n  <tbody>\n    <tr>\n      <th>797</th>\n      <td>galangal</td>\n      <td>104</td>\n    </tr>\n  </tbody>\n</table>\n</div>",
      "text/plain": "    ingredient  count\n797   galangal    104"
     },
     "execution_count": 42,
     "metadata": {},
     "output_type": "execute_result"
    }
   ],
   "source": [
    "ingr_count_df[ingr_count_df['ingredient'] == 'galangal']"
   ]
  },
  {
   "cell_type": "code",
   "execution_count": null,
   "metadata": {},
   "outputs": [],
   "source": [
    "\n",
    "test == FALSE\n",
    "\n",
    "for \n",
    "\n",
    "\n",
    "\n",
    "assert requests.get(image_uri)\n",
    "\n",
    "\n",
    "\n",
    "\n",
    "\n",
    "\n",
    "\n",
    "\n",
    "\n",
    "\n",
    "\n",
    "\n",
    "\n",
    "\n"
   ]
  }
 ]
}