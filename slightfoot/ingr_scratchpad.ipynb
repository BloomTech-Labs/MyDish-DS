{
 "nbformat": 4,
 "nbformat_minor": 2,
 "metadata": {
  "language_info": {
   "name": "python",
   "codemirror_mode": {
    "name": "ipython",
    "version": 3
   },
   "version": "3.7.6-final"
  },
  "orig_nbformat": 2,
  "file_extension": ".py",
  "mimetype": "text/x-python",
  "name": "python",
  "npconvert_exporter": "python",
  "pygments_lexer": "ipython3",
  "version": 3,
  "kernelspec": {
   "name": "python37664bitmydishconda797818ee0abc4ea29f1e1dc6ed83066f",
   "display_name": "Python 3.7.6 64-bit ('MyDish': conda)"
  }
 },
 "cells": [
  {
   "cell_type": "markdown",
   "execution_count": null,
   "metadata": {},
   "outputs": [],
   "source": [
    "# Really tho'... how many ingredients could there possibly be???"
   ]
  },
  {
   "cell_type": "code",
   "execution_count": 47,
   "metadata": {},
   "outputs": [],
   "source": [
    "# imports.  you're prolly gonna use all these, right?\n",
    "import pdb\n",
    "\n",
    "import pandas as pd\n",
    "import numpy as np\n",
    "import matplotlib.pyplot as plt\n",
    "\n",
    "from tensorflow.keras.preprocessing import sequence\n",
    "from tensorflow.keras.models import Sequential\n",
    "from tensorflow.keras.layers import Dense, Embedding\n",
    "from tensorflow.keras.layers import LSTM\n",
    "\n",
    "from sklearn.feature_extraction.text import CountVectorizer, TfidfVectorizer\n",
    "from sklearn.metrics.pairwise import cosine_similarity\n",
    "from sklearn.neighbors import NearestNeighbors\n",
    "\n",
    "import re\n",
    "import string"
   ]
  },
  {
   "cell_type": "code",
   "execution_count": 2,
   "metadata": {},
   "outputs": [],
   "source": [
    "import spacy\n",
    "nlp = spacy.load(\"en_core_web_sm\")"
   ]
  },
  {
   "cell_type": "code",
   "execution_count": 25,
   "metadata": {},
   "outputs": [],
   "source": [
    "# Pulling in recipe lists\n",
    "df = pd.read_csv('../data/clean_recipes.csv', sep=';')\n",
    "kgl1_df = pd.read_json('../data/kgl_ingredient_train.json')\n",
    "kgl2_df = pd.read_json('../data/kgl_ingredient_test.json')"
   ]
  },
  {
   "cell_type": "code",
   "execution_count": 26,
   "metadata": {},
   "outputs": [
    {
     "output_type": "execute_result",
     "data": {
      "text/plain": "                           Recipe Name Review Count  \\\n0        Golden Crescent Rolls Recipe           304   \n1  Poppy Seed Bread with Glaze Recipe           137   \n2           Applesauce Bread I Recipe           124   \n\n                                        Recipe Photo         Author  \\\n0  https://images.media-allrecipes.com/userphotos...        Mike A.   \n1  https://images.media-allrecipes.com/userphotos...  Christina Jun   \n2  https://images.media-allrecipes.com/userphotos...          GAF55   \n\n  Prepare Time Cook Time Total Time  \\\n0         25 m      15 m   3 h 10 m   \n1         15 m       1 h   1 h 20 m   \n2         10 m  1 h 20 m   1 h 30 m   \n\n                                         ingredients  \\\n0  yeast,water,white sugar,salt,egg,butter,flour,...   \n1  flour,salt,baking powder,poppy,butter,vegetabl...   \n2  flour,egg,white sugar,vegetable oil,applesauce...   \n\n                                          Directions  RecipeID  \n0  Dissolve yeast in warm water.**Stir in sugar, ...      7000  \n1  'Preheat oven to 350 degrees F (175 degrees C)...      7001  \n2  Preheat oven to 350 degrees F (175 degrees C)....      7003  ",
      "text/html": "<div>\n<style scoped>\n    .dataframe tbody tr th:only-of-type {\n        vertical-align: middle;\n    }\n\n    .dataframe tbody tr th {\n        vertical-align: top;\n    }\n\n    .dataframe thead th {\n        text-align: right;\n    }\n</style>\n<table border=\"1\" class=\"dataframe\">\n  <thead>\n    <tr style=\"text-align: right;\">\n      <th></th>\n      <th>Recipe Name</th>\n      <th>Review Count</th>\n      <th>Recipe Photo</th>\n      <th>Author</th>\n      <th>Prepare Time</th>\n      <th>Cook Time</th>\n      <th>Total Time</th>\n      <th>ingredients</th>\n      <th>Directions</th>\n      <th>RecipeID</th>\n    </tr>\n  </thead>\n  <tbody>\n    <tr>\n      <th>0</th>\n      <td>Golden Crescent Rolls Recipe</td>\n      <td>304</td>\n      <td>https://images.media-allrecipes.com/userphotos...</td>\n      <td>Mike A.</td>\n      <td>25 m</td>\n      <td>15 m</td>\n      <td>3 h 10 m</td>\n      <td>yeast,water,white sugar,salt,egg,butter,flour,...</td>\n      <td>Dissolve yeast in warm water.**Stir in sugar, ...</td>\n      <td>7000</td>\n    </tr>\n    <tr>\n      <th>1</th>\n      <td>Poppy Seed Bread with Glaze Recipe</td>\n      <td>137</td>\n      <td>https://images.media-allrecipes.com/userphotos...</td>\n      <td>Christina Jun</td>\n      <td>15 m</td>\n      <td>1 h</td>\n      <td>1 h 20 m</td>\n      <td>flour,salt,baking powder,poppy,butter,vegetabl...</td>\n      <td>'Preheat oven to 350 degrees F (175 degrees C)...</td>\n      <td>7001</td>\n    </tr>\n    <tr>\n      <th>2</th>\n      <td>Applesauce Bread I Recipe</td>\n      <td>124</td>\n      <td>https://images.media-allrecipes.com/userphotos...</td>\n      <td>GAF55</td>\n      <td>10 m</td>\n      <td>1 h 20 m</td>\n      <td>1 h 30 m</td>\n      <td>flour,egg,white sugar,vegetable oil,applesauce...</td>\n      <td>Preheat oven to 350 degrees F (175 degrees C)....</td>\n      <td>7003</td>\n    </tr>\n  </tbody>\n</table>\n</div>"
     },
     "metadata": {},
     "execution_count": 26
    }
   ],
   "source": [
    "df = df.rename(columns={'Ingredients':'ingredients'})\n",
    "df.head(3)"
   ]
  },
  {
   "cell_type": "code",
   "execution_count": 27,
   "metadata": {},
   "outputs": [],
   "source": [
    "# df ingredients is a single string, splitting into a list of strings\n",
    "df['ingredients'] = df['ingredients'].apply(lambda x: x.split(','))"
   ]
  },
  {
   "cell_type": "code",
   "execution_count": 43,
   "metadata": {},
   "outputs": [],
   "source": [
    "l1 = df['ingredients']\n",
    "l2 = kgl1_df['ingredients']\n",
    "l3 = kgl2_df['ingredients']\n",
    "\n",
    "ingr_series = l1.append([l2, l3], ignore_index=True)"
   ]
  },
  {
   "cell_type": "code",
   "execution_count": 44,
   "metadata": {},
   "outputs": [
    {
     "output_type": "execute_result",
     "data": {
      "text/plain": "0    [yeast, water, white sugar, salt, egg, butter,...\n1    [flour, salt, baking powder, poppy, butter, ve...\n2    [flour, egg, white sugar, vegetable oil, apple...\n3    [flour, baking powder, baking soda, salt, cinn...\n4    [oat, buttermilk, vegetable oil, egg, brown su...\n5    [shortening, white sugar, salt, milk, egg, lem...\n6    [shortening, water, brown sugar, yeast, water,...\n7    [water, cottage cheese, vegetable oil, egg, fl...\n8    [margarine, white sugar, egg, banana, coffee, ...\n9    [cornmeal, milk, egg, bell pepper, onion, garl...\nName: ingredients, dtype: object"
     },
     "metadata": {},
     "execution_count": 44
    }
   ],
   "source": [
    "ingr_series[:10]"
   ]
  },
  {
   "cell_type": "code",
   "execution_count": 163,
   "metadata": {},
   "outputs": [],
   "source": [
    "def scrub_ingredients(ingr_list):\n",
    "    \n",
    "    chtble = str.maketrans('', '', string.punctuation + '0123456789')\n",
    "    \n",
    "    # drop special characters and multiple spaces, then convert to lowercase\n",
    "    clean_list = []\n",
    "    for ingr_string in ingr_list:\n",
    "        ingr_string = re.sub(r'\\W\\s+', ' ', ingr_string.strip().translate(chtble))\n",
    "        clean_list.append(ingr_string.lower())\n",
    "\n",
    "    # convert to lowercase & drop known measurement words\n",
    "    dropwords = ['ounce', 'ounces', 'oz', 'lb', ' pound', 'the', 'a', 'an'\n",
    "                 'package', 'packages', 'inches', 'and', 'for', 'as', 'is']\n",
    "\n",
    "    outlist = []\n",
    "\n",
    "    for i in clean_list:\n",
    "        words = i.split()\n",
    "        words = [word for word in words if word not in dropwords]\n",
    "        i = ' '.join(words)\n",
    "        outlist.append(i)\n",
    "    \n",
    "    return outlist"
   ]
  },
  {
   "cell_type": "code",
   "execution_count": 164,
   "metadata": {},
   "outputs": [
    {
     "output_type": "execute_result",
     "data": {
      "text/plain": "0    [yeast, water, white sugar, salt, egg, butter,...\n1    [flour, salt, baking powder, poppy, butter, ve...\n2    [flour, egg, white sugar, vegetable oil, apple...\n3    [flour, baking powder, baking soda, salt, cinn...\n4    [oat, buttermilk, vegetable oil, egg, brown su...\n5    [shortening, white sugar, salt, milk, egg, lem...\n6    [shortening, water, brown sugar, yeast, water,...\n7    [water, cottage cheese, vegetable oil, egg, fl...\n8    [margarine, white sugar, egg, banana, coffee, ...\n9    [cornmeal, milk, egg, bell pepper, onion, garl...\nName: ingredients, dtype: object"
     },
     "metadata": {},
     "execution_count": 164
    }
   ],
   "source": [
    "ingr_s = ingr_series.apply(scrub_ingredients)\n",
    "ingr_s[:10]"
   ]
  },
  {
   "cell_type": "code",
   "execution_count": 166,
   "metadata": {},
   "outputs": [],
   "source": [
    "def ingredient_count(dfcolumn):\n",
    "\n",
    "    # Create dictionary with word count\n",
    "    d = dict()\n",
    "\n",
    "    for l in dfcolumn:\n",
    "        for i in l:\n",
    "            if i in d:\n",
    "                d[i] = d[i] + 1\n",
    "            else:\n",
    "                d[i] = 1\n",
    "\n",
    "    return pd.DataFrame(d.items(), columns=['ingredient', 'count'])"
   ]
  },
  {
   "cell_type": "code",
   "execution_count": 170,
   "metadata": {},
   "outputs": [
    {
     "output_type": "execute_result",
     "data": {
      "text/plain": "             ingredient  count\n0                  salt  27050\n1                 water  11899\n2                garlic  11287\n3                butter  10534\n4                onions  10008\n5             olive oil   9889\n6                 sugar   9319\n7         garlic cloves   7772\n8                pepper   7080\n9         vegetable oil   6874\n10          white sugar   6378\n11  ground black pepper   5990\n12                flour   5861\n13     allpurpose flour   5816\n14                 milk   5618",
      "text/html": "<div>\n<style scoped>\n    .dataframe tbody tr th:only-of-type {\n        vertical-align: middle;\n    }\n\n    .dataframe tbody tr th {\n        vertical-align: top;\n    }\n\n    .dataframe thead th {\n        text-align: right;\n    }\n</style>\n<table border=\"1\" class=\"dataframe\">\n  <thead>\n    <tr style=\"text-align: right;\">\n      <th></th>\n      <th>ingredient</th>\n      <th>count</th>\n    </tr>\n  </thead>\n  <tbody>\n    <tr>\n      <th>0</th>\n      <td>salt</td>\n      <td>27050</td>\n    </tr>\n    <tr>\n      <th>1</th>\n      <td>water</td>\n      <td>11899</td>\n    </tr>\n    <tr>\n      <th>2</th>\n      <td>garlic</td>\n      <td>11287</td>\n    </tr>\n    <tr>\n      <th>3</th>\n      <td>butter</td>\n      <td>10534</td>\n    </tr>\n    <tr>\n      <th>4</th>\n      <td>onions</td>\n      <td>10008</td>\n    </tr>\n    <tr>\n      <th>5</th>\n      <td>olive oil</td>\n      <td>9889</td>\n    </tr>\n    <tr>\n      <th>6</th>\n      <td>sugar</td>\n      <td>9319</td>\n    </tr>\n    <tr>\n      <th>7</th>\n      <td>garlic cloves</td>\n      <td>7772</td>\n    </tr>\n    <tr>\n      <th>8</th>\n      <td>pepper</td>\n      <td>7080</td>\n    </tr>\n    <tr>\n      <th>9</th>\n      <td>vegetable oil</td>\n      <td>6874</td>\n    </tr>\n    <tr>\n      <th>10</th>\n      <td>white sugar</td>\n      <td>6378</td>\n    </tr>\n    <tr>\n      <th>11</th>\n      <td>ground black pepper</td>\n      <td>5990</td>\n    </tr>\n    <tr>\n      <th>12</th>\n      <td>flour</td>\n      <td>5861</td>\n    </tr>\n    <tr>\n      <th>13</th>\n      <td>allpurpose flour</td>\n      <td>5816</td>\n    </tr>\n    <tr>\n      <th>14</th>\n      <td>milk</td>\n      <td>5618</td>\n    </tr>\n  </tbody>\n</table>\n</div>"
     },
     "metadata": {},
     "execution_count": 170
    }
   ],
   "source": [
    "# create df of unique ingredients and their number of occurances in recipe dfs\n",
    "ingr_count_df = ingredient_count(ingr_s).sort_values('count', ascending=False).reset_index(drop=True)\n",
    "ingr_count_df.head(15)"
   ]
  },
  {
   "cell_type": "code",
   "execution_count": 171,
   "metadata": {},
   "outputs": [
    {
     "output_type": "execute_result",
     "data": {
      "text/plain": "       ingr_0          ingr_1         ingr_2         ingr_3       ingr_4  \\\n0       yeast           water    white sugar           salt          egg   \n1       flour            salt  baking powder          poppy       butter   \n2       flour             egg    white sugar  vegetable oil   applesauce   \n3       flour   baking powder    baking soda           salt     cinnamon   \n4         oat      buttermilk  vegetable oil            egg  brown sugar   \n5  shortening     white sugar           salt           milk          egg   \n6  shortening           water    brown sugar          yeast        water   \n7       water  cottage cheese  vegetable oil            egg        flour   \n8   margarine     white sugar            egg         banana       coffee   \n9    cornmeal            milk            egg    bell pepper        onion   \n\n          ingr_5         ingr_6       ingr_7         ingr_8         ingr_9  \\\n0         butter          flour       butter            NaN            NaN   \n1  vegetable oil            egg         milk    white sugar        vanilla   \n2         raisin       cinnamon  baking soda  baking powder     sour cream   \n3         nutmeg    brown sugar          oat          apple         walnut   \n4          flour  baking powder  baking soda           salt            NaN   \n5          lemon          yeast        flour          fruit            NaN   \n6    white sugar           salt        bread    whole wheat            NaN   \n7    white sugar    baking soda         salt          yeast            NaN   \n8          water        vanilla        flour           salt  baking powder   \n9         garlic           salt  baking soda    white sugar           corn   \n\n   ... ingr_55 ingr_56 ingr_57 ingr_58 ingr_59 ingr_60 ingr_61 ingr_62  \\\n0  ...     NaN     NaN     NaN     NaN     NaN     NaN     NaN     NaN   \n1  ...     NaN     NaN     NaN     NaN     NaN     NaN     NaN     NaN   \n2  ...     NaN     NaN     NaN     NaN     NaN     NaN     NaN     NaN   \n3  ...     NaN     NaN     NaN     NaN     NaN     NaN     NaN     NaN   \n4  ...     NaN     NaN     NaN     NaN     NaN     NaN     NaN     NaN   \n5  ...     NaN     NaN     NaN     NaN     NaN     NaN     NaN     NaN   \n6  ...     NaN     NaN     NaN     NaN     NaN     NaN     NaN     NaN   \n7  ...     NaN     NaN     NaN     NaN     NaN     NaN     NaN     NaN   \n8  ...     NaN     NaN     NaN     NaN     NaN     NaN     NaN     NaN   \n9  ...     NaN     NaN     NaN     NaN     NaN     NaN     NaN     NaN   \n\n  ingr_63 ingr_64  \n0     NaN     NaN  \n1     NaN     NaN  \n2     NaN     NaN  \n3     NaN     NaN  \n4     NaN     NaN  \n5     NaN     NaN  \n6     NaN     NaN  \n7     NaN     NaN  \n8     NaN     NaN  \n9     NaN     NaN  \n\n[10 rows x 65 columns]",
      "text/html": "<div>\n<style scoped>\n    .dataframe tbody tr th:only-of-type {\n        vertical-align: middle;\n    }\n\n    .dataframe tbody tr th {\n        vertical-align: top;\n    }\n\n    .dataframe thead th {\n        text-align: right;\n    }\n</style>\n<table border=\"1\" class=\"dataframe\">\n  <thead>\n    <tr style=\"text-align: right;\">\n      <th></th>\n      <th>ingr_0</th>\n      <th>ingr_1</th>\n      <th>ingr_2</th>\n      <th>ingr_3</th>\n      <th>ingr_4</th>\n      <th>ingr_5</th>\n      <th>ingr_6</th>\n      <th>ingr_7</th>\n      <th>ingr_8</th>\n      <th>ingr_9</th>\n      <th>...</th>\n      <th>ingr_55</th>\n      <th>ingr_56</th>\n      <th>ingr_57</th>\n      <th>ingr_58</th>\n      <th>ingr_59</th>\n      <th>ingr_60</th>\n      <th>ingr_61</th>\n      <th>ingr_62</th>\n      <th>ingr_63</th>\n      <th>ingr_64</th>\n    </tr>\n  </thead>\n  <tbody>\n    <tr>\n      <th>0</th>\n      <td>yeast</td>\n      <td>water</td>\n      <td>white sugar</td>\n      <td>salt</td>\n      <td>egg</td>\n      <td>butter</td>\n      <td>flour</td>\n      <td>butter</td>\n      <td>NaN</td>\n      <td>NaN</td>\n      <td>...</td>\n      <td>NaN</td>\n      <td>NaN</td>\n      <td>NaN</td>\n      <td>NaN</td>\n      <td>NaN</td>\n      <td>NaN</td>\n      <td>NaN</td>\n      <td>NaN</td>\n      <td>NaN</td>\n      <td>NaN</td>\n    </tr>\n    <tr>\n      <th>1</th>\n      <td>flour</td>\n      <td>salt</td>\n      <td>baking powder</td>\n      <td>poppy</td>\n      <td>butter</td>\n      <td>vegetable oil</td>\n      <td>egg</td>\n      <td>milk</td>\n      <td>white sugar</td>\n      <td>vanilla</td>\n      <td>...</td>\n      <td>NaN</td>\n      <td>NaN</td>\n      <td>NaN</td>\n      <td>NaN</td>\n      <td>NaN</td>\n      <td>NaN</td>\n      <td>NaN</td>\n      <td>NaN</td>\n      <td>NaN</td>\n      <td>NaN</td>\n    </tr>\n    <tr>\n      <th>2</th>\n      <td>flour</td>\n      <td>egg</td>\n      <td>white sugar</td>\n      <td>vegetable oil</td>\n      <td>applesauce</td>\n      <td>raisin</td>\n      <td>cinnamon</td>\n      <td>baking soda</td>\n      <td>baking powder</td>\n      <td>sour cream</td>\n      <td>...</td>\n      <td>NaN</td>\n      <td>NaN</td>\n      <td>NaN</td>\n      <td>NaN</td>\n      <td>NaN</td>\n      <td>NaN</td>\n      <td>NaN</td>\n      <td>NaN</td>\n      <td>NaN</td>\n      <td>NaN</td>\n    </tr>\n    <tr>\n      <th>3</th>\n      <td>flour</td>\n      <td>baking powder</td>\n      <td>baking soda</td>\n      <td>salt</td>\n      <td>cinnamon</td>\n      <td>nutmeg</td>\n      <td>brown sugar</td>\n      <td>oat</td>\n      <td>apple</td>\n      <td>walnut</td>\n      <td>...</td>\n      <td>NaN</td>\n      <td>NaN</td>\n      <td>NaN</td>\n      <td>NaN</td>\n      <td>NaN</td>\n      <td>NaN</td>\n      <td>NaN</td>\n      <td>NaN</td>\n      <td>NaN</td>\n      <td>NaN</td>\n    </tr>\n    <tr>\n      <th>4</th>\n      <td>oat</td>\n      <td>buttermilk</td>\n      <td>vegetable oil</td>\n      <td>egg</td>\n      <td>brown sugar</td>\n      <td>flour</td>\n      <td>baking powder</td>\n      <td>baking soda</td>\n      <td>salt</td>\n      <td>NaN</td>\n      <td>...</td>\n      <td>NaN</td>\n      <td>NaN</td>\n      <td>NaN</td>\n      <td>NaN</td>\n      <td>NaN</td>\n      <td>NaN</td>\n      <td>NaN</td>\n      <td>NaN</td>\n      <td>NaN</td>\n      <td>NaN</td>\n    </tr>\n    <tr>\n      <th>5</th>\n      <td>shortening</td>\n      <td>white sugar</td>\n      <td>salt</td>\n      <td>milk</td>\n      <td>egg</td>\n      <td>lemon</td>\n      <td>yeast</td>\n      <td>flour</td>\n      <td>fruit</td>\n      <td>NaN</td>\n      <td>...</td>\n      <td>NaN</td>\n      <td>NaN</td>\n      <td>NaN</td>\n      <td>NaN</td>\n      <td>NaN</td>\n      <td>NaN</td>\n      <td>NaN</td>\n      <td>NaN</td>\n      <td>NaN</td>\n      <td>NaN</td>\n    </tr>\n    <tr>\n      <th>6</th>\n      <td>shortening</td>\n      <td>water</td>\n      <td>brown sugar</td>\n      <td>yeast</td>\n      <td>water</td>\n      <td>white sugar</td>\n      <td>salt</td>\n      <td>bread</td>\n      <td>whole wheat</td>\n      <td>NaN</td>\n      <td>...</td>\n      <td>NaN</td>\n      <td>NaN</td>\n      <td>NaN</td>\n      <td>NaN</td>\n      <td>NaN</td>\n      <td>NaN</td>\n      <td>NaN</td>\n      <td>NaN</td>\n      <td>NaN</td>\n      <td>NaN</td>\n    </tr>\n    <tr>\n      <th>7</th>\n      <td>water</td>\n      <td>cottage cheese</td>\n      <td>vegetable oil</td>\n      <td>egg</td>\n      <td>flour</td>\n      <td>white sugar</td>\n      <td>baking soda</td>\n      <td>salt</td>\n      <td>yeast</td>\n      <td>NaN</td>\n      <td>...</td>\n      <td>NaN</td>\n      <td>NaN</td>\n      <td>NaN</td>\n      <td>NaN</td>\n      <td>NaN</td>\n      <td>NaN</td>\n      <td>NaN</td>\n      <td>NaN</td>\n      <td>NaN</td>\n      <td>NaN</td>\n    </tr>\n    <tr>\n      <th>8</th>\n      <td>margarine</td>\n      <td>white sugar</td>\n      <td>egg</td>\n      <td>banana</td>\n      <td>coffee</td>\n      <td>water</td>\n      <td>vanilla</td>\n      <td>flour</td>\n      <td>salt</td>\n      <td>baking powder</td>\n      <td>...</td>\n      <td>NaN</td>\n      <td>NaN</td>\n      <td>NaN</td>\n      <td>NaN</td>\n      <td>NaN</td>\n      <td>NaN</td>\n      <td>NaN</td>\n      <td>NaN</td>\n      <td>NaN</td>\n      <td>NaN</td>\n    </tr>\n    <tr>\n      <th>9</th>\n      <td>cornmeal</td>\n      <td>milk</td>\n      <td>egg</td>\n      <td>bell pepper</td>\n      <td>onion</td>\n      <td>garlic</td>\n      <td>salt</td>\n      <td>baking soda</td>\n      <td>white sugar</td>\n      <td>corn</td>\n      <td>...</td>\n      <td>NaN</td>\n      <td>NaN</td>\n      <td>NaN</td>\n      <td>NaN</td>\n      <td>NaN</td>\n      <td>NaN</td>\n      <td>NaN</td>\n      <td>NaN</td>\n      <td>NaN</td>\n      <td>NaN</td>\n    </tr>\n  </tbody>\n</table>\n<p>10 rows × 65 columns</p>\n</div>"
     },
     "metadata": {},
     "execution_count": 171
    }
   ],
   "source": [
    "modeling_df = ingr_s.apply(pd.Series)\n",
    "modeling_df = modeling_df.rename(columns = lambda x: 'ingr_' + str(x))\n",
    "modeling_df.head(10)"
   ]
  },
  {
   "cell_type": "code",
   "execution_count": 173,
   "metadata": {},
   "outputs": [
    {
     "output_type": "execute_result",
     "data": {
      "text/plain": "ingr_0      0.000000\ningr_1      0.069278\ningr_2      0.667000\ningr_3      2.571332\ningr_4      6.173774\ningr_5     11.951216\ningr_6     19.618489\ningr_7     28.648762\ningr_8     38.076979\ningr_9     47.830640\ningr_10    57.033302\ningr_11    65.470686\ningr_12    72.807682\ningr_13    78.997567\ningr_14    84.048398\ningr_15    87.987562\ningr_16    91.190449\ningr_17    93.689281\ningr_18    95.559780\ningr_19    96.872835\ningr_20    97.902334\ningr_21    98.538723\ningr_22    98.980167\ningr_23    99.284667\ningr_24    99.487667\ndtype: float64"
     },
     "metadata": {},
     "execution_count": 173
    }
   ],
   "source": [
    "(modeling_df.isnull().mean() * 100).head(25)"
   ]
  },
  {
   "cell_type": "code",
   "execution_count": 178,
   "metadata": {},
   "outputs": [],
   "source": [
    "ingr_int = {ingr:i for i, ingr in enumerate(ingr_count_df['ingredient'])}\n",
    "int_ingr = {i:ingr for i, ingr in enumerate(ingr_count_df['ingredient'])}"
   ]
  },
  {
   "cell_type": "code",
   "execution_count": 207,
   "metadata": {},
   "outputs": [
    {
     "output_type": "execute_result",
     "data": {
      "text/plain": "   ingr_0  ingr_1  ingr_2  ingr_3  ingr_4  ingr_5  ingr_6  ingr_7  ingr_8  \\\n0     352       1      10       0      15       3      12       3    4232   \n1      12       0      27    1089       3       9      15      14      10   \n2      12      15      10       9     679     226      44      35      27   \n3      12      27      35       0      44     131      24     278     253   \n4     278      90       9      15      24      12      27      35       0   \n\n   ingr_9  ...  ingr_55  ingr_56  ingr_57  ingr_58  ingr_59  ingr_60  ingr_61  \\\n0    4232  ...     4232     4232     4232     4232     4232     4232     4232   \n1      25  ...     4232     4232     4232     4232     4232     4232     4232   \n2      31  ...     4232     4232     4232     4232     4232     4232     4232   \n3     122  ...     4232     4232     4232     4232     4232     4232     4232   \n4    4232  ...     4232     4232     4232     4232     4232     4232     4232   \n\n   ingr_62  ingr_63  ingr_64  \n0     4232     4232     4232  \n1     4232     4232     4232  \n2     4232     4232     4232  \n3     4232     4232     4232  \n4     4232     4232     4232  \n\n[5 rows x 65 columns]",
      "text/html": "<div>\n<style scoped>\n    .dataframe tbody tr th:only-of-type {\n        vertical-align: middle;\n    }\n\n    .dataframe tbody tr th {\n        vertical-align: top;\n    }\n\n    .dataframe thead th {\n        text-align: right;\n    }\n</style>\n<table border=\"1\" class=\"dataframe\">\n  <thead>\n    <tr style=\"text-align: right;\">\n      <th></th>\n      <th>ingr_0</th>\n      <th>ingr_1</th>\n      <th>ingr_2</th>\n      <th>ingr_3</th>\n      <th>ingr_4</th>\n      <th>ingr_5</th>\n      <th>ingr_6</th>\n      <th>ingr_7</th>\n      <th>ingr_8</th>\n      <th>ingr_9</th>\n      <th>...</th>\n      <th>ingr_55</th>\n      <th>ingr_56</th>\n      <th>ingr_57</th>\n      <th>ingr_58</th>\n      <th>ingr_59</th>\n      <th>ingr_60</th>\n      <th>ingr_61</th>\n      <th>ingr_62</th>\n      <th>ingr_63</th>\n      <th>ingr_64</th>\n    </tr>\n  </thead>\n  <tbody>\n    <tr>\n      <th>0</th>\n      <td>352</td>\n      <td>1</td>\n      <td>10</td>\n      <td>0</td>\n      <td>15</td>\n      <td>3</td>\n      <td>12</td>\n      <td>3</td>\n      <td>4232</td>\n      <td>4232</td>\n      <td>...</td>\n      <td>4232</td>\n      <td>4232</td>\n      <td>4232</td>\n      <td>4232</td>\n      <td>4232</td>\n      <td>4232</td>\n      <td>4232</td>\n      <td>4232</td>\n      <td>4232</td>\n      <td>4232</td>\n    </tr>\n    <tr>\n      <th>1</th>\n      <td>12</td>\n      <td>0</td>\n      <td>27</td>\n      <td>1089</td>\n      <td>3</td>\n      <td>9</td>\n      <td>15</td>\n      <td>14</td>\n      <td>10</td>\n      <td>25</td>\n      <td>...</td>\n      <td>4232</td>\n      <td>4232</td>\n      <td>4232</td>\n      <td>4232</td>\n      <td>4232</td>\n      <td>4232</td>\n      <td>4232</td>\n      <td>4232</td>\n      <td>4232</td>\n      <td>4232</td>\n    </tr>\n    <tr>\n      <th>2</th>\n      <td>12</td>\n      <td>15</td>\n      <td>10</td>\n      <td>9</td>\n      <td>679</td>\n      <td>226</td>\n      <td>44</td>\n      <td>35</td>\n      <td>27</td>\n      <td>31</td>\n      <td>...</td>\n      <td>4232</td>\n      <td>4232</td>\n      <td>4232</td>\n      <td>4232</td>\n      <td>4232</td>\n      <td>4232</td>\n      <td>4232</td>\n      <td>4232</td>\n      <td>4232</td>\n      <td>4232</td>\n    </tr>\n    <tr>\n      <th>3</th>\n      <td>12</td>\n      <td>27</td>\n      <td>35</td>\n      <td>0</td>\n      <td>44</td>\n      <td>131</td>\n      <td>24</td>\n      <td>278</td>\n      <td>253</td>\n      <td>122</td>\n      <td>...</td>\n      <td>4232</td>\n      <td>4232</td>\n      <td>4232</td>\n      <td>4232</td>\n      <td>4232</td>\n      <td>4232</td>\n      <td>4232</td>\n      <td>4232</td>\n      <td>4232</td>\n      <td>4232</td>\n    </tr>\n    <tr>\n      <th>4</th>\n      <td>278</td>\n      <td>90</td>\n      <td>9</td>\n      <td>15</td>\n      <td>24</td>\n      <td>12</td>\n      <td>27</td>\n      <td>35</td>\n      <td>0</td>\n      <td>4232</td>\n      <td>...</td>\n      <td>4232</td>\n      <td>4232</td>\n      <td>4232</td>\n      <td>4232</td>\n      <td>4232</td>\n      <td>4232</td>\n      <td>4232</td>\n      <td>4232</td>\n      <td>4232</td>\n      <td>4232</td>\n    </tr>\n  </tbody>\n</table>\n<p>5 rows × 65 columns</p>\n</div>"
     },
     "metadata": {},
     "execution_count": 207
    }
   ],
   "source": [
    "# convert ingredients to numeric representations\n",
    "encoded_df = modeling_df.applymap(ingr_int.get)\n",
    "encoded_df.head()"
   ]
  },
  {
   "cell_type": "code",
   "execution_count": 212,
   "metadata": {},
   "outputs": [
    {
     "output_type": "execute_result",
     "data": {
      "text/plain": "       ingr_0  ingr_1  ingr_2  ingr_3  ingr_4  ingr_5  ingr_6  ingr_7  ingr_8  \\\n0         352       1      10       0      15       3      12       3    4232   \n1          12       0      27    1089       3       9      15      14      10   \n2          12      15      10       9     679     226      44      35      27   \n3          12      27      35       0      44     131      24     278     253   \n4         278      90       9      15      24      12      27      35       0   \n...       ...     ...     ...     ...     ...     ...     ...     ...     ...   \n54222     338     323     138     129      21       8      94      97      80   \n54223     163      50       6     422     571     189       0    2795     416   \n54224      16       0     273     494     163     314    1483       9    4232   \n54225     214     194      56     117      78       1     457      39     730   \n54226     187       5     192       7     268     262     459    1141      96   \n\n       ingr_9  ...  ingr_55  ingr_56  ingr_57  ingr_58  ingr_59  ingr_60  \\\n0        4232  ...     4232     4232     4232     4232     4232     4232   \n1          25  ...     4232     4232     4232     4232     4232     4232   \n2          31  ...     4232     4232     4232     4232     4232     4232   \n3         122  ...     4232     4232     4232     4232     4232     4232   \n4        4232  ...     4232     4232     4232     4232     4232     4232   \n...       ...  ...      ...      ...      ...      ...      ...      ...   \n54222     119  ...     4232     4232     4232     4232     4232     4232   \n54223    4232  ...     4232     4232     4232     4232     4232     4232   \n54224    4232  ...     4232     4232     4232     4232     4232     4232   \n54225      14  ...     4232     4232     4232     4232     4232     4232   \n54226      21  ...     4232     4232     4232     4232     4232     4232   \n\n       ingr_61  ingr_62  ingr_63  ingr_64  \n0         4232     4232     4232     4232  \n1         4232     4232     4232     4232  \n2         4232     4232     4232     4232  \n3         4232     4232     4232     4232  \n4         4232     4232     4232     4232  \n...        ...      ...      ...      ...  \n54222     4232     4232     4232     4232  \n54223     4232     4232     4232     4232  \n54224     4232     4232     4232     4232  \n54225     4232     4232     4232     4232  \n54226     4232     4232     4232     4232  \n\n[54227 rows x 65 columns]",
      "text/html": "<div>\n<style scoped>\n    .dataframe tbody tr th:only-of-type {\n        vertical-align: middle;\n    }\n\n    .dataframe tbody tr th {\n        vertical-align: top;\n    }\n\n    .dataframe thead th {\n        text-align: right;\n    }\n</style>\n<table border=\"1\" class=\"dataframe\">\n  <thead>\n    <tr style=\"text-align: right;\">\n      <th></th>\n      <th>ingr_0</th>\n      <th>ingr_1</th>\n      <th>ingr_2</th>\n      <th>ingr_3</th>\n      <th>ingr_4</th>\n      <th>ingr_5</th>\n      <th>ingr_6</th>\n      <th>ingr_7</th>\n      <th>ingr_8</th>\n      <th>ingr_9</th>\n      <th>...</th>\n      <th>ingr_55</th>\n      <th>ingr_56</th>\n      <th>ingr_57</th>\n      <th>ingr_58</th>\n      <th>ingr_59</th>\n      <th>ingr_60</th>\n      <th>ingr_61</th>\n      <th>ingr_62</th>\n      <th>ingr_63</th>\n      <th>ingr_64</th>\n    </tr>\n  </thead>\n  <tbody>\n    <tr>\n      <th>0</th>\n      <td>352</td>\n      <td>1</td>\n      <td>10</td>\n      <td>0</td>\n      <td>15</td>\n      <td>3</td>\n      <td>12</td>\n      <td>3</td>\n      <td>4232</td>\n      <td>4232</td>\n      <td>...</td>\n      <td>4232</td>\n      <td>4232</td>\n      <td>4232</td>\n      <td>4232</td>\n      <td>4232</td>\n      <td>4232</td>\n      <td>4232</td>\n      <td>4232</td>\n      <td>4232</td>\n      <td>4232</td>\n    </tr>\n    <tr>\n      <th>1</th>\n      <td>12</td>\n      <td>0</td>\n      <td>27</td>\n      <td>1089</td>\n      <td>3</td>\n      <td>9</td>\n      <td>15</td>\n      <td>14</td>\n      <td>10</td>\n      <td>25</td>\n      <td>...</td>\n      <td>4232</td>\n      <td>4232</td>\n      <td>4232</td>\n      <td>4232</td>\n      <td>4232</td>\n      <td>4232</td>\n      <td>4232</td>\n      <td>4232</td>\n      <td>4232</td>\n      <td>4232</td>\n    </tr>\n    <tr>\n      <th>2</th>\n      <td>12</td>\n      <td>15</td>\n      <td>10</td>\n      <td>9</td>\n      <td>679</td>\n      <td>226</td>\n      <td>44</td>\n      <td>35</td>\n      <td>27</td>\n      <td>31</td>\n      <td>...</td>\n      <td>4232</td>\n      <td>4232</td>\n      <td>4232</td>\n      <td>4232</td>\n      <td>4232</td>\n      <td>4232</td>\n      <td>4232</td>\n      <td>4232</td>\n      <td>4232</td>\n      <td>4232</td>\n    </tr>\n    <tr>\n      <th>3</th>\n      <td>12</td>\n      <td>27</td>\n      <td>35</td>\n      <td>0</td>\n      <td>44</td>\n      <td>131</td>\n      <td>24</td>\n      <td>278</td>\n      <td>253</td>\n      <td>122</td>\n      <td>...</td>\n      <td>4232</td>\n      <td>4232</td>\n      <td>4232</td>\n      <td>4232</td>\n      <td>4232</td>\n      <td>4232</td>\n      <td>4232</td>\n      <td>4232</td>\n      <td>4232</td>\n      <td>4232</td>\n    </tr>\n    <tr>\n      <th>4</th>\n      <td>278</td>\n      <td>90</td>\n      <td>9</td>\n      <td>15</td>\n      <td>24</td>\n      <td>12</td>\n      <td>27</td>\n      <td>35</td>\n      <td>0</td>\n      <td>4232</td>\n      <td>...</td>\n      <td>4232</td>\n      <td>4232</td>\n      <td>4232</td>\n      <td>4232</td>\n      <td>4232</td>\n      <td>4232</td>\n      <td>4232</td>\n      <td>4232</td>\n      <td>4232</td>\n      <td>4232</td>\n    </tr>\n    <tr>\n      <th>...</th>\n      <td>...</td>\n      <td>...</td>\n      <td>...</td>\n      <td>...</td>\n      <td>...</td>\n      <td>...</td>\n      <td>...</td>\n      <td>...</td>\n      <td>...</td>\n      <td>...</td>\n      <td>...</td>\n      <td>...</td>\n      <td>...</td>\n      <td>...</td>\n      <td>...</td>\n      <td>...</td>\n      <td>...</td>\n      <td>...</td>\n      <td>...</td>\n      <td>...</td>\n      <td>...</td>\n    </tr>\n    <tr>\n      <th>54222</th>\n      <td>338</td>\n      <td>323</td>\n      <td>138</td>\n      <td>129</td>\n      <td>21</td>\n      <td>8</td>\n      <td>94</td>\n      <td>97</td>\n      <td>80</td>\n      <td>119</td>\n      <td>...</td>\n      <td>4232</td>\n      <td>4232</td>\n      <td>4232</td>\n      <td>4232</td>\n      <td>4232</td>\n      <td>4232</td>\n      <td>4232</td>\n      <td>4232</td>\n      <td>4232</td>\n      <td>4232</td>\n    </tr>\n    <tr>\n      <th>54223</th>\n      <td>163</td>\n      <td>50</td>\n      <td>6</td>\n      <td>422</td>\n      <td>571</td>\n      <td>189</td>\n      <td>0</td>\n      <td>2795</td>\n      <td>416</td>\n      <td>4232</td>\n      <td>...</td>\n      <td>4232</td>\n      <td>4232</td>\n      <td>4232</td>\n      <td>4232</td>\n      <td>4232</td>\n      <td>4232</td>\n      <td>4232</td>\n      <td>4232</td>\n      <td>4232</td>\n      <td>4232</td>\n    </tr>\n    <tr>\n      <th>54224</th>\n      <td>16</td>\n      <td>0</td>\n      <td>273</td>\n      <td>494</td>\n      <td>163</td>\n      <td>314</td>\n      <td>1483</td>\n      <td>9</td>\n      <td>4232</td>\n      <td>4232</td>\n      <td>...</td>\n      <td>4232</td>\n      <td>4232</td>\n      <td>4232</td>\n      <td>4232</td>\n      <td>4232</td>\n      <td>4232</td>\n      <td>4232</td>\n      <td>4232</td>\n      <td>4232</td>\n      <td>4232</td>\n    </tr>\n    <tr>\n      <th>54225</th>\n      <td>214</td>\n      <td>194</td>\n      <td>56</td>\n      <td>117</td>\n      <td>78</td>\n      <td>1</td>\n      <td>457</td>\n      <td>39</td>\n      <td>730</td>\n      <td>14</td>\n      <td>...</td>\n      <td>4232</td>\n      <td>4232</td>\n      <td>4232</td>\n      <td>4232</td>\n      <td>4232</td>\n      <td>4232</td>\n      <td>4232</td>\n      <td>4232</td>\n      <td>4232</td>\n      <td>4232</td>\n    </tr>\n    <tr>\n      <th>54226</th>\n      <td>187</td>\n      <td>5</td>\n      <td>192</td>\n      <td>7</td>\n      <td>268</td>\n      <td>262</td>\n      <td>459</td>\n      <td>1141</td>\n      <td>96</td>\n      <td>21</td>\n      <td>...</td>\n      <td>4232</td>\n      <td>4232</td>\n      <td>4232</td>\n      <td>4232</td>\n      <td>4232</td>\n      <td>4232</td>\n      <td>4232</td>\n      <td>4232</td>\n      <td>4232</td>\n      <td>4232</td>\n    </tr>\n  </tbody>\n</table>\n<p>54227 rows × 65 columns</p>\n</div>"
     },
     "metadata": {},
     "execution_count": 212
    }
   ],
   "source": [
    "# drop all recipes that have fewer than 5 ingredients\n",
    "encoded_df = encoded_df[encoded_df['ingr_5'] < 4232]\n",
    "encoded_df.reset_index(drop=True)"
   ]
  },
  {
   "cell_type": "code",
   "execution_count": null,
   "metadata": {},
   "outputs": [],
   "source": []
  },
  {
   "cell_type": "code",
   "execution_count": 195,
   "metadata": {},
   "outputs": [
    {
     "output_type": "execute_result",
     "data": {
      "text/plain": "  ingr_0         ingr_1         ingr_2         ingr_3       ingr_4  \\\n0  yeast          water    white sugar           salt          egg   \n1  flour           salt  baking powder          poppy       butter   \n2  flour            egg    white sugar  vegetable oil   applesauce   \n3  flour  baking powder    baking soda           salt     cinnamon   \n4    oat     buttermilk  vegetable oil            egg  brown sugar   \n\n          ingr_5         ingr_6       ingr_7         ingr_8      ingr_9  ...  \\\n0         butter          flour       butter                             ...   \n1  vegetable oil            egg         milk    white sugar     vanilla  ...   \n2         raisin       cinnamon  baking soda  baking powder  sour cream  ...   \n3         nutmeg    brown sugar          oat          apple      walnut  ...   \n4          flour  baking powder  baking soda           salt              ...   \n\n  ingr_55 ingr_56 ingr_57 ingr_58 ingr_59 ingr_60 ingr_61 ingr_62 ingr_63  \\\n0                                                                           \n1                                                                           \n2                                                                           \n3                                                                           \n4                                                                           \n\n  ingr_64  \n0          \n1          \n2          \n3          \n4          \n\n[5 rows x 65 columns]",
      "text/html": "<div>\n<style scoped>\n    .dataframe tbody tr th:only-of-type {\n        vertical-align: middle;\n    }\n\n    .dataframe tbody tr th {\n        vertical-align: top;\n    }\n\n    .dataframe thead th {\n        text-align: right;\n    }\n</style>\n<table border=\"1\" class=\"dataframe\">\n  <thead>\n    <tr style=\"text-align: right;\">\n      <th></th>\n      <th>ingr_0</th>\n      <th>ingr_1</th>\n      <th>ingr_2</th>\n      <th>ingr_3</th>\n      <th>ingr_4</th>\n      <th>ingr_5</th>\n      <th>ingr_6</th>\n      <th>ingr_7</th>\n      <th>ingr_8</th>\n      <th>ingr_9</th>\n      <th>...</th>\n      <th>ingr_55</th>\n      <th>ingr_56</th>\n      <th>ingr_57</th>\n      <th>ingr_58</th>\n      <th>ingr_59</th>\n      <th>ingr_60</th>\n      <th>ingr_61</th>\n      <th>ingr_62</th>\n      <th>ingr_63</th>\n      <th>ingr_64</th>\n    </tr>\n  </thead>\n  <tbody>\n    <tr>\n      <th>0</th>\n      <td>yeast</td>\n      <td>water</td>\n      <td>white sugar</td>\n      <td>salt</td>\n      <td>egg</td>\n      <td>butter</td>\n      <td>flour</td>\n      <td>butter</td>\n      <td></td>\n      <td></td>\n      <td>...</td>\n      <td></td>\n      <td></td>\n      <td></td>\n      <td></td>\n      <td></td>\n      <td></td>\n      <td></td>\n      <td></td>\n      <td></td>\n      <td></td>\n    </tr>\n    <tr>\n      <th>1</th>\n      <td>flour</td>\n      <td>salt</td>\n      <td>baking powder</td>\n      <td>poppy</td>\n      <td>butter</td>\n      <td>vegetable oil</td>\n      <td>egg</td>\n      <td>milk</td>\n      <td>white sugar</td>\n      <td>vanilla</td>\n      <td>...</td>\n      <td></td>\n      <td></td>\n      <td></td>\n      <td></td>\n      <td></td>\n      <td></td>\n      <td></td>\n      <td></td>\n      <td></td>\n      <td></td>\n    </tr>\n    <tr>\n      <th>2</th>\n      <td>flour</td>\n      <td>egg</td>\n      <td>white sugar</td>\n      <td>vegetable oil</td>\n      <td>applesauce</td>\n      <td>raisin</td>\n      <td>cinnamon</td>\n      <td>baking soda</td>\n      <td>baking powder</td>\n      <td>sour cream</td>\n      <td>...</td>\n      <td></td>\n      <td></td>\n      <td></td>\n      <td></td>\n      <td></td>\n      <td></td>\n      <td></td>\n      <td></td>\n      <td></td>\n      <td></td>\n    </tr>\n    <tr>\n      <th>3</th>\n      <td>flour</td>\n      <td>baking powder</td>\n      <td>baking soda</td>\n      <td>salt</td>\n      <td>cinnamon</td>\n      <td>nutmeg</td>\n      <td>brown sugar</td>\n      <td>oat</td>\n      <td>apple</td>\n      <td>walnut</td>\n      <td>...</td>\n      <td></td>\n      <td></td>\n      <td></td>\n      <td></td>\n      <td></td>\n      <td></td>\n      <td></td>\n      <td></td>\n      <td></td>\n      <td></td>\n    </tr>\n    <tr>\n      <th>4</th>\n      <td>oat</td>\n      <td>buttermilk</td>\n      <td>vegetable oil</td>\n      <td>egg</td>\n      <td>brown sugar</td>\n      <td>flour</td>\n      <td>baking powder</td>\n      <td>baking soda</td>\n      <td>salt</td>\n      <td></td>\n      <td>...</td>\n      <td></td>\n      <td></td>\n      <td></td>\n      <td></td>\n      <td></td>\n      <td></td>\n      <td></td>\n      <td></td>\n      <td></td>\n      <td></td>\n    </tr>\n  </tbody>\n</table>\n<p>5 rows × 65 columns</p>\n</div>"
     },
     "metadata": {},
     "execution_count": 195
    }
   ],
   "source": [
    "modeling_df = modeling_df.replace(np.nan, '', regex=True)\n",
    "modeling_df.head()"
   ]
  },
  {
   "cell_type": "code",
   "execution_count": null,
   "metadata": {},
   "outputs": [],
   "source": [
    "\n",
    "\n",
    "\n",
    "\n",
    "\n",
    "\n",
    "\n",
    "\n",
    "\n",
    "\n",
    "\n",
    "\n",
    "\n",
    "\n",
    "\n",
    "\n",
    "\n",
    "\n",
    "\n",
    "\n",
    "\n"
   ]
  },
  {
   "cell_type": "code",
   "execution_count": null,
   "metadata": {},
   "outputs": [],
   "source": [
    "# create sequences for model to train on\n",
    "maxlen = 5\n",
    "step = 2\n",
    "\n",
    "sequences = []\n",
    "next_ingr = []"
   ]
  }
 ]
}