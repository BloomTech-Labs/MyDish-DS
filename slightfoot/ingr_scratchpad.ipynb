{
 "nbformat": 4,
 "nbformat_minor": 2,
 "metadata": {
  "language_info": {
   "name": "python",
   "codemirror_mode": {
    "name": "ipython",
    "version": 3
   },
   "version": "3.7.6-final"
  },
  "orig_nbformat": 2,
  "file_extension": ".py",
  "mimetype": "text/x-python",
  "name": "python",
  "npconvert_exporter": "python",
  "pygments_lexer": "ipython3",
  "version": 3,
  "kernelspec": {
   "name": "python37664bitmydishconda797818ee0abc4ea29f1e1dc6ed83066f",
   "display_name": "Python 3.7.6 64-bit ('MyDish': conda)"
  }
 },
 "cells": [
  {
   "cell_type": "markdown",
   "execution_count": null,
   "metadata": {},
   "outputs": [],
   "source": [
    "# Really tho'... how many ingredients could there possibly be???"
   ]
  },
  {
   "cell_type": "code",
   "execution_count": 1,
   "metadata": {},
   "outputs": [],
   "source": [
    "import pandas as pd\n",
    "import numpy as np\n",
    "import matplotlib.pyplot as plt\n",
    "\n",
    "from sklearn.feature_extraction.text import CountVectorizer, TfidfVectorizer\n",
    "from sklearn.metrics.pairwise import cosine_similarity\n",
    "from sklearn.neighbors import NearestNeighbors\n",
    "\n",
    "import re\n",
    "import string"
   ]
  },
  {
   "cell_type": "code",
   "execution_count": 2,
   "metadata": {},
   "outputs": [],
   "source": [
    "import spacy\n",
    "nlp = spacy.load(\"en_core_web_sm\")"
   ]
  },
  {
   "cell_type": "code",
   "execution_count": 3,
   "metadata": {},
   "outputs": [],
   "source": [
    "# Pulling in df of recipes to test modeling\n",
    "\n",
    "df_path = '../data/clean_recipes.csv'\n",
    "df = pd.read_csv(df_path, sep=';')"
   ]
  },
  {
   "cell_type": "code",
   "execution_count": 4,
   "metadata": {},
   "outputs": [],
   "source": [
    "def parse_ingredients(dfcolumn):\n",
    "    '''Parses a column of ingredients and return a list of unique values'''\n",
    "\n",
    "    # If instance is one string with all ingredients, split by comma\n",
    "    if type(dfcolumn[0]) == str:\n",
    "        dfcolumn = dfcolumn.apply(lambda x: x.split(','))\n",
    "\n",
    "    # Create set of unique values, the convert to list\n",
    "    ingredients = set(x for l in dfcolumn for x in l)\n",
    "    ingredient_list = list(ingredients)\n",
    "\n",
    "    return ingredient_list"
   ]
  },
  {
   "cell_type": "code",
   "execution_count": 5,
   "metadata": {},
   "outputs": [
    {
     "name": "stdout",
     "output_type": "stream",
     "text": "(12351, 10)\n"
    },
    {
     "data": {
      "text/html": "<div>\n<style scoped>\n    .dataframe tbody tr th:only-of-type {\n        vertical-align: middle;\n    }\n\n    .dataframe tbody tr th {\n        vertical-align: top;\n    }\n\n    .dataframe thead th {\n        text-align: right;\n    }\n</style>\n<table border=\"1\" class=\"dataframe\">\n  <thead>\n    <tr style=\"text-align: right;\">\n      <th></th>\n      <th>Recipe Name</th>\n      <th>Review Count</th>\n      <th>Recipe Photo</th>\n      <th>Author</th>\n      <th>Prepare Time</th>\n      <th>Cook Time</th>\n      <th>Total Time</th>\n      <th>Ingredients</th>\n      <th>Directions</th>\n      <th>RecipeID</th>\n    </tr>\n  </thead>\n  <tbody>\n    <tr>\n      <th>0</th>\n      <td>Golden Crescent Rolls Recipe</td>\n      <td>304</td>\n      <td>https://images.media-allrecipes.com/userphotos...</td>\n      <td>Mike A.</td>\n      <td>25 m</td>\n      <td>15 m</td>\n      <td>3 h 10 m</td>\n      <td>yeast,water,white sugar,salt,egg,butter,flour,...</td>\n      <td>Dissolve yeast in warm water.**Stir in sugar, ...</td>\n      <td>7000</td>\n    </tr>\n    <tr>\n      <th>1</th>\n      <td>Poppy Seed Bread with Glaze Recipe</td>\n      <td>137</td>\n      <td>https://images.media-allrecipes.com/userphotos...</td>\n      <td>Christina Jun</td>\n      <td>15 m</td>\n      <td>1 h</td>\n      <td>1 h 20 m</td>\n      <td>flour,salt,baking powder,poppy,butter,vegetabl...</td>\n      <td>'Preheat oven to 350 degrees F (175 degrees C)...</td>\n      <td>7001</td>\n    </tr>\n    <tr>\n      <th>2</th>\n      <td>Applesauce Bread I Recipe</td>\n      <td>124</td>\n      <td>https://images.media-allrecipes.com/userphotos...</td>\n      <td>GAF55</td>\n      <td>10 m</td>\n      <td>1 h 20 m</td>\n      <td>1 h 30 m</td>\n      <td>flour,egg,white sugar,vegetable oil,applesauce...</td>\n      <td>Preheat oven to 350 degrees F (175 degrees C)....</td>\n      <td>7003</td>\n    </tr>\n    <tr>\n      <th>3</th>\n      <td>Apple Raisin Bread Recipe</td>\n      <td>39</td>\n      <td>https://images.media-allrecipes.com/userphotos...</td>\n      <td>Helen Hanson</td>\n      <td>15 m</td>\n      <td>1 h</td>\n      <td>1 h 15 m</td>\n      <td>flour,baking powder,baking soda,salt,cinnamon,...</td>\n      <td>Preheat oven to 350 degrees F (175 degrees C)....</td>\n      <td>7006</td>\n    </tr>\n    <tr>\n      <th>4</th>\n      <td>Buttermilk Oatmeal Bread Recipe</td>\n      <td>41</td>\n      <td>https://images.media-allrecipes.com/userphotos...</td>\n      <td>Helen Hanson</td>\n      <td>10 m</td>\n      <td>1 h</td>\n      <td>1 h 40 m</td>\n      <td>oat,buttermilk,vegetable oil,egg,brown sugar,f...</td>\n      <td>Mix oats with buttermilk.  Let stand for 1/2 h...</td>\n      <td>7007</td>\n    </tr>\n  </tbody>\n</table>\n</div>",
      "text/plain": "                           Recipe Name Review Count  \\\n0        Golden Crescent Rolls Recipe           304   \n1  Poppy Seed Bread with Glaze Recipe           137   \n2           Applesauce Bread I Recipe           124   \n3           Apple Raisin Bread Recipe            39   \n4     Buttermilk Oatmeal Bread Recipe            41   \n\n                                        Recipe Photo         Author  \\\n0  https://images.media-allrecipes.com/userphotos...        Mike A.   \n1  https://images.media-allrecipes.com/userphotos...  Christina Jun   \n2  https://images.media-allrecipes.com/userphotos...          GAF55   \n3  https://images.media-allrecipes.com/userphotos...   Helen Hanson   \n4  https://images.media-allrecipes.com/userphotos...   Helen Hanson   \n\n  Prepare Time Cook Time Total Time  \\\n0         25 m      15 m   3 h 10 m   \n1         15 m       1 h   1 h 20 m   \n2         10 m  1 h 20 m   1 h 30 m   \n3         15 m       1 h   1 h 15 m   \n4         10 m       1 h   1 h 40 m   \n\n                                         Ingredients  \\\n0  yeast,water,white sugar,salt,egg,butter,flour,...   \n1  flour,salt,baking powder,poppy,butter,vegetabl...   \n2  flour,egg,white sugar,vegetable oil,applesauce...   \n3  flour,baking powder,baking soda,salt,cinnamon,...   \n4  oat,buttermilk,vegetable oil,egg,brown sugar,f...   \n\n                                          Directions  RecipeID  \n0  Dissolve yeast in warm water.**Stir in sugar, ...      7000  \n1  'Preheat oven to 350 degrees F (175 degrees C)...      7001  \n2  Preheat oven to 350 degrees F (175 degrees C)....      7003  \n3  Preheat oven to 350 degrees F (175 degrees C)....      7006  \n4  Mix oats with buttermilk.  Let stand for 1/2 h...      7007  "
     },
     "execution_count": 5,
     "metadata": {},
     "output_type": "execute_result"
    }
   ],
   "source": [
    "print(df.shape)\n",
    "df.head()"
   ]
  },
  {
   "cell_type": "code",
   "execution_count": 6,
   "metadata": {},
   "outputs": [
    {
     "name": "stdout",
     "output_type": "stream",
     "text": "(39774, 3)\n"
    },
    {
     "data": {
      "text/html": "<div>\n<style scoped>\n    .dataframe tbody tr th:only-of-type {\n        vertical-align: middle;\n    }\n\n    .dataframe tbody tr th {\n        vertical-align: top;\n    }\n\n    .dataframe thead th {\n        text-align: right;\n    }\n</style>\n<table border=\"1\" class=\"dataframe\">\n  <thead>\n    <tr style=\"text-align: right;\">\n      <th></th>\n      <th>id</th>\n      <th>cuisine</th>\n      <th>ingredients</th>\n    </tr>\n  </thead>\n  <tbody>\n    <tr>\n      <th>0</th>\n      <td>10259</td>\n      <td>greek</td>\n      <td>[romaine lettuce, black olives, grape tomatoes...</td>\n    </tr>\n    <tr>\n      <th>1</th>\n      <td>25693</td>\n      <td>southern_us</td>\n      <td>[plain flour, ground pepper, salt, tomatoes, g...</td>\n    </tr>\n    <tr>\n      <th>2</th>\n      <td>20130</td>\n      <td>filipino</td>\n      <td>[eggs, pepper, salt, mayonaise, cooking oil, g...</td>\n    </tr>\n    <tr>\n      <th>3</th>\n      <td>22213</td>\n      <td>indian</td>\n      <td>[water, vegetable oil, wheat, salt]</td>\n    </tr>\n    <tr>\n      <th>4</th>\n      <td>13162</td>\n      <td>indian</td>\n      <td>[black pepper, shallots, cornflour, cayenne pe...</td>\n    </tr>\n  </tbody>\n</table>\n</div>",
      "text/plain": "      id      cuisine                                        ingredients\n0  10259        greek  [romaine lettuce, black olives, grape tomatoes...\n1  25693  southern_us  [plain flour, ground pepper, salt, tomatoes, g...\n2  20130     filipino  [eggs, pepper, salt, mayonaise, cooking oil, g...\n3  22213       indian                [water, vegetable oil, wheat, salt]\n4  13162       indian  [black pepper, shallots, cornflour, cayenne pe..."
     },
     "execution_count": 6,
     "metadata": {},
     "output_type": "execute_result"
    }
   ],
   "source": [
    "kgl_df = pd.read_json('../data/kgl_ingredient_train.json')\n",
    "print(kgl_df.shape)\n",
    "kgl_df.head()"
   ]
  },
  {
   "cell_type": "code",
   "execution_count": 7,
   "metadata": {},
   "outputs": [
    {
     "name": "stdout",
     "output_type": "stream",
     "text": "(9944, 2)\n"
    },
    {
     "data": {
      "text/html": "<div>\n<style scoped>\n    .dataframe tbody tr th:only-of-type {\n        vertical-align: middle;\n    }\n\n    .dataframe tbody tr th {\n        vertical-align: top;\n    }\n\n    .dataframe thead th {\n        text-align: right;\n    }\n</style>\n<table border=\"1\" class=\"dataframe\">\n  <thead>\n    <tr style=\"text-align: right;\">\n      <th></th>\n      <th>id</th>\n      <th>ingredients</th>\n    </tr>\n  </thead>\n  <tbody>\n    <tr>\n      <th>0</th>\n      <td>18009</td>\n      <td>[baking powder, eggs, all-purpose flour, raisi...</td>\n    </tr>\n    <tr>\n      <th>1</th>\n      <td>28583</td>\n      <td>[sugar, egg yolks, corn starch, cream of tarta...</td>\n    </tr>\n    <tr>\n      <th>2</th>\n      <td>41580</td>\n      <td>[sausage links, fennel bulb, fronds, olive oil...</td>\n    </tr>\n    <tr>\n      <th>3</th>\n      <td>29752</td>\n      <td>[meat cuts, file powder, smoked sausage, okra,...</td>\n    </tr>\n    <tr>\n      <th>4</th>\n      <td>35687</td>\n      <td>[ground black pepper, salt, sausage casings, l...</td>\n    </tr>\n  </tbody>\n</table>\n</div>",
      "text/plain": "      id                                        ingredients\n0  18009  [baking powder, eggs, all-purpose flour, raisi...\n1  28583  [sugar, egg yolks, corn starch, cream of tarta...\n2  41580  [sausage links, fennel bulb, fronds, olive oil...\n3  29752  [meat cuts, file powder, smoked sausage, okra,...\n4  35687  [ground black pepper, salt, sausage casings, l..."
     },
     "execution_count": 7,
     "metadata": {},
     "output_type": "execute_result"
    }
   ],
   "source": [
    "kgl2_df = pd.read_json('../data/kgl_ingredient_test.json')\n",
    "print(kgl2_df.shape)\n",
    "kgl2_df.head()"
   ]
  },
  {
   "cell_type": "code",
   "execution_count": 8,
   "metadata": {},
   "outputs": [],
   "source": [
    "# Isolate ingredients from each set via parse_ingredients function\n",
    "df_ing = parse_ingredients(df.Ingredients)\n",
    "kgl_ing = parse_ingredients(kgl_df.ingredients)\n",
    "kgl2_ing = parse_ingredients(kgl2_df.ingredients)"
   ]
  },
  {
   "cell_type": "code",
   "execution_count": 9,
   "metadata": {},
   "outputs": [
    {
     "data": {
      "text/plain": "['',\n ' 2',\n ' 2 inches thick',\n ' and 3:',\n ' and dried',\n ' casings removed',\n ' chopped',\n ' cleaned',\n ' cubed',\n ' cut into 1/2 inch thick circles',\n ' divided',\n ' drained',\n ' drained and chopped',\n ' drained and finely chopped',\n ' drained and mashed',\n ' for topping',\n ' ground',\n ' halved',\n ' julienned',\n ' lean',\n ' mashed',\n ' peeled and cubed',\n ' peeled and julienned',\n ' peeled and segmented',\n ' peeled and shredded',\n ' rinsed',\n ' rinsed and dried',\n ' rinsed and torn',\n ' seasoned croutons',\n ' soaked',\n ' split',\n ' split and toasted',\n ' stemmed and rinsed',\n ' thawed',\n ' to taste',\n ' warmed',\n ' washed and cubed',\n ' without shells',\n \"'1 pound calves'' brains\",\n \"'2 cups crushed zwieback toast\",\n \"'3 tablespoons meringue powder\",\n \"'5 pig''s feet\",\n \"'CRUST:\",\n \"'Crust:\",\n \"'LADYFINGERS\",\n \"'Streusel:\",\n '(    oz.) tomato sauce',\n '(   oz.) tomato paste',\n '(10 oz.) frozen chopped spinach',\n '(10 oz.) frozen chopped spinach, thawed and squeezed dry']"
     },
     "execution_count": 9,
     "metadata": {},
     "output_type": "execute_result"
    }
   ],
   "source": [
    "ingredients = sorted(list(set().union(df_ing, kgl_ing, kgl2_ing)))\n",
    "ingredients[:50]"
   ]
  },
  {
   "cell_type": "code",
   "execution_count": 10,
   "metadata": {},
   "outputs": [
    {
     "name": "stdout",
     "output_type": "stream",
     "text": "7800\n"
    },
    {
     "data": {
      "text/plain": "['',\n ' 2',\n ' 2 inches thick',\n ' and 3:',\n ' and dried',\n ' casings removed',\n ' chopped',\n ' cleaned',\n ' cubed',\n ' cut into 1/2 inch thick circles',\n ' divided',\n ' drained',\n ' drained and chopped',\n ' drained and finely chopped',\n ' drained and mashed',\n ' for topping',\n ' ground',\n ' halved',\n ' julienned',\n ' lean']"
     },
     "execution_count": 10,
     "metadata": {},
     "output_type": "execute_result"
    }
   ],
   "source": [
    "ingredients = [i.lower() for i in ingredients]\n",
    "print(len(ingredients))\n",
    "ingredients[:20]"
   ]
  },
  {
   "cell_type": "code",
   "execution_count": 11,
   "metadata": {},
   "outputs": [],
   "source": [
    "def scrub_ingredients(string, dropwords):\n",
    "    if string:\n",
    "        split_string = string.split()\n",
    "        trimmed_words = [word for word in split_string if word.lower().strip(' .-:\"()1234567890%/\\\\\\'') not in dropwords]\n",
    "        return ' '.join(trimmed_words)"
   ]
  },
  {
   "cell_type": "code",
   "execution_count": 12,
   "metadata": {},
   "outputs": [
    {
     "data": {
      "text/plain": "['2',\n '2 thick',\n '3:',\n 'dried',\n 'casings removed',\n 'chopped',\n 'cleaned',\n 'cubed',\n 'cut into 1/2 inch thick circles',\n 'divided',\n 'drained',\n 'drained chopped',\n 'drained finely chopped',\n 'drained mashed',\n 'topping',\n '',\n 'halved',\n 'julienned',\n 'lean',\n 'mashed',\n 'peeled cubed',\n 'peeled julienned',\n 'peeled segmented',\n 'peeled shredded',\n 'rinsed',\n 'rinsed dried',\n 'rinsed torn',\n 'seasoned croutons',\n 'soaked',\n 'split',\n 'split toasted',\n 'stemmed rinsed',\n 'thawed',\n 'to taste',\n 'warmed',\n 'washed cubed',\n 'without shells',\n \"'1 pound calves'' brains\",\n \"'2 cups crushed zwieback toast\",\n \"'3 tablespoons meringue powder\",\n \"'5 pig''s feet\",\n \"'crust:\",\n \"'crust:\",\n \"'ladyfingers\",\n \"'streusel:\",\n '( tomato sauce',\n '( tomato paste',\n '(10 frozen chopped spinach',\n '(10 frozen chopped spinach, thawed squeezed dry',\n '(14 sweetened condensed milk']"
     },
     "execution_count": 12,
     "metadata": {},
     "output_type": "execute_result"
    }
   ],
   "source": [
    "# Cleaning up/trimming down that list\n",
    "dropwords = ['ounce', 'ounces', 'oz', 'oz.', 'oz.', 'lb', 'lb.', ' pound', 'package', 'packages', 'inches', 'ground', 'and', 'for']\n",
    "ingredients = [i.lower() for i in ingredients]\n",
    "ingredients_trimmed = [scrub_ingredients(x, dropwords) for x in ingredients if x]\n",
    "ingredients_trimmed[:50]"
   ]
  },
  {
   "cell_type": "code",
   "execution_count": 13,
   "metadata": {},
   "outputs": [
    {
     "data": {
      "text/plain": "['a taste of thai rice noodles',\n 'abalone',\n 'abbamele',\n 'absinthe',\n 'abura age',\n 'acai juice',\n 'accent',\n 'accent seasoning',\n 'accompaniment',\n 'achiote',\n 'achiote paste',\n 'achiote powder',\n 'acini di pepe',\n 'ackee',\n 'acorn squash',\n 'activ dry quick rise yeast',\n 'active dry yeast',\n 'adobo',\n 'adobo all purpose seasoning',\n 'adobo sauce',\n 'adobo seasoning',\n 'adobo seasoning to taste',\n 'adobo style seasoning',\n 'adzuki beans',\n 'agar',\n 'agar agar flakes',\n 'agave nectar',\n 'agave tequila',\n 'aged balsamic vinegar',\n 'aged cheddar cheese',\n 'aged gouda',\n 'aged manchego cheese',\n 'ahi',\n 'ahi tuna steaks',\n 'aioli',\n 'ajinomoto',\n 'ajwain',\n 'aka miso',\n 'alaskan halibut',\n 'alaskan king crab legs',\n 'alaskan king salmon',\n 'albacore',\n 'albacore tuna in water',\n 'alcohol',\n 'alcoholic',\n 'ale',\n 'aleppo',\n 'aleppo pepper',\n 'alexia waffle fries',\n 'alfalfa sprouts']"
     },
     "execution_count": 13,
     "metadata": {},
     "output_type": "execute_result"
    }
   ],
   "source": [
    "ingredients_stripped = [x.strip(' .:\"()1234567890%/\\\\\\'') for x in ingredients_trimmed]\n",
    "ingredients_stripped = sorted([i.lower() for i in ingredients_stripped if i])\n",
    "ingredients_stripped[:50]"
   ]
  },
  {
   "cell_type": "code",
   "execution_count": 14,
   "metadata": {},
   "outputs": [
    {
     "data": {
      "text/plain": "7796"
     },
     "execution_count": 14,
     "metadata": {},
     "output_type": "execute_result"
    }
   ],
   "source": [
    "len(ingredients_stripped)"
   ]
  },
  {
   "cell_type": "code",
   "execution_count": 62,
   "metadata": {},
   "outputs": [],
   "source": [
    "vals = ingredients_stripped\n",
    "\n",
    "def ngrams_analyzer(string):\n",
    "    string = re.sub(r'[,-./]', r'', string)\n",
    "    ngrams = zip(*[string[i:] for i in range(5)])  # N-Gram length is 5\n",
    "    return [''.join(ngram) for ngram in ngrams]\n",
    "\n",
    "def get_lemz(text):\n",
    "\n",
    "    stopwords = []\n",
    "    lemmas = []\n",
    "\n",
    "    doc = nlp(text)\n",
    "\n",
    "    for token in doc:\n",
    "        if (token.text.lower() not in stopwords):\n",
    "            if ((token.is_stop == False) & (token.is_punct == False)) & (token.pos_!= 'PRON'):\n",
    "                lemmas.append(token.lemma_)\n",
    "\n",
    "    return lemmas\n",
    "\n",
    "vectorizer = TfidfVectorizer(analyzer=ngrams_analyzer, stop_words='english', max_df=.97)"
   ]
  },
  {
   "cell_type": "code",
   "execution_count": 63,
   "metadata": {},
   "outputs": [
    {
     "data": {
      "text/html": "<div>\n<style scoped>\n    .dataframe tbody tr th:only-of-type {\n        vertical-align: middle;\n    }\n\n    .dataframe tbody tr th {\n        vertical-align: top;\n    }\n\n    .dataframe thead th {\n        text-align: right;\n    }\n</style>\n<table border=\"1\" class=\"dataframe\">\n  <thead>\n    <tr style=\"text-align: right;\">\n      <th></th>\n      <th>2</th>\n      <th>achiote</th>\n      <th>acid</th>\n      <th>add</th>\n      <th>adobo</th>\n      <th>agave</th>\n      <th>aged</th>\n      <th>alaskan</th>\n      <th>ale</th>\n      <th>alfredo</th>\n      <th>...</th>\n      <th>zwieback</th>\n      <th>zwieback toast</th>\n      <th></th>\n      <th> seasoning</th>\n      <th>®</th>\n      <th>® greek</th>\n      <th>® original</th>\n      <th>® pasta</th>\n      <th>® traditional</th>\n      <th>™</th>\n    </tr>\n  </thead>\n  <tbody>\n    <tr>\n      <th>0</th>\n      <td>0.0</td>\n      <td>0.0</td>\n      <td>0.0</td>\n      <td>0.0</td>\n      <td>0.0</td>\n      <td>0.0</td>\n      <td>0.0</td>\n      <td>0.0</td>\n      <td>0.0</td>\n      <td>0.0</td>\n      <td>...</td>\n      <td>0.0</td>\n      <td>0.0</td>\n      <td>0.0</td>\n      <td>0.0</td>\n      <td>0.0</td>\n      <td>0.0</td>\n      <td>0.0</td>\n      <td>0.0</td>\n      <td>0.0</td>\n      <td>0.0</td>\n    </tr>\n    <tr>\n      <th>1</th>\n      <td>0.0</td>\n      <td>0.0</td>\n      <td>0.0</td>\n      <td>0.0</td>\n      <td>0.0</td>\n      <td>0.0</td>\n      <td>0.0</td>\n      <td>0.0</td>\n      <td>0.0</td>\n      <td>0.0</td>\n      <td>...</td>\n      <td>0.0</td>\n      <td>0.0</td>\n      <td>0.0</td>\n      <td>0.0</td>\n      <td>0.0</td>\n      <td>0.0</td>\n      <td>0.0</td>\n      <td>0.0</td>\n      <td>0.0</td>\n      <td>0.0</td>\n    </tr>\n    <tr>\n      <th>2</th>\n      <td>0.0</td>\n      <td>0.0</td>\n      <td>0.0</td>\n      <td>0.0</td>\n      <td>0.0</td>\n      <td>0.0</td>\n      <td>0.0</td>\n      <td>0.0</td>\n      <td>0.0</td>\n      <td>0.0</td>\n      <td>...</td>\n      <td>0.0</td>\n      <td>0.0</td>\n      <td>0.0</td>\n      <td>0.0</td>\n      <td>0.0</td>\n      <td>0.0</td>\n      <td>0.0</td>\n      <td>0.0</td>\n      <td>0.0</td>\n      <td>0.0</td>\n    </tr>\n    <tr>\n      <th>3</th>\n      <td>0.0</td>\n      <td>0.0</td>\n      <td>0.0</td>\n      <td>0.0</td>\n      <td>0.0</td>\n      <td>0.0</td>\n      <td>0.0</td>\n      <td>0.0</td>\n      <td>0.0</td>\n      <td>0.0</td>\n      <td>...</td>\n      <td>0.0</td>\n      <td>0.0</td>\n      <td>0.0</td>\n      <td>0.0</td>\n      <td>0.0</td>\n      <td>0.0</td>\n      <td>0.0</td>\n      <td>0.0</td>\n      <td>0.0</td>\n      <td>0.0</td>\n    </tr>\n    <tr>\n      <th>4</th>\n      <td>0.0</td>\n      <td>0.0</td>\n      <td>0.0</td>\n      <td>0.0</td>\n      <td>0.0</td>\n      <td>0.0</td>\n      <td>0.0</td>\n      <td>0.0</td>\n      <td>0.0</td>\n      <td>0.0</td>\n      <td>...</td>\n      <td>0.0</td>\n      <td>0.0</td>\n      <td>0.0</td>\n      <td>0.0</td>\n      <td>0.0</td>\n      <td>0.0</td>\n      <td>0.0</td>\n      <td>0.0</td>\n      <td>0.0</td>\n      <td>0.0</td>\n    </tr>\n  </tbody>\n</table>\n<p>5 rows × 1839 columns</p>\n</div>",
      "text/plain": "     2  achiote  acid  add  adobo  agave  aged  alaskan  ale  alfredo  ...  \\\n0  0.0      0.0   0.0  0.0    0.0    0.0   0.0      0.0  0.0      0.0  ...   \n1  0.0      0.0   0.0  0.0    0.0    0.0   0.0      0.0  0.0      0.0  ...   \n2  0.0      0.0   0.0  0.0    0.0    0.0   0.0      0.0  0.0      0.0  ...   \n3  0.0      0.0   0.0  0.0    0.0    0.0   0.0      0.0  0.0      0.0  ...   \n4  0.0      0.0   0.0  0.0    0.0    0.0   0.0      0.0  0.0      0.0  ...   \n\n   zwieback  zwieback toast       seasoning    ®  ® greek  ® original  \\\n0       0.0             0.0  0.0          0.0  0.0      0.0         0.0   \n1       0.0             0.0  0.0          0.0  0.0      0.0         0.0   \n2       0.0             0.0  0.0          0.0  0.0      0.0         0.0   \n3       0.0             0.0  0.0          0.0  0.0      0.0         0.0   \n4       0.0             0.0  0.0          0.0  0.0      0.0         0.0   \n\n   ® pasta  ® traditional    ™  \n0      0.0            0.0  0.0  \n1      0.0            0.0  0.0  \n2      0.0            0.0  0.0  \n3      0.0            0.0  0.0  \n4      0.0            0.0  0.0  \n\n[5 rows x 1839 columns]"
     },
     "execution_count": 63,
     "metadata": {},
     "output_type": "execute_result"
    }
   ],
   "source": [
    "tfidf = TfidfVectorizer(stop_words='english',\n",
    "                        ngram_range=(1,2),\n",
    "                        max_df=.97,\n",
    "                        min_df=3,\n",
    "                        tokenizer=get_lemz)\n",
    "\n",
    "dtm = tfidf.fit_transform(vals)\n",
    "dtm = pd.DataFrame(dtm.todense(), columns=tfidf.get_feature_names())\n",
    "dtm.head()"
   ]
  },
  {
   "cell_type": "code",
   "execution_count": null,
   "metadata": {},
   "outputs": [],
   "source": []
  },
  {
   "cell_type": "markdown",
   "metadata": {},
   "source": [
    "-----\n",
    "\n",
    "## Let's considering going about this a different way...\n",
    "If we keep the count of each ingredient, it's likely that ingredients that only show up once are the misspelled or incorrectly categorized items?!"
   ]
  },
  {
   "cell_type": "code",
   "execution_count": 64,
   "metadata": {},
   "outputs": [],
   "source": [
    "df_ing.extend(kgl_ing)"
   ]
  },
  {
   "cell_type": "code",
   "execution_count": 65,
   "metadata": {},
   "outputs": [],
   "source": [
    "df_ing.extend(kgl2_ing)"
   ]
  },
  {
   "cell_type": "code",
   "execution_count": 66,
   "metadata": {},
   "outputs": [
    {
     "data": {
      "text/plain": "72644"
     },
     "execution_count": 66,
     "metadata": {},
     "output_type": "execute_result"
    }
   ],
   "source": [
    "len(df_ing)"
   ]
  },
  {
   "cell_type": "code",
   "execution_count": 67,
   "metadata": {},
   "outputs": [],
   "source": [
    "def ingredient_count(dfcolumn):\n",
    "    '''Parses a column of word lists and returns a dictionary of words/wordcounts'''\n",
    "\n",
    "    # If observation is one long string of ingredients, split by comma\n",
    "    if type(dfcolumn[0]) == str:\n",
    "        dfcolumn = dfcolumn.apply(lambda x: x.split(','))\n",
    "\n",
    "    # Keep only letters (and ' for potential possessives)\n",
    "    char_table = str.maketrans('', '', string.punctuation)\n",
    "    dfcolumn = [[word.translate(char_table) for word in word_list] for word_list in dfcolumn if word_list]\n",
    "    \n",
    "    # Drop measurement and conjunction words\n",
    "    dropwords = ['ounce', 'ounces', 'oz', 'oz.', 'oz.', 'lb', 'lb.', ' pound', 'package', 'packages', 'inches',\n",
    "                 'ground', 'and', 'for', 'teaspoon', 'tablespoon', 'tbsp', 'tsp']\n",
    "    dfcolumn = [[word.lower().strip(' .:\"()1234567890%/\\\\\\'') for word in word_list if word.lower().strip(' .:\"()1234567890%/\\\\\\'') not in dropwords] for word_list in dfcolumn if word_list]\n",
    "\n",
    "    # Create dictionary with word count\n",
    "    d = dict()\n",
    "\n",
    "    for word_list in dfcolumn:\n",
    "        for word in word_list:\n",
    "            if word in d:\n",
    "                d[word] = d[word] + 1\n",
    "            else:\n",
    "                d[word] = 1\n",
    "\n",
    "    return d"
   ]
  },
  {
   "cell_type": "code",
   "execution_count": 68,
   "metadata": {},
   "outputs": [],
   "source": [
    "derp = ingredient_count(df.Ingredients)"
   ]
  },
  {
   "cell_type": "code",
   "execution_count": 69,
   "metadata": {},
   "outputs": [
    {
     "data": {
      "text/plain": "dict_keys(['yeast', 'water', 'white sugar', 'salt', 'egg', 'butter', 'flour', 'baking powder', 'poppy', 'vegetable oil', 'milk', 'vanilla', 'almond', 'orange juice', 'sugar', 'applesauce', 'raisin', 'cinnamon', 'baking soda', 'sour cream', 'nutmeg', 'brown sugar', 'oat', 'apple', 'walnut', 'buttermilk', 'shortening', 'lemon', 'fruit', 'bread', 'whole wheat', 'cottage cheese', 'margarine', 'banana', 'coffee', 'chocolate', 'cornmeal', 'bell pepper', 'onion', 'garlic', 'corn', 'pimento', 'pepper', 'maple syrup', 'cocoa powder', 'molasses', 'ghee', 'yogurt', 'corn syrup', 'cardamom', 'clove', 'pecan', 'wheat germ', 'honey', 'carrot', 'pineapple', 'vinegar', 'caraway', 'fennel', 'zucchini', 'cream cheese', 'pumpkin', 'cherry', 'citron', 'coconut', 'beer', 'bran', 'beef', 'chile', 'olive', 'cumin', 'chili', 'thyme', 'apple juice', 'tapioca', 'parsley', 'brown rice', 'tea', 'gelatin', 'lemon juice', 'pastry', 'lard', 'currant', 'sourdough', 'basil', 'dill', 'celery', 'ginger', 'spice', 'mace', 'tomato', 'sherry', 'cheddar', 'quinoa', 'rosemary', 'cream', 'dough', 'parmesan', 'sesame', 'macadamia nut', 'potato', 'citrus', 'rum', 'oregano', 'cheese', 'cake', 'pistachio', 'food coloring', 'berry', 'cereal', 'anise', 'italian seasoning', 'orange', 'lecithin', 'tablespoon arrowroot powder', 'blueberry', 'gluten', 'pear', 'cornstarch', 'black pepper', 'apricot', 'sausage', 'mozzarella', 'sodium', 'baking mix', 'seed', 'tablespoons whey powder', 'strawberry', 'tablespoon sucanat', 'chill', 'tablespoon xanthan gum', 'semolina', 'spinach', 'corn oil', 'broccoli', 'ricotta', 'prosciutto', 'date', 'granola', 'mayonnaise', 'cup masa harina', 'whipping cream', 'mushroom', 'spring', 'meat', 'canola oil', 'wheat', 'barley', 'peanut butter', 'cranberry sauce', 'topping thawed', 'ham', 'cookies', 'plum', 'nut', 'liqueur', 'white wine', 'chestnut', 'gum drop', 'brandy', 'cola', 'gummi', 'cocktail', 'dessert', 'cup hot fudge topping', 'hazelnut', 'glaze', 'ice cream', 'vodka', 'prune', 'peach', 'caramel', 'sandwich', 'ounce package tootsie rolls', 'tablespoons liquid sweetener', 'cups hot fudge topping', 'lime', 'lime juice', 'candy', 'sauerkraut', 'raspberry', 'recipe lady baltimore frosting', 'frosting', 'marshmallow', 'drinks', 'peanut', 'amaretto', 'gumdrop', 'mint', 'blackberry', 'icing', 'tomato sauce', 'tablespoons pandan paste', 'tablespoon ovalette', 'grand marnier', 'for the icing', 'fig', 'bean', 'brownie', 'cookie', 'whipped topping mix', 'rice', 'twinkies', 'rhubarb', 'boil', 'bake', 'blue cheese', 'green onion', 'cups crushed zwieback toast', 'guava', 'low fat', 'whiskey', 'cranberry', 'artificial sweetener', 'beet', 'grape', 'cocoa', 'filling', 'persimmon', 'tofu', 'tablespoons arrowroot powder', 'champagne', 'port', 'grains', 'topping', 'pine nut', 'bourbon', 'fluid ounces mountain dew\\x99', 'fat free', 'tablespoons piping gel', 'cannoli shells', 'side', 'ounce packages ladyfingers', 'chicken', 'chicken broth', 'soy sauce', 'swiss cheese', 'barbecue sauce', 'poultry', 'cup french dressing', 'sauce', 'worcestershire sauce', 'salsa', 'tortillas', 'salad dressing', 'curry', 'paprika', 'monterey jack', 'green bean', 'chile pepper', 'mustard', 'bay leaf', 'spaghetti', 'yellow squash', 'sage', 'marjoram', 'hot pepper', 'bacon', 'ketchup', 'red pepper', 'eggplant', 'salad', 'radish', 'cups halfandhalf', 'pasta', 'noodle', 'cilantro', 'cucumber', 'wild rice', 'marsala', 'tablespoons peeled and chopped fresh turmeric', 'cup chutney', 'horseradish', 'ounce packages ranch dressing mix', 'tarragon', 'avocado', 'lettuce', 'shallot', 'pie', 'vegetable', 'couscous', 'coriander', 'skewer', 'sesame oil', 'red wine', 'leek', 'cup saturei dried rose petals', 'herb', 'tablespoon ground turmeric', 'squash', 'muffin', 'asparagus', 'cashew', 'rice vinegar', 'peanut oil', 'cajun seasoning', 'tequila', 'cabbage', 'tablespoon garam masala', 'mango', 'steak sauce', 'tablespoon jerk paste', 'gin', 'fry', 'sugar snap pea', 'ounce bottle bottled bloody mary mix', 'lasagna', 'pea', 'pickles', 'okra', 'cup finely crushed dry stuffing mix', 'pico de gallo', 'tablespoon italianstyle seasoning', 'chive', 'cup croutons', 'crescent roll', 'biscuit', 'steak', 'fontina', 'capers', 'artichoke', 'wine', 'pork', 'taco', 'cup dry stuffing mix', 'vermouth', 'scallop', 'pizza', 'cups creme fraiche', 'oyster', 'ounce jar hot chutney', 'shrimp', 'carcass', 'roast', 'turkey', 'cups prepared stuffing', 'endive', 'rutabaga', 'parsnip', 'kiwi', 'turnip', 'anchovy', 'kosher', 'goose', 'ounce package red and green sprinkles jimmies', 'ground beef', 'soda', 'ice', 'pretzel', 'pounds calamari', 'cleaned', 'salmon', 'fruit juice', 'ounce package ranchstyle dressing mix', 'lamb', 'butternut squash', 'crab', 'ounces liquid pectin', 'pomegranate juice', 'fluid ounce container liquid pectin', 'cup maple flavored syrup', 'cauliflower', 'tablespoons ground turmeric', 'frozen dessert', 'ounce package dry pectin', 'crust', 'tablespoons carob powder', 'golden syrup', 'protein', 'cup toffee baking bits', 'custard', 'popsicle sticks', 'tablespoons meringue powder', 'ounce package multicolored sprinkles jimmies', 'tablespoon maple flavored extract', 'grapefruit', 'rating', 'bitters', 'lavender flower', 'cups toffee baking bits', 'to layer in jar', 'tablespoons multicolored sprinkles jimmies optional', 'cup carob powder', 'pancake', 'cup halfandhalf', 'tablespoon aspartame sweetener', 'tablespoons glue', 'tahini', 'macaroni', 'tuna', 'goat cheese', 'arugula', 'lentil', 'pound flounder fillets', 'tablespoons creme fraiche', 'raw', 'clam', 'manicotti shells', 'stock', 'veal', 'tablespoons pesto', 'gravy', 'cup pesto', 'zest', 'low sodium', 'pound uncooked linguine', 'chard', 'breakfast', 'cups dry hard cider', 'salami', 'bok choy', 'macaroni and cheese', 'tomatillo', 'for the streusel', 'kirsch', 'ounce jar hot fudge topping', 'tart', 'cacao', 'watermelon', 'streusel', 'nectarine', 'bottom layer', 'top layer', 'beef tenderloin', 'cups lite frozen whipped topping', 'cup sorghum', 'jicama', 'peeled and shredded', 'fat', 'squid', 'swordfish', 'cod', 'halibut', 'ounce fillets sole', 'cup hickory wood chips', 'soaked', 'snapper', 'pinch ground savory', 'haddock', 'pounds mahi mahi fillets', 'pound shark fillets', 'mussel', 'cups pesto', 'trout', 'fish', 'bass', 'cup old bay seasoning tm', 'lobster', 'pounds bratwurst', 'pounds hot dogs', 'saffron', 'ounce grouper fillets', 'venison', 'lima bean', 'tablespoon farina', 'chickpea', 'dash liquid smoke flavoring', 'england', 'meatball', 'tablespoons oil', 'ounce package ranch dressing mix', 'ounce can white hominy', 'drained', 'tablespoon tom yum soup paste optional', 'jerusalem artichoke', 'pigs feet', 'ounce cans white hominy', 'kale', 'cup bamboo shoots', 'brisket', 'tablespoon dried savory', 'dried tiger lily buds', 'inch square wonton wrappers', 'ounce can minestrone soup', 'duck', 'pound sirloin tips', 'cubed', 'file powder see note', 'pound ground sirloin', 'ounce can condensed minestrone soup', 'ounce jars tom yum soup paste', 'cup reconstituted karengo seaweed', 'leftovers', 'beef shank', 'cups chopped taro eddoes', 'creole seasoning to taste', 'cup white hominy', 'pounds ground sirloin', 'pork chop', 'ounce package succotash', 'escarole', 'tablespoons old bay seasoning tm', 'steam', 'pounds yams', 'peeled and cubed', 'sangria', 'kumquat', 'cup prepared stuffing', 'pound brussels sprouts', 'tablespoons toffee baking bits', 'ounce package seasoned tempeh', 'tablespoon tamari', 'cup brown miso', 'bulgur', 'vegetarian', 'ounce packages seitan', 'pinch asafoetida powder', 'pitas', 'halved', 'ounce package tempeh', 'ounce package spanish seasoning', 'tamarind', 'hamburger', 'poblano', 'ounce package prepared polenta', 'cup polenta', 'tablespoons safflower oil', 'ounce package powdered pectin optional', 'cups seasoned croutons', 'vinaigrette', 'ounce bottle french dressing', 'cups crushed croutons', 'marinate', 'cups croutons', 'divided', 'ounce package shredded coleslaw mix', 'tablespoons cole slaw dressing', 'cantaloupe', 'ounce container guacamole', 'tablespoons croutons', 'dairy', 'cup cole slaw dressing', 'watercress', 'ounces croutons', 'tablespoons thousand island dressing', 'radicchio', 'pork tenderloin', 'pork rib', 'tablespoons garam masala', 'adobo seasoning to taste', 'hoagie rolls', 'dashes liquid smoke flavoring', 'marinade', 'tablespoons dried italianstyle seasoning', 'lamb chop', 'ground lamb', 'breadcrumbs', 'pounds top sirloin', 'inches thick', 'cup mesquite chips', 'ounce package dry ranchstyle dressing mix', 'pounds filet mignon', 'pound calves livers', 'pound polish kielbasa', 'pigs ears', 'chopped', 'collard greens', 'barbeque seasoning', 'to taste', 'french baguette', 'cut into 12 inch thick circles', 'ounce package small won ton wrappers', 'cup thousand island dressing', 'cocktail sauce', 'fluid ounce sweet and sour mix', 'dash grenadine syrup', 'ounce jar nopales  drained', 'rinsed', 'and dried', 'lunch', 'passion fruit', 'tablespoon halfandhalf', 'ounce jar chutney', 'dinner rolls', 'gram packets acesulfame potassium sweetener', 'pound linguica', 'casings removed', 'packets aspartame sweetener', 'cobbler topping', 'ounce package dry pastini', 'margarita', 'cup guacamole', 'ounces bratwurst', 'for the swiss meringue', 'ounce packet dry fajita seasoning', 'lean', 'ounce packages braunschweiger liverwurst', 'cups brussels sprouts', 'pomegranate', 'tablespoons tamari', 'packet aspartame sweetener', 'cup matzo farfel', 'matzo crackers', 'matzo cracker', 'powdered gold leaf', 'tablespoons dry pectin', 'cups matzo meal', 'kosher for passover', 'tablespoons matzo meal', 'tablespoons liquid smoke flavoring', 'pound eye of round', 'cup matzo meal', 'pound braunschweiger liverwurst', 'cups matzo farfel', 'dried fruit', 'french rolls', 'sake', 'frozen toasted mochi squares', 'thawed', 'cup crushed crackers', 'london', 'pounds top round', 'cup jicama', 'ounce cans condensed minestrone soup', 'ounce package croutons', 'ounce package fluffy white frosting mix', 'pounds bottom round', 'pounds lean top sirloin', 'day old baguette', 'tilapia', 'tablespoons italianstyle seasoning', 'bagels', 'ounce package won ton wrappers', 'tablespoons pan drippings', 'cup wood chips', 'beef rib', 'tablespoons fajita seasoning', 'cups crushed', 'seasoned croutons', 'ounce envelope sloppy joe seasoning', 'wasabi', 'papaya', 'tablespoons file powder', 'cups chopped daikon', 'cup cracker meal', 'ounce packages shredded coleslaw mix', 'rack of lamb', 'fluid ounce grenadine syrup', 'small yams', 'ounce can bamboo shoots', 'julienned', 'peeled and julienned', 'honeydew', 'plantain', 'cooking spray', 'pounds top sirloin  cut into 2 inch strips', 'cups frozen whipped topping', 'tangerine', 'pound kielbasa', 'ounce package powdered pectin', 'japan', 'cups hominy', 'ounce package hot roll mix', 'mexico', 'cup miso paste', 'pounds hickory wood chips', 'brine', 'pound smoked marlin', 'tablespoon old bay \\x99 seasoning', 'hot dog', 'tablespoons alfalfa sprouts', 'cup uncooked millet', 'cups hominy grits', 'ounces thousand island dressing', 'tablespoon miso paste', 'hot dog buns', 'hot dogs', 'pound cooked pheasant', 'lamb shank', 'ounce package seasoned dry stuffing mix', 'calvados', 'fluid ounce blue curacao', 'triple sec', 'fluid ounce jigger grenadine syrup', 'fluid ounces absinthe', 'fluid ounces sour mix', 'tropical fruit', 'ounce package zwieback toast', 'pound king mackerel fillets  cleaned', 'washed and cubed', 'tablespoon old bay seasoning tm', 'sheets nori dry seaweed', 'whole large smoked mullet', 'pounds whole flounder  cleaned', 'rinsed and dried', 'pounds grouper fillets', 'ounce package italianstyle dressing mix', 'pound calves brains', 'ounce package unflavored jello®', 'drained and finely chopped', 'ounce package wonton wrappers', 'ounce packages kippers smoked herring', 'mashed', 'ounce packages small won ton wrappers', 'large yams', 'lychee', 'rabbit', 'crepes', 'tablespoons grenadine syrup', 'fluid ounces cachaca', 'pandan leaves', 'for topping', 'campari', 'tablespoons instant mocha cappuccino mix', 'fluid ounce jiggers grenadine syrup', 'fluid ounces grenadine syrup', 'dash blue curacao', 'fluid ounce can or bottle clear malt liquor', 'tablespoon beau monde \\x99 seasoning', 'tablespoon hickoryflavored liquid smoke', 'cup cognac', 'fluid ounces lillet blanc', 'cup grenadine syrup', 'oatmeal', 'pound mesquite wood chips', 'helix snails', 'without shells', 'syrup', 'ounce bottle cole slaw dressing', 'leaves ti leaves', 'pound taro leaves', 'tablespoon liquid smoke flavoring', 'ounce package braunschweiger liverwurst', 'ounce package bologna', 'pudding', 'ounce loaf baguette', 'cup granular sucrolose sweetener', 'broccoli rabe', 'calories', 'baguette', 'pound package frozen hash browns', 'alcoholic', 'brussel sprout', 'pandan leaf', 'cup dry sago', 'bagel', 'split and toasted', 'fluid ounce cointreau', 'ounce packet fajita seasoning', 'cup crushed croutons', 'ounce fillets flounder', 'frankfurters', 'ladyfingers', 'ounce package seasoned croutons', 'uncooked manicotti shells', 'tablespoons beau monde \\x99 seasoning', 'pound ground round', 'fluid ounces southern comfort', 'dressing', 'fluid ounces liquid smoke flavoring', 'batter', 'tablespoon yam extract', 'ounce can white frosting', 'cup multicolored sprinkles jimmies', 'pounds ground round', 'dash liquid smoke flavoring optional', 'drained and chopped', 'cup simple syrup', 'pound shredded suet', 'ounce can condensed oxtail soup', 'dry mix ingredients', 'to make batter combine 1 13 cups dry mix with the following', 'soy', 'cup sweet and sour mix', 'fluid ounces white zinfandel', 'fluid ounce southern comfort', 'fluid ounce galliano', 'fluid ounce jigger blue curacao', 'tablespoons dry ranchstyle dressing mix', 'cups mixed baby greens', 'other soup ingredients', 'pounds tater tots', 'cup greekstyle seasoning', 'cup bagel chips', 'dip', 'puff', 'ganache', 'ounce loaf round pumpernickel loaf', 'sheets nori seaweed sheets', 'ounce package dry fiestastyle ranch dressing mix', 'ounce loaves round pumpernickel loaves', 'ounce packages dry ranchstyle dressing mix', 'cup chopped suet', 'pounds brussels sprouts', 'bunch sorrel', 'stemmed and rinsed', 'seafood', 'days', '', 'days 4 and', 'drops any color liquid food color', 'tablespoon grenadine syrup', 'ounce package tater tots', 'ounces pesto', 'clementines', 'peeled and segmented', 'cups safflower oil', 'pinch italianstyle seasoning', 'tablespoon creolestyle seasoning', 'cups brewed espresso', 'ounce can yams', 'drained and mashed', 'tablespoons sumac powder', 'cup tamari', 'fry sauce', 'large croissants', 'romaine hearts', 'ounce package dry risotto mix', 'pound loaf round pumpernickel', 'duck sauce', 'gallon snow', 'cups snow', 'fajita seasoning to taste', 'creolestyle seasoning to taste', 'tablespoon cooking oil', 'frozen dinner rolls', 'cup uncooked grits', 'ounce bottle italian dressing', 'large seasoned croutons', 'green pepper', 'ounce package frozen brussels sprouts', 'tablespoons french dressing', 'oz package dry mesquite flavored seasoning mix', 'old bay seasoning tm to taste', 'ounce packages dinner rolls', 'ounce package dinner rolls', 'inch square dinner rolls', 'split', 'ounce packages wonton wrappers', 'tablespoon liquid sweetener', 'pounds sirloin tips', 'tablespoons guacamole', 'tablespoon dashi granules', 'center', 'cups cane syrup', 'ounce tube prepared yellow frosting', 'mixed with', 'crackers', 'round wonton wrappers', 'tablespoon or less grenadine to taste', 'rinsed and torn', 'pound hardwood chips', 'party', 'pound bologna', 'miniature croissants', 'cups cubed yam', 'package 10 ortega® tostada shells', 'warmed', 'x8x1 inch untreated cedar plank', 'cup oil', 'tablespoons splenda® granular'])"
     },
     "execution_count": 69,
     "metadata": {},
     "output_type": "execute_result"
    }
   ],
   "source": [
    "derp.keys()"
   ]
  },
  {
   "cell_type": "code",
   "execution_count": 70,
   "metadata": {},
   "outputs": [
    {
     "data": {
      "text/html": "<div>\n<style scoped>\n    .dataframe tbody tr th:only-of-type {\n        vertical-align: middle;\n    }\n\n    .dataframe tbody tr th {\n        vertical-align: top;\n    }\n\n    .dataframe thead th {\n        text-align: right;\n    }\n</style>\n<table border=\"1\" class=\"dataframe\">\n  <thead>\n    <tr style=\"text-align: right;\">\n      <th></th>\n      <th>item</th>\n      <th>count</th>\n    </tr>\n  </thead>\n  <tbody>\n    <tr>\n      <th>0</th>\n      <td>yeast</td>\n      <td>190</td>\n    </tr>\n    <tr>\n      <th>1</th>\n      <td>water</td>\n      <td>2606</td>\n    </tr>\n    <tr>\n      <th>2</th>\n      <td>white sugar</td>\n      <td>4986</td>\n    </tr>\n    <tr>\n      <th>3</th>\n      <td>salt</td>\n      <td>4516</td>\n    </tr>\n    <tr>\n      <th>4</th>\n      <td>egg</td>\n      <td>4880</td>\n    </tr>\n    <tr>\n      <th>5</th>\n      <td>butter</td>\n      <td>4456</td>\n    </tr>\n    <tr>\n      <th>6</th>\n      <td>flour</td>\n      <td>4158</td>\n    </tr>\n    <tr>\n      <th>7</th>\n      <td>baking powder</td>\n      <td>1292</td>\n    </tr>\n    <tr>\n      <th>8</th>\n      <td>poppy</td>\n      <td>61</td>\n    </tr>\n    <tr>\n      <th>9</th>\n      <td>vegetable oil</td>\n      <td>1358</td>\n    </tr>\n    <tr>\n      <th>10</th>\n      <td>milk</td>\n      <td>2767</td>\n    </tr>\n    <tr>\n      <th>11</th>\n      <td>vanilla</td>\n      <td>3111</td>\n    </tr>\n    <tr>\n      <th>12</th>\n      <td>almond</td>\n      <td>579</td>\n    </tr>\n    <tr>\n      <th>13</th>\n      <td>orange juice</td>\n      <td>356</td>\n    </tr>\n    <tr>\n      <th>14</th>\n      <td>sugar</td>\n      <td>1255</td>\n    </tr>\n  </tbody>\n</table>\n</div>",
      "text/plain": "             item  count\n0           yeast    190\n1           water   2606\n2     white sugar   4986\n3            salt   4516\n4             egg   4880\n5          butter   4456\n6           flour   4158\n7   baking powder   1292\n8           poppy     61\n9   vegetable oil   1358\n10           milk   2767\n11        vanilla   3111\n12         almond    579\n13   orange juice    356\n14          sugar   1255"
     },
     "execution_count": 70,
     "metadata": {},
     "output_type": "execute_result"
    }
   ],
   "source": [
    "ingrDF = pd.DataFrame(derp.items(), columns=['item', 'count'])\n",
    "ingrDF.head(15)"
   ]
  },
  {
   "cell_type": "code",
   "execution_count": 86,
   "metadata": {},
   "outputs": [],
   "source": [
    "derp2 = ingredient_count(kgl_df.ingredients)\n",
    "derp3 = ingredient_count(kgl2_df.ingredients)\n",
    "\n",
    "ingrDF2 = pd.DataFrame(derp2.items(), columns=['item', 'count'])\n",
    "ingrDF3 = pd.DataFrame(derp3.items(), columns=['item', 'count'])"
   ]
  },
  {
   "cell_type": "code",
   "execution_count": 87,
   "metadata": {},
   "outputs": [
    {
     "data": {
      "text/html": "<div>\n<style scoped>\n    .dataframe tbody tr th:only-of-type {\n        vertical-align: middle;\n    }\n\n    .dataframe tbody tr th {\n        vertical-align: top;\n    }\n\n    .dataframe thead th {\n        text-align: right;\n    }\n</style>\n<table border=\"1\" class=\"dataframe\">\n  <thead>\n    <tr style=\"text-align: right;\">\n      <th></th>\n      <th>item</th>\n      <th>count</th>\n      <th>count_2</th>\n      <th>count_3</th>\n    </tr>\n  </thead>\n  <tbody>\n    <tr>\n      <th>0</th>\n      <td>yeast</td>\n      <td>190.0</td>\n      <td>109.0</td>\n      <td>29.0</td>\n    </tr>\n    <tr>\n      <th>1</th>\n      <td>water</td>\n      <td>2606.0</td>\n      <td>7457.0</td>\n      <td>1836.0</td>\n    </tr>\n    <tr>\n      <th>2</th>\n      <td>white sugar</td>\n      <td>4986.0</td>\n      <td>1093.0</td>\n      <td>299.0</td>\n    </tr>\n    <tr>\n      <th>3</th>\n      <td>salt</td>\n      <td>4516.0</td>\n      <td>18049.0</td>\n      <td>4485.0</td>\n    </tr>\n    <tr>\n      <th>4</th>\n      <td>egg</td>\n      <td>4880.0</td>\n      <td>0.0</td>\n      <td>0.0</td>\n    </tr>\n  </tbody>\n</table>\n</div>",
      "text/plain": "          item   count  count_2  count_3\n0        yeast   190.0    109.0     29.0\n1        water  2606.0   7457.0   1836.0\n2  white sugar  4986.0   1093.0    299.0\n3         salt  4516.0  18049.0   4485.0\n4          egg  4880.0      0.0      0.0"
     },
     "execution_count": 87,
     "metadata": {},
     "output_type": "execute_result"
    }
   ],
   "source": [
    "merged_dfs = ingrDF.merge(ingrDF2, how='outer', on='item', suffixes=('', '_2'))\n",
    "merged_dfs = merged_dfs.merge(ingrDF3, how='outer', on='item', suffixes=('', '_3'))\n",
    "merged_dfs = merged_dfs.fillna(0)\n",
    "merged_dfs.head()"
   ]
  },
  {
   "cell_type": "code",
   "execution_count": 88,
   "metadata": {},
   "outputs": [
    {
     "data": {
      "text/html": "<div>\n<style scoped>\n    .dataframe tbody tr th:only-of-type {\n        vertical-align: middle;\n    }\n\n    .dataframe tbody tr th {\n        vertical-align: top;\n    }\n\n    .dataframe thead th {\n        text-align: right;\n    }\n</style>\n<table border=\"1\" class=\"dataframe\">\n  <thead>\n    <tr style=\"text-align: right;\">\n      <th></th>\n      <th>item</th>\n      <th>count</th>\n      <th>count_2</th>\n      <th>count_3</th>\n    </tr>\n  </thead>\n  <tbody>\n    <tr>\n      <th>0</th>\n      <td>yeast</td>\n      <td>190</td>\n      <td>109</td>\n      <td>29</td>\n    </tr>\n    <tr>\n      <th>1</th>\n      <td>water</td>\n      <td>2606</td>\n      <td>7457</td>\n      <td>1836</td>\n    </tr>\n    <tr>\n      <th>2</th>\n      <td>white sugar</td>\n      <td>4986</td>\n      <td>1093</td>\n      <td>299</td>\n    </tr>\n    <tr>\n      <th>3</th>\n      <td>salt</td>\n      <td>4516</td>\n      <td>18049</td>\n      <td>4485</td>\n    </tr>\n    <tr>\n      <th>4</th>\n      <td>egg</td>\n      <td>4880</td>\n      <td>0</td>\n      <td>0</td>\n    </tr>\n  </tbody>\n</table>\n</div>",
      "text/plain": "          item  count  count_2  count_3\n0        yeast    190      109       29\n1        water   2606     7457     1836\n2  white sugar   4986     1093      299\n3         salt   4516    18049     4485\n4          egg   4880        0        0"
     },
     "execution_count": 88,
     "metadata": {},
     "output_type": "execute_result"
    }
   ],
   "source": [
    "cols = ['count', 'count_2', 'count_3']\n",
    "merged_dfs[cols] = merged_dfs[cols].astype('int32')\n",
    "merged_dfs.head()"
   ]
  },
  {
   "cell_type": "code",
   "execution_count": 89,
   "metadata": {},
   "outputs": [
    {
     "data": {
      "text/html": "<div>\n<style scoped>\n    .dataframe tbody tr th:only-of-type {\n        vertical-align: middle;\n    }\n\n    .dataframe tbody tr th {\n        vertical-align: top;\n    }\n\n    .dataframe thead th {\n        text-align: right;\n    }\n</style>\n<table border=\"1\" class=\"dataframe\">\n  <thead>\n    <tr style=\"text-align: right;\">\n      <th></th>\n      <th>item</th>\n      <th>total_counts</th>\n    </tr>\n  </thead>\n  <tbody>\n    <tr>\n      <th>0</th>\n      <td>salt</td>\n      <td>27050</td>\n    </tr>\n    <tr>\n      <th>1</th>\n      <td>water</td>\n      <td>11899</td>\n    </tr>\n    <tr>\n      <th>2</th>\n      <td>garlic</td>\n      <td>11287</td>\n    </tr>\n    <tr>\n      <th>3</th>\n      <td>butter</td>\n      <td>10534</td>\n    </tr>\n    <tr>\n      <th>4</th>\n      <td>onions</td>\n      <td>10008</td>\n    </tr>\n    <tr>\n      <th>5</th>\n      <td>olive oil</td>\n      <td>9889</td>\n    </tr>\n    <tr>\n      <th>6</th>\n      <td>sugar</td>\n      <td>9319</td>\n    </tr>\n    <tr>\n      <th>7</th>\n      <td>garlic cloves</td>\n      <td>7772</td>\n    </tr>\n    <tr>\n      <th>8</th>\n      <td>pepper</td>\n      <td>7080</td>\n    </tr>\n    <tr>\n      <th>9</th>\n      <td>vegetable oil</td>\n      <td>6874</td>\n    </tr>\n    <tr>\n      <th>10</th>\n      <td>white sugar</td>\n      <td>6378</td>\n    </tr>\n    <tr>\n      <th>11</th>\n      <td>ground black pepper</td>\n      <td>5990</td>\n    </tr>\n    <tr>\n      <th>12</th>\n      <td>flour</td>\n      <td>5861</td>\n    </tr>\n    <tr>\n      <th>13</th>\n      <td>allpurpose flour</td>\n      <td>5816</td>\n    </tr>\n    <tr>\n      <th>14</th>\n      <td>milk</td>\n      <td>5618</td>\n    </tr>\n  </tbody>\n</table>\n</div>",
      "text/plain": "                   item  total_counts\n0                  salt         27050\n1                 water         11899\n2                garlic         11287\n3                butter         10534\n4                onions         10008\n5             olive oil          9889\n6                 sugar          9319\n7         garlic cloves          7772\n8                pepper          7080\n9         vegetable oil          6874\n10          white sugar          6378\n11  ground black pepper          5990\n12                flour          5861\n13     allpurpose flour          5816\n14                 milk          5618"
     },
     "execution_count": 89,
     "metadata": {},
     "output_type": "execute_result"
    }
   ],
   "source": [
    "merged_dfs['total_counts'] = merged_dfs.sum(axis=1, skipna=True)\n",
    "final_ingr_df = merged_dfs[['item', 'total_counts']].sort_values('total_counts', ascending=False).reset_index(drop = True)\n",
    "\n",
    "final_ingr_df.head(15)"
   ]
  },
  {
   "cell_type": "code",
   "execution_count": 91,
   "metadata": {},
   "outputs": [
    {
     "data": {
      "text/plain": "62069"
     },
     "execution_count": 91,
     "metadata": {},
     "output_type": "execute_result"
    }
   ],
   "source": [
    "recipe_count = len(df) + len(kgl_df) + len(kgl2_df)\n",
    "recipe_count"
   ]
  },
  {
   "cell_type": "code",
   "execution_count": 92,
   "metadata": {},
   "outputs": [
    {
     "data": {
      "text/plain": "7654"
     },
     "execution_count": 92,
     "metadata": {},
     "output_type": "execute_result"
    }
   ],
   "source": [
    "len(final_ingr_df)"
   ]
  },
  {
   "cell_type": "code",
   "execution_count": 93,
   "metadata": {},
   "outputs": [
    {
     "data": {
      "text/plain": "7561"
     },
     "execution_count": 93,
     "metadata": {},
     "output_type": "execute_result"
    }
   ],
   "source": [
    "final_ingr_df = final_ingr_df[~final_ingr_df.item.str.contains(r'[^\\w\\s]')]\n",
    "len(final_ingr_df)"
   ]
  },
  {
   "cell_type": "code",
   "execution_count": 94,
   "metadata": {},
   "outputs": [
    {
     "data": {
      "text/html": "<div>\n<style scoped>\n    .dataframe tbody tr th:only-of-type {\n        vertical-align: middle;\n    }\n\n    .dataframe tbody tr th {\n        vertical-align: top;\n    }\n\n    .dataframe thead th {\n        text-align: right;\n    }\n</style>\n<table border=\"1\" class=\"dataframe\">\n  <thead>\n    <tr style=\"text-align: right;\">\n      <th></th>\n      <th>item</th>\n      <th>total_counts</th>\n    </tr>\n  </thead>\n  <tbody>\n    <tr>\n      <th>0</th>\n      <td>salt</td>\n      <td>27050</td>\n    </tr>\n    <tr>\n      <th>1</th>\n      <td>water</td>\n      <td>11899</td>\n    </tr>\n    <tr>\n      <th>2</th>\n      <td>garlic</td>\n      <td>11287</td>\n    </tr>\n    <tr>\n      <th>3</th>\n      <td>butter</td>\n      <td>10534</td>\n    </tr>\n    <tr>\n      <th>4</th>\n      <td>onions</td>\n      <td>10008</td>\n    </tr>\n    <tr>\n      <th>5</th>\n      <td>olive oil</td>\n      <td>9889</td>\n    </tr>\n    <tr>\n      <th>6</th>\n      <td>sugar</td>\n      <td>9319</td>\n    </tr>\n    <tr>\n      <th>7</th>\n      <td>garlic cloves</td>\n      <td>7772</td>\n    </tr>\n    <tr>\n      <th>8</th>\n      <td>pepper</td>\n      <td>7080</td>\n    </tr>\n    <tr>\n      <th>9</th>\n      <td>vegetable oil</td>\n      <td>6874</td>\n    </tr>\n    <tr>\n      <th>10</th>\n      <td>white sugar</td>\n      <td>6378</td>\n    </tr>\n    <tr>\n      <th>11</th>\n      <td>ground black pepper</td>\n      <td>5990</td>\n    </tr>\n    <tr>\n      <th>12</th>\n      <td>flour</td>\n      <td>5861</td>\n    </tr>\n    <tr>\n      <th>13</th>\n      <td>allpurpose flour</td>\n      <td>5816</td>\n    </tr>\n    <tr>\n      <th>14</th>\n      <td>milk</td>\n      <td>5618</td>\n    </tr>\n  </tbody>\n</table>\n</div>",
      "text/plain": "                   item  total_counts\n0                  salt         27050\n1                 water         11899\n2                garlic         11287\n3                butter         10534\n4                onions         10008\n5             olive oil          9889\n6                 sugar          9319\n7         garlic cloves          7772\n8                pepper          7080\n9         vegetable oil          6874\n10          white sugar          6378\n11  ground black pepper          5990\n12                flour          5861\n13     allpurpose flour          5816\n14                 milk          5618"
     },
     "execution_count": 94,
     "metadata": {},
     "output_type": "execute_result"
    }
   ],
   "source": [
    "final_ingr_df.head(15)"
   ]
  },
  {
   "cell_type": "code",
   "execution_count": 95,
   "metadata": {},
   "outputs": [
    {
     "data": {
      "text/plain": "item            orzo\ntotal_counts     108\nName: 775, dtype: object"
     },
     "execution_count": 95,
     "metadata": {},
     "output_type": "execute_result"
    }
   ],
   "source": [
    "final_ingr_df.iloc[775]"
   ]
  },
  {
   "cell_type": "code",
   "execution_count": 96,
   "metadata": {},
   "outputs": [
    {
     "data": {
      "text/plain": "item            coffee\ntotal_counts       235\nName: 456, dtype: object"
     },
     "execution_count": 96,
     "metadata": {},
     "output_type": "execute_result"
    }
   ],
   "source": [
    "final_ingr_df.iloc[456]"
   ]
  },
  {
   "cell_type": "code",
   "execution_count": 242,
   "metadata": {},
   "outputs": [],
   "source": [
    "# Next steps, remove single instances and find duplicates..."
   ]
  },
  {
   "cell_type": "code",
   "execution_count": 277,
   "metadata": {},
   "outputs": [
    {
     "data": {
      "text/plain": "4634"
     },
     "execution_count": 277,
     "metadata": {},
     "output_type": "execute_result"
    }
   ],
   "source": [
    "top_ingr = final_ingr_df[final_ingr_df.total_counts > 2]\n",
    "len(top_ingr)"
   ]
  },
  {
   "cell_type": "code",
   "execution_count": null,
   "metadata": {},
   "outputs": [],
   "source": []
  },
  {
   "cell_type": "code",
   "execution_count": null,
   "metadata": {},
   "outputs": [],
   "source": [
    "\n",
    "\n",
    "\n",
    "\n",
    "\n",
    "\n",
    "\n",
    "\n",
    "\n",
    "\n",
    "\n",
    "\n",
    "\n",
    "\n",
    "\n",
    "\n",
    "\n",
    "\n",
    "\n",
    "\n",
    "\n"
   ]
  }
 ]
}