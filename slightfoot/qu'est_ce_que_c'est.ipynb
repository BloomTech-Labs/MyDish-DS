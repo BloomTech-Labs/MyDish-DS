{
 "nbformat": 4,
 "nbformat_minor": 2,
 "metadata": {
  "language_info": {
   "name": "python",
   "codemirror_mode": {
    "name": "ipython",
    "version": 3
   },
   "version": "3.7.6-final"
  },
  "orig_nbformat": 2,
  "file_extension": ".py",
  "mimetype": "text/x-python",
  "name": "python",
  "npconvert_exporter": "python",
  "pygments_lexer": "ipython3",
  "version": 3,
  "kernelspec": {
   "name": "python37664bitpsycopgconda9c230a95206041298c56f3779b9a9417",
   "display_name": "Python 3.7.6 64-bit ('psycopg': conda)"
  }
 },
 "cells": [
  {
   "cell_type": "code",
   "execution_count": null,
   "metadata": {},
   "outputs": [],
   "source": [
    "!pip install psycopg2"
   ]
  },
  {
   "cell_type": "code",
   "execution_count": 1,
   "metadata": {},
   "outputs": [],
   "source": [
    "import db_config"
   ]
  },
  {
   "cell_type": "code",
   "execution_count": 2,
   "metadata": {},
   "outputs": [],
   "source": [
    "import os\n",
    "import psycopg2"
   ]
  },
  {
   "cell_type": "code",
   "execution_count": 4,
   "metadata": {},
   "outputs": [],
   "source": [
    "conn = psycopg2.connect(database = db_config.database, \n",
    "                        user = db_config.user, \n",
    "                        password = db_config.password, \n",
    "                        host = db_config.host,\n",
    "                        port = db_config.port)"
   ]
  },
  {
   "cell_type": "code",
   "execution_count": 5,
   "metadata": {},
   "outputs": [
    {
     "data": {
      "text/plain": "[('ingredients',),\n ('instructions',),\n ('knex_migrations',),\n ('knex_migrations_lock',),\n ('notes',),\n ('previous_versions',),\n ('recipe_ingredients',),\n ('recipes',),\n ('recipe_tags',),\n ('roles',),\n ('tags',),\n ('units',),\n ('user_roles',),\n ('users',)]"
     },
     "execution_count": 5,
     "metadata": {},
     "output_type": "execute_result"
    }
   ],
   "source": [
    "cursor = conn.cursor()\n",
    "# cursor.execute(\"\"\"select * from \"DB_FZ\".d_results;\"\"\")\n",
    "\n",
    "cursor.execute(\"\"\"SELECT table_name FROM information_schema.tables WHERE table_schema='public'\n",
    "ORDER BY table_schema,table_name;\n",
    "\"\"\")\n",
    "\n",
    "# for table in cursor.fetchall():\n",
    "#     print(table, '\\n\\n\\n')\n",
    "derp = cursor.fetchall()\n",
    "\n",
    "cursor.close()\n",
    "\n",
    "derp"
   ]
  },
  {
   "cell_type": "code",
   "execution_count": 6,
   "metadata": {},
   "outputs": [],
   "source": [
    "tables_dict = {}\n",
    "\n",
    "for i in derp:\n",
    "\n",
    "    crsr2 = conn.cursor()\n",
    "\n",
    "    table_name = i[0]\n",
    "    query = \"\"\"SELECT column_name FROM information_schema.columns WHERE TABLE_NAME = '\"\"\" + table_name + \"\"\"';\"\"\"\n",
    "    crsr2.execute(query)\n",
    "\n",
    "    temp_schema = crsr2.fetchall()\n",
    "\n",
    "    crsr2.close()\n",
    "\n",
    "    tables_dict[i] = temp_schema"
   ]
  },
  {
   "cell_type": "code",
   "execution_count": 7,
   "metadata": {},
   "outputs": [
    {
     "name": "stdout",
     "output_type": "stream",
     "text": "ingredients\n-----\nid\nname\ncategory\n\n\ninstructions\n-----\nid\nrecipe_id\nstep_number\ndescription\n\n\nknex_migrations\n-----\nid\nname\nbatch\nmigration_time\n\n\nknex_migrations_lock\n-----\nindex\nis_locked\n\n\nnotes\n-----\nid\nrecipe_id\ndescription\n\n\nprevious_versions\n-----\nid\nrecipe_id\nchanges\ncreated_at\nupdated_at\nrevision_number\n\n\nrecipe_ingredients\n-----\nid\nrecipe_id\ningredient_id\nunit_id\nquantity\n\n\nrecipes\n-----\nid\ntitle\nimg\nforked_from\nowner_id\nprep_time\ncook_time\ndescription\ncreated_at\nupdated_at\nauthor_comment\n\n\nrecipe_tags\n-----\nid\nrecipe_id\ntag_id\n\n\nroles\n-----\nid\nname\n\n\ntags\n-----\nid\nname\n\n\nunits\n-----\nid\nname\ntype\nabbreviation\n\n\nuser_roles\n-----\nid\nuser_id\nrole_id\n\n\nusers\n-----\nid\nusername\npassword\ndisplay_name\nemail\navatar_url\n\n\n"
    }
   ],
   "source": [
    "for key in tables_dict:\n",
    "    print(f'{key[0]}\\n-----')\n",
    "    for val in tables_dict[key]:\n",
    "        print(val[0])\n",
    "    print('\\n')"
   ]
  }
 ]
}