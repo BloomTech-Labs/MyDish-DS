{
 "nbformat": 4,
 "nbformat_minor": 2,
 "metadata": {
  "language_info": {
   "name": "python",
   "codemirror_mode": {
    "name": "ipython",
    "version": 3
   },
   "version": "3.7.6-final"
  },
  "orig_nbformat": 2,
  "file_extension": ".py",
  "mimetype": "text/x-python",
  "name": "python",
  "npconvert_exporter": "python",
  "pygments_lexer": "ipython3",
  "version": 3,
  "kernelspec": {
   "name": "python37664bitmydishconda797818ee0abc4ea29f1e1dc6ed83066f",
   "display_name": "Python 3.7.6 64-bit ('MyDish': conda)"
  }
 },
 "cells": [
  {
   "cell_type": "code",
   "execution_count": 1,
   "metadata": {},
   "outputs": [],
   "source": [
    "import pandas as pd\n",
    "import numpy as np\n",
    "import matplotlib.pyplot as plt"
   ]
  },
  {
   "cell_type": "code",
   "execution_count": 2,
   "metadata": {},
   "outputs": [],
   "source": [
    "df_path = '../data/clean_recipes.csv'\n",
    "df = pd.read_csv(df_path, sep=';')"
   ]
  },
  {
   "cell_type": "code",
   "execution_count": 4,
   "metadata": {},
   "outputs": [
    {
     "name": "stdout",
     "output_type": "stream",
     "text": "(12351, 10)\n"
    },
    {
     "data": {
      "text/html": "<div>\n<style scoped>\n    .dataframe tbody tr th:only-of-type {\n        vertical-align: middle;\n    }\n\n    .dataframe tbody tr th {\n        vertical-align: top;\n    }\n\n    .dataframe thead th {\n        text-align: right;\n    }\n</style>\n<table border=\"1\" class=\"dataframe\">\n  <thead>\n    <tr style=\"text-align: right;\">\n      <th></th>\n      <th>Recipe Name</th>\n      <th>Review Count</th>\n      <th>Recipe Photo</th>\n      <th>Author</th>\n      <th>Prepare Time</th>\n      <th>Cook Time</th>\n      <th>Total Time</th>\n      <th>Ingredients</th>\n      <th>Directions</th>\n      <th>RecipeID</th>\n    </tr>\n  </thead>\n  <tbody>\n    <tr>\n      <th>0</th>\n      <td>Golden Crescent Rolls Recipe</td>\n      <td>304</td>\n      <td>https://images.media-allrecipes.com/userphotos...</td>\n      <td>Mike A.</td>\n      <td>25 m</td>\n      <td>15 m</td>\n      <td>3 h 10 m</td>\n      <td>yeast,water,white sugar,salt,egg,butter,flour,...</td>\n      <td>Dissolve yeast in warm water.**Stir in sugar, ...</td>\n      <td>7000</td>\n    </tr>\n    <tr>\n      <th>1</th>\n      <td>Poppy Seed Bread with Glaze Recipe</td>\n      <td>137</td>\n      <td>https://images.media-allrecipes.com/userphotos...</td>\n      <td>Christina Jun</td>\n      <td>15 m</td>\n      <td>1 h</td>\n      <td>1 h 20 m</td>\n      <td>flour,salt,baking powder,poppy,butter,vegetabl...</td>\n      <td>'Preheat oven to 350 degrees F (175 degrees C)...</td>\n      <td>7001</td>\n    </tr>\n    <tr>\n      <th>2</th>\n      <td>Applesauce Bread I Recipe</td>\n      <td>124</td>\n      <td>https://images.media-allrecipes.com/userphotos...</td>\n      <td>GAF55</td>\n      <td>10 m</td>\n      <td>1 h 20 m</td>\n      <td>1 h 30 m</td>\n      <td>flour,egg,white sugar,vegetable oil,applesauce...</td>\n      <td>Preheat oven to 350 degrees F (175 degrees C)....</td>\n      <td>7003</td>\n    </tr>\n    <tr>\n      <th>3</th>\n      <td>Apple Raisin Bread Recipe</td>\n      <td>39</td>\n      <td>https://images.media-allrecipes.com/userphotos...</td>\n      <td>Helen Hanson</td>\n      <td>15 m</td>\n      <td>1 h</td>\n      <td>1 h 15 m</td>\n      <td>flour,baking powder,baking soda,salt,cinnamon,...</td>\n      <td>Preheat oven to 350 degrees F (175 degrees C)....</td>\n      <td>7006</td>\n    </tr>\n    <tr>\n      <th>4</th>\n      <td>Buttermilk Oatmeal Bread Recipe</td>\n      <td>41</td>\n      <td>https://images.media-allrecipes.com/userphotos...</td>\n      <td>Helen Hanson</td>\n      <td>10 m</td>\n      <td>1 h</td>\n      <td>1 h 40 m</td>\n      <td>oat,buttermilk,vegetable oil,egg,brown sugar,f...</td>\n      <td>Mix oats with buttermilk.  Let stand for 1/2 h...</td>\n      <td>7007</td>\n    </tr>\n  </tbody>\n</table>\n</div>",
      "text/plain": "                           Recipe Name Review Count  \\\n0        Golden Crescent Rolls Recipe           304   \n1  Poppy Seed Bread with Glaze Recipe           137   \n2           Applesauce Bread I Recipe           124   \n3           Apple Raisin Bread Recipe            39   \n4     Buttermilk Oatmeal Bread Recipe            41   \n\n                                        Recipe Photo         Author  \\\n0  https://images.media-allrecipes.com/userphotos...        Mike A.   \n1  https://images.media-allrecipes.com/userphotos...  Christina Jun   \n2  https://images.media-allrecipes.com/userphotos...          GAF55   \n3  https://images.media-allrecipes.com/userphotos...   Helen Hanson   \n4  https://images.media-allrecipes.com/userphotos...   Helen Hanson   \n\n  Prepare Time Cook Time Total Time  \\\n0         25 m      15 m   3 h 10 m   \n1         15 m       1 h   1 h 20 m   \n2         10 m  1 h 20 m   1 h 30 m   \n3         15 m       1 h   1 h 15 m   \n4         10 m       1 h   1 h 40 m   \n\n                                         Ingredients  \\\n0  yeast,water,white sugar,salt,egg,butter,flour,...   \n1  flour,salt,baking powder,poppy,butter,vegetabl...   \n2  flour,egg,white sugar,vegetable oil,applesauce...   \n3  flour,baking powder,baking soda,salt,cinnamon,...   \n4  oat,buttermilk,vegetable oil,egg,brown sugar,f...   \n\n                                          Directions  RecipeID  \n0  Dissolve yeast in warm water.**Stir in sugar, ...      7000  \n1  'Preheat oven to 350 degrees F (175 degrees C)...      7001  \n2  Preheat oven to 350 degrees F (175 degrees C)....      7003  \n3  Preheat oven to 350 degrees F (175 degrees C)....      7006  \n4  Mix oats with buttermilk.  Let stand for 1/2 h...      7007  "
     },
     "execution_count": 4,
     "metadata": {},
     "output_type": "execute_result"
    }
   ],
   "source": [
    "print(df.shape)\n",
    "df.head()"
   ]
  },
  {
   "cell_type": "code",
   "execution_count": 34,
   "metadata": {},
   "outputs": [],
   "source": [
    "ingr_df = df[['Recipe Name', 'Ingredients']]"
   ]
  },
  {
   "cell_type": "code",
   "execution_count": 52,
   "metadata": {},
   "outputs": [
    {
     "data": {
      "text/html": "<div>\n<style scoped>\n    .dataframe tbody tr th:only-of-type {\n        vertical-align: middle;\n    }\n\n    .dataframe tbody tr th {\n        vertical-align: top;\n    }\n\n    .dataframe thead th {\n        text-align: right;\n    }\n</style>\n<table border=\"1\" class=\"dataframe\">\n  <thead>\n    <tr style=\"text-align: right;\">\n      <th></th>\n      <th>0</th>\n      <th>1</th>\n      <th>2</th>\n      <th>3</th>\n      <th>4</th>\n      <th>5</th>\n      <th>6</th>\n      <th>7</th>\n      <th>8</th>\n      <th>9</th>\n      <th>...</th>\n      <th>20</th>\n      <th>21</th>\n      <th>22</th>\n      <th>23</th>\n      <th>24</th>\n      <th>25</th>\n      <th>26</th>\n      <th>27</th>\n      <th>28</th>\n      <th>29</th>\n    </tr>\n  </thead>\n  <tbody>\n    <tr>\n      <th>0</th>\n      <td>yeast</td>\n      <td>water</td>\n      <td>white sugar</td>\n      <td>salt</td>\n      <td>egg</td>\n      <td>butter</td>\n      <td>flour</td>\n      <td>butter</td>\n      <td>None</td>\n      <td>None</td>\n      <td>...</td>\n      <td>None</td>\n      <td>None</td>\n      <td>None</td>\n      <td>None</td>\n      <td>None</td>\n      <td>None</td>\n      <td>None</td>\n      <td>None</td>\n      <td>None</td>\n      <td>None</td>\n    </tr>\n    <tr>\n      <th>1</th>\n      <td>flour</td>\n      <td>salt</td>\n      <td>baking powder</td>\n      <td>poppy</td>\n      <td>butter</td>\n      <td>vegetable oil</td>\n      <td>egg</td>\n      <td>milk</td>\n      <td>white sugar</td>\n      <td>vanilla</td>\n      <td>...</td>\n      <td>None</td>\n      <td>None</td>\n      <td>None</td>\n      <td>None</td>\n      <td>None</td>\n      <td>None</td>\n      <td>None</td>\n      <td>None</td>\n      <td>None</td>\n      <td>None</td>\n    </tr>\n    <tr>\n      <th>2</th>\n      <td>flour</td>\n      <td>egg</td>\n      <td>white sugar</td>\n      <td>vegetable oil</td>\n      <td>applesauce</td>\n      <td>raisin</td>\n      <td>cinnamon</td>\n      <td>baking soda</td>\n      <td>baking powder</td>\n      <td>sour cream</td>\n      <td>...</td>\n      <td>None</td>\n      <td>None</td>\n      <td>None</td>\n      <td>None</td>\n      <td>None</td>\n      <td>None</td>\n      <td>None</td>\n      <td>None</td>\n      <td>None</td>\n      <td>None</td>\n    </tr>\n    <tr>\n      <th>3</th>\n      <td>flour</td>\n      <td>baking powder</td>\n      <td>baking soda</td>\n      <td>salt</td>\n      <td>cinnamon</td>\n      <td>nutmeg</td>\n      <td>brown sugar</td>\n      <td>oat</td>\n      <td>apple</td>\n      <td>walnut</td>\n      <td>...</td>\n      <td>None</td>\n      <td>None</td>\n      <td>None</td>\n      <td>None</td>\n      <td>None</td>\n      <td>None</td>\n      <td>None</td>\n      <td>None</td>\n      <td>None</td>\n      <td>None</td>\n    </tr>\n    <tr>\n      <th>4</th>\n      <td>oat</td>\n      <td>buttermilk</td>\n      <td>vegetable oil</td>\n      <td>egg</td>\n      <td>brown sugar</td>\n      <td>flour</td>\n      <td>baking powder</td>\n      <td>baking soda</td>\n      <td>salt</td>\n      <td>None</td>\n      <td>...</td>\n      <td>None</td>\n      <td>None</td>\n      <td>None</td>\n      <td>None</td>\n      <td>None</td>\n      <td>None</td>\n      <td>None</td>\n      <td>None</td>\n      <td>None</td>\n      <td>None</td>\n    </tr>\n    <tr>\n      <th>5</th>\n      <td>shortening</td>\n      <td>white sugar</td>\n      <td>salt</td>\n      <td>milk</td>\n      <td>egg</td>\n      <td>lemon</td>\n      <td>yeast</td>\n      <td>flour</td>\n      <td>fruit</td>\n      <td>None</td>\n      <td>...</td>\n      <td>None</td>\n      <td>None</td>\n      <td>None</td>\n      <td>None</td>\n      <td>None</td>\n      <td>None</td>\n      <td>None</td>\n      <td>None</td>\n      <td>None</td>\n      <td>None</td>\n    </tr>\n    <tr>\n      <th>6</th>\n      <td>shortening</td>\n      <td>water</td>\n      <td>brown sugar</td>\n      <td>yeast</td>\n      <td>water</td>\n      <td>white sugar</td>\n      <td>salt</td>\n      <td>bread</td>\n      <td>whole wheat</td>\n      <td>None</td>\n      <td>...</td>\n      <td>None</td>\n      <td>None</td>\n      <td>None</td>\n      <td>None</td>\n      <td>None</td>\n      <td>None</td>\n      <td>None</td>\n      <td>None</td>\n      <td>None</td>\n      <td>None</td>\n    </tr>\n    <tr>\n      <th>7</th>\n      <td>water</td>\n      <td>cottage cheese</td>\n      <td>vegetable oil</td>\n      <td>egg</td>\n      <td>flour</td>\n      <td>white sugar</td>\n      <td>baking soda</td>\n      <td>salt</td>\n      <td>yeast</td>\n      <td>None</td>\n      <td>...</td>\n      <td>None</td>\n      <td>None</td>\n      <td>None</td>\n      <td>None</td>\n      <td>None</td>\n      <td>None</td>\n      <td>None</td>\n      <td>None</td>\n      <td>None</td>\n      <td>None</td>\n    </tr>\n    <tr>\n      <th>8</th>\n      <td>margarine</td>\n      <td>white sugar</td>\n      <td>egg</td>\n      <td>banana</td>\n      <td>coffee</td>\n      <td>water</td>\n      <td>vanilla</td>\n      <td>flour</td>\n      <td>salt</td>\n      <td>baking powder</td>\n      <td>...</td>\n      <td>None</td>\n      <td>None</td>\n      <td>None</td>\n      <td>None</td>\n      <td>None</td>\n      <td>None</td>\n      <td>None</td>\n      <td>None</td>\n      <td>None</td>\n      <td>None</td>\n    </tr>\n    <tr>\n      <th>9</th>\n      <td>cornmeal</td>\n      <td>milk</td>\n      <td>egg</td>\n      <td>bell pepper</td>\n      <td>onion</td>\n      <td>garlic</td>\n      <td>salt</td>\n      <td>baking soda</td>\n      <td>white sugar</td>\n      <td>corn</td>\n      <td>...</td>\n      <td>None</td>\n      <td>None</td>\n      <td>None</td>\n      <td>None</td>\n      <td>None</td>\n      <td>None</td>\n      <td>None</td>\n      <td>None</td>\n      <td>None</td>\n      <td>None</td>\n    </tr>\n    <tr>\n      <th>10</th>\n      <td>flour</td>\n      <td>white sugar</td>\n      <td>baking powder</td>\n      <td>salt</td>\n      <td>shortening</td>\n      <td>oat</td>\n      <td>egg</td>\n      <td>milk</td>\n      <td>maple syrup</td>\n      <td>None</td>\n      <td>...</td>\n      <td>None</td>\n      <td>None</td>\n      <td>None</td>\n      <td>None</td>\n      <td>None</td>\n      <td>None</td>\n      <td>None</td>\n      <td>None</td>\n      <td>None</td>\n      <td>None</td>\n    </tr>\n    <tr>\n      <th>11</th>\n      <td>bread</td>\n      <td>egg</td>\n      <td>milk</td>\n      <td>cinnamon</td>\n      <td>nutmeg</td>\n      <td>vanilla</td>\n      <td>salt</td>\n      <td>None</td>\n      <td>None</td>\n      <td>None</td>\n      <td>...</td>\n      <td>None</td>\n      <td>None</td>\n      <td>None</td>\n      <td>None</td>\n      <td>None</td>\n      <td>None</td>\n      <td>None</td>\n      <td>None</td>\n      <td>None</td>\n      <td>None</td>\n    </tr>\n    <tr>\n      <th>12</th>\n      <td>yeast</td>\n      <td>water</td>\n      <td>buttermilk</td>\n      <td>flour</td>\n      <td>baking powder</td>\n      <td>baking soda</td>\n      <td>salt</td>\n      <td>white sugar</td>\n      <td>shortening</td>\n      <td>None</td>\n      <td>...</td>\n      <td>None</td>\n      <td>None</td>\n      <td>None</td>\n      <td>None</td>\n      <td>None</td>\n      <td>None</td>\n      <td>None</td>\n      <td>None</td>\n      <td>None</td>\n      <td>None</td>\n    </tr>\n    <tr>\n      <th>13</th>\n      <td>applesauce</td>\n      <td>margarine</td>\n      <td>white sugar</td>\n      <td>brown sugar</td>\n      <td>egg</td>\n      <td>vanilla</td>\n      <td>flour</td>\n      <td>cocoa powder</td>\n      <td>baking soda</td>\n      <td>cinnamon</td>\n      <td>...</td>\n      <td>None</td>\n      <td>None</td>\n      <td>None</td>\n      <td>None</td>\n      <td>None</td>\n      <td>None</td>\n      <td>None</td>\n      <td>None</td>\n      <td>None</td>\n      <td>None</td>\n    </tr>\n    <tr>\n      <th>14</th>\n      <td>milk</td>\n      <td>vegetable oil</td>\n      <td>molasses</td>\n      <td>bread</td>\n      <td>flour</td>\n      <td>cornmeal</td>\n      <td>salt</td>\n      <td>yeast</td>\n      <td>cocoa powder</td>\n      <td>brown sugar</td>\n      <td>...</td>\n      <td>None</td>\n      <td>None</td>\n      <td>None</td>\n      <td>None</td>\n      <td>None</td>\n      <td>None</td>\n      <td>None</td>\n      <td>None</td>\n      <td>None</td>\n      <td>None</td>\n    </tr>\n  </tbody>\n</table>\n<p>15 rows × 30 columns</p>\n</div>",
      "text/plain": "            0               1              2              3              4   \\\n0        yeast           water    white sugar           salt            egg   \n1        flour            salt  baking powder          poppy         butter   \n2        flour             egg    white sugar  vegetable oil     applesauce   \n3        flour   baking powder    baking soda           salt       cinnamon   \n4          oat      buttermilk  vegetable oil            egg    brown sugar   \n5   shortening     white sugar           salt           milk            egg   \n6   shortening           water    brown sugar          yeast          water   \n7        water  cottage cheese  vegetable oil            egg          flour   \n8    margarine     white sugar            egg         banana         coffee   \n9     cornmeal            milk            egg    bell pepper          onion   \n10       flour     white sugar  baking powder           salt     shortening   \n11       bread             egg           milk       cinnamon         nutmeg   \n12       yeast           water     buttermilk          flour  baking powder   \n13  applesauce       margarine    white sugar    brown sugar            egg   \n14        milk   vegetable oil       molasses          bread          flour   \n\n               5              6             7              8              9   \\\n0          butter          flour        butter           None           None   \n1   vegetable oil            egg          milk    white sugar        vanilla   \n2          raisin       cinnamon   baking soda  baking powder     sour cream   \n3          nutmeg    brown sugar           oat          apple         walnut   \n4           flour  baking powder   baking soda           salt           None   \n5           lemon          yeast         flour          fruit           None   \n6     white sugar           salt         bread    whole wheat           None   \n7     white sugar    baking soda          salt          yeast           None   \n8           water        vanilla         flour           salt  baking powder   \n9          garlic           salt   baking soda    white sugar           corn   \n10            oat            egg          milk    maple syrup           None   \n11        vanilla           salt          None           None           None   \n12    baking soda           salt   white sugar     shortening           None   \n13        vanilla          flour  cocoa powder    baking soda       cinnamon   \n14       cornmeal           salt         yeast   cocoa powder    brown sugar   \n\n    ...    20    21    22    23    24    25    26    27    28    29  \n0   ...  None  None  None  None  None  None  None  None  None  None  \n1   ...  None  None  None  None  None  None  None  None  None  None  \n2   ...  None  None  None  None  None  None  None  None  None  None  \n3   ...  None  None  None  None  None  None  None  None  None  None  \n4   ...  None  None  None  None  None  None  None  None  None  None  \n5   ...  None  None  None  None  None  None  None  None  None  None  \n6   ...  None  None  None  None  None  None  None  None  None  None  \n7   ...  None  None  None  None  None  None  None  None  None  None  \n8   ...  None  None  None  None  None  None  None  None  None  None  \n9   ...  None  None  None  None  None  None  None  None  None  None  \n10  ...  None  None  None  None  None  None  None  None  None  None  \n11  ...  None  None  None  None  None  None  None  None  None  None  \n12  ...  None  None  None  None  None  None  None  None  None  None  \n13  ...  None  None  None  None  None  None  None  None  None  None  \n14  ...  None  None  None  None  None  None  None  None  None  None  \n\n[15 rows x 30 columns]"
     },
     "execution_count": 52,
     "metadata": {},
     "output_type": "execute_result"
    }
   ],
   "source": [
    "ingr_df.dropna(inplace = True)\n",
    "\n",
    "new_df = ingr_df['Ingredients'].str.split(\",\", n = -1, expand = True)\n",
    "new_df2 = ingr_df['Ingredients'].str.split(\",\", n = -1, expand = False)\n",
    "\n",
    "new_df.head(15)"
   ]
  },
  {
   "cell_type": "code",
   "execution_count": 61,
   "metadata": {},
   "outputs": [
    {
     "data": {
      "text/plain": "0    [yeast, water, white sugar, salt, egg, butter,...\n1    [flour, salt, baking powder, poppy, butter, ve...\n2    [flour, egg, white sugar, vegetable oil, apple...\n3    [flour, baking powder, baking soda, salt, cinn...\n4    [oat, buttermilk, vegetable oil, egg, brown su...\nName: Ingredients, dtype: object"
     },
     "execution_count": 61,
     "metadata": {},
     "output_type": "execute_result"
    }
   ],
   "source": [
    "new_df2.head()"
   ]
  },
  {
   "cell_type": "code",
   "execution_count": 55,
   "metadata": {},
   "outputs": [
    {
     "data": {
      "text/plain": "'salt'"
     },
     "execution_count": 55,
     "metadata": {},
     "output_type": "execute_result"
    }
   ],
   "source": [
    "new_df2[0][3]"
   ]
  },
  {
   "cell_type": "code",
   "execution_count": 60,
   "metadata": {},
   "outputs": [
    {
     "ename": "SystemError",
     "evalue": "<built-in method view of numpy.ndarray object at 0x00000180DFC8A9E0> returned a result with an error set",
     "output_type": "error",
     "traceback": [
      "\u001b[1;31m---------------------------------------------------------------------------\u001b[0m",
      "\u001b[1;31mTypeError\u001b[0m                                 Traceback (most recent call last)",
      "\u001b[1;31mTypeError\u001b[0m: unhashable type: 'list'",
      "\nThe above exception was the direct cause of the following exception:\n",
      "\u001b[1;31mSystemError\u001b[0m                               Traceback (most recent call last)",
      "\u001b[1;32m<ipython-input-60-b6416d4a29f7>\u001b[0m in \u001b[0;36m<module>\u001b[1;34m\u001b[0m\n\u001b[1;32m----> 1\u001b[1;33m \u001b[0mnew_df2\u001b[0m\u001b[1;33m.\u001b[0m\u001b[0misin\u001b[0m\u001b[1;33m(\u001b[0m\u001b[1;33m[\u001b[0m\u001b[1;34m'flour'\u001b[0m\u001b[1;33m,\u001b[0m \u001b[1;34m'salt'\u001b[0m\u001b[1;33m,\u001b[0m \u001b[1;34m'egg'\u001b[0m\u001b[1;33m]\u001b[0m\u001b[1;33m)\u001b[0m\u001b[1;33m\u001b[0m\u001b[1;33m\u001b[0m\u001b[0m\n\u001b[0m",
      "\u001b[1;32m~\\Miniconda3\\envs\\MyDish\\lib\\site-packages\\pandas\\core\\series.py\u001b[0m in \u001b[0;36misin\u001b[1;34m(self, values)\u001b[0m\n\u001b[0;32m   4292\u001b[0m         \u001b[0mName\u001b[0m\u001b[1;33m:\u001b[0m \u001b[0manimal\u001b[0m\u001b[1;33m,\u001b[0m \u001b[0mdtype\u001b[0m\u001b[1;33m:\u001b[0m \u001b[0mbool\u001b[0m\u001b[1;33m\u001b[0m\u001b[1;33m\u001b[0m\u001b[0m\n\u001b[0;32m   4293\u001b[0m         \"\"\"\n\u001b[1;32m-> 4294\u001b[1;33m         \u001b[0mresult\u001b[0m \u001b[1;33m=\u001b[0m \u001b[0malgorithms\u001b[0m\u001b[1;33m.\u001b[0m\u001b[0misin\u001b[0m\u001b[1;33m(\u001b[0m\u001b[0mself\u001b[0m\u001b[1;33m,\u001b[0m \u001b[0mvalues\u001b[0m\u001b[1;33m)\u001b[0m\u001b[1;33m\u001b[0m\u001b[1;33m\u001b[0m\u001b[0m\n\u001b[0m\u001b[0;32m   4295\u001b[0m         \u001b[1;32mreturn\u001b[0m \u001b[0mself\u001b[0m\u001b[1;33m.\u001b[0m\u001b[0m_constructor\u001b[0m\u001b[1;33m(\u001b[0m\u001b[0mresult\u001b[0m\u001b[1;33m,\u001b[0m \u001b[0mindex\u001b[0m\u001b[1;33m=\u001b[0m\u001b[0mself\u001b[0m\u001b[1;33m.\u001b[0m\u001b[0mindex\u001b[0m\u001b[1;33m)\u001b[0m\u001b[1;33m.\u001b[0m\u001b[0m__finalize__\u001b[0m\u001b[1;33m(\u001b[0m\u001b[0mself\u001b[0m\u001b[1;33m)\u001b[0m\u001b[1;33m\u001b[0m\u001b[1;33m\u001b[0m\u001b[0m\n\u001b[0;32m   4296\u001b[0m \u001b[1;33m\u001b[0m\u001b[0m\n",
      "\u001b[1;32m~\\Miniconda3\\envs\\MyDish\\lib\\site-packages\\pandas\\core\\algorithms.py\u001b[0m in \u001b[0;36misin\u001b[1;34m(comps, values)\u001b[0m\n\u001b[0;32m    451\u001b[0m             \u001b[0mcomps\u001b[0m \u001b[1;33m=\u001b[0m \u001b[0mcomps\u001b[0m\u001b[1;33m.\u001b[0m\u001b[0mastype\u001b[0m\u001b[1;33m(\u001b[0m\u001b[0mobject\u001b[0m\u001b[1;33m)\u001b[0m\u001b[1;33m\u001b[0m\u001b[1;33m\u001b[0m\u001b[0m\n\u001b[0;32m    452\u001b[0m \u001b[1;33m\u001b[0m\u001b[0m\n\u001b[1;32m--> 453\u001b[1;33m     \u001b[1;32mreturn\u001b[0m \u001b[0mf\u001b[0m\u001b[1;33m(\u001b[0m\u001b[0mcomps\u001b[0m\u001b[1;33m,\u001b[0m \u001b[0mvalues\u001b[0m\u001b[1;33m)\u001b[0m\u001b[1;33m\u001b[0m\u001b[1;33m\u001b[0m\u001b[0m\n\u001b[0m\u001b[0;32m    454\u001b[0m \u001b[1;33m\u001b[0m\u001b[0m\n\u001b[0;32m    455\u001b[0m \u001b[1;33m\u001b[0m\u001b[0m\n",
      "\u001b[1;32mpandas\\_libs\\hashtable_func_helper.pxi\u001b[0m in \u001b[0;36mpandas._libs.hashtable.ismember_object\u001b[1;34m()\u001b[0m\n",
      "\u001b[1;31mSystemError\u001b[0m: <built-in method view of numpy.ndarray object at 0x00000180DFC8A9E0> returned a result with an error set"
     ]
    }
   ],
   "source": [
    "new_df2.isin(['flour', 'salt', 'egg'])"
   ]
  },
  {
   "cell_type": "code",
   "execution_count": null,
   "metadata": {},
   "outputs": [],
   "source": []
  },
  {
   "cell_type": "code",
   "execution_count": null,
   "metadata": {},
   "outputs": [],
   "source": []
  },
  {
   "cell_type": "code",
   "execution_count": null,
   "metadata": {},
   "outputs": [],
   "source": []
  },
  {
   "cell_type": "code",
   "execution_count": null,
   "metadata": {},
   "outputs": [],
   "source": []
  },
  {
   "cell_type": "markdown",
   "metadata": {},
   "source": [
    "* User starts to type in first ingredient\n",
    "* we filter all rows that contain that given ingredient\n",
    "* temp_df with filtered results\n",
    "\n",
    "* user types in the second ingredient\n",
    "* we filter all rows that contain that given ingredient from temp_df\n",
    "\n",
    "* repeat\n",
    "\n",
    "flour >> salt >> brown sugar\n",
    "\n",
    "at this point - "
   ]
  },
  {
   "cell_type": "code",
   "execution_count": null,
   "metadata": {},
   "outputs": [],
   "source": [
    "\n",
    "\n",
    "\n",
    "\n",
    "\n",
    "\n",
    "\n",
    "\n",
    "\n",
    "\n",
    "\n",
    "\n",
    "\n",
    "\n",
    "\n",
    "\n",
    "\n"
   ]
  }
 ]
}