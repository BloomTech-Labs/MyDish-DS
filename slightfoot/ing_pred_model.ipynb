{
 "nbformat": 4,
 "nbformat_minor": 2,
 "metadata": {
  "language_info": {
   "name": "python",
   "codemirror_mode": {
    "name": "ipython",
    "version": 3
   },
   "version": "3.7.6-final"
  },
  "orig_nbformat": 2,
  "file_extension": ".py",
  "mimetype": "text/x-python",
  "name": "python",
  "npconvert_exporter": "python",
  "pygments_lexer": "ipython3",
  "version": 3,
  "kernelspec": {
   "name": "python37664bitmydishconda797818ee0abc4ea29f1e1dc6ed83066f",
   "display_name": "Python 3.7.6 64-bit ('MyDish': conda)"
  }
 },
 "cells": [
  {
   "cell_type": "code",
   "execution_count": 1,
   "metadata": {},
   "outputs": [],
   "source": [
    "import pandas as pd\n",
    "import numpy as np\n",
    "import matplotlib.pyplot as plt\n",
    "\n",
    "from tensorflow.keras.preprocessing import sequence\n",
    "from tensorflow.keras.models import Sequential\n",
    "from tensorflow.keras.layers import Dense, Embedding\n",
    "from tensorflow.keras.layers import LSTM"
   ]
  },
  {
   "cell_type": "code",
   "execution_count": 2,
   "metadata": {},
   "outputs": [],
   "source": [
    "df_path = '../data/clean_recipes.csv'\n",
    "df = pd.read_csv(df_path, sep=';')"
   ]
  },
  {
   "cell_type": "code",
   "execution_count": 8,
   "metadata": {},
   "outputs": [],
   "source": [
    "kgl1_df = pd.read_json('../data/kgl_ingredient_train.json')\n",
    "kgl2_df = pd.read_json('../data/kgl_ingredient_test.json')"
   ]
  },
  {
   "cell_type": "code",
   "execution_count": 7,
   "metadata": {},
   "outputs": [
    {
     "name": "stdout",
     "output_type": "stream",
     "text": "(12351, 10)\n"
    },
    {
     "data": {
      "text/html": "<div>\n<style scoped>\n    .dataframe tbody tr th:only-of-type {\n        vertical-align: middle;\n    }\n\n    .dataframe tbody tr th {\n        vertical-align: top;\n    }\n\n    .dataframe thead th {\n        text-align: right;\n    }\n</style>\n<table border=\"1\" class=\"dataframe\">\n  <thead>\n    <tr style=\"text-align: right;\">\n      <th></th>\n      <th>Recipe Name</th>\n      <th>Review Count</th>\n      <th>Recipe Photo</th>\n      <th>Author</th>\n      <th>Prepare Time</th>\n      <th>Cook Time</th>\n      <th>Total Time</th>\n      <th>Ingredients</th>\n      <th>Directions</th>\n      <th>RecipeID</th>\n    </tr>\n  </thead>\n  <tbody>\n    <tr>\n      <th>0</th>\n      <td>Golden Crescent Rolls Recipe</td>\n      <td>304</td>\n      <td>https://images.media-allrecipes.com/userphotos...</td>\n      <td>Mike A.</td>\n      <td>25 m</td>\n      <td>15 m</td>\n      <td>3 h 10 m</td>\n      <td>yeast,water,white sugar,salt,egg,butter,flour,...</td>\n      <td>Dissolve yeast in warm water.**Stir in sugar, ...</td>\n      <td>7000</td>\n    </tr>\n    <tr>\n      <th>1</th>\n      <td>Poppy Seed Bread with Glaze Recipe</td>\n      <td>137</td>\n      <td>https://images.media-allrecipes.com/userphotos...</td>\n      <td>Christina Jun</td>\n      <td>15 m</td>\n      <td>1 h</td>\n      <td>1 h 20 m</td>\n      <td>flour,salt,baking powder,poppy,butter,vegetabl...</td>\n      <td>'Preheat oven to 350 degrees F (175 degrees C)...</td>\n      <td>7001</td>\n    </tr>\n    <tr>\n      <th>2</th>\n      <td>Applesauce Bread I Recipe</td>\n      <td>124</td>\n      <td>https://images.media-allrecipes.com/userphotos...</td>\n      <td>GAF55</td>\n      <td>10 m</td>\n      <td>1 h 20 m</td>\n      <td>1 h 30 m</td>\n      <td>flour,egg,white sugar,vegetable oil,applesauce...</td>\n      <td>Preheat oven to 350 degrees F (175 degrees C)....</td>\n      <td>7003</td>\n    </tr>\n    <tr>\n      <th>3</th>\n      <td>Apple Raisin Bread Recipe</td>\n      <td>39</td>\n      <td>https://images.media-allrecipes.com/userphotos...</td>\n      <td>Helen Hanson</td>\n      <td>15 m</td>\n      <td>1 h</td>\n      <td>1 h 15 m</td>\n      <td>flour,baking powder,baking soda,salt,cinnamon,...</td>\n      <td>Preheat oven to 350 degrees F (175 degrees C)....</td>\n      <td>7006</td>\n    </tr>\n    <tr>\n      <th>4</th>\n      <td>Buttermilk Oatmeal Bread Recipe</td>\n      <td>41</td>\n      <td>https://images.media-allrecipes.com/userphotos...</td>\n      <td>Helen Hanson</td>\n      <td>10 m</td>\n      <td>1 h</td>\n      <td>1 h 40 m</td>\n      <td>oat,buttermilk,vegetable oil,egg,brown sugar,f...</td>\n      <td>Mix oats with buttermilk.  Let stand for 1/2 h...</td>\n      <td>7007</td>\n    </tr>\n  </tbody>\n</table>\n</div>",
      "text/plain": "                           Recipe Name Review Count  \\\n0        Golden Crescent Rolls Recipe           304   \n1  Poppy Seed Bread with Glaze Recipe           137   \n2           Applesauce Bread I Recipe           124   \n3           Apple Raisin Bread Recipe            39   \n4     Buttermilk Oatmeal Bread Recipe            41   \n\n                                        Recipe Photo         Author  \\\n0  https://images.media-allrecipes.com/userphotos...        Mike A.   \n1  https://images.media-allrecipes.com/userphotos...  Christina Jun   \n2  https://images.media-allrecipes.com/userphotos...          GAF55   \n3  https://images.media-allrecipes.com/userphotos...   Helen Hanson   \n4  https://images.media-allrecipes.com/userphotos...   Helen Hanson   \n\n  Prepare Time Cook Time Total Time  \\\n0         25 m      15 m   3 h 10 m   \n1         15 m       1 h   1 h 20 m   \n2         10 m  1 h 20 m   1 h 30 m   \n3         15 m       1 h   1 h 15 m   \n4         10 m       1 h   1 h 40 m   \n\n                                         Ingredients  \\\n0  yeast,water,white sugar,salt,egg,butter,flour,...   \n1  flour,salt,baking powder,poppy,butter,vegetabl...   \n2  flour,egg,white sugar,vegetable oil,applesauce...   \n3  flour,baking powder,baking soda,salt,cinnamon,...   \n4  oat,buttermilk,vegetable oil,egg,brown sugar,f...   \n\n                                          Directions  RecipeID  \n0  Dissolve yeast in warm water.**Stir in sugar, ...      7000  \n1  'Preheat oven to 350 degrees F (175 degrees C)...      7001  \n2  Preheat oven to 350 degrees F (175 degrees C)....      7003  \n3  Preheat oven to 350 degrees F (175 degrees C)....      7006  \n4  Mix oats with buttermilk.  Let stand for 1/2 h...      7007  "
     },
     "execution_count": 7,
     "metadata": {},
     "output_type": "execute_result"
    }
   ],
   "source": [
    "print(df.shape)\n",
    "df.head()"
   ]
  },
  {
   "cell_type": "code",
   "execution_count": 12,
   "metadata": {},
   "outputs": [],
   "source": [
    "ingr_series = df['Ingredients']\n",
    "kgl1_series = kgl1_df['ingredients']\n",
    "kgl2_series = kgl2_df['ingredients']"
   ]
  },
  {
   "cell_type": "code",
   "execution_count": 16,
   "metadata": {},
   "outputs": [
    {
     "data": {
      "text/plain": "(str, list, list)"
     },
     "execution_count": 16,
     "metadata": {},
     "output_type": "execute_result"
    }
   ],
   "source": [
    "type(ingr_series[0]), type(kgl1_series[0]), type(kgl2_series[0])"
   ]
  },
  {
   "cell_type": "code",
   "execution_count": 17,
   "metadata": {},
   "outputs": [],
   "source": [
    "ingr_series = ingr_series.apply(lambda x: x.split(','))"
   ]
  },
  {
   "cell_type": "code",
   "execution_count": 19,
   "metadata": {},
   "outputs": [
    {
     "data": {
      "text/plain": "(list, list, list)"
     },
     "execution_count": 19,
     "metadata": {},
     "output_type": "execute_result"
    }
   ],
   "source": [
    "type(ingr_series[0]), type(kgl1_series[0]), type(kgl2_series[0])"
   ]
  },
  {
   "cell_type": "code",
   "execution_count": 20,
   "metadata": {},
   "outputs": [
    {
     "name": "stdout",
     "output_type": "stream",
     "text": "12351 39774 9944\n"
    }
   ],
   "source": [
    "print(len(ingr_series), len(kgl1_series), len(kgl2_series))"
   ]
  },
  {
   "cell_type": "code",
   "execution_count": 21,
   "metadata": {},
   "outputs": [
    {
     "name": "stdout",
     "output_type": "stream",
     "text": "62069\n"
    },
    {
     "data": {
      "text/plain": "0    [yeast, water, white sugar, salt, egg, butter,...\n1    [flour, salt, baking powder, poppy, butter, ve...\n2    [flour, egg, white sugar, vegetable oil, apple...\n3    [flour, baking powder, baking soda, salt, cinn...\n4    [oat, buttermilk, vegetable oil, egg, brown su...\ndtype: object"
     },
     "execution_count": 21,
     "metadata": {},
     "output_type": "execute_result"
    }
   ],
   "source": [
    "ingr_list = ingr_series.append([kgl1_series, kgl2_series], ignore_index=True)\n",
    "print(len(ingr_list))\n",
    "ingr_list.head()"
   ]
  },
  {
   "cell_type": "code",
   "execution_count": 41,
   "metadata": {},
   "outputs": [
    {
     "data": {
      "text/plain": "7800"
     },
     "execution_count": 41,
     "metadata": {},
     "output_type": "execute_result"
    }
   ],
   "source": [
    "ingredients = set(x for l in ingr_list for x in l)\n",
    "ingredient_list = list(ingredients)\n",
    "\n",
    "len(ingredient_list)"
   ]
  },
  {
   "cell_type": "code",
   "execution_count": 43,
   "metadata": {},
   "outputs": [],
   "source": [
    "ingr_int = {ingr:i for i,ingr in enumerate(ingredients)}\n",
    "int_ingr = {i:ingr for i,ingr in enumerate(ingredients)}"
   ]
  },
  {
   "cell_type": "code",
   "execution_count": 46,
   "metadata": {},
   "outputs": [
    {
     "data": {
      "text/plain": "ocolate sandwich cookies': 238,\n 'recaito': 239,\n 'Philadelphia Cream Cheese': 240,\n 'Mission Corn Tortillas': 241,\n 'beer': 242,\n 'bow-tie pasta': 243,\n 'Thai chili garlic sauce': 244,\n 'mustard greens': 245,\n 'ganache': 246,\n 'cheese curds': 247,\n '2 1/2 fluid ounces cachaca': 248,\n 'yellow bell pepper': 249,\n 'reduced sodium chicken bouillon granules': 250,\n 'amaretto': 251,\n 'mochi': 252,\n 'bone-in ribeye steak': 253,\n 'boneless turkey breast': 254,\n '1/4 cup bamboo shoots': 255,\n '3 cups half-and-half': 256,\n 'crumbled goat cheese': 257,\n 'grill seasoning': 258,\n 'crepes': 259,\n 'whole wheat cheese tortellini': 260,\n 'no-salt-added black beans': 261,\n 'creamy gravy': 262,\n 'chestnut spread': 263,\n 'DRESSING': 264,\n 'prepared coleslaw': 265,\n 'roasted almonds': 266,\n 'crumbled cheese': 267,\n 'thin pizza crust': 268,\n 'mochiko': 269,\n 'sea cucumber': 270,\n 'italian loaf': 271,\n 'pita chips': 272,\n 'chive': 273,\n ' split and toasted': 274,\n 'sunflower kernels': 275,\n 'digestive biscuit': 276,\n 'lemon extract': 277,\n 'picholine olives': 278,\n 'beluga caviar': 279,\n 'sole': 280,\n 'fat skimmed reduced sodium chicken broth': 281,\n 'caper berries': 282,\n 'sherbet': 283,\n 'lower sodium soy sauce': 284,\n 'KRAFT Mexican Style Finely Shredded Four Cheese': 285,\n 'pearl onions': 286,\n '2% low fat cheddar chees': 287,\n 'diced onions': 288,\n 'guanciale': 289,\n 'turkey gravy': 290,\n 'vegan butter': 291,\n 'vegetarian refried beans': 292,\n 'finely chopped fresh parsley': 293,\n 'sweetened coconut flakes': 294,\n 'smoked gouda': 295,\n \"'LADYFINGERS\": 296,\n '1 tablespoon ovalette': 297,\n 'gluten-free tamari': 298,\n 'green onions': 299,\n 'vegetable shortening': 300,\n 'salt free chili powder': 301,\n 'bamboo shoots': 302,\n 'glazed doughnuts': 303,\n 'skinless haddock': 304,\n 'chia seeds': 305,\n 'FILLING': 306,\n 'toasted slivered almonds': 307,\n 'turkey chili with beans': 308,\n 'cabbage head': 309,\n 'boil': 310,\n 'meringue nests': 311,\n 'multigrain cereal': 312,\n 'reduced fat ricotta cheese': 313,\n 'pizza toppings': 314,\n 'liquid egg whites': 315,\n 'spring chicken': 316,\n 'whole wheat pita bread': 317,\n 'lemon cucumber': 318,\n 'frozen lima beans': 319,\n 'claws': 320,\n 'hierba santa': 321,\n 'whole wheat pita bread rounds': 322,\n 'chinese cabbage': 323,\n 'small yellow potatoes': 324,\n 'Crust:': 325,\n 'corn flakes': 326,\n 'vinegar': 327,\n '2% reduced-fat milk': 328,\n 'red snapper': 329,\n 'hazelnut liqueur': 330,\n 'usukuchi soy sauce': 331,\n 'red bell pepper': 332,\n 'praline paste': 333,\n 'catfish': 334,\n 'cajeta': 335,\n '2 cups half-and-half': 336,\n 'brown mushroom': 337,\n 'black bass': 338,\n 'hazelnut flour': 339,\n 'habanero pepper': 340,\n 'fideos pasta': 341,\n 'dry milk powder': 342,\n 'plain low fat greek yogurt': 343,\n 'cream of coconut': 344,\n 'butterscotch filling': 345,\n 'curds': 346,\n 'boneless pork tenderloin': 347,\n 'medium salsa': 348,\n 'rosemary leaves': 349,\n 'safflower': 350,\n 'flanken short ribs': 351,\n 'salted dry roasted peanuts': 352,\n 'sparkling lemonade': 353,\n 'crumbled blue cheese': 354,\n 'Breyers® Natural Vanilla Ice Cream': 355,\n 'Heinz Ketchup': 356,\n 'Holland House White Cooking Wine': 357,\n 'celtic salt': 358,\n 'golden brown sugar': 359,\n 'peeled diced tomatoes': 360,\n 'lasagna noodles, cooked and drained': 361,\n 'old fashioned stone ground grits': 362,\n 'seasoning': 363,\n 'Mazola Canola Oil': 364,\n 'chili pepper': 365,\n 'nonfat italian dressing': 366,\n 'white kidney beans': 367,\n 'lady fingers': 368,\n 'instant chicken bouillon': 369,\n 'low-fat yogurt': 370,\n 'dried pineapple': 371,\n 'limeade': 372,\n 'poblano peppers': 373,\n 'essence': 374,\n 'gluten-free oat': 375,\n 'pizza doughs': 376,\n 'celery heart': 377,\n 'cornstarch': 378,\n 'crab boil': 379,\n 'Simply Organic ground nutmeg': 380,\n 'garlic mayonnaise': 381,\n 'aonori': 382,\n 'kamaboko': 383,\n 'nonfat half-and-half': 384,\n 'bertolli olive oil & garlic sauc': 385,\n 'candied cherries': 386,\n 'lemonade concentrate': 387,\n 'meat extract': 388,\n 'grassfed beef': 389,\n 'large potatoes': 390,\n 'boneless lamb': 391,\n 'ammonium bicarbonate': 392,\n 'bigoli': 393,\n 'BACARDI® Superior': 394,\n 'ditalini': 395,\n 'peeled deveined shrimp': 396,\n 'slab bacon': 397,\n 'rendered duck fat': 398,\n 'vegetable fats': 399,\n 'jamaican jerk marinade': 400,\n 'brown basmati rice': 401,\n 'banana extract': 402,\n 'opo squash': 403,\n 'hen of the woods': 404,\n 'steak seasoning': 405,\n 'bittersweet chocolate': 406,\n 'whole wheat hamburger buns': 407,\n 'saltines': 408,\n '3/4 fluid ounce Blue Curacao': 409,\n 'dried tart cherries': 410,\n 'black cherries': 411,\n 'greek style seasoning': 412,\n 'anise basil': 413,\n 'cajun seasoning mix': 414,\n 'dinosaur kale': 415,\n 'bulb fennel': 416,\n 'carne asada': 417,\n 'strip loin steak': 418,\n 'fresh tarragon': 419,\n 'lemon pudding': 420,\n 'San Marzano tomatoes': 421,\n 'coconut': 422,\n 'mostaccioli': 423,\n 'arbol chile': 424,\n 'salted peanuts': 425,\n 'citrus rind': 426,\n 'stilton': 427,\n 'boneless chicken': 428,\n 'oat milk': 429,\n 'conger eel': 430,\n 'solid pack pumpkin': 431,\n 'curly parsley': 432,\n 'cracker crumbs': 433,\n 'lemon wedge': 434,\n 'grated lemon zest': 435,\n 'fat free': 436,\n 'black rice': 437,\n 'Poire Williams': 438,\n 'apricot halves': 439,\n '3/4 cup half-and-half': 440,\n 'sandwiches': 441,\n 'puffed rice': 442,\n 'Old El Paso™ refried beans': 443,\n 'raspberries': 444,\n 'sturgeon fillets': 445,\n 'alaskan halibut': 446,\n '1 (1.75 ounce) package powdered pectin': 447,\n 'yellow peas': 448,\n 'marjoram': 449,\n 'crema mexican': 450,\n 'pecan': 451,\n 'grated parmesan cheese': 452,\n 'cointreau liqueur': 453,\n 'pure vanilla': 454,\n 'rapini': 455,\n 'mitsuba': 456,\n 'parsley flakes': 457,\n 'cinnamon candy canes': 458,\n 'candlenuts': 459,\n 'low sodium broth': 460,\n 'red pepper hot sauce': 461,\n 'fresh corn': 462,\n 'low-fat monterey jack': 463,\n 'reduced sodium smoked ham': 464,\n 'fresh cranberries': 465,\n 'pastry for single crust pie': 466,\n 'golden delicious apples': 467,\n 'nonfat cottage cheese': 468,\n 'chocolate spread': 469,\n 'chaurice': 470,\n 'chioggia': 471,\n 'knorr italian side   creami garlic shell': 472,\n 'dri leav thyme': 473,\n 'blue cheese dressing': 474,\n 'radishes': 475,\n '1 pinch Italian-style seasoning': 476,\n 'yellow onion': 477,\n 'pork tail': 478,\n 'recipe crumbles': 479,\n 'louisiana hot sauce': 480,\n 'smoked turkey breast': 481,\n 'bouillon powder': 482,\n 'light kidney beans': 483,\n 'smooth pasta': 484,\n 'chopped pecans': 485,\n 'sponge cake': 486,\n 'sweet gherkin': 487,\n 'red pepper': 488,\n 'chopped parsley': 489,\n 'fully cooked ham': 490,\n 'crisco': 491,\n 'Knorr® Chicken Flavor Rice Sides™': 492,\n 'no salt added canned tomatoes': 493,\n 'butter-flavored spray': 494,\n 'black chicken': 495,\n 'kosher for passover': 496,\n 'katsuo bushi': 497,\n 'large sausage casing': 498,\n 'mandarin orange segments': 499,\n 'ravioli': 500,\n '1 (1.27 ounce) packet fajita seasoning': 501,\n '1 pound braunschweiger liverwurst': 502,\n 'sea salt': 503,\n 'preserv raspberri seedless': 504,\n 'kosher': 505,\n 'pork bouillon cube': 506,\n 'chili habanero pepper': 507,\n 'pasta': 508,\n 'elderflower cordial': 509,\n 'chicken breasts': 510,\n 'low-fat sharp cheddar cheese': 511,\n 'mousse': 512,\n 'dry mustard': 513,\n 'pandan extract': 514,\n 'crystallized ginger': 515,\n 'queso blanco': 516,\n 'pumpkin pie filling': 517,\n 'pistou': 518,\n 'date': 519,\n 'feta cheese': 520,\n 'napa cabbage leaves': 521,\n 'umeboshi plum vinegar': 522,\n 'seafood glaze': 523,\n 'cane vinegar': 524,\n 'soy glaze': 525,\n 'soft taco size flour tortillas': 526,\n 'skinless boneless chicken legs': 527,\n 'crumpet': 528,\n 'Jell-O Gelatin Dessert': 529,\n 'mixed spice': 530,\n '1 cup maple flavored syrup': 531,\n 'frozen hash browns': 532,\n 'margarine spread': 533,\n 'toasted walnuts': 534,\n 'split peas': 535,\n 'frosting': 536,\n 'confit': 537,\n 'bitter gourd': 538,\n 'nonfat dry milk': 539,\n 'knorr chicken flavor bouillon': 540,\n 'white bread flour': 541,\n 'refrigerated bread dough': 542,\n 'chopped cilantro fresh': 543,\n 'frozen chicken wings': 544,\n 'frozen lemonade concentrate': 545,\n 'marsala wine': 546,\n 'peanut brittle': 547,\n 'cooking sherry': 548,\n 'pullman loaf': 549,\n 'calf liver': 550,\n '1 dash Blue Curacao': 551,\n 'dried beans': 552,\n 'fresh ginger root': 553,\n 'stolichnaya': 554,\n 'boneless chicken breast': 555,\n '2 tablespoons Italian-style seasoning': 556,\n 'aged cheddar cheese': 557,\n ' cubed': 558,\n 'whitefish': 559,\n 'guinea hens': 560,\n 'gluten free lasagna noodle': 561,\n 'pink lentil': 562,\n 'wood ear mushrooms': 563,\n 'corn bread crumbs': 564,\n ' peeled and julienned': 565,\n 'skin on bone in chicken legs': 566,\n '1 recipe Lady Baltimore Frosting': 567,\n 'Yuzukosho': 568,\n 'melted fat': 569,\n 'nuoc mam': 570,\n 'edamame beans': 571,\n 'pigeon peas': 572,\n 'Chinese rice vinegar': 573,\n 'fat free lemon curd': 574,\n 'seedless raspberry jam': 575,\n 'refrigerated piecrusts': 576,\n 'sugar pumpkin': 577,\n 'pimenton de la vera': 578,\n 'lipton tea bags': 579,\n 'frozen mixed vegetables': 580,\n 'grated cauliflower': 581,\n 'spices': 582,\n 'blue crabs': 583,\n 'snapper': 584,\n 'balm': 585,\n 'red curry paste': 586,\n '2% low-fat cottage cheese': 587,\n 'queso manchego': 588,\n 'rose water': 589,\n 'McCormick Black Pepper': 590,\n '2 tablespoons creme fraiche': 591,\n 'fresh udon': 592,\n 'iodized salt': 593,\n 'fig': 594,\n 'organic butter': 595,\n 'cooked bone in ham': 596,\n 'demerara sugar': 597,\n 'veggie crumbles': 598,\n 'vegan bouillon cubes': 599,\n 'kalonji': 600,\n 'cinnamon graham crackers': 601,\n ' divided': 602,\n 'low-fat spaghetti sauce': 603,\n 'Barilla Oven-Ready Lasagne': 604,\n '1 hot dog': 605,\n 'pork heart': 606,\n '1 tablespoon liquid sweetener': 607,\n 'tricolor quinoa': 608,\n 'snow pea shoots': 609,\n 'jalape': 610,\n 'cream yogurt': 611,\n 'light syrup': 612,\n 'gluten-free tamari sauce': 613,\n 'salt water': 614,\n 'pink food coloring': 615,\n 'Good Seasons Italian Dressing Mix': 616,\n 'semi pearled farro': 617,\n 'purple bell peppers': 618,\n 'condensed reduced fat reduced sodium cream of mushroom soup': 619,\n 'graham flour': 620,\n 'dairy': 621,\n 'sofrito': 622,\n ' peeled and shredded': 623,\n 'arrowroot starch': 624,\n 'dried shrimp': 625,\n 'baking potatoes': 626,\n 'fatfree lowsodium chicken broth': 627,\n 'scallions': 628,\n 'Frangelico': 629,\n 'red grape': 630,\n 'rome apples': 631,\n 'jamaican jerk': 632,\n 'chunky style pasta sauce': 633,\n 'boquerones': 634,\n 'sangria': 635,\n 'lemon pepper': 636,\n 'malt syrup': 637,\n 'genoise': 638,\n 'dipping sauces': 639,\n 'Kikkoman Oyster Sauce': 640,\n 'herb sauce': 641,\n '1 day old baguette': 642,\n 'ramen noodles seasoning': 643,\n 'Kewpie Mayonnaise': 644,\n 'butter flavor shortening': 645,\n 'hillshire farms low fat sausage': 646,\n 'mixed frozen seafood': 647,\n 'crème de menthe': 648,\n 'To Layer In Jar:': 649,\n 'filet mignon steaks': 650,\n 'evapor low-fat milk': 651,\n 'cannelloni': 652,\n 'jamaican rum': 653,\n 'roasted almond oil': 654,\n 'frozen cod fillets': 655,\n 'forest mushroom': 656,\n 'splenda': 657,\n 'whole wheat tortilla wraps': 658,\n 'cocktail sauce': 659,\n 'prepared lasagne': 660,\n 'candied pineapple': 661,\n 'sausage casings': 662,\n 'halibut steak': 663,\n 'TACO BELL® Thick & Chunky Mild Salsa': 664,\n 'goose fat': 665,\n '1 whole large smoked mullet': 666,\n \"moscato d'asti\": 667,\n 'harissa': 668,\n 'lamb stock': 669,\n 'skinless smoked trout fillets': 670,\n 'Wish-Bone Light Italian Dressing': 671,\n '100 (3.5 inch square) wonton wrappers': 672,\n 'whole wheat cereal': 673,\n 'low-fat italian dressing': 674,\n 'enchilada seasoning': 675,\n 'pesto sauce': 676,\n '1 tablespoon Old Bay Seasoning TM': 677,\n 'lean ground meat': 678,\n 'KRAFT Shredded Mozzarella Cheese': 679,\n '1/2 cup hickory wood chips': 680,\n 'Yoplait® Greek 2% Key lime pie yogurt': 681,\n 'fresh chicken stock': 682,\n 'sausage links': 683,\n 'walnut halves': 684,\n 'ocean perch': 685,\n 'nuoc nam': 686,\n 'yellow corn meal': 687,\n '1/2 pound braunschweiger liverwurst': 688,\n '6 tablespoons carob powder': 689,\n 'Days 4 and 5:': 690,\n 'pork roll': 691,\n 'ground roasted sichuan peppers': 692,\n 'prepared guacamole': 693,\n 'char': 694,\n '1/2 cup carob powder': 695,\n 'fishcake': 696,\n 'dried mango': 697,\n 'won ton wrappers': 698,\n 'pickle wedges': 699,\n 'puff pastry': 700,\n 'tenderloin roast': 701,\n 'bottled balsamic vinaigrette': 702,\n 'soya cheese': 703,\n 'sliced leeks': 704,\n 'brown butter': 705,\n 'liquid aminos': 706,\n 'valencia rice': 707,\n 'confit duck leg': 708,\n 'guava': 709,\n 'boneless pork loin': 710,\n 'hazelnut paste': 711,\n 'ascorbic acid': 712,\n 'low-fat sweetened condensed milk': 713,\n 'german mustard': 714,\n 'nonfat frozen yogurt': 715,\n 'long green beans': 716,\n 'frozen artichoke hearts': 717,\n 'chili seasoning': 718,\n 'sandwich steak': 719,\n 'low-fat sour cream': 720,\n '2 tablespoons glue': 721,\n 'toasted wheat germ': 722,\n 'Pillsbury™ refrigerated garlic butter crescent dinner rolls': 723,\n 'pecan halves': 724,\n 'wine vinegar': 725,\n 'prosciutto': 726,\n 'cracked black pepper': 727,\n 'white frosting mix': 728,\n 'vanilla ice cream': 729,\n 'bibb lettuce': 730,\n 'dark molasses': 731,\n 'pea': 732,\n 'gooseberries': 733,\n 'somen': 734,\n 'gravenstein apple': 735,\n 'juice': 736,\n 'wish bone red wine vinaigrett dress': 737,\n 'honeydew': 738,\n 'falafel': 739,\n 'pepperocini': 740,\n 'branston pickle': 741,\n 'katsuo dashi': 742,\n 'pear nectar': 743,\n 'chorizo spanish': 744,\n '1 tablespoon tamari': 745,\n 'shellfish': 746,\n 'jambalaya': 747,\n 'chiltepín': 748,\n \"1 tablespoon tom yum soup paste (optional)'\": 749,\n 'french fries': 750,\n \"I Can't Believe It's Not Butter!® Spread\": 751,\n 'Vadouvan curry': 752,\n 'lo mein noodles': 753,\n 'Italian cheese blend': 754,\n 'egg roll wrappers': 755,\n 'Gourmet Garden garlic paste': 756,\n 'crawfish': 757,\n 'duxelles': 758,\n 'mexico': 759,\n 'reduced fat chunky peanut butter': 760,\n '1 tablespoon arrowroot powder': 761,\n 'spicy brown mustard': 762,\n 'brioche buns': 763,\n 'kasha': 764,\n '1 tablespoon cooking oil': 765,\n '1/4 cup brown miso': 766,\n 'edamame': 767,\n 'slaw mix': 768,\n 'frozen cherries': 769,\n 'full fat sour cream': 770,\n 'green olives': 771,\n '1/4 cup crushed croutons': 772,\n 'matsutake mushrooms': 773,\n 'graham cracker crusts': 774,\n '2 cups matzo meal': 775,\n 'pies': 776,\n 'beef broth': 777,\n 'chopped fresh thyme': 778,\n 'pasta shells': 779,\n 'duck drumsticks': 780,\n 'chestnut': 781,\n 'mussels, well scrubbed': 782,\n 'vegetable': 783,\n 'creme de cacao': 784,\n 'ground sausage': 785,\n 'dangmyun': 786,\n 'heavy whipping cream': 787,\n '2 pounds top sirloin': 788,\n 'unsweetened almond milk': 789,\n 'cucuzza': 790,\n 'abura age': 791,\n 'italian style rolls': 792,\n 'lemon slices': 793,\n 'pomegranate molasses': 794,\n 'extract': 795,\n 'corn': 796,\n '1 pinch ground savory': 797,\n '24 (3.5 inch square) wonton wrappers': 798,\n 'vanilla pods': 799,\n 'hubbard squash': 800,\n 'italian moscato': 801,\n 'cake flour': 802,\n 'Marcona almonds': 803,\n 'Royal Baking Powder': 804,\n 'soy vermicelli': 805,\n 'spicy sausage': 806,\n 'celery tops': 807,\n 'ahi': 808,\n 'dark leafy greens': 809,\n 'reduced fat provolone cheese': 810,\n 'CURRY GUY Smoked Tandoori Masala': 811,\n 'fat-free reduced-sodium chicken broth': 812,\n 'cold cut': 813,\n 'coconut rum': 814,\n 'lacinato kale': 815,\n 'McCormick Parsley Flakes': 816,\n '12 manicotti shells': 817,\n 'fat free yogurt': 818,\n 'mature cheddar': 819,\n 'silken tofu': 820,\n 'cauliflower florets': 821,\n 'medium-grain rice': 822,\n 'sprouts': 823,\n 'lobster tails': 824,\n 'candy canes': 825,\n 'beef rump': 826,\n 'Taiwanese bok choy': 827,\n 'petits pois': 828,\n 'pork neck': 829,\n 'suckling pig': 830,\n 'tangelos': 831,\n 'potato': 832,\n 'choy sum': 833,\n 'french style sandwich rolls': 834,\n 'Jack Daniels Whiskey': 835,\n 'japanese radish': 836,\n 'boned lamb shoulder': 837,\n 'parsley leaves': 838,\n 'skate': 839,\n 'milk & cream': 840,\n 'black gram': 841,\n 'mushrooms': 842,\n 'dill tips': 843,\n 'regular tofu': 844,\n 'flour tortillas': 845,\n 'apples': 846,\n 'black tea leaves': 847,\n 'sharp white cheddar cheese': 848,\n 'shredded reduced fat reduced sodium swiss cheese': 849,\n 'caster': 850,\n 'dried cornhusks': 851,\n 'farro': 852,\n '3 cups prepared stuffing': 853,\n 'hot dog rolls': 854,\n 'grilled chicken strips': 855,\n 'ham stock cube': 856,\n '2 1/2 to 3 lb. chicken, cut into serving pieces': 857,\n 'pepper cheese': 858,\n 'white sandwich bread': 859,\n 'light chicken stock': 860,\n 'bai cai': 861,\n 'cane sugar': 862,\n 'chopped cooked meat': 863,\n 'flowerets': 864,\n 'tasso': 865,\n 'A Taste of Thai Rice Noodles': 866,\n 'slaw': 867,\n 'grenadine syrup': 868,\n 'coleslaw seasoning blend': 869,\n 'Mission Yellow Corn Tortillas': 870,\n '3 1/2 (4 ounce) jars tom yum soup paste': 871,\n 'minced beef': 872,\n 'yellow summer squash': 873,\n 'gnocchetti sardi': 874,\n 'Ciabatta rolls': 875,\n 'shredded coconut': 876,\n 'tilapia': 877,\n 'octopuses': 878,\n '1 tablespoon Italian-style seasoning': 879,\n 'raw cane sugar': 880,\n 'benne seed': 881,\n 'Fisher Pecan Halves': 882,\n 'japanese rice': 883,\n 'coconut flakes': 884,\n 'dried navy beans': 885,\n 'ground red pepper': 886,\n 'Quinoa Flour': 887,\n 'candy sprinkles': 888,\n 'Mae Ploy Sweet Chili Sauce': 889,\n 'hungarian paprika': 890,\n 'shredded swiss cheese': 891,\n 'sweet potato vermicelli': 892,\n 'short-grain rice': 893,\n 'sashimi grade tuna': 894,\n 'fresh bay leaves': 895,\n 'pearl rice': 896,\n 'sloe gin': 897,\n 'bean': 898,\n 'deli ham': 899,\n 'loose leaf black tea': 900,\n 'sweet white wine': 901,\n 'muscovy': 902,\n 'ground chipotle chile pepper': 903,\n 'mirin': 904,\n 'bouillon shrimp': 905,\n 'wasabi paste': 906,\n 'beef brisket': 907,\n 'dark brown sugar': 908,\n 'all-purpose flour': 909,\n 'capsicum': 910,\n 'grana padano': 911,\n 'sun-dried tomatoes': 912,\n 'rounds': 913,\n 'fish fillets': 914,\n 'butter extract': 915,\n 'turkey breast cutlets': 916,\n 'cod fish': 917,\n 'fat free ice cream': 918,\n 'ground cloves': 919,\n 'stir fry vegetable blend': 920,\n 'chicken demi-glace': 921,\n 'brownie layer': 922,\n 'boneless skinless chicken tenderloins': 923,\n 'cocktail pumpernickel bread': 924,\n 'plum sauce': 925,\n 'pastrami': 926,\n 'lovage': 927,\n 'powdered sugar icing': 928,\n 'ume plum vinegar': 929,\n 'vegetable oil spray': 930,\n 'burgers': 931,\n 'shishito chile': 932,\n 'thai noodles': 933,\n 'shoga': 934,\n 'soy yogurt': 935,\n 'linguini': 936,\n 'broth': 937,\n 'vegan parmesan cheese': 938,\n 'snip fresh dill': 939,\n 'gomashio': 940,\n 'sugar cookie dough': 941,\n 'roast turkey': 942,\n 'dried kelp': 943,\n 'asian dressing': 944,\n 'peeled canned low sodium tomatoes': 945,\n 'store bought low sodium chicken broth': 946,\n 'brussel sprout': 947,\n 'red rice vinegar': 948,\n 'white quinoa': 949,\n 'hot chili': 950,\n 'hazelnuts': 951,\n 'fresh ginger': 952,\n 'halibut fillets': 953,\n 'black trumpet mushrooms': 954,\n 'smoked almonds': 955,\n 'shredded lettuce': 956,\n 'black pudding': 957,\n 'pork shoulder roast': 958,\n '2% reduced fat chocolate milk': 959,\n 'Domino Light Brown Sugar': 960,\n 'reduced fat cream of mushroom soup': 961,\n 'fish fingers': 962,\n 'KRAFT Mexican Style 2% Milk Finely Shredded Four Cheese': 963,\n 'boneless moulard duck breast halves': 964,\n 'sorbet': 965,\n 'seasoned croutons': 966,\n 'roasted hazelnuts': 967,\n 'peach sorbet': 968,\n 'shredded low-fat jarlsberg cheese': 969,\n 'Yoplait® Greek 2% caramel yogurt': 970,\n 'freshly grated parmesan': 971,\n 'chopped ham': 972,\n 'snow crab': 973,\n 'shiitake mushroom caps': 974,\n 'canned chicken': 975,\n 'onion slices': 976,\n '1 1/2 cups toffee baking bits': 977,\n 'full fat cream cheese': 978,\n 'malted milk powder': 979,\n 'roasted chestnuts': 980,\n 'semisweet chocolate chunks': 981,\n 'French lentils': 982,\n 'cilantro sprigs': 983,\n '2 cups chopped taro (eddoes)': 984,\n 'smoked ham hocks': 985,\n 'low-fat flour tortillas': 986,\n 'shirataki': 987,\n 'condensed chicken broth': 988,\n 'soaking liquid': 989,\n 'light tuna in oil': 990,\n 'rigatoni': 991,\n 'pumpkin pie spice': 992,\n 'Pure Wesson Canola Oil': 993,\n '2 tablespoons sumac powder': 994,\n 'canned black beans': 995,\n 'Thai Kitchen Red Curry Paste': 996,\n 'corn grits': 997,\n 'Sangiovese': 998,\n 'almond butter': 999,\n ...}"
     },
     "execution_count": 46,
     "metadata": {},
     "output_type": "execute_result"
    }
   ],
   "source": [
    "ingr_int"
   ]
  },
  {
   "cell_type": "code",
   "execution_count": 38,
   "metadata": {},
   "outputs": [
    {
     "data": {
      "text/html": "<div>\n<style scoped>\n    .dataframe tbody tr th:only-of-type {\n        vertical-align: middle;\n    }\n\n    .dataframe tbody tr th {\n        vertical-align: top;\n    }\n\n    .dataframe thead th {\n        text-align: right;\n    }\n</style>\n<table border=\"1\" class=\"dataframe\">\n  <thead>\n    <tr style=\"text-align: right;\">\n      <th></th>\n      <th>ingr_0</th>\n      <th>ingr_1</th>\n      <th>ingr_2</th>\n      <th>ingr_3</th>\n      <th>ingr_4</th>\n      <th>ingr_5</th>\n      <th>ingr_6</th>\n      <th>ingr_7</th>\n      <th>ingr_8</th>\n      <th>ingr_9</th>\n      <th>...</th>\n      <th>ingr_55</th>\n      <th>ingr_56</th>\n      <th>ingr_57</th>\n      <th>ingr_58</th>\n      <th>ingr_59</th>\n      <th>ingr_60</th>\n      <th>ingr_61</th>\n      <th>ingr_62</th>\n      <th>ingr_63</th>\n      <th>ingr_64</th>\n    </tr>\n  </thead>\n  <tbody>\n    <tr>\n      <th>0</th>\n      <td>yeast</td>\n      <td>water</td>\n      <td>white sugar</td>\n      <td>salt</td>\n      <td>egg</td>\n      <td>butter</td>\n      <td>flour</td>\n      <td>butter</td>\n      <td>NaN</td>\n      <td>NaN</td>\n      <td>...</td>\n      <td>NaN</td>\n      <td>NaN</td>\n      <td>NaN</td>\n      <td>NaN</td>\n      <td>NaN</td>\n      <td>NaN</td>\n      <td>NaN</td>\n      <td>NaN</td>\n      <td>NaN</td>\n      <td>NaN</td>\n    </tr>\n    <tr>\n      <th>1</th>\n      <td>flour</td>\n      <td>salt</td>\n      <td>baking powder</td>\n      <td>poppy</td>\n      <td>butter</td>\n      <td>vegetable oil</td>\n      <td>egg</td>\n      <td>milk</td>\n      <td>white sugar</td>\n      <td>vanilla</td>\n      <td>...</td>\n      <td>NaN</td>\n      <td>NaN</td>\n      <td>NaN</td>\n      <td>NaN</td>\n      <td>NaN</td>\n      <td>NaN</td>\n      <td>NaN</td>\n      <td>NaN</td>\n      <td>NaN</td>\n      <td>NaN</td>\n    </tr>\n    <tr>\n      <th>2</th>\n      <td>flour</td>\n      <td>egg</td>\n      <td>white sugar</td>\n      <td>vegetable oil</td>\n      <td>applesauce</td>\n      <td>raisin</td>\n      <td>cinnamon</td>\n      <td>baking soda</td>\n      <td>baking powder</td>\n      <td>sour cream</td>\n      <td>...</td>\n      <td>NaN</td>\n      <td>NaN</td>\n      <td>NaN</td>\n      <td>NaN</td>\n      <td>NaN</td>\n      <td>NaN</td>\n      <td>NaN</td>\n      <td>NaN</td>\n      <td>NaN</td>\n      <td>NaN</td>\n    </tr>\n    <tr>\n      <th>3</th>\n      <td>flour</td>\n      <td>baking powder</td>\n      <td>baking soda</td>\n      <td>salt</td>\n      <td>cinnamon</td>\n      <td>nutmeg</td>\n      <td>brown sugar</td>\n      <td>oat</td>\n      <td>apple</td>\n      <td>walnut</td>\n      <td>...</td>\n      <td>NaN</td>\n      <td>NaN</td>\n      <td>NaN</td>\n      <td>NaN</td>\n      <td>NaN</td>\n      <td>NaN</td>\n      <td>NaN</td>\n      <td>NaN</td>\n      <td>NaN</td>\n      <td>NaN</td>\n    </tr>\n    <tr>\n      <th>4</th>\n      <td>oat</td>\n      <td>buttermilk</td>\n      <td>vegetable oil</td>\n      <td>egg</td>\n      <td>brown sugar</td>\n      <td>flour</td>\n      <td>baking powder</td>\n      <td>baking soda</td>\n      <td>salt</td>\n      <td>NaN</td>\n      <td>...</td>\n      <td>NaN</td>\n      <td>NaN</td>\n      <td>NaN</td>\n      <td>NaN</td>\n      <td>NaN</td>\n      <td>NaN</td>\n      <td>NaN</td>\n      <td>NaN</td>\n      <td>NaN</td>\n      <td>NaN</td>\n    </tr>\n    <tr>\n      <th>5</th>\n      <td>shortening</td>\n      <td>white sugar</td>\n      <td>salt</td>\n      <td>milk</td>\n      <td>egg</td>\n      <td>lemon</td>\n      <td>yeast</td>\n      <td>flour</td>\n      <td>fruit</td>\n      <td>NaN</td>\n      <td>...</td>\n      <td>NaN</td>\n      <td>NaN</td>\n      <td>NaN</td>\n      <td>NaN</td>\n      <td>NaN</td>\n      <td>NaN</td>\n      <td>NaN</td>\n      <td>NaN</td>\n      <td>NaN</td>\n      <td>NaN</td>\n    </tr>\n    <tr>\n      <th>6</th>\n      <td>shortening</td>\n      <td>water</td>\n      <td>brown sugar</td>\n      <td>yeast</td>\n      <td>water</td>\n      <td>white sugar</td>\n      <td>salt</td>\n      <td>bread</td>\n      <td>whole wheat</td>\n      <td>NaN</td>\n      <td>...</td>\n      <td>NaN</td>\n      <td>NaN</td>\n      <td>NaN</td>\n      <td>NaN</td>\n      <td>NaN</td>\n      <td>NaN</td>\n      <td>NaN</td>\n      <td>NaN</td>\n      <td>NaN</td>\n      <td>NaN</td>\n    </tr>\n    <tr>\n      <th>7</th>\n      <td>water</td>\n      <td>cottage cheese</td>\n      <td>vegetable oil</td>\n      <td>egg</td>\n      <td>flour</td>\n      <td>white sugar</td>\n      <td>baking soda</td>\n      <td>salt</td>\n      <td>yeast</td>\n      <td>NaN</td>\n      <td>...</td>\n      <td>NaN</td>\n      <td>NaN</td>\n      <td>NaN</td>\n      <td>NaN</td>\n      <td>NaN</td>\n      <td>NaN</td>\n      <td>NaN</td>\n      <td>NaN</td>\n      <td>NaN</td>\n      <td>NaN</td>\n    </tr>\n    <tr>\n      <th>8</th>\n      <td>margarine</td>\n      <td>white sugar</td>\n      <td>egg</td>\n      <td>banana</td>\n      <td>coffee</td>\n      <td>water</td>\n      <td>vanilla</td>\n      <td>flour</td>\n      <td>salt</td>\n      <td>baking powder</td>\n      <td>...</td>\n      <td>NaN</td>\n      <td>NaN</td>\n      <td>NaN</td>\n      <td>NaN</td>\n      <td>NaN</td>\n      <td>NaN</td>\n      <td>NaN</td>\n      <td>NaN</td>\n      <td>NaN</td>\n      <td>NaN</td>\n    </tr>\n    <tr>\n      <th>9</th>\n      <td>cornmeal</td>\n      <td>milk</td>\n      <td>egg</td>\n      <td>bell pepper</td>\n      <td>onion</td>\n      <td>garlic</td>\n      <td>salt</td>\n      <td>baking soda</td>\n      <td>white sugar</td>\n      <td>corn</td>\n      <td>...</td>\n      <td>NaN</td>\n      <td>NaN</td>\n      <td>NaN</td>\n      <td>NaN</td>\n      <td>NaN</td>\n      <td>NaN</td>\n      <td>NaN</td>\n      <td>NaN</td>\n      <td>NaN</td>\n      <td>NaN</td>\n    </tr>\n    <tr>\n      <th>10</th>\n      <td>flour</td>\n      <td>white sugar</td>\n      <td>baking powder</td>\n      <td>salt</td>\n      <td>shortening</td>\n      <td>oat</td>\n      <td>egg</td>\n      <td>milk</td>\n      <td>maple syrup</td>\n      <td>NaN</td>\n      <td>...</td>\n      <td>NaN</td>\n      <td>NaN</td>\n      <td>NaN</td>\n      <td>NaN</td>\n      <td>NaN</td>\n      <td>NaN</td>\n      <td>NaN</td>\n      <td>NaN</td>\n      <td>NaN</td>\n      <td>NaN</td>\n    </tr>\n    <tr>\n      <th>11</th>\n      <td>bread</td>\n      <td>egg</td>\n      <td>milk</td>\n      <td>cinnamon</td>\n      <td>nutmeg</td>\n      <td>vanilla</td>\n      <td>salt</td>\n      <td>NaN</td>\n      <td>NaN</td>\n      <td>NaN</td>\n      <td>...</td>\n      <td>NaN</td>\n      <td>NaN</td>\n      <td>NaN</td>\n      <td>NaN</td>\n      <td>NaN</td>\n      <td>NaN</td>\n      <td>NaN</td>\n      <td>NaN</td>\n      <td>NaN</td>\n      <td>NaN</td>\n    </tr>\n    <tr>\n      <th>12</th>\n      <td>yeast</td>\n      <td>water</td>\n      <td>buttermilk</td>\n      <td>flour</td>\n      <td>baking powder</td>\n      <td>baking soda</td>\n      <td>salt</td>\n      <td>white sugar</td>\n      <td>shortening</td>\n      <td>NaN</td>\n      <td>...</td>\n      <td>NaN</td>\n      <td>NaN</td>\n      <td>NaN</td>\n      <td>NaN</td>\n      <td>NaN</td>\n      <td>NaN</td>\n      <td>NaN</td>\n      <td>NaN</td>\n      <td>NaN</td>\n      <td>NaN</td>\n    </tr>\n    <tr>\n      <th>13</th>\n      <td>applesauce</td>\n      <td>margarine</td>\n      <td>white sugar</td>\n      <td>brown sugar</td>\n      <td>egg</td>\n      <td>vanilla</td>\n      <td>flour</td>\n      <td>cocoa powder</td>\n      <td>baking soda</td>\n      <td>cinnamon</td>\n      <td>...</td>\n      <td>NaN</td>\n      <td>NaN</td>\n      <td>NaN</td>\n      <td>NaN</td>\n      <td>NaN</td>\n      <td>NaN</td>\n      <td>NaN</td>\n      <td>NaN</td>\n      <td>NaN</td>\n      <td>NaN</td>\n    </tr>\n    <tr>\n      <th>14</th>\n      <td>milk</td>\n      <td>vegetable oil</td>\n      <td>molasses</td>\n      <td>bread</td>\n      <td>flour</td>\n      <td>cornmeal</td>\n      <td>salt</td>\n      <td>yeast</td>\n      <td>cocoa powder</td>\n      <td>brown sugar</td>\n      <td>...</td>\n      <td>NaN</td>\n      <td>NaN</td>\n      <td>NaN</td>\n      <td>NaN</td>\n      <td>NaN</td>\n      <td>NaN</td>\n      <td>NaN</td>\n      <td>NaN</td>\n      <td>NaN</td>\n      <td>NaN</td>\n    </tr>\n  </tbody>\n</table>\n<p>15 rows × 65 columns</p>\n</div>",
      "text/plain": "        ingr_0          ingr_1         ingr_2         ingr_3         ingr_4  \\\n0        yeast           water    white sugar           salt            egg   \n1        flour            salt  baking powder          poppy         butter   \n2        flour             egg    white sugar  vegetable oil     applesauce   \n3        flour   baking powder    baking soda           salt       cinnamon   \n4          oat      buttermilk  vegetable oil            egg    brown sugar   \n5   shortening     white sugar           salt           milk            egg   \n6   shortening           water    brown sugar          yeast          water   \n7        water  cottage cheese  vegetable oil            egg          flour   \n8    margarine     white sugar            egg         banana         coffee   \n9     cornmeal            milk            egg    bell pepper          onion   \n10       flour     white sugar  baking powder           salt     shortening   \n11       bread             egg           milk       cinnamon         nutmeg   \n12       yeast           water     buttermilk          flour  baking powder   \n13  applesauce       margarine    white sugar    brown sugar            egg   \n14        milk   vegetable oil       molasses          bread          flour   \n\n           ingr_5         ingr_6        ingr_7         ingr_8         ingr_9  \\\n0          butter          flour        butter            NaN            NaN   \n1   vegetable oil            egg          milk    white sugar        vanilla   \n2          raisin       cinnamon   baking soda  baking powder     sour cream   \n3          nutmeg    brown sugar           oat          apple         walnut   \n4           flour  baking powder   baking soda           salt            NaN   \n5           lemon          yeast         flour          fruit            NaN   \n6     white sugar           salt         bread    whole wheat            NaN   \n7     white sugar    baking soda          salt          yeast            NaN   \n8           water        vanilla         flour           salt  baking powder   \n9          garlic           salt   baking soda    white sugar           corn   \n10            oat            egg          milk    maple syrup            NaN   \n11        vanilla           salt           NaN            NaN            NaN   \n12    baking soda           salt   white sugar     shortening            NaN   \n13        vanilla          flour  cocoa powder    baking soda       cinnamon   \n14       cornmeal           salt         yeast   cocoa powder    brown sugar   \n\n    ... ingr_55 ingr_56 ingr_57 ingr_58 ingr_59 ingr_60 ingr_61 ingr_62  \\\n0   ...     NaN     NaN     NaN     NaN     NaN     NaN     NaN     NaN   \n1   ...     NaN     NaN     NaN     NaN     NaN     NaN     NaN     NaN   \n2   ...     NaN     NaN     NaN     NaN     NaN     NaN     NaN     NaN   \n3   ...     NaN     NaN     NaN     NaN     NaN     NaN     NaN     NaN   \n4   ...     NaN     NaN     NaN     NaN     NaN     NaN     NaN     NaN   \n5   ...     NaN     NaN     NaN     NaN     NaN     NaN     NaN     NaN   \n6   ...     NaN     NaN     NaN     NaN     NaN     NaN     NaN     NaN   \n7   ...     NaN     NaN     NaN     NaN     NaN     NaN     NaN     NaN   \n8   ...     NaN     NaN     NaN     NaN     NaN     NaN     NaN     NaN   \n9   ...     NaN     NaN     NaN     NaN     NaN     NaN     NaN     NaN   \n10  ...     NaN     NaN     NaN     NaN     NaN     NaN     NaN     NaN   \n11  ...     NaN     NaN     NaN     NaN     NaN     NaN     NaN     NaN   \n12  ...     NaN     NaN     NaN     NaN     NaN     NaN     NaN     NaN   \n13  ...     NaN     NaN     NaN     NaN     NaN     NaN     NaN     NaN   \n14  ...     NaN     NaN     NaN     NaN     NaN     NaN     NaN     NaN   \n\n   ingr_63 ingr_64  \n0      NaN     NaN  \n1      NaN     NaN  \n2      NaN     NaN  \n3      NaN     NaN  \n4      NaN     NaN  \n5      NaN     NaN  \n6      NaN     NaN  \n7      NaN     NaN  \n8      NaN     NaN  \n9      NaN     NaN  \n10     NaN     NaN  \n11     NaN     NaN  \n12     NaN     NaN  \n13     NaN     NaN  \n14     NaN     NaN  \n\n[15 rows x 65 columns]"
     },
     "execution_count": 38,
     "metadata": {},
     "output_type": "execute_result"
    }
   ],
   "source": [
    "merged_df = ingr_list.apply(pd.Series)\n",
    "merged_df = merged_df.rename(columns = lambda x: 'ingr_' + str(x))\n",
    "merged_df.head(15)"
   ]
  },
  {
   "cell_type": "code",
   "execution_count": null,
   "metadata": {},
   "outputs": [],
   "source": []
  },
  {
   "cell_type": "markdown",
   "metadata": {},
   "source": [
    "* User starts to type in first ingredient\n",
    "* we filter all rows that contain that given ingredient\n",
    "* temp_df with filtered results\n",
    "\n",
    "* user types in the second ingredient\n",
    "* we filter all rows that contain that given ingredient from temp_df\n",
    "\n",
    "* repeat\n",
    "\n",
    "flour >> salt >> brown sugar\n",
    "\n",
    "at this point - "
   ]
  },
  {
   "cell_type": "code",
   "execution_count": null,
   "metadata": {},
   "outputs": [],
   "source": [
    "\n",
    "\n",
    "\n",
    "\n",
    "\n",
    "\n",
    "\n",
    "\n",
    "\n",
    "\n",
    "\n",
    "\n",
    "\n",
    "\n",
    "\n",
    "\n",
    "\n"
   ]
  }
 ]
}