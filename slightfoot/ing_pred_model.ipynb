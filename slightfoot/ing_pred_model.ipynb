{
 "nbformat": 4,
 "nbformat_minor": 2,
 "metadata": {
  "language_info": {
   "name": "python",
   "codemirror_mode": {
    "name": "ipython",
    "version": 3
   },
   "version": "3.7.6-final"
  },
  "orig_nbformat": 2,
  "file_extension": ".py",
  "mimetype": "text/x-python",
  "name": "python",
  "npconvert_exporter": "python",
  "pygments_lexer": "ipython3",
  "version": 3,
  "kernelspec": {
   "name": "python37664bitmydishconda797818ee0abc4ea29f1e1dc6ed83066f",
   "display_name": "Python 3.7.6 64-bit ('MyDish': conda)"
  }
 },
 "cells": [
  {
   "cell_type": "code",
   "execution_count": 139,
   "metadata": {},
   "outputs": [],
   "source": [
    "import pandas as pd\n",
    "import numpy as np\n",
    "import matplotlib.pyplot as plt\n",
    "\n",
    "from tensorflow.keras.preprocessing import sequence\n",
    "from tensorflow.keras.models import Sequential\n",
    "from tensorflow.keras.layers import Dense, Embedding\n",
    "from tensorflow.keras.layers import LSTM\n",
    "\n",
    "from sklearn.model_selection import train_test_split\n",
    "\n",
    "import re\n",
    "import string"
   ]
  },
  {
   "cell_type": "code",
   "execution_count": 113,
   "metadata": {},
   "outputs": [],
   "source": [
    "import spacy\n",
    "nlp = spacy.load(\"en_core_web_sm\")"
   ]
  },
  {
   "cell_type": "code",
   "execution_count": 2,
   "metadata": {},
   "outputs": [],
   "source": [
    "df_path = '../data/clean_recipes.csv'\n",
    "df = pd.read_csv(df_path, sep=';')"
   ]
  },
  {
   "cell_type": "code",
   "execution_count": 2,
   "metadata": {},
   "outputs": [
    {
     "output_type": "error",
     "ename": "NameError",
     "evalue": "name 'pd' is not defined",
     "traceback": [
      "\u001b[1;31m---------------------------------------------------------------------------\u001b[0m",
      "\u001b[1;31mNameError\u001b[0m                                 Traceback (most recent call last)",
      "\u001b[1;32m<ipython-input-2-82a26092ca5b>\u001b[0m in \u001b[0;36m<module>\u001b[1;34m\u001b[0m\n\u001b[1;32m----> 1\u001b[1;33m \u001b[0mkgl1_df\u001b[0m \u001b[1;33m=\u001b[0m \u001b[0mpd\u001b[0m\u001b[1;33m.\u001b[0m\u001b[0mread_json\u001b[0m\u001b[1;33m(\u001b[0m\u001b[1;34m'../data/kgl_ingredient_train.json'\u001b[0m\u001b[1;33m)\u001b[0m\u001b[1;33m\u001b[0m\u001b[1;33m\u001b[0m\u001b[0m\n\u001b[0m\u001b[0;32m      2\u001b[0m \u001b[0mkgl2_df\u001b[0m \u001b[1;33m=\u001b[0m \u001b[0mpd\u001b[0m\u001b[1;33m.\u001b[0m\u001b[0mread_json\u001b[0m\u001b[1;33m(\u001b[0m\u001b[1;34m'../data/kgl_ingredient_test.json'\u001b[0m\u001b[1;33m)\u001b[0m\u001b[1;33m\u001b[0m\u001b[1;33m\u001b[0m\u001b[0m\n",
      "\u001b[1;31mNameError\u001b[0m: name 'pd' is not defined"
     ]
    }
   ],
   "source": [
    "kgl1_df = pd.read_json('../data/kgl_ingredient_train.json')\n",
    "kgl2_df = pd.read_json('../data/kgl_ingredient_test.json')"
   ]
  },
  {
   "cell_type": "code",
   "execution_count": 7,
   "metadata": {},
   "outputs": [
    {
     "name": "stdout",
     "output_type": "stream",
     "text": "(12351, 10)\n"
    },
    {
     "data": {
      "text/html": "<div>\n<style scoped>\n    .dataframe tbody tr th:only-of-type {\n        vertical-align: middle;\n    }\n\n    .dataframe tbody tr th {\n        vertical-align: top;\n    }\n\n    .dataframe thead th {\n        text-align: right;\n    }\n</style>\n<table border=\"1\" class=\"dataframe\">\n  <thead>\n    <tr style=\"text-align: right;\">\n      <th></th>\n      <th>Recipe Name</th>\n      <th>Review Count</th>\n      <th>Recipe Photo</th>\n      <th>Author</th>\n      <th>Prepare Time</th>\n      <th>Cook Time</th>\n      <th>Total Time</th>\n      <th>Ingredients</th>\n      <th>Directions</th>\n      <th>RecipeID</th>\n    </tr>\n  </thead>\n  <tbody>\n    <tr>\n      <th>0</th>\n      <td>Golden Crescent Rolls Recipe</td>\n      <td>304</td>\n      <td>https://images.media-allrecipes.com/userphotos...</td>\n      <td>Mike A.</td>\n      <td>25 m</td>\n      <td>15 m</td>\n      <td>3 h 10 m</td>\n      <td>yeast,water,white sugar,salt,egg,butter,flour,...</td>\n      <td>Dissolve yeast in warm water.**Stir in sugar, ...</td>\n      <td>7000</td>\n    </tr>\n    <tr>\n      <th>1</th>\n      <td>Poppy Seed Bread with Glaze Recipe</td>\n      <td>137</td>\n      <td>https://images.media-allrecipes.com/userphotos...</td>\n      <td>Christina Jun</td>\n      <td>15 m</td>\n      <td>1 h</td>\n      <td>1 h 20 m</td>\n      <td>flour,salt,baking powder,poppy,butter,vegetabl...</td>\n      <td>'Preheat oven to 350 degrees F (175 degrees C)...</td>\n      <td>7001</td>\n    </tr>\n    <tr>\n      <th>2</th>\n      <td>Applesauce Bread I Recipe</td>\n      <td>124</td>\n      <td>https://images.media-allrecipes.com/userphotos...</td>\n      <td>GAF55</td>\n      <td>10 m</td>\n      <td>1 h 20 m</td>\n      <td>1 h 30 m</td>\n      <td>flour,egg,white sugar,vegetable oil,applesauce...</td>\n      <td>Preheat oven to 350 degrees F (175 degrees C)....</td>\n      <td>7003</td>\n    </tr>\n    <tr>\n      <th>3</th>\n      <td>Apple Raisin Bread Recipe</td>\n      <td>39</td>\n      <td>https://images.media-allrecipes.com/userphotos...</td>\n      <td>Helen Hanson</td>\n      <td>15 m</td>\n      <td>1 h</td>\n      <td>1 h 15 m</td>\n      <td>flour,baking powder,baking soda,salt,cinnamon,...</td>\n      <td>Preheat oven to 350 degrees F (175 degrees C)....</td>\n      <td>7006</td>\n    </tr>\n    <tr>\n      <th>4</th>\n      <td>Buttermilk Oatmeal Bread Recipe</td>\n      <td>41</td>\n      <td>https://images.media-allrecipes.com/userphotos...</td>\n      <td>Helen Hanson</td>\n      <td>10 m</td>\n      <td>1 h</td>\n      <td>1 h 40 m</td>\n      <td>oat,buttermilk,vegetable oil,egg,brown sugar,f...</td>\n      <td>Mix oats with buttermilk.  Let stand for 1/2 h...</td>\n      <td>7007</td>\n    </tr>\n  </tbody>\n</table>\n</div>",
      "text/plain": "                           Recipe Name Review Count  \\\n0        Golden Crescent Rolls Recipe           304   \n1  Poppy Seed Bread with Glaze Recipe           137   \n2           Applesauce Bread I Recipe           124   \n3           Apple Raisin Bread Recipe            39   \n4     Buttermilk Oatmeal Bread Recipe            41   \n\n                                        Recipe Photo         Author  \\\n0  https://images.media-allrecipes.com/userphotos...        Mike A.   \n1  https://images.media-allrecipes.com/userphotos...  Christina Jun   \n2  https://images.media-allrecipes.com/userphotos...          GAF55   \n3  https://images.media-allrecipes.com/userphotos...   Helen Hanson   \n4  https://images.media-allrecipes.com/userphotos...   Helen Hanson   \n\n  Prepare Time Cook Time Total Time  \\\n0         25 m      15 m   3 h 10 m   \n1         15 m       1 h   1 h 20 m   \n2         10 m  1 h 20 m   1 h 30 m   \n3         15 m       1 h   1 h 15 m   \n4         10 m       1 h   1 h 40 m   \n\n                                         Ingredients  \\\n0  yeast,water,white sugar,salt,egg,butter,flour,...   \n1  flour,salt,baking powder,poppy,butter,vegetabl...   \n2  flour,egg,white sugar,vegetable oil,applesauce...   \n3  flour,baking powder,baking soda,salt,cinnamon,...   \n4  oat,buttermilk,vegetable oil,egg,brown sugar,f...   \n\n                                          Directions  RecipeID  \n0  Dissolve yeast in warm water.**Stir in sugar, ...      7000  \n1  'Preheat oven to 350 degrees F (175 degrees C)...      7001  \n2  Preheat oven to 350 degrees F (175 degrees C)....      7003  \n3  Preheat oven to 350 degrees F (175 degrees C)....      7006  \n4  Mix oats with buttermilk.  Let stand for 1/2 h...      7007  "
     },
     "execution_count": 7,
     "metadata": {},
     "output_type": "execute_result"
    }
   ],
   "source": [
    "print(df.shape)\n",
    "df.head()"
   ]
  },
  {
   "cell_type": "code",
   "execution_count": 12,
   "metadata": {},
   "outputs": [],
   "source": [
    "ingr_series = df['Ingredients']\n",
    "kgl1_series = kgl1_df['ingredients']\n",
    "kgl2_series = kgl2_df['ingredients']"
   ]
  },
  {
   "cell_type": "code",
   "execution_count": 16,
   "metadata": {},
   "outputs": [
    {
     "data": {
      "text/plain": "(str, list, list)"
     },
     "execution_count": 16,
     "metadata": {},
     "output_type": "execute_result"
    }
   ],
   "source": [
    "type(ingr_series[0]), type(kgl1_series[0]), type(kgl2_series[0])"
   ]
  },
  {
   "cell_type": "code",
   "execution_count": 17,
   "metadata": {},
   "outputs": [],
   "source": [
    "ingr_series = ingr_series.apply(lambda x: x.split(','))"
   ]
  },
  {
   "cell_type": "code",
   "execution_count": 19,
   "metadata": {},
   "outputs": [
    {
     "data": {
      "text/plain": "(list, list, list)"
     },
     "execution_count": 19,
     "metadata": {},
     "output_type": "execute_result"
    }
   ],
   "source": [
    "type(ingr_series[0]), type(kgl1_series[0]), type(kgl2_series[0])"
   ]
  },
  {
   "cell_type": "code",
   "execution_count": 20,
   "metadata": {},
   "outputs": [
    {
     "name": "stdout",
     "output_type": "stream",
     "text": "12351 39774 9944\n"
    }
   ],
   "source": [
    "print(len(ingr_series), len(kgl1_series), len(kgl2_series))"
   ]
  },
  {
   "cell_type": "code",
   "execution_count": 21,
   "metadata": {},
   "outputs": [
    {
     "name": "stdout",
     "output_type": "stream",
     "text": "62069\n"
    },
    {
     "data": {
      "text/plain": "0    [yeast, water, white sugar, salt, egg, butter,...\n1    [flour, salt, baking powder, poppy, butter, ve...\n2    [flour, egg, white sugar, vegetable oil, apple...\n3    [flour, baking powder, baking soda, salt, cinn...\n4    [oat, buttermilk, vegetable oil, egg, brown su...\ndtype: object"
     },
     "execution_count": 21,
     "metadata": {},
     "output_type": "execute_result"
    }
   ],
   "source": [
    "ingr_list = ingr_series.append([kgl1_series, kgl2_series], ignore_index=True)\n",
    "print(len(ingr_list))\n",
    "ingr_list.head()"
   ]
  },
  {
   "cell_type": "code",
   "execution_count": 52,
   "metadata": {},
   "outputs": [
    {
     "data": {
      "text/plain": "lets',\n 'Dry Mix Ingredients',\n 'rum syrup',\n 'uncooked lasagna',\n 'sugar snap pea',\n 'pickled vegetables',\n 'apricot jelly',\n 'egg beaters',\n 'pomelo',\n 'grate lime peel',\n 'agar',\n 'king salmon',\n 'instant rice',\n 'anise powder',\n 'melon liqueur',\n '1 (10 ounce) can bamboo shoots',\n 'grilled chicken',\n 'creamed coconut',\n 'miso sesame grilling sauce',\n 'coleslaw',\n 'green bell pepper',\n 'grapefruit',\n 'crumbled cornbread',\n 'icing mix',\n 'splenda granular',\n 'sweet mustard',\n 'canned chicken broth',\n 'herb',\n 'bermuda onion',\n 'all purpose unbleached flour',\n 'cherries',\n 'queso ranchero',\n 'greek yogurt',\n 'yeast',\n 'soppressata',\n 'japanese eggplants',\n 'chile verde',\n \"za'atar\",\n 'Barilla Linguine',\n 'blackberries',\n 'onion salt',\n 'pork sausages',\n 'medium tomatoes',\n 'McCormick Ground White Pepper',\n 'chicken bouillon',\n 'hungarian hot paprika',\n 'soybean paste',\n 'crosswise',\n 'diced red onions',\n 'almond liqueur',\n 'unsweetened vanilla almond milk',\n 'rose petals',\n 'bosc pears',\n 'jamaican jerk spice',\n 'tikka masala curry paste',\n 'side',\n 'light tuna',\n 'soy-based liquid seasoning',\n 'ranch-style seasoning',\n 'whisky',\n 'caramel topping',\n 'jasmine flowers',\n 'seasoned bread crumbs',\n 'mild Italian sausage',\n 'hazelnut oil',\n 'chicken legs',\n 'veget soup mix',\n 'dhaniya powder',\n 'frozen sweetened raspberries',\n 'frangipane',\n 'asafetida',\n 'low sodium canned chicken stock',\n 'toasted coconut',\n 'Herdez Salsa Casera',\n 'marshmallow',\n 'challa',\n 'yucca root',\n 'penne pasta',\n 'coconut chips',\n 'cilantro stems',\n 'frozen spinach',\n 'pastry dough',\n '1/2 pound flounder fillets',\n 'small pearl tapioca',\n 'swanson beef broth',\n 'currant jelly',\n 'cheese tortellini',\n ' stemmed and rinsed',\n 'twists',\n 'water chestnut powder',\n 'red vermouth',\n 'Jonshonville® Cajun Style Chicken Sausage',\n 'nonfat milk powder',\n 'chocolate mousse',\n 'double concentrate tomato paste',\n 'puff pastry cups',\n 'long green pepper',\n 'serrano peppers',\n 'ginger liqueur',\n 'baby back ribs',\n 'whole wheat buns',\n 'powdered vanilla pudding mix',\n 'gorgonzola',\n 'mexicorn',\n 'country style italian bread',\n 'compressed yeast',\n 'sirloin tip steak',\n 'chestnut flour',\n 'shredded low-fat cheddar',\n 'lower sodium beef broth',\n 'pineapple rings',\n 'boneless moulard duck breast',\n 'frozen carrots',\n 'Goya Extra Virgin Olive Oil',\n 'mushroom caps',\n 'savoiardi',\n 'non-dairy margarine',\n 'soft rolls',\n 'cal',\n 'sweet red bean paste',\n 'oriental radish',\n 'achiote',\n 'flavored tortilla chips',\n 'sodium reduced beef broth',\n 'beef shank',\n 'pork back ribs',\n 'polenta corn meal',\n 'Philadelphia Light Cream Cheese',\n '1 cup toffee baking bits',\n 'chopped green chilies',\n 'oxtails',\n 'catfish fillets',\n 'yellowfin tuna',\n 'chopped tomatoes',\n 'chowchow',\n 'yogurt',\n 'andouille chicken sausage',\n '1 (8 ounce) package tempeh',\n 'salted cashews',\n 'buckwheat noodles',\n 'cinnamon hot candy',\n 'chocolate graham cracker crumbs',\n 'coleslaw dressing',\n '1 tablespoon grenadine syrup',\n 'urad dal',\n 'seedless cucumber',\n 'nonfat yogurt',\n 'turkey breast tenderloins',\n 'sweet bean sauce',\n 'vine leaves',\n 'speck',\n 'candied jalapeno',\n 'lean minced lamb',\n 'potatoes',\n 'whole wheat french bread',\n '1 tablespoon sucanat',\n 'jamaican jerk rub',\n 'Franks Wings Sauce',\n 'chorizo',\n 'champagne vinegar',\n 'vegetarian protein crumbles',\n '24 popsicle sticks',\n '24 miniature croissants',\n 'Crystal Farms Butter',\n 'low sodium vegetable juice',\n 'chinese ham',\n 'asiago',\n 'ice cubes',\n 'perciatelli',\n 'pork liver',\n 'Mizkan Rice Vinegar',\n 'crushed graham crackers',\n 'yellow corn',\n 'calories',\n 'asian wheat noodles',\n 'puff pastry sheets',\n 'maple extract',\n 'sliced apples',\n 'burger rolls',\n '2 (12 ounce) packages ladyfingers',\n 'Melba toast',\n 'herb seasoned stuffing',\n 'korean chile',\n 'chocolate sandwich cookies',\n 'recaito',\n 'Philadelphia Cream Cheese',\n 'Mission Corn Tortillas',\n 'beer',\n 'bow-tie pasta',\n 'Thai chili garlic sauce',\n 'mustard greens',\n 'ganache',\n 'cheese curds',\n '2 1/2 fluid ounces cachaca',\n 'yellow bell pepper',\n 'reduced sodium chicken bouillon granules',\n 'amaretto',\n 'mochi',\n 'bone-in ribeye steak',\n 'boneless turkey breast',\n '1/4 cup bamboo shoots',\n '3 cups half-and-half',\n 'crumbled goat cheese',\n 'grill seasoning',\n 'crepes',\n 'whole wheat cheese tortellini',\n 'no-salt-added black beans',\n 'creamy gravy',\n 'chestnut spread',\n 'DRESSING',\n 'prepared coleslaw',\n 'roasted almonds',\n 'crumbled cheese',\n 'thin pizza crust',\n 'mochiko',\n 'sea cucumber',\n 'italian loaf',\n 'pita chips',\n 'chive',\n ' split and toasted',\n 'sunflower kernels',\n 'digestive biscuit',\n 'lemon extract',\n 'picholine olives',\n 'beluga caviar',\n 'sole',\n 'fat skimmed reduced sodium chicken broth',\n 'caper berries',\n 'sherbet',\n 'lower sodium soy sauce',\n 'KRAFT Mexican Style Finely Shredded Four Cheese',\n 'pearl onions',\n '2% low fat cheddar chees',\n 'diced onions',\n 'guanciale',\n 'turkey gravy',\n 'vegan butter',\n 'vegetarian refried beans',\n 'finely chopped fresh parsley',\n 'sweetened coconut flakes',\n 'smoked gouda',\n \"'LADYFINGERS\",\n '1 tablespoon ovalette',\n 'gluten-free tamari',\n 'green onions',\n 'vegetable shortening',\n 'salt free chili powder',\n 'bamboo shoots',\n 'glazed doughnuts',\n 'skinless haddock',\n 'chia seeds',\n 'FILLING',\n 'toasted slivered almonds',\n 'turkey chili with beans',\n 'cabbage head',\n 'boil',\n 'meringue nests',\n 'multigrain cereal',\n 'reduced fat ricotta cheese',\n 'pizza toppings',\n 'liquid egg whites',\n 'spring chicken',\n 'whole wheat pita bread',\n 'lemon cucumber',\n 'frozen lima beans',\n 'claws',\n 'hierba santa',\n 'whole wheat pita bread rounds',\n 'chinese cabbage',\n 'small yellow potatoes',\n 'Crust:',\n 'corn flakes',\n 'vinegar',\n '2% reduced-fat milk',\n 'red snapper',\n 'hazelnut liqueur',\n 'usukuchi soy sauce',\n 'red bell pepper',\n 'praline paste',\n 'catfish',\n 'cajeta',\n '2 cups half-and-half',\n 'brown mushroom',\n 'black bass',\n 'hazelnut flour',\n 'habanero pepper',\n 'fideos pasta',\n 'dry milk powder',\n 'plain low fat greek yogurt',\n 'cream of coconut',\n 'butterscotch filling',\n 'curds',\n 'boneless pork tenderloin',\n 'medium salsa',\n 'rosemary leaves',\n 'safflower',\n 'flanken short ribs',\n 'salted dry roasted peanuts',\n 'sparkling lemonade',\n 'crumbled blue cheese',\n 'Breyers® Natural Vanilla Ice Cream',\n 'Heinz Ketchup',\n 'Holland House White Cooking Wine',\n 'celtic salt',\n 'golden brown sugar',\n 'peeled diced tomatoes',\n 'lasagna noodles, cooked and drained',\n 'old fashioned stone ground grits',\n 'seasoning',\n 'Mazola Canola Oil',\n 'chili pepper',\n 'nonfat italian dressing',\n 'white kidney beans',\n 'lady fingers',\n 'instant chicken bouillon',\n 'low-fat yogurt',\n 'dried pineapple',\n 'limeade',\n 'poblano peppers',\n 'essence',\n 'gluten-free oat',\n 'pizza doughs',\n 'celery heart',\n 'cornstarch',\n 'crab boil',\n 'Simply Organic ground nutmeg',\n 'garlic mayonnaise',\n 'aonori',\n 'kamaboko',\n 'nonfat half-and-half',\n 'bertolli olive oil & garlic sauc',\n 'candied cherries',\n 'lemonade concentrate',\n 'meat extract',\n 'grassfed beef',\n 'large potatoes',\n 'boneless lamb',\n 'ammonium bicarbonate',\n 'bigoli',\n 'BACARDI® Superior',\n 'ditalini',\n 'peeled deveined shrimp',\n 'slab bacon',\n 'rendered duck fat',\n 'vegetable fats',\n 'jamaican jerk marinade',\n 'brown basmati rice',\n 'banana extract',\n 'opo squash',\n 'hen of the woods',\n 'steak seasoning',\n 'bittersweet chocolate',\n 'whole wheat hamburger buns',\n 'saltines',\n '3/4 fluid ounce Blue Curacao',\n 'dried tart cherries',\n 'black cherries',\n 'greek style seasoning',\n 'anise basil',\n 'cajun seasoning mix',\n 'dinosaur kale',\n 'bulb fennel',\n 'carne asada',\n 'strip loin steak',\n 'fresh tarragon',\n 'lemon pudding',\n 'San Marzano tomatoes',\n 'coconut',\n 'mostaccioli',\n 'arbol chile',\n 'salted peanuts',\n 'citrus rind',\n 'stilton',\n 'boneless chicken',\n 'oat milk',\n 'conger eel',\n 'solid pack pumpkin',\n 'curly parsley',\n 'cracker crumbs',\n 'lemon wedge',\n 'grated lemon zest',\n 'fat free',\n 'black rice',\n 'Poire Williams',\n 'apricot halves',\n '3/4 cup half-and-half',\n 'sandwiches',\n 'puffed rice',\n 'Old El Paso™ refried beans',\n 'raspberries',\n 'sturgeon fillets',\n 'alaskan halibut',\n '1 (1.75 ounce) package powdered pectin',\n 'yellow peas',\n 'marjoram',\n 'crema mexican',\n 'pecan',\n 'grated parmesan cheese',\n 'cointreau liqueur',\n 'pure vanilla',\n 'rapini',\n 'mitsuba',\n 'parsley flakes',\n 'cinnamon candy canes',\n 'candlenuts',\n 'low sodium broth',\n 'red pepper hot sauce',\n 'fresh corn',\n 'low-fat monterey jack',\n 'reduced sodium smoked ham',\n 'fresh cranberries',\n 'pastry for single crust pie',\n 'golden delicious apples',\n 'nonfat cottage cheese',\n 'chocolate spread',\n 'chaurice',\n 'chioggia',\n 'knorr italian side   creami garlic shell',\n 'dri leav thyme',\n 'blue cheese dressing',\n 'radishes',\n '1 pinch Italian-style seasoning',\n 'yellow onion',\n 'pork tail',\n 'recipe crumbles',\n 'louisiana hot sauce',\n 'smoked turkey breast',\n 'bouillon powder',\n 'light kidney beans',\n 'smooth pasta',\n 'chopped pecans',\n 'sponge cake',\n 'sweet gherkin',\n 'red pepper',\n 'chopped parsley',\n 'fully cooked ham',\n 'crisco',\n 'Knorr® Chicken Flavor Rice Sides™',\n 'no salt added canned tomatoes',\n 'butter-flavored spray',\n 'black chicken',\n 'kosher for passover',\n 'katsuo bushi',\n 'large sausage casing',\n 'mandarin orange segments',\n 'ravioli',\n '1 (1.27 ounce) packet fajita seasoning',\n '1 pound braunschweiger liverwurst',\n 'sea salt',\n 'preserv raspberri seedless',\n 'kosher',\n 'pork bouillon cube',\n 'chili habanero pepper',\n 'pasta',\n 'elderflower cordial',\n 'chicken breasts',\n 'low-fat sharp cheddar cheese',\n 'mousse',\n 'dry mustard',\n 'pandan extract',\n 'crystallized ginger',\n 'queso blanco',\n 'pumpkin pie filling',\n 'pistou',\n 'date',\n 'feta cheese',\n 'napa cabbage leaves',\n 'umeboshi plum vinegar',\n 'seafood glaze',\n 'cane vinegar',\n 'soy glaze',\n 'soft taco size flour tortillas',\n 'skinless boneless chicken legs',\n 'crumpet',\n 'Jell-O Gelatin Dessert',\n 'mixed spice',\n '1 cup maple flavored syrup',\n 'frozen hash browns',\n 'margarine spread',\n 'toasted walnuts',\n 'split peas',\n 'frosting',\n 'confit',\n 'bitter gourd',\n 'nonfat dry milk',\n 'knorr chicken flavor bouillon',\n 'white bread flour',\n 'refrigerated bread dough',\n 'chopped cilantro fresh',\n 'frozen chicken wings',\n 'frozen lemonade concentrate',\n 'marsala wine',\n 'peanut brittle',\n 'cooking sherry',\n 'pullman loaf',\n 'calf liver',\n '1 dash Blue Curacao',\n 'dried beans',\n 'fresh ginger root',\n 'stolichnaya',\n 'boneless chicken breast',\n '2 tablespoons Italian-style seasoning',\n 'aged cheddar cheese',\n ' cubed',\n 'whitefish',\n 'guinea hens',\n 'gluten free lasagna noodle',\n 'pink lentil',\n 'wood ear mushrooms',\n 'corn bread crumbs',\n ' peeled and julienned',\n 'skin on bone in chicken legs',\n '1 recipe Lady Baltimore Frosting',\n 'Yuzukosho',\n 'melted fat',\n 'nuoc mam',\n 'edamame beans',\n 'pigeon peas',\n 'Chinese rice vinegar',\n 'fat free lemon curd',\n 'seedless raspberry jam',\n 'refrigerated piecrusts',\n 'sugar pumpkin',\n 'pimenton de la vera',\n 'lipton tea bags',\n 'frozen mixed vegetables',\n 'grated cauliflower',\n 'spices',\n 'blue crabs',\n 'snapper',\n 'balm',\n 'red curry paste',\n '2% low-fat cottage cheese',\n 'queso manchego',\n 'rose water',\n 'McCormick Black Pepper',\n '2 tablespoons creme fraiche',\n 'fresh udon',\n 'iodized salt',\n 'fig',\n 'organic butter',\n 'cooked bone in ham',\n 'demerara sugar',\n 'veggie crumbles',\n 'vegan bouillon cubes',\n 'kalonji',\n 'cinnamon graham crackers',\n ' divided',\n 'low-fat spaghetti sauce',\n 'Barilla Oven-Ready Lasagne',\n '1 hot dog',\n 'pork heart',\n '1 tablespoon liquid sweetener',\n 'tricolor quinoa',\n 'snow pea shoots',\n 'jalape',\n 'cream yogurt',\n 'light syrup',\n 'gluten-free tamari sauce',\n 'salt water',\n 'pink food coloring',\n 'Good Seasons Italian Dressing Mix',\n 'semi pearled farro',\n 'purple bell peppers',\n 'condensed reduced fat reduced sodium cream of mushroom soup',\n 'graham flour',\n 'dairy',\n 'sofrito',\n ' peeled and shredded',\n 'arrowroot starch',\n 'dried shrimp',\n 'baking potatoes',\n 'fatfree lowsodium chicken broth',\n 'scallions',\n 'Frangelico',\n 'red grape',\n 'rome apples',\n 'jamaican jerk',\n 'chunky style pasta sauce',\n 'boquerones',\n 'sangria',\n 'lemon pepper',\n 'malt syrup',\n 'genoise',\n 'dipping sauces',\n 'Kikkoman Oyster Sauce',\n 'herb sauce',\n '1 day old baguette',\n 'ramen noodles seasoning',\n 'Kewpie Mayonnaise',\n 'butter flavor shortening',\n 'hillshire farms low fat sausage',\n 'mixed frozen seafood',\n 'crème de menthe',\n 'To Layer In Jar:',\n 'filet mignon steaks',\n 'evapor low-fat milk',\n 'cannelloni',\n 'jamaican rum',\n 'roasted almond oil',\n 'frozen cod fillets',\n 'forest mushroom',\n 'splenda',\n 'whole wheat tortilla wraps',\n 'cocktail sauce',\n 'prepared lasagne',\n 'candied pineapple',\n 'sausage casings',\n 'halibut steak',\n 'TACO BELL® Thick & Chunky Mild Salsa',\n 'goose fat',\n '1 whole large smoked mullet',\n \"moscato d'asti\",\n 'harissa',\n 'lamb stock',\n 'skinless smoked trout fillets',\n 'Wish-Bone Light Italian Dressing',\n '100 (3.5 inch square) wonton wrappers',\n 'whole wheat cereal',\n 'low-fat italian dressing',\n 'enchilada seasoning',\n 'pesto sauce',\n '1 tablespoon Old Bay Seasoning TM',\n 'lean ground meat',\n 'KRAFT Shredded Mozzarella Cheese',\n '1/2 cup hickory wood chips',\n 'Yoplait® Greek 2% Key lime pie yogurt',\n 'fresh chicken stock',\n 'sausage links',\n 'walnut halves',\n 'ocean perch',\n 'nuoc nam',\n 'yellow corn meal',\n '1/2 pound braunschweiger liverwurst',\n '6 tablespoons carob powder',\n 'Days 4 and 5:',\n 'pork roll',\n 'ground roasted sichuan peppers',\n 'prepared guacamole',\n 'char',\n '1/2 cup carob powder',\n 'fishcake',\n 'dried mango',\n 'won ton wrappers',\n 'pickle wedges',\n 'puff pastry',\n 'tenderloin roast',\n 'bottled balsamic vinaigrette',\n 'soya cheese',\n 'sliced leeks',\n 'brown butter',\n 'liquid aminos',\n 'valencia rice',\n 'confit duck leg',\n 'guava',\n 'boneless pork loin',\n 'hazelnut paste',\n 'ascorbic acid',\n 'low-fat sweetened condensed milk',\n 'german mustard',\n 'nonfat frozen yogurt',\n 'long green beans',\n 'frozen artichoke hearts',\n 'chili seasoning',\n 'sandwich steak',\n 'low-fat sour cream',\n '2 tablespoons glue',\n 'toasted wheat germ',\n 'Pillsbury™ refrigerated garlic butter crescent dinner rolls',\n 'pecan halves',\n 'wine vinegar',\n 'prosciutto',\n 'cracked black pepper',\n 'white frosting mix',\n 'vanilla ice cream',\n 'bibb lettuce',\n 'dark molasses',\n 'pea',\n 'gooseberries',\n 'somen',\n 'gravenstein apple',\n 'juice',\n 'wish bone red wine vinaigrett dress',\n 'honeydew',\n 'falafel',\n 'pepperocini',\n 'branston pickle',\n 'katsuo dashi',\n 'pear nectar',\n 'chorizo spanish',\n '1 tablespoon tamari',\n 'shellfish',\n 'jambalaya',\n 'chiltepín',\n \"1 tablespoon tom yum soup paste (optional)'\",\n 'french fries',\n \"I Can't Believe It's Not Butter!® Spread\",\n 'Vadouvan curry',\n 'lo mein noodles',\n 'Italian cheese blend',\n 'egg roll wrappers',\n 'Gourmet Garden garlic paste',\n 'crawfish',\n 'duxelles',\n 'mexico',\n 'reduced fat chunky peanut butter',\n '1 tablespoon arrowroot powder',\n 'spicy brown mustard',\n 'brioche buns',\n 'kasha',\n '1 tablespoon cooking oil',\n '1/4 cup brown miso',\n 'edamame',\n 'slaw mix',\n 'frozen cherries',\n 'full fat sour cream',\n 'green olives',\n '1/4 cup crushed croutons',\n 'matsutake mushrooms',\n 'graham cracker crusts',\n '2 cups matzo meal',\n 'pies',\n 'beef broth',\n 'chopped fresh thyme',\n 'pasta shells',\n 'duck drumsticks',\n 'chestnut',\n 'mussels, well scrubbed',\n 'vegetable',\n 'creme de cacao',\n 'ground sausage',\n 'dangmyun',\n 'heavy whipping cream',\n '2 pounds top sirloin',\n 'unsweetened almond milk',\n 'cucuzza',\n 'abura age',\n 'italian style rolls',\n 'lemon slices',\n 'pomegranate molasses',\n 'extract',\n 'corn',\n '1 pinch ground savory',\n '24 (3.5 inch square) wonton wrappers',\n 'vanilla pods',\n 'hubbard squash',\n 'italian moscato',\n 'cake flour',\n 'Marcona almonds',\n 'Royal Baking Powder',\n 'soy vermicelli',\n 'spicy sausage',\n 'celery tops',\n 'ahi',\n 'dark leafy greens',\n 'reduced fat provolone cheese',\n 'CURRY GUY Smoked Tandoori Masala',\n 'fat-free reduced-sodium chicken broth',\n 'cold cut',\n 'coconut rum',\n 'lacinato kale',\n 'McCormick Parsley Flakes',\n '12 manicotti shells',\n 'fat free yogurt',\n 'mature cheddar',\n 'silken tofu',\n 'cauliflower florets',\n 'medium-grain rice',\n 'sprouts',\n 'lobster tails',\n 'candy canes',\n 'beef rump',\n 'Taiwanese bok choy',\n 'petits pois',\n 'pork neck',\n 'suckling pig',\n 'tangelos',\n 'potato',\n 'choy sum',\n 'french style sandwich rolls',\n 'Jack Daniels Whiskey',\n 'japanese radish',\n 'boned lamb shoulder',\n 'parsley leaves',\n 'skate',\n 'milk & cream',\n 'black gram',\n 'mushrooms',\n 'dill tips',\n 'regular tofu',\n 'flour tortillas',\n 'apples',\n 'black tea leaves',\n 'sharp white cheddar cheese',\n 'shredded reduced fat reduced sodium swiss cheese',\n 'caster',\n 'dried cornhusks',\n 'farro',\n '3 cups prepared stuffing',\n 'hot dog rolls',\n 'grilled chicken strips',\n 'ham stock cube',\n '2 1/2 to 3 lb. chicken, cut into serving pieces',\n 'pepper cheese',\n 'white sandwich bread',\n 'light chicken stock',\n 'bai cai',\n 'cane sugar',\n 'chopped cooked meat',\n 'flowerets',\n 'tasso',\n 'A Taste of Thai Rice Noodles',\n 'slaw',\n 'grenadine syrup',\n 'coleslaw seasoning blend',\n 'Mission Yellow Corn Tortillas',\n '3 1/2 (4 ounce) jars tom yum soup paste',\n 'minced beef',\n 'yellow summer squash',\n 'gnocchetti sardi',\n 'Ciabatta rolls',\n 'shredded coconut',\n 'tilapia',\n 'octopuses',\n '1 tablespoon Italian-style seasoning',\n 'raw cane sugar',\n 'benne seed',\n 'Fisher Pecan Halves',\n 'japanese rice',\n 'coconut flakes',\n 'dried navy beans',\n 'ground red pepper',\n 'Quinoa Flour',\n 'candy sprinkles',\n 'Mae Ploy Sweet Chili Sauce',\n 'hungarian paprika',\n 'shredded swiss cheese',\n 'sweet potato vermicelli',\n 'short-grain rice',\n 'sashimi grade tuna',\n 'fresh bay leaves',\n 'pearl rice',\n 'sloe gin',\n 'bean',\n 'deli ham',\n 'loose leaf black tea',\n 'sweet white wine',\n 'muscovy',\n 'ground chipotle chile pepper',\n 'mirin',\n 'bouillon shrimp',\n 'wasabi paste',\n 'beef brisket',\n 'dark brown sugar',\n 'all-purpose flour',\n 'capsicum',\n 'grana padano',\n 'sun-dried tomatoes',\n 'rounds',\n 'fish fillets',\n 'butter extract',\n 'turkey breast cutlets',\n 'cod fish',\n 'fat free ice cream',\n 'ground cloves',\n 'stir fry vegetable blend',\n 'chicken demi-glace',\n 'brownie layer',\n 'boneless skinless chicken tenderloins',\n 'cocktail pumpernickel bread',\n 'plum sauce',\n 'pastrami',\n 'lovage',\n 'powdered sugar icing',\n 'ume plum vinegar',\n 'vegetable oil spray',\n 'burgers',\n 'shishito chile',\n 'thai noodles',\n 'shoga',\n 'soy yogurt',\n 'linguini',\n 'broth',\n 'vegan parmesan cheese',\n 'snip fresh dill',\n 'gomashio',\n 'sugar cookie dough',\n 'roast turkey',\n 'dried kelp',\n 'asian dressing',\n 'peeled canned low sodium tomatoes',\n 'store bought low sodium chicken broth',\n 'brussel sprout',\n 'red rice vinegar',\n 'white quinoa',\n 'hot chili',\n 'hazelnuts',\n 'fresh ginger',\n 'halibut fillets',\n 'black trumpet mushrooms',\n 'smoked almonds',\n 'shredded lettuce',\n 'black pudding',\n 'pork shoulder roast',\n '2% reduced fat chocolate milk',\n 'Domino Light Brown Sugar',\n 'reduced fat cream of mushroom soup',\n 'fish fingers',\n 'KRAFT Mexican Style 2% Milk Finely Shredded Four Cheese',\n 'boneless moulard duck breast halves',\n 'sorbet',\n 'seasoned croutons',\n 'roasted hazelnuts',\n 'peach sorbet',\n 'shredded low-fat jarlsberg cheese',\n 'Yoplait® Greek 2% caramel yogurt',\n 'freshly grated parmesan',\n 'chopped ham',\n 'snow crab',\n 'shiitake mushroom caps',\n 'canned chicken',\n 'onion slices',\n '1 1/2 cups toffee baking bits',\n 'full fat cream cheese',\n 'malted milk powder',\n 'roasted chestnuts',\n 'semisweet chocolate chunks',\n 'French lentils',\n 'cilantro sprigs',\n '2 cups chopped taro (eddoes)',\n 'smoked ham hocks',\n 'low-fat flour tortillas',\n 'shirataki',\n 'condensed chicken broth',\n 'soaking liquid',\n 'light tuna in oil',\n 'rigatoni',\n 'pumpkin pie spice',\n 'Pure Wesson Canola Oil',\n '2 tablespoons sumac powder',\n 'canned black beans',\n 'Thai Kitchen Red Curry Paste',\n 'corn grits',\n 'Sangiovese',\n 'almond butter',\n ...]"
     },
     "execution_count": 52,
     "metadata": {},
     "output_type": "execute_result"
    }
   ],
   "source": [
    "ingredients = set(x for l in ingr_list for x in l)\n",
    "ingredient_list = list(ingredients)\n",
    "\n",
    "ingredient_list"
   ]
  },
  {
   "cell_type": "code",
   "execution_count": 178,
   "metadata": {},
   "outputs": [
    {
     "data": {
      "text/plain": "lets',\n 'Dry Mix Ingredients',\n 'rum syrup',\n 'uncooked lasagna',\n 'sugar snap pea',\n 'pickled vegetables',\n 'apricot jelly',\n 'egg beaters',\n 'pomelo',\n 'grate lime peel',\n 'agar',\n 'king salmon',\n 'instant rice',\n 'anise powder',\n 'melon liqueur',\n '1 (10 ounce) can bamboo shoots',\n 'grilled chicken',\n 'creamed coconut',\n 'miso sesame grilling sauce',\n 'coleslaw',\n 'green bell pepper',\n 'grapefruit',\n 'crumbled cornbread',\n 'icing mix',\n 'splenda granular',\n 'sweet mustard',\n 'canned chicken broth',\n 'herb',\n 'bermuda onion',\n 'all purpose unbleached flour',\n 'cherries',\n 'queso ranchero',\n 'greek yogurt',\n 'yeast',\n 'soppressata',\n 'japanese eggplants',\n 'chile verde',\n \"za'atar\",\n 'Barilla Linguine',\n 'blackberries',\n 'onion salt',\n 'pork sausages',\n 'medium tomatoes',\n 'McCormick Ground White Pepper',\n 'chicken bouillon',\n 'hungarian hot paprika',\n 'soybean paste',\n 'crosswise',\n 'diced red onions',\n 'almond liqueur',\n 'unsweetened vanilla almond milk',\n 'rose petals',\n 'bosc pears',\n 'jamaican jerk spice',\n 'tikka masala curry paste',\n 'side',\n 'light tuna',\n 'soy-based liquid seasoning',\n 'ranch-style seasoning',\n 'whisky',\n 'caramel topping',\n 'jasmine flowers',\n 'seasoned bread crumbs',\n 'mild Italian sausage',\n 'hazelnut oil',\n 'chicken legs',\n 'veget soup mix',\n 'dhaniya powder',\n 'frozen sweetened raspberries',\n 'frangipane',\n 'asafetida',\n 'low sodium canned chicken stock',\n 'toasted coconut',\n 'Herdez Salsa Casera',\n 'marshmallow',\n 'challa',\n 'yucca root',\n 'penne pasta',\n 'coconut chips',\n 'cilantro stems',\n 'frozen spinach',\n 'pastry dough',\n '1/2 pound flounder fillets',\n 'small pearl tapioca',\n 'swanson beef broth',\n 'currant jelly',\n 'cheese tortellini',\n ' stemmed and rinsed',\n 'twists',\n 'water chestnut powder',\n 'red vermouth',\n 'Jonshonville® Cajun Style Chicken Sausage',\n 'nonfat milk powder',\n 'chocolate mousse',\n 'double concentrate tomato paste',\n 'puff pastry cups',\n 'long green pepper',\n 'serrano peppers',\n 'ginger liqueur',\n 'baby back ribs',\n 'whole wheat buns',\n 'powdered vanilla pudding mix',\n 'gorgonzola',\n 'mexicorn',\n 'country style italian bread',\n 'compressed yeast',\n 'sirloin tip steak',\n 'chestnut flour',\n 'shredded low-fat cheddar',\n 'lower sodium beef broth',\n 'pineapple rings',\n 'boneless moulard duck breast',\n 'frozen carrots',\n 'Goya Extra Virgin Olive Oil',\n 'mushroom caps',\n 'savoiardi',\n 'non-dairy margarine',\n 'soft rolls',\n 'cal',\n 'sweet red bean paste',\n 'oriental radish',\n 'achiote',\n 'flavored tortilla chips',\n 'sodium reduced beef broth',\n 'beef shank',\n 'pork back ribs',\n 'polenta corn meal',\n 'Philadelphia Light Cream Cheese',\n '1 cup toffee baking bits',\n 'chopped green chilies',\n 'oxtails',\n 'catfish fillets',\n 'yellowfin tuna',\n 'chopped tomatoes',\n 'chowchow',\n 'yogurt',\n 'andouille chicken sausage',\n '1 (8 ounce) package tempeh',\n 'salted cashews',\n 'buckwheat noodles',\n 'cinnamon hot candy',\n 'chocolate graham cracker crumbs',\n 'coleslaw dressing',\n '1 tablespoon grenadine syrup',\n 'urad dal',\n 'seedless cucumber',\n 'nonfat yogurt',\n 'turkey breast tenderloins',\n 'sweet bean sauce',\n 'vine leaves',\n 'speck',\n 'candied jalapeno',\n 'lean minced lamb',\n 'potatoes',\n 'whole wheat french bread',\n '1 tablespoon sucanat',\n 'jamaican jerk rub',\n 'Franks Wings Sauce',\n 'chorizo',\n 'champagne vinegar',\n 'vegetarian protein crumbles',\n '24 popsicle sticks',\n '24 miniature croissants',\n 'Crystal Farms Butter',\n 'low sodium vegetable juice',\n 'chinese ham',\n 'asiago',\n 'ice cubes',\n 'perciatelli',\n 'pork liver',\n 'Mizkan Rice Vinegar',\n 'crushed graham crackers',\n 'yellow corn',\n 'calories',\n 'asian wheat noodles',\n 'puff pastry sheets',\n 'maple extract',\n 'sliced apples',\n 'burger rolls',\n '2 (12 ounce) packages ladyfingers',\n 'Melba toast',\n 'herb seasoned stuffing',\n 'korean chile',\n 'chocolate sandwich cookies',\n 'recaito',\n 'Philadelphia Cream Cheese',\n 'Mission Corn Tortillas',\n 'beer',\n 'bow-tie pasta',\n 'Thai chili garlic sauce',\n 'mustard greens',\n 'ganache',\n 'cheese curds',\n '2 1/2 fluid ounces cachaca',\n 'yellow bell pepper',\n 'reduced sodium chicken bouillon granules',\n 'amaretto',\n 'mochi',\n 'bone-in ribeye steak',\n 'boneless turkey breast',\n '1/4 cup bamboo shoots',\n '3 cups half-and-half',\n 'crumbled goat cheese',\n 'grill seasoning',\n 'crepes',\n 'whole wheat cheese tortellini',\n 'no-salt-added black beans',\n 'creamy gravy',\n 'chestnut spread',\n 'DRESSING',\n 'prepared coleslaw',\n 'roasted almonds',\n 'crumbled cheese',\n 'thin pizza crust',\n 'mochiko',\n 'sea cucumber',\n 'italian loaf',\n 'pita chips',\n 'chive',\n ' split and toasted',\n 'sunflower kernels',\n 'digestive biscuit',\n 'lemon extract',\n 'picholine olives',\n 'beluga caviar',\n 'sole',\n 'fat skimmed reduced sodium chicken broth',\n 'caper berries',\n 'sherbet',\n 'lower sodium soy sauce',\n 'KRAFT Mexican Style Finely Shredded Four Cheese',\n 'pearl onions',\n '2% low fat cheddar chees',\n 'diced onions',\n 'guanciale',\n 'turkey gravy',\n 'vegan butter',\n 'vegetarian refried beans',\n 'finely chopped fresh parsley',\n 'sweetened coconut flakes',\n 'smoked gouda',\n \"'LADYFINGERS\",\n '1 tablespoon ovalette',\n 'gluten-free tamari',\n 'green onions',\n 'vegetable shortening',\n 'salt free chili powder',\n 'bamboo shoots',\n 'glazed doughnuts',\n 'skinless haddock',\n 'chia seeds',\n 'FILLING',\n 'toasted slivered almonds',\n 'turkey chili with beans',\n 'cabbage head',\n 'boil',\n 'meringue nests',\n 'multigrain cereal',\n 'reduced fat ricotta cheese',\n 'pizza toppings',\n 'liquid egg whites',\n 'spring chicken',\n 'whole wheat pita bread',\n 'lemon cucumber',\n 'frozen lima beans',\n 'claws',\n 'hierba santa',\n 'whole wheat pita bread rounds',\n 'chinese cabbage',\n 'small yellow potatoes',\n 'Crust:',\n 'corn flakes',\n 'vinegar',\n '2% reduced-fat milk',\n 'red snapper',\n 'hazelnut liqueur',\n 'usukuchi soy sauce',\n 'red bell pepper',\n 'praline paste',\n 'catfish',\n 'cajeta',\n '2 cups half-and-half',\n 'brown mushroom',\n 'black bass',\n 'hazelnut flour',\n 'habanero pepper',\n 'fideos pasta',\n 'dry milk powder',\n 'plain low fat greek yogurt',\n 'cream of coconut',\n 'butterscotch filling',\n 'curds',\n 'boneless pork tenderloin',\n 'medium salsa',\n 'rosemary leaves',\n 'safflower',\n 'flanken short ribs',\n 'salted dry roasted peanuts',\n 'sparkling lemonade',\n 'crumbled blue cheese',\n 'Breyers® Natural Vanilla Ice Cream',\n 'Heinz Ketchup',\n 'Holland House White Cooking Wine',\n 'celtic salt',\n 'golden brown sugar',\n 'peeled diced tomatoes',\n 'lasagna noodles, cooked and drained',\n 'old fashioned stone ground grits',\n 'seasoning',\n 'Mazola Canola Oil',\n 'chili pepper',\n 'nonfat italian dressing',\n 'white kidney beans',\n 'lady fingers',\n 'instant chicken bouillon',\n 'low-fat yogurt',\n 'dried pineapple',\n 'limeade',\n 'poblano peppers',\n 'essence',\n 'gluten-free oat',\n 'pizza doughs',\n 'celery heart',\n 'cornstarch',\n 'crab boil',\n 'Simply Organic ground nutmeg',\n 'garlic mayonnaise',\n 'aonori',\n 'kamaboko',\n 'nonfat half-and-half',\n 'bertolli olive oil & garlic sauc',\n 'candied cherries',\n 'lemonade concentrate',\n 'meat extract',\n 'grassfed beef',\n 'large potatoes',\n 'boneless lamb',\n 'ammonium bicarbonate',\n 'bigoli',\n 'BACARDI® Superior',\n 'ditalini',\n 'peeled deveined shrimp',\n 'slab bacon',\n 'rendered duck fat',\n 'vegetable fats',\n 'jamaican jerk marinade',\n 'brown basmati rice',\n 'banana extract',\n 'opo squash',\n 'hen of the woods',\n 'steak seasoning',\n 'bittersweet chocolate',\n 'whole wheat hamburger buns',\n 'saltines',\n '3/4 fluid ounce Blue Curacao',\n 'dried tart cherries',\n 'black cherries',\n 'greek style seasoning',\n 'anise basil',\n 'cajun seasoning mix',\n 'dinosaur kale',\n 'bulb fennel',\n 'carne asada',\n 'strip loin steak',\n 'fresh tarragon',\n 'lemon pudding',\n 'San Marzano tomatoes',\n 'coconut',\n 'mostaccioli',\n 'arbol chile',\n 'salted peanuts',\n 'citrus rind',\n 'stilton',\n 'boneless chicken',\n 'oat milk',\n 'conger eel',\n 'solid pack pumpkin',\n 'curly parsley',\n 'cracker crumbs',\n 'lemon wedge',\n 'grated lemon zest',\n 'fat free',\n 'black rice',\n 'Poire Williams',\n 'apricot halves',\n '3/4 cup half-and-half',\n 'sandwiches',\n 'puffed rice',\n 'Old El Paso™ refried beans',\n 'raspberries',\n 'sturgeon fillets',\n 'alaskan halibut',\n '1 (1.75 ounce) package powdered pectin',\n 'yellow peas',\n 'marjoram',\n 'crema mexican',\n 'pecan',\n 'grated parmesan cheese',\n 'cointreau liqueur',\n 'pure vanilla',\n 'rapini',\n 'mitsuba',\n 'parsley flakes',\n 'cinnamon candy canes',\n 'candlenuts',\n 'low sodium broth',\n 'red pepper hot sauce',\n 'fresh corn',\n 'low-fat monterey jack',\n 'reduced sodium smoked ham',\n 'fresh cranberries',\n 'pastry for single crust pie',\n 'golden delicious apples',\n 'nonfat cottage cheese',\n 'chocolate spread',\n 'chaurice',\n 'chioggia',\n 'knorr italian side   creami garlic shell',\n 'dri leav thyme',\n 'blue cheese dressing',\n 'radishes',\n '1 pinch Italian-style seasoning',\n 'yellow onion',\n 'pork tail',\n 'recipe crumbles',\n 'louisiana hot sauce',\n 'smoked turkey breast',\n 'bouillon powder',\n 'light kidney beans',\n 'smooth pasta',\n 'chopped pecans',\n 'sponge cake',\n 'sweet gherkin',\n 'red pepper',\n 'chopped parsley',\n 'fully cooked ham',\n 'crisco',\n 'Knorr® Chicken Flavor Rice Sides™',\n 'no salt added canned tomatoes',\n 'butter-flavored spray',\n 'black chicken',\n 'kosher for passover',\n 'katsuo bushi',\n 'large sausage casing',\n 'mandarin orange segments',\n 'ravioli',\n '1 (1.27 ounce) packet fajita seasoning',\n '1 pound braunschweiger liverwurst',\n 'sea salt',\n 'preserv raspberri seedless',\n 'kosher',\n 'pork bouillon cube',\n 'chili habanero pepper',\n 'pasta',\n 'elderflower cordial',\n 'chicken breasts',\n 'low-fat sharp cheddar cheese',\n 'mousse',\n 'dry mustard',\n 'pandan extract',\n 'crystallized ginger',\n 'queso blanco',\n 'pumpkin pie filling',\n 'pistou',\n 'date',\n 'feta cheese',\n 'napa cabbage leaves',\n 'umeboshi plum vinegar',\n 'seafood glaze',\n 'cane vinegar',\n 'soy glaze',\n 'soft taco size flour tortillas',\n 'skinless boneless chicken legs',\n 'crumpet',\n 'Jell-O Gelatin Dessert',\n 'mixed spice',\n '1 cup maple flavored syrup',\n 'frozen hash browns',\n 'margarine spread',\n 'toasted walnuts',\n 'split peas',\n 'frosting',\n 'confit',\n 'bitter gourd',\n 'nonfat dry milk',\n 'knorr chicken flavor bouillon',\n 'white bread flour',\n 'refrigerated bread dough',\n 'chopped cilantro fresh',\n 'frozen chicken wings',\n 'frozen lemonade concentrate',\n 'marsala wine',\n 'peanut brittle',\n 'cooking sherry',\n 'pullman loaf',\n 'calf liver',\n '1 dash Blue Curacao',\n 'dried beans',\n 'fresh ginger root',\n 'stolichnaya',\n 'boneless chicken breast',\n '2 tablespoons Italian-style seasoning',\n 'aged cheddar cheese',\n ' cubed',\n 'whitefish',\n 'guinea hens',\n 'gluten free lasagna noodle',\n 'pink lentil',\n 'wood ear mushrooms',\n 'corn bread crumbs',\n ' peeled and julienned',\n 'skin on bone in chicken legs',\n '1 recipe Lady Baltimore Frosting',\n 'Yuzukosho',\n 'melted fat',\n 'nuoc mam',\n 'edamame beans',\n 'pigeon peas',\n 'Chinese rice vinegar',\n 'fat free lemon curd',\n 'seedless raspberry jam',\n 'refrigerated piecrusts',\n 'sugar pumpkin',\n 'pimenton de la vera',\n 'lipton tea bags',\n 'frozen mixed vegetables',\n 'grated cauliflower',\n 'spices',\n 'blue crabs',\n 'snapper',\n 'balm',\n 'red curry paste',\n '2% low-fat cottage cheese',\n 'queso manchego',\n 'rose water',\n 'McCormick Black Pepper',\n '2 tablespoons creme fraiche',\n 'fresh udon',\n 'iodized salt',\n 'fig',\n 'organic butter',\n 'cooked bone in ham',\n 'demerara sugar',\n 'veggie crumbles',\n 'vegan bouillon cubes',\n 'kalonji',\n 'cinnamon graham crackers',\n ' divided',\n 'low-fat spaghetti sauce',\n 'Barilla Oven-Ready Lasagne',\n '1 hot dog',\n 'pork heart',\n '1 tablespoon liquid sweetener',\n 'tricolor quinoa',\n 'snow pea shoots',\n 'jalape',\n 'cream yogurt',\n 'light syrup',\n 'gluten-free tamari sauce',\n 'salt water',\n 'pink food coloring',\n 'Good Seasons Italian Dressing Mix',\n 'semi pearled farro',\n 'purple bell peppers',\n 'condensed reduced fat reduced sodium cream of mushroom soup',\n 'graham flour',\n 'dairy',\n 'sofrito',\n ' peeled and shredded',\n 'arrowroot starch',\n 'dried shrimp',\n 'baking potatoes',\n 'fatfree lowsodium chicken broth',\n 'scallions',\n 'Frangelico',\n 'red grape',\n 'rome apples',\n 'jamaican jerk',\n 'chunky style pasta sauce',\n 'boquerones',\n 'sangria',\n 'lemon pepper',\n 'malt syrup',\n 'genoise',\n 'dipping sauces',\n 'Kikkoman Oyster Sauce',\n 'herb sauce',\n '1 day old baguette',\n 'ramen noodles seasoning',\n 'Kewpie Mayonnaise',\n 'butter flavor shortening',\n 'hillshire farms low fat sausage',\n 'mixed frozen seafood',\n 'crème de menthe',\n 'To Layer In Jar:',\n 'filet mignon steaks',\n 'evapor low-fat milk',\n 'cannelloni',\n 'jamaican rum',\n 'roasted almond oil',\n 'frozen cod fillets',\n 'forest mushroom',\n 'splenda',\n 'whole wheat tortilla wraps',\n 'cocktail sauce',\n 'prepared lasagne',\n 'candied pineapple',\n 'sausage casings',\n 'halibut steak',\n 'TACO BELL® Thick & Chunky Mild Salsa',\n 'goose fat',\n '1 whole large smoked mullet',\n \"moscato d'asti\",\n 'harissa',\n 'lamb stock',\n 'skinless smoked trout fillets',\n 'Wish-Bone Light Italian Dressing',\n '100 (3.5 inch square) wonton wrappers',\n 'whole wheat cereal',\n 'low-fat italian dressing',\n 'enchilada seasoning',\n 'pesto sauce',\n '1 tablespoon Old Bay Seasoning TM',\n 'lean ground meat',\n 'KRAFT Shredded Mozzarella Cheese',\n '1/2 cup hickory wood chips',\n 'Yoplait® Greek 2% Key lime pie yogurt',\n 'fresh chicken stock',\n 'sausage links',\n 'walnut halves',\n 'ocean perch',\n 'nuoc nam',\n 'yellow corn meal',\n '1/2 pound braunschweiger liverwurst',\n '6 tablespoons carob powder',\n 'Days 4 and 5:',\n 'pork roll',\n 'ground roasted sichuan peppers',\n 'prepared guacamole',\n 'char',\n '1/2 cup carob powder',\n 'fishcake',\n 'dried mango',\n 'won ton wrappers',\n 'pickle wedges',\n 'puff pastry',\n 'tenderloin roast',\n 'bottled balsamic vinaigrette',\n 'soya cheese',\n 'sliced leeks',\n 'brown butter',\n 'liquid aminos',\n 'valencia rice',\n 'confit duck leg',\n 'guava',\n 'boneless pork loin',\n 'hazelnut paste',\n 'ascorbic acid',\n 'low-fat sweetened condensed milk',\n 'german mustard',\n 'nonfat frozen yogurt',\n 'long green beans',\n 'frozen artichoke hearts',\n 'chili seasoning',\n 'sandwich steak',\n 'low-fat sour cream',\n '2 tablespoons glue',\n 'toasted wheat germ',\n 'Pillsbury™ refrigerated garlic butter crescent dinner rolls',\n 'pecan halves',\n 'wine vinegar',\n 'prosciutto',\n 'cracked black pepper',\n 'white frosting mix',\n 'vanilla ice cream',\n 'bibb lettuce',\n 'dark molasses',\n 'pea',\n 'gooseberries',\n 'somen',\n 'gravenstein apple',\n 'juice',\n 'wish bone red wine vinaigrett dress',\n 'honeydew',\n 'falafel',\n 'pepperocini',\n 'branston pickle',\n 'katsuo dashi',\n 'pear nectar',\n 'chorizo spanish',\n '1 tablespoon tamari',\n 'shellfish',\n 'jambalaya',\n 'chiltepín',\n \"1 tablespoon tom yum soup paste (optional)'\",\n 'french fries',\n \"I Can't Believe It's Not Butter!® Spread\",\n 'Vadouvan curry',\n 'lo mein noodles',\n 'Italian cheese blend',\n 'egg roll wrappers',\n 'Gourmet Garden garlic paste',\n 'crawfish',\n 'duxelles',\n 'mexico',\n 'reduced fat chunky peanut butter',\n '1 tablespoon arrowroot powder',\n 'spicy brown mustard',\n 'brioche buns',\n 'kasha',\n '1 tablespoon cooking oil',\n '1/4 cup brown miso',\n 'edamame',\n 'slaw mix',\n 'frozen cherries',\n 'full fat sour cream',\n 'green olives',\n '1/4 cup crushed croutons',\n 'matsutake mushrooms',\n 'graham cracker crusts',\n '2 cups matzo meal',\n 'pies',\n 'beef broth',\n 'chopped fresh thyme',\n 'pasta shells',\n 'duck drumsticks',\n 'chestnut',\n 'mussels, well scrubbed',\n 'vegetable',\n 'creme de cacao',\n 'ground sausage',\n 'dangmyun',\n 'heavy whipping cream',\n '2 pounds top sirloin',\n 'unsweetened almond milk',\n 'cucuzza',\n 'abura age',\n 'italian style rolls',\n 'lemon slices',\n 'pomegranate molasses',\n 'extract',\n 'corn',\n '1 pinch ground savory',\n '24 (3.5 inch square) wonton wrappers',\n 'vanilla pods',\n 'hubbard squash',\n 'italian moscato',\n 'cake flour',\n 'Marcona almonds',\n 'Royal Baking Powder',\n 'soy vermicelli',\n 'spicy sausage',\n 'celery tops',\n 'ahi',\n 'dark leafy greens',\n 'reduced fat provolone cheese',\n 'CURRY GUY Smoked Tandoori Masala',\n 'fat-free reduced-sodium chicken broth',\n 'cold cut',\n 'coconut rum',\n 'lacinato kale',\n 'McCormick Parsley Flakes',\n '12 manicotti shells',\n 'fat free yogurt',\n 'mature cheddar',\n 'silken tofu',\n 'cauliflower florets',\n 'medium-grain rice',\n 'sprouts',\n 'lobster tails',\n 'candy canes',\n 'beef rump',\n 'Taiwanese bok choy',\n 'petits pois',\n 'pork neck',\n 'suckling pig',\n 'tangelos',\n 'potato',\n 'choy sum',\n 'french style sandwich rolls',\n 'Jack Daniels Whiskey',\n 'japanese radish',\n 'boned lamb shoulder',\n 'parsley leaves',\n 'skate',\n 'milk & cream',\n 'black gram',\n 'mushrooms',\n 'dill tips',\n 'regular tofu',\n 'flour tortillas',\n 'apples',\n 'black tea leaves',\n 'sharp white cheddar cheese',\n 'shredded reduced fat reduced sodium swiss cheese',\n 'caster',\n 'dried cornhusks',\n 'farro',\n '3 cups prepared stuffing',\n 'hot dog rolls',\n 'grilled chicken strips',\n 'ham stock cube',\n '2 1/2 to 3 lb. chicken, cut into serving pieces',\n 'pepper cheese',\n 'white sandwich bread',\n 'light chicken stock',\n 'bai cai',\n 'cane sugar',\n 'chopped cooked meat',\n 'flowerets',\n 'tasso',\n 'A Taste of Thai Rice Noodles',\n 'slaw',\n 'grenadine syrup',\n 'coleslaw seasoning blend',\n 'Mission Yellow Corn Tortillas',\n '3 1/2 (4 ounce) jars tom yum soup paste',\n 'minced beef',\n 'yellow summer squash',\n 'gnocchetti sardi',\n 'Ciabatta rolls',\n 'shredded coconut',\n 'tilapia',\n 'octopuses',\n '1 tablespoon Italian-style seasoning',\n 'raw cane sugar',\n 'benne seed',\n 'Fisher Pecan Halves',\n 'japanese rice',\n 'coconut flakes',\n 'dried navy beans',\n 'ground red pepper',\n 'Quinoa Flour',\n 'candy sprinkles',\n 'Mae Ploy Sweet Chili Sauce',\n 'hungarian paprika',\n 'shredded swiss cheese',\n 'sweet potato vermicelli',\n 'short-grain rice',\n 'sashimi grade tuna',\n 'fresh bay leaves',\n 'pearl rice',\n 'sloe gin',\n 'bean',\n 'deli ham',\n 'loose leaf black tea',\n 'sweet white wine',\n 'muscovy',\n 'ground chipotle chile pepper',\n 'mirin',\n 'bouillon shrimp',\n 'wasabi paste',\n 'beef brisket',\n 'dark brown sugar',\n 'all-purpose flour',\n 'capsicum',\n 'grana padano',\n 'sun-dried tomatoes',\n 'rounds',\n 'fish fillets',\n 'butter extract',\n 'turkey breast cutlets',\n 'cod fish',\n 'fat free ice cream',\n 'ground cloves',\n 'stir fry vegetable blend',\n 'chicken demi-glace',\n 'brownie layer',\n 'boneless skinless chicken tenderloins',\n 'cocktail pumpernickel bread',\n 'plum sauce',\n 'pastrami',\n 'lovage',\n 'powdered sugar icing',\n 'ume plum vinegar',\n 'vegetable oil spray',\n 'burgers',\n 'shishito chile',\n 'thai noodles',\n 'shoga',\n 'soy yogurt',\n 'linguini',\n 'broth',\n 'vegan parmesan cheese',\n 'snip fresh dill',\n 'gomashio',\n 'sugar cookie dough',\n 'roast turkey',\n 'dried kelp',\n 'asian dressing',\n 'peeled canned low sodium tomatoes',\n 'store bought low sodium chicken broth',\n 'brussel sprout',\n 'red rice vinegar',\n 'white quinoa',\n 'hot chili',\n 'hazelnuts',\n 'fresh ginger',\n 'halibut fillets',\n 'black trumpet mushrooms',\n 'smoked almonds',\n 'shredded lettuce',\n 'black pudding',\n 'pork shoulder roast',\n '2% reduced fat chocolate milk',\n 'Domino Light Brown Sugar',\n 'reduced fat cream of mushroom soup',\n 'fish fingers',\n 'KRAFT Mexican Style 2% Milk Finely Shredded Four Cheese',\n 'boneless moulard duck breast halves',\n 'sorbet',\n 'seasoned croutons',\n 'roasted hazelnuts',\n 'peach sorbet',\n 'shredded low-fat jarlsberg cheese',\n 'Yoplait® Greek 2% caramel yogurt',\n 'freshly grated parmesan',\n 'chopped ham',\n 'snow crab',\n 'shiitake mushroom caps',\n 'canned chicken',\n 'onion slices',\n '1 1/2 cups toffee baking bits',\n 'full fat cream cheese',\n 'malted milk powder',\n 'roasted chestnuts',\n 'semisweet chocolate chunks',\n 'French lentils',\n 'cilantro sprigs',\n '2 cups chopped taro (eddoes)',\n 'smoked ham hocks',\n 'low-fat flour tortillas',\n 'shirataki',\n 'condensed chicken broth',\n 'soaking liquid',\n 'light tuna in oil',\n 'rigatoni',\n 'pumpkin pie spice',\n 'Pure Wesson Canola Oil',\n '2 tablespoons sumac powder',\n 'canned black beans',\n 'Thai Kitchen Red Curry Paste',\n 'corn grits',\n 'Sangiovese',\n 'almond butter',\n ...]"
     },
     "execution_count": 178,
     "metadata": {},
     "output_type": "execute_result"
    }
   ],
   "source": [
    "ingredient_list"
   ]
  },
  {
   "cell_type": "code",
   "execution_count": 115,
   "metadata": {},
   "outputs": [],
   "source": [
    "def tokenize(document):\n",
    "    \n",
    "    doc = nlp(document)\n",
    "    \n",
    "    return [token.lemma_.strip() for token in doc if (token.is_stop != True) and (token.is_punct != True)]"
   ]
  },
  {
   "cell_type": "code",
   "execution_count": 125,
   "metadata": {},
   "outputs": [],
   "source": [
    "def ingredient_count(dfcolumn):\n",
    "    '''Parses a column of word lists and returns a dictionary of words/wordcounts'''\n",
    "\n",
    "    # If observation is one long string of ingredients, split by comma\n",
    "    if type(dfcolumn[0]) == str:\n",
    "        dfcolumn = dfcolumn.apply(lambda x: x.split(','))\n",
    "\n",
    "    # Keep only letters (and ' for potential possessives)\n",
    "    char_table = str.maketrans('', '', string.punctuation)\n",
    "    dfcolumn = [[word.translate(char_table) for word in word_list] for word_list in dfcolumn if word_list]\n",
    "\n",
    "    # convert all to lower_case\n",
    "    for row in dfcolumn:\n",
    "        row = [i.lower() for i in row]\n",
    "\n",
    "    # Drop measurement and conjunction words\n",
    "    dropwords = ['ounce', 'ounces', 'oz', 'oz.', 'oz.', 'lb', 'lb.', ' pound', 'package', 'packages', 'inches',\n",
    "                 'ground', 'and', 'for', 'teaspoon', 'tablespoon', 'tbsp', 'tsp']\n",
    "    dfcolumn = [[word.lower().strip(' .:\"()1234567890%/\\\\\\'') for word in word_list if word.lower().strip(' .:\"()1234567890%/\\\\\\'') not in dropwords] for word_list in dfcolumn if word_list]\n",
    "\n",
    "    # Create dictionary with word count\n",
    "    d = dict()\n",
    "\n",
    "    for word_list in dfcolumn:\n",
    "        for word in word_list:\n",
    "            if word in d:\n",
    "                d[word] = d[word] + 1\n",
    "            else:\n",
    "                d[word] = 1\n",
    "\n",
    "    return d"
   ]
  },
  {
   "cell_type": "code",
   "execution_count": 127,
   "metadata": {},
   "outputs": [],
   "source": [
    "ingr_count = ingredient_count(ingrDF['item'])"
   ]
  },
  {
   "cell_type": "code",
   "execution_count": 118,
   "metadata": {},
   "outputs": [
    {
     "data": {
      "text/html": "<div>\n<style scoped>\n    .dataframe tbody tr th:only-of-type {\n        vertical-align: middle;\n    }\n\n    .dataframe tbody tr th {\n        vertical-align: top;\n    }\n\n    .dataframe thead th {\n        text-align: right;\n    }\n</style>\n<table border=\"1\" class=\"dataframe\">\n  <thead>\n    <tr style=\"text-align: right;\">\n      <th></th>\n      <th>item</th>\n      <th>total_count</th>\n    </tr>\n  </thead>\n  <tbody>\n    <tr>\n      <th>0</th>\n      <td>salt</td>\n      <td>27050</td>\n    </tr>\n    <tr>\n      <th>1</th>\n      <td>water</td>\n      <td>11899</td>\n    </tr>\n    <tr>\n      <th>2</th>\n      <td>garlic</td>\n      <td>11287</td>\n    </tr>\n    <tr>\n      <th>3</th>\n      <td>butter</td>\n      <td>10534</td>\n    </tr>\n    <tr>\n      <th>4</th>\n      <td>onions</td>\n      <td>10008</td>\n    </tr>\n    <tr>\n      <th>5</th>\n      <td>olive oil</td>\n      <td>9889</td>\n    </tr>\n    <tr>\n      <th>6</th>\n      <td>sugar</td>\n      <td>9319</td>\n    </tr>\n    <tr>\n      <th>7</th>\n      <td>garlic cloves</td>\n      <td>7772</td>\n    </tr>\n    <tr>\n      <th>8</th>\n      <td>pepper</td>\n      <td>7080</td>\n    </tr>\n    <tr>\n      <th>9</th>\n      <td>vegetable oil</td>\n      <td>6874</td>\n    </tr>\n    <tr>\n      <th>10</th>\n      <td>white sugar</td>\n      <td>6378</td>\n    </tr>\n    <tr>\n      <th>11</th>\n      <td>ground black pepper</td>\n      <td>5990</td>\n    </tr>\n    <tr>\n      <th>12</th>\n      <td>flour</td>\n      <td>5861</td>\n    </tr>\n    <tr>\n      <th>13</th>\n      <td>allpurpose flour</td>\n      <td>5816</td>\n    </tr>\n    <tr>\n      <th>14</th>\n      <td>milk</td>\n      <td>5618</td>\n    </tr>\n  </tbody>\n</table>\n</div>",
      "text/plain": "                   item  total_count\n0                  salt        27050\n1                 water        11899\n2                garlic        11287\n3                butter        10534\n4                onions        10008\n5             olive oil         9889\n6                 sugar         9319\n7         garlic cloves         7772\n8                pepper         7080\n9         vegetable oil         6874\n10          white sugar         6378\n11  ground black pepper         5990\n12                flour         5861\n13     allpurpose flour         5816\n14                 milk         5618"
     },
     "execution_count": 118,
     "metadata": {},
     "output_type": "execute_result"
    }
   ],
   "source": [
    "ingrDF = pd.DataFrame(ingr_count.items(), columns=['item', 'total_count'])\n",
    "ingrDF = ingrDF.sort_values('total_count', ascending=False).reset_index(drop=True)\n",
    "ingrDF.head(15)"
   ]
  },
  {
   "cell_type": "code",
   "execution_count": 86,
   "metadata": {},
   "outputs": [
    {
     "data": {
      "text/plain": "7654"
     },
     "execution_count": 86,
     "metadata": {},
     "output_type": "execute_result"
    }
   ],
   "source": [
    "top_ingr = ingrDF[ingrDF.total_count > 0]\n",
    "len(top_ingr)"
   ]
  },
  {
   "cell_type": "code",
   "execution_count": 1,
   "metadata": {},
   "outputs": [
    {
     "output_type": "error",
     "ename": "NameError",
     "evalue": "name 'ingrDF' is not defined",
     "traceback": [
      "\u001b[1;31m---------------------------------------------------------------------------\u001b[0m",
      "\u001b[1;31mNameError\u001b[0m                                 Traceback (most recent call last)",
      "\u001b[1;32m<ipython-input-1-d2396ef0c3a1>\u001b[0m in \u001b[0;36m<module>\u001b[1;34m\u001b[0m\n\u001b[1;32m----> 1\u001b[1;33m \u001b[0mingrDF\u001b[0m\u001b[1;33m[\u001b[0m\u001b[0mingrDF\u001b[0m\u001b[1;33m[\u001b[0m\u001b[1;34m'item'\u001b[0m\u001b[1;33m]\u001b[0m \u001b[1;33m==\u001b[0m \u001b[1;34m'salt'\u001b[0m\u001b[1;33m]\u001b[0m\u001b[1;33m\u001b[0m\u001b[1;33m\u001b[0m\u001b[0m\n\u001b[0m",
      "\u001b[1;31mNameError\u001b[0m: name 'ingrDF' is not defined"
     ]
    }
   ],
   "source": [
    "ingrDF[ingrDF['item'] == 'salt']"
   ]
  },
  {
   "cell_type": "code",
   "execution_count": null,
   "metadata": {},
   "outputs": [],
   "source": []
  },
  {
   "cell_type": "code",
   "execution_count": 120,
   "metadata": {},
   "outputs": [
    {
     "name": "stdout",
     "output_type": "stream",
     "text": "7654\n"
    },
    {
     "data": {
      "text/plain": "['pumpkin pie filling',\n 'pistou',\n 'cornonthecob',\n 'toulouse sausage',\n 'date',\n 'feta cheese',\n 'napa cabbage leaves',\n 'umeboshi plum vinegar',\n 'seafood glaze',\n 'cane vinegar',\n 'soy glaze',\n 'soft taco size flour tortillas',\n 'skinless boneless chicken legs',\n 'crumpet',\n 'mixed spice',\n 'frozen hash browns',\n 'margarine spread',\n 'toasted walnuts',\n 'split peas',\n 'frosting',\n 'confit',\n 'bitter gourd',\n 'nonfat dry milk',\n 'knorr chicken flavor bouillon',\n 'white bread flour',\n 'refrigerated bread dough',\n 'chopped cilantro fresh',\n 'frozen chicken wings',\n 'frozen lemonade concentrate',\n 'marsala wine',\n 'peanut brittle',\n 'cooking sherry',\n 'lowfat cheddar',\n 'pullman loaf',\n 'calf liver',\n 'dried beans',\n 'accent seasoning',\n 'fresh ginger root',\n 'stolichnaya',\n 'boneless chicken breast',\n 'aged cheddar cheese',\n 'whitefish',\n 'guinea hens',\n 'gluten free lasagna noodle',\n 'pink lentil',\n 'pound hardwood chips',\n 'wood ear mushrooms',\n 'corn bread crumbs',\n 'skin on bone in chicken legs',\n 'asian sweet chili sauce']"
     },
     "execution_count": 120,
     "metadata": {},
     "output_type": "execute_result"
    }
   ],
   "source": [
    "derptest = list(set(ingrDF['item']))\n",
    "print(len(derptest))\n",
    "derptest[500:550]"
   ]
  },
  {
   "cell_type": "code",
   "execution_count": 38,
   "metadata": {},
   "outputs": [
    {
     "data": {
      "text/html": "<div>\n<style scoped>\n    .dataframe tbody tr th:only-of-type {\n        vertical-align: middle;\n    }\n\n    .dataframe tbody tr th {\n        vertical-align: top;\n    }\n\n    .dataframe thead th {\n        text-align: right;\n    }\n</style>\n<table border=\"1\" class=\"dataframe\">\n  <thead>\n    <tr style=\"text-align: right;\">\n      <th></th>\n      <th>ingr_0</th>\n      <th>ingr_1</th>\n      <th>ingr_2</th>\n      <th>ingr_3</th>\n      <th>ingr_4</th>\n      <th>ingr_5</th>\n      <th>ingr_6</th>\n      <th>ingr_7</th>\n      <th>ingr_8</th>\n      <th>ingr_9</th>\n      <th>...</th>\n      <th>ingr_55</th>\n      <th>ingr_56</th>\n      <th>ingr_57</th>\n      <th>ingr_58</th>\n      <th>ingr_59</th>\n      <th>ingr_60</th>\n      <th>ingr_61</th>\n      <th>ingr_62</th>\n      <th>ingr_63</th>\n      <th>ingr_64</th>\n    </tr>\n  </thead>\n  <tbody>\n    <tr>\n      <th>0</th>\n      <td>yeast</td>\n      <td>water</td>\n      <td>white sugar</td>\n      <td>salt</td>\n      <td>egg</td>\n      <td>butter</td>\n      <td>flour</td>\n      <td>butter</td>\n      <td>NaN</td>\n      <td>NaN</td>\n      <td>...</td>\n      <td>NaN</td>\n      <td>NaN</td>\n      <td>NaN</td>\n      <td>NaN</td>\n      <td>NaN</td>\n      <td>NaN</td>\n      <td>NaN</td>\n      <td>NaN</td>\n      <td>NaN</td>\n      <td>NaN</td>\n    </tr>\n    <tr>\n      <th>1</th>\n      <td>flour</td>\n      <td>salt</td>\n      <td>baking powder</td>\n      <td>poppy</td>\n      <td>butter</td>\n      <td>vegetable oil</td>\n      <td>egg</td>\n      <td>milk</td>\n      <td>white sugar</td>\n      <td>vanilla</td>\n      <td>...</td>\n      <td>NaN</td>\n      <td>NaN</td>\n      <td>NaN</td>\n      <td>NaN</td>\n      <td>NaN</td>\n      <td>NaN</td>\n      <td>NaN</td>\n      <td>NaN</td>\n      <td>NaN</td>\n      <td>NaN</td>\n    </tr>\n    <tr>\n      <th>2</th>\n      <td>flour</td>\n      <td>egg</td>\n      <td>white sugar</td>\n      <td>vegetable oil</td>\n      <td>applesauce</td>\n      <td>raisin</td>\n      <td>cinnamon</td>\n      <td>baking soda</td>\n      <td>baking powder</td>\n      <td>sour cream</td>\n      <td>...</td>\n      <td>NaN</td>\n      <td>NaN</td>\n      <td>NaN</td>\n      <td>NaN</td>\n      <td>NaN</td>\n      <td>NaN</td>\n      <td>NaN</td>\n      <td>NaN</td>\n      <td>NaN</td>\n      <td>NaN</td>\n    </tr>\n    <tr>\n      <th>3</th>\n      <td>flour</td>\n      <td>baking powder</td>\n      <td>baking soda</td>\n      <td>salt</td>\n      <td>cinnamon</td>\n      <td>nutmeg</td>\n      <td>brown sugar</td>\n      <td>oat</td>\n      <td>apple</td>\n      <td>walnut</td>\n      <td>...</td>\n      <td>NaN</td>\n      <td>NaN</td>\n      <td>NaN</td>\n      <td>NaN</td>\n      <td>NaN</td>\n      <td>NaN</td>\n      <td>NaN</td>\n      <td>NaN</td>\n      <td>NaN</td>\n      <td>NaN</td>\n    </tr>\n    <tr>\n      <th>4</th>\n      <td>oat</td>\n      <td>buttermilk</td>\n      <td>vegetable oil</td>\n      <td>egg</td>\n      <td>brown sugar</td>\n      <td>flour</td>\n      <td>baking powder</td>\n      <td>baking soda</td>\n      <td>salt</td>\n      <td>NaN</td>\n      <td>...</td>\n      <td>NaN</td>\n      <td>NaN</td>\n      <td>NaN</td>\n      <td>NaN</td>\n      <td>NaN</td>\n      <td>NaN</td>\n      <td>NaN</td>\n      <td>NaN</td>\n      <td>NaN</td>\n      <td>NaN</td>\n    </tr>\n    <tr>\n      <th>5</th>\n      <td>shortening</td>\n      <td>white sugar</td>\n      <td>salt</td>\n      <td>milk</td>\n      <td>egg</td>\n      <td>lemon</td>\n      <td>yeast</td>\n      <td>flour</td>\n      <td>fruit</td>\n      <td>NaN</td>\n      <td>...</td>\n      <td>NaN</td>\n      <td>NaN</td>\n      <td>NaN</td>\n      <td>NaN</td>\n      <td>NaN</td>\n      <td>NaN</td>\n      <td>NaN</td>\n      <td>NaN</td>\n      <td>NaN</td>\n      <td>NaN</td>\n    </tr>\n    <tr>\n      <th>6</th>\n      <td>shortening</td>\n      <td>water</td>\n      <td>brown sugar</td>\n      <td>yeast</td>\n      <td>water</td>\n      <td>white sugar</td>\n      <td>salt</td>\n      <td>bread</td>\n      <td>whole wheat</td>\n      <td>NaN</td>\n      <td>...</td>\n      <td>NaN</td>\n      <td>NaN</td>\n      <td>NaN</td>\n      <td>NaN</td>\n      <td>NaN</td>\n      <td>NaN</td>\n      <td>NaN</td>\n      <td>NaN</td>\n      <td>NaN</td>\n      <td>NaN</td>\n    </tr>\n    <tr>\n      <th>7</th>\n      <td>water</td>\n      <td>cottage cheese</td>\n      <td>vegetable oil</td>\n      <td>egg</td>\n      <td>flour</td>\n      <td>white sugar</td>\n      <td>baking soda</td>\n      <td>salt</td>\n      <td>yeast</td>\n      <td>NaN</td>\n      <td>...</td>\n      <td>NaN</td>\n      <td>NaN</td>\n      <td>NaN</td>\n      <td>NaN</td>\n      <td>NaN</td>\n      <td>NaN</td>\n      <td>NaN</td>\n      <td>NaN</td>\n      <td>NaN</td>\n      <td>NaN</td>\n    </tr>\n    <tr>\n      <th>8</th>\n      <td>margarine</td>\n      <td>white sugar</td>\n      <td>egg</td>\n      <td>banana</td>\n      <td>coffee</td>\n      <td>water</td>\n      <td>vanilla</td>\n      <td>flour</td>\n      <td>salt</td>\n      <td>baking powder</td>\n      <td>...</td>\n      <td>NaN</td>\n      <td>NaN</td>\n      <td>NaN</td>\n      <td>NaN</td>\n      <td>NaN</td>\n      <td>NaN</td>\n      <td>NaN</td>\n      <td>NaN</td>\n      <td>NaN</td>\n      <td>NaN</td>\n    </tr>\n    <tr>\n      <th>9</th>\n      <td>cornmeal</td>\n      <td>milk</td>\n      <td>egg</td>\n      <td>bell pepper</td>\n      <td>onion</td>\n      <td>garlic</td>\n      <td>salt</td>\n      <td>baking soda</td>\n      <td>white sugar</td>\n      <td>corn</td>\n      <td>...</td>\n      <td>NaN</td>\n      <td>NaN</td>\n      <td>NaN</td>\n      <td>NaN</td>\n      <td>NaN</td>\n      <td>NaN</td>\n      <td>NaN</td>\n      <td>NaN</td>\n      <td>NaN</td>\n      <td>NaN</td>\n    </tr>\n    <tr>\n      <th>10</th>\n      <td>flour</td>\n      <td>white sugar</td>\n      <td>baking powder</td>\n      <td>salt</td>\n      <td>shortening</td>\n      <td>oat</td>\n      <td>egg</td>\n      <td>milk</td>\n      <td>maple syrup</td>\n      <td>NaN</td>\n      <td>...</td>\n      <td>NaN</td>\n      <td>NaN</td>\n      <td>NaN</td>\n      <td>NaN</td>\n      <td>NaN</td>\n      <td>NaN</td>\n      <td>NaN</td>\n      <td>NaN</td>\n      <td>NaN</td>\n      <td>NaN</td>\n    </tr>\n    <tr>\n      <th>11</th>\n      <td>bread</td>\n      <td>egg</td>\n      <td>milk</td>\n      <td>cinnamon</td>\n      <td>nutmeg</td>\n      <td>vanilla</td>\n      <td>salt</td>\n      <td>NaN</td>\n      <td>NaN</td>\n      <td>NaN</td>\n      <td>...</td>\n      <td>NaN</td>\n      <td>NaN</td>\n      <td>NaN</td>\n      <td>NaN</td>\n      <td>NaN</td>\n      <td>NaN</td>\n      <td>NaN</td>\n      <td>NaN</td>\n      <td>NaN</td>\n      <td>NaN</td>\n    </tr>\n    <tr>\n      <th>12</th>\n      <td>yeast</td>\n      <td>water</td>\n      <td>buttermilk</td>\n      <td>flour</td>\n      <td>baking powder</td>\n      <td>baking soda</td>\n      <td>salt</td>\n      <td>white sugar</td>\n      <td>shortening</td>\n      <td>NaN</td>\n      <td>...</td>\n      <td>NaN</td>\n      <td>NaN</td>\n      <td>NaN</td>\n      <td>NaN</td>\n      <td>NaN</td>\n      <td>NaN</td>\n      <td>NaN</td>\n      <td>NaN</td>\n      <td>NaN</td>\n      <td>NaN</td>\n    </tr>\n    <tr>\n      <th>13</th>\n      <td>applesauce</td>\n      <td>margarine</td>\n      <td>white sugar</td>\n      <td>brown sugar</td>\n      <td>egg</td>\n      <td>vanilla</td>\n      <td>flour</td>\n      <td>cocoa powder</td>\n      <td>baking soda</td>\n      <td>cinnamon</td>\n      <td>...</td>\n      <td>NaN</td>\n      <td>NaN</td>\n      <td>NaN</td>\n      <td>NaN</td>\n      <td>NaN</td>\n      <td>NaN</td>\n      <td>NaN</td>\n      <td>NaN</td>\n      <td>NaN</td>\n      <td>NaN</td>\n    </tr>\n    <tr>\n      <th>14</th>\n      <td>milk</td>\n      <td>vegetable oil</td>\n      <td>molasses</td>\n      <td>bread</td>\n      <td>flour</td>\n      <td>cornmeal</td>\n      <td>salt</td>\n      <td>yeast</td>\n      <td>cocoa powder</td>\n      <td>brown sugar</td>\n      <td>...</td>\n      <td>NaN</td>\n      <td>NaN</td>\n      <td>NaN</td>\n      <td>NaN</td>\n      <td>NaN</td>\n      <td>NaN</td>\n      <td>NaN</td>\n      <td>NaN</td>\n      <td>NaN</td>\n      <td>NaN</td>\n    </tr>\n  </tbody>\n</table>\n<p>15 rows × 65 columns</p>\n</div>",
      "text/plain": "        ingr_0          ingr_1         ingr_2         ingr_3         ingr_4  \\\n0        yeast           water    white sugar           salt            egg   \n1        flour            salt  baking powder          poppy         butter   \n2        flour             egg    white sugar  vegetable oil     applesauce   \n3        flour   baking powder    baking soda           salt       cinnamon   \n4          oat      buttermilk  vegetable oil            egg    brown sugar   \n5   shortening     white sugar           salt           milk            egg   \n6   shortening           water    brown sugar          yeast          water   \n7        water  cottage cheese  vegetable oil            egg          flour   \n8    margarine     white sugar            egg         banana         coffee   \n9     cornmeal            milk            egg    bell pepper          onion   \n10       flour     white sugar  baking powder           salt     shortening   \n11       bread             egg           milk       cinnamon         nutmeg   \n12       yeast           water     buttermilk          flour  baking powder   \n13  applesauce       margarine    white sugar    brown sugar            egg   \n14        milk   vegetable oil       molasses          bread          flour   \n\n           ingr_5         ingr_6        ingr_7         ingr_8         ingr_9  \\\n0          butter          flour        butter            NaN            NaN   \n1   vegetable oil            egg          milk    white sugar        vanilla   \n2          raisin       cinnamon   baking soda  baking powder     sour cream   \n3          nutmeg    brown sugar           oat          apple         walnut   \n4           flour  baking powder   baking soda           salt            NaN   \n5           lemon          yeast         flour          fruit            NaN   \n6     white sugar           salt         bread    whole wheat            NaN   \n7     white sugar    baking soda          salt          yeast            NaN   \n8           water        vanilla         flour           salt  baking powder   \n9          garlic           salt   baking soda    white sugar           corn   \n10            oat            egg          milk    maple syrup            NaN   \n11        vanilla           salt           NaN            NaN            NaN   \n12    baking soda           salt   white sugar     shortening            NaN   \n13        vanilla          flour  cocoa powder    baking soda       cinnamon   \n14       cornmeal           salt         yeast   cocoa powder    brown sugar   \n\n    ... ingr_55 ingr_56 ingr_57 ingr_58 ingr_59 ingr_60 ingr_61 ingr_62  \\\n0   ...     NaN     NaN     NaN     NaN     NaN     NaN     NaN     NaN   \n1   ...     NaN     NaN     NaN     NaN     NaN     NaN     NaN     NaN   \n2   ...     NaN     NaN     NaN     NaN     NaN     NaN     NaN     NaN   \n3   ...     NaN     NaN     NaN     NaN     NaN     NaN     NaN     NaN   \n4   ...     NaN     NaN     NaN     NaN     NaN     NaN     NaN     NaN   \n5   ...     NaN     NaN     NaN     NaN     NaN     NaN     NaN     NaN   \n6   ...     NaN     NaN     NaN     NaN     NaN     NaN     NaN     NaN   \n7   ...     NaN     NaN     NaN     NaN     NaN     NaN     NaN     NaN   \n8   ...     NaN     NaN     NaN     NaN     NaN     NaN     NaN     NaN   \n9   ...     NaN     NaN     NaN     NaN     NaN     NaN     NaN     NaN   \n10  ...     NaN     NaN     NaN     NaN     NaN     NaN     NaN     NaN   \n11  ...     NaN     NaN     NaN     NaN     NaN     NaN     NaN     NaN   \n12  ...     NaN     NaN     NaN     NaN     NaN     NaN     NaN     NaN   \n13  ...     NaN     NaN     NaN     NaN     NaN     NaN     NaN     NaN   \n14  ...     NaN     NaN     NaN     NaN     NaN     NaN     NaN     NaN   \n\n   ingr_63 ingr_64  \n0      NaN     NaN  \n1      NaN     NaN  \n2      NaN     NaN  \n3      NaN     NaN  \n4      NaN     NaN  \n5      NaN     NaN  \n6      NaN     NaN  \n7      NaN     NaN  \n8      NaN     NaN  \n9      NaN     NaN  \n10     NaN     NaN  \n11     NaN     NaN  \n12     NaN     NaN  \n13     NaN     NaN  \n14     NaN     NaN  \n\n[15 rows x 65 columns]"
     },
     "execution_count": 38,
     "metadata": {},
     "output_type": "execute_result"
    }
   ],
   "source": [
    "merged_df = ingr_list.apply(pd.Series)\n",
    "merged_df = merged_df.rename(columns = lambda x: 'ingr_' + str(x))\n",
    "merged_df.head(15)"
   ]
  },
  {
   "cell_type": "code",
   "execution_count": 130,
   "metadata": {},
   "outputs": [
    {
     "data": {
      "text/html": "<div>\n<style scoped>\n    .dataframe tbody tr th:only-of-type {\n        vertical-align: middle;\n    }\n\n    .dataframe tbody tr th {\n        vertical-align: top;\n    }\n\n    .dataframe thead th {\n        text-align: right;\n    }\n</style>\n<table border=\"1\" class=\"dataframe\">\n  <thead>\n    <tr style=\"text-align: right;\">\n      <th></th>\n      <th>ingr_0</th>\n      <th>ingr_1</th>\n      <th>ingr_2</th>\n      <th>ingr_3</th>\n      <th>ingr_4</th>\n      <th>ingr_5</th>\n      <th>ingr_6</th>\n      <th>ingr_7</th>\n      <th>ingr_8</th>\n      <th>ingr_9</th>\n      <th>...</th>\n      <th>ingr_55</th>\n      <th>ingr_56</th>\n      <th>ingr_57</th>\n      <th>ingr_58</th>\n      <th>ingr_59</th>\n      <th>ingr_60</th>\n      <th>ingr_61</th>\n      <th>ingr_62</th>\n      <th>ingr_63</th>\n      <th>ingr_64</th>\n    </tr>\n  </thead>\n  <tbody>\n    <tr>\n      <th>27640</th>\n      <td>fettucine</td>\n      <td>fresh marjoram</td>\n      <td>minced garlic</td>\n      <td>olive oil</td>\n      <td>garlic powder</td>\n      <td>large eggs</td>\n      <td>Alfredo sauce</td>\n      <td>vegetable oil</td>\n      <td>cajun seasoning</td>\n      <td>shredded romano cheese</td>\n      <td>...</td>\n      <td>boneless skinless chicken breasts</td>\n      <td>chicken cutlets</td>\n      <td>butter</td>\n      <td>multi-grain penne pasta</td>\n      <td>extra-virgin olive oil</td>\n      <td>cilantro leaves</td>\n      <td>green pepper</td>\n      <td>shredded mozzarella cheese</td>\n      <td>fresh parsley</td>\n      <td>spaghetti</td>\n    </tr>\n  </tbody>\n</table>\n<p>1 rows × 65 columns</p>\n</div>",
      "text/plain": "          ingr_0          ingr_1         ingr_2     ingr_3         ingr_4  \\\n27640  fettucine  fresh marjoram  minced garlic  olive oil  garlic powder   \n\n           ingr_5         ingr_6         ingr_7           ingr_8  \\\n27640  large eggs  Alfredo sauce  vegetable oil  cajun seasoning   \n\n                       ingr_9  ...                            ingr_55  \\\n27640  shredded romano cheese  ...  boneless skinless chicken breasts   \n\n               ingr_56 ingr_57                  ingr_58  \\\n27640  chicken cutlets  butter  multi-grain penne pasta   \n\n                      ingr_59          ingr_60       ingr_61  \\\n27640  extra-virgin olive oil  cilantro leaves  green pepper   \n\n                          ingr_62        ingr_63    ingr_64  \n27640  shredded mozzarella cheese  fresh parsley  spaghetti  \n\n[1 rows x 65 columns]"
     },
     "execution_count": 130,
     "metadata": {},
     "output_type": "execute_result"
    }
   ],
   "source": [
    "merged_df[~merged_df['ingr_64'].isnull()]"
   ]
  },
  {
   "cell_type": "code",
   "execution_count": 137,
   "metadata": {},
   "outputs": [
    {
     "data": {
      "text/plain": "ingr_0      0.000000\ningr_1      0.069278\ningr_2      0.667000\ningr_3      2.571332\ningr_4      6.173774\ningr_5     11.951216\ningr_6     19.618489\ningr_7     28.648762\ningr_8     38.076979\ningr_9     47.830640\ningr_10    57.033302\ningr_11    65.470686\ningr_12    72.807682\ningr_13    78.997567\ningr_14    84.048398\ningr_15    87.987562\ningr_16    91.190449\ningr_17    93.689281\ningr_18    95.559780\ningr_19    96.872835\ningr_20    97.902334\ningr_21    98.538723\ningr_22    98.980167\ningr_23    99.284667\ningr_24    99.487667\ningr_25    99.639111\ningr_26    99.735778\ningr_27    99.782500\ningr_28    99.837278\ningr_29    99.885611\ningr_30    99.914611\ningr_31    99.938778\ningr_32    99.948444\ningr_33    99.958111\ningr_34    99.964556\ningr_35    99.969389\ningr_36    99.977444\ningr_37    99.977444\ningr_38    99.982278\ningr_39    99.982278\ningr_40    99.987111\ningr_41    99.988722\ningr_42    99.988722\ningr_43    99.990333\ningr_44    99.990333\ningr_45    99.990333\ningr_46    99.990333\ningr_47    99.990333\ningr_48    99.990333\ningr_49    99.993556\ndtype: float64"
     },
     "execution_count": 137,
     "metadata": {},
     "output_type": "execute_result"
    }
   ],
   "source": [
    "(merged_df.isnull().mean() * 100).head(50)"
   ]
  },
  {
   "cell_type": "code",
   "execution_count": 156,
   "metadata": {},
   "outputs": [],
   "source": [
    "modelDF = merged_df.copy()"
   ]
  },
  {
   "cell_type": "code",
   "execution_count": 157,
   "metadata": {},
   "outputs": [
    {
     "data": {
      "text/plain": "Index(['ingr_0', 'ingr_1', 'ingr_2', 'ingr_3', 'ingr_4', 'ingr_5', 'ingr_6',\n       'ingr_7', 'ingr_8', 'ingr_9', 'ingr_10', 'ingr_11', 'ingr_12',\n       'ingr_13', 'ingr_14'],\n      dtype='object')"
     },
     "execution_count": 157,
     "metadata": {},
     "output_type": "execute_result"
    }
   ],
   "source": [
    "modelDF.columns[:15]"
   ]
  },
  {
   "cell_type": "code",
   "execution_count": 158,
   "metadata": {},
   "outputs": [
    {
     "data": {
      "text/html": "<div>\n<style scoped>\n    .dataframe tbody tr th:only-of-type {\n        vertical-align: middle;\n    }\n\n    .dataframe tbody tr th {\n        vertical-align: top;\n    }\n\n    .dataframe thead th {\n        text-align: right;\n    }\n</style>\n<table border=\"1\" class=\"dataframe\">\n  <thead>\n    <tr style=\"text-align: right;\">\n      <th></th>\n      <th>ingr_0</th>\n      <th>ingr_1</th>\n      <th>ingr_2</th>\n      <th>ingr_3</th>\n      <th>ingr_4</th>\n      <th>ingr_5</th>\n      <th>ingr_6</th>\n      <th>ingr_7</th>\n      <th>ingr_8</th>\n      <th>ingr_9</th>\n      <th>ingr_10</th>\n      <th>ingr_11</th>\n      <th>ingr_12</th>\n      <th>ingr_13</th>\n      <th>ingr_14</th>\n    </tr>\n  </thead>\n  <tbody>\n    <tr>\n      <th>0</th>\n      <td>yeast</td>\n      <td>water</td>\n      <td>white sugar</td>\n      <td>salt</td>\n      <td>egg</td>\n      <td>butter</td>\n      <td>flour</td>\n      <td>butter</td>\n      <td>NaN</td>\n      <td>NaN</td>\n      <td>NaN</td>\n      <td>NaN</td>\n      <td>NaN</td>\n      <td>NaN</td>\n      <td>NaN</td>\n    </tr>\n    <tr>\n      <th>1</th>\n      <td>flour</td>\n      <td>salt</td>\n      <td>baking powder</td>\n      <td>poppy</td>\n      <td>butter</td>\n      <td>vegetable oil</td>\n      <td>egg</td>\n      <td>milk</td>\n      <td>white sugar</td>\n      <td>vanilla</td>\n      <td>almond</td>\n      <td>orange juice</td>\n      <td>butter</td>\n      <td>almond</td>\n      <td>vanilla</td>\n    </tr>\n    <tr>\n      <th>2</th>\n      <td>flour</td>\n      <td>egg</td>\n      <td>white sugar</td>\n      <td>vegetable oil</td>\n      <td>applesauce</td>\n      <td>raisin</td>\n      <td>cinnamon</td>\n      <td>baking soda</td>\n      <td>baking powder</td>\n      <td>sour cream</td>\n      <td>NaN</td>\n      <td>NaN</td>\n      <td>NaN</td>\n      <td>NaN</td>\n      <td>NaN</td>\n    </tr>\n    <tr>\n      <th>3</th>\n      <td>flour</td>\n      <td>baking powder</td>\n      <td>baking soda</td>\n      <td>salt</td>\n      <td>cinnamon</td>\n      <td>nutmeg</td>\n      <td>brown sugar</td>\n      <td>oat</td>\n      <td>apple</td>\n      <td>walnut</td>\n      <td>raisin</td>\n      <td>egg</td>\n      <td>milk</td>\n      <td>vegetable oil</td>\n      <td>NaN</td>\n    </tr>\n    <tr>\n      <th>4</th>\n      <td>oat</td>\n      <td>buttermilk</td>\n      <td>vegetable oil</td>\n      <td>egg</td>\n      <td>brown sugar</td>\n      <td>flour</td>\n      <td>baking powder</td>\n      <td>baking soda</td>\n      <td>salt</td>\n      <td>NaN</td>\n      <td>NaN</td>\n      <td>NaN</td>\n      <td>NaN</td>\n      <td>NaN</td>\n      <td>NaN</td>\n    </tr>\n    <tr>\n      <th>...</th>\n      <td>...</td>\n      <td>...</td>\n      <td>...</td>\n      <td>...</td>\n      <td>...</td>\n      <td>...</td>\n      <td>...</td>\n      <td>...</td>\n      <td>...</td>\n      <td>...</td>\n      <td>...</td>\n      <td>...</td>\n      <td>...</td>\n      <td>...</td>\n      <td>...</td>\n    </tr>\n    <tr>\n      <th>62064</th>\n      <td>large egg yolks</td>\n      <td>fresh lemon juice</td>\n      <td>sugar</td>\n      <td>bourbon whiskey</td>\n      <td>bittersweet chocolate</td>\n      <td>large egg whites</td>\n      <td>salt</td>\n      <td>anjou pears</td>\n      <td>heavy whipping cream</td>\n      <td>NaN</td>\n      <td>NaN</td>\n      <td>NaN</td>\n      <td>NaN</td>\n      <td>NaN</td>\n      <td>NaN</td>\n    </tr>\n    <tr>\n      <th>62065</th>\n      <td>hot sauce</td>\n      <td>butter</td>\n      <td>sweet potatoes</td>\n      <td>adobo sauce</td>\n      <td>salt</td>\n      <td>NaN</td>\n      <td>NaN</td>\n      <td>NaN</td>\n      <td>NaN</td>\n      <td>NaN</td>\n      <td>NaN</td>\n      <td>NaN</td>\n      <td>NaN</td>\n      <td>NaN</td>\n      <td>NaN</td>\n    </tr>\n    <tr>\n      <th>62066</th>\n      <td>black pepper</td>\n      <td>salt</td>\n      <td>parmigiano reggiano cheese</td>\n      <td>ricotta</td>\n      <td>large egg yolks</td>\n      <td>dry bread crumbs</td>\n      <td>genoa salami</td>\n      <td>vegetable oil</td>\n      <td>NaN</td>\n      <td>NaN</td>\n      <td>NaN</td>\n      <td>NaN</td>\n      <td>NaN</td>\n      <td>NaN</td>\n      <td>NaN</td>\n    </tr>\n    <tr>\n      <th>62067</th>\n      <td>cheddar cheese</td>\n      <td>cayenne</td>\n      <td>paprika</td>\n      <td>plum tomatoes</td>\n      <td>green bell pepper</td>\n      <td>water</td>\n      <td>Tabasco Pepper Sauce</td>\n      <td>scallions</td>\n      <td>canned low sodium chicken broth</td>\n      <td>milk</td>\n      <td>butter</td>\n      <td>red bell pepper</td>\n      <td>canned black beans</td>\n      <td>quickcooking grits</td>\n      <td>salt</td>\n    </tr>\n    <tr>\n      <th>62068</th>\n      <td>cold water</td>\n      <td>olive oil</td>\n      <td>lime wedges</td>\n      <td>garlic cloves</td>\n      <td>boiling water</td>\n      <td>boneless chicken skinless thigh</td>\n      <td>guacamole</td>\n      <td>tomato salsa</td>\n      <td>corn tortillas</td>\n      <td>tomatoes</td>\n      <td>radishes</td>\n      <td>queso fresco</td>\n      <td>ancho chile pepper</td>\n      <td>ground cumin</td>\n      <td>white onion</td>\n    </tr>\n  </tbody>\n</table>\n<p>62069 rows × 15 columns</p>\n</div>",
      "text/plain": "                ingr_0             ingr_1                      ingr_2  \\\n0                yeast              water                 white sugar   \n1                flour               salt               baking powder   \n2                flour                egg                 white sugar   \n3                flour      baking powder                 baking soda   \n4                  oat         buttermilk               vegetable oil   \n...                ...                ...                         ...   \n62064  large egg yolks  fresh lemon juice                       sugar   \n62065        hot sauce             butter              sweet potatoes   \n62066     black pepper               salt  parmigiano reggiano cheese   \n62067   cheddar cheese            cayenne                     paprika   \n62068       cold water          olive oil                 lime wedges   \n\n                ingr_3                 ingr_4  \\\n0                 salt                    egg   \n1                poppy                 butter   \n2        vegetable oil             applesauce   \n3                 salt               cinnamon   \n4                  egg            brown sugar   \n...                ...                    ...   \n62064  bourbon whiskey  bittersweet chocolate   \n62065      adobo sauce                   salt   \n62066          ricotta        large egg yolks   \n62067    plum tomatoes      green bell pepper   \n62068    garlic cloves          boiling water   \n\n                                ingr_5                ingr_6         ingr_7  \\\n0                               butter                 flour         butter   \n1                        vegetable oil                   egg           milk   \n2                               raisin              cinnamon    baking soda   \n3                               nutmeg           brown sugar            oat   \n4                                flour         baking powder    baking soda   \n...                                ...                   ...            ...   \n62064                 large egg whites                  salt    anjou pears   \n62065                              NaN                   NaN            NaN   \n62066                 dry bread crumbs          genoa salami  vegetable oil   \n62067                            water  Tabasco Pepper Sauce      scallions   \n62068  boneless chicken skinless thigh             guacamole   tomato salsa   \n\n                                ingr_8      ingr_9   ingr_10          ingr_11  \\\n0                                  NaN         NaN       NaN              NaN   \n1                          white sugar     vanilla    almond     orange juice   \n2                        baking powder  sour cream       NaN              NaN   \n3                                apple      walnut    raisin              egg   \n4                                 salt         NaN       NaN              NaN   \n...                                ...         ...       ...              ...   \n62064             heavy whipping cream         NaN       NaN              NaN   \n62065                              NaN         NaN       NaN              NaN   \n62066                              NaN         NaN       NaN              NaN   \n62067  canned low sodium chicken broth        milk    butter  red bell pepper   \n62068                   corn tortillas    tomatoes  radishes     queso fresco   \n\n                  ingr_12             ingr_13      ingr_14  \n0                     NaN                 NaN          NaN  \n1                  butter              almond      vanilla  \n2                     NaN                 NaN          NaN  \n3                    milk       vegetable oil          NaN  \n4                     NaN                 NaN          NaN  \n...                   ...                 ...          ...  \n62064                 NaN                 NaN          NaN  \n62065                 NaN                 NaN          NaN  \n62066                 NaN                 NaN          NaN  \n62067  canned black beans  quickcooking grits         salt  \n62068  ancho chile pepper        ground cumin  white onion  \n\n[62069 rows x 15 columns]"
     },
     "execution_count": 158,
     "metadata": {},
     "output_type": "execute_result"
    }
   ],
   "source": [
    "# drop columns ingr_15 - ingr_64\n",
    "\n",
    "modelDF = modelDF[modelDF.columns[:15]]\n",
    "modelDF"
   ]
  },
  {
   "cell_type": "code",
   "execution_count": 159,
   "metadata": {},
   "outputs": [
    {
     "data": {
      "text/html": "<div>\n<style scoped>\n    .dataframe tbody tr th:only-of-type {\n        vertical-align: middle;\n    }\n\n    .dataframe tbody tr th {\n        vertical-align: top;\n    }\n\n    .dataframe thead th {\n        text-align: right;\n    }\n</style>\n<table border=\"1\" class=\"dataframe\">\n  <thead>\n    <tr style=\"text-align: right;\">\n      <th></th>\n      <th>ingr_0</th>\n      <th>ingr_1</th>\n      <th>ingr_2</th>\n      <th>ingr_3</th>\n      <th>ingr_4</th>\n      <th>ingr_5</th>\n      <th>ingr_6</th>\n      <th>ingr_7</th>\n      <th>ingr_8</th>\n      <th>ingr_9</th>\n      <th>ingr_10</th>\n      <th>ingr_11</th>\n      <th>ingr_12</th>\n      <th>ingr_13</th>\n      <th>ingr_14</th>\n    </tr>\n  </thead>\n  <tbody>\n    <tr>\n      <th>0</th>\n      <td>yeast</td>\n      <td>water</td>\n      <td>white sugar</td>\n      <td>salt</td>\n      <td>egg</td>\n      <td>butter</td>\n      <td>flour</td>\n      <td>butter</td>\n      <td>NaN</td>\n      <td>NaN</td>\n      <td>NaN</td>\n      <td>NaN</td>\n      <td>NaN</td>\n      <td>NaN</td>\n      <td>NaN</td>\n    </tr>\n    <tr>\n      <th>1</th>\n      <td>flour</td>\n      <td>salt</td>\n      <td>baking powder</td>\n      <td>poppy</td>\n      <td>butter</td>\n      <td>vegetable oil</td>\n      <td>egg</td>\n      <td>milk</td>\n      <td>white sugar</td>\n      <td>vanilla</td>\n      <td>almond</td>\n      <td>orange juice</td>\n      <td>butter</td>\n      <td>almond</td>\n      <td>vanilla</td>\n    </tr>\n    <tr>\n      <th>2</th>\n      <td>flour</td>\n      <td>egg</td>\n      <td>white sugar</td>\n      <td>vegetable oil</td>\n      <td>applesauce</td>\n      <td>raisin</td>\n      <td>cinnamon</td>\n      <td>baking soda</td>\n      <td>baking powder</td>\n      <td>sour cream</td>\n      <td>NaN</td>\n      <td>NaN</td>\n      <td>NaN</td>\n      <td>NaN</td>\n      <td>NaN</td>\n    </tr>\n    <tr>\n      <th>3</th>\n      <td>flour</td>\n      <td>baking powder</td>\n      <td>baking soda</td>\n      <td>salt</td>\n      <td>cinnamon</td>\n      <td>nutmeg</td>\n      <td>brown sugar</td>\n      <td>oat</td>\n      <td>apple</td>\n      <td>walnut</td>\n      <td>raisin</td>\n      <td>egg</td>\n      <td>milk</td>\n      <td>vegetable oil</td>\n      <td>NaN</td>\n    </tr>\n    <tr>\n      <th>4</th>\n      <td>oat</td>\n      <td>buttermilk</td>\n      <td>vegetable oil</td>\n      <td>egg</td>\n      <td>brown sugar</td>\n      <td>flour</td>\n      <td>baking powder</td>\n      <td>baking soda</td>\n      <td>salt</td>\n      <td>NaN</td>\n      <td>NaN</td>\n      <td>NaN</td>\n      <td>NaN</td>\n      <td>NaN</td>\n      <td>NaN</td>\n    </tr>\n  </tbody>\n</table>\n</div>",
      "text/plain": "  ingr_0         ingr_1         ingr_2         ingr_3       ingr_4  \\\n0  yeast          water    white sugar           salt          egg   \n1  flour           salt  baking powder          poppy       butter   \n2  flour            egg    white sugar  vegetable oil   applesauce   \n3  flour  baking powder    baking soda           salt     cinnamon   \n4    oat     buttermilk  vegetable oil            egg  brown sugar   \n\n          ingr_5         ingr_6       ingr_7         ingr_8      ingr_9  \\\n0         butter          flour       butter            NaN         NaN   \n1  vegetable oil            egg         milk    white sugar     vanilla   \n2         raisin       cinnamon  baking soda  baking powder  sour cream   \n3         nutmeg    brown sugar          oat          apple      walnut   \n4          flour  baking powder  baking soda           salt         NaN   \n\n  ingr_10       ingr_11 ingr_12        ingr_13  ingr_14  \n0     NaN           NaN     NaN            NaN      NaN  \n1  almond  orange juice  butter         almond  vanilla  \n2     NaN           NaN     NaN            NaN      NaN  \n3  raisin           egg    milk  vegetable oil      NaN  \n4     NaN           NaN     NaN            NaN      NaN  "
     },
     "execution_count": 159,
     "metadata": {},
     "output_type": "execute_result"
    }
   ],
   "source": [
    "modelDF.head()"
   ]
  },
  {
   "cell_type": "code",
   "execution_count": 173,
   "metadata": {},
   "outputs": [
    {
     "data": {
      "text/html": "<div>\n<style scoped>\n    .dataframe tbody tr th:only-of-type {\n        vertical-align: middle;\n    }\n\n    .dataframe tbody tr th {\n        vertical-align: top;\n    }\n\n    .dataframe thead th {\n        text-align: right;\n    }\n</style>\n<table border=\"1\" class=\"dataframe\">\n  <thead>\n    <tr style=\"text-align: right;\">\n      <th></th>\n      <th>ingr_0</th>\n      <th>ingr_1</th>\n      <th>ingr_2</th>\n      <th>ingr_3</th>\n      <th>ingr_4</th>\n      <th>ingr_5</th>\n      <th>ingr_6</th>\n      <th>ingr_7</th>\n      <th>ingr_8</th>\n      <th>ingr_9</th>\n      <th>ingr_10</th>\n      <th>ingr_11</th>\n      <th>ingr_12</th>\n      <th>ingr_13</th>\n      <th>ingr_14</th>\n      <th>ingredients</th>\n    </tr>\n  </thead>\n  <tbody>\n    <tr>\n      <th>0</th>\n      <td>yeast</td>\n      <td>water</td>\n      <td>white sugar</td>\n      <td>salt</td>\n      <td>egg</td>\n      <td>butter</td>\n      <td>flour</td>\n      <td>butter</td>\n      <td>NaN</td>\n      <td>NaN</td>\n      <td>NaN</td>\n      <td>NaN</td>\n      <td>NaN</td>\n      <td>NaN</td>\n      <td>NaN</td>\n      <td>[yeast, water, white sugar, salt, egg, butter,...</td>\n    </tr>\n    <tr>\n      <th>1</th>\n      <td>flour</td>\n      <td>salt</td>\n      <td>baking powder</td>\n      <td>poppy</td>\n      <td>butter</td>\n      <td>vegetable oil</td>\n      <td>egg</td>\n      <td>milk</td>\n      <td>white sugar</td>\n      <td>vanilla</td>\n      <td>almond</td>\n      <td>orange juice</td>\n      <td>butter</td>\n      <td>almond</td>\n      <td>vanilla</td>\n      <td>[flour, salt, baking powder, poppy, butter, ve...</td>\n    </tr>\n    <tr>\n      <th>2</th>\n      <td>flour</td>\n      <td>egg</td>\n      <td>white sugar</td>\n      <td>vegetable oil</td>\n      <td>applesauce</td>\n      <td>raisin</td>\n      <td>cinnamon</td>\n      <td>baking soda</td>\n      <td>baking powder</td>\n      <td>sour cream</td>\n      <td>NaN</td>\n      <td>NaN</td>\n      <td>NaN</td>\n      <td>NaN</td>\n      <td>NaN</td>\n      <td>[flour, egg, white sugar, vegetable oil, apple...</td>\n    </tr>\n    <tr>\n      <th>3</th>\n      <td>flour</td>\n      <td>baking powder</td>\n      <td>baking soda</td>\n      <td>salt</td>\n      <td>cinnamon</td>\n      <td>nutmeg</td>\n      <td>brown sugar</td>\n      <td>oat</td>\n      <td>apple</td>\n      <td>walnut</td>\n      <td>raisin</td>\n      <td>egg</td>\n      <td>milk</td>\n      <td>vegetable oil</td>\n      <td>NaN</td>\n      <td>[flour, baking powder, baking soda, salt, cinn...</td>\n    </tr>\n    <tr>\n      <th>4</th>\n      <td>oat</td>\n      <td>buttermilk</td>\n      <td>vegetable oil</td>\n      <td>egg</td>\n      <td>brown sugar</td>\n      <td>flour</td>\n      <td>baking powder</td>\n      <td>baking soda</td>\n      <td>salt</td>\n      <td>NaN</td>\n      <td>NaN</td>\n      <td>NaN</td>\n      <td>NaN</td>\n      <td>NaN</td>\n      <td>NaN</td>\n      <td>[oat, buttermilk, vegetable oil, egg, brown su...</td>\n    </tr>\n  </tbody>\n</table>\n</div>",
      "text/plain": "  ingr_0         ingr_1         ingr_2         ingr_3       ingr_4  \\\n0  yeast          water    white sugar           salt          egg   \n1  flour           salt  baking powder          poppy       butter   \n2  flour            egg    white sugar  vegetable oil   applesauce   \n3  flour  baking powder    baking soda           salt     cinnamon   \n4    oat     buttermilk  vegetable oil            egg  brown sugar   \n\n          ingr_5         ingr_6       ingr_7         ingr_8      ingr_9  \\\n0         butter          flour       butter            NaN         NaN   \n1  vegetable oil            egg         milk    white sugar     vanilla   \n2         raisin       cinnamon  baking soda  baking powder  sour cream   \n3         nutmeg    brown sugar          oat          apple      walnut   \n4          flour  baking powder  baking soda           salt         NaN   \n\n  ingr_10       ingr_11 ingr_12        ingr_13  ingr_14  \\\n0     NaN           NaN     NaN            NaN      NaN   \n1  almond  orange juice  butter         almond  vanilla   \n2     NaN           NaN     NaN            NaN      NaN   \n3  raisin           egg    milk  vegetable oil      NaN   \n4     NaN           NaN     NaN            NaN      NaN   \n\n                                         ingredients  \n0  [yeast, water, white sugar, salt, egg, butter,...  \n1  [flour, salt, baking powder, poppy, butter, ve...  \n2  [flour, egg, white sugar, vegetable oil, apple...  \n3  [flour, baking powder, baking soda, salt, cinn...  \n4  [oat, buttermilk, vegetable oil, egg, brown su...  "
     },
     "execution_count": 173,
     "metadata": {},
     "output_type": "execute_result"
    }
   ],
   "source": [
    "derp_list = []\n",
    "for i in range(len(modelDF)):\n",
    "    row = modelDF.iloc[i]\n",
    "    derp_list.append([item for item in row if item])\n",
    "\n",
    "modelDF['ingredients'] = pd.Series(derp_list)\n",
    "modelDF.head()"
   ]
  },
  {
   "cell_type": "code",
   "execution_count": 174,
   "metadata": {},
   "outputs": [],
   "source": [
    "def parse_ingredients(dfcolumn):\n",
    "    '''Parses a column of ingredients and return a list of unique values'''\n",
    "\n",
    "    # If instance is one string with all ingredients, split by comma\n",
    "    if type(dfcolumn[0]) == str:\n",
    "        dfcolumn = dfcolumn.apply(lambda x: x.split(','))\n",
    "\n",
    "    # Create set of unique values, the convert to list\n",
    "    ingredients = set(x for l in dfcolumn for x in l)\n",
    "    ingredient_list = list(ingredients)\n",
    "\n",
    "    return ingredient_list"
   ]
  },
  {
   "cell_type": "code",
   "execution_count": 175,
   "metadata": {},
   "outputs": [],
   "source": [
    "trimmed_unique_ingr = parse_ingredients(modelDF['ingredients'])\n",
    "ingr_int = {ingr:i for i, ingr in enumerate(trimmed_unique_ingr)}\n",
    "int_ingr = {i:ingr for i, ingr in enumerate(trimmed_unique_ingr)}"
   ]
  },
  {
   "cell_type": "code",
   "execution_count": 177,
   "metadata": {},
   "outputs": [
    {
     "data": {
      "text/plain": "7711"
     },
     "execution_count": 177,
     "metadata": {},
     "output_type": "execute_result"
    }
   ],
   "source": [
    "len(ingr_int)"
   ]
  },
  {
   "cell_type": "code",
   "execution_count": null,
   "metadata": {},
   "outputs": [],
   "source": [
    "model_ingr_list = list(set())"
   ]
  },
  {
   "cell_type": "code",
   "execution_count": null,
   "metadata": {},
   "outputs": [],
   "source": [
    "\n",
    "\n",
    "\n",
    "\n",
    "\n",
    "\n",
    "\n",
    "\n",
    "\n",
    "\n",
    "\n",
    "\n",
    "\n",
    "\n",
    "\n",
    "\n",
    "\n"
   ]
  }
 ]
}