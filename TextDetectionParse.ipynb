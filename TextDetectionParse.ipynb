{
 "cells": [
  {
   "cell_type": "code",
   "execution_count": 1,
   "metadata": {},
   "outputs": [],
   "source": [
    "import json"
   ]
  },
  {
   "cell_type": "code",
   "execution_count": 2,
   "metadata": {},
   "outputs": [],
   "source": [
    "filename = 'angelfoodcake.json'"
   ]
  },
  {
   "cell_type": "code",
   "execution_count": 3,
   "metadata": {},
   "outputs": [],
   "source": [
    "with open(filename) as apireturn:\n",
    "    result = json.load(apireturn)"
   ]
  },
  {
   "cell_type": "code",
   "execution_count": 4,
   "metadata": {},
   "outputs": [
    {
     "data": {
      "text/plain": [
       "dict_keys(['textAnnotations', 'fullTextAnnotation'])"
      ]
     },
     "execution_count": 4,
     "metadata": {},
     "output_type": "execute_result"
    }
   ],
   "source": [
    "result['responses'][0].keys()"
   ]
  },
  {
   "cell_type": "code",
   "execution_count": 5,
   "metadata": {},
   "outputs": [
    {
     "data": {
      "text/plain": [
       "dict_keys(['pages', 'text'])"
      ]
     },
     "execution_count": 5,
     "metadata": {},
     "output_type": "execute_result"
    }
   ],
   "source": [
    "result['responses'][0]['fullTextAnnotation'].keys()"
   ]
  },
  {
   "cell_type": "code",
   "execution_count": 6,
   "metadata": {},
   "outputs": [
    {
     "data": {
      "text/plain": [
       "'Angel Food Cake with Strawberry Rhubarb Jam & Cream\\n1 cup sifted cake flour\\n1 1/4 cups sifted powdered sugar\\nwhites of 12 large eggs\\n1 1/2 tsp cream of tartar\\n1/4 tsp salt\\n1 Tbsp vanilla\\n1/2 tsp almond extract\\n1 cup granulated sugar\\nPreheat oven to 375 degrees. Sift flour and powdered sugar together 3 times. Set aside.\\nAt low speed, start beating egg whites. Add cream of tartar, salt, vanilla, and almond\\nextract. Turn to high and beat until soft peak stage. Turn to medium and add sugar, 2\\ntablespoons at a time. Beat to stiff peak. Turn to low and add flour and powdered sugar\\nmixture, 1/4 cup at a time. When all added, fold mixture with wire whisk until all mixture is\\ncompletely blended. Put in cake pan on lowest rack of oven. Bake 30 minutes at 375\\ndegrees. Invert pan to cool. If desired, top with Strawberry Rhubarb Jam and whipped\\ncream (mix heavy cream with sugar and whip to stiff peaks).\\nwww.lettersfromtheloft.com\\n'"
      ]
     },
     "execution_count": 6,
     "metadata": {},
     "output_type": "execute_result"
    }
   ],
   "source": [
    "result['responses'][0]['fullTextAnnotation']['text']"
   ]
  },
  {
   "cell_type": "code",
   "execution_count": 7,
   "metadata": {},
   "outputs": [
    {
     "name": "stdout",
     "output_type": "stream",
     "text": [
      "Angel Food Cake with Strawberry Rhubarb Jam & Cream\n",
      "1 cup sifted cake flour\n",
      "1 1/4 cups sifted powdered sugar\n",
      "whites of 12 large eggs\n",
      "1 1/2 tsp cream of tartar\n",
      "1/4 tsp salt\n",
      "1 Tbsp vanilla\n",
      "1/2 tsp almond extract\n",
      "1 cup granulated sugar\n",
      "Preheat oven to 375 degrees. Sift flour and powdered sugar together 3 times. Set aside.\n",
      "At low speed, start beating egg whites. Add cream of tartar, salt, vanilla, and almond\n",
      "extract. Turn to high and beat until soft peak stage. Turn to medium and add sugar, 2\n",
      "tablespoons at a time. Beat to stiff peak. Turn to low and add flour and powdered sugar\n",
      "mixture, 1/4 cup at a time. When all added, fold mixture with wire whisk until all mixture is\n",
      "completely blended. Put in cake pan on lowest rack of oven. Bake 30 minutes at 375\n",
      "degrees. Invert pan to cool. If desired, top with Strawberry Rhubarb Jam and whipped\n",
      "cream (mix heavy cream with sugar and whip to stiff peaks).\n",
      "www.lettersfromtheloft.com\n",
      "\n"
     ]
    }
   ],
   "source": [
    "print(result['responses'][0]['fullTextAnnotation']['text'])"
   ]
  },
  {
   "cell_type": "code",
   "execution_count": 8,
   "metadata": {},
   "outputs": [
    {
     "data": {
      "text/plain": [
       "4"
      ]
     },
     "execution_count": 8,
     "metadata": {},
     "output_type": "execute_result"
    }
   ],
   "source": [
    "len(result['responses'][0]['fullTextAnnotation']['pages'][0])"
   ]
  },
  {
   "cell_type": "code",
   "execution_count": 9,
   "metadata": {},
   "outputs": [
    {
     "data": {
      "text/plain": [
       "dict_keys(['property', 'width', 'height', 'blocks'])"
      ]
     },
     "execution_count": 9,
     "metadata": {},
     "output_type": "execute_result"
    }
   ],
   "source": [
    "result['responses'][0]['fullTextAnnotation']['pages'][0].keys()"
   ]
  },
  {
   "cell_type": "code",
   "execution_count": 10,
   "metadata": {},
   "outputs": [
    {
     "data": {
      "text/plain": [
       "{'detectedLanguages': [{'languageCode': 'en', 'confidence': 0.97}]}"
      ]
     },
     "execution_count": 10,
     "metadata": {},
     "output_type": "execute_result"
    }
   ],
   "source": [
    "result['responses'][0]['fullTextAnnotation']['pages'][0]['property']"
   ]
  },
  {
   "cell_type": "code",
   "execution_count": 11,
   "metadata": {},
   "outputs": [
    {
     "name": "stdout",
     "output_type": "stream",
     "text": [
      "9\n",
      "36\n",
      "123\n",
      "1\n"
     ]
    }
   ],
   "source": [
    "for i in range(4):\n",
    "    print(len(result['responses'][0]['fullTextAnnotation']['pages'][0]['blocks'][i]['paragraphs'][0]['words']))"
   ]
  },
  {
   "cell_type": "code",
   "execution_count": 12,
   "metadata": {},
   "outputs": [
    {
     "data": {
      "text/plain": [
       "{'boundingBox': {'vertices': [{'x': 1224, 'y': 1123},\n",
       "   {'x': 1615, 'y': 1123},\n",
       "   {'x': 1615, 'y': 1147},\n",
       "   {'x': 1224, 'y': 1147}]},\n",
       " 'paragraphs': [{'boundingBox': {'vertices': [{'x': 1224, 'y': 1123},\n",
       "     {'x': 1615, 'y': 1123},\n",
       "     {'x': 1615, 'y': 1147},\n",
       "     {'x': 1224, 'y': 1147}]},\n",
       "   'words': [{'boundingBox': {'vertices': [{'x': 1224, 'y': 1123},\n",
       "       {'x': 1615, 'y': 1123},\n",
       "       {'x': 1615, 'y': 1147},\n",
       "       {'x': 1224, 'y': 1147}]},\n",
       "     'symbols': [{'boundingBox': {'vertices': [{'x': 1224, 'y': 1123},\n",
       "         {'x': 1260, 'y': 1123},\n",
       "         {'x': 1260, 'y': 1147},\n",
       "         {'x': 1224, 'y': 1147}]},\n",
       "       'text': 'w'},\n",
       "      {'boundingBox': {'vertices': [{'x': 1261, 'y': 1123},\n",
       "         {'x': 1279, 'y': 1123},\n",
       "         {'x': 1279, 'y': 1147},\n",
       "         {'x': 1261, 'y': 1147}]},\n",
       "       'text': 'w'},\n",
       "      {'boundingBox': {'vertices': [{'x': 1280, 'y': 1123},\n",
       "         {'x': 1292, 'y': 1123},\n",
       "         {'x': 1292, 'y': 1147},\n",
       "         {'x': 1280, 'y': 1147}]},\n",
       "       'text': 'w'},\n",
       "      {'boundingBox': {'vertices': [{'x': 1293, 'y': 1123},\n",
       "         {'x': 1304, 'y': 1123},\n",
       "         {'x': 1304, 'y': 1147},\n",
       "         {'x': 1293, 'y': 1147}]},\n",
       "       'text': '.'},\n",
       "      {'boundingBox': {'vertices': [{'x': 1305, 'y': 1123},\n",
       "         {'x': 1317, 'y': 1123},\n",
       "         {'x': 1317, 'y': 1147},\n",
       "         {'x': 1305, 'y': 1147}]},\n",
       "       'text': 'l'},\n",
       "      {'boundingBox': {'vertices': [{'x': 1318, 'y': 1123},\n",
       "         {'x': 1330, 'y': 1123},\n",
       "         {'x': 1330, 'y': 1147},\n",
       "         {'x': 1318, 'y': 1147}]},\n",
       "       'text': 'e'},\n",
       "      {'boundingBox': {'vertices': [{'x': 1331, 'y': 1123},\n",
       "         {'x': 1336, 'y': 1123},\n",
       "         {'x': 1336, 'y': 1147},\n",
       "         {'x': 1331, 'y': 1147}]},\n",
       "       'text': 't'},\n",
       "      {'boundingBox': {'vertices': [{'x': 1337, 'y': 1123},\n",
       "         {'x': 1355, 'y': 1123},\n",
       "         {'x': 1355, 'y': 1147},\n",
       "         {'x': 1337, 'y': 1147}]},\n",
       "       'text': 't'},\n",
       "      {'boundingBox': {'vertices': [{'x': 1356, 'y': 1123},\n",
       "         {'x': 1368, 'y': 1123},\n",
       "         {'x': 1368, 'y': 1147},\n",
       "         {'x': 1356, 'y': 1147}]},\n",
       "       'text': 'e'},\n",
       "      {'boundingBox': {'vertices': [{'x': 1369, 'y': 1123},\n",
       "         {'x': 1380, 'y': 1123},\n",
       "         {'x': 1380, 'y': 1147},\n",
       "         {'x': 1369, 'y': 1147}]},\n",
       "       'text': 'r'},\n",
       "      {'boundingBox': {'vertices': [{'x': 1381, 'y': 1123},\n",
       "         {'x': 1393, 'y': 1123},\n",
       "         {'x': 1393, 'y': 1147},\n",
       "         {'x': 1381, 'y': 1147}]},\n",
       "       'text': 's'},\n",
       "      {'boundingBox': {'vertices': [{'x': 1394, 'y': 1123},\n",
       "         {'x': 1399, 'y': 1123},\n",
       "         {'x': 1399, 'y': 1147},\n",
       "         {'x': 1394, 'y': 1147}]},\n",
       "       'text': 'f'},\n",
       "      {'boundingBox': {'vertices': [{'x': 1400, 'y': 1123},\n",
       "         {'x': 1418, 'y': 1123},\n",
       "         {'x': 1418, 'y': 1147},\n",
       "         {'x': 1400, 'y': 1147}]},\n",
       "       'text': 'r'},\n",
       "      {'boundingBox': {'vertices': [{'x': 1419, 'y': 1123},\n",
       "         {'x': 1431, 'y': 1123},\n",
       "         {'x': 1431, 'y': 1147},\n",
       "         {'x': 1419, 'y': 1147}]},\n",
       "       'text': 'o'},\n",
       "      {'boundingBox': {'vertices': [{'x': 1432, 'y': 1123},\n",
       "         {'x': 1456, 'y': 1123},\n",
       "         {'x': 1456, 'y': 1147},\n",
       "         {'x': 1432, 'y': 1147}]},\n",
       "       'text': 'm'},\n",
       "      {'boundingBox': {'vertices': [{'x': 1457, 'y': 1123},\n",
       "         {'x': 1469, 'y': 1123},\n",
       "         {'x': 1469, 'y': 1147},\n",
       "         {'x': 1457, 'y': 1147}]},\n",
       "       'text': 't'},\n",
       "      {'boundingBox': {'vertices': [{'x': 1470, 'y': 1123},\n",
       "         {'x': 1488, 'y': 1123},\n",
       "         {'x': 1488, 'y': 1147},\n",
       "         {'x': 1470, 'y': 1147}]},\n",
       "       'text': 'h'},\n",
       "      {'boundingBox': {'vertices': [{'x': 1489, 'y': 1123},\n",
       "         {'x': 1501, 'y': 1123},\n",
       "         {'x': 1501, 'y': 1147},\n",
       "         {'x': 1489, 'y': 1147}]},\n",
       "       'text': 'e'},\n",
       "      {'boundingBox': {'vertices': [{'x': 1502, 'y': 1123},\n",
       "         {'x': 1520, 'y': 1123},\n",
       "         {'x': 1520, 'y': 1147},\n",
       "         {'x': 1502, 'y': 1147}]},\n",
       "       'text': 'l'},\n",
       "      {'boundingBox': {'vertices': [{'x': 1521, 'y': 1123},\n",
       "         {'x': 1526, 'y': 1123},\n",
       "         {'x': 1526, 'y': 1147},\n",
       "         {'x': 1521, 'y': 1147}]},\n",
       "       'text': 'o'},\n",
       "      {'boundingBox': {'vertices': [{'x': 1527, 'y': 1123},\n",
       "         {'x': 1539, 'y': 1123},\n",
       "         {'x': 1539, 'y': 1147},\n",
       "         {'x': 1527, 'y': 1147}]},\n",
       "       'text': 'f'},\n",
       "      {'boundingBox': {'vertices': [{'x': 1540, 'y': 1123},\n",
       "         {'x': 1551, 'y': 1123},\n",
       "         {'x': 1551, 'y': 1147},\n",
       "         {'x': 1540, 'y': 1147}]},\n",
       "       'text': 't'},\n",
       "      {'boundingBox': {'vertices': [{'x': 1552, 'y': 1123},\n",
       "         {'x': 1558, 'y': 1123},\n",
       "         {'x': 1558, 'y': 1147},\n",
       "         {'x': 1552, 'y': 1147}]},\n",
       "       'text': '.'},\n",
       "      {'boundingBox': {'vertices': [{'x': 1559, 'y': 1123},\n",
       "         {'x': 1577, 'y': 1123},\n",
       "         {'x': 1577, 'y': 1147},\n",
       "         {'x': 1559, 'y': 1147}]},\n",
       "       'text': 'c'},\n",
       "      {'boundingBox': {'vertices': [{'x': 1578, 'y': 1123},\n",
       "         {'x': 1589, 'y': 1123},\n",
       "         {'x': 1589, 'y': 1147},\n",
       "         {'x': 1578, 'y': 1147}]},\n",
       "       'text': 'o'},\n",
       "      {'property': {'detectedBreak': {'type': 'EOL_SURE_SPACE'}},\n",
       "       'boundingBox': {'vertices': [{'x': 1590, 'y': 1123},\n",
       "         {'x': 1615, 'y': 1123},\n",
       "         {'x': 1615, 'y': 1147},\n",
       "         {'x': 1590, 'y': 1147}]},\n",
       "       'text': 'm'}]}]}],\n",
       " 'blockType': 'TEXT'}"
      ]
     },
     "execution_count": 12,
     "metadata": {},
     "output_type": "execute_result"
    }
   ],
   "source": [
    "result['responses'][0]['fullTextAnnotation']['pages'][0]['blocks'][3]"
   ]
  },
  {
   "cell_type": "code",
   "execution_count": null,
   "metadata": {},
   "outputs": [],
   "source": []
  }
 ],
 "metadata": {
  "kernelspec": {
   "display_name": "Python 3",
   "language": "python",
   "name": "python3"
  },
  "language_info": {
   "codemirror_mode": {
    "name": "ipython",
    "version": 3
   },
   "file_extension": ".py",
   "mimetype": "text/x-python",
   "name": "python",
   "nbconvert_exporter": "python",
   "pygments_lexer": "ipython3",
   "version": "3.7.4"
  }
 },
 "nbformat": 4,
 "nbformat_minor": 4
}
