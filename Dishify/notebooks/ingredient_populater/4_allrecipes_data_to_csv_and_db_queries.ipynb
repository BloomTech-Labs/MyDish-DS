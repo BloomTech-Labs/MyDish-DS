{
 "cells": [
  {
   "cell_type": "markdown",
   "metadata": {},
   "source": [
    "## Part 4 of creating auto-populate feature\n",
    "\n",
    "## Save it all to put in a database\n",
    "\n",
    "### Load and Prep the Data"
   ]
  },
  {
   "cell_type": "code",
   "execution_count": 1,
   "metadata": {},
   "outputs": [],
   "source": [
    "import csv\n",
    "import pandas as pd"
   ]
  },
  {
   "cell_type": "code",
   "execution_count": 2,
   "metadata": {},
   "outputs": [
    {
     "data": {
      "text/html": [
       "<div>\n",
       "<style scoped>\n",
       "    .dataframe tbody tr th:only-of-type {\n",
       "        vertical-align: middle;\n",
       "    }\n",
       "\n",
       "    .dataframe tbody tr th {\n",
       "        vertical-align: top;\n",
       "    }\n",
       "\n",
       "    .dataframe thead th {\n",
       "        text-align: right;\n",
       "    }\n",
       "</style>\n",
       "<table border=\"1\" class=\"dataframe\">\n",
       "  <thead>\n",
       "    <tr style=\"text-align: right;\">\n",
       "      <th></th>\n",
       "      <th>name</th>\n",
       "      <th>ingredients</th>\n",
       "      <th>instructions</th>\n",
       "    </tr>\n",
       "  </thead>\n",
       "  <tbody>\n",
       "    <tr>\n",
       "      <th>0</th>\n",
       "      <td>Death by Chocolate Mousse</td>\n",
       "      <td>['21 chocolate sandwich cookies, crushed', '¼ ...</td>\n",
       "      <td>Preheat oven to 350 degrees F (175 degrees C)....</td>\n",
       "    </tr>\n",
       "    <tr>\n",
       "      <th>1</th>\n",
       "      <td>Shrimp and Crabmeat Loaf</td>\n",
       "      <td>['1 (6 ounce) can small shrimp, drained', '1 (...</td>\n",
       "      <td>In a bowl, combine well the shrimp, crab, mayo...</td>\n",
       "    </tr>\n",
       "    <tr>\n",
       "      <th>2</th>\n",
       "      <td>Senate Bean Soup from Idahoan®</td>\n",
       "      <td>['1 (4 ounce) package Idahoan® Roasted Garlic ...</td>\n",
       "      <td>Heat olive oil in stock pot over medium high h...</td>\n",
       "    </tr>\n",
       "    <tr>\n",
       "      <th>3</th>\n",
       "      <td>Nutmeg Refrigerator Cookies</td>\n",
       "      <td>['½ cup butter', '⅓ cup white sugar', '⅔ cup p...</td>\n",
       "      <td>In a large bowl, cream together the butter, wh...</td>\n",
       "    </tr>\n",
       "    <tr>\n",
       "      <th>4</th>\n",
       "      <td>French Toast Sandwich</td>\n",
       "      <td>['2 eggs', '3 tablespoons milk', '3 tablespoon...</td>\n",
       "      <td>Whisk eggs, 3 tablespoons milk, white sugar, a...</td>\n",
       "    </tr>\n",
       "  </tbody>\n",
       "</table>\n",
       "</div>"
      ],
      "text/plain": [
       "                             name  \\\n",
       "0       Death by Chocolate Mousse   \n",
       "1        Shrimp and Crabmeat Loaf   \n",
       "2  Senate Bean Soup from Idahoan®   \n",
       "3     Nutmeg Refrigerator Cookies   \n",
       "4           French Toast Sandwich   \n",
       "\n",
       "                                         ingredients  \\\n",
       "0  ['21 chocolate sandwich cookies, crushed', '¼ ...   \n",
       "1  ['1 (6 ounce) can small shrimp, drained', '1 (...   \n",
       "2  ['1 (4 ounce) package Idahoan® Roasted Garlic ...   \n",
       "3  ['½ cup butter', '⅓ cup white sugar', '⅔ cup p...   \n",
       "4  ['2 eggs', '3 tablespoons milk', '3 tablespoon...   \n",
       "\n",
       "                                        instructions  \n",
       "0  Preheat oven to 350 degrees F (175 degrees C)....  \n",
       "1  In a bowl, combine well the shrimp, crab, mayo...  \n",
       "2  Heat olive oil in stock pot over medium high h...  \n",
       "3  In a large bowl, cream together the butter, wh...  \n",
       "4  Whisk eggs, 3 tablespoons milk, white sugar, a...  "
      ]
     },
     "execution_count": 2,
     "metadata": {},
     "output_type": "execute_result"
    }
   ],
   "source": [
    "df = pd.read_csv('allrecipes_recipes_combined.csv')\n",
    "df.head()"
   ]
  },
  {
   "cell_type": "markdown",
   "metadata": {},
   "source": [
    "### Some of the recipe names have '&reg;' as text and not the symbol."
   ]
  },
  {
   "cell_type": "code",
   "execution_count": 3,
   "metadata": {},
   "outputs": [],
   "source": [
    "df['name'] = df['name'].str.replace('&reg;', '')"
   ]
  },
  {
   "cell_type": "markdown",
   "metadata": {},
   "source": [
    "### The Ingredients Data has been saved as a string. Convert to list."
   ]
  },
  {
   "cell_type": "code",
   "execution_count": 4,
   "metadata": {},
   "outputs": [],
   "source": [
    "import ast\n",
    "\n",
    "def string_to_list(x):\n",
    "    return ast.literal_eval(x)"
   ]
  },
  {
   "cell_type": "code",
   "execution_count": 5,
   "metadata": {},
   "outputs": [
    {
     "data": {
      "text/html": [
       "<div>\n",
       "<style scoped>\n",
       "    .dataframe tbody tr th:only-of-type {\n",
       "        vertical-align: middle;\n",
       "    }\n",
       "\n",
       "    .dataframe tbody tr th {\n",
       "        vertical-align: top;\n",
       "    }\n",
       "\n",
       "    .dataframe thead th {\n",
       "        text-align: right;\n",
       "    }\n",
       "</style>\n",
       "<table border=\"1\" class=\"dataframe\">\n",
       "  <thead>\n",
       "    <tr style=\"text-align: right;\">\n",
       "      <th></th>\n",
       "      <th>name</th>\n",
       "      <th>ingredients</th>\n",
       "      <th>instructions</th>\n",
       "    </tr>\n",
       "  </thead>\n",
       "  <tbody>\n",
       "    <tr>\n",
       "      <th>0</th>\n",
       "      <td>Death by Chocolate Mousse</td>\n",
       "      <td>[21 chocolate sandwich cookies, crushed, ¼ cup...</td>\n",
       "      <td>Preheat oven to 350 degrees F (175 degrees C)....</td>\n",
       "    </tr>\n",
       "    <tr>\n",
       "      <th>1</th>\n",
       "      <td>Shrimp and Crabmeat Loaf</td>\n",
       "      <td>[1 (6 ounce) can small shrimp, drained, 1 (6 o...</td>\n",
       "      <td>In a bowl, combine well the shrimp, crab, mayo...</td>\n",
       "    </tr>\n",
       "    <tr>\n",
       "      <th>2</th>\n",
       "      <td>Senate Bean Soup from Idahoan®</td>\n",
       "      <td>[1 (4 ounce) package Idahoan® Roasted Garlic F...</td>\n",
       "      <td>Heat olive oil in stock pot over medium high h...</td>\n",
       "    </tr>\n",
       "    <tr>\n",
       "      <th>3</th>\n",
       "      <td>Nutmeg Refrigerator Cookies</td>\n",
       "      <td>[½ cup butter, ⅓ cup white sugar, ⅔ cup packed...</td>\n",
       "      <td>In a large bowl, cream together the butter, wh...</td>\n",
       "    </tr>\n",
       "    <tr>\n",
       "      <th>4</th>\n",
       "      <td>French Toast Sandwich</td>\n",
       "      <td>[2 eggs, 3 tablespoons milk, 3 tablespoons whi...</td>\n",
       "      <td>Whisk eggs, 3 tablespoons milk, white sugar, a...</td>\n",
       "    </tr>\n",
       "  </tbody>\n",
       "</table>\n",
       "</div>"
      ],
      "text/plain": [
       "                             name  \\\n",
       "0       Death by Chocolate Mousse   \n",
       "1        Shrimp and Crabmeat Loaf   \n",
       "2  Senate Bean Soup from Idahoan®   \n",
       "3     Nutmeg Refrigerator Cookies   \n",
       "4           French Toast Sandwich   \n",
       "\n",
       "                                         ingredients  \\\n",
       "0  [21 chocolate sandwich cookies, crushed, ¼ cup...   \n",
       "1  [1 (6 ounce) can small shrimp, drained, 1 (6 o...   \n",
       "2  [1 (4 ounce) package Idahoan® Roasted Garlic F...   \n",
       "3  [½ cup butter, ⅓ cup white sugar, ⅔ cup packed...   \n",
       "4  [2 eggs, 3 tablespoons milk, 3 tablespoons whi...   \n",
       "\n",
       "                                        instructions  \n",
       "0  Preheat oven to 350 degrees F (175 degrees C)....  \n",
       "1  In a bowl, combine well the shrimp, crab, mayo...  \n",
       "2  Heat olive oil in stock pot over medium high h...  \n",
       "3  In a large bowl, cream together the butter, wh...  \n",
       "4  Whisk eggs, 3 tablespoons milk, white sugar, a...  "
      ]
     },
     "execution_count": 5,
     "metadata": {},
     "output_type": "execute_result"
    }
   ],
   "source": [
    "df['ingredients'] = df['ingredients'].apply(string_to_list)\n",
    "df.head()"
   ]
  },
  {
   "cell_type": "markdown",
   "metadata": {},
   "source": [
    "### Need to change vulgar fractions (single character fractions) into long-form strings. ('½' to '1/2')"
   ]
  },
  {
   "cell_type": "code",
   "execution_count": 6,
   "metadata": {},
   "outputs": [],
   "source": [
    "# Dictionary to map unicode fractions to expanded strings. \n",
    "# These are all of the vulgar fraction options. (Aside from one with a zero numerator.)\n",
    "fraction_dict = {'½': '1/2',\n",
    "                 '⅓': '1/3',\n",
    "                 '⅔': '2/3',\n",
    "                 '¼': '1/4',\n",
    "                 '¾': '3/4',\n",
    "                 '⅕': '1/5',\n",
    "                 '⅖': '2/5',\n",
    "                 '⅗': '3/5',\n",
    "                 '⅘': '4/5',\n",
    "                 '⅙': '1/6',\n",
    "                 '⅚': '5/6',\n",
    "                 '⅐': '1/7',\n",
    "                 '⅛': '1/8',\n",
    "                 '⅜': '3/8',\n",
    "                 '⅝': '5/8',\n",
    "                 '⅞': '7/8',\n",
    "                 '⅑': '1/9',\n",
    "                 '⅒': '1/10'}"
   ]
  },
  {
   "cell_type": "code",
   "execution_count": 7,
   "metadata": {},
   "outputs": [],
   "source": [
    "def fraction_mapper(x):\n",
    "    for key in fraction_dict:\n",
    "        for i in range(len(x)):\n",
    "            if key in x[i]:\n",
    "                x[i] = x[i].replace(key, fraction_dict[key])\n",
    "                \n",
    "    return(x)"
   ]
  },
  {
   "cell_type": "code",
   "execution_count": 8,
   "metadata": {},
   "outputs": [
    {
     "data": {
      "text/html": [
       "<div>\n",
       "<style scoped>\n",
       "    .dataframe tbody tr th:only-of-type {\n",
       "        vertical-align: middle;\n",
       "    }\n",
       "\n",
       "    .dataframe tbody tr th {\n",
       "        vertical-align: top;\n",
       "    }\n",
       "\n",
       "    .dataframe thead th {\n",
       "        text-align: right;\n",
       "    }\n",
       "</style>\n",
       "<table border=\"1\" class=\"dataframe\">\n",
       "  <thead>\n",
       "    <tr style=\"text-align: right;\">\n",
       "      <th></th>\n",
       "      <th>name</th>\n",
       "      <th>ingredients</th>\n",
       "      <th>instructions</th>\n",
       "    </tr>\n",
       "  </thead>\n",
       "  <tbody>\n",
       "    <tr>\n",
       "      <th>0</th>\n",
       "      <td>Death by Chocolate Mousse</td>\n",
       "      <td>[21 chocolate sandwich cookies, crushed, 1/4 c...</td>\n",
       "      <td>Preheat oven to 350 degrees F (175 degrees C)....</td>\n",
       "    </tr>\n",
       "    <tr>\n",
       "      <th>1</th>\n",
       "      <td>Shrimp and Crabmeat Loaf</td>\n",
       "      <td>[1 (6 ounce) can small shrimp, drained, 1 (6 o...</td>\n",
       "      <td>In a bowl, combine well the shrimp, crab, mayo...</td>\n",
       "    </tr>\n",
       "    <tr>\n",
       "      <th>2</th>\n",
       "      <td>Senate Bean Soup from Idahoan®</td>\n",
       "      <td>[1 (4 ounce) package Idahoan® Roasted Garlic F...</td>\n",
       "      <td>Heat olive oil in stock pot over medium high h...</td>\n",
       "    </tr>\n",
       "    <tr>\n",
       "      <th>3</th>\n",
       "      <td>Nutmeg Refrigerator Cookies</td>\n",
       "      <td>[1/2 cup butter, 1/3 cup white sugar, 2/3 cup ...</td>\n",
       "      <td>In a large bowl, cream together the butter, wh...</td>\n",
       "    </tr>\n",
       "    <tr>\n",
       "      <th>4</th>\n",
       "      <td>French Toast Sandwich</td>\n",
       "      <td>[2 eggs, 3 tablespoons milk, 3 tablespoons whi...</td>\n",
       "      <td>Whisk eggs, 3 tablespoons milk, white sugar, a...</td>\n",
       "    </tr>\n",
       "  </tbody>\n",
       "</table>\n",
       "</div>"
      ],
      "text/plain": [
       "                             name  \\\n",
       "0       Death by Chocolate Mousse   \n",
       "1        Shrimp and Crabmeat Loaf   \n",
       "2  Senate Bean Soup from Idahoan®   \n",
       "3     Nutmeg Refrigerator Cookies   \n",
       "4           French Toast Sandwich   \n",
       "\n",
       "                                         ingredients  \\\n",
       "0  [21 chocolate sandwich cookies, crushed, 1/4 c...   \n",
       "1  [1 (6 ounce) can small shrimp, drained, 1 (6 o...   \n",
       "2  [1 (4 ounce) package Idahoan® Roasted Garlic F...   \n",
       "3  [1/2 cup butter, 1/3 cup white sugar, 2/3 cup ...   \n",
       "4  [2 eggs, 3 tablespoons milk, 3 tablespoons whi...   \n",
       "\n",
       "                                        instructions  \n",
       "0  Preheat oven to 350 degrees F (175 degrees C)....  \n",
       "1  In a bowl, combine well the shrimp, crab, mayo...  \n",
       "2  Heat olive oil in stock pot over medium high h...  \n",
       "3  In a large bowl, cream together the butter, wh...  \n",
       "4  Whisk eggs, 3 tablespoons milk, white sugar, a...  "
      ]
     },
     "execution_count": 8,
     "metadata": {},
     "output_type": "execute_result"
    }
   ],
   "source": [
    "df['ingredients'] = df['ingredients'].apply(fraction_mapper)\n",
    "df.head()"
   ]
  },
  {
   "cell_type": "code",
   "execution_count": 9,
   "metadata": {},
   "outputs": [
    {
     "data": {
      "text/plain": [
       "['21 chocolate sandwich cookies, crushed',\n",
       " '1/4 cup butter, softened',\n",
       " '1 cup heavy cream',\n",
       " '1 (12 ounce) package semisweet chocolate chips',\n",
       " '1 teaspoon vanilla extract',\n",
       " '1 pinch salt',\n",
       " '2 cups heavy cream',\n",
       " '1/4 cup white sugar',\n",
       " '1 cup heavy cream, chilled',\n",
       " '1/4 cup white sugar']"
      ]
     },
     "execution_count": 9,
     "metadata": {},
     "output_type": "execute_result"
    }
   ],
   "source": [
    "df['ingredients'][0]"
   ]
  },
  {
   "cell_type": "markdown",
   "metadata": {},
   "source": [
    "### Remove ingredients that only appear once"
   ]
  },
  {
   "cell_type": "code",
   "execution_count": 10,
   "metadata": {},
   "outputs": [],
   "source": [
    "from collections import Counter"
   ]
  },
  {
   "cell_type": "code",
   "execution_count": 11,
   "metadata": {},
   "outputs": [],
   "source": [
    "ingredient_counter = Counter()\n",
    "\n",
    "# Count each instance of each ingredient\n",
    "for i in range(len(df)):\n",
    "    for j in range(len(df['ingredients'][i])):\n",
    "        ingredient = df['ingredients'][i][j]\n",
    "        ingredient_counter.update({ingredient: 1})"
   ]
  },
  {
   "cell_type": "code",
   "execution_count": 12,
   "metadata": {},
   "outputs": [],
   "source": [
    "# Get the ingredients that only appear once\n",
    "single_ing= []\n",
    "for ing, num in ingredient_counter.items():\n",
    "    if num == 1:\n",
    "        single_ing.append(ing)"
   ]
  },
  {
   "cell_type": "code",
   "execution_count": 13,
   "metadata": {},
   "outputs": [
    {
     "data": {
      "text/plain": [
       "106117"
      ]
     },
     "execution_count": 13,
     "metadata": {},
     "output_type": "execute_result"
    }
   ],
   "source": [
    "# Number of ingredients that only appear once in the 70k recipes.\n",
    "# These are likely incredibly specific entries.\n",
    "len(single_ing)"
   ]
  },
  {
   "cell_type": "code",
   "execution_count": 14,
   "metadata": {},
   "outputs": [
    {
     "name": "stdout",
     "output_type": "stream",
     "text": [
      "0 2020-05-15 13:51:19.720658\n",
      "2000 2020-05-15 13:52:16.488010\n",
      "4000 2020-05-15 13:53:15.251607\n",
      "6000 2020-05-15 13:54:09.084974\n",
      "8000 2020-05-15 13:55:02.154044\n",
      "10000 2020-05-15 13:55:52.996995\n",
      "12000 2020-05-15 13:56:42.864223\n",
      "14000 2020-05-15 13:57:31.489191\n",
      "16000 2020-05-15 13:58:21.119231\n",
      "18000 2020-05-15 13:59:04.871275\n",
      "20000 2020-05-15 13:59:46.476517\n",
      "22000 2020-05-15 14:00:26.478474\n",
      "24000 2020-05-15 14:01:01.240330\n",
      "26000 2020-05-15 14:01:29.043022\n",
      "28000 2020-05-15 14:01:53.159571\n",
      "30000 2020-05-15 14:02:17.789336\n",
      "32000 2020-05-15 14:02:43.058782\n",
      "34000 2020-05-15 14:03:09.679638\n",
      "36000 2020-05-15 14:03:33.603553\n",
      "38000 2020-05-15 14:03:50.559672\n",
      "40000 2020-05-15 14:04:06.437071\n",
      "42000 2020-05-15 14:04:18.752220\n",
      "44000 2020-05-15 14:04:29.583879\n",
      "46000 2020-05-15 14:04:39.332232\n",
      "48000 2020-05-15 14:04:48.053117\n",
      "50000 2020-05-15 14:04:56.049660\n",
      "52000 2020-05-15 14:05:05.211611\n",
      "54000 2020-05-15 14:05:10.672331\n",
      "56000 2020-05-15 14:05:15.278275\n",
      "58000 2020-05-15 14:05:19.918911\n",
      "60000 2020-05-15 14:05:23.544420\n",
      "62000 2020-05-15 14:05:26.483451\n",
      "64000 2020-05-15 14:05:28.842391\n",
      "66000 2020-05-15 14:05:30.723619\n",
      "68000 2020-05-15 14:05:32.119198\n",
      "70000 2020-05-15 14:05:33.044977\n"
     ]
    }
   ],
   "source": [
    "import datetime\n",
    "# Get rid of the single-time ingredients counting backwards in each list\n",
    "# so as to not go out of index range after removing one\n",
    "for i in range(len(df)):\n",
    "    for j in range(len(df['ingredients'][i])-1, -1, -1):\n",
    "        if df['ingredients'][i][j] in single_ing:\n",
    "            ingredient = df['ingredients'][i][j]\n",
    "            # Remove from the ingredients\n",
    "            df['ingredients'][i].remove(ingredient)\n",
    "            # Remove from list to not slow down loop\n",
    "            single_ing.remove(ingredient)\n",
    "    if i % 2000 == 0:\n",
    "        print(i, datetime.datetime.now())"
   ]
  },
  {
   "cell_type": "markdown",
   "metadata": {},
   "source": [
    "### Some recipes have an unneeded number of ingredients. I'm limiting recipes to 30"
   ]
  },
  {
   "cell_type": "code",
   "execution_count": 15,
   "metadata": {},
   "outputs": [
    {
     "data": {
      "text/plain": [
       "56"
      ]
     },
     "execution_count": 15,
     "metadata": {},
     "output_type": "execute_result"
    }
   ],
   "source": [
    "ingredients_len = []\n",
    "for i in range(len(df)):\n",
    "    ingredients_len.append(len(df['ingredients'][i]))\n",
    "\n",
    "max(ingredients_len)"
   ]
  },
  {
   "cell_type": "code",
   "execution_count": 16,
   "metadata": {},
   "outputs": [
    {
     "data": {
      "text/plain": [
       "31004"
      ]
     },
     "execution_count": 16,
     "metadata": {},
     "output_type": "execute_result"
    }
   ],
   "source": [
    "ingredients_len.index(56)"
   ]
  },
  {
   "cell_type": "code",
   "execution_count": 17,
   "metadata": {},
   "outputs": [
    {
     "data": {
      "text/plain": [
       "[1619,\n",
       " 4238,\n",
       " 10159,\n",
       " 11387,\n",
       " 24655,\n",
       " 31004,\n",
       " 31092,\n",
       " 35126,\n",
       " 38444,\n",
       " 48681,\n",
       " 52727,\n",
       " 56944,\n",
       " 62148,\n",
       " 62192,\n",
       " 65805,\n",
       " 66550]"
      ]
     },
     "execution_count": 17,
     "metadata": {},
     "output_type": "execute_result"
    }
   ],
   "source": [
    "indices = [i for i, x in enumerate(ingredients_len) if x > 30]\n",
    "indices"
   ]
  },
  {
   "cell_type": "code",
   "execution_count": 18,
   "metadata": {},
   "outputs": [
    {
     "name": "stdout",
     "output_type": "stream",
     "text": [
      "name                                              Cranberry Syrup\n",
      "ingredients     [4, , c, u, p, s, , c, r, a, n, b, e, r, r, y,...\n",
      "instructions    Bring cranberry juice to a boil in a non-react...\n",
      "Name: 1619, dtype: object\n",
      "==============================\n",
      "name                                Game Day Halftime Snack Board\n",
      "ingredients     [1 cup mayonnaise, 4 teaspoons dry mustard pow...\n",
      "instructions    Whisk mayonnaise, dry mustard, Worcestershire ...\n",
      "Name: 4238, dtype: object\n",
      "==============================\n",
      "name                                            Watermelon Cooler\n",
      "ingredients     [1, , s, m, a, l, l, , w, a, t, e, r, m, e, l,...\n",
      "instructions    Blend watermelon cubes in a blender until smoo...\n",
      "Name: 10159, dtype: object\n",
      "==============================\n",
      "name                                                Caramel Sauce\n",
      "ingredients     [1, , (, 1, 4, , o, u, n, c, e, ), , c, a, n, ...\n",
      "instructions    Fill a large saucepan with water and bring to ...\n",
      "Name: 11387, dtype: object\n",
      "==============================\n",
      "name                                    Chef John's Clotted Cream\n",
      "ingredients     [4, , c, u, p, s, , h, e, a, v, y, , c, r, e, ...\n",
      "instructions    Preheat oven to 175 to 180 degrees F (80 degre...\n",
      "Name: 24655, dtype: object\n",
      "==============================\n",
      "name                          Dulce de Leche con Leche Condensada\n",
      "ingredients     [1, , (, 1, 4, , o, u, n, c, e, ), , c, a, n, ...\n",
      "instructions    Place can of sweetened condensed milk in a sau...\n",
      "Name: 31004, dtype: object\n",
      "==============================\n",
      "name                              Homemade Honey-Sunflower Butter\n",
      "ingredients     [2, , c, u, p, s, , h, o, n, e, y, -, r, o, a,...\n",
      "instructions    Pour sunflower seeds into the container of a h...\n",
      "Name: 31092, dtype: object\n",
      "==============================\n",
      "name                                   Pulled Pork Pesto Sandwich\n",
      "ingredients     [Pulled Pork:, 1/4 cup kosher salt, 1/4 cup fr...\n",
      "instructions    Preheat oven to 300 degrees F (150 degrees C)....\n",
      "Name: 35126, dtype: object\n",
      "==============================\n",
      "name                     Air Fryer Turkey Breakfast Sausage Links\n",
      "ingredients     [1, , (, 6, , o, u, n, c, e, ), , p, a, c, k, ...\n",
      "instructions    Preheat the air fryer to 350 degrees F (175 de...\n",
      "Name: 38444, dtype: object\n",
      "==============================\n",
      "name                                      Gluten-Free Coffee Cake\n",
      "ingredients     [Cake:, 1 tablespoon coconut oil, or as needed...\n",
      "instructions    Preheat the oven to 350 degrees F (175 degrees...\n",
      "Name: 48681, dtype: object\n",
      "==============================\n",
      "name                                                 Lamb Grinder\n",
      "ingredients     [1/4 cup kosher salt, 1/4 cup freshly ground b...\n",
      "instructions    Preheat oven to 325 degrees F (165 degrees C)....\n",
      "Name: 52727, dtype: object\n",
      "==============================\n",
      "name                                            Instant Pot® Ghee\n",
      "ingredients     [1, , p, o, u, n, d, , u, n, s, a, l, t, e, d,...\n",
      "instructions    Turn on a multi-functional pressure cooker (su...\n",
      "Name: 56944, dtype: object\n",
      "==============================\n",
      "name                                     BBQ Pulled Pork Sandwich\n",
      "ingredients     [Coleslaw:, 1 (16 ounce) package shredded cole...\n",
      "instructions    Combine coleslaw mix, pepperoncini peppers, re...\n",
      "Name: 62148, dtype: object\n",
      "==============================\n",
      "name                             Veggie Chili Cornbread Casserole\n",
      "ingredients     [Chili:, 2 tablespoons olive oil, 1 medium yel...\n",
      "instructions    Heat olive oil in a large Dutch oven over medi...\n",
      "Name: 62192, dtype: object\n",
      "==============================\n",
      "name                                         Chef John's Face Pie\n",
      "ingredients     [Crust:, 3 cups all-purpose flour, 1 teaspoon ...\n",
      "instructions    Place flour, salt, and frozen butter slices in...\n",
      "Name: 65805, dtype: object\n",
      "==============================\n",
      "name                             \"Let Game Day Begin\" Snack Board\n",
      "ingredients     [4 small golden beets, trimmed and peeled, 1 (...\n",
      "instructions    Preheat the oven to 425 degrees F (220 degrees...\n",
      "Name: 66550, dtype: object\n",
      "==============================\n"
     ]
    }
   ],
   "source": [
    "for i in indices:\n",
    "    print(df.iloc[i])\n",
    "    print('='*30)"
   ]
  },
  {
   "cell_type": "code",
   "execution_count": 19,
   "metadata": {},
   "outputs": [
    {
     "name": "stdout",
     "output_type": "stream",
     "text": [
      "['4', '', 'c', 'u', 'p', 's', '', 'c', 'r', 'a', 'n', 'b', 'e', 'r', 'r', 'y', '', 'j', 'u', 'i', 'c', 'e', '', '(', 's', 'u', 'c', 'h', '', 'a', 's', '', 'c', 'e', 'a', 'n', '', 'p', 'r', 'a', 'y', '®', ')']\n",
      "['1 cup mayonnaise', \"4 teaspoons dry mustard powder (such as Colman's&reg;)\", '1 teaspoon Worcestershire sauce', '1 teaspoon steak sauce', '1 teaspoon half-and-half', '1 teaspoon lemon juice', '1/2 teaspoon sriracha sauce', 'salt to taste', '2 tablespoons butter, divided', '12 ounces bay scallops', '1/3 cup sliced mushrooms', '1 tablespoon minced shallot', '1/2 cup half-and-half', '1 tablespoon all-purpose flour', '2 tablespoons dry white wine', '1 tablespoon dry sherry', '1/2 teaspoon lemon juice', '1/2 teaspoon Dijon mustard', '1/4 cup shredded Parmesan cheese', '1 tablespoon chopped fresh tarragon', 'ground black pepper to taste', '4 fluid ounces gin', '2 fluid ounces sweet vermouth', '2 teaspoons maraschino cherry juice', '2 dashes orange bitters', '4 maraschino cherries', '1 pound cooked shrimp', '1 lemon, cut into wedges', '4 ounces goat cheese, softened', '1/2 cup hot red pepper jelly', '4 slices bacon, cooked and crumbled', '24 large, ridged potato chips (such as Ruffles&reg;)']\n",
      "['1', '', 's', 'm', 'a', 'l', 'l', '', 'w', 'a', 't', 'e', 'r', 'm', 'e', 'l', 'o', 'n', ',', '', 's', 'e', 'e', 'd', 'e', 'd', '', 'a', 'n', 'd', '', 'c', 'u', 'b', 'e', 'd']\n",
      "['1', '', '(', '1', '4', '', 'o', 'u', 'n', 'c', 'e', ')', '', 'c', 'a', 'n', '', 's', 'w', 'e', 'e', 't', 'e', 'n', 'e', 'd', '', 'c', 'o', 'n', 'd', 'e', 'n', 's', 'e', 'd', '', 'm', 'i', 'l', 'k']\n",
      "['4', '', 'c', 'u', 'p', 's', '', 'h', 'e', 'a', 'v', 'y', '', 'c', 'r', 'e', 'a', 'm', '', '(', 'n', 'o', 't', '', 'u', 'l', 't', 'r', 'a', '-', 'p', 'a', 's', 't', 'e', 'u', 'r', 'i', 'e', 'd', ')']\n",
      "['1', '', '(', '1', '4', '', 'o', 'u', 'n', 'c', 'e', ')', '', 'c', 'a', 'n', '', 's', 'w', 'e', 'e', 't', 'e', 'n', 'e', 'd', '', 'c', 'o', 'n', 'd', 'e', 'n', 's', 'e', 'd', '', 'm', 'i', 'l', 'k', ',', '', 'l', 'a', 'b', 'e', 'l', '', 'r', 'e', 'm', 'o', 'v', 'e', 'd']\n",
      "['2', '', 'c', 'u', 'p', 's', '', 'h', 'o', 'n', 'e', 'y', '-', 'r', 'o', 'a', 's', 't', 'e', 'd', '', 's', 'u', 'n', 'f', 'l', 'o', 'w', 'e', 'r', '', 's', 'e', 'e', 'd', 's']\n",
      "['Pulled Pork:', '1/4 cup kosher salt', '1/4 cup freshly ground black pepper', '1/4 cup Italian seasoning', '2 tablespoons dried rosemary', '2 tablespoons granulated garlic', '2 tablespoons granulated onion', '1 tablespoon red pepper flakes', '1 tablespoon lemon pepper', '1 (4 pound) pork shoulder roast', '1 lemon, juiced', '1 tablespoon olive oil', '1 tablespoon red wine vinegar', '1 tablespoon Worcestershire sauce', '2 cups dry white wine', '1 cup chicken stock', '4 cloves garlic, crushed', 'Filling:', '1 tablespoon olive oil', '1 red bell pepper, sliced', '1 onion, sliced', '1 tablespoon Italian seasoning', '1 teaspoon red pepper flakes', 'salt and freshly ground black pepper to taste', '1 cup sliced mushrooms', '1/4 cup garlic basil spread (see footnote for recipe link)', '1/4 cup Marsala wine', '1 cup prepared pesto sauce', 'Assembly:', '4 Italian-style hoagie buns, split lengthwise', '2 cups shredded mozzarella cheese, divided', '1 cup halved cherry tomatoes, divided', '1/2 cup chopped fresh basil, divided']\n",
      "['1', '', '(', '6', '', 'o', 'u', 'n', 'c', 'e', ')', '', 'p', 'a', 'c', 'k', 'a', 'g', 'e', '', 't', 'u', 'r', 'k', 'e', 'y', '', 'b', 'r', 'e', 'a', 'k', 'f', 'a', 's', 't', '', 's', 'a', 'u', 's', 'a', 'g', 'e', '', 'l', 'i', 'n', 'k', 's']\n",
      "['Cake:', '1 tablespoon coconut oil, or as needed', '1/2 cup tapioca starch', '1/2 cup rice flour', '1 teaspoon baking powder', '1/2 teaspoon xanthan gum', '1/4 teaspoon baking soda', '1/4 teaspoon salt', '2 egg whites', '1/4 cup white sugar', '1/4 cup brown sugar', '3 tablespoons unsalted butter, softened', '3 tablespoons shortening', '2 tablespoons agave nectar', '1 egg yolk', '1/2 cup plain Greek yogurt', '2 tablespoons plain Greek yogurt', '3/4 teaspoon vanilla extract', 'Streusel Topping:', '1/4 cup brown sugar', '3 tablespoons rice flour', '3 tablespoons almond meal', '1 tablespoon tapioca starch', '1/4 teaspoon ground cinnamon', '1/4 teaspoon ground nutmeg', '1/4 teaspoon salt', '5 tablespoons unsalted butter', '3/4 cup chopped pecans', 'Glaze:', \"1 1/2 cups confectioners' sugar\", '2 tablespoons maple syrup', '1 teaspoon water (optional)']\n",
      "['1/4 cup kosher salt', '1/4 cup freshly ground black pepper', '1/4 cup Italian seasoning', '2 tablespoons dried rosemary', '2 tablespoons granulated garlic', '2 tablespoons granulated onion', '1 tablespoon lemon pepper', '1 lemon, juiced', '1 tablespoon olive oil', '1 tablespoon red wine', '1 tablespoon Worcestershire sauce', '2 cups dry white wine', '2 cups chicken stock', '4 cloves garlic, crushed', '3 bay leaves', '2 tablespoons capers', '1 cup sour cream', '1/4 cup prepared horseradish', '2 tablespoons sweet hot mustard', '1 tablespoon garlic basil spread (see footnote for recipe link)', 'Filling:', '2 tablespoons olive oil', '2 onions, sliced', '1/4 cup Marsala wine', '1 cup sliced mushrooms', '2 tablespoons minced garlic', '2 teaspoons chopped fresh rosemary', '2 teaspoons red pepper flakes', 'Assembly:', '4 Italian-style hoagie buns, split lengthwise', '1 cup shredded Asiago cheese, divided', '1 cup crumbled feta cheese, divided']\n",
      "['1', '', 'p', 'o', 'u', 'n', 'd', '', 'u', 'n', 's', 'a', 'l', 't', 'e', 'd', '', 'b', 'u', 't', 't', 'e', 'r', '', '(', 's', 'u', 'c', 'h', '', 'a', 's', '', 'e', 'r', 'r', 'y', 'g', 'o', 'l', 'd', '®']\n",
      "['Coleslaw:', '1 (16 ounce) package shredded coleslaw mix', '1/4 cup pickled pepperoncini peppers, chopped', '1/4 cup diced red onion', '1/3 cup mayonnaise', '1/2 lemon, juiced', '1 tablespoon red wine vinegar', '1 tablespoon granulated garlic', '1 teaspoon Dijon mustard', '1 teaspoon white sugar', '1 teaspoon salt', '1/2 teaspoon granulated onion', '1/4 teaspoon lemon pepper', 'Pulled Pork:', '2 tablespoons kosher salt', '2 tablespoons ground black pepper', '2 tablespoons granulated garlic', '2 tablespoons granulated onion', '2 tablespoons brown sugar', '1 tablespoon cayenne pepper', '1 tablespoon ground nutmeg', '1 tablespoon ground allspice', '1 teaspoon ground cinnamon', '1 (4 pound) pork shoulder roast', '1/4 cup molasses', 'Sauce:', '3 cups barbeque sauce', '1 cup strong brewed coffee', '1 tablespoon molasses', '1 tablespoon brown sugar', '1 teaspoon dry mustard', '1 pinch cayenne pepper, or more to taste', '4 Italian-style hoagie buns, split lengthwise and toasted', '1/4 cup onion, chopped (optional)']\n",
      "['Chili:', '2 tablespoons olive oil', '1 medium yellow onion, chopped', '1 large carrot, peeled and chopped', '1 large red bell pepper, chopped', '4 cloves garlic, minced', '2 tablespoons chili powder', '2 teaspoons ground cumin', '1 teaspoon dried oregano', '1 1/2 teaspoons smoked paprika', '1/4 teaspoon ground cinnamon', 'salt to taste', 'ground black pepper to taste', '1 (28 ounce) can diced tomatoes with juice', '1 (15 ounce) can black beans, rinsed and drained', '1 (15 ounce) can kidney beans, rinsed and drained', '1 (15 ounce) can pinto beans, rinsed and drained', '1 cup frozen corn', '2 cups vegetable broth', '1 tablespoon lime juice', '1 1/2 cups milk', '1 large egg', '1 1/2 cups yellow cornmeal', '1 cup all-purpose flour', '2 tablespoons brown sugar', '1 1/2 teaspoons baking powder', '1 teaspoon salt', '1/2 teaspoon baking soda', '5 tablespoons unsalted butter, melted', '1 small jalapeno pepper, chopped', 'Garnish:', '1 jalapeno pepper, sliced', '2 tablespoons chopped fresh cilantro']\n",
      "['Crust:', '3 cups all-purpose flour', '1 teaspoon kosher salt', '2 sticks unsalted butter, sliced, frozen', '2 teaspoons distilled white vinegar', '7 tablespoons ice cold water', 'Spice Blend:', '2 teaspoons kosher salt', '1 teaspoon freshly ground black pepper', '1 teaspoon dried thyme', '1/2 teaspoon dried sage', '1/2 teaspoon ground cinnamon', '1/2 teaspoon ground ginger', '1/4 teaspoon freshly grated nutmeg', '1/4 teaspoon ground allspice', '1/4 teaspoon ground mustard', '1/8 teaspoon ground cloves', '1 pinch cayenne pepper', 'Filling:', '1 large russet potato, peeled and quartered', '1 teaspoon kosher salt', '1 tablespoon butter', '1 large onion, finely chopped', '1 pinch salt', '4 cloves garlic, crushed', '1/2 cup finely diced celery', '1 pound ground beef', '1 pound ground pork', 'Egg Wash:', '1 large egg', '1 tablespoon water', '2 drops red food coloring, or as needed']\n",
      "['4 small golden beets, trimmed and peeled', '1 (15.5 ounce) can great northern beans, liquid drained and reserved', '1 clove garlic, crushed', '2 tablespoons lemon juice', '1 teaspoon balsamic vinegar', '3 tablespoons tahini', '1 teaspoon ground cumin', '1/2 teaspoon ground turmeric', '1/2 teaspoon sea salt', 'cooking spray', '1 cup yellow cornmeal', '2 tablespoons white sugar', '1 teaspoon baking soda', '3/4 teaspoon salt', '1/2 cup minced jalapeno peppers', '1/2 cup minced onion', '1 clove garlic, minced', '4 tablespoons butter, melted', '1 cup frozen corn, thawed', '1 cup buttermilk', '3 large eggs, lightly beaten', '6 ounces shredded Monterey Jack cheese', '1 (8 ounce) package cream cheese, softened', '2 cloves garlic, crushed', '1 tablespoon dry vermouth', '1 teaspoon dried parsley', '1/4 teaspoon salt', '1/4 teaspoon dried basil', '1/8 teaspoon dried tarragon', '1/8 teaspoon dried sage', '1/8 teaspoon ground white pepper', '1 cup ketchup', '1/4 cup soy sauce', '1/4 cup rice vinegar', '3 tablespoons sriracha sauce', '1 tablespoon brown sugar', '1 teaspoon grated ginger root', '1 teaspoon sesame oil', '1 clove garlic, crushed']\n"
     ]
    }
   ],
   "source": [
    "for i in indices:\n",
    "    print(df['ingredients'][i])"
   ]
  },
  {
   "cell_type": "code",
   "execution_count": 20,
   "metadata": {},
   "outputs": [
    {
     "data": {
      "text/plain": [
       "[66550,\n",
       " 65805,\n",
       " 62192,\n",
       " 62148,\n",
       " 56944,\n",
       " 52727,\n",
       " 48681,\n",
       " 38444,\n",
       " 35126,\n",
       " 31092,\n",
       " 31004,\n",
       " 24655,\n",
       " 11387,\n",
       " 10159,\n",
       " 4238,\n",
       " 1619]"
      ]
     },
     "execution_count": 20,
     "metadata": {},
     "output_type": "execute_result"
    }
   ],
   "source": [
    "indices[::-1]"
   ]
  },
  {
   "cell_type": "code",
   "execution_count": 21,
   "metadata": {},
   "outputs": [
    {
     "name": "stdout",
     "output_type": "stream",
     "text": [
      "66550\n",
      "65805\n",
      "62192\n",
      "62148\n",
      "56944\n",
      "52727\n",
      "48681\n",
      "38444\n",
      "35126\n",
      "31092\n",
      "31004\n",
      "24655\n",
      "11387\n",
      "10159\n",
      "4238\n",
      "1619\n"
     ]
    }
   ],
   "source": [
    "for i in indices[::-1]:\n",
    "    print(i)"
   ]
  },
  {
   "cell_type": "code",
   "execution_count": 22,
   "metadata": {},
   "outputs": [],
   "source": [
    "for i in indices[::-1]:\n",
    "    df = df.drop(i, axis=0)"
   ]
  },
  {
   "cell_type": "code",
   "execution_count": 23,
   "metadata": {},
   "outputs": [],
   "source": [
    "df = df.reset_index(drop=True)"
   ]
  },
  {
   "cell_type": "code",
   "execution_count": 24,
   "metadata": {},
   "outputs": [
    {
     "data": {
      "text/plain": [
       "30"
      ]
     },
     "execution_count": 24,
     "metadata": {},
     "output_type": "execute_result"
    }
   ],
   "source": [
    "ingredients_len = []\n",
    "for i in range(len(df)):\n",
    "    ingredients_len.append(len(df['ingredients'][i]))\n",
    "\n",
    "max(ingredients_len)"
   ]
  },
  {
   "cell_type": "code",
   "execution_count": 25,
   "metadata": {},
   "outputs": [
    {
     "data": {
      "text/plain": [
       "[]"
      ]
     },
     "execution_count": 25,
     "metadata": {},
     "output_type": "execute_result"
    }
   ],
   "source": [
    "indices = [i for i, x in enumerate(ingredients_len) if x > 30]\n",
    "indices"
   ]
  },
  {
   "cell_type": "markdown",
   "metadata": {},
   "source": [
    "### Put the ingredients into a dictionary that contains values of measurement quantity, measurement unit, and ingredient ('1/4', 'cup', 'butter, softened')."
   ]
  },
  {
   "cell_type": "code",
   "execution_count": 26,
   "metadata": {},
   "outputs": [],
   "source": [
    "# These are measurement units from another notebook.\n",
    "measurement_units = [\n",
    " 'packages', 'package', 'slices', 'sliced', 'slice', \n",
    " 'bags', 'bag', 'bars', 'bar', 'bottles', 'bottle', 'boxes' 'box', 'bulbs', 'bulb', 'bunches', 'bunch', \n",
    " 'cans', 'can', 'containers', 'container', 'cubes', 'cube', 'cups', 'cup', \n",
    " 'dashes', 'dash', 'drops', 'drop',\n",
    " 'envelopes', 'envelope',\n",
    " 'fillets', 'fillet',\n",
    " 'gallons', 'gallon', 'granules', 'granule',\n",
    " 'halfes', 'half', 'heads', 'head',\n",
    " 'jars', 'jar',\n",
    " 'layers', 'layer', 'leaf', 'leaves', 'legs', 'leg', 'links', 'link', 'loaf', 'loaves',\n",
    " 'ounces', 'ounce',\n",
    " 'packets', 'packet', 'pieces', 'piece', 'pinches', 'pinch', 'pints', 'pint', 'pounds', 'pound',\n",
    " 'quarts', 'quart',\n",
    " 'sprigs', 'sprig', 'squares', 'square', 'stalks', 'stalk', 'strips', 'strip',\n",
    " 'tablespoons', 'tablespoon','teaspoons', 'teaspoon', 'thighs', 'thigh', 'trays', 'tray']"
   ]
  },
  {
   "cell_type": "code",
   "execution_count": 27,
   "metadata": {},
   "outputs": [],
   "source": [
    "import re"
   ]
  },
  {
   "cell_type": "code",
   "execution_count": 28,
   "metadata": {},
   "outputs": [],
   "source": [
    "def ingred_dict(x):\n",
    "    '''\n",
    "    This function is meant to take in a list of ingredients for a recipe.\n",
    "    It then parses out the ingredients and saves the quantity of an ingredient,\n",
    "    the unit of measurement for that ingredient, and the name of the ingredient.\n",
    "    This information is then saved in a dictionary and returned.\n",
    "    '''\n",
    "    my_dict = {}  # Dictionary for the current recipe\n",
    "    pattern = re.compile(r'^[\\d/\\s]+')  # Include white space to catch compound fractions\n",
    "\n",
    "    for i in range(len(x)):\n",
    "        matches = pattern.finditer(x[i])\n",
    "        ingredient_test = x[i]\n",
    "\n",
    "        for match in matches:\n",
    "\n",
    "            quantity = match.group(0).strip()  # Quantity of measurement set\n",
    "\n",
    "            ingredient_test = ingredient_test.strip(quantity)  # Save everything after removing quantity\n",
    "\n",
    "            check = 0\n",
    "            breaker = False\n",
    "\n",
    "            pattern_2 = re.compile(r'^[(\\d\\s]+')  # Check for any numbers in parenthesis\n",
    "            matches_2 = pattern_2.finditer(ingredient_test)\n",
    "\n",
    "            for unit in measurement_units:\n",
    "                if matches_2:  # If there's a match for a number in parenthesis\n",
    "                    matches_2 = False  # Don't check this conditional again\n",
    "                    continue  # Skip this unit of measurement\n",
    "                elif unit in ingredient_test:\n",
    "                    ingredient = ingredient_test.split(unit)[1].strip()  # Ingredient set\n",
    "                    units = (ingredient_test.split(unit)[0] + unit).strip()  # Unit set (including any parenthesis before)\n",
    "                    check = 1  # Set check to 1 so the last conditional doesn't execute\n",
    "                    breaker = True\n",
    "                if breaker == True:\n",
    "                    break\n",
    "            if check == 0:  # If no unit measurement is found (like the ingredient is \"1 egg\")\n",
    "                ingredient = ingredient_test.strip()\n",
    "                units = None\n",
    "            \n",
    "            ingred_num = f'ingredient{i+1}'\n",
    "            # Save ingredient information as a list\n",
    "            my_dict[ingred_num] = [quantity, units, ingredient]\n",
    "\n",
    "    return my_dict"
   ]
  },
  {
   "cell_type": "code",
   "execution_count": 29,
   "metadata": {},
   "outputs": [
    {
     "data": {
      "text/html": [
       "<div>\n",
       "<style scoped>\n",
       "    .dataframe tbody tr th:only-of-type {\n",
       "        vertical-align: middle;\n",
       "    }\n",
       "\n",
       "    .dataframe tbody tr th {\n",
       "        vertical-align: top;\n",
       "    }\n",
       "\n",
       "    .dataframe thead th {\n",
       "        text-align: right;\n",
       "    }\n",
       "</style>\n",
       "<table border=\"1\" class=\"dataframe\">\n",
       "  <thead>\n",
       "    <tr style=\"text-align: right;\">\n",
       "      <th></th>\n",
       "      <th>name</th>\n",
       "      <th>ingredients</th>\n",
       "      <th>instructions</th>\n",
       "      <th>ingredient_dict</th>\n",
       "    </tr>\n",
       "  </thead>\n",
       "  <tbody>\n",
       "    <tr>\n",
       "      <th>0</th>\n",
       "      <td>Death by Chocolate Mousse</td>\n",
       "      <td>[21 chocolate sandwich cookies, crushed, 1/4 c...</td>\n",
       "      <td>Preheat oven to 350 degrees F (175 degrees C)....</td>\n",
       "      <td>{'ingredient1': ['21', None, 'chocolate sandwi...</td>\n",
       "    </tr>\n",
       "    <tr>\n",
       "      <th>1</th>\n",
       "      <td>Shrimp and Crabmeat Loaf</td>\n",
       "      <td>[1 (6 ounce) can small shrimp, drained, 1 (6 o...</td>\n",
       "      <td>In a bowl, combine well the shrimp, crab, mayo...</td>\n",
       "      <td>{'ingredient1': ['1', '(6 ounce) can', 'small ...</td>\n",
       "    </tr>\n",
       "    <tr>\n",
       "      <th>2</th>\n",
       "      <td>Senate Bean Soup from Idahoan®</td>\n",
       "      <td>[1 (4 ounce) package Idahoan® Roasted Garlic F...</td>\n",
       "      <td>Heat olive oil in stock pot over medium high h...</td>\n",
       "      <td>{'ingredient1': ['1', '(4 ounce) package', 'Id...</td>\n",
       "    </tr>\n",
       "    <tr>\n",
       "      <th>3</th>\n",
       "      <td>Nutmeg Refrigerator Cookies</td>\n",
       "      <td>[1/2 cup butter, 1/3 cup white sugar, 2/3 cup ...</td>\n",
       "      <td>In a large bowl, cream together the butter, wh...</td>\n",
       "      <td>{'ingredient1': ['1/2', 'cup', 'butter'], 'ing...</td>\n",
       "    </tr>\n",
       "    <tr>\n",
       "      <th>4</th>\n",
       "      <td>French Toast Sandwich</td>\n",
       "      <td>[2 eggs, 3 tablespoons milk, 3 tablespoons whi...</td>\n",
       "      <td>Whisk eggs, 3 tablespoons milk, white sugar, a...</td>\n",
       "      <td>{'ingredient1': ['2', None, 'eggs'], 'ingredie...</td>\n",
       "    </tr>\n",
       "  </tbody>\n",
       "</table>\n",
       "</div>"
      ],
      "text/plain": [
       "                             name  \\\n",
       "0       Death by Chocolate Mousse   \n",
       "1        Shrimp and Crabmeat Loaf   \n",
       "2  Senate Bean Soup from Idahoan®   \n",
       "3     Nutmeg Refrigerator Cookies   \n",
       "4           French Toast Sandwich   \n",
       "\n",
       "                                         ingredients  \\\n",
       "0  [21 chocolate sandwich cookies, crushed, 1/4 c...   \n",
       "1  [1 (6 ounce) can small shrimp, drained, 1 (6 o...   \n",
       "2  [1 (4 ounce) package Idahoan® Roasted Garlic F...   \n",
       "3  [1/2 cup butter, 1/3 cup white sugar, 2/3 cup ...   \n",
       "4  [2 eggs, 3 tablespoons milk, 3 tablespoons whi...   \n",
       "\n",
       "                                        instructions  \\\n",
       "0  Preheat oven to 350 degrees F (175 degrees C)....   \n",
       "1  In a bowl, combine well the shrimp, crab, mayo...   \n",
       "2  Heat olive oil in stock pot over medium high h...   \n",
       "3  In a large bowl, cream together the butter, wh...   \n",
       "4  Whisk eggs, 3 tablespoons milk, white sugar, a...   \n",
       "\n",
       "                                     ingredient_dict  \n",
       "0  {'ingredient1': ['21', None, 'chocolate sandwi...  \n",
       "1  {'ingredient1': ['1', '(6 ounce) can', 'small ...  \n",
       "2  {'ingredient1': ['1', '(4 ounce) package', 'Id...  \n",
       "3  {'ingredient1': ['1/2', 'cup', 'butter'], 'ing...  \n",
       "4  {'ingredient1': ['2', None, 'eggs'], 'ingredie...  "
      ]
     },
     "execution_count": 29,
     "metadata": {},
     "output_type": "execute_result"
    }
   ],
   "source": [
    "df['ingredient_dict'] = df['ingredients'].apply(ingred_dict)\n",
    "df.head()"
   ]
  },
  {
   "cell_type": "code",
   "execution_count": 30,
   "metadata": {},
   "outputs": [
    {
     "data": {
      "text/plain": [
       "{'ingredient1': ['21', None, 'chocolate sandwich cookies, crushed'],\n",
       " 'ingredient2': ['1/4', 'cup', 'butter, softened'],\n",
       " 'ingredient3': ['1', 'cup', 'heavy cream'],\n",
       " 'ingredient4': ['1', '(12 ounce) package', 'semisweet chocolate chips'],\n",
       " 'ingredient5': ['1', 'teaspoon', 'vanilla extract'],\n",
       " 'ingredient6': ['1', 'pinch', 'salt'],\n",
       " 'ingredient7': ['2', 'cups', 'heavy cream'],\n",
       " 'ingredient8': ['1/4', 'cup', 'white sugar'],\n",
       " 'ingredient9': ['1', 'cup', 'heavy cream, chilled'],\n",
       " 'ingredient10': ['1/4', 'cup', 'white sugar']}"
      ]
     },
     "execution_count": 30,
     "metadata": {},
     "output_type": "execute_result"
    }
   ],
   "source": [
    "df['ingredient_dict'][0]"
   ]
  },
  {
   "cell_type": "code",
   "execution_count": 31,
   "metadata": {},
   "outputs": [
    {
     "data": {
      "text/plain": [
       "10"
      ]
     },
     "execution_count": 31,
     "metadata": {},
     "output_type": "execute_result"
    }
   ],
   "source": [
    "len(df['ingredient_dict'][0])"
   ]
  },
  {
   "cell_type": "code",
   "execution_count": 32,
   "metadata": {},
   "outputs": [
    {
     "data": {
      "text/plain": [
       "['21', None, 'chocolate sandwich cookies, crushed']"
      ]
     },
     "execution_count": 32,
     "metadata": {},
     "output_type": "execute_result"
    }
   ],
   "source": [
    "ing = 'ingredient1'\n",
    "df['ingredient_dict'][0][ing]"
   ]
  },
  {
   "cell_type": "code",
   "execution_count": 33,
   "metadata": {},
   "outputs": [
    {
     "name": "stdout",
     "output_type": "stream",
     "text": [
      "['21', None, 'chocolate sandwich cookies, crushed']\n",
      "['1/4', 'cup', 'butter, softened']\n",
      "['1', 'cup', 'heavy cream']\n",
      "['1', '(12 ounce) package', 'semisweet chocolate chips']\n",
      "['1', 'teaspoon', 'vanilla extract']\n",
      "['1', 'pinch', 'salt']\n",
      "['2', 'cups', 'heavy cream']\n",
      "['1/4', 'cup', 'white sugar']\n",
      "['1', 'cup', 'heavy cream, chilled']\n",
      "['1/4', 'cup', 'white sugar']\n"
     ]
    }
   ],
   "source": [
    "for j in range(len(df['ingredient_dict'][0])):\n",
    "    print(df['ingredient_dict'][0][f'ingredient{j+1}'])"
   ]
  },
  {
   "cell_type": "markdown",
   "metadata": {},
   "source": [
    "## Prepare data to save to CSV for database"
   ]
  },
  {
   "cell_type": "code",
   "execution_count": 34,
   "metadata": {},
   "outputs": [
    {
     "data": {
      "text/html": [
       "<div>\n",
       "<style scoped>\n",
       "    .dataframe tbody tr th:only-of-type {\n",
       "        vertical-align: middle;\n",
       "    }\n",
       "\n",
       "    .dataframe tbody tr th {\n",
       "        vertical-align: top;\n",
       "    }\n",
       "\n",
       "    .dataframe thead th {\n",
       "        text-align: right;\n",
       "    }\n",
       "</style>\n",
       "<table border=\"1\" class=\"dataframe\">\n",
       "  <thead>\n",
       "    <tr style=\"text-align: right;\">\n",
       "      <th></th>\n",
       "      <th>name</th>\n",
       "      <th>ingredient1</th>\n",
       "      <th>ingredient2</th>\n",
       "      <th>ingredient3</th>\n",
       "      <th>ingredient4</th>\n",
       "      <th>ingredient5</th>\n",
       "      <th>ingredient6</th>\n",
       "      <th>ingredient7</th>\n",
       "      <th>ingredient8</th>\n",
       "      <th>ingredient9</th>\n",
       "      <th>...</th>\n",
       "      <th>ingredient21</th>\n",
       "      <th>ingredient22</th>\n",
       "      <th>ingredient23</th>\n",
       "      <th>ingredient24</th>\n",
       "      <th>ingredient25</th>\n",
       "      <th>ingredient26</th>\n",
       "      <th>ingredient27</th>\n",
       "      <th>ingredient28</th>\n",
       "      <th>ingredient29</th>\n",
       "      <th>ingredient30</th>\n",
       "    </tr>\n",
       "  </thead>\n",
       "  <tbody>\n",
       "  </tbody>\n",
       "</table>\n",
       "<p>0 rows × 31 columns</p>\n",
       "</div>"
      ],
      "text/plain": [
       "Empty DataFrame\n",
       "Columns: [name, ingredient1, ingredient2, ingredient3, ingredient4, ingredient5, ingredient6, ingredient7, ingredient8, ingredient9, ingredient10, ingredient11, ingredient12, ingredient13, ingredient14, ingredient15, ingredient16, ingredient17, ingredient18, ingredient19, ingredient20, ingredient21, ingredient22, ingredient23, ingredient24, ingredient25, ingredient26, ingredient27, ingredient28, ingredient29, ingredient30]\n",
       "Index: []\n",
       "\n",
       "[0 rows x 31 columns]"
      ]
     },
     "execution_count": 34,
     "metadata": {},
     "output_type": "execute_result"
    }
   ],
   "source": [
    "col_list = ['name']\n",
    "for i in range(max(ingredients_len)):\n",
    "    col_list.append(f'ingredient{i+1}')\n",
    "\n",
    "df_csv = pd.DataFrame(columns=col_list)\n",
    "\n",
    "df_csv.head()"
   ]
  },
  {
   "cell_type": "code",
   "execution_count": 35,
   "metadata": {},
   "outputs": [
    {
     "name": "stdout",
     "output_type": "stream",
     "text": [
      "0 2020-05-15 14:05:40.044281\n",
      "2000 2020-05-15 14:05:51.404356\n",
      "4000 2020-05-15 14:06:04.968834\n",
      "6000 2020-05-15 14:06:21.873995\n",
      "8000 2020-05-15 14:06:43.062973\n",
      "10000 2020-05-15 14:07:09.144947\n",
      "12000 2020-05-15 14:07:45.641103\n",
      "14000 2020-05-15 14:08:31.686101\n",
      "16000 2020-05-15 14:09:22.967794\n",
      "18000 2020-05-15 14:10:19.343494\n",
      "20000 2020-05-15 14:11:21.266352\n",
      "22000 2020-05-15 14:12:29.544950\n",
      "24000 2020-05-15 14:13:46.792227\n",
      "26000 2020-05-15 14:15:08.559190\n",
      "28000 2020-05-15 14:16:35.134114\n",
      "30000 2020-05-15 14:18:06.447344\n",
      "32000 2020-05-15 14:19:43.528340\n",
      "34000 2020-05-15 14:21:28.036475\n",
      "36000 2020-05-15 14:23:16.862649\n",
      "38000 2020-05-15 14:25:12.287839\n",
      "40000 2020-05-15 14:27:13.732045\n",
      "42000 2020-05-15 14:29:19.757127\n",
      "44000 2020-05-15 14:31:36.184057\n",
      "46000 2020-05-15 14:34:00.306465\n",
      "48000 2020-05-15 14:36:29.547396\n",
      "50000 2020-05-15 14:39:04.047205\n",
      "52000 2020-05-15 14:41:38.651816\n",
      "54000 2020-05-15 14:44:19.878357\n",
      "56000 2020-05-15 14:47:07.389943\n",
      "58000 2020-05-15 14:50:04.803031\n",
      "60000 2020-05-15 14:53:03.512085\n",
      "62000 2020-05-15 14:56:06.871303\n",
      "64000 2020-05-15 14:59:17.600576\n",
      "66000 2020-05-15 15:02:34.808771\n",
      "68000 2020-05-15 15:05:57.674006\n",
      "70000 2020-05-15 15:09:23.620296\n"
     ]
    }
   ],
   "source": [
    "for i in range(len(df)):\n",
    "    new_dict = {'name': df['name'][i]}\n",
    "    for j in range(len(df['ingredient_dict'][i])):\n",
    "        try:\n",
    "            new_dict[f'ingredient{j+1}'] = df['ingredient_dict'][i][f'ingredient{j+1}']\n",
    "        except:\n",
    "            continue\n",
    "    df_csv = df_csv.append(new_dict, ignore_index=True)\n",
    "    \n",
    "    if i % 2000 == 0:\n",
    "        print(i, datetime.datetime.now())"
   ]
  },
  {
   "cell_type": "code",
   "execution_count": 36,
   "metadata": {},
   "outputs": [
    {
     "data": {
      "text/html": [
       "<div>\n",
       "<style scoped>\n",
       "    .dataframe tbody tr th:only-of-type {\n",
       "        vertical-align: middle;\n",
       "    }\n",
       "\n",
       "    .dataframe tbody tr th {\n",
       "        vertical-align: top;\n",
       "    }\n",
       "\n",
       "    .dataframe thead th {\n",
       "        text-align: right;\n",
       "    }\n",
       "</style>\n",
       "<table border=\"1\" class=\"dataframe\">\n",
       "  <thead>\n",
       "    <tr style=\"text-align: right;\">\n",
       "      <th></th>\n",
       "      <th>name</th>\n",
       "      <th>ingredient1</th>\n",
       "      <th>ingredient2</th>\n",
       "      <th>ingredient3</th>\n",
       "      <th>ingredient4</th>\n",
       "      <th>ingredient5</th>\n",
       "      <th>ingredient6</th>\n",
       "      <th>ingredient7</th>\n",
       "      <th>ingredient8</th>\n",
       "      <th>ingredient9</th>\n",
       "      <th>...</th>\n",
       "      <th>ingredient21</th>\n",
       "      <th>ingredient22</th>\n",
       "      <th>ingredient23</th>\n",
       "      <th>ingredient24</th>\n",
       "      <th>ingredient25</th>\n",
       "      <th>ingredient26</th>\n",
       "      <th>ingredient27</th>\n",
       "      <th>ingredient28</th>\n",
       "      <th>ingredient29</th>\n",
       "      <th>ingredient30</th>\n",
       "    </tr>\n",
       "  </thead>\n",
       "  <tbody>\n",
       "    <tr>\n",
       "      <th>0</th>\n",
       "      <td>Death by Chocolate Mousse</td>\n",
       "      <td>[21, None, chocolate sandwich cookies, crushed]</td>\n",
       "      <td>[1/4, cup, butter, softened]</td>\n",
       "      <td>[1, cup, heavy cream]</td>\n",
       "      <td>[1, (12 ounce) package, semisweet chocolate ch...</td>\n",
       "      <td>[1, teaspoon, vanilla extract]</td>\n",
       "      <td>[1, pinch, salt]</td>\n",
       "      <td>[2, cups, heavy cream]</td>\n",
       "      <td>[1/4, cup, white sugar]</td>\n",
       "      <td>[1, cup, heavy cream, chilled]</td>\n",
       "      <td>...</td>\n",
       "      <td>NaN</td>\n",
       "      <td>NaN</td>\n",
       "      <td>NaN</td>\n",
       "      <td>NaN</td>\n",
       "      <td>NaN</td>\n",
       "      <td>NaN</td>\n",
       "      <td>NaN</td>\n",
       "      <td>NaN</td>\n",
       "      <td>NaN</td>\n",
       "      <td>NaN</td>\n",
       "    </tr>\n",
       "    <tr>\n",
       "      <th>1</th>\n",
       "      <td>Shrimp and Crabmeat Loaf</td>\n",
       "      <td>[1, (6 ounce) can, small shrimp, drained]</td>\n",
       "      <td>[1, (6 ounce) can, crabmeat, drained and flaked]</td>\n",
       "      <td>[1/2, cup, mayonnaise]</td>\n",
       "      <td>[1/4, cup thinly sliced, green onions]</td>\n",
       "      <td>[1/4, cup, diced celery]</td>\n",
       "      <td>[1, (8 ounce) package, shredded mozzarella che...</td>\n",
       "      <td>[1/8, teaspoon, salt]</td>\n",
       "      <td>[1/8, teaspoon, ground black pepper]</td>\n",
       "      <td>NaN</td>\n",
       "      <td>...</td>\n",
       "      <td>NaN</td>\n",
       "      <td>NaN</td>\n",
       "      <td>NaN</td>\n",
       "      <td>NaN</td>\n",
       "      <td>NaN</td>\n",
       "      <td>NaN</td>\n",
       "      <td>NaN</td>\n",
       "      <td>NaN</td>\n",
       "      <td>NaN</td>\n",
       "      <td>NaN</td>\n",
       "    </tr>\n",
       "    <tr>\n",
       "      <th>2</th>\n",
       "      <td>Senate Bean Soup from Idahoan®</td>\n",
       "      <td>[1, (4 ounce) package, Idahoan® Roasted Garlic...</td>\n",
       "      <td>[2, tablespoons, olive oil]</td>\n",
       "      <td>[1, None, yellow onion, chopped]</td>\n",
       "      <td>[2, stalks, celery, chopped]</td>\n",
       "      <td>[2, None, carrots, chopped]</td>\n",
       "      <td>[2, (14.5 ounce) cans, white beans, rinsed and...</td>\n",
       "      <td>[1/2, bunch, parsley, chopped]</td>\n",
       "      <td>NaN</td>\n",
       "      <td>NaN</td>\n",
       "      <td>...</td>\n",
       "      <td>NaN</td>\n",
       "      <td>NaN</td>\n",
       "      <td>NaN</td>\n",
       "      <td>NaN</td>\n",
       "      <td>NaN</td>\n",
       "      <td>NaN</td>\n",
       "      <td>NaN</td>\n",
       "      <td>NaN</td>\n",
       "      <td>NaN</td>\n",
       "      <td>NaN</td>\n",
       "    </tr>\n",
       "    <tr>\n",
       "      <th>3</th>\n",
       "      <td>Nutmeg Refrigerator Cookies</td>\n",
       "      <td>[1/2, cup, butter]</td>\n",
       "      <td>[1/3, cup, white sugar]</td>\n",
       "      <td>[2/3, cup, packed brown sugar]</td>\n",
       "      <td>[1, None, egg]</td>\n",
       "      <td>[1, teaspoon, vanilla extract]</td>\n",
       "      <td>[1 1/2, cups, all-purpose flour]</td>\n",
       "      <td>[1/4, teaspoon, cream of tartar]</td>\n",
       "      <td>[1/4, teaspoon, salt]</td>\n",
       "      <td>[1/2, teaspoon, ground nutmeg]</td>\n",
       "      <td>...</td>\n",
       "      <td>NaN</td>\n",
       "      <td>NaN</td>\n",
       "      <td>NaN</td>\n",
       "      <td>NaN</td>\n",
       "      <td>NaN</td>\n",
       "      <td>NaN</td>\n",
       "      <td>NaN</td>\n",
       "      <td>NaN</td>\n",
       "      <td>NaN</td>\n",
       "      <td>NaN</td>\n",
       "    </tr>\n",
       "    <tr>\n",
       "      <th>4</th>\n",
       "      <td>French Toast Sandwich</td>\n",
       "      <td>[2, None, eggs]</td>\n",
       "      <td>[3, tablespoons, milk]</td>\n",
       "      <td>[3, tablespoons, white sugar]</td>\n",
       "      <td>[1/2, teaspoon, vanilla extract]</td>\n",
       "      <td>[1, cup, oil for frying]</td>\n",
       "      <td>[1, cup, milk, divided]</td>\n",
       "      <td>[2, tablespoons, custard powder]</td>\n",
       "      <td>[1/2, cup, confectioners' sugar]</td>\n",
       "      <td>[1/2, cup, whipped cream]</td>\n",
       "      <td>...</td>\n",
       "      <td>NaN</td>\n",
       "      <td>NaN</td>\n",
       "      <td>NaN</td>\n",
       "      <td>NaN</td>\n",
       "      <td>NaN</td>\n",
       "      <td>NaN</td>\n",
       "      <td>NaN</td>\n",
       "      <td>NaN</td>\n",
       "      <td>NaN</td>\n",
       "      <td>NaN</td>\n",
       "    </tr>\n",
       "  </tbody>\n",
       "</table>\n",
       "<p>5 rows × 31 columns</p>\n",
       "</div>"
      ],
      "text/plain": [
       "                             name  \\\n",
       "0       Death by Chocolate Mousse   \n",
       "1        Shrimp and Crabmeat Loaf   \n",
       "2  Senate Bean Soup from Idahoan®   \n",
       "3     Nutmeg Refrigerator Cookies   \n",
       "4           French Toast Sandwich   \n",
       "\n",
       "                                         ingredient1  \\\n",
       "0    [21, None, chocolate sandwich cookies, crushed]   \n",
       "1          [1, (6 ounce) can, small shrimp, drained]   \n",
       "2  [1, (4 ounce) package, Idahoan® Roasted Garlic...   \n",
       "3                                 [1/2, cup, butter]   \n",
       "4                                    [2, None, eggs]   \n",
       "\n",
       "                                        ingredient2  \\\n",
       "0                      [1/4, cup, butter, softened]   \n",
       "1  [1, (6 ounce) can, crabmeat, drained and flaked]   \n",
       "2                       [2, tablespoons, olive oil]   \n",
       "3                           [1/3, cup, white sugar]   \n",
       "4                            [3, tablespoons, milk]   \n",
       "\n",
       "                        ingredient3  \\\n",
       "0             [1, cup, heavy cream]   \n",
       "1            [1/2, cup, mayonnaise]   \n",
       "2  [1, None, yellow onion, chopped]   \n",
       "3    [2/3, cup, packed brown sugar]   \n",
       "4     [3, tablespoons, white sugar]   \n",
       "\n",
       "                                         ingredient4  \\\n",
       "0  [1, (12 ounce) package, semisweet chocolate ch...   \n",
       "1             [1/4, cup thinly sliced, green onions]   \n",
       "2                       [2, stalks, celery, chopped]   \n",
       "3                                     [1, None, egg]   \n",
       "4                   [1/2, teaspoon, vanilla extract]   \n",
       "\n",
       "                      ingredient5  \\\n",
       "0  [1, teaspoon, vanilla extract]   \n",
       "1        [1/4, cup, diced celery]   \n",
       "2     [2, None, carrots, chopped]   \n",
       "3  [1, teaspoon, vanilla extract]   \n",
       "4        [1, cup, oil for frying]   \n",
       "\n",
       "                                         ingredient6  \\\n",
       "0                                   [1, pinch, salt]   \n",
       "1  [1, (8 ounce) package, shredded mozzarella che...   \n",
       "2  [2, (14.5 ounce) cans, white beans, rinsed and...   \n",
       "3                   [1 1/2, cups, all-purpose flour]   \n",
       "4                            [1, cup, milk, divided]   \n",
       "\n",
       "                        ingredient7                           ingredient8  \\\n",
       "0            [2, cups, heavy cream]               [1/4, cup, white sugar]   \n",
       "1             [1/8, teaspoon, salt]  [1/8, teaspoon, ground black pepper]   \n",
       "2    [1/2, bunch, parsley, chopped]                                   NaN   \n",
       "3  [1/4, teaspoon, cream of tartar]                 [1/4, teaspoon, salt]   \n",
       "4  [2, tablespoons, custard powder]      [1/2, cup, confectioners' sugar]   \n",
       "\n",
       "                      ingredient9  ... ingredient21 ingredient22 ingredient23  \\\n",
       "0  [1, cup, heavy cream, chilled]  ...          NaN          NaN          NaN   \n",
       "1                             NaN  ...          NaN          NaN          NaN   \n",
       "2                             NaN  ...          NaN          NaN          NaN   \n",
       "3  [1/2, teaspoon, ground nutmeg]  ...          NaN          NaN          NaN   \n",
       "4       [1/2, cup, whipped cream]  ...          NaN          NaN          NaN   \n",
       "\n",
       "  ingredient24 ingredient25 ingredient26 ingredient27 ingredient28  \\\n",
       "0          NaN          NaN          NaN          NaN          NaN   \n",
       "1          NaN          NaN          NaN          NaN          NaN   \n",
       "2          NaN          NaN          NaN          NaN          NaN   \n",
       "3          NaN          NaN          NaN          NaN          NaN   \n",
       "4          NaN          NaN          NaN          NaN          NaN   \n",
       "\n",
       "  ingredient29 ingredient30  \n",
       "0          NaN          NaN  \n",
       "1          NaN          NaN  \n",
       "2          NaN          NaN  \n",
       "3          NaN          NaN  \n",
       "4          NaN          NaN  \n",
       "\n",
       "[5 rows x 31 columns]"
      ]
     },
     "execution_count": 36,
     "metadata": {},
     "output_type": "execute_result"
    }
   ],
   "source": [
    "df_csv.head()"
   ]
  },
  {
   "cell_type": "code",
   "execution_count": 37,
   "metadata": {},
   "outputs": [
    {
     "data": {
      "text/plain": [
       "str"
      ]
     },
     "execution_count": 37,
     "metadata": {},
     "output_type": "execute_result"
    }
   ],
   "source": [
    "type(df_csv['name'][0])"
   ]
  },
  {
   "cell_type": "markdown",
   "metadata": {},
   "source": [
    "### Save to CSV"
   ]
  },
  {
   "cell_type": "code",
   "execution_count": 38,
   "metadata": {},
   "outputs": [],
   "source": [
    "df_csv.to_csv('recipes_table_v2.csv', index=False, na_rep='')"
   ]
  },
  {
   "cell_type": "code",
   "execution_count": 39,
   "metadata": {},
   "outputs": [
    {
     "name": "stdout",
     "output_type": "stream",
     "text": [
      "<class 'pandas.core.frame.DataFrame'>\n",
      "RangeIndex: 70881 entries, 0 to 70880\n",
      "Data columns (total 31 columns):\n",
      " #   Column        Non-Null Count  Dtype \n",
      "---  ------        --------------  ----- \n",
      " 0   name          70881 non-null  object\n",
      " 1   ingredient1   67286 non-null  object\n",
      " 2   ingredient2   67835 non-null  object\n",
      " 3   ingredient3   65070 non-null  object\n",
      " 4   ingredient4   60441 non-null  object\n",
      " 5   ingredient5   53979 non-null  object\n",
      " 6   ingredient6   46660 non-null  object\n",
      " 7   ingredient7   39072 non-null  object\n",
      " 8   ingredient8   31828 non-null  object\n",
      " 9   ingredient9   24985 non-null  object\n",
      " 10  ingredient10  18892 non-null  object\n",
      " 11  ingredient11  13849 non-null  object\n",
      " 12  ingredient12  9875 non-null   object\n",
      " 13  ingredient13  6884 non-null   object\n",
      " 14  ingredient14  4750 non-null   object\n",
      " 15  ingredient15  3180 non-null   object\n",
      " 16  ingredient16  2103 non-null   object\n",
      " 17  ingredient17  1354 non-null   object\n",
      " 18  ingredient18  857 non-null    object\n",
      " 19  ingredient19  524 non-null    object\n",
      " 20  ingredient20  343 non-null    object\n",
      " 21  ingredient21  215 non-null    object\n",
      " 22  ingredient22  137 non-null    object\n",
      " 23  ingredient23  74 non-null     object\n",
      " 24  ingredient24  50 non-null     object\n",
      " 25  ingredient25  27 non-null     object\n",
      " 26  ingredient26  17 non-null     object\n",
      " 27  ingredient27  14 non-null     object\n",
      " 28  ingredient28  5 non-null      object\n",
      " 29  ingredient29  3 non-null      object\n",
      " 30  ingredient30  1 non-null      object\n",
      "dtypes: object(31)\n",
      "memory usage: 16.8+ MB\n"
     ]
    }
   ],
   "source": [
    "df_csv.info()"
   ]
  },
  {
   "cell_type": "markdown",
   "metadata": {},
   "source": [
    "# Now I need a new way of retrieving the appropriate ingredients"
   ]
  },
  {
   "cell_type": "code",
   "execution_count": 40,
   "metadata": {},
   "outputs": [
    {
     "data": {
      "text/plain": [
       "name                                    Death by Chocolate Mousse\n",
       "ingredient1       [21, None, chocolate sandwich cookies, crushed]\n",
       "ingredient2                          [1/4, cup, butter, softened]\n",
       "ingredient3                                 [1, cup, heavy cream]\n",
       "ingredient4     [1, (12 ounce) package, semisweet chocolate ch...\n",
       "ingredient5                        [1, teaspoon, vanilla extract]\n",
       "ingredient6                                      [1, pinch, salt]\n",
       "ingredient7                                [2, cups, heavy cream]\n",
       "ingredient8                               [1/4, cup, white sugar]\n",
       "ingredient9                        [1, cup, heavy cream, chilled]\n",
       "ingredient10                              [1/4, cup, white sugar]\n",
       "ingredient11                                                  NaN\n",
       "ingredient12                                                  NaN\n",
       "ingredient13                                                  NaN\n",
       "ingredient14                                                  NaN\n",
       "ingredient15                                                  NaN\n",
       "ingredient16                                                  NaN\n",
       "ingredient17                                                  NaN\n",
       "ingredient18                                                  NaN\n",
       "ingredient19                                                  NaN\n",
       "ingredient20                                                  NaN\n",
       "ingredient21                                                  NaN\n",
       "ingredient22                                                  NaN\n",
       "ingredient23                                                  NaN\n",
       "ingredient24                                                  NaN\n",
       "ingredient25                                                  NaN\n",
       "ingredient26                                                  NaN\n",
       "ingredient27                                                  NaN\n",
       "ingredient28                                                  NaN\n",
       "ingredient29                                                  NaN\n",
       "ingredient30                                                  NaN\n",
       "Name: 0, dtype: object"
      ]
     },
     "execution_count": 40,
     "metadata": {},
     "output_type": "execute_result"
    }
   ],
   "source": [
    "df_csv.iloc[0]"
   ]
  },
  {
   "cell_type": "code",
   "execution_count": 41,
   "metadata": {},
   "outputs": [
    {
     "data": {
      "text/plain": [
       "name             True\n",
       "ingredient1      True\n",
       "ingredient2      True\n",
       "ingredient3      True\n",
       "ingredient4      True\n",
       "ingredient5      True\n",
       "ingredient6      True\n",
       "ingredient7      True\n",
       "ingredient8      True\n",
       "ingredient9      True\n",
       "ingredient10     True\n",
       "ingredient11    False\n",
       "ingredient12    False\n",
       "ingredient13    False\n",
       "ingredient14    False\n",
       "ingredient15    False\n",
       "ingredient16    False\n",
       "ingredient17    False\n",
       "ingredient18    False\n",
       "ingredient19    False\n",
       "ingredient20    False\n",
       "ingredient21    False\n",
       "ingredient22    False\n",
       "ingredient23    False\n",
       "ingredient24    False\n",
       "ingredient25    False\n",
       "ingredient26    False\n",
       "ingredient27    False\n",
       "ingredient28    False\n",
       "ingredient29    False\n",
       "ingredient30    False\n",
       "Name: 0, dtype: bool"
      ]
     },
     "execution_count": 41,
     "metadata": {},
     "output_type": "execute_result"
    }
   ],
   "source": [
    "pd.notnull(df_csv.iloc[0])"
   ]
  },
  {
   "cell_type": "code",
   "execution_count": 42,
   "metadata": {},
   "outputs": [
    {
     "data": {
      "text/plain": [
       "True"
      ]
     },
     "execution_count": 42,
     "metadata": {},
     "output_type": "execute_result"
    }
   ],
   "source": [
    "pd.notnull(df_csv.iloc[0])[1]"
   ]
  },
  {
   "cell_type": "code",
   "execution_count": 43,
   "metadata": {},
   "outputs": [
    {
     "data": {
      "text/plain": [
       "'ingredient1'"
      ]
     },
     "execution_count": 43,
     "metadata": {},
     "output_type": "execute_result"
    }
   ],
   "source": [
    "df_csv.columns[1]"
   ]
  },
  {
   "cell_type": "code",
   "execution_count": 44,
   "metadata": {},
   "outputs": [
    {
     "data": {
      "text/plain": [
       "['21', None, 'chocolate sandwich cookies, crushed']"
      ]
     },
     "execution_count": 44,
     "metadata": {},
     "output_type": "execute_result"
    }
   ],
   "source": [
    "df_csv.iloc[0][1]"
   ]
  },
  {
   "cell_type": "code",
   "execution_count": 45,
   "metadata": {},
   "outputs": [
    {
     "data": {
      "text/plain": [
       "{'ingredient1': ['21', None, 'chocolate sandwich cookies, crushed'],\n",
       " 'ingredient2': ['1/4', 'cup', 'butter, softened'],\n",
       " 'ingredient3': ['1', 'cup', 'heavy cream'],\n",
       " 'ingredient4': ['1', '(12 ounce) package', 'semisweet chocolate chips'],\n",
       " 'ingredient5': ['1', 'teaspoon', 'vanilla extract'],\n",
       " 'ingredient6': ['1', 'pinch', 'salt'],\n",
       " 'ingredient7': ['2', 'cups', 'heavy cream'],\n",
       " 'ingredient8': ['1/4', 'cup', 'white sugar'],\n",
       " 'ingredient9': ['1', 'cup', 'heavy cream, chilled'],\n",
       " 'ingredient10': ['1/4', 'cup', 'white sugar']}"
      ]
     },
     "execution_count": 45,
     "metadata": {},
     "output_type": "execute_result"
    }
   ],
   "source": [
    "# I can make a dictionary for the ingredients, but then what?\n",
    "ingredient_dict = {}\n",
    "for i in range(1, len(df_csv.iloc[0])):\n",
    "    if pd.notnull(df_csv.iloc[0])[i]:\n",
    "        ingredient_dict[df_csv.columns[i]] = df_csv.iloc[0][i]\n",
    "        '''\n",
    "        Instead of creating a dictionary here to store the ingredients for each returned recipe\n",
    "        the ingredient counting could happen which would free up some processing and move more\n",
    "        quickly through the whole loop.\n",
    "        '''\n",
    "\n",
    "ingredient_dict"
   ]
  },
  {
   "cell_type": "code",
   "execution_count": 46,
   "metadata": {},
   "outputs": [
    {
     "data": {
      "text/html": [
       "<div>\n",
       "<style scoped>\n",
       "    .dataframe tbody tr th:only-of-type {\n",
       "        vertical-align: middle;\n",
       "    }\n",
       "\n",
       "    .dataframe tbody tr th {\n",
       "        vertical-align: top;\n",
       "    }\n",
       "\n",
       "    .dataframe thead th {\n",
       "        text-align: right;\n",
       "    }\n",
       "</style>\n",
       "<table border=\"1\" class=\"dataframe\">\n",
       "  <thead>\n",
       "    <tr style=\"text-align: right;\">\n",
       "      <th></th>\n",
       "      <th>ingredients</th>\n",
       "    </tr>\n",
       "  </thead>\n",
       "  <tbody>\n",
       "  </tbody>\n",
       "</table>\n",
       "</div>"
      ],
      "text/plain": [
       "Empty DataFrame\n",
       "Columns: [ingredients]\n",
       "Index: []"
      ]
     },
     "execution_count": 46,
     "metadata": {},
     "output_type": "execute_result"
    }
   ],
   "source": [
    "# Make a df to store results\n",
    "results_df = pd.DataFrame(columns=['ingredients'])\n",
    "results_df"
   ]
  },
  {
   "cell_type": "code",
   "execution_count": 47,
   "metadata": {},
   "outputs": [
    {
     "data": {
      "text/html": [
       "<div>\n",
       "<style scoped>\n",
       "    .dataframe tbody tr th:only-of-type {\n",
       "        vertical-align: middle;\n",
       "    }\n",
       "\n",
       "    .dataframe tbody tr th {\n",
       "        vertical-align: top;\n",
       "    }\n",
       "\n",
       "    .dataframe thead th {\n",
       "        text-align: right;\n",
       "    }\n",
       "</style>\n",
       "<table border=\"1\" class=\"dataframe\">\n",
       "  <thead>\n",
       "    <tr style=\"text-align: right;\">\n",
       "      <th></th>\n",
       "      <th>ingredients</th>\n",
       "    </tr>\n",
       "  </thead>\n",
       "  <tbody>\n",
       "    <tr>\n",
       "      <th>0</th>\n",
       "      <td>{'ingredient1': ['21', None, 'chocolate sandwi...</td>\n",
       "    </tr>\n",
       "  </tbody>\n",
       "</table>\n",
       "</div>"
      ],
      "text/plain": [
       "                                         ingredients\n",
       "0  {'ingredient1': ['21', None, 'chocolate sandwi..."
      ]
     },
     "execution_count": 47,
     "metadata": {},
     "output_type": "execute_result"
    }
   ],
   "source": [
    "# Add the ingredient_dict to this new df\n",
    "results_df = results_df.append({'ingredients' :ingredient_dict}, ignore_index=True)\n",
    "results_df"
   ]
  },
  {
   "cell_type": "code",
   "execution_count": 48,
   "metadata": {},
   "outputs": [
    {
     "data": {
      "text/plain": [
       "{'ingredient1': ['21', None, 'chocolate sandwich cookies, crushed'],\n",
       " 'ingredient2': ['1/4', 'cup', 'butter, softened'],\n",
       " 'ingredient3': ['1', 'cup', 'heavy cream'],\n",
       " 'ingredient4': ['1', '(12 ounce) package', 'semisweet chocolate chips'],\n",
       " 'ingredient5': ['1', 'teaspoon', 'vanilla extract'],\n",
       " 'ingredient6': ['1', 'pinch', 'salt'],\n",
       " 'ingredient7': ['2', 'cups', 'heavy cream'],\n",
       " 'ingredient8': ['1/4', 'cup', 'white sugar'],\n",
       " 'ingredient9': ['1', 'cup', 'heavy cream, chilled'],\n",
       " 'ingredient10': ['1/4', 'cup', 'white sugar']}"
      ]
     },
     "execution_count": 48,
     "metadata": {},
     "output_type": "execute_result"
    }
   ],
   "source": [
    "results_df['ingredients'][0]"
   ]
  },
  {
   "cell_type": "markdown",
   "metadata": {},
   "source": [
    "### This appears to work and will make it so much of the code below will be useable with minor modifications. It's only a matter of working out the query for the words entered and matching those with recipe names in the database."
   ]
  },
  {
   "cell_type": "code",
   "execution_count": null,
   "metadata": {},
   "outputs": [],
   "source": [
    "##################################################################################################################################\n",
    "# To use for this error: InFailedSqlTransaction: current transaction is aborted, commands ignored until end of transaction block #\n",
    "##################################################################################################################################\n",
    "\n",
    "# cursor = conn.cursor()\n",
    "\n",
    "# cursor.execute(\"\"\"rollback;\n",
    "# \"\"\")\n",
    "\n",
    "# cursor.close()"
   ]
  },
  {
   "cell_type": "code",
   "execution_count": null,
   "metadata": {},
   "outputs": [],
   "source": []
  },
  {
   "cell_type": "code",
   "execution_count": 50,
   "metadata": {},
   "outputs": [],
   "source": [
    "%%capture\n",
    "pip install psycopg2"
   ]
  },
  {
   "cell_type": "code",
   "execution_count": 51,
   "metadata": {},
   "outputs": [],
   "source": [
    "# Connect to database.\n",
    "\n",
    "import os\n",
    "import psycopg2\n",
    "\n",
    "conn = psycopg2.connect(database ='postgres', user = 'postgres', password = 'tz6MTgxObUZ62MNv0xgp', host = 'mydishdb-dev.c3und8sjo4p2.us-east-2.rds.amazonaws.com', port = '5432')"
   ]
  },
  {
   "cell_type": "code",
   "execution_count": 52,
   "metadata": {},
   "outputs": [],
   "source": [
    "# String comes in from frontend. Split the string into words. \n",
    "\n",
    "string = 'chicken noodle soup'\n",
    "split_words = string.split()"
   ]
  },
  {
   "cell_type": "code",
   "execution_count": 53,
   "metadata": {},
   "outputs": [
    {
     "data": {
      "text/plain": [
       "('Death by Chocolate Mousse',)"
      ]
     },
     "execution_count": 53,
     "metadata": {},
     "output_type": "execute_result"
    }
   ],
   "source": [
    "cursor = conn.cursor()\n",
    "\n",
    "command = \"\"\"SELECT name \n",
    "                FROM recipes \n",
    ";\n",
    "          \"\"\"\n",
    "\n",
    "cursor.execute(command)\n",
    "\n",
    "name_table = cursor.fetchall()\n",
    "\n",
    "cursor.close()\n",
    "\n",
    "name_table[0]"
   ]
  },
  {
   "cell_type": "code",
   "execution_count": 54,
   "metadata": {},
   "outputs": [
    {
     "data": {
      "text/plain": [
       "(0, 'Death by Chocolate Mousse')"
      ]
     },
     "execution_count": 54,
     "metadata": {},
     "output_type": "execute_result"
    }
   ],
   "source": [
    "cursor = conn.cursor()\n",
    "\n",
    "command = \"\"\"SELECT index, name \n",
    "                FROM recipes \n",
    ";\n",
    "          \"\"\"\n",
    "\n",
    "cursor.execute(command)\n",
    "\n",
    "test_table = cursor.fetchall()\n",
    "\n",
    "cursor.close()\n",
    "\n",
    "test_table[0]"
   ]
  },
  {
   "cell_type": "code",
   "execution_count": 55,
   "metadata": {},
   "outputs": [
    {
     "data": {
      "text/plain": [
       "[(0, 'Death by Chocolate Mousse'),\n",
       " (2, 'Senate Bean Soup from Idahoan®'),\n",
       " (8, \"Emily's Famous Sloppy Joes\")]"
      ]
     },
     "execution_count": 55,
     "metadata": {},
     "output_type": "execute_result"
    }
   ],
   "source": [
    "cursor = conn.cursor()\n",
    "\n",
    "command = \"\"\"SELECT index, name \n",
    "                FROM recipes\n",
    "                WHERE index in (0, 2, 8)\n",
    ";\n",
    "          \"\"\"\n",
    "\n",
    "cursor.execute(command)\n",
    "\n",
    "test = cursor.fetchall()\n",
    "\n",
    "cursor.close()\n",
    "\n",
    "test"
   ]
  },
  {
   "cell_type": "code",
   "execution_count": 56,
   "metadata": {},
   "outputs": [
    {
     "data": {
      "text/plain": [
       "'Death by Chocolate Mousse'"
      ]
     },
     "execution_count": 56,
     "metadata": {},
     "output_type": "execute_result"
    }
   ],
   "source": [
    "test[0][1]"
   ]
  },
  {
   "cell_type": "code",
   "execution_count": 57,
   "metadata": {},
   "outputs": [
    {
     "data": {
      "text/plain": [
       "str"
      ]
     },
     "execution_count": 57,
     "metadata": {},
     "output_type": "execute_result"
    }
   ],
   "source": [
    "type(test[0][1])"
   ]
  },
  {
   "cell_type": "code",
   "execution_count": 60,
   "metadata": {},
   "outputs": [
    {
     "data": {
      "text/plain": [
       "[('Gluten Free Chicken Noodle Soup',),\n",
       " ('Lemon Ginger Chicken Noodle Soup',),\n",
       " ('One-Step Chicken Noodle Soup',),\n",
       " (\"Chef John's Homemade Chicken Noodle Soup\",),\n",
       " ('Creamy Buffalo Chicken Noodle Soup',),\n",
       " ('Faux-kin Noodle Soup (Vegan Chicken Noodle Soup)',),\n",
       " ('Quick and Easy Chicken Noodle Soup',),\n",
       " ('NO YOLKS Chicken Noodle Soup',),\n",
       " ('Slow Cooker Chicken Noodle Soup',),\n",
       " ('Super Easy Chicken Noodle Soup',),\n",
       " ('Comforting Chicken Noodle Soup',),\n",
       " ('Never-Fail Chicken Noodle Soup',),\n",
       " ('Thai Chicken Noodle Soup',),\n",
       " ('Asian-Style Chicken Noodle Soup',),\n",
       " ('Home Made Chicken Noodle Soup!',),\n",
       " (\"Mom Moak's Chicken Noodle Soup\",),\n",
       " ('Grilled Chicken Noodle Soup',),\n",
       " ('Italian-Style Chicken Noodle Soup',),\n",
       " ('Thai Coconut Chicken Soup (Noodle Bowl)',),\n",
       " ('Instant Pot Lentil Chicken Noodle Soup',),\n",
       " ('Chicken Udon Noodle Soup',),\n",
       " ('Slow Cooker Chicken Vegetable Soup with Egg Noodles',),\n",
       " ('Sensational Chicken Noodle Soup',),\n",
       " ('Chicken Noodle Soup with Egg Noodles',),\n",
       " ('Hearty Panamanian-Style Chicken Noodle Soup (Sancocho)',),\n",
       " (\"Grandma's Chicken Noodle Soup\",),\n",
       " ('The Ultimate Chicken Noodle Soup',),\n",
       " (\"Suzanne's Instant Pot Creamy Chicken Noodle Soup\",),\n",
       " ('Chunky Chicken Noodle Soup',),\n",
       " ('Spicy Chicken Thai Noodle Soup',),\n",
       " (\"Angela's Asian-Inspired Chicken Noodle Soup\",),\n",
       " ('Easy Slow Cooker Chicken Noodle Soup',),\n",
       " ('Easy, Spicy Chicken Ramen Noodle Soup',),\n",
       " ('Cold-Busting Ginger Chicken Noodle Soup',),\n",
       " ('Asian Chicken Noodle Soup',),\n",
       " ('Creamy Chicken Egg Noodle Soup',),\n",
       " ('Rosemary Chicken Noodle Soup',),\n",
       " ('Chicken Noodle Soup',),\n",
       " ('Rotisserie Chicken Noodle Soup',),\n",
       " ('Chicken Noodle Soup II',),\n",
       " ('Spicy Chicken Noodle Soup',),\n",
       " ('Chicken Noodle Soup III',),\n",
       " ('Curried Lemongrass Chicken Noodle Soup',),\n",
       " ('Awesome Chicken Noodle Soup',),\n",
       " ('Coconut Curry Chicken Noodle Soup',),\n",
       " ('Chicken Noodle Soup I',),\n",
       " ('Ramen Chicken Noodle Soup',),\n",
       " ('Homemade Chicken Noodle Soup',),\n",
       " ('Chicken Soup with Drop-In Noodles',),\n",
       " (\"Grandma's Chicken Soup with Homemade Noodles\",),\n",
       " (\"Steve's Chicken Noodle Soup\",),\n",
       " (\"Jean's Homemade Chicken Noodle Soup\",),\n",
       " ('Instant Pot Coconut Cream Chicken Noodle Soup',),\n",
       " (\"Bapa's Chicken Noodle Soup\",),\n",
       " ('Quick and Easy Instant Pot Chicken Noodle Soup',)]"
      ]
     },
     "execution_count": 60,
     "metadata": {},
     "output_type": "execute_result"
    }
   ],
   "source": [
    "# Then query the recipe database to get recipe names that have matching words.\n",
    "\n",
    "cursor = conn.cursor()\n",
    "\n",
    "command = \"\"\"SELECT name \n",
    "                FROM recipes \n",
    "                WHERE name ILIKE '%chicken%' AND\n",
    "                    name ILIKE '%noodle%' AND\n",
    "                    name ILIKE '%soup%'\n",
    "          ;\"\"\"\n",
    "\n",
    "cursor.execute(command)\n",
    "\n",
    "table = cursor.fetchall()\n",
    "\n",
    "cursor.close()\n",
    "\n",
    "table\n"
   ]
  },
  {
   "cell_type": "code",
   "execution_count": 61,
   "metadata": {},
   "outputs": [
    {
     "data": {
      "text/plain": [
       "(2722,\n",
       " 'Gluten Free Chicken Noodle Soup',\n",
       " \"['4', 'tablespoons', 'extra-virgin olive oil']\",\n",
       " \"['1', None, 'large yellow onion, chopped']\",\n",
       " \"['1/2', 'cup', 'white wine']\",\n",
       " \"['2', '(10 ounce) bags', 'baby spinach']\",\n",
       " \"['1/2', 'pint', 'cherry tomatoes, quartered']\",\n",
       " \"['1/4', 'teaspoon', 'red pepper flakes']\",\n",
       " \"['1/2', 'teaspoon', 'black pepper']\",\n",
       " None,\n",
       " None,\n",
       " None,\n",
       " None,\n",
       " None,\n",
       " None,\n",
       " None,\n",
       " None,\n",
       " None,\n",
       " None,\n",
       " None,\n",
       " None,\n",
       " None,\n",
       " None,\n",
       " None,\n",
       " None,\n",
       " None,\n",
       " None,\n",
       " None,\n",
       " None,\n",
       " None,\n",
       " None,\n",
       " None)"
      ]
     },
     "execution_count": 61,
     "metadata": {},
     "output_type": "execute_result"
    }
   ],
   "source": [
    "cursor = conn.cursor()\n",
    "\n",
    "command = \"\"\"SELECT * \n",
    "                FROM recipes \n",
    "                WHERE name ILIKE '%chicken%' AND\n",
    "                    name ILIKE '%noodle%' AND\n",
    "                    name ILIKE '%soup%'\n",
    "          ;\"\"\"\n",
    "\n",
    "cursor.execute(command)\n",
    "\n",
    "recipe_table = cursor.fetchall()\n",
    "\n",
    "cursor.close()\n",
    "\n",
    "recipe_table[0]\n"
   ]
  },
  {
   "cell_type": "code",
   "execution_count": 62,
   "metadata": {},
   "outputs": [
    {
     "data": {
      "text/plain": [
       "list"
      ]
     },
     "execution_count": 62,
     "metadata": {},
     "output_type": "execute_result"
    }
   ],
   "source": [
    "type(recipe_table)"
   ]
  },
  {
   "cell_type": "code",
   "execution_count": 63,
   "metadata": {},
   "outputs": [
    {
     "data": {
      "text/plain": [
       "tuple"
      ]
     },
     "execution_count": 63,
     "metadata": {},
     "output_type": "execute_result"
    }
   ],
   "source": [
    "type(recipe_table[0])"
   ]
  },
  {
   "cell_type": "code",
   "execution_count": 64,
   "metadata": {},
   "outputs": [
    {
     "data": {
      "text/plain": [
       "32"
      ]
     },
     "execution_count": 64,
     "metadata": {},
     "output_type": "execute_result"
    }
   ],
   "source": [
    "len(recipe_table[0])"
   ]
  },
  {
   "cell_type": "code",
   "execution_count": 65,
   "metadata": {},
   "outputs": [
    {
     "data": {
      "text/plain": [
       "55"
      ]
     },
     "execution_count": 65,
     "metadata": {},
     "output_type": "execute_result"
    }
   ],
   "source": [
    "len(recipe_table)"
   ]
  },
  {
   "cell_type": "code",
   "execution_count": 66,
   "metadata": {},
   "outputs": [
    {
     "name": "stdout",
     "output_type": "stream",
     "text": [
      "0 Gluten Free Chicken Noodle Soup\n",
      "1 Lemon Ginger Chicken Noodle Soup\n",
      "2 One-Step Chicken Noodle Soup\n",
      "3 Chef John's Homemade Chicken Noodle Soup\n",
      "4 Creamy Buffalo Chicken Noodle Soup\n",
      "5 Faux-kin Noodle Soup (Vegan Chicken Noodle Soup)\n",
      "6 Quick and Easy Chicken Noodle Soup\n",
      "7 NO YOLKS Chicken Noodle Soup\n",
      "8 Slow Cooker Chicken Noodle Soup\n",
      "9 Super Easy Chicken Noodle Soup\n",
      "10 Comforting Chicken Noodle Soup\n",
      "11 Never-Fail Chicken Noodle Soup\n",
      "12 Thai Chicken Noodle Soup\n",
      "13 Asian-Style Chicken Noodle Soup\n",
      "14 Home Made Chicken Noodle Soup!\n",
      "15 Mom Moak's Chicken Noodle Soup\n",
      "16 Grilled Chicken Noodle Soup\n",
      "17 Italian-Style Chicken Noodle Soup\n",
      "18 Thai Coconut Chicken Soup (Noodle Bowl)\n",
      "19 Instant Pot Lentil Chicken Noodle Soup\n",
      "20 Chicken Udon Noodle Soup\n",
      "21 Slow Cooker Chicken Vegetable Soup with Egg Noodles\n",
      "22 Sensational Chicken Noodle Soup\n",
      "23 Chicken Noodle Soup with Egg Noodles\n",
      "24 Hearty Panamanian-Style Chicken Noodle Soup (Sancocho)\n",
      "25 Grandma's Chicken Noodle Soup\n",
      "26 The Ultimate Chicken Noodle Soup\n",
      "27 Suzanne's Instant Pot Creamy Chicken Noodle Soup\n",
      "28 Chunky Chicken Noodle Soup\n",
      "29 Spicy Chicken Thai Noodle Soup\n",
      "30 Angela's Asian-Inspired Chicken Noodle Soup\n",
      "31 Easy Slow Cooker Chicken Noodle Soup\n",
      "32 Easy, Spicy Chicken Ramen Noodle Soup\n",
      "33 Cold-Busting Ginger Chicken Noodle Soup\n",
      "34 Asian Chicken Noodle Soup\n",
      "35 Creamy Chicken Egg Noodle Soup\n",
      "36 Rosemary Chicken Noodle Soup\n",
      "37 Chicken Noodle Soup\n",
      "38 Rotisserie Chicken Noodle Soup\n",
      "39 Chicken Noodle Soup II\n",
      "40 Spicy Chicken Noodle Soup\n",
      "41 Chicken Noodle Soup III\n",
      "42 Curried Lemongrass Chicken Noodle Soup\n",
      "43 Awesome Chicken Noodle Soup\n",
      "44 Coconut Curry Chicken Noodle Soup\n",
      "45 Chicken Noodle Soup I\n",
      "46 Ramen Chicken Noodle Soup\n",
      "47 Homemade Chicken Noodle Soup\n",
      "48 Chicken Soup with Drop-In Noodles\n",
      "49 Grandma's Chicken Soup with Homemade Noodles\n",
      "50 Steve's Chicken Noodle Soup\n",
      "51 Jean's Homemade Chicken Noodle Soup\n",
      "52 Instant Pot Coconut Cream Chicken Noodle Soup\n",
      "53 Bapa's Chicken Noodle Soup\n",
      "54 Quick and Easy Instant Pot Chicken Noodle Soup\n"
     ]
    }
   ],
   "source": [
    "for i in range(len(recipe_table)):\n",
    "    print(i, recipe_table[i][1])"
   ]
  },
  {
   "cell_type": "code",
   "execution_count": 67,
   "metadata": {},
   "outputs": [
    {
     "data": {
      "text/plain": [
       "['4', 'tablespoons', 'extra-virgin olive oil']"
      ]
     },
     "execution_count": 67,
     "metadata": {},
     "output_type": "execute_result"
    }
   ],
   "source": [
    "string_to_list(recipe_table[0][2])"
   ]
  },
  {
   "cell_type": "code",
   "execution_count": 68,
   "metadata": {},
   "outputs": [
    {
     "data": {
      "text/plain": [
       "'extra-virgin olive oil'"
      ]
     },
     "execution_count": 68,
     "metadata": {},
     "output_type": "execute_result"
    }
   ],
   "source": [
    "string_to_list(recipe_table[0][2])[2]"
   ]
  },
  {
   "cell_type": "code",
   "execution_count": 69,
   "metadata": {},
   "outputs": [
    {
     "data": {
      "text/plain": [
       "Counter({'extra-virgin olive oil': 1,\n",
       "         'large yellow onion, chopped': 1,\n",
       "         'white wine': 3,\n",
       "         'baby spinach': 1,\n",
       "         'cherry tomatoes, quartered': 1,\n",
       "         'red pepper flakes': 1,\n",
       "         'black pepper': 2,\n",
       "         'olive oil': 6,\n",
       "         'd': 27,\n",
       "         'medium onion, chopped': 4,\n",
       "         'minced fresh ginger root': 3,\n",
       "         'cloves garlic, minced': 7,\n",
       "         'shredded cooked chicken': 3,\n",
       "         'lemon juice': 2,\n",
       "         'chopped fresh parsley': 4,\n",
       "         'frozen peas (optional)': 1,\n",
       "         'ketchup': 1,\n",
       "         'butter': 7,\n",
       "         'diced carrot': 1,\n",
       "         'diced onion': 2,\n",
       "         'diced celery': 3,\n",
       "         'salt': 12,\n",
       "         'cayenne pepper (optional)': 1,\n",
       "         'salt and ground black pepper to taste': 1,\n",
       "         'extra-wide egg noodles': 1,\n",
       "         'celery, chopped': 5,\n",
       "         'carrots, peeled and chopped': 1,\n",
       "         'clove garlic, chopped': 1,\n",
       "         'flour': 1,\n",
       "         ') carton Swanson&reg; Chicken Broth': 2,\n",
       "         'hot pepper sauce': 1,\n",
       "         'dried parsley flakes': 2,\n",
       "         'half-and-half': 1,\n",
       "         'chopped carrots': 4,\n",
       "         'chopped celery': 8,\n",
       "         'yellow onion, chopped': 2,\n",
       "         'leek, chopped': 1,\n",
       "         'shallot, diced': 1,\n",
       "         'vegetable broth': 3,\n",
       "         'parsley': 1,\n",
       "         '': 19,\n",
       "         'dried thyme': 4,\n",
       "         'chopped onion': 6,\n",
       "         'chicken broth': 20,\n",
       "         'egg noodles': 14,\n",
       "         'd carrots': 4,\n",
       "         'dried basil': 4,\n",
       "         'dried oregano': 4,\n",
       "         'NO YOLKS&reg; Extra Broad Noodles': 1,\n",
       "         'vegetable oil': 9,\n",
       "         'cloves garlic, chopped': 3,\n",
       "         'onion, chopped': 7,\n",
       "         'fresh thyme': 2,\n",
       "         'skinless, boneless chicken breast halves': 1,\n",
       "         'water': 17,\n",
       "         'carrot, chopped': 1,\n",
       "         'green onion, chopped': 1,\n",
       "         'chicken bouillon': 6,\n",
       "         'dried parsley': 4,\n",
       "         'seasoned salt': 2,\n",
       "         'salt, or to taste': 3,\n",
       "         'ground black pepper': 9,\n",
       "         'whole black peppercorns': 4,\n",
       "         'all-purpose flour': 5,\n",
       "         'eggs, beaten': 1,\n",
       "         'milk, or as needed': 1,\n",
       "         'finely chopped fresh ginger': 1,\n",
       "         'd celery': 1,\n",
       "         'cornstarch': 2,\n",
       "         'cold water': 1,\n",
       "         'large whole onion': 1,\n",
       "         'fresh rosemary': 2,\n",
       "         'clove garlic, minced': 4,\n",
       "         'sea salt': 1,\n",
       "         'fresh spinach, chopped': 1,\n",
       "         'carrots, shredded': 1,\n",
       "         'onion, diced': 1,\n",
       "         'red bell pepper, diced': 2,\n",
       "         'coconut milk': 3,\n",
       "         'red curry paste': 1,\n",
       "         'fish sauce': 1,\n",
       "         'soy sauce': 3,\n",
       "         'Chinese five-spice powder': 1,\n",
       "         'garlic powder': 2,\n",
       "         'onion powder': 1,\n",
       "         'carrots, diced': 1,\n",
       "         'celery, diced': 4,\n",
       "         'red bell pepper, chopped': 2,\n",
       "         'dry white wine': 1,\n",
       "         'sesame oil': 2,\n",
       "         'ground black pepper, or to taste': 2,\n",
       "         'cayenne pepper, or to taste': 1,\n",
       "         'whole chicken': 1,\n",
       "         'poultry seasoning': 2,\n",
       "         'evaporated milk': 1,\n",
       "         'frozen green peas': 1,\n",
       "         'red onion, chopped': 1,\n",
       "         'uncooked egg noodles': 1,\n",
       "         'diced tomatoes, undrained': 2,\n",
       "         'basil pesto': 1,\n",
       "         'grated Parmesan cheese': 2,\n",
       "         'dried Thai rice noodles': 1,\n",
       "         'lemongrass': 1,\n",
       "         'd cremini mushrooms': 1,\n",
       "         'fresh red chile pepper, minced, or more to taste': 1,\n",
       "         'grated ginger': 2,\n",
       "         'fish sauce (optional)': 1,\n",
       "         'minced garlic': 2,\n",
       "         'lime juice': 1,\n",
       "         'white sugar, or to taste (optional)': 1,\n",
       "         'lime, cut into wedges': 1,\n",
       "         'lentils': 1,\n",
       "         'paprika': 2,\n",
       "         'dried dill': 1,\n",
       "         'thyme': 2,\n",
       "         'chili powder': 1,\n",
       "         'bok choy, chopped': 1,\n",
       "         'dried shiitake mushrooms': 1,\n",
       "         'mung bean sprouts': 1,\n",
       "         'd diagonally': 2,\n",
       "         'dried minced onion': 1,\n",
       "         'chopped fresh cilantro': 2,\n",
       "         'large carrots, chopped': 1,\n",
       "         'green bell pepper, diced': 1,\n",
       "         'pepper': 1,\n",
       "         'finely chopped fresh parsley': 1,\n",
       "         'freshly squeezed lemon juice': 1,\n",
       "         'large onion, chopped': 1,\n",
       "         'green bell pepper, chopped': 1,\n",
       "         'hot chile pepper, seeded and minced': 1,\n",
       "         'chicken stock': 7,\n",
       "         'sofrito (such as Goya&reg;)': 1,\n",
       "         'orzo pasta': 1,\n",
       "         'diced, cooked chicken meat': 1,\n",
       "         'large carrots': 1,\n",
       "         'cloves garlic': 2,\n",
       "         'kosher salt': 1,\n",
       "         'fresh lemon juice, or more to taste': 1,\n",
       "         'bacon, cut into small pieces': 1,\n",
       "         'small onion, diced': 1,\n",
       "         'spaghetti': 1,\n",
       "         'Cheddar cheese': 1,\n",
       "         'heavy whipping cream': 2,\n",
       "         'frozen peas and carrots': 1,\n",
       "         'carrots, chopped': 2,\n",
       "         'green onions, chopped': 2,\n",
       "         'curry powder': 1,\n",
       "         'dried sage': 1,\n",
       "         'ground cayenne pepper': 1,\n",
       "         'fresh red chile pepper, seeded and chopped': 1,\n",
       "         'chicken-flavored ramen noodles': 1,\n",
       "         'chopped cooked chicken breast': 1,\n",
       "         'garlic salt': 1,\n",
       "         'freshly ground black pepper': 1,\n",
       "         'skinless, boneless chicken breasts': 2,\n",
       "         'eggs': 5,\n",
       "         'diced rotisserie chicken meat': 1,\n",
       "         'fresh spinach': 1,\n",
       "         'sriracha sauce': 1,\n",
       "         'rice vinegar': 1,\n",
       "         'cloves garlic, grated': 1,\n",
       "         'ginger, grated': 1,\n",
       "         'ramen noodles': 1,\n",
       "         'green onions, chopped, or to taste': 1,\n",
       "         'sriracha sauce, or to taste': 1,\n",
       "         'large onion, diced': 1,\n",
       "         'cloves garlic, crushed': 1,\n",
       "         'fresh lemon juice': 1,\n",
       "         'white sugar': 1,\n",
       "         ', peeled and diced': 1,\n",
       "         'large clove garlic, minced': 1,\n",
       "         'yellow onion, diced': 1,\n",
       "         'large carrots, diced': 1,\n",
       "         'Italian seasoning': 2,\n",
       "         'fresh cracked black pepper': 1,\n",
       "         'corn': 1,\n",
       "         'diced cooked rotisserie chicken': 1,\n",
       "         'dried rosemary': 1,\n",
       "         'cloves crushed garlic': 1,\n",
       "         'white onion': 1,\n",
       "         'penne pasta': 1,\n",
       "         'chopped, cooked chicken meat': 1,\n",
       "         'dried marjoram': 1,\n",
       "         'medium yellow onion, chopped': 1,\n",
       "         'milk': 1,\n",
       "         'frozen corn kernels': 1,\n",
       "         'skinless, boneless chicken breast halves, diced': 1,\n",
       "         'frozen corn': 1,\n",
       "         'bean sprouts': 1,\n",
       "         'shredded, cooked chicken breast meat': 1,\n",
       "         'chopped green onion': 1,\n",
       "         'd cooked chicken': 1,\n",
       "         'd fresh mushrooms': 1,\n",
       "         'coconut cream': 2,\n",
       "         'large onion, peeled and halved': 1,\n",
       "         'chicken bouillon powder': 2,\n",
       "         'dry egg noodles': 1,\n",
       "         'fresh ginger, peeled and grated': 1,\n",
       "         'uncooked spaghetti': 1,\n",
       "         'Swanson® Chicken Broth or Swanson® Natural Goodness® Chicken Broth or Swanson® Certified Organic Chicken Broth': 1,\n",
       "         'ground ginger': 1,\n",
       "         'extra-virgin olive oil, divided': 1,\n",
       "         'celery, finely chopped': 1,\n",
       "         'small carrots, finely chopped': 1,\n",
       "         'cloves garlic, finely chopped': 1,\n",
       "         'dried tarragon': 1,\n",
       "         'celery salt': 1,\n",
       "         'shredded Cheddar cheese': 1,\n",
       "         'bone-in chicken breast halves': 1,\n",
       "         'water, or as needed': 1,\n",
       "         'onions, diced': 1,\n",
       "         'chopped fresh thyme': 1,\n",
       "         'fresh ginger root': 1,\n",
       "         'chopped cooked chicken breast meat': 1,\n",
       "         'ola oil': 1,\n",
       "         'large carrots, peeled and chopped': 1,\n",
       "         'chopped spinach': 1,\n",
       "         'chicken breasts': 1,\n",
       "         'elbow macaroni': 1,\n",
       "         'sriracha hot sauce': 1,\n",
       "         'diced cooked chicken': 1,\n",
       "         'diced carrots': 1})"
      ]
     },
     "execution_count": 69,
     "metadata": {},
     "output_type": "execute_result"
    }
   ],
   "source": [
    "# Count instances of each ingredient to find most common.\n",
    "\n",
    "# Initialize a Counter for tabulating how often each ingredient occurs\n",
    "ingredient_counts = Counter()\n",
    "\n",
    "# Count each instance of each ingredient\n",
    "for i in range(len(recipe_table)):\n",
    "    for j in range(2, len(recipe_table[i])):\n",
    "        if recipe_table[i][j]:\n",
    "            ingredient = string_to_list(recipe_table[i][j])[2]\n",
    "            ingredient_counts.update({ingredient: 1})\n",
    "\n",
    "ingredient_counts"
   ]
  },
  {
   "cell_type": "code",
   "execution_count": 70,
   "metadata": {},
   "outputs": [
    {
     "data": {
      "text/plain": [
       "[('d', 49.1),\n",
       " ('chicken broth', 36.4),\n",
       " ('', 34.5),\n",
       " ('water', 30.9),\n",
       " ('egg noodles', 25.5)]"
      ]
     },
     "execution_count": 70,
     "metadata": {},
     "output_type": "execute_result"
    }
   ],
   "source": [
    "# Loop through most common to save quantity and measurement to get most common of those.\n",
    "\n",
    "# Get the top 30 ingredients sorted by most common\n",
    "top_30 = sorted(ingredient_counts.items(), key=lambda x: x[1], reverse=True)[:30]\n",
    "\n",
    "# Get the ingredients that occured in at least 25% of recipes returned\n",
    "above_25_percent = [(tup[0], round(100*tup[1]/len(recipe_table), 1)) for tup in top_30 if 100*tup[1]/len(recipe_table) >= 25]\n",
    "\n",
    "above_25_percent"
   ]
  },
  {
   "cell_type": "code",
   "execution_count": 71,
   "metadata": {},
   "outputs": [
    {
     "name": "stdout",
     "output_type": "stream",
     "text": [
      "d\n",
      "chicken broth\n",
      "\n",
      "water\n",
      "egg noodles\n"
     ]
    }
   ],
   "source": [
    "for item in above_25_percent:\n",
    "    print(item[0])"
   ]
  },
  {
   "cell_type": "code",
   "execution_count": 72,
   "metadata": {},
   "outputs": [],
   "source": [
    "# for i in range(len(recipe_table)):\n",
    "        \n",
    "#     for j in range(2, len(recipe_table[i])):\n",
    "        \n",
    "#         if recipe_table[i][j]:\n",
    "            \n",
    "#             print(string_to_list(recipe_table[i][j])[2])"
   ]
  },
  {
   "cell_type": "code",
   "execution_count": 73,
   "metadata": {},
   "outputs": [
    {
     "data": {
      "text/plain": [
       "[{'quantity': '2', 'unit': 'stalks celery, slice', 'ingredient': 'd'},\n",
       " {'quantity': '4', 'unit': 'cups', 'ingredient': 'chicken broth'},\n",
       " {'quantity': '1', 'unit': 'bay leaf', 'ingredient': ''},\n",
       " {'quantity': '8', 'unit': 'cups', 'ingredient': 'water'},\n",
       " {'quantity': '1', 'unit': 'cups', 'ingredient': 'egg noodles'}]"
      ]
     },
     "execution_count": 73,
     "metadata": {},
     "output_type": "execute_result"
    }
   ],
   "source": [
    "# Create dictionary of information. Turn into dictionary (then JSON) and return.\n",
    "results_list = []\n",
    "\n",
    "# Get the ingredient information and put it in a dictionary\n",
    "for item in above_25_percent:\n",
    "    quantity_list = []\n",
    "    unit_list = []\n",
    "\n",
    "    for i in range(len(recipe_table)):\n",
    "        \n",
    "        for j in range(2, len(recipe_table[i])):\n",
    "\n",
    "            if recipe_table[i][j]:\n",
    "                if string_to_list(recipe_table[i][j])[2] == item[0]:\n",
    "                    #print(recipe_table[i][j])\n",
    "\n",
    "                    quantity = string_to_list(recipe_table[i][j])[0]\n",
    "                    unit = string_to_list(recipe_table[i][j])[1]\n",
    "\n",
    "                    quantity_list.append(quantity)\n",
    "                    unit_list.append(unit)\n",
    "                    \n",
    "#                     print(quantity)\n",
    "\n",
    "    # Getting and saving the most common quantity and unit for each ingredient\n",
    "    data = Counter(quantity_list)\n",
    "    quantity = data.most_common(1)\n",
    "    data = Counter(unit_list)\n",
    "    unit = data.most_common(1)\n",
    "\n",
    "#     print(quantity)\n",
    "    ingred_dict = {'quantity': quantity[0][0], 'unit': unit[0][0], 'ingredient': item[0]}\n",
    "\n",
    "    results_list.append(ingred_dict)\n",
    "\n",
    "results_list"
   ]
  },
  {
   "cell_type": "code",
   "execution_count": 74,
   "metadata": {},
   "outputs": [],
   "source": [
    "conn.close()"
   ]
  },
  {
   "cell_type": "markdown",
   "metadata": {},
   "source": [
    "## Put It All Together"
   ]
  },
  {
   "cell_type": "code",
   "execution_count": 75,
   "metadata": {},
   "outputs": [],
   "source": [
    "%%capture\n",
    "pip install psycopg2"
   ]
  },
  {
   "cell_type": "code",
   "execution_count": 76,
   "metadata": {},
   "outputs": [],
   "source": [
    "import ast\n",
    "import psycopg2\n",
    "from collections import Counter"
   ]
  },
  {
   "cell_type": "code",
   "execution_count": 77,
   "metadata": {},
   "outputs": [],
   "source": [
    "def string_to_list(x):\n",
    "    return ast.literal_eval(x)\n",
    "\n",
    "\n",
    "def ingredient_getter(word):\n",
    "    \n",
    "    results_list = []\n",
    "    split_words = word.split()\n",
    "    \n",
    "    conn = psycopg2.connect(database ='postgres', user = 'postgres', password = 'tz6MTgxObUZ62MNv0xgp', host = 'mydishdb-dev.c3und8sjo4p2.us-east-2.rds.amazonaws.com', port = '5432')\n",
    "    cursor = conn.cursor()\n",
    "\n",
    "    command = f\"SELECT * FROM recipes WHERE name ILIKE '%{split_words[0]}%' \"\n",
    "    if len(split_words) > 1:\n",
    "        for i in range(1, len(split_words)):\n",
    "            command += f\"AND name ILIKE '%{split_words[i]}%' \"\n",
    "    command += \";\"\n",
    "\n",
    "    cursor.execute(command)\n",
    "\n",
    "    recipe_table = cursor.fetchall()\n",
    "\n",
    "    cursor.close()\n",
    "    conn.close()\n",
    "    \n",
    "    # Initialize a Counter for tabulating how often each ingredient occurs\n",
    "    ingredient_counts = Counter()\n",
    "\n",
    "    # Count each instance of each ingredient\n",
    "    for i in range(len(recipe_table)):\n",
    "        for j in range(2, len(recipe_table[i])):\n",
    "            if recipe_table[i][j]:\n",
    "                ingredient = string_to_list(recipe_table[i][j])[2]\n",
    "                ingredient_counts.update({ingredient: 1})\n",
    "    \n",
    "    # Get the top 30 ingredients sorted by most common\n",
    "    top_30 = sorted(ingredient_counts.items(), key=lambda x: x[1], reverse=True)[:30]\n",
    "\n",
    "    # Get the ingredients that occured in at least 25% of recipes returned\n",
    "    above_25_percent = [(tup[0], round(100*tup[1]/len(recipe_table), 1)) for tup in top_30 if 100*tup[1]/len(recipe_table) >= 25]\n",
    "\n",
    "    # Get the ingredient information and put it in a dictionary\n",
    "    for item in above_25_percent:\n",
    "        quantity_list = []\n",
    "        unit_list = []\n",
    "\n",
    "        for i in range(len(recipe_table)):\n",
    "\n",
    "            for j in range(2, len(recipe_table[i])):\n",
    "\n",
    "                if recipe_table[i][j]:\n",
    "                    if string_to_list(recipe_table[i][j])[2] == item[0]:\n",
    "\n",
    "                        quantity = string_to_list(recipe_table[i][j])[0]\n",
    "                        unit = string_to_list(recipe_table[i][j])[1]\n",
    "\n",
    "                        quantity_list.append(quantity)\n",
    "                        unit_list.append(unit)\n",
    "\n",
    "\n",
    "        # Getting and saving the most common quantity and unit for each ingredient\n",
    "        data = Counter(quantity_list)\n",
    "        quantity = data.most_common(1)\n",
    "        data = Counter(unit_list)\n",
    "        unit = data.most_common(1)\n",
    "\n",
    "        ingred_dict = {'quantity': quantity[0][0], 'unit': unit[0][0], 'ingredient': item[0]}\n",
    "\n",
    "        results_list.append(ingred_dict)\n",
    "\n",
    "    return results_list\n",
    "    "
   ]
  },
  {
   "cell_type": "code",
   "execution_count": 78,
   "metadata": {},
   "outputs": [
    {
     "data": {
      "text/plain": [
       "[{'quantity': '1', 'unit': 'teaspoon', 'ingredient': 'vanilla extract'},\n",
       " {'quantity': '1', 'unit': 'cup', 'ingredient': 'white sugar'},\n",
       " {'quantity': '1', 'unit': 'cup', 'ingredient': 'all-purpose flour'},\n",
       " {'quantity': '1/4', 'unit': 'teaspoon', 'ingredient': 'salt'},\n",
       " {'quantity': '2', 'unit': None, 'ingredient': 'eggs'},\n",
       " {'quantity': '1', 'unit': 'teaspoon', 'ingredient': 'baking powder'},\n",
       " {'quantity': '1', 'unit': 'cup', 'ingredient': 'unsweetened cocoa powder'},\n",
       " {'quantity': '1/2', 'unit': 'cup', 'ingredient': 'butter'}]"
      ]
     },
     "execution_count": 78,
     "metadata": {},
     "output_type": "execute_result"
    }
   ],
   "source": [
    "ingredient_getter('brownies')"
   ]
  },
  {
   "cell_type": "code",
   "execution_count": 79,
   "metadata": {},
   "outputs": [
    {
     "name": "stdout",
     "output_type": "stream",
     "text": [
      "--- 1.2188889980316162 seconds ---\n"
     ]
    }
   ],
   "source": [
    "import time\n",
    "start_time = time.time()\n",
    "ingredient_getter('brownies')\n",
    "print(\"--- %s seconds ---\" % (time.time() - start_time))"
   ]
  }
 ],
 "metadata": {
  "kernelspec": {
   "display_name": "U4-S1-NLP (Python3)",
   "language": "python",
   "name": "u4-s1-nlp"
  },
  "language_info": {
   "codemirror_mode": {
    "name": "ipython",
    "version": 3
   },
   "file_extension": ".py",
   "mimetype": "text/x-python",
   "name": "python",
   "nbconvert_exporter": "python",
   "pygments_lexer": "ipython3",
   "version": "3.7.0"
  }
 },
 "nbformat": 4,
 "nbformat_minor": 4
}
