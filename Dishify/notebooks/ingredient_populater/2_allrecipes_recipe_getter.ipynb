{
 "cells": [
  {
   "cell_type": "markdown",
   "metadata": {},
   "source": [
    "## Part 2 of creating auto-populate feature\n",
    "\n",
    "## Use the recipe URLs to get the actual recipes"
   ]
  },
  {
   "cell_type": "code",
   "execution_count": 4,
   "metadata": {},
   "outputs": [
    {
     "name": "stdout",
     "output_type": "stream",
     "text": [
      "Requirement already satisfied: recipe-scrapers in c:\\users\\neal\\anaconda3\\lib\\site-packages (6.0.6)\n",
      "Requirement already satisfied: requests>=2.19.1 in c:\\users\\neal\\anaconda3\\lib\\site-packages (from recipe-scrapers) (2.22.0)\n",
      "Requirement already satisfied: extruct>=0.8.0 in c:\\users\\neal\\anaconda3\\lib\\site-packages (from recipe-scrapers) (0.9.0)\n",
      "Requirement already satisfied: beautifulsoup4>=4.6.0 in c:\\users\\neal\\anaconda3\\lib\\site-packages (from recipe-scrapers) (4.8.0)\n",
      "Requirement already satisfied: certifi>=2017.4.17 in c:\\users\\neal\\anaconda3\\lib\\site-packages (from requests>=2.19.1->recipe-scrapers) (2019.9.11)\n",
      "Requirement already satisfied: chardet<3.1.0,>=3.0.2 in c:\\users\\neal\\anaconda3\\lib\\site-packages (from requests>=2.19.1->recipe-scrapers) (3.0.4)\n",
      "Requirement already satisfied: idna<2.9,>=2.5 in c:\\users\\neal\\anaconda3\\lib\\site-packages (from requests>=2.19.1->recipe-scrapers) (2.8)\n",
      "Requirement already satisfied: urllib3!=1.25.0,!=1.25.1,<1.26,>=1.21.1 in c:\\users\\neal\\anaconda3\\lib\\site-packages (from requests>=2.19.1->recipe-scrapers) (1.24.2)\n",
      "Requirement already satisfied: six in c:\\users\\neal\\appdata\\roaming\\python\\python37\\site-packages (from extruct>=0.8.0->recipe-scrapers) (1.12.0)\n",
      "Requirement already satisfied: rdflib-jsonld in c:\\users\\neal\\anaconda3\\lib\\site-packages (from extruct>=0.8.0->recipe-scrapers) (0.5.0)\n",
      "Requirement already satisfied: html-text>=0.5.1 in c:\\users\\neal\\anaconda3\\lib\\site-packages (from extruct>=0.8.0->recipe-scrapers) (0.5.1)\n",
      "Requirement already satisfied: mf2py in c:\\users\\neal\\anaconda3\\lib\\site-packages (from extruct>=0.8.0->recipe-scrapers) (1.1.2)\n",
      "Requirement already satisfied: rdflib<5.0.0 in c:\\users\\neal\\anaconda3\\lib\\site-packages (from extruct>=0.8.0->recipe-scrapers) (4.2.2)\n",
      "Requirement already satisfied: lxml in c:\\users\\neal\\anaconda3\\lib\\site-packages (from extruct>=0.8.0->recipe-scrapers) (4.4.1)\n",
      "Requirement already satisfied: w3lib in c:\\users\\neal\\anaconda3\\lib\\site-packages (from extruct>=0.8.0->recipe-scrapers) (1.21.0)\n",
      "Requirement already satisfied: soupsieve>=1.2 in c:\\users\\neal\\anaconda3\\lib\\site-packages (from beautifulsoup4>=4.6.0->recipe-scrapers) (1.9.3)\n",
      "Requirement already satisfied: html5lib>=1.0.1 in c:\\users\\neal\\anaconda3\\lib\\site-packages (from mf2py->extruct>=0.8.0->recipe-scrapers) (1.0.1)\n",
      "Requirement already satisfied: pyparsing in c:\\users\\neal\\anaconda3\\lib\\site-packages (from rdflib<5.0.0->extruct>=0.8.0->recipe-scrapers) (2.4.2)\n",
      "Requirement already satisfied: isodate in c:\\users\\neal\\anaconda3\\lib\\site-packages (from rdflib<5.0.0->extruct>=0.8.0->recipe-scrapers) (0.6.0)\n",
      "Requirement already satisfied: webencodings in c:\\users\\neal\\anaconda3\\lib\\site-packages (from html5lib>=1.0.1->mf2py->extruct>=0.8.0->recipe-scrapers) (0.5.1)\n"
     ]
    }
   ],
   "source": [
    "# Get the recipe scraper here: https://github.com/hhursev/recipe-scrapers\n",
    "!pip install recipe-scrapers"
   ]
  },
  {
   "cell_type": "code",
   "execution_count": 5,
   "metadata": {},
   "outputs": [],
   "source": [
    "from recipe_scrapers import scrape_me"
   ]
  },
  {
   "cell_type": "markdown",
   "metadata": {},
   "source": [
    "## Open CSV and read to list"
   ]
  },
  {
   "cell_type": "code",
   "execution_count": 6,
   "metadata": {},
   "outputs": [],
   "source": [
    "import csv"
   ]
  },
  {
   "cell_type": "code",
   "execution_count": 20,
   "metadata": {},
   "outputs": [],
   "source": [
    "with open('allrecipes_urls.csv') as csvfile:\n",
    "    reader = csv.reader(csvfile, delimiter=',')\n",
    "    url_list = []\n",
    "    \n",
    "    for row in reader:\n",
    "        url_list.append(row)"
   ]
  },
  {
   "cell_type": "code",
   "execution_count": 21,
   "metadata": {},
   "outputs": [
    {
     "data": {
      "text/plain": [
       "70964"
      ]
     },
     "execution_count": 21,
     "metadata": {},
     "output_type": "execute_result"
    }
   ],
   "source": [
    "# Check the length; should be 70964\n",
    "len(url_list)"
   ]
  },
  {
   "cell_type": "code",
   "execution_count": 22,
   "metadata": {},
   "outputs": [
    {
     "data": {
      "text/plain": [
       "[['https://www.allrecipes.com/recipe/16956/death-by-chocolate-mousse/'],\n",
       " ['https://www.allrecipes.com/recipe/25875/shrimp-and-crabmeat-loaf/'],\n",
       " ['https://www.allrecipes.com/recipe/239335/senate-bean-soup-from-idahoan/'],\n",
       " ['https://www.allrecipes.com/recipe/9689/nutmeg-refrigerator-cookies/'],\n",
       " ['https://www.allrecipes.com/recipe/246207/french-toast-sandwich/'],\n",
       " ['https://www.allrecipes.com/recipe/117539/slow-cooker-chicken-curry-with-quinoa/'],\n",
       " ['https://www.allrecipes.com/recipe/25652/cozy-cottage-beef-stew-soup/'],\n",
       " ['https://www.allrecipes.com/recipe/13825/peanut-pie/'],\n",
       " ['https://www.allrecipes.com/recipe/16238/emilys-famous-sloppy-joes/'],\n",
       " ['https://www.allrecipes.com/recipe/268872/vegan-gluten-free-chocolate-chip-cookies-without-coconut-oil/'],\n",
       " ['https://www.allrecipes.com/recipe/238317/honey-dressing-with-poppy-seeds/'],\n",
       " ['https://www.allrecipes.com/recipe/231537/grilled-halibut/'],\n",
       " ['https://www.allrecipes.com/recipe/217377/spaghetti-bolognese/'],\n",
       " ['https://www.allrecipes.com/recipe/254350/easy-brazilian-black-bean-stew/'],\n",
       " ['https://www.allrecipes.com/recipe/220913/open-faced-grilled-tuscan-chicken-sandwiches-with-fresh-mozzarella/'],\n",
       " ['https://www.allrecipes.com/recipe/29884/pumpkin-walnut-cake/'],\n",
       " ['https://www.allrecipes.com/recipe/16719/french-toast-ii/'],\n",
       " ['https://www.allrecipes.com/recipe/16217/vegan-split-pea-soup-i/'],\n",
       " ['https://www.allrecipes.com/recipe/247109/pomfret-macher-jhaal-pomfret-fish-curry/'],\n",
       " ['https://www.allrecipes.com/recipe/222610/tasty-lentil-tacos/']]"
      ]
     },
     "execution_count": 22,
     "metadata": {},
     "output_type": "execute_result"
    }
   ],
   "source": [
    "# Look at first 20\n",
    "url_list[:20]"
   ]
  },
  {
   "cell_type": "code",
   "execution_count": 23,
   "metadata": {},
   "outputs": [],
   "source": [
    "# I don't want to overwhelm the allrecipes.com servers so I'm going to include a pause between scrapes.\n",
    "import time"
   ]
  },
  {
   "cell_type": "markdown",
   "metadata": {},
   "source": [
    "## Check to make sure everything is working"
   ]
  },
  {
   "cell_type": "code",
   "execution_count": 24,
   "metadata": {},
   "outputs": [],
   "source": [
    "scraper = scrape_me(url_list[0][0])"
   ]
  },
  {
   "cell_type": "code",
   "execution_count": 25,
   "metadata": {},
   "outputs": [
    {
     "data": {
      "text/plain": [
       "'Death by Chocolate Mousse'"
      ]
     },
     "execution_count": 25,
     "metadata": {},
     "output_type": "execute_result"
    }
   ],
   "source": [
    "scraper.title()"
   ]
  },
  {
   "cell_type": "code",
   "execution_count": 26,
   "metadata": {},
   "outputs": [
    {
     "data": {
      "text/plain": [
       "['21 chocolate sandwich cookies, crushed',\n",
       " '¼ cup butter, softened',\n",
       " '1 cup heavy cream',\n",
       " '1 (12 ounce) package semisweet chocolate chips',\n",
       " '1 teaspoon vanilla extract',\n",
       " '1 pinch salt',\n",
       " '2 cups heavy cream',\n",
       " '¼ cup white sugar',\n",
       " '1 cup heavy cream, chilled',\n",
       " '¼ cup white sugar']"
      ]
     },
     "execution_count": 26,
     "metadata": {},
     "output_type": "execute_result"
    }
   ],
   "source": [
    "scraper.ingredients()"
   ]
  },
  {
   "cell_type": "code",
   "execution_count": 27,
   "metadata": {},
   "outputs": [
    {
     "data": {
      "text/plain": [
       "'Preheat oven to 350 degrees F (175 degrees C). Generously grease a 9 inch springform pan with 2 3/4 inch sides.\\nIn a medium bowl, mix together crushed cookies and softened butter or margarine. Press mixture evenly into greased pan. Bake in preheated oven for 5 minutes, then allow to cool.\\nCombine 1 cup cream, chocolate, vanilla extract, and salt, in the top of a double boiler. Heat until chocolate is fully melted and mixture is smooth. Alternatively, if you have a food processor, you can blend mixture by placing chocolate, vanilla extract, and salt, in processor bowl. Bring 1 cup cream to a boil on stovetop, then slowly pour cream into processor with blade running. Continue to process until mixture is smooth.\\nPour chocolate mixture into a bowl and cool to room temperature, stirring occasionally.\\nIn a large bowl, beat 2 cups chilled cream with 1/4 cup sugar. Beat until stiff peaks form. Fold whipped cream into chocolate mixture. Pour mixture into cooled crust.\\nChill pie at least 6 hours before serving. Prior to serving, beat remaining 1 cup cream with 1/4 cup sugar. Beat until stiff, then pipe onto top of pie with a star tip, or place a spoonful on top of each slice.'"
      ]
     },
     "execution_count": 27,
     "metadata": {},
     "output_type": "execute_result"
    }
   ],
   "source": [
    "scraper.instructions()"
   ]
  },
  {
   "cell_type": "markdown",
   "metadata": {},
   "source": [
    "## Function to get title, ingredients, and instructions"
   ]
  },
  {
   "cell_type": "code",
   "execution_count": 28,
   "metadata": {},
   "outputs": [],
   "source": [
    "def get_info(url):\n",
    "    scraper = scrape_me(url)\n",
    "    \n",
    "    title = scraper.title()\n",
    "    ingredients = scraper.ingredients()\n",
    "    instructions = scraper.instructions()\n",
    "    \n",
    "    print(title)\n",
    "    print(ingredients)\n",
    "    print(instructions)\n"
   ]
  },
  {
   "cell_type": "markdown",
   "metadata": {},
   "source": [
    "## Try first 10 entries"
   ]
  },
  {
   "cell_type": "code",
   "execution_count": 35,
   "metadata": {},
   "outputs": [
    {
     "name": "stdout",
     "output_type": "stream",
     "text": [
      "Death by Chocolate Mousse\n",
      "['21 chocolate sandwich cookies, crushed', '¼ cup butter, softened', '1 cup heavy cream', '1 (12 ounce) package semisweet chocolate chips', '1 teaspoon vanilla extract', '1 pinch salt', '2 cups heavy cream', '¼ cup white sugar', '1 cup heavy cream, chilled', '¼ cup white sugar']\n",
      "Preheat oven to 350 degrees F (175 degrees C). Generously grease a 9 inch springform pan with 2 3/4 inch sides.\n",
      "In a medium bowl, mix together crushed cookies and softened butter or margarine. Press mixture evenly into greased pan. Bake in preheated oven for 5 minutes, then allow to cool.\n",
      "Combine 1 cup cream, chocolate, vanilla extract, and salt, in the top of a double boiler. Heat until chocolate is fully melted and mixture is smooth. Alternatively, if you have a food processor, you can blend mixture by placing chocolate, vanilla extract, and salt, in processor bowl. Bring 1 cup cream to a boil on stovetop, then slowly pour cream into processor with blade running. Continue to process until mixture is smooth.\n",
      "Pour chocolate mixture into a bowl and cool to room temperature, stirring occasionally.\n",
      "In a large bowl, beat 2 cups chilled cream with 1/4 cup sugar. Beat until stiff peaks form. Fold whipped cream into chocolate mixture. Pour mixture into cooled crust.\n",
      "Chill pie at least 6 hours before serving. Prior to serving, beat remaining 1 cup cream with 1/4 cup sugar. Beat until stiff, then pipe onto top of pie with a star tip, or place a spoonful on top of each slice.\n",
      "--------------------\n",
      "Shrimp and Crabmeat Loaf\n",
      "['1 (6 ounce) can small shrimp, drained', '1 (6 ounce) can crabmeat, drained and flaked', '½ cup mayonnaise', '¼ cup thinly sliced green onions', '¼ cup diced celery', '1 (8 ounce) package shredded mozzarella cheese', '⅛ teaspoon salt', '⅛ teaspoon ground black pepper', '1 (1 pound) loaf French bread, halved horizontally']\n",
      "In a bowl, combine well the shrimp, crab, mayonnaise, green onions, celery, cheese, salt, and pepper.\n",
      "Spread the shrimp mixture on the bottom half of bread and replace the top half. Cut into 8 pieces and serve immediately or refrigerate whole and cut into 8 pieces when ready to serve.\n",
      "Heating instructions: Preheat oven to 400 degrees F (200 degrees C). Wrap the loaf in a large piece of aluminum foil. Bake for 20 minutes or until heated through. Cut into 8 pieces.\n",
      "--------------------\n",
      "Senate Bean Soup from Idahoan®\n",
      "['1 (4 ounce) package Idahoan® Roasted Garlic Flavored Mashed Potatoes, dry', '2 tablespoons olive oil', '1 yellow onion, chopped', '2 stalks celery, chopped', '2 carrots, chopped', '2 (32 fluid ounce) containers vegetable stock', '1 smoked ham bone', '2 (14.5 ounce) cans white beans, rinsed and drained', '1/2 bunch parsley, chopped', 'Salt and pepper to taste']\n",
      "Heat olive oil in stock pot over medium high heat.\n",
      "Add chopped onion, celery, and carrots and cook until they begin to to soften slightly.\n",
      "Add vegetable stock and ham bone. Bring to boil and reduce heat; simmer for an hour.\n",
      "Remove ham bone from pot and pick off ham; return meat to pot. Add the beans.\n",
      "Add package of Idahoan Roasted Garlic Flavored Mashed Potatoes and stir thoroughly.\n",
      "Mix in chopped parsley and adjust seasoning if necessary. Cook for an additional 5 minutes and serve.\n",
      "--------------------\n",
      "Nutmeg Refrigerator Cookies\n",
      "['½ cup butter', '⅓ cup white sugar', '⅔ cup packed brown sugar', '1 egg', '1 teaspoon vanilla extract', '1 ½ cups all-purpose flour', '¼ teaspoon cream of tartar', '¼ teaspoon salt', '½ teaspoon ground nutmeg']\n",
      "In a large bowl, cream together the butter, white sugar and brown sugar until smooth. Beat in the egg and vanilla. Combine the flour, cream of tartar, salt and nutmeg; stir into the creamed mixture until well blended. Divide dough and shape into rolls 2 inches in diameter.  Wrap in aluminum foil and store in refrigerator for at least 2 hours and up to one week.\n",
      "Preheat oven to 400 degrees F (200 degrees C). Slice the logs into rounds about 1/4-inch thick. Arrange the slices on a baking sheet.\n",
      "Bake the cookies until the edges are light brown, about 8 minutes.\n",
      "--------------------\n",
      "French Toast Sandwich\n",
      "['2 eggs', '3 tablespoons milk', '3 tablespoons white sugar', '1/2 teaspoon vanilla extract', '4 slices plain bread, cut into 4 pieces', '1 cup oil for frying', '1 cup milk, divided', '2 tablespoons custard powder', \"1/2 cup confectioners' sugar\", '1/2 cup whipped cream', '8 strawberries, halved', '8 toothpicks']\n",
      "Whisk eggs, 3 tablespoons milk, white sugar, and vanilla extract together in a shallow bowl until smooth.\n",
      "Heat 1/4 inch of oil in a large saucepan over medium heat.\n",
      "Dip 4 pieces of bread in egg mixture and fry until golden brown, about 2 minutes per side. Repeat with remaining pieces.\n",
      "Combine 2 tablespoons of milk with custard powder in a small bowl; stir until smooth. Bring remaining milk to a boil in a small saucepan. Stir custard mixture into the saucepan. Reduce heat and cook, stirring frequently, until custard thickens, about 5 minutes.\n",
      "Place 8 bread toasts on a shallow tray. Spread custard over each piece. Cover with remaining 8 toasts to form a sandwich. Dust with confectioners' sugar. Top each sandwich with a dollop of whipped cream and a strawberry. Insert a toothpick through the fruit to hold the sandwich together.\n",
      "--------------------\n",
      "Slow Cooker Chicken Curry with Quinoa\n",
      "['1 ½ pounds diced chicken breast meat', '¾ cup chopped onion', '1 ¼ cups chopped celery', '1 ¾ cups chopped Granny Smith apples', '1 cup chicken broth', '¼ cup nonfat milk', '1 tablespoon curry powder', '¼ teaspoon paprika', '⅓ cup quinoa']\n",
      "Place the chicken, onion, celery, apple, chicken broth, milk, curry powder, and paprika into a slow cooker; stir until mixed. Cover, and cook on Low for 4 to 5 hours. Stir in the quinoa during the final 35 minutes of cooking. Serve when quinoa is tender.\n",
      "--------------------\n",
      "Cozy Cottage Beef Stew Soup\n",
      "['¾ pound beef stew meat, cut into 1 inch cubes', '2 onions, diced', '3 cloves garlic, minced', '1 large stalk celery, minced', '2 carrots, finely chopped', '¼ pound green beans, cut into 1 inch pieces', '8 ounces fresh mushrooms, coarsely chopped', '3 potatoes, peeled and diced', '1 (14.5 ounce) can crushed tomatoes', '1 (8 ounce) can tomato sauce', '1 bay leaf', '½ teaspoon ground black pepper', '½ teaspoon dried thyme', '¼ teaspoon dried marjoram', '2 (14.5 ounce) cans fat-free chicken broth', '½ cup all-purpose flour', '2 (10.5 ounce) cans beef consomme']\n",
      "In a slow cooker, combine beef, onions, garlic, celery, carrots, green beans, mushrooms, and potatoes. Pour in the tomatoes and tomato sauce. Season with bay leaf, pepper, thyme, and marjoram. Stir together chicken broth and flour. Pour chicken broth mixture and beef consomme into slow cooker, and stir.\n",
      "Cover, and cook on Low 6 to 10 hours. Remove bay leaf before serving.\n",
      "--------------------\n",
      "Peanut Pie\n",
      "['2 eggs, beaten', '⅓ cup creamy peanut butter', '⅓ cup white sugar', '⅓ cup light corn syrup', '⅓ cup dark corn syrup', '⅓ cup butter, melted', '1 teaspoon vanilla extract', '1 cup salted peanuts', '1 (9 inch) unbaked pie crust']\n",
      "Preheat oven to 375 degrees F (190 degrees C).\n",
      "In a mixing bowl, blend together the eggs, peanut butter, sugar, light and dark corn syrup, butter and vanilla. Fold in peanuts and pour into pie crust.\n",
      "Bake 30 to 35 minutes or until set. Remove from oven and cool; serve with ice cream or whipped cream if desired.\n",
      "--------------------\n",
      "Emily's Famous Sloppy Joes\n",
      "['1 ½ pounds ground beef', '1 onion, chopped', '1 red bell pepper, chopped', '1 (6 ounce) can tomato paste', '1 cup water', '3 cloves garlic, minced', '1 tablespoon chili powder', '1 teaspoon paprika', '1 teaspoon ground cumin', '1 teaspoon distilled white vinegar', '3 tablespoons brown sugar', '1 teaspoon dried oregano', '½ teaspoon salt', '½ teaspoon ground black pepper', '8 hamburger buns, split']\n",
      "In a large skillet over medium-high heat, saute the ground beef for 5 minutes. Add the onion and red bell pepper; saute for 5 more minutes, or until onion is tender. Drain the fat.\n",
      "Mix in tomato paste and water, stirring until paste is dissolved. Stir in garlic, chili powder, paprika, cumin, vinegar, brown sugar, oregano, salt and pepper. Continue to heat for 5 to 10 minutes, or until mixture is thick and stewy.\n",
      "--------------------\n",
      "Vegan Gluten-Free Chocolate Chip Cookies Without Coconut Oil\n",
      "['1 ½ cups brown sugar', '1 cup vegan margarine (such as Blue Bonnet&reg; light)', '½ cup white sugar', '1 banana, mashed', '2 tablespoons vanilla extract', '1 ¼ teaspoons baking soda', '½ teaspoon salt', '2 teaspoons hot water', '3 cups gluten-free all-purpose baking flour', '2 teaspoons xanthan gum', \"1 ½ cups vegan semisweet chocolate chips (such as Trader Joe's&reg;)\"]\n",
      "Preheat the oven to 350 degrees F (175 degrees C). Line a baking sheet with parchment paper.\n",
      "Cream brown sugar, margarine, and white sugar together in a bowl. Add mashed banana and vanilla extract.\n",
      "Combine baking soda and hot water in a small bowl; add to sugar mixture and stir in salt. Add flour slowly, 1 cup at a time, incorporating xanthan gum at the same time. Add chocolate chips and stir to combine. Drop by large spoonfuls onto the prepared baking sheet.\n",
      "Bake in the preheated oven until golden brown, 10 to 12 minutes.\n",
      "--------------------\n"
     ]
    }
   ],
   "source": [
    "for i in range(10):\n",
    "    get_info(url_list[i][0])\n",
    "    print('-'*20)\n",
    "    time.sleep(0.2) # Take a tiny break"
   ]
  },
  {
   "cell_type": "markdown",
   "metadata": {},
   "source": [
    "### It works. Time to implement it."
   ]
  },
  {
   "cell_type": "code",
   "execution_count": 36,
   "metadata": {},
   "outputs": [],
   "source": [
    "# Update function to return info rather than print\n",
    "\n",
    "def get_info(url):\n",
    "    scraper = scrape_me(url)\n",
    "    \n",
    "    title = scraper.title()\n",
    "    ingredients = scraper.ingredients()\n",
    "    instructions = scraper.instructions()\n",
    "    \n",
    "#     print(title)\n",
    "#     print(ingredients)\n",
    "#     print(instructions)\n",
    "\n",
    "    return title, ingredients, instructions\n"
   ]
  },
  {
   "cell_type": "code",
   "execution_count": 51,
   "metadata": {},
   "outputs": [
    {
     "data": {
      "text/plain": [
       "31"
      ]
     },
     "execution_count": 51,
     "metadata": {},
     "output_type": "execute_result"
    }
   ],
   "source": [
    "csv_file = open('allrecipes_recipes_1.csv', 'w', encoding='utf-8')\n",
    "\n",
    "csv_writer = csv.writer(csv_file)\n",
    "csv_writer.writerow(['name', 'ingredients', 'instructions'])"
   ]
  },
  {
   "cell_type": "markdown",
   "metadata": {},
   "source": [
    "### Splitting the work up 10,000 recipes at a time."
   ]
  },
  {
   "cell_type": "code",
   "execution_count": 53,
   "metadata": {},
   "outputs": [
    {
     "name": "stdout",
     "output_type": "stream",
     "text": [
      "1 done.\n",
      "501 done.\n",
      "1001 done.\n",
      "1501 done.\n",
      "2001 done.\n",
      "2501 done.\n",
      "3001 done.\n",
      "3501 done.\n",
      "4001 done.\n",
      "4501 done.\n",
      "5001 done.\n",
      "5501 done.\n",
      "6001 done.\n",
      "6501 done.\n",
      "7001 done.\n",
      "7501 done.\n",
      "8001 done.\n",
      "8501 done.\n",
      "9001 done.\n",
      "9501 done.\n"
     ]
    },
    {
     "data": {
      "text/plain": [
       "<function TextIOWrapper.close()>"
      ]
     },
     "execution_count": 53,
     "metadata": {},
     "output_type": "execute_result"
    }
   ],
   "source": [
    "for i in range(10000):\n",
    "    title, ingredients, instructions = get_info(url_list[i][0])\n",
    "    \n",
    "    csv_writer.writerow([title, ingredients, instructions])\n",
    "    \n",
    "    if i % 500 == 0:\n",
    "        print(f'{i+1} done.')\n",
    "    \n",
    "    time.sleep(0.1) # Take a tiny break\n",
    "\n",
    "csv_file.close()"
   ]
  },
  {
   "cell_type": "code",
   "execution_count": 54,
   "metadata": {},
   "outputs": [],
   "source": [
    "# Backup close statment if something happens in previous cell.\n",
    "csv_file.close()"
   ]
  },
  {
   "cell_type": "markdown",
   "metadata": {},
   "source": [
    "### I want to see how long this is taking"
   ]
  },
  {
   "cell_type": "code",
   "execution_count": 55,
   "metadata": {},
   "outputs": [],
   "source": [
    "from datetime import datetime"
   ]
  },
  {
   "cell_type": "code",
   "execution_count": 58,
   "metadata": {},
   "outputs": [
    {
     "name": "stdout",
     "output_type": "stream",
     "text": [
      "The current time is: 2020-04-23 18:20:41.466579\n"
     ]
    }
   ],
   "source": [
    "print('The current time is:', datetime.now())"
   ]
  },
  {
   "cell_type": "code",
   "execution_count": 61,
   "metadata": {},
   "outputs": [
    {
     "name": "stdout",
     "output_type": "stream",
     "text": [
      "14000 done at: 2020-04-23 19:40:06.650208\n",
      "14500 done at: 2020-04-23 19:47:38.255335\n",
      "15000 done at: 2020-04-23 19:54:58.884894\n",
      "15500 done at: 2020-04-23 20:02:15.884788\n",
      "16000 done at: 2020-04-23 20:09:57.573445\n",
      "16500 done at: 2020-04-23 20:17:13.112242\n",
      "17000 done at: 2020-04-23 20:24:27.107197\n",
      "17500 done at: 2020-04-23 20:31:25.955741\n",
      "18000 done at: 2020-04-23 20:38:40.326230\n",
      "18500 done at: 2020-04-23 20:45:46.614984\n",
      "19000 done at: 2020-04-23 20:53:04.670986\n",
      "19500 done at: 2020-04-23 21:00:10.102762\n"
     ]
    }
   ],
   "source": [
    "csv_file = open('allrecipes_recipes_2a.csv', 'w', encoding='utf-8')\n",
    "\n",
    "csv_writer = csv.writer(csv_file)\n",
    "csv_writer.writerow(['name', 'ingredients', 'instructions'])\n",
    "\n",
    "for i in range(13957, 20000):\n",
    "    title, ingredients, instructions = get_info(url_list[i][0])\n",
    "    \n",
    "    csv_writer.writerow([title, ingredients, instructions])\n",
    "    \n",
    "    if i % 500 == 0:\n",
    "        print(f'{i} done at:', datetime.now())\n",
    "    \n",
    "    time.sleep(0.1) # Take a tiny break\n",
    "\n",
    "csv_file.close()"
   ]
  },
  {
   "cell_type": "code",
   "execution_count": 60,
   "metadata": {},
   "outputs": [],
   "source": [
    "# Backup close statment if something happens in previous cell.\n",
    "csv_file.close()"
   ]
  },
  {
   "cell_type": "code",
   "execution_count": 62,
   "metadata": {},
   "outputs": [
    {
     "name": "stdout",
     "output_type": "stream",
     "text": [
      "20000 done at: 2020-04-23 21:08:31.194771\n",
      "20500 done at: 2020-04-23 21:16:07.917796\n",
      "21000 done at: 2020-04-23 21:23:05.750977\n",
      "21500 done at: 2020-04-23 21:30:05.109051\n",
      "22000 done at: 2020-04-23 21:36:52.971443\n",
      "22500 done at: 2020-04-23 21:43:59.525567\n",
      "23000 done at: 2020-04-23 21:51:05.404327\n",
      "23500 done at: 2020-04-23 21:58:07.218790\n",
      "24000 done at: 2020-04-23 22:05:23.516736\n",
      "24500 done at: 2020-04-23 22:12:24.603355\n",
      "25000 done at: 2020-04-23 22:19:14.543619\n",
      "25500 done at: 2020-04-23 22:26:13.590862\n",
      "26000 done at: 2020-04-23 22:33:10.761805\n",
      "26500 done at: 2020-04-23 22:40:12.131431\n",
      "27000 done at: 2020-04-23 22:47:05.233184\n",
      "27500 done at: 2020-04-23 22:53:52.446171\n",
      "28000 done at: 2020-04-23 23:00:43.344946\n",
      "28500 done at: 2020-04-23 23:07:41.919898\n",
      "29000 done at: 2020-04-23 23:14:38.225377\n",
      "29500 done at: 2020-04-23 23:21:49.513844\n"
     ]
    }
   ],
   "source": [
    "csv_file = open('allrecipes_recipes_3.csv', 'w', encoding='utf-8')\n",
    "\n",
    "csv_writer = csv.writer(csv_file)\n",
    "csv_writer.writerow(['name', 'ingredients', 'instructions'])\n",
    "\n",
    "for i in range(20000, 30000):\n",
    "    title, ingredients, instructions = get_info(url_list[i][0])\n",
    "    \n",
    "    csv_writer.writerow([title, ingredients, instructions])\n",
    "    \n",
    "    if i % 500 == 0:\n",
    "        print(f'{i} done at:', datetime.now())\n",
    "    \n",
    "    time.sleep(0.1) # Take a tiny break\n",
    "\n",
    "csv_file.close()"
   ]
  },
  {
   "cell_type": "code",
   "execution_count": 63,
   "metadata": {},
   "outputs": [],
   "source": [
    "# Backup close statment if something happens in previous cell.\n",
    "csv_file.close()"
   ]
  },
  {
   "cell_type": "code",
   "execution_count": 64,
   "metadata": {},
   "outputs": [
    {
     "name": "stdout",
     "output_type": "stream",
     "text": [
      "30000 done at: 2020-04-23 23:28:58.425402\n",
      "30500 done at: 2020-04-23 23:35:38.086704\n",
      "31000 done at: 2020-04-23 23:42:12.418953\n",
      "31500 done at: 2020-04-23 23:48:53.879957\n",
      "32000 done at: 2020-04-23 23:55:42.656717\n",
      "32500 done at: 2020-04-24 00:02:24.197599\n",
      "33000 done at: 2020-04-24 00:09:17.368610\n",
      "33500 done at: 2020-04-24 00:16:10.086490\n",
      "34000 done at: 2020-04-24 00:23:01.737042\n",
      "34500 done at: 2020-04-24 00:29:48.314311\n",
      "35000 done at: 2020-04-24 00:36:43.150086\n",
      "35500 done at: 2020-04-24 00:43:28.708380\n",
      "36000 done at: 2020-04-24 00:50:10.683211\n",
      "36500 done at: 2020-04-24 00:56:54.262243\n",
      "37000 done at: 2020-04-24 01:03:41.591317\n",
      "37500 done at: 2020-04-24 01:10:17.108335\n",
      "38000 done at: 2020-04-24 01:17:03.722392\n",
      "38500 done at: 2020-04-24 01:23:45.475041\n",
      "39000 done at: 2020-04-24 01:30:33.813793\n",
      "39500 done at: 2020-04-24 01:37:21.194631\n"
     ]
    }
   ],
   "source": [
    "csv_file = open('allrecipes_recipes_4.csv', 'w', encoding='utf-8')\n",
    "\n",
    "csv_writer = csv.writer(csv_file)\n",
    "csv_writer.writerow(['name', 'ingredients', 'instructions'])\n",
    "\n",
    "for i in range(30000, 40000):\n",
    "    title, ingredients, instructions = get_info(url_list[i][0])\n",
    "    \n",
    "    csv_writer.writerow([title, ingredients, instructions])\n",
    "    \n",
    "    if i % 500 == 0:\n",
    "        print(f'{i} done at:', datetime.now())\n",
    "    \n",
    "    time.sleep(0.1) # Take a tiny break\n",
    "\n",
    "csv_file.close()"
   ]
  },
  {
   "cell_type": "code",
   "execution_count": 65,
   "metadata": {},
   "outputs": [],
   "source": [
    "# Backup close statment if something happens in previous cell.\n",
    "csv_file.close()"
   ]
  },
  {
   "cell_type": "code",
   "execution_count": 68,
   "metadata": {},
   "outputs": [
    {
     "name": "stdout",
     "output_type": "stream",
     "text": [
      "46500 done at: 2020-04-24 08:03:05.475811\n",
      "47000 done at: 2020-04-24 08:10:10.130631\n",
      "47500 done at: 2020-04-24 08:17:13.394043\n",
      "48000 done at: 2020-04-24 08:24:23.587256\n",
      "48500 done at: 2020-04-24 08:31:44.924150\n",
      "49000 done at: 2020-04-24 08:39:04.689912\n",
      "49500 done at: 2020-04-24 08:46:27.006172\n"
     ]
    }
   ],
   "source": [
    "csv_file = open('allrecipes_recipes_5a.csv', 'w', encoding='utf-8')\n",
    "\n",
    "csv_writer = csv.writer(csv_file)\n",
    "csv_writer.writerow(['name', 'ingredients', 'instructions'])\n",
    "\n",
    "for i in range(46357, 50000):\n",
    "    title, ingredients, instructions = get_info(url_list[i][0])\n",
    "    \n",
    "    csv_writer.writerow([title, ingredients, instructions])\n",
    "    \n",
    "    if i % 500 == 0:\n",
    "        print(f'{i} done at:', datetime.now())\n",
    "    \n",
    "    time.sleep(0.1) # Take a tiny break\n",
    "\n",
    "csv_file.close()"
   ]
  },
  {
   "cell_type": "markdown",
   "metadata": {},
   "source": [
    "### Something happened when running the above cell so I reran it and changed the file name and starting location. Combined later."
   ]
  },
  {
   "cell_type": "code",
   "execution_count": 69,
   "metadata": {},
   "outputs": [],
   "source": [
    "# Backup close statment if something happens in previous cell.\n",
    "csv_file.close()"
   ]
  },
  {
   "cell_type": "code",
   "execution_count": 70,
   "metadata": {},
   "outputs": [
    {
     "name": "stdout",
     "output_type": "stream",
     "text": [
      "50000 done at: 2020-04-24 08:53:51.703639\n",
      "50500 done at: 2020-04-24 09:01:08.169589\n",
      "51000 done at: 2020-04-24 09:08:19.162594\n",
      "51500 done at: 2020-04-24 09:15:48.210429\n",
      "52000 done at: 2020-04-24 09:22:57.332895\n",
      "52500 done at: 2020-04-24 09:30:06.723783\n",
      "53000 done at: 2020-04-24 09:37:11.190010\n",
      "53500 done at: 2020-04-24 09:44:09.398000\n",
      "54000 done at: 2020-04-24 09:51:31.022097\n",
      "54500 done at: 2020-04-24 09:58:49.681251\n",
      "55000 done at: 2020-04-24 10:06:07.512683\n",
      "55500 done at: 2020-04-24 10:13:27.784050\n",
      "56000 done at: 2020-04-24 10:20:54.670953\n",
      "56500 done at: 2020-04-24 10:28:19.026381\n",
      "57000 done at: 2020-04-24 10:35:52.681449\n",
      "57500 done at: 2020-04-24 10:43:29.656016\n",
      "58000 done at: 2020-04-24 10:51:34.803455\n",
      "58500 done at: 2020-04-24 10:58:59.464871\n",
      "59000 done at: 2020-04-24 11:06:12.065694\n",
      "59500 done at: 2020-04-24 11:13:24.201726\n"
     ]
    }
   ],
   "source": [
    "csv_file = open('allrecipes_recipes_6.csv', 'w', encoding='utf-8')\n",
    "\n",
    "csv_writer = csv.writer(csv_file)\n",
    "csv_writer.writerow(['name', 'ingredients', 'instructions'])\n",
    "\n",
    "for i in range(50000, 60000):\n",
    "    title, ingredients, instructions = get_info(url_list[i][0])\n",
    "    \n",
    "    csv_writer.writerow([title, ingredients, instructions])\n",
    "    \n",
    "    if i % 500 == 0:\n",
    "        print(f'{i} done at:', datetime.now())\n",
    "    \n",
    "    time.sleep(0.1) # Take a tiny break\n",
    "\n",
    "csv_file.close()"
   ]
  },
  {
   "cell_type": "code",
   "execution_count": null,
   "metadata": {},
   "outputs": [],
   "source": [
    "# Backup close statment if something happens in previous cell.\n",
    "csv_file.close()"
   ]
  },
  {
   "cell_type": "code",
   "execution_count": 71,
   "metadata": {},
   "outputs": [
    {
     "name": "stdout",
     "output_type": "stream",
     "text": [
      "60000 done at: 2020-04-24 11:21:04.920696\n",
      "60500 done at: 2020-04-24 11:27:27.070674\n",
      "61000 done at: 2020-04-24 11:33:54.392175\n",
      "61500 done at: 2020-04-24 11:40:20.000756\n",
      "62000 done at: 2020-04-24 11:46:56.370316\n",
      "62500 done at: 2020-04-24 11:53:50.759867\n",
      "63000 done at: 2020-04-24 12:00:44.448650\n",
      "63500 done at: 2020-04-24 12:07:27.312946\n",
      "64000 done at: 2020-04-24 12:13:46.497947\n",
      "64500 done at: 2020-04-24 12:20:07.632031\n",
      "65000 done at: 2020-04-24 12:26:40.287530\n",
      "65500 done at: 2020-04-24 12:33:01.543220\n",
      "66000 done at: 2020-04-24 12:39:44.929558\n",
      "66500 done at: 2020-04-24 12:46:20.473143\n",
      "67000 done at: 2020-04-24 12:53:19.723680\n",
      "67500 done at: 2020-04-24 12:59:50.107045\n",
      "68000 done at: 2020-04-24 13:06:08.306254\n",
      "68500 done at: 2020-04-24 13:12:43.760768\n",
      "69000 done at: 2020-04-24 13:19:18.094028\n",
      "69500 done at: 2020-04-24 13:25:55.498210\n",
      "70000 done at: 2020-04-24 13:32:28.974888\n",
      "70500 done at: 2020-04-24 13:38:52.626140\n"
     ]
    }
   ],
   "source": [
    "csv_file = open('allrecipes_recipes_7.csv', 'w', encoding='utf-8')\n",
    "\n",
    "csv_writer = csv.writer(csv_file)\n",
    "csv_writer.writerow(['name', 'ingredients', 'instructions'])\n",
    "\n",
    "for i in range(60000, len(url_list)):\n",
    "    title, ingredients, instructions = get_info(url_list[i][0])\n",
    "    \n",
    "    csv_writer.writerow([title, ingredients, instructions])\n",
    "    \n",
    "    if i % 500 == 0:\n",
    "        print(f'{i} done at:', datetime.now())\n",
    "    \n",
    "    #time.sleep(0.1) # Take a tiny break\n",
    "\n",
    "csv_file.close()"
   ]
  },
  {
   "cell_type": "code",
   "execution_count": null,
   "metadata": {},
   "outputs": [],
   "source": [
    "# Backup close statment if something happens in previous cell.\n",
    "csv_file.close()"
   ]
  },
  {
   "cell_type": "markdown",
   "metadata": {},
   "source": [
    "## Below I was trying to programmatically combine all of the disparate CSVs that had been made. I think I just ended up combining them manually since there weren't a whole lot and I was getting frustrated. (I'm writing this note a few weeks later so I don't really recall.)"
   ]
  },
  {
   "cell_type": "code",
   "execution_count": 47,
   "metadata": {},
   "outputs": [],
   "source": [
    "# for i in range(8):\n",
    "#     csv_file = open(f'allrecipes_recipes_{i+1}', 'w', encoding='utf-8')\n",
    "#     csv_writer = csv.writer(csv_file)\n",
    "#     csv_writer.writerow(['name', 'ingredients', 'instructions'])\n",
    "    \n",
    "#     for j in range(i*10000, (i+1)*10000):\n",
    "#         scraper = scrape_me(url_list[j][0])\n",
    "        \n",
    "#         csv_writer.writerow([scraper.title(), scraper.ingredients(), scraper.instructions()])\n",
    "        \n",
    "#         if j % 250 == 0:\n",
    "#             print(f'Recipe {j} gathered.')\n",
    "        \n",
    "#         time.sleep(0.1.)\n",
    "    \n",
    "#     csv_file.close()\n",
    "    \n",
    "#     print('='*20)\n",
    "#     print(f'{i*10000} - {(i+1)*10000} done.')"
   ]
  },
  {
   "cell_type": "code",
   "execution_count": 48,
   "metadata": {},
   "outputs": [],
   "source": []
  },
  {
   "cell_type": "code",
   "execution_count": 72,
   "metadata": {},
   "outputs": [],
   "source": [
    "csv_file = open('allrecipes_recipes_combined.csv', 'w', encoding='utf-8')\n",
    "\n",
    "csv_writer = csv.writer(csv_file)\n",
    "csv_writer.writerow(['name', 'ingredients', 'instructions'])\n",
    "\n",
    "csv_file.close()"
   ]
  },
  {
   "cell_type": "code",
   "execution_count": 77,
   "metadata": {},
   "outputs": [
    {
     "ename": "UnicodeDecodeError",
     "evalue": "'charmap' codec can't decode byte 0x9d in position 3305: character maps to <undefined>",
     "output_type": "error",
     "traceback": [
      "\u001b[1;31m---------------------------------------------------------------------------\u001b[0m",
      "\u001b[1;31mUnicodeDecodeError\u001b[0m                        Traceback (most recent call last)",
      "\u001b[1;32m<ipython-input-77-a023a83b2276>\u001b[0m in \u001b[0;36m<module>\u001b[1;34m\u001b[0m\n\u001b[0;32m      5\u001b[0m         \u001b[0mnext\u001b[0m\u001b[1;33m(\u001b[0m\u001b[0mcsvreader\u001b[0m\u001b[1;33m)\u001b[0m\u001b[1;33m\u001b[0m\u001b[1;33m\u001b[0m\u001b[0m\n\u001b[0;32m      6\u001b[0m \u001b[1;33m\u001b[0m\u001b[0m\n\u001b[1;32m----> 7\u001b[1;33m         \u001b[1;32mfor\u001b[0m \u001b[0mi\u001b[0m \u001b[1;32min\u001b[0m \u001b[0mrange\u001b[0m\u001b[1;33m(\u001b[0m\u001b[0msum\u001b[0m\u001b[1;33m(\u001b[0m\u001b[1;36m1\u001b[0m \u001b[1;32mfor\u001b[0m \u001b[0mrow\u001b[0m \u001b[1;32min\u001b[0m \u001b[0mcsvreader\u001b[0m\u001b[1;33m)\u001b[0m\u001b[1;33m)\u001b[0m\u001b[1;33m:\u001b[0m\u001b[1;33m\u001b[0m\u001b[1;33m\u001b[0m\u001b[0m\n\u001b[0m\u001b[0;32m      8\u001b[0m             \u001b[0mprint\u001b[0m\u001b[1;33m(\u001b[0m\u001b[0mi\u001b[0m\u001b[1;33m)\u001b[0m\u001b[1;33m\u001b[0m\u001b[1;33m\u001b[0m\u001b[0m\n\u001b[0;32m      9\u001b[0m \u001b[1;33m\u001b[0m\u001b[0m\n",
      "\u001b[1;32m<ipython-input-77-a023a83b2276>\u001b[0m in \u001b[0;36m<genexpr>\u001b[1;34m(.0)\u001b[0m\n\u001b[0;32m      5\u001b[0m         \u001b[0mnext\u001b[0m\u001b[1;33m(\u001b[0m\u001b[0mcsvreader\u001b[0m\u001b[1;33m)\u001b[0m\u001b[1;33m\u001b[0m\u001b[1;33m\u001b[0m\u001b[0m\n\u001b[0;32m      6\u001b[0m \u001b[1;33m\u001b[0m\u001b[0m\n\u001b[1;32m----> 7\u001b[1;33m         \u001b[1;32mfor\u001b[0m \u001b[0mi\u001b[0m \u001b[1;32min\u001b[0m \u001b[0mrange\u001b[0m\u001b[1;33m(\u001b[0m\u001b[0msum\u001b[0m\u001b[1;33m(\u001b[0m\u001b[1;36m1\u001b[0m \u001b[1;32mfor\u001b[0m \u001b[0mrow\u001b[0m \u001b[1;32min\u001b[0m \u001b[0mcsvreader\u001b[0m\u001b[1;33m)\u001b[0m\u001b[1;33m)\u001b[0m\u001b[1;33m:\u001b[0m\u001b[1;33m\u001b[0m\u001b[1;33m\u001b[0m\u001b[0m\n\u001b[0m\u001b[0;32m      8\u001b[0m             \u001b[0mprint\u001b[0m\u001b[1;33m(\u001b[0m\u001b[0mi\u001b[0m\u001b[1;33m)\u001b[0m\u001b[1;33m\u001b[0m\u001b[1;33m\u001b[0m\u001b[0m\n\u001b[0;32m      9\u001b[0m \u001b[1;33m\u001b[0m\u001b[0m\n",
      "\u001b[1;32m~\\Anaconda3\\lib\\encodings\\cp1252.py\u001b[0m in \u001b[0;36mdecode\u001b[1;34m(self, input, final)\u001b[0m\n\u001b[0;32m     21\u001b[0m \u001b[1;32mclass\u001b[0m \u001b[0mIncrementalDecoder\u001b[0m\u001b[1;33m(\u001b[0m\u001b[0mcodecs\u001b[0m\u001b[1;33m.\u001b[0m\u001b[0mIncrementalDecoder\u001b[0m\u001b[1;33m)\u001b[0m\u001b[1;33m:\u001b[0m\u001b[1;33m\u001b[0m\u001b[1;33m\u001b[0m\u001b[0m\n\u001b[0;32m     22\u001b[0m     \u001b[1;32mdef\u001b[0m \u001b[0mdecode\u001b[0m\u001b[1;33m(\u001b[0m\u001b[0mself\u001b[0m\u001b[1;33m,\u001b[0m \u001b[0minput\u001b[0m\u001b[1;33m,\u001b[0m \u001b[0mfinal\u001b[0m\u001b[1;33m=\u001b[0m\u001b[1;32mFalse\u001b[0m\u001b[1;33m)\u001b[0m\u001b[1;33m:\u001b[0m\u001b[1;33m\u001b[0m\u001b[1;33m\u001b[0m\u001b[0m\n\u001b[1;32m---> 23\u001b[1;33m         \u001b[1;32mreturn\u001b[0m \u001b[0mcodecs\u001b[0m\u001b[1;33m.\u001b[0m\u001b[0mcharmap_decode\u001b[0m\u001b[1;33m(\u001b[0m\u001b[0minput\u001b[0m\u001b[1;33m,\u001b[0m\u001b[0mself\u001b[0m\u001b[1;33m.\u001b[0m\u001b[0merrors\u001b[0m\u001b[1;33m,\u001b[0m\u001b[0mdecoding_table\u001b[0m\u001b[1;33m)\u001b[0m\u001b[1;33m[\u001b[0m\u001b[1;36m0\u001b[0m\u001b[1;33m]\u001b[0m\u001b[1;33m\u001b[0m\u001b[1;33m\u001b[0m\u001b[0m\n\u001b[0m\u001b[0;32m     24\u001b[0m \u001b[1;33m\u001b[0m\u001b[0m\n\u001b[0;32m     25\u001b[0m \u001b[1;32mclass\u001b[0m \u001b[0mStreamWriter\u001b[0m\u001b[1;33m(\u001b[0m\u001b[0mCodec\u001b[0m\u001b[1;33m,\u001b[0m\u001b[0mcodecs\u001b[0m\u001b[1;33m.\u001b[0m\u001b[0mStreamWriter\u001b[0m\u001b[1;33m)\u001b[0m\u001b[1;33m:\u001b[0m\u001b[1;33m\u001b[0m\u001b[1;33m\u001b[0m\u001b[0m\n",
      "\u001b[1;31mUnicodeDecodeError\u001b[0m: 'charmap' codec can't decode byte 0x9d in position 3305: character maps to <undefined>"
     ]
    }
   ],
   "source": [
    "for i in range(1,2):\n",
    "    with open(f'allrecipes_recipes_{i}.csv', 'r') as csv_file_read:\n",
    "        csvreader = csv.reader(csv_file_read)\n",
    "        \n",
    "        next(csvreader)\n",
    "        \n",
    "        for i in range(sum(1 for row in csvreader)):\n",
    "            print(i)\n",
    "        \n",
    "#         for i, row in enumerate(csvreader):\n",
    "#             print(i, row)"
   ]
  },
  {
   "cell_type": "code",
   "execution_count": 78,
   "metadata": {},
   "outputs": [],
   "source": [
    "with open('allrecipes_recipes_1.csv', encoding='utf-8') as in_file:\n",
    "    with open('test_file.csv', 'w', encoding='utf-8') as out_file:\n",
    "        writer = csv.writer(out_file)\n",
    "\n",
    "        for row in csv.reader(in_file):\n",
    "            if row:\n",
    "                writer.writerow(row)"
   ]
  }
 ],
 "metadata": {
  "kernelspec": {
   "display_name": "Python 3",
   "language": "python",
   "name": "python3"
  },
  "language_info": {
   "codemirror_mode": {
    "name": "ipython",
    "version": 3
   },
   "file_extension": ".py",
   "mimetype": "text/x-python",
   "name": "python",
   "nbconvert_exporter": "python",
   "pygments_lexer": "ipython3",
   "version": "3.7.4"
  }
 },
 "nbformat": 4,
 "nbformat_minor": 4
}
