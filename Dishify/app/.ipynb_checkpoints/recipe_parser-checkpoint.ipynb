{
 "cells": [
  {
   "cell_type": "code",
   "execution_count": 17,
   "metadata": {
    "colab": {},
    "colab_type": "code",
    "id": "JxcXNUY4aePA"
   },
   "outputs": [],
   "source": [
    "import io\n",
    "import os\n",
    "import json\n",
    "import re\n",
    "from text_to_num import alpha2digit\n",
    "from PIL import Image\n",
    "import base64\n",
    "from io import BytesIO\n",
    "\n",
    "\n",
    "# Imports the Google Cloud client library\n",
    "from google.cloud import vision\n",
    "from google.cloud.vision import types\n",
    "\n",
    "os.environ[\"GOOGLE_APPLICATION_CREDENTIALS\"] = \"Key.json\""
   ]
  },
  {
   "cell_type": "code",
   "execution_count": 18,
   "metadata": {},
   "outputs": [],
   "source": [
    "im = Image.open(\"handwritten.jpg\")\n",
    "buffered = BytesIO()\n",
    "im.save(buffered, format=\"JPEG\")\n",
    "test = buffered.getvalue()"
   ]
  },
  {
   "cell_type": "code",
   "execution_count": 2,
   "metadata": {},
   "outputs": [],
   "source": [
    "im = Image.open(\"test.jpg\")\n",
    "buffered = BytesIO()\n",
    "im.save(buffered, format=\"JPEG\")\n",
    "img_str = base64.b64encode(buffered.getvalue())"
   ]
  },
  {
   "cell_type": "code",
   "execution_count": 17,
   "metadata": {},
   "outputs": [],
   "source": [
    "image = base64.b64decode(img_str)\n",
    "#im = io.BytesIO(image)"
   ]
  },
  {
   "cell_type": "code",
   "execution_count": 19,
   "metadata": {},
   "outputs": [],
   "source": [
    "client = vision.ImageAnnotatorClient()\n",
    "\n",
    "image = types.Image(content=test)\n",
    "\n",
    "response = client.document_text_detection(image=image)\n",
    "texts = response.text_annotations\n",
    "blocks = response.full_text_annotation\n",
    "    "
   ]
  },
  {
   "cell_type": "code",
   "execution_count": 21,
   "metadata": {},
   "outputs": [
    {
     "name": "stdout",
     "output_type": "stream",
     "text": [
      "yes\n"
     ]
    }
   ],
   "source": [
    "test = \".jpg\"\n",
    "\n",
    "if test.endswith(\".jpg\"):\n",
    "    print(\"yes\")"
   ]
  },
  {
   "cell_type": "code",
   "execution_count": 3,
   "metadata": {},
   "outputs": [],
   "source": [
    "def vision_api_call():\n",
    "    \n",
    "    client = vision.ImageAnnotatorClient()\n",
    "\n",
    "    # The name of the image file to annotate\n",
    "    file_name = os.path.abspath('test.jpg')\n",
    "\n",
    "    # Loads the image into memory\n",
    "    with io.open(file_name, 'rb') as image_file:\n",
    "      content = image_file.read()\n",
    "\n",
    "    image = types.Image(content=content)\n",
    "\n",
    "    # Perform text detection\n",
    "    response = client.document_text_detection(image=image)\n",
    "    texts = response.text_annotations\n",
    "    blocks = response.full_text_annotation\n",
    "    \n",
    "    return texts, blocks"
   ]
  },
  {
   "cell_type": "code",
   "execution_count": 7,
   "metadata": {},
   "outputs": [],
   "source": [
    "texts, blocks = vision_api_call()"
   ]
  },
  {
   "cell_type": "code",
   "execution_count": 9,
   "metadata": {
    "colab": {},
    "colab_type": "code",
    "id": "AznwkmEruA-6"
   },
   "outputs": [],
   "source": [
    "#set the key to access the api\n",
    "os.environ[\"GOOGLE_APPLICATION_CREDENTIALS\"] = \"Key.json\"\n",
    "\n",
    "# Instantiates a client\n",
    "client = vision.ImageAnnotatorClient()\n",
    "\n",
    "# The name of the image file to annotate\n",
    "file_name = os.path.abspath('test2.jpg')\n",
    "\n",
    "# Loads the image into memory\n",
    "with io.open(file_name, 'rb') as image_file:\n",
    "  content = image_file.read()\n",
    "\n",
    "image = types.Image(content=content)\n",
    "\n",
    "# Perform text detection\n",
    "response = client.document_text_detection(image=image)\n",
    "texts = response.text_annotations\n",
    "blocks = response.full_text_annotation\n",
    "\n"
   ]
  },
  {
   "cell_type": "code",
   "execution_count": 8,
   "metadata": {},
   "outputs": [
    {
     "data": {
      "text/plain": [
       "'• Block steht für ein \"logisches\" Element der Seite, beispielsweise einen Textbereich, ein Bild oder\\neine Spaltentrennung. Die Text- und Tabellenblöcke enthalten die für die Textextrahierung\\nwichtigsten Informationen.\\n• Paragraph ist eine strukturelle Texteinheit, die eine geordnete Wortfolge darstellt. Standardmäßig\\nwird davon ausgegangen, dass zwischen Wörtern Worttrennungen vorhanden sind.\\n• Word ist die kleinste Texteinheit. Sie wird als eine Reihe von Symbolen dargestellt.\\n• Symbol steht für ein Zeichen oder Satzzeichen.\\n'"
      ]
     },
     "execution_count": 8,
     "metadata": {},
     "output_type": "execute_result"
    }
   ],
   "source": [
    "texts[0].description"
   ]
  },
  {
   "cell_type": "code",
   "execution_count": 58,
   "metadata": {
    "colab": {},
    "colab_type": "code",
    "id": "IQq-Hx3-gLgD"
   },
   "outputs": [],
   "source": [
    "def is_number(n):\n",
    "    if len(n) == 0:\n",
    "        return False\n",
    "    \n",
    "    try:\n",
    "        float(n[0])   # Type-casting the string to `float`.\n",
    "                   # If string is not a valid `float`, \n",
    "                   # it'll raise `ValueError` exception\n",
    "    except ValueError:\n",
    "        return False\n",
    "    return True"
   ]
  },
  {
   "cell_type": "code",
   "execution_count": 60,
   "metadata": {},
   "outputs": [
    {
     "data": {
      "text/plain": [
       "True"
      ]
     },
     "execution_count": 60,
     "metadata": {},
     "output_type": "execute_result"
    }
   ],
   "source": [
    "is_number(\"222\")"
   ]
  },
  {
   "cell_type": "code",
   "execution_count": 2,
   "metadata": {},
   "outputs": [],
   "source": [
    "fraction_dict = {'½': '1/2',\n",
    "                 '⅓': '1/3',\n",
    "                 '⅔': '2/3',\n",
    "                 '¼': '1/4',\n",
    "                 '¾': '3/4',\n",
    "                 '⅕': '1/5',\n",
    "                 '⅖': '2/5',\n",
    "                 '⅗': '3/5',\n",
    "                 '⅘': '4/5',\n",
    "                 '⅙': '1/6',\n",
    "                 '⅚': '5/6',\n",
    "                 '⅐': '1/7',\n",
    "                 '⅛': '1/8',\n",
    "                 '⅜': '3/8',\n",
    "                 '⅝': '5/8',\n",
    "                 '⅞': '7/8',\n",
    "                 '⅑': '1/9',\n",
    "                 '⅒': '1/10'}\n",
    "\n",
    "fractions =  list(fraction_dict.keys())\n",
    "\n",
    "fractions_better = list(fraction_dict.values())"
   ]
  },
  {
   "cell_type": "code",
   "execution_count": 4,
   "metadata": {},
   "outputs": [
    {
     "data": {
      "text/plain": [
       "['1/2',\n",
       " '1/3',\n",
       " '2/3',\n",
       " '1/4',\n",
       " '3/4',\n",
       " '1/5',\n",
       " '2/5',\n",
       " '3/5',\n",
       " '4/5',\n",
       " '1/6',\n",
       " '5/6',\n",
       " '1/7',\n",
       " '1/8',\n",
       " '3/8',\n",
       " '5/8',\n",
       " '7/8',\n",
       " '1/9',\n",
       " '1/10']"
      ]
     },
     "execution_count": 4,
     "metadata": {},
     "output_type": "execute_result"
    }
   ],
   "source": [
    "fractions_better"
   ]
  },
  {
   "cell_type": "code",
   "execution_count": 18,
   "metadata": {},
   "outputs": [],
   "source": [
    "def improve_fractions(recipe):\n",
    "    for i in range(len(fractions)):\n",
    "        recipe = recipe.replace(fractions[i], fractions_better[i])\n",
    "        return recipe"
   ]
  },
  {
   "cell_type": "code",
   "execution_count": 19,
   "metadata": {},
   "outputs": [],
   "source": [
    "test  = \" helllo my name is ½\"\n",
    "\n"
   ]
  },
  {
   "cell_type": "code",
   "execution_count": 20,
   "metadata": {},
   "outputs": [
    {
     "data": {
      "text/plain": [
       "' helllo my name is 1/2'"
      ]
     },
     "execution_count": 20,
     "metadata": {},
     "output_type": "execute_result"
    }
   ],
   "source": [
    "improve_fractions(test)"
   ]
  },
  {
   "cell_type": "code",
   "execution_count": 19,
   "metadata": {},
   "outputs": [
    {
     "data": {
      "text/plain": [
       "'• Block steht für ein \"logisches\" Element der Seite, beispielsweise einen Textbereich, ein Bild oder\\neine Spaltentrennung. Die Text- und Tabellenblöcke enthalten die für die Textextrahierung\\nwichtigsten Informationen.\\n• Paragraph ist eine strukturelle Texteinheit, die eine geordnete Wortfolge darstellt. Standardmäßig\\nwird davon ausgegangen, dass zwischen Wörtern Worttrennungen vorhanden sind.\\n• Word ist die kleinste Texteinheit. Sie wird als eine Reihe von Symbolen dargestellt.\\n• Symbol steht für ein Zeichen oder Satzzeichen.\\n'"
      ]
     },
     "execution_count": 19,
     "metadata": {},
     "output_type": "execute_result"
    }
   ],
   "source": [
    "texts"
   ]
  },
  {
   "cell_type": "code",
   "execution_count": null,
   "metadata": {
    "colab": {},
    "colab_type": "code",
    "id": "YuGhymAA61TN"
   },
   "outputs": [],
   "source": [
    "# function to parse each line of the recipe individually and save qantity, unit and ingredient in a Json\n",
    "\n",
    "def parse_ingredients(recipe):\n",
    "    \n",
    "    # base dictionary \n",
    "    \n",
    "    base_dict_ingr =  {\"quantity\":None, \"unit\":None, \"ingredient\":None}\n",
    "    \n",
    "     # list to save modified base dictionaries \n",
    "    \n",
    "    ingredients = []\n",
    "    \n",
    "    # replace fractions with a better way of writing them: for example: '½' will be transformed to '1/2'\n",
    "    \n",
    "    for i in range(len(fractions)):\n",
    "        recipe = recipe.replace(fractions[i], fractions_better[i])\n",
    "    \n",
    "    # remove all special characters\n",
    "        \n",
    "    recipe = re.sub('[^A-Za-z0-9 ,;.:-?!\"\"\\n]+', '', recipe)\n",
    "    \n",
    "    # apply the text2num library if the recipe is in french, spanish or english. This will transform written numbers (like \"one hundred\") to \n",
    "    # integers in string format (like \"100\"). If the time permits a german version of this library will be implemented.\n",
    "    \n",
    "    recipe = text_to_number(recipe)\n",
    "    \n",
    "    # transform the string into an iterable format, line for line, word for word.\n",
    "    \n",
    "    recipe = [line.split() for line in recipe.splitlines()]\n",
    "    \n",
    "    # parse each line of the recipe for unit, quantity and ingredient\n",
    "    \n",
    "    for line in recipe:\n",
    "        \n",
    "        length = len(line)\n",
    "        \n",
    "        if length == 1:\n",
    "            \n",
    "            # either this line is part of the previous line or it is an ingredient that needs no unit or qantity. This code will treat it as an ingredient. \n",
    "            # Web will hopefully implement functionality that enables the user to add this line to the previous ingredient if necessary.\n",
    "            \n",
    "            new_entry = base_dict_ingr.copy()\n",
    "            new_entry[\"ingredient\"] = line[0]\n",
    "            ingredients.append(new_entry)\n",
    "             \n",
    "        elif length == 2:\n",
    "            \n",
    "            # this line is most probably an ingredient and a quantity \n",
    "            \n",
    "            new_entry = base_dict_ingr.copy()\n",
    "            \n",
    "            if (is_number(line[0][0]) and not is_number(line[1][0])):\n",
    "                \n",
    "                new_entry[\"quantity\"] = line[0]\n",
    "                new_entry[\"ingredient\"] = line[1]\n",
    "                ingredients.append(new_entry)\n",
    "            \n",
    "            elif (not is_number(line[0][0]) and is_number(line[1][0])):\n",
    "                \n",
    "                new_entry[\"quantity\"] = line[1]\n",
    "                new_entry[\"ingredient\"] = line[0]\n",
    "                ingredients.append(new_entry)\n",
    "            \n",
    "            else:\n",
    "                \n",
    "                # the last case covers both the possibility that both strings contain a number or that both dont. For both cases the same treatment makes sense.\n",
    "                # 1. If they both contain numbers something went wrong and saving this line only under ingredient will make it easier for the user to modify it.\n",
    "                # 2. If they both dont contain numbers they are probably part of the previous line and probably part of the ingredient part of that line. Saving\n",
    "                # this as one string under ingredient will make it easier for the user to modify this part.  \n",
    "            \n",
    "                \n",
    "                new_entry[\"ingredient\"] = \" \".join(line)\n",
    "                ingredients.append(new_entry)\n",
    "                \n",
    "        elif length > 2:\n",
    "            \n",
    "            # here a if else statement needs to be added that checks if there is a \",\" in the string. If so the second part needs to be checked if it is\n",
    "            # a seperate ingredient. \n",
    "            \n",
    "            # this line contains most probably an amount, a unit and an ingredient\n",
    "            \n",
    "            new_entry = base_dict_ingr.copy()\n",
    "            \n",
    "            for i in range(length):\n",
    "                \n",
    "                if (is_number(line[i]) and (i < (length - 1) )):\n",
    "                    \n",
    "                    new_entry[\"quantity\"] = line[i]\n",
    "                    new_entry[\"unit\"] = line[i+1]\n",
    "                    \n",
    "                    del line[i:i+2]\n",
    "                    new_entry[\"ingredient\"] = \" \".join(line)\n",
    "                    \n",
    "                    ingredients.append(new_entry)\n",
    "                \n",
    "                elif (is_number(line[i]) and (i == (length - 1) )):\n",
    "                    \n",
    "                    \n",
    "                    new_entry[\"quantity\"] = line[i]\n",
    "                    \n",
    "                    del line[i]\n",
    "                    new_entry[\"ingredient\"] = \" \".join(line)\n",
    "                    \n",
    "                    ingredients.append(new_entry)\n",
    "                    \n",
    "                    \n",
    "                else:\n",
    "                    \n",
    "                    new_entry[\"ingredient\"] = \" \".join(line)\n",
    "                    \n",
    "                    ingredients.append(new_entry)\n",
    "                    \n",
    "        else:\n",
    "            continue\n",
    "            \n",
    "        return \n",
    "            \n",
    "            \n",
    "    \n",
    "            \n",
    "            \n",
    "        \n",
    "        \n",
    "            \n",
    "            \n",
    "    "
   ]
  },
  {
   "cell_type": "code",
   "execution_count": null,
   "metadata": {
    "colab": {},
    "colab_type": "code",
    "id": "XesOLjdIgLjc"
   },
   "outputs": [],
   "source": [
    "# create function to parse instructions, to check if the text is organsised by numbers or paragraphs. \n",
    "# if the text is not organised in either way the whole text will be returned as one step and the user \n",
    "# will need to structure the instructions himself - if he wants\n",
    "\n",
    "\n",
    "def parse_instructions(recipe):\n",
    "    \n",
    "    # base dictionary\n",
    "    \n",
    "    base_dict_instr = {\"step\": None}\n",
    "    \n",
    "    if len(blocks.pages[0].blocks) < 2:\n",
    "        \n",
    "        # parse string to check if there is a detectable structure in the string - 1. followed by 2. followed by 3. etc. to indicate steps.\n",
    "        \n",
    "        # apply text2num library\n",
    "    \n",
    "        recipe = text_to_number(recipe)\n",
    "    \n",
    "        # transform to iterable format\n",
    "    \n",
    "        recipe = recipe.splitlines()\n",
    "        \n",
    "        for line in recipe:\n",
    "            \n",
    "            \n",
    "            \n",
    "            \n",
    "            \n",
    "            \n",
    "                                                                                                                                                                                                                                                                                                                                                                                                                                                                                                                                                                                                                                                                                                                                                                                                                                                                                                                                                                                                                                                                                                                                                                                                                                                                                                                                                                                                                                                                                                                                                                                                                                                                                                                                                                                                                                                                                                                                                                                                                                                                                                                                                                                                                                                                                                                                                                                                                                                                                                                                                                                                                                                                                                                                                                                                                                                                                                                                                                                                                                                                                                                                                                                                                                                                                                                                                                                                                                                                                                                                                                                                                                                                                                                                                                                                                                                                                                                                                                                                                                                                                                                                                                                                                                                                                                                                                                                                                                                                                                                                                                                                                                                                                                                                                                                                                                                                                                                                                                                                                                                                                                                                                                                                                                                                                                                                                                                                                                                                                                                                                                                                                                                                                                                                                                                                                                                                                                                                                                                                                                                                                                                                                                                                                                                                                                                                                                                                                                                                                                                                                                                                                                                                                                                                                                                                                                                                                                                                                                                                                                                                                                                                                                                                                                                                                                                                                                                                                                                                                                                                                                                                                                                                                                                                                                                                                                                                                                                                                                                                                                                                                                                                                                                                                                                                                                                                                                                                                                                                                                                                                                                                                                                                                                                                                                                                                                                                                                                                                                                                                                                                                                                                                                                                                                                                                                                                                                                                                                                                                                                                                                                                                                                                                                                                                                                                                                                                                                                                                                                                                                                                                                                                                                                                                                                                                                                                                                                                                                                                                                                                                                                                                                                                                                                                                                                                                                                                                                                                                                                                                                                                                                                                                                                                                                                                                                                                                                                                                                                                                                                                                                                                                                                                                                                                                                                                                                                                                                                                                                                                                                                                                                                                                                                                                                                                                                                                                                                                                                                                                                                                                                                                                                                                                                                                                                                                                                                                                                                                                                                                                                                                                                                                                                                                                                                                                                                                                                                                                                                                                                                                                                                                                                                                                                                                                                                                                                                                                                                                                                                                                                                                                                                                                                                                                                                                                                                                                                                                                                                                                                                                                                                                                                                                                                                                                                                                                                                                                                                                                                                                                                                                                                                                                                                                                                                                                                                                                                                                                                                                                                                                                                                                                                                                                                                                                                                                                                                                                                                                                                                                                                                                                                                                                                                                                                                                                                                                                                                                                                                                                                                                                                                                                                                                                                                                                                                                                                                                                                                                                                                                                                                                                                                                                                                                                                                                                                                                                                                                                                                                                                                                                                                                                                                                                                                                                                                                                                                                                                                                                                                                                                                                                                                                                                                                                                                                                                                                                                                                                                                                                                                                                                                                                                                                                                                                                                                                                                                                                                                                                                                                                                                                                                                                                                                                                                                                                                                                                                                                                                                                                                                                                                                                                                                                                                                                                                                                                                                                                                                                                                                                                                                                                                                                                                                                                                                                                                                                                                                                                                                                                                                                                                                                                                                                                                                                                                                                                                                                                                                                                                                                                                                                                                                                                                                                                                                                                                                                                                                                                                                                                                                                                                                                                                                                                                                                                                                                                                                                                                                                                                                                                                                                                                                                                                                                                                                                                                                                                                                                                                                                                                                                                                                                                                                                                                                                                                                                                                                                                                                                                                                                                                                                                                                                                                                                                                                                                                                                                                                                                                                                                                                                                                                                                                                                                                                                                                                                                                                                                                                                                                                                                                                                                                                                                                                                                                                                                                                                                                                                                                                                                                                                                                                                                                                                                                                                                                                                                                                                                                                                                                                                                                                                                                                                                                                                                                                                                                                                                                                                                                                                                                                                                                                                                                                                                                                                                                                                                                                                                                                                                                                                                                                                                                                                                                                                                                                                                                                                                                                                                                                                                                                                                                                                                                                                                                                                                                                                                                                                                                                                                                                                                                                                                                                                                                                                                                                                                                                                                                                                                                                                                                                                                                                                                                                                                                                                                                                                                                                                                                                                                                                                                                                                                                                                                                                                                                                                                                                                                                                                                                                                                                                                                                                                                                                                                                                                                                                                                                                                                                                                                                                                                                                                                                                                                                                                                                                                                                                                                                                                                                                                                                                                                                                                                                                                                                                                                                                                                                                                                                                                                                                                                                                                                                                                                                                                                                                                                                                                                                                                                                                                                                                                                                                                                                                                                                                                                                                                                                                                                                                                                                                                                                                                                                                                                                                                                                                                                                                                                                                                                                                                                                                                                                                                                                                                                                                                                                                                                                                                                                                                                                                                                                                                                                                                                                                                                                                                                                                                                                                                                                                                                                                                                                                                                                                                                                                                                                                                                                                                                                                                                                                                                                                                                                                                                                                                                                                                                                                                                                                                                                                                                                                                                                                                                                                                                                                                                                                                                                                                                                                                                                                                                                                                                                                                                                                                                                                                                                                                                                                                                                                                                                                                                                                                                                                                                                                                                                                                                                                                                                                                                                                                                                                                                                                                                                                                                                                                                                                                                                                                                                                                                                                                                                                                                                                                                                                                                                                                                                                                                                                                                                                                                                                                                                                                                                                                                                                                                                                                                                                                                                                                                                                                                                                                                                                                                                                                                                                                                                                                                                                                                                                                                                                                                                                                                                                                                                                                                                                                                                                                                                                                                                                                                                                                                                                                                                                                                                                                                                                                                                                                                                                                                                                                                                                                                                                                                                                                                                                                                                                                                                                                                                                                                                                                                                                                                                                                                                                                                                                                                                                                                                                                                                                                                                                                                                                                                                                                                                                                                                                                                                                                                                                                                                                                                                                                                                                                                                                                                                                                                                                                                                                                                                                                                                                                                                                                                                                                                                                                                                                                                                                                                                                                                                                                                                                                                                                                                                                                                                                                                                                                                                                                                                                                                                                                                                                                                                                                                                                                                                                                                                                                                                                                                                                                                                                                                                                                                                                                                                                                                                                                                                                                                                                                                                                                                                                                                                                                                                                                                                                                                                                                                                                                                                                                                                                                                                                                                                                                                                                                                                                                                                                                                                                                                                                                                                                                                                                                                                                                                                                                                                                                                                                                                                                                                                                                                                                                                                                                                                                                                                                                                                                                                                                                                                                                                                                                                                                                                                                                                                                                                                                                                                                                                                                                                                                                                                                                                                                                                                                                                                                                                                                                                                                                                                                                                                                                                                                                                                                                                                                                                                                                                                                                                                                                                                                                                                                                                                                                                                                                                                                                                                                                                                                                                                                                                                                                                                                                                                                                                                                                                                                                                                                                                                                                                                                                                                                                                                                                                                                                                                                                                                                                                                                                                                                                                                                                                                                                                                                                                                                                                                                                                                                                                                                                                                                                                                                                                                                                                                                                                                                                                                                                                                                                                                                                                                                                                                                                                                                                                                                                                                                                                                                                                                                                                                                                                                                                                                                                                                                                                                                                                                                                                                                                                                                                                                                                                                                                                                                                                                                                                                                                                                                                                                                                                                                                                                                                                                                                                                                                                                                                                                                                                                                                                                                                                                                                                                                                                                                                                                                                                                                                                                                                                                                                                                                                                                                                                                                                                                                                                                                                                                                                                                                                                                                                                                                                                                                                                                                                                                                                                                                                                                                                                                                                                                                                                                                                                                                                                                                                                                                                                                                                                                                                                                                                                                                                                                                                                                                                                                                                                                                                                                                                                                                                                                                                                                                                                                                                                                                                                                                                                                                                                                                                                                                                                                                                                                                                                                                                                                                                                                                                                                                                                                                                                                                                                                                                                                                                                                                                                                                                                                                                                                                                                                                                                                                                                                                                                                                                                                                                                                                                                                                                                                                                                                                                                                                                                                                                                                                                                                                                                                                                                                                                                                                                                                                                                                                                                                                                                                                                                                                                                                                                                                                                                                                                                                                                                                                                                                                                                                                                                                                                                                                                                                                                                                                                                                                                                                                                                                                                                                                                                                                                                                                                                                                                                                                                                                                                                                                                                                                                                                                                                                                                                                                                                                                                                                                                                                                                                                                                                                                                                                                                                                                                                                                                                                                                                                                                                                                                                                                                                                                                                                                                                                                                                                                                                                                                                                                                                                                                                                                                                                                                                                                                                                                                                                                                                                                                                                                                                                                                                                                                                                                                                                                                                                                                                                                                                                                                                                                                                                                                                                                                                                                                                                                                                                                                                                                                                                                                                                                                                                                                                                                                                                      \n",
    "            \n",
    "    \n",
    "        \n",
    "    else:\n",
    "        \n",
    "        all_blocks = \"\"\n",
    "\n",
    "        for a in range(len(blocks.pages[0].blocks)):\n",
    "    \n",
    "            all_blocks = all_blocks + \"new block\"\n",
    "    \n",
    "            for b in range(len(blocks.pages[0].blocks[a].paragraphs)):\n",
    "        \n",
    "                for c in range(len(blocks.pages[0].blocks[a].paragraphs[b].words)):\n",
    "            \n",
    "                    all_blocks = all_blocks + \" \"\n",
    "                    for d in range(len(blocks.pages[0].blocks[a].paragraphs[b].words[c].symbols)):\n",
    "                \n",
    "                        all_blocks = all_blocks + blocks.pages[0].blocks[a].paragraphs[b].words[c].symbols[d].text\n",
    "                    \n",
    "        blocks_splitted = all_blocks.split(\"new block\") \n",
    "        \n",
    "        return blocks_splitted[1:]\n",
    "    \n",
    "    \n",
    "    \n",
    "    "
   ]
  },
  {
   "cell_type": "code",
   "execution_count": 4,
   "metadata": {},
   "outputs": [
    {
     "data": {
      "text/plain": [
       "'l'"
      ]
     },
     "execution_count": 4,
     "metadata": {},
     "output_type": "execute_result"
    }
   ],
   "source": [
    "blocks.pages[0].blocks[0].paragraphs[0].words[1].symbols[1].text"
   ]
  },
  {
   "cell_type": "code",
   "execution_count": null,
   "metadata": {},
   "outputs": [],
   "source": []
  },
  {
   "cell_type": "code",
   "execution_count": 6,
   "metadata": {},
   "outputs": [
    {
     "data": {
      "text/plain": [
       "4"
      ]
     },
     "execution_count": 6,
     "metadata": {},
     "output_type": "execute_result"
    }
   ],
   "source": [
    "len(blocks.pages[0].blocks)"
   ]
  },
  {
   "cell_type": "code",
   "execution_count": 6,
   "metadata": {},
   "outputs": [],
   "source": [
    "all_blocks = \"\"\n",
    "\n",
    "for a in range(len(blocks.pages[0].blocks)):\n",
    "    \n",
    "    all_blocks = all_blocks + \"new block\"\n",
    "    \n",
    "    for b in range(len(blocks.pages[0].blocks[a].paragraphs)):\n",
    "        \n",
    "        for c in range(len(blocks.pages[0].blocks[a].paragraphs[b].words)):\n",
    "            \n",
    "            all_blocks = all_blocks + \" \"\n",
    "            for d in range(len(blocks.pages[0].blocks[a].paragraphs[b].words[c].symbols)):\n",
    "                \n",
    "                all_blocks = all_blocks + blocks.pages[0].blocks[a].paragraphs[b].words[c].symbols[d].text\n",
    "                   "
   ]
  },
  {
   "cell_type": "code",
   "execution_count": 9,
   "metadata": {},
   "outputs": [],
   "source": [
    "test = all_blocks.split(\"new block\")[1:]"
   ]
  },
  {
   "cell_type": "code",
   "execution_count": 10,
   "metadata": {},
   "outputs": [
    {
     "data": {
      "text/plain": [
       "[' Für 4 Kenner 1 / 2 Bund Basilikum 3 - 4 Tomaten ( Hauptsache : reif und fruchtig ) 4 EL bestes Olivenöl Salz , schwarzer Pfeffer aus der Mühle 4 große Scheiben italienisches Weißbrot 4 Knoblauchzehen']"
      ]
     },
     "execution_count": 10,
     "metadata": {},
     "output_type": "execute_result"
    }
   ],
   "source": [
    "test"
   ]
  },
  {
   "cell_type": "code",
   "execution_count": 29,
   "metadata": {},
   "outputs": [
    {
     "data": {
      "text/plain": [
       "[' • Block steht für ein \" logisches \" Element der Seite , beispielsweise einen Textbereich , ein Bild oder eine Spaltentrennung . Die Text - und Tabellenblöcke enthalten die für die Textextrahierung wichtigsten Informationen .',\n",
       " ' • Paragraph ist eine strukturelle Texteinheit , die eine geordnete Wortfolge darstellt . Standardmäßig wird davon ausgegangen , dass zwischen Wörtern Worttrennungen vorhanden sind .',\n",
       " ' • Word ist die kleinste Texteinheit . Sie wird als eine Reihe von Symbolen dargestellt .',\n",
       " ' • Symbol steht für ein Zeichen oder Satzzeichen .']"
      ]
     },
     "execution_count": 29,
     "metadata": {},
     "output_type": "execute_result"
    }
   ],
   "source": [
    "test[1:]"
   ]
  },
  {
   "cell_type": "code",
   "execution_count": null,
   "metadata": {},
   "outputs": [],
   "source": []
  },
  {
   "cell_type": "code",
   "execution_count": 28,
   "metadata": {},
   "outputs": [
    {
     "ename": "TypeError",
     "evalue": "unhashable type: 'list'",
     "output_type": "error",
     "traceback": [
      "\u001b[1;31m---------------------------------------------------------------------------\u001b[0m",
      "\u001b[1;31mTypeError\u001b[0m                                 Traceback (most recent call last)",
      "\u001b[1;32m<ipython-input-28-4f7900977103>\u001b[0m in \u001b[0;36m<module>\u001b[1;34m\u001b[0m\n\u001b[1;32m----> 1\u001b[1;33m \u001b[0mjson\u001b[0m \u001b[1;33m=\u001b[0m \u001b[1;33m{\u001b[0m\u001b[0mtest\u001b[0m\u001b[1;33m[\u001b[0m\u001b[1;36m1\u001b[0m\u001b[1;33m:\u001b[0m\u001b[1;33m]\u001b[0m\u001b[1;33m}\u001b[0m\u001b[1;33m\u001b[0m\u001b[0m\n\u001b[0m",
      "\u001b[1;31mTypeError\u001b[0m: unhashable type: 'list'"
     ]
    }
   ],
   "source": [
    "json = {test[1:]}"
   ]
  },
  {
   "cell_type": "code",
   "execution_count": 22,
   "metadata": {},
   "outputs": [
    {
     "data": {
      "text/plain": [
       "'wasmy \\nbamait:;wa, . '"
      ]
     },
     "execution_count": 22,
     "metadata": {},
     "output_type": "execute_result"
    }
   ],
   "source": [
    "test = \"was@my \\nbamait:;wa, . -\"\n",
    "\n",
    "re.sub('[^A-Za-z0-9 ,;.:-?!\"\"\\n]+', '', test)"
   ]
  },
  {
   "cell_type": "code",
   "execution_count": 23,
   "metadata": {},
   "outputs": [
    {
     "data": {
      "text/plain": [
       "'was@my \\nbamait:;wa, . -'"
      ]
     },
     "execution_count": 23,
     "metadata": {},
     "output_type": "execute_result"
    }
   ],
   "source": [
    "test\n"
   ]
  },
  {
   "cell_type": "code",
   "execution_count": 16,
   "metadata": {},
   "outputs": [
    {
     "data": {
      "text/plain": [
       "'was@my \\nbamait;wa\\n . -'"
      ]
     },
     "execution_count": 16,
     "metadata": {},
     "output_type": "execute_result"
    }
   ],
   "source": [
    "test.replace(\",\",\"\\n\")"
   ]
  },
  {
   "cell_type": "code",
   "execution_count": 17,
   "metadata": {},
   "outputs": [
    {
     "data": {
      "text/plain": [
       "'was@my \\nbamait;wa, . -'"
      ]
     },
     "execution_count": 17,
     "metadata": {},
     "output_type": "execute_result"
    }
   ],
   "source": [
    "test"
   ]
  },
  {
   "cell_type": "code",
   "execution_count": 18,
   "metadata": {},
   "outputs": [],
   "source": [
    "test =  test.replace(\",\",\"\\n\")"
   ]
  },
  {
   "cell_type": "code",
   "execution_count": 19,
   "metadata": {},
   "outputs": [
    {
     "data": {
      "text/plain": [
       "'was@my \\nbamait;wa\\n . -'"
      ]
     },
     "execution_count": 19,
     "metadata": {},
     "output_type": "execute_result"
    }
   ],
   "source": []
  },
  {
   "cell_type": "code",
   "execution_count": 9,
   "metadata": {},
   "outputs": [],
   "source": [
    "text3 = \"one hundred horses\"\n",
    "\n",
    "text3 = alpha2digit(text3, \"en\")"
   ]
  },
  {
   "cell_type": "code",
   "execution_count": 10,
   "metadata": {},
   "outputs": [
    {
     "data": {
      "text/plain": [
       "'100 horses'"
      ]
     },
     "execution_count": 10,
     "metadata": {},
     "output_type": "execute_result"
    }
   ],
   "source": [
    "text3"
   ]
  },
  {
   "cell_type": "code",
   "execution_count": 23,
   "metadata": {},
   "outputs": [],
   "source": [
    "def text_to_number(recipe):\n",
    "    \n",
    "    if texts[0].locale == \"en\":\n",
    "        \n",
    "        recipe = alpha2digit(recipe, \"en\")\n",
    "        return recipe\n",
    "    \n",
    "    elif texts[0].locale == \"es\":\n",
    "        \n",
    "        recipe = alpha2digit(recipe, \"es\")\n",
    "        return recipe\n",
    "        \n",
    "    elif texts[0].locale == \"fr\":\n",
    "        \n",
    "        recipe = alpha2digit(recipe, \"fr\")\n",
    "        return recipe\n",
    "    \n",
    "    else:\n",
    "        return recipe\n",
    "        \n",
    "    \n",
    "    "
   ]
  },
  {
   "cell_type": "code",
   "execution_count": null,
   "metadata": {},
   "outputs": [],
   "source": []
  },
  {
   "cell_type": "code",
   "execution_count": 19,
   "metadata": {},
   "outputs": [
    {
     "data": {
      "text/plain": [
       "'eine tomates'"
      ]
     },
     "execution_count": 19,
     "metadata": {},
     "output_type": "execute_result"
    }
   ],
   "source": [
    "text_to_num(\"eine tomates\")"
   ]
  },
  {
   "cell_type": "code",
   "execution_count": 26,
   "metadata": {},
   "outputs": [],
   "source": [
    "my_dict = {\"unit\": None}"
   ]
  },
  {
   "cell_type": "code",
   "execution_count": 29,
   "metadata": {},
   "outputs": [
    {
     "name": "stdout",
     "output_type": "stream",
     "text": [
      "None\n"
     ]
    }
   ],
   "source": [
    "print(my_dict[\"unit\"])"
   ]
  },
  {
   "cell_type": "code",
   "execution_count": 48,
   "metadata": {},
   "outputs": [],
   "source": [
    "l = []\n",
    "base_dict =  {\"amount\":None, \"unit\":None, \"ingredient\":None}\n",
    "    "
   ]
  },
  {
   "cell_type": "code",
   "execution_count": 49,
   "metadata": {},
   "outputs": [],
   "source": [
    "new = base_dict.copy()"
   ]
  },
  {
   "cell_type": "code",
   "execution_count": 50,
   "metadata": {},
   "outputs": [],
   "source": [
    "new[\"unit\"] = 12"
   ]
  },
  {
   "cell_type": "code",
   "execution_count": 51,
   "metadata": {},
   "outputs": [
    {
     "data": {
      "text/plain": [
       "{'amount': None, 'unit': 12, 'ingredient': None}"
      ]
     },
     "execution_count": 51,
     "metadata": {},
     "output_type": "execute_result"
    }
   ],
   "source": [
    "new"
   ]
  },
  {
   "cell_type": "code",
   "execution_count": 52,
   "metadata": {},
   "outputs": [
    {
     "data": {
      "text/plain": [
       "{'amount': None, 'unit': None, 'ingredient': None}"
      ]
     },
     "execution_count": 52,
     "metadata": {},
     "output_type": "execute_result"
    }
   ],
   "source": [
    "base_dict"
   ]
  },
  {
   "cell_type": "code",
   "execution_count": 70,
   "metadata": {},
   "outputs": [
    {
     "data": {
      "text/plain": [
       "'we have'"
      ]
     },
     "execution_count": 70,
     "metadata": {},
     "output_type": "execute_result"
    }
   ],
   "source": [
    "hel = [\"we\", \"have\"]\n",
    "\" \".join(hel)\n"
   ]
  },
  {
   "cell_type": "code",
   "execution_count": 83,
   "metadata": {},
   "outputs": [
    {
     "data": {
      "text/plain": [
       "True"
      ]
     },
     "execution_count": 83,
     "metadata": {},
     "output_type": "execute_result"
    }
   ],
   "source": [
    "3 != 4"
   ]
  },
  {
   "cell_type": "code",
   "execution_count": 73,
   "metadata": {},
   "outputs": [],
   "source": [
    "del hel[0:2]"
   ]
  },
  {
   "cell_type": "code",
   "execution_count": 74,
   "metadata": {},
   "outputs": [
    {
     "data": {
      "text/plain": [
       "[]"
      ]
     },
     "execution_count": 74,
     "metadata": {},
     "output_type": "execute_result"
    }
   ],
   "source": [
    "hel"
   ]
  },
  {
   "cell_type": "code",
   "execution_count": 77,
   "metadata": {},
   "outputs": [],
   "source": [
    "b =[1,2,3,4,5,6,7,8,9]\n",
    "\n",
    "\n"
   ]
  },
  {
   "cell_type": "code",
   "execution_count": 79,
   "metadata": {},
   "outputs": [],
   "source": [
    "del b[2:4]"
   ]
  },
  {
   "cell_type": "code",
   "execution_count": 82,
   "metadata": {},
   "outputs": [
    {
     "data": {
      "text/plain": [
       "<enumerate at 0x217c8c47090>"
      ]
     },
     "execution_count": 82,
     "metadata": {},
     "output_type": "execute_result"
    }
   ],
   "source": [
    "enumerate(b)"
   ]
  },
  {
   "cell_type": "code",
   "execution_count": 84,
   "metadata": {},
   "outputs": [
    {
     "data": {
      "text/plain": [
       "4"
      ]
     },
     "execution_count": 84,
     "metadata": {},
     "output_type": "execute_result"
    }
   ],
   "source": [
    "b = [1,2,3,4]\n",
    "\n",
    "len(b)"
   ]
  },
  {
   "cell_type": "code",
   "execution_count": 2,
   "metadata": {},
   "outputs": [],
   "source": [
    "import json\n",
    "\n",
    "with open('test.json') as json_file:\n",
    "    data = json.load(json_file)"
   ]
  },
  {
   "cell_type": "code",
   "execution_count": 3,
   "metadata": {},
   "outputs": [
    {
     "data": {
      "text/plain": [
       "{'image': 'string'}"
      ]
     },
     "execution_count": 3,
     "metadata": {},
     "output_type": "execute_result"
    }
   ],
   "source": [
    "data"
   ]
  },
  {
   "cell_type": "code",
   "execution_count": 5,
   "metadata": {},
   "outputs": [],
   "source": [
    "test = open(\"test.json\")"
   ]
  },
  {
   "cell_type": "code",
   "execution_count": 6,
   "metadata": {},
   "outputs": [
    {
     "data": {
      "text/plain": [
       "<_io.TextIOWrapper name='test.json' mode='r' encoding='cp1252'>"
      ]
     },
     "execution_count": 6,
     "metadata": {},
     "output_type": "execute_result"
    }
   ],
   "source": [
    "test"
   ]
  },
  {
   "cell_type": "code",
   "execution_count": 7,
   "metadata": {},
   "outputs": [
    {
     "data": {
      "text/plain": [
       "{'image': 'string'}"
      ]
     },
     "execution_count": 7,
     "metadata": {},
     "output_type": "execute_result"
    }
   ],
   "source": [
    "json.load(test)"
   ]
  },
  {
   "cell_type": "code",
   "execution_count": null,
   "metadata": {},
   "outputs": [],
   "source": []
  }
 ],
 "metadata": {
  "colab": {
   "collapsed_sections": [],
   "name": "recipe_parser.ipynb",
   "provenance": []
  },
  "kernelspec": {
   "display_name": "Spotify (Python3)",
   "language": "python",
   "name": "spotify"
  },
  "language_info": {
   "codemirror_mode": {
    "name": "ipython",
    "version": 3
   },
   "file_extension": ".py",
   "mimetype": "text/x-python",
   "name": "python",
   "nbconvert_exporter": "python",
   "pygments_lexer": "ipython3",
   "version": "3.7.0"
  }
 },
 "nbformat": 4,
 "nbformat_minor": 4
}
