{
 "cells": [
  {
   "cell_type": "code",
   "execution_count": 1,
   "metadata": {},
   "outputs": [
    {
     "name": "stderr",
     "output_type": "stream",
     "text": [
      "C:\\Users\\UX490\\Anaconda3\\envs\\spotify\\lib\\site-packages\\IPython\\core\\interactiveshell.py:3063: DtypeWarning: Columns (28,29,30) have mixed types.Specify dtype option on import or set low_memory=False.\n",
      "  interactivity=interactivity, compiler=compiler, result=result)\n"
     ]
    }
   ],
   "source": [
    "import pandas as pd\n",
    "\n",
    "df  = pd.read_csv(\"recipes_table_v2.csv\")"
   ]
  },
  {
   "cell_type": "code",
   "execution_count": 2,
   "metadata": {},
   "outputs": [
    {
     "data": {
      "text/html": [
       "<div>\n",
       "<style scoped>\n",
       "    .dataframe tbody tr th:only-of-type {\n",
       "        vertical-align: middle;\n",
       "    }\n",
       "\n",
       "    .dataframe tbody tr th {\n",
       "        vertical-align: top;\n",
       "    }\n",
       "\n",
       "    .dataframe thead th {\n",
       "        text-align: right;\n",
       "    }\n",
       "</style>\n",
       "<table border=\"1\" class=\"dataframe\">\n",
       "  <thead>\n",
       "    <tr style=\"text-align: right;\">\n",
       "      <th></th>\n",
       "      <th>name</th>\n",
       "      <th>ingredient1</th>\n",
       "      <th>ingredient2</th>\n",
       "      <th>ingredient3</th>\n",
       "      <th>ingredient4</th>\n",
       "      <th>ingredient5</th>\n",
       "      <th>ingredient6</th>\n",
       "      <th>ingredient7</th>\n",
       "      <th>ingredient8</th>\n",
       "      <th>ingredient9</th>\n",
       "      <th>...</th>\n",
       "      <th>ingredient21</th>\n",
       "      <th>ingredient22</th>\n",
       "      <th>ingredient23</th>\n",
       "      <th>ingredient24</th>\n",
       "      <th>ingredient25</th>\n",
       "      <th>ingredient26</th>\n",
       "      <th>ingredient27</th>\n",
       "      <th>ingredient28</th>\n",
       "      <th>ingredient29</th>\n",
       "      <th>ingredient30</th>\n",
       "    </tr>\n",
       "  </thead>\n",
       "  <tbody>\n",
       "    <tr>\n",
       "      <th>0</th>\n",
       "      <td>Death by Chocolate Mousse</td>\n",
       "      <td>['21', None, 'chocolate sandwich cookies, crus...</td>\n",
       "      <td>['1/4', 'cup', 'butter, softened']</td>\n",
       "      <td>['1', 'cup', 'heavy cream']</td>\n",
       "      <td>['1', '(12 ounce) package', 'semisweet chocola...</td>\n",
       "      <td>['1', 'teaspoon', 'vanilla extract']</td>\n",
       "      <td>['1', 'pinch', 'salt']</td>\n",
       "      <td>['2', 'cups', 'heavy cream']</td>\n",
       "      <td>['1/4', 'cup', 'white sugar']</td>\n",
       "      <td>['1', 'cup', 'heavy cream, chilled']</td>\n",
       "      <td>...</td>\n",
       "      <td>NaN</td>\n",
       "      <td>NaN</td>\n",
       "      <td>NaN</td>\n",
       "      <td>NaN</td>\n",
       "      <td>NaN</td>\n",
       "      <td>NaN</td>\n",
       "      <td>NaN</td>\n",
       "      <td>NaN</td>\n",
       "      <td>NaN</td>\n",
       "      <td>NaN</td>\n",
       "    </tr>\n",
       "    <tr>\n",
       "      <th>1</th>\n",
       "      <td>Shrimp and Crabmeat Loaf</td>\n",
       "      <td>['1', '(6 ounce) can', 'small shrimp, drained']</td>\n",
       "      <td>['1', '(6 ounce) can', 'crabmeat, drained and ...</td>\n",
       "      <td>['1/2', 'cup', 'mayonnaise']</td>\n",
       "      <td>['1/4', 'cup thinly slice', 'd green onions']</td>\n",
       "      <td>['1/4', 'cup', 'diced celery']</td>\n",
       "      <td>['1', '(8 ounce) package', 'shredded mozzarell...</td>\n",
       "      <td>['1/8', 'teaspoon', 'salt']</td>\n",
       "      <td>['1/8', 'teaspoon', 'ground black pepper']</td>\n",
       "      <td>NaN</td>\n",
       "      <td>...</td>\n",
       "      <td>NaN</td>\n",
       "      <td>NaN</td>\n",
       "      <td>NaN</td>\n",
       "      <td>NaN</td>\n",
       "      <td>NaN</td>\n",
       "      <td>NaN</td>\n",
       "      <td>NaN</td>\n",
       "      <td>NaN</td>\n",
       "      <td>NaN</td>\n",
       "      <td>NaN</td>\n",
       "    </tr>\n",
       "    <tr>\n",
       "      <th>2</th>\n",
       "      <td>Senate Bean Soup from Idahoan®</td>\n",
       "      <td>['1', '(4 ounce) package', 'Idahoan® Roasted G...</td>\n",
       "      <td>['2', 'tablespoons', 'olive oil']</td>\n",
       "      <td>['1', None, 'yellow onion, chopped']</td>\n",
       "      <td>['2', 'stalks', 'celery, chopped']</td>\n",
       "      <td>['2', None, 'carrots, chopped']</td>\n",
       "      <td>['2', '(14.5 ounce) cans', 'white beans, rinse...</td>\n",
       "      <td>['1/2', 'bunch', 'parsley, chopped']</td>\n",
       "      <td>NaN</td>\n",
       "      <td>NaN</td>\n",
       "      <td>...</td>\n",
       "      <td>NaN</td>\n",
       "      <td>NaN</td>\n",
       "      <td>NaN</td>\n",
       "      <td>NaN</td>\n",
       "      <td>NaN</td>\n",
       "      <td>NaN</td>\n",
       "      <td>NaN</td>\n",
       "      <td>NaN</td>\n",
       "      <td>NaN</td>\n",
       "      <td>NaN</td>\n",
       "    </tr>\n",
       "    <tr>\n",
       "      <th>3</th>\n",
       "      <td>Nutmeg Refrigerator Cookies</td>\n",
       "      <td>['1/2', 'cup', 'butter']</td>\n",
       "      <td>['1/3', 'cup', 'white sugar']</td>\n",
       "      <td>['2/3', 'cup', 'packed brown sugar']</td>\n",
       "      <td>['1', None, 'egg']</td>\n",
       "      <td>['1', 'teaspoon', 'vanilla extract']</td>\n",
       "      <td>['1 1/2', 'cups', 'all-purpose flour']</td>\n",
       "      <td>['1/4', 'teaspoon', 'cream of tartar']</td>\n",
       "      <td>['1/4', 'teaspoon', 'salt']</td>\n",
       "      <td>['1/2', 'teaspoon', 'ground nutmeg']</td>\n",
       "      <td>...</td>\n",
       "      <td>NaN</td>\n",
       "      <td>NaN</td>\n",
       "      <td>NaN</td>\n",
       "      <td>NaN</td>\n",
       "      <td>NaN</td>\n",
       "      <td>NaN</td>\n",
       "      <td>NaN</td>\n",
       "      <td>NaN</td>\n",
       "      <td>NaN</td>\n",
       "      <td>NaN</td>\n",
       "    </tr>\n",
       "    <tr>\n",
       "      <th>4</th>\n",
       "      <td>French Toast Sandwich</td>\n",
       "      <td>['2', None, 'eggs']</td>\n",
       "      <td>['3', 'tablespoons', 'milk']</td>\n",
       "      <td>['3', 'tablespoons', 'white sugar']</td>\n",
       "      <td>['1/2', 'teaspoon', 'vanilla extract']</td>\n",
       "      <td>['1', 'cup', 'oil for frying']</td>\n",
       "      <td>['1', 'cup', 'milk, divided']</td>\n",
       "      <td>['2', 'tablespoons', 'custard powder']</td>\n",
       "      <td>['1/2', 'cup', \"confectioners' sugar\"]</td>\n",
       "      <td>['1/2', 'cup', 'whipped cream']</td>\n",
       "      <td>...</td>\n",
       "      <td>NaN</td>\n",
       "      <td>NaN</td>\n",
       "      <td>NaN</td>\n",
       "      <td>NaN</td>\n",
       "      <td>NaN</td>\n",
       "      <td>NaN</td>\n",
       "      <td>NaN</td>\n",
       "      <td>NaN</td>\n",
       "      <td>NaN</td>\n",
       "      <td>NaN</td>\n",
       "    </tr>\n",
       "  </tbody>\n",
       "</table>\n",
       "<p>5 rows × 31 columns</p>\n",
       "</div>"
      ],
      "text/plain": [
       "                             name  \\\n",
       "0       Death by Chocolate Mousse   \n",
       "1        Shrimp and Crabmeat Loaf   \n",
       "2  Senate Bean Soup from Idahoan®   \n",
       "3     Nutmeg Refrigerator Cookies   \n",
       "4           French Toast Sandwich   \n",
       "\n",
       "                                         ingredient1  \\\n",
       "0  ['21', None, 'chocolate sandwich cookies, crus...   \n",
       "1    ['1', '(6 ounce) can', 'small shrimp, drained']   \n",
       "2  ['1', '(4 ounce) package', 'Idahoan® Roasted G...   \n",
       "3                           ['1/2', 'cup', 'butter']   \n",
       "4                                ['2', None, 'eggs']   \n",
       "\n",
       "                                         ingredient2  \\\n",
       "0                 ['1/4', 'cup', 'butter, softened']   \n",
       "1  ['1', '(6 ounce) can', 'crabmeat, drained and ...   \n",
       "2                  ['2', 'tablespoons', 'olive oil']   \n",
       "3                      ['1/3', 'cup', 'white sugar']   \n",
       "4                       ['3', 'tablespoons', 'milk']   \n",
       "\n",
       "                            ingredient3  \\\n",
       "0           ['1', 'cup', 'heavy cream']   \n",
       "1          ['1/2', 'cup', 'mayonnaise']   \n",
       "2  ['1', None, 'yellow onion, chopped']   \n",
       "3  ['2/3', 'cup', 'packed brown sugar']   \n",
       "4   ['3', 'tablespoons', 'white sugar']   \n",
       "\n",
       "                                         ingredient4  \\\n",
       "0  ['1', '(12 ounce) package', 'semisweet chocola...   \n",
       "1      ['1/4', 'cup thinly slice', 'd green onions']   \n",
       "2                 ['2', 'stalks', 'celery, chopped']   \n",
       "3                                 ['1', None, 'egg']   \n",
       "4             ['1/2', 'teaspoon', 'vanilla extract']   \n",
       "\n",
       "                            ingredient5  \\\n",
       "0  ['1', 'teaspoon', 'vanilla extract']   \n",
       "1        ['1/4', 'cup', 'diced celery']   \n",
       "2       ['2', None, 'carrots, chopped']   \n",
       "3  ['1', 'teaspoon', 'vanilla extract']   \n",
       "4        ['1', 'cup', 'oil for frying']   \n",
       "\n",
       "                                         ingredient6  \\\n",
       "0                             ['1', 'pinch', 'salt']   \n",
       "1  ['1', '(8 ounce) package', 'shredded mozzarell...   \n",
       "2  ['2', '(14.5 ounce) cans', 'white beans, rinse...   \n",
       "3             ['1 1/2', 'cups', 'all-purpose flour']   \n",
       "4                      ['1', 'cup', 'milk, divided']   \n",
       "\n",
       "                              ingredient7  \\\n",
       "0            ['2', 'cups', 'heavy cream']   \n",
       "1             ['1/8', 'teaspoon', 'salt']   \n",
       "2    ['1/2', 'bunch', 'parsley, chopped']   \n",
       "3  ['1/4', 'teaspoon', 'cream of tartar']   \n",
       "4  ['2', 'tablespoons', 'custard powder']   \n",
       "\n",
       "                                  ingredient8  \\\n",
       "0               ['1/4', 'cup', 'white sugar']   \n",
       "1  ['1/8', 'teaspoon', 'ground black pepper']   \n",
       "2                                         NaN   \n",
       "3                 ['1/4', 'teaspoon', 'salt']   \n",
       "4      ['1/2', 'cup', \"confectioners' sugar\"]   \n",
       "\n",
       "                            ingredient9  ... ingredient21 ingredient22  \\\n",
       "0  ['1', 'cup', 'heavy cream, chilled']  ...          NaN          NaN   \n",
       "1                                   NaN  ...          NaN          NaN   \n",
       "2                                   NaN  ...          NaN          NaN   \n",
       "3  ['1/2', 'teaspoon', 'ground nutmeg']  ...          NaN          NaN   \n",
       "4       ['1/2', 'cup', 'whipped cream']  ...          NaN          NaN   \n",
       "\n",
       "  ingredient23 ingredient24 ingredient25 ingredient26 ingredient27  \\\n",
       "0          NaN          NaN          NaN          NaN          NaN   \n",
       "1          NaN          NaN          NaN          NaN          NaN   \n",
       "2          NaN          NaN          NaN          NaN          NaN   \n",
       "3          NaN          NaN          NaN          NaN          NaN   \n",
       "4          NaN          NaN          NaN          NaN          NaN   \n",
       "\n",
       "  ingredient28 ingredient29 ingredient30  \n",
       "0          NaN          NaN          NaN  \n",
       "1          NaN          NaN          NaN  \n",
       "2          NaN          NaN          NaN  \n",
       "3          NaN          NaN          NaN  \n",
       "4          NaN          NaN          NaN  \n",
       "\n",
       "[5 rows x 31 columns]"
      ]
     },
     "execution_count": 2,
     "metadata": {},
     "output_type": "execute_result"
    }
   ],
   "source": [
    "df.head()"
   ]
  },
  {
   "cell_type": "code",
   "execution_count": 3,
   "metadata": {},
   "outputs": [
    {
     "data": {
      "text/plain": [
       "'Death by Chocolate Mousse'"
      ]
     },
     "execution_count": 3,
     "metadata": {},
     "output_type": "execute_result"
    }
   ],
   "source": [
    "df[\"name\"][0]"
   ]
  },
  {
   "cell_type": "code",
   "execution_count": 13,
   "metadata": {},
   "outputs": [
    {
     "data": {
      "text/plain": [
       "[\"'21', None, 'chocolate sandwich cookies, crushed\"]"
      ]
     },
     "execution_count": 13,
     "metadata": {},
     "output_type": "execute_result"
    }
   ],
   "source": [
    "test[1:-2].split(\"delimiter\")"
   ]
  },
  {
   "cell_type": "code",
   "execution_count": 1,
   "metadata": {},
   "outputs": [],
   "source": [
    "import psycopg2\n",
    "conn = psycopg2.connect(database ='postgres', user = 'postgres', password = 'tz6MTgxObUZ62MNv0xgp', host = 'mydishdb-dev.c3und8sjo4p2.us-east-2.rds.amazonaws.com', port = '5432')\n"
   ]
  },
  {
   "cell_type": "code",
   "execution_count": 2,
   "metadata": {},
   "outputs": [
    {
     "data": {
      "text/plain": [
       "[('ds_full_ingr',),\n",
       " ('ds_full_step',),\n",
       " ('ds_plain_step',),\n",
       " ('ds_vision_block',),\n",
       " ('ds_vision_parsed',),\n",
       " ('ds_vision_return',)]"
      ]
     },
     "execution_count": 2,
     "metadata": {},
     "output_type": "execute_result"
    }
   ],
   "source": [
    "cursor = conn.cursor()\n",
    "\n",
    "cursor.execute(\"\"\"SELECT table_name FROM information_schema.tables WHERE table_schema='public'\n",
    "ORDER BY table_schema, table_name;\n",
    "\"\"\")\n",
    "\n",
    "table_list = cursor.fetchall()\n",
    "\n",
    "cursor.close()\n",
    "\n",
    "table_list"
   ]
  },
  {
   "cell_type": "code",
   "execution_count": 4,
   "metadata": {},
   "outputs": [],
   "source": [
    "import sqlalchemy\n",
    "\n",
    "database ='postgres' \n",
    "\n",
    "dbname = \"postgres\"\n",
    "\n",
    "user = 'postgres'\n",
    "\n",
    "password = 'tz6MTgxObUZ62MNv0xgp'\n",
    "\n",
    "host = 'mydishdb-dev.c3und8sjo4p2.us-east-2.rds.amazonaws.com'\n",
    "\n",
    "port = '5432'\n",
    "\n",
    "\n",
    "engine = sqlalchemy.create_engine(f\"{database}://{dbname}:{password}@{host}:{port}/{user}\")\n",
    "con = engine.connect()"
   ]
  },
  {
   "cell_type": "code",
   "execution_count": 5,
   "metadata": {},
   "outputs": [
    {
     "name": "stdout",
     "output_type": "stream",
     "text": [
      "['ds_vision_return', 'ds_vision_block', 'ds_vision_parsed', 'ds_full_ingr', 'ds_plain_step', 'ds_full_step']\n"
     ]
    }
   ],
   "source": [
    "print(engine.table_names())"
   ]
  },
  {
   "cell_type": "code",
   "execution_count": 8,
   "metadata": {},
   "outputs": [],
   "source": [
    "table_name = 'recipes'\n",
    "df.to_sql(table_name, con)"
   ]
  },
  {
   "cell_type": "code",
   "execution_count": 9,
   "metadata": {},
   "outputs": [
    {
     "name": "stdout",
     "output_type": "stream",
     "text": [
      "['ds_vision_return', 'ds_vision_block', 'ds_vision_parsed', 'ds_full_ingr', 'ds_plain_step', 'ds_full_step', 'recipes']\n"
     ]
    }
   ],
   "source": [
    "print(engine.table_names())"
   ]
  },
  {
   "cell_type": "code",
   "execution_count": 1,
   "metadata": {},
   "outputs": [],
   "source": []
  },
  {
   "cell_type": "code",
   "execution_count": 15,
   "metadata": {},
   "outputs": [],
   "source": [
    "from PIL import Image\n",
    "\n",
    "im = Image.open(\"test.jpg\")\n",
    "\n",
    "newsize = (64,64)\n",
    "\n",
    "resized = im.resize(newsize)\n",
    "\n",
    "\n",
    "resized.save(\"test2.jpg\")"
   ]
  },
  {
   "cell_type": "code",
   "execution_count": 14,
   "metadata": {},
   "outputs": [],
   "source": [
    "resized.show()"
   ]
  },
  {
   "cell_type": "code",
   "execution_count": 8,
   "metadata": {},
   "outputs": [],
   "source": [
    "import base64\n",
    "from io import BytesIO\n",
    "\n",
    "\n",
    "buffered = BytesIO()\n",
    "resized.save(buffered, format=\"JPEG\")\n",
    "img_str = base64.b64encode(buffered.getvalue())"
   ]
  },
  {
   "cell_type": "code",
   "execution_count": 10,
   "metadata": {},
   "outputs": [
    {
     "name": "stdout",
     "output_type": "stream",
     "text": [
      "b'/9j/4AAQSkZJRgABAQAAAQABAAD/2wBDAAgGBgcGBQgHBwcJCQgKDBQNDAsLDBkSEw8UHRofHh0aHBwgJC4nICIsIxwcKDcpLDAxNDQ0Hyc5PTgyPC4zNDL/2wBDAQkJCQwLDBgNDRgyIRwhMjIyMjIyMjIyMjIyMjIyMjIyMjIyMjIyMjIyMjIyMjIyMjIyMjIyMjIyMjIyMjIyMjL/wAARCABAAEADASIAAhEBAxEB/8QAHwAAAQUBAQEBAQEAAAAAAAAAAAECAwQFBgcICQoL/8QAtRAAAgEDAwIEAwUFBAQAAAF9AQIDAAQRBRIhMUEGE1FhByJxFDKBkaEII0KxwRVS0fAkM2JyggkKFhcYGRolJicoKSo0NTY3ODk6Q0RFRkdISUpTVFVWV1hZWmNkZWZnaGlqc3R1dnd4eXqDhIWGh4iJipKTlJWWl5iZmqKjpKWmp6ipqrKztLW2t7i5usLDxMXGx8jJytLT1NXW19jZ2uHi4+Tl5ufo6erx8vP09fb3+Pn6/8QAHwEAAwEBAQEBAQEBAQAAAAAAAAECAwQFBgcICQoL/8QAtREAAgECBAQDBAcFBAQAAQJ3AAECAxEEBSExBhJBUQdhcRMiMoEIFEKRobHBCSMzUvAVYnLRChYkNOEl8RcYGRomJygpKjU2Nzg5OkNERUZHSElKU1RVVldYWVpjZGVmZ2hpanN0dXZ3eHl6goOEhYaHiImKkpOUlZaXmJmaoqOkpaanqKmqsrO0tba3uLm6wsPExcbHyMnK0tPU1dbX2Nna4uPk5ebn6Onq8vP09fb3+Pn6/9oADAMBAAIRAxEAPwDt92BUBigc7zHGT13EA05mwKymOnRBY2MgWQE4ySDxjB/OskWzXVUCbQqhfQDinbV/uj8qxFl0mKRGCPkfMjHJzyR/TvVyPVraUqAXDM23aUOaYF/jGMDHpTflAAAAA6AUE0wtQA7dg05XqAtQr80CKk0zLfIFJIWNm2jvQ886j91afNgMQSMHPUZ9elV3LvqEgjcK4hwGxnBJFM8u/wBm1b1CxySSmefb0FY0ne78zWa29CyLu/3AfYF+vminNd3qO/8AoW9RnaVbBxVcxXw3BbwBScgleRz0+lT2f2qPzDczCQZGwj0rYkDd354+xKD6mQY+lTpI7RK0qbHI5UHOKUyVC8lAmPaT3pok96hLimeYM0ElV3U3VzulMQ+RQw9c9Kia1tGjDC8cIrE5WQD0yMj6U+aKJWmNyymOZgACeuKoLcaQ3lwo3yscoPmAB6d/XNZUk1HXu/zNajTenkXFtLQRspvGZXH8UgNNaGxU+W19ICVyAZeMD9Kol9FXJKqhYHI5GfUfXjpUhm0iSIDMbKmBgZyvPH6mtSDZju4XiQxyoy4GDu60xrmPdt8xc4zjNYrS6M0ZQSRhd27AYjJ55/U03/iVGdCsieZGQEBc/hj86YmzU+3W7dJozn0YU7za5xm0XafmG0kjAY9fpWhBeQPiKCVG2rwAc4A4oJNDUJ4Y41Mqb8k7VxnJAJ/pWOdU0+LYPs+wqBj5B8uK2ZHBFVJGXPOKhFlBtQ0wDJRdvXPl9/8AJpYbvTp28mONNx/hMeKmbyz1VT+FREopyoUH1xVCJPs9qFwLeMfRaj+z2wxiBBt6cdKjaXn71Mab3pksc1rac/6PHz14p8McMLbo4lU4xkelVjKT1NKJcd6BH//Z'\n"
     ]
    }
   ],
   "source": [
    "print(img_str)"
   ]
  },
  {
   "cell_type": "code",
   "execution_count": null,
   "metadata": {},
   "outputs": [],
   "source": [
    "b'/9j/4AAQSkZJRgABAQAAAQABAAD/2wBDAAgGBgcGBQgHBwcJCQgKDBQNDAsLDBkSEw8UHRofHh0aHBwgJC4nICIsIxwcKDcpLDAxNDQ0Hyc5PTgyPC4zNDL/2wBDAQkJCQwLDBgNDRgyIRwhMjIyMjIyMjIyMjIyMjIyMjIyMjIyMjIyMjIyMjIyMjIyMjIyMjIyMjIyMjIyMjIyMjL/wAARCABAAEADASIAAhEBAxEB/8QAHwAAAQUBAQEBAQEAAAAAAAAAAAECAwQFBgcICQoL/8QAtRAAAgEDAwIEAwUFBAQAAAF9AQIDAAQRBRIhMUEGE1FhByJxFDKBkaEII0KxwRVS0fAkM2JyggkKFhcYGRolJicoKSo0NTY3ODk6Q0RFRkdISUpTVFVWV1hZWmNkZWZnaGlqc3R1dnd4eXqDhIWGh4iJipKTlJWWl5iZmqKjpKWmp6ipqrKztLW2t7i5usLDxMXGx8jJytLT1NXW19jZ2uHi4+Tl5ufo6erx8vP09fb3+Pn6/8QAHwEAAwEBAQEBAQEBAQAAAAAAAAECAwQFBgcICQoL/8QAtREAAgECBAQDBAcFBAQAAQJ3AAECAxEEBSExBhJBUQdhcRMiMoEIFEKRobHBCSMzUvAVYnLRChYkNOEl8RcYGRomJygpKjU2Nzg5OkNERUZHSElKU1RVVldYWVpjZGVmZ2hpanN0dXZ3eHl6goOEhYaHiImKkpOUlZaXmJmaoqOkpaanqKmqsrO0tba3uLm6wsPExcbHyMnK0tPU1dbX2Nna4uPk5ebn6Onq8vP09fb3+Pn6/9oADAMBAAIRAxEAPwDt92BUBigc7zHGT13EA05mwKymOnRBY2MgWQE4ySDxjB/OskWzXVUCbQqhfQDinbV/uj8qxFl0mKRGCPkfMjHJzyR/TvVyPVraUqAXDM23aUOaYF/jGMDHpTflAAAAA6AUE0wtQA7dg05XqAtQr80CKk0zLfIFJIWNm2jvQ886j91afNgMQSMHPUZ9elV3LvqEgjcK4hwGxnBJFM8u/wBm1b1CxySSmefb0FY0ne78zWa29CyLu/3AfYF+vminNd3qO/8AoW9RnaVbBxVcxXw3BbwBScgleRz0+lT2f2qPzDczCQZGwj0rYkDd354+xKD6mQY+lTpI7RK0qbHI5UHOKUyVC8lAmPaT3pok96hLimeYM0ElV3U3VzulMQ+RQw9c9Kia1tGjDC8cIrE5WQD0yMj6U+aKJWmNyymOZgACeuKoLcaQ3lwo3yscoPmAB6d/XNZUk1HXu/zNajTenkXFtLQRspvGZXH8UgNNaGxU+W19ICVyAZeMD9Kol9FXJKqhYHI5GfUfXjpUhm0iSIDMbKmBgZyvPH6mtSDZju4XiQxyoy4GDu60xrmPdt8xc4zjNYrS6M0ZQSRhd27AYjJ55/U03/iVGdCsieZGQEBc/hj86YmzU+3W7dJozn0YU7za5xm0XafmG0kjAY9fpWhBeQPiKCVG2rwAc4A4oJNDUJ4Y41Mqb8k7VxnJAJ/pWOdU0+LYPs+wqBj5B8uK2ZHBFVJGXPOKhFlBtQ0wDJRdvXPl9/8AJpYbvTp28mONNx/hMeKmbyz1VT+FREopyoUH1xVCJPs9qFwLeMfRaj+z2wxiBBt6cdKjaXn71Mab3pksc1rac/6PHz14p8McMLbo4lU4xkelVjKT1NKJcd6BH//Z'\n"
   ]
  },
  {
   "cell_type": "code",
   "execution_count": 20,
   "metadata": {},
   "outputs": [
    {
     "data": {
      "text/plain": [
       "'hello'"
      ]
     },
     "execution_count": 20,
     "metadata": {},
     "output_type": "execute_result"
    }
   ],
   "source": [
    "test = {\"image\":\"hello\"}\n",
    "\n",
    "test[\"image\"]"
   ]
  },
  {
   "cell_type": "code",
   "execution_count": 4,
   "metadata": {},
   "outputs": [],
   "source": [
    "test = (1,)"
   ]
  },
  {
   "cell_type": "code",
   "execution_count": 5,
   "metadata": {},
   "outputs": [
    {
     "data": {
      "text/plain": [
       "1"
      ]
     },
     "execution_count": 5,
     "metadata": {},
     "output_type": "execute_result"
    }
   ],
   "source": [
    "test[0]"
   ]
  },
  {
   "cell_type": "code",
   "execution_count": null,
   "metadata": {},
   "outputs": [],
   "source": [
    "import json"
   ]
  },
  {
   "cell_type": "code",
   "execution_count": 1,
   "metadata": {},
   "outputs": [],
   "source": [
    "from typing import List, Optional"
   ]
  },
  {
   "cell_type": "code",
   "execution_count": 4,
   "metadata": {},
   "outputs": [],
   "source": [
    "def stringify(num: int) -> str:\n",
    "    return str(num)"
   ]
  },
  {
   "cell_type": "code",
   "execution_count": 5,
   "metadata": {},
   "outputs": [
    {
     "data": {
      "text/plain": [
       "'22'"
      ]
     },
     "execution_count": 5,
     "metadata": {},
     "output_type": "execute_result"
    }
   ],
   "source": [
    "stringify(22)"
   ]
  },
  {
   "cell_type": "code",
   "execution_count": 6,
   "metadata": {},
   "outputs": [
    {
     "data": {
      "text/plain": [
       "'hello'"
      ]
     },
     "execution_count": 6,
     "metadata": {},
     "output_type": "execute_result"
    }
   ],
   "source": [
    "stringify(\"hello\")"
   ]
  },
  {
   "cell_type": "code",
   "execution_count": 1,
   "metadata": {},
   "outputs": [],
   "source": [
    "import os\n",
    "import psycopg2"
   ]
  },
  {
   "cell_type": "code",
   "execution_count": 2,
   "metadata": {},
   "outputs": [
    {
     "data": {
      "text/plain": [
       "[('PostgreSQL 11.5 on x86_64-pc-linux-gnu, compiled by gcc (GCC) 4.8.3 20140911 (Red Hat 4.8.3-9), 64-bit',)]"
      ]
     },
     "execution_count": 2,
     "metadata": {},
     "output_type": "execute_result"
    }
   ],
   "source": [
    "conn = psycopg2.connect(database ='postgres', user = 'postgres', password = 'tz6MTgxObUZ62MNv0xgp', host = 'mydishdb-dev.c3und8sjo4p2.us-east-2.rds.amazonaws.com', port = '5432')\n",
    "\n",
    "\n",
    "\n",
    "cursor = conn.cursor()\n",
    "\n",
    "cursor.execute(\"\"\"SELECT version();\"\"\")\n",
    "\n",
    "table_list = cursor.fetchall()\n",
    "\n",
    "cursor.close()\n",
    "\n",
    "table_list\n",
    "\n"
   ]
  },
  {
   "cell_type": "code",
   "execution_count": 1,
   "metadata": {},
   "outputs": [],
   "source": [
    "addresses = \"\"\"\n",
    "    http://101cookbooks.com/\n",
    "    http://allrecipes.com/\n",
    "    http://bbc.com/\n",
    "    http://bbc.co.uk/\n",
    "    http://bbcgoodfood.com/\n",
    "    http://bettycrocker.com/\n",
    "    http://bonappetit.com/\n",
    "    https://www.budgetbytes.com/\n",
    "    http://closetcooking.com/\n",
    "    https://cookpad.com/\n",
    "    http://cookstr.com/\n",
    "    http://copykat.com/\n",
    "    https://cybercook.com.br/\n",
    "    https://en.wikibooks.org/\n",
    "    http://delish.com/\n",
    "    http://epicurious.com/\n",
    "    http://finedininglovers.com/\n",
    "    https://food.com/\n",
    "    http://foodnetwork.com/\n",
    "    http://foodrepublic.com/\n",
    "    https://geniuskitchen.com/\n",
    "    https://greatbritishchefs.com/\n",
    "    http://giallozafferano.it/\n",
    "    http://gonnawantseconds.com/\n",
    "    https://www.gousto.co.uk/\n",
    "    https://healthyeating.nhlbi.nih.gov/\n",
    "    https://heinzbrasil.com.br/\n",
    "    https://www.hellofresh.com/\n",
    "    https://www.hellofresh.co.uk/\n",
    "    https://receitas.ig.com.br/\n",
    "    https://inspiralized.com/\n",
    "    http://jamieoliver.com/\n",
    "    https://justbento.com/\n",
    "    https://kennymcgovern.com/\n",
    "    https://www.thekitchn.com/\n",
    "    https://www.marmiton.org/\n",
    "    https://www.matprat.no/\n",
    "    http://www.mindmegette.hu/\n",
    "    https://www.misya.info/\n",
    "    http://www.motherthyme.com/\n",
    "    http://mybakingaddiction.com/\n",
    "    https://panelinha.com.br/\n",
    "    http://paninihappy.com/\n",
    "    http://przepisy.pl/\n",
    "    http://realsimple.com/\n",
    "    https://www.seriouseats.com/\n",
    "    http://simplyrecipes.com/\n",
    "    https://www.southernliving.com/\n",
    "    http://steamykitchen.com/\n",
    "    https://www.tastesoflizzyt.com\n",
    "    http://tastykitchen.com/\n",
    "    http://thepioneerwoman.com/\n",
    "    https://www.thespruceeats.com/\n",
    "    http://thehappyfoodie.co.uk/\n",
    "    http://thevintagemixer.com/\n",
    "    http://tine.no/\n",
    "    https://tudogostoso.com.br/\n",
    "    http://twopeasandtheirpod.com/\n",
    "    http://vegolosi.it/\n",
    "    http://whatsgabycooking.com/\n",
    "    http://yummly.com/\n",
    "\n",
    "\"\"\""
   ]
  },
  {
   "cell_type": "code",
   "execution_count": 9,
   "metadata": {},
   "outputs": [],
   "source": [
    "adre = addresses.splitlines()[1:-1]"
   ]
  },
  {
   "cell_type": "code",
   "execution_count": 11,
   "metadata": {},
   "outputs": [
    {
     "data": {
      "text/plain": [
       "'    http://101cookbooks.com/'"
      ]
     },
     "execution_count": 11,
     "metadata": {},
     "output_type": "execute_result"
    }
   ],
   "source": [
    "adre[0]"
   ]
  },
  {
   "cell_type": "code",
   "execution_count": 13,
   "metadata": {},
   "outputs": [],
   "source": [
    "adre = [url.strip() for url in adre]\n",
    "\n",
    "aim = \"https://www.101cookbooks.com/\""
   ]
  },
  {
   "cell_type": "code",
   "execution_count": 18,
   "metadata": {},
   "outputs": [
    {
     "data": {
      "text/plain": [
       "'://101cookbooks.com/'"
      ]
     },
     "execution_count": 18,
     "metadata": {},
     "output_type": "execute_result"
    }
   ],
   "source": [
    "adre[0][4:]"
   ]
  },
  {
   "cell_type": "code",
   "execution_count": 19,
   "metadata": {},
   "outputs": [],
   "source": [
    "test = [url[:4] + \"s\" + url[4:] for url in adre]"
   ]
  },
  {
   "cell_type": "code",
   "execution_count": 22,
   "metadata": {},
   "outputs": [],
   "source": [
    "test = [url[:8] + \"www.\" + url[8:] for url in test]"
   ]
  },
  {
   "cell_type": "code",
   "execution_count": 33,
   "metadata": {},
   "outputs": [],
   "source": [
    "from recipe_scrapers import scrape_me"
   ]
  },
  {
   "cell_type": "code",
   "execution_count": 34,
   "metadata": {},
   "outputs": [],
   "source": [
    "scraper = scrape_me('https://www.allrecipes.com/recipe/16956/death-by-chocolate-mousse/')"
   ]
  },
  {
   "cell_type": "code",
   "execution_count": 35,
   "metadata": {},
   "outputs": [],
   "source": [
    "fractions = ['½','⅓','⅔','¼','¾','⅕','⅖','⅗','⅘','⅙','⅚',\n",
    "            '⅐','⅛','⅜','⅝','⅞','⅑','⅒']\n",
    "\n",
    "fractions_better = ['1/2','1/3','2/3','1/4','3/4','1/5','2/5','3/5','4/5',\n",
    "                    '1/6','5/6','1/7','1/8','3/8','5/8','7/8','1/9','1/10']            \n",
    "\n",
    "\n",
    "def improve_fractions(recipe):\n",
    "\n",
    "    \"\"\"\n",
    "    function to transform from - for example - '½' to '1/2'. Makes the recipe entries \n",
    "    easier to edit for the user and enables parsing of fractions. \n",
    "    \"\"\"\n",
    "    for i in range(len(fractions)):\n",
    "        recipe = recipe.replace(fractions[i], fractions_better[i])\n",
    "        return recipe\n",
    "    \n",
    "\n",
    "def is_number(n):\n",
    "\n",
    "    \"\"\"\n",
    "    function to check if  the first character of a string is a number. This \n",
    "    function only checks the first character to cover cases like \"3-4\" or \"3/4\". \n",
    "    \"\"\"\n",
    "    if len(n) == 0:\n",
    "        return False\n",
    "    \n",
    "    try:\n",
    "        float(n[0])  \n",
    "        \n",
    "    except ValueError:\n",
    "        return False\n",
    "    return True"
   ]
  },
  {
   "cell_type": "code",
   "execution_count": 51,
   "metadata": {},
   "outputs": [],
   "source": [
    "from text_to_num import alpha2digit\n",
    "import re\n",
    "\n",
    "\n",
    "def parse_ingredients_mod(ingredients):\n",
    "\n",
    "    \"\"\"\n",
    "    takes in scraper.ingredients()\n",
    "    \"\"\"\n",
    "\n",
    "    \n",
    "    ingredients = \"\\n\".join(ingredients)\n",
    "    \n",
    "    print(ingredients)\n",
    "\n",
    "    ingredients = improve_fractions(ingredients)\n",
    "\n",
    "    # remove all special characters\n",
    "    ingredients = re.sub('[^A-Za-z0-9 ,;.:-?!\"\"]+', '', ingredients)\n",
    "\n",
    "    # since all websites that can be accessed by the recipe_scraper library\n",
    "    # are in english there is no need to detect the language\n",
    "    ingredients = alpha2digit(ingredients, \"en\")\n",
    "\n",
    "    # transform the string into an iterable format, line for line, word for word.\n",
    "    ingredients = [line.split() for line in ingredients.splitlines()]\n",
    "    \n",
    "\n",
    "\n",
    "    # list to store ingredients\n",
    "    all_ingredients = []\n",
    "\n",
    "    # parse each line of the recipe for unit, quantity and ingredient\n",
    "    for line in ingredients:\n",
    "        \n",
    "        \n",
    "        length = len(line)\n",
    "        \n",
    "        if length == 1:\n",
    "            \n",
    "            # either this line is part of the previous line or it is an ingredient \n",
    "            # that needs no unit or qantity. This code will treat it as an ingredient. \n",
    "            # Web will hopefully implement functionality that enables the user to \n",
    "            # add this line to the previous ingredient if necessary.\n",
    "            \n",
    "            all_ingredients.append({\"quantity\":None, \"unit\":None, \"ingredient\":line[0]})\n",
    "            continue\n",
    "            \n",
    "        elif length == 2:\n",
    "            \n",
    "            # this line is most probably an ingredient and a quantity \n",
    "            \n",
    "            if (is_number(line[0][0]) and not is_number(line[1][0])):\n",
    "            \n",
    "                all_ingredients.append({\"quantity\":line[0], \"unit\":None, \"ingredient\":line[1]})\n",
    "                continue\n",
    "            \n",
    "            elif (not is_number(line[0][0]) and is_number(line[1][0])):\n",
    "                \n",
    "                all_ingredients.append({\"quantity\":line[1], \"unit\":None, \"ingredient\":line[0]})\n",
    "                continue\n",
    "            \n",
    "            else:\n",
    "                \n",
    "                # the last case covers both the possibility that both strings contain \n",
    "                # a number or that both dont. For both cases the same treatment makes sense.\n",
    "                # 1. If they both contain numbers something went wrong and saving this line \n",
    "                # only under ingredient will make it easier for the user to modify it.\n",
    "                # 2. If they both dont contain numbers they are probably part of the previous \n",
    "                # line and probably part of the ingredient part of that line. Saving\n",
    "                # this as one string under ingredient will make it easier for the user \n",
    "                # to modify this part.  \n",
    "                all_ingredients.append({\"quantity\":None, \"unit\":None, \"ingredient\":\" \".join(line)})\n",
    "                continue\n",
    "                \n",
    "        elif length > 2:\n",
    "            \n",
    "            number_map = [1 if is_number(word) else 0 for word in line]\n",
    "            \n",
    "            instances_number = sum(number_map)\n",
    "                          \n",
    "            if instances_number ==  0:\n",
    "\n",
    "                # in the line there are no words that begin with a number\n",
    "                \n",
    "                all_ingredients.append({\"quantity\":None, \"unit\":None, \"ingredient\":\" \".join(line)})\n",
    "                continue\n",
    "                \n",
    "                              \n",
    "            elif instances_number == 1:\n",
    "                \n",
    "                # in the line there is one word that begins with a number\n",
    "                \n",
    "                index = number_map.index(1)\n",
    "                \n",
    "                if index == 0:\n",
    "                    \n",
    "                    all_ingredients.append({\"quantity\":line[0], \"unit\":line[1], \"ingredient\":\" \".join(line[2:])})\n",
    "                    continue\n",
    "                    \n",
    "                elif index == 1:\n",
    "                    \n",
    "                    all_ingredients.append({\"quantity\":line[1], \"unit\":line[0], \"ingredient\":\" \".join(line[2:])})\n",
    "                    continue\n",
    "                      \n",
    "                elif index == (length - 2):\n",
    "                    \n",
    "                    all_ingredients.append({\"quantity\":line[-2], \"unit\":line[-1], \"ingredient\":\" \".join(line[:-2])})\n",
    "                    continue\n",
    "                         \n",
    "                elif index == (length -1):\n",
    "                    \n",
    "                    all_ingredients.append({\"quantity\":line[-1], \"unit\":line[-2], \"ingredient\":\" \".join(line[:-2])})\n",
    "                    continue\n",
    "                    \n",
    "                else:\n",
    "                    \n",
    "                    all_ingredients.append({\"quantity\":None, \"unit\":None, \"ingredient\":\" \".join(line)})\n",
    "                    continue\n",
    "                           \n",
    "            else:\n",
    "                \n",
    "                # in the line there are two or more words that begin with a number\n",
    "                \n",
    "                all_ingredients.append({\"quantity\":None, \"unit\":None, \"ingredient\":\" \".join(line)})\n",
    "                continue\n",
    "                    \n",
    "    ingredients_dict = {\"ingredients\": all_ingredients}\n",
    "\n",
    "    return ingredients_dict   \n",
    "\n"
   ]
  },
  {
   "cell_type": "code",
   "execution_count": 49,
   "metadata": {},
   "outputs": [
    {
     "name": "stdout",
     "output_type": "stream",
     "text": [
      "21 chocolate sandwich cookies, crushed\n",
      "¼ cup butter, softened\n",
      "1 cup heavy cream\n",
      "1 (12 ounce) package semisweet chocolate chips\n",
      "1 teaspoon vanilla extract\n",
      "1 pinch salt\n",
      "2 cups heavy cream\n",
      "¼ cup white sugar\n",
      "1 cup heavy cream, chilled\n",
      "¼ cup white sugar\n",
      "[['21', 'chocolate', 'sandwich', 'cookies,', 'crushed', 'cup', 'butter,', 'softened', '1', 'cup', 'heavy', 'cream', '1', '12', 'ounce', 'package', 'semisweet', 'chocolate', 'chips', '1', 'teaspoon', 'vanilla', 'extract', '1', 'pinch', 'salt', '2', 'cups', 'heavy', 'cream', 'cup', 'white', 'sugar', '1', 'cup', 'heavy', 'cream,', 'chilled', 'cup', 'white', 'sugar']]\n",
      "['21', 'chocolate', 'sandwich', 'cookies,', 'crushed', 'cup', 'butter,', 'softened', '1', 'cup', 'heavy', 'cream', '1', '12', 'ounce', 'package', 'semisweet', 'chocolate', 'chips', '1', 'teaspoon', 'vanilla', 'extract', '1', 'pinch', 'salt', '2', 'cups', 'heavy', 'cream', 'cup', 'white', 'sugar', '1', 'cup', 'heavy', 'cream,', 'chilled', 'cup', 'white', 'sugar']\n",
      "[['21', 'chocolate', 'sandwich', 'cookies,', 'crushed', 'cup', 'butter,', 'softened', '1', 'cup', 'heavy', 'cream', '1', '12', 'ounce', 'package', 'semisweet', 'chocolate', 'chips', '1', 'teaspoon', 'vanilla', 'extract', '1', 'pinch', 'salt', '2', 'cups', 'heavy', 'cream', 'cup', 'white', 'sugar', '1', 'cup', 'heavy', 'cream,', 'chilled', 'cup', 'white', 'sugar']]\n"
     ]
    },
    {
     "data": {
      "text/plain": [
       "{'ingredients': [{'quantity': None,\n",
       "   'unit': None,\n",
       "   'ingredient': '21 chocolate sandwich cookies, crushed cup butter, softened 1 cup heavy cream 1 12 ounce package semisweet chocolate chips 1 teaspoon vanilla extract 1 pinch salt 2 cups heavy cream cup white sugar 1 cup heavy cream, chilled cup white sugar'}]}"
      ]
     },
     "execution_count": 49,
     "metadata": {},
     "output_type": "execute_result"
    }
   ],
   "source": [
    "parse_ingredients_mod(scraper.ingredients())"
   ]
  },
  {
   "cell_type": "code",
   "execution_count": 50,
   "metadata": {},
   "outputs": [],
   "source": [
    "ingredients = scraper.ingredients()\n",
    "ingredients = \"\\n\".join(ingredients)"
   ]
  },
  {
   "cell_type": "code",
   "execution_count": 46,
   "metadata": {},
   "outputs": [],
   "source": [
    "ingredients = [line.split() for line in ingredients.splitlines()]"
   ]
  },
  {
   "cell_type": "code",
   "execution_count": 47,
   "metadata": {},
   "outputs": [
    {
     "name": "stdout",
     "output_type": "stream",
     "text": [
      "['21', 'chocolate', 'sandwich', 'cookies,', 'crushed']\n",
      "['¼', 'cup', 'butter,', 'softened']\n",
      "['1', 'cup', 'heavy', 'cream']\n",
      "['1', '(12', 'ounce)', 'package', 'semisweet', 'chocolate', 'chips']\n",
      "['1', 'teaspoon', 'vanilla', 'extract']\n",
      "['1', 'pinch', 'salt']\n",
      "['2', 'cups', 'heavy', 'cream']\n",
      "['¼', 'cup', 'white', 'sugar']\n",
      "['1', 'cup', 'heavy', 'cream,', 'chilled']\n",
      "['¼', 'cup', 'white', 'sugar']\n"
     ]
    }
   ],
   "source": [
    "for line in ingredients:\n",
    "    print(line)"
   ]
  },
  {
   "cell_type": "code",
   "execution_count": null,
   "metadata": {},
   "outputs": [],
   "source": []
  }
 ],
 "metadata": {
  "kernelspec": {
   "display_name": "Spotify (Python3)",
   "language": "python",
   "name": "spotify"
  },
  "language_info": {
   "codemirror_mode": {
    "name": "ipython",
    "version": 3
   },
   "file_extension": ".py",
   "mimetype": "text/x-python",
   "name": "python",
   "nbconvert_exporter": "python",
   "pygments_lexer": "ipython3",
   "version": "3.7.0"
  }
 },
 "nbformat": 4,
 "nbformat_minor": 4
}
