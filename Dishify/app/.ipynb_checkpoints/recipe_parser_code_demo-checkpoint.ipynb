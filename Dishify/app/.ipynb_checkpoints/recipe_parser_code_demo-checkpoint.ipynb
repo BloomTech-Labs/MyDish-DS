{
 "cells": [
  {
   "cell_type": "markdown",
   "metadata": {},
   "source": [
    "# 1. Imports"
   ]
  },
  {
   "cell_type": "code",
   "execution_count": 1,
   "metadata": {},
   "outputs": [],
   "source": [
    "import io\n",
    "import os\n",
    "import json\n",
    "import re\n",
    "from text_to_num import alpha2digit\n",
    "from PIL import Image\n",
    "import base64\n",
    "from io import BytesIO\n",
    "from google.cloud import vision\n",
    "from google.cloud.vision import types\n",
    "\n",
    "os.environ[\"GOOGLE_APPLICATION_CREDENTIALS\"] = \"Key.json\""
   ]
  },
  {
   "cell_type": "markdown",
   "metadata": {},
   "source": [
    "# 2. Define helper functions"
   ]
  },
  {
   "cell_type": "code",
   "execution_count": 74,
   "metadata": {},
   "outputs": [],
   "source": [
    "fractions = ['½','⅓','⅔','¼','¾','⅕','⅖','⅗','⅘','⅙','⅚',\n",
    "            '⅐','⅛','⅜','⅝','⅞','⅑','⅒']\n",
    "\n",
    "fractions_better = ['1/2','1/3','2/3','1/4','3/4','1/5','2/5','3/5','4/5',\n",
    "                    '1/6','5/6','1/7','1/8','3/8','5/8','7/8','1/9','1/10']            \n",
    "\n",
    "\n",
    "def improve_fractions(recipe):\n",
    "\n",
    "    \"\"\"\n",
    "    function to transform from - for example - '½' to '1/2'. Makes the recipe entries \n",
    "    easier to edit for the user and enables parsing of fractions. \n",
    "    \"\"\"\n",
    "    \n",
    "    for i in range(len(fractions)):\n",
    "        recipe = recipe.replace(fractions[i], fractions_better[i])\n",
    "        return recipe\n",
    "\n",
    "\n",
    "\n",
    "def is_number(n):\n",
    "\n",
    "    \"\"\"\n",
    "    function to check if  the first character of a string is a number. This \n",
    "    function only checks the first character to cover cases like \"3-4\" or \"3/4\". \n",
    "    \"\"\"\n",
    "    \n",
    "    if len(n) == 0:\n",
    "        return False\n",
    "    \n",
    "    try:\n",
    "        float(n[0])  \n",
    "        \n",
    "    except ValueError:\n",
    "        return False\n",
    "    return True\n",
    "\n",
    "\n",
    "def text_to_number(recipe):\n",
    "\n",
    "    \"\"\"\n",
    "    function to transform written numbers in a string (\"one hundred horses\") to \n",
    "    their integer form (\"100 horses\"). Works for English, Spanish and French. \n",
    "    It takes advantage of the fact that the Google Vision API recognises \n",
    "    the language of the text in the picture that was taken.\n",
    "    \"\"\"    \n",
    "    if texts[0].locale == \"en\":\n",
    "        \n",
    "        recipe = alpha2digit(recipe, \"en\")\n",
    "        return recipe\n",
    "    \n",
    "    elif texts[0].locale == \"es\":\n",
    "        \n",
    "        recipe = alpha2digit(recipe, \"es\")\n",
    "        return recipe\n",
    "        \n",
    "    elif texts[0].locale == \"fr\":\n",
    "        \n",
    "        recipe = alpha2digit(recipe, \"fr\")\n",
    "        return recipe\n",
    "    \n",
    "    else:\n",
    "        return recipe\n",
    "\n",
    "\n",
    "\n",
    "def decode_string_and_api_call(image_string):\n",
    "\n",
    "    \"\"\"\n",
    "    function to decode the base64 decoded string and make a google vision api \n",
    "    call with the picture.\n",
    "    \"\"\"\n",
    "    # decode image_string\n",
    "    decoded_string = base64.b64decode(image_string)\n",
    "\n",
    "    # Instantiates a client\n",
    "    client = vision.ImageAnnotatorClient()\n",
    "\n",
    "    # Perform text detection\n",
    "    image = types.Image(content=decoded_string)\n",
    "    response = client.document_text_detection(image=image)\n",
    "    texts = response.text_annotations\n",
    "    blocks = response.full_text_annotation\n",
    "\n",
    "    return texts, blocks\n",
    "\n",
    "def clean_recipe(recipe):\n",
    "    \n",
    "    \n",
    "    recipe = improve_fractions(recipe)\n",
    "    \n",
    "    \n",
    "    # remove all special characters\n",
    "    recipe = re.sub('[^A-Za-z0-9 ,;.:-?!\"\"\\n]+', '', recipe)\n",
    "    \n",
    "    \n",
    "    # apply the text2num library if the recipe is in French, Spanish or English. \n",
    "    # This will transform written numbers (like \"one hundred\") to \n",
    "    # integers in string format (like \"100\"). If the time permits a german \n",
    "    # version of this library will be implemented.\n",
    "    recipe = text_to_number(recipe)\n",
    "    \n",
    "    return recipe\n",
    "\n",
    "def find_order(recipe):\n",
    "    \n",
    "    nums = []\n",
    "    \n",
    "    steps = []\n",
    "    \n",
    "    for i in range(len(recipe)):\n",
    "        \n",
    "        if recipe[i].isnumeric():\n",
    "            \n",
    "            nums.append([i, recipe[i]])\n",
    "            \n",
    "    print(nums)\n",
    "            \n",
    "    # check if first number in string is 1\n",
    "    if nums[0][1] == \"1\":\n",
    "        \n",
    "            \n",
    "        index_order = [0]\n",
    "        \n",
    "        counter = 2\n",
    "        \n",
    "        for i in range(1,len(nums)):\n",
    "        \n",
    "            \n",
    "            # check if there are at least 10 characters between assumed instances of structure in the string.\n",
    "            if nums[i][1] == str(counter): \n",
    "                \n",
    "                if (nums[i][0] - nums[index_order[-1]][0]) > 10:\n",
    "                    \n",
    "                    index_order.append(i)\n",
    "                    \n",
    "                    counter = counter + 1\n",
    "            \n",
    "        # check if there is at least a succesion of 1, 2, 3 in the string. If that is the case the assumption is that the string is structured. \n",
    "        if len(index_order) > 2:\n",
    "            \n",
    "            # check if string started with \"1\"\n",
    "            if nums[0][0] > 1:\n",
    "            \n",
    "                steps.append({\"steps\": recipe[:nums[0][0]]})\n",
    "                \n",
    "                # iterate over index_order except the last element since it needs to be treated differently\n",
    "                for i in range(len(index_order) -1):\n",
    "                    \n",
    "                    steps.append({\"steps\": recipe[nums[index_order[i]][0]:nums[index_order[i+1]][0]]})\n",
    "                    \n",
    "                # append the last step \n",
    "                \n",
    "                steps.append({\"steps\": recipe[nums[index_order[-1]][0]:]})\n",
    "            \n",
    "                return {\"instructions\":steps}\n",
    "            \n",
    "        else:\n",
    "            \n",
    "            return {\"instructions\": recipe}\n",
    "                    \n",
    "    else:\n",
    "        \n",
    "        return {\"instructions\": recipe}"
   ]
  },
  {
   "cell_type": "markdown",
   "metadata": {},
   "source": [
    "# 3. Define ingredient parser function"
   ]
  },
  {
   "cell_type": "code",
   "execution_count": 83,
   "metadata": {},
   "outputs": [],
   "source": [
    "def parse_ingredients(recipe):\n",
    "        \n",
    "    \n",
    "    #list to save modified base dictionaries \n",
    "    ingredients = []\n",
    "    \n",
    "    \n",
    "    recipe = clean_recipe(recipe)\n",
    "\n",
    "    \n",
    "    # transform the string into an iterable format, line for line, word for word.\n",
    "    recipe = [line.split() for line in recipe.splitlines()]\n",
    "    \n",
    "    # parse each line of the recipe for unit, quantity and ingredient\n",
    "    for line in recipe:\n",
    "        \n",
    "        length = len(line)\n",
    "        \n",
    "        if length == 1:\n",
    "            \n",
    "            # either this line is part of the previous line or it is an ingredient that needs no unit or qantity. This code will treat it as an ingredient. \n",
    "            # Web will hopefully implement functionality that enables the user to add this line to the previous ingredient if necessary.\n",
    "            \n",
    "            ingredients.append({\"quantity\":None, \"unit\":None, \"ingredient\":line[0]})\n",
    "            continue\n",
    "            \n",
    "        elif length == 2:\n",
    "            \n",
    "            # this line is most probably an ingredient and a quantity \n",
    "            \n",
    "            \n",
    "            if (is_number(line[0][0]) and not is_number(line[1][0])):\n",
    "            \n",
    "                ingredients.append({\"quantity\":line[0], \"unit\":None, \"ingredient\":line[1]})\n",
    "                continue\n",
    "            \n",
    "            elif (not is_number(line[0][0]) and is_number(line[1][0])):\n",
    "                \n",
    "                ingredients.append({\"quantity\":line[1], \"unit\":None, \"ingredient\":line[0]})\n",
    "                continue\n",
    "            \n",
    "            else:\n",
    "                \n",
    "                # the last case covers both the possibility that both strings contain a number or that both dont. For both cases the same treatment makes sense.\n",
    "                # 1. If they both contain numbers something went wrong and saving this line only under ingredient will make it easier for the user to modify it.\n",
    "                # 2. If they both dont contain numbers they are probably part of the previous line and probably part of the ingredient part of that line. Saving\n",
    "                # this as one string under ingredient will make it easier for the user to modify this part.  \n",
    "                ingredients.append({\"quantity\":None, \"unit\":None, \"ingredient\":\" \".join(line)})\n",
    "                continue\n",
    "                \n",
    "        elif length > 2:\n",
    "            \n",
    "            number_map = [1 if is_number(word) else 0 for word in line]\n",
    "            \n",
    "            instances_number = sum(number_map)\n",
    "                          \n",
    "            if instances_number ==  0:\n",
    "                \n",
    "                ingredients.append({\"quantity\":None, \"unit\":None, \"ingredient\":\" \".join(line)})\n",
    "                continue\n",
    "                \n",
    "                              \n",
    "            elif instances_number == 1:\n",
    "                \n",
    "                \n",
    "                index = number_map.index(1)\n",
    "                \n",
    "                if index == 0:\n",
    "                    \n",
    "                    ingredients.append({\"quantity\":line[0], \"unit\":line[1], \"ingredient\":\" \".join(line[2:])})\n",
    "                    continue\n",
    "                    \n",
    "                elif index == 1:\n",
    "                    \n",
    "                    ingredients.append({\"quantity\":line[1], \"unit\":line[0], \"ingredient\":\" \".join(line[2:])})\n",
    "                    continue\n",
    "                    \n",
    "                    \n",
    "                    \n",
    "                elif index == (length - 2):\n",
    "                    \n",
    "                    ingredients.append({\"quantity\":line[-2], \"unit\":line[-1], \"ingredient\":\" \".join(line[:-2])})\n",
    "                    continue\n",
    "                    \n",
    "                    \n",
    "                    \n",
    "                elif index == (length -1):\n",
    "                    \n",
    "                    ingredients.append({\"quantity\":line[-1], \"unit\":line[-2], \"ingredient\":\" \".join(line[:-2])})\n",
    "                    continue\n",
    "                    \n",
    "                else:\n",
    "                    \n",
    "                    ingredients.append({\"quantity\":None, \"unit\":None, \"ingredient\":\" \".join(line)})\n",
    "                    continue\n",
    "                    \n",
    "                    \n",
    "            else:\n",
    "                \n",
    "                # here a check for a comma would be good\n",
    "                \n",
    "                ingredients.append({\"quantity\":None, \"unit\":None, \"ingredient\":\" \".join(line)})\n",
    "                continue\n",
    "                    \n",
    "    ingredients_dict = {\"ingredients\": ingredients}\n",
    "    return ingredients_dict     \n",
    "                                  \n",
    "   "
   ]
  },
  {
   "cell_type": "markdown",
   "metadata": {},
   "source": [
    "# 4. Define instructions parser function"
   ]
  },
  {
   "cell_type": "code",
   "execution_count": 84,
   "metadata": {},
   "outputs": [],
   "source": [
    "def parse_instructions(recipe):\n",
    "    \n",
    "    if len(blocks.pages[0].blocks) < 2:\n",
    "        \n",
    "        \n",
    "        recipe = clean_recipe(recipe)\n",
    "    \n",
    "\n",
    "        instructions_dict = find_order(recipe)\n",
    "        \n",
    "        return instructions_dict\n",
    "        \n",
    "        \n",
    "\n",
    "    else:\n",
    "        \n",
    "        all_blocks = \"\"\n",
    "\n",
    "        for a in range(len(blocks.pages[0].blocks)):\n",
    "    \n",
    "            all_blocks = all_blocks + \"new block\"\n",
    "    \n",
    "            for b in range(len(blocks.pages[0].blocks[a].paragraphs)):\n",
    "        \n",
    "                for c in range(len(blocks.pages[0].blocks[a].paragraphs[b].words)):\n",
    "            \n",
    "                    all_blocks = all_blocks + \" \"\n",
    "                    for d in range(len(blocks.pages[0].blocks[a].paragraphs[b].words[c].symbols)):\n",
    "                \n",
    "                        all_blocks = all_blocks + blocks.pages[0].blocks[a].paragraphs[b].words[c].symbols[d].text\n",
    "                    \n",
    "        blocks_splitted = all_blocks.split(\"new block\")[1:]\n",
    "        \n",
    "        instructions_dict =  {\"instructions\": blocks_splitted}\n",
    "        \n",
    "        return instructions_dict"
   ]
  },
  {
   "cell_type": "markdown",
   "metadata": {},
   "source": [
    "#  5. Load picture and encode it with base64"
   ]
  },
  {
   "cell_type": "code",
   "execution_count": 94,
   "metadata": {},
   "outputs": [],
   "source": [
    "im = Image.open(\"test.jpg\")\n",
    "buffered = BytesIO()\n",
    "im.save(buffered, format=\"JPEG\")\n",
    "img_str = base64.b64encode(buffered.getvalue())"
   ]
  },
  {
   "cell_type": "code",
   "execution_count": null,
   "metadata": {},
   "outputs": [],
   "source": []
  },
  {
   "cell_type": "code",
   "execution_count": 96,
   "metadata": {},
   "outputs": [
    {
     "ename": "TypeError",
     "evalue": "<PIL.JpegImagePlugin.JpegImageFile image mode=RGB size=4032x3024 at 0x1E50EBA21D0> has type JpegImageFile, but expected one of: bytes",
     "output_type": "error",
     "traceback": [
      "\u001b[1;31m---------------------------------------------------------------------------\u001b[0m",
      "\u001b[1;31mTypeError\u001b[0m                                 Traceback (most recent call last)",
      "\u001b[1;32m<ipython-input-96-1e4a48e4b029>\u001b[0m in \u001b[0;36m<module>\u001b[1;34m\u001b[0m\n\u001b[0;32m      5\u001b[0m \u001b[1;33m\u001b[0m\u001b[0m\n\u001b[0;32m      6\u001b[0m \u001b[1;31m# Perform text detection\u001b[0m\u001b[1;33m\u001b[0m\u001b[1;33m\u001b[0m\u001b[0m\n\u001b[1;32m----> 7\u001b[1;33m \u001b[0mimage\u001b[0m \u001b[1;33m=\u001b[0m \u001b[0mtypes\u001b[0m\u001b[1;33m.\u001b[0m\u001b[0mImage\u001b[0m\u001b[1;33m(\u001b[0m\u001b[0mcontent\u001b[0m\u001b[1;33m=\u001b[0m\u001b[0mim\u001b[0m\u001b[1;33m)\u001b[0m\u001b[1;33m\u001b[0m\u001b[0m\n\u001b[0m\u001b[0;32m      8\u001b[0m \u001b[0mresponse\u001b[0m \u001b[1;33m=\u001b[0m \u001b[0mclient\u001b[0m\u001b[1;33m.\u001b[0m\u001b[0mdocument_text_detection\u001b[0m\u001b[1;33m(\u001b[0m\u001b[0mimage\u001b[0m\u001b[1;33m=\u001b[0m\u001b[0mimage\u001b[0m\u001b[1;33m)\u001b[0m\u001b[1;33m\u001b[0m\u001b[0m\n\u001b[0;32m      9\u001b[0m \u001b[0mtexts\u001b[0m \u001b[1;33m=\u001b[0m \u001b[0mresponse\u001b[0m\u001b[1;33m.\u001b[0m\u001b[0mtext_annotations\u001b[0m\u001b[1;33m\u001b[0m\u001b[0m\n",
      "\u001b[1;31mTypeError\u001b[0m: <PIL.JpegImagePlugin.JpegImageFile image mode=RGB size=4032x3024 at 0x1E50EBA21D0> has type JpegImageFile, but expected one of: bytes"
     ]
    }
   ],
   "source": [
    "im = Image.open(\"test.jpg\")\n",
    "buffered = BytesIO()\n",
    "im.save(buffered, format=\"JPEG\")\n",
    "client = vision.ImageAnnotatorClient()\n",
    "\n",
    "# Perform text detection\n",
    "image = types.Image(content=im)\n",
    "response = client.document_text_detection(image=image)\n",
    "texts = response.text_annotations\n",
    "blocks = response.full_text_annotation"
   ]
  },
  {
   "cell_type": "markdown",
   "metadata": {},
   "source": [
    "# 6. Vision api call after decoding string "
   ]
  },
  {
   "cell_type": "code",
   "execution_count": 86,
   "metadata": {},
   "outputs": [],
   "source": [
    "texts, blocks = decode_string_and_api_call(img_str)"
   ]
  },
  {
   "cell_type": "markdown",
   "metadata": {},
   "source": [
    "# 7. Apply ingredients parser"
   ]
  },
  {
   "cell_type": "code",
   "execution_count": 87,
   "metadata": {},
   "outputs": [],
   "source": [
    "instructions_dict = parse_ingredients(texts[0].description)"
   ]
  },
  {
   "cell_type": "code",
   "execution_count": 88,
   "metadata": {},
   "outputs": [
    {
     "data": {
      "text/plain": [
       "{'ingredients': [{'quantity': None,\n",
       "   'unit': None,\n",
       "   'ingredient': 'INICI HUU UT'},\n",
       "  {'quantity': '4', 'unit': 'Fr', 'ingredient': 'Kenner'},\n",
       "  {'quantity': '12', 'unit': 'Bund', 'ingredient': 'Basilikum'},\n",
       "  {'quantity': '34', 'unit': 'Tomaten', 'ingredient': 'Hauptsache:'},\n",
       "  {'quantity': None, 'unit': None, 'ingredient': 'reif und fruchtig'},\n",
       "  {'quantity': '4', 'unit': 'EL', 'ingredient': 'bestes Olivenl'},\n",
       "  {'quantity': None,\n",
       "   'unit': None,\n",
       "   'ingredient': 'Salz, schwarzer Pfeffer aus der Mhle'},\n",
       "  {'quantity': '4',\n",
       "   'unit': 'groe',\n",
       "   'ingredient': 'Scheiben italienisches Weibrot'},\n",
       "  {'quantity': '4', 'unit': None, 'ingredient': 'Knoblauchzehen'}]}"
      ]
     },
     "execution_count": 88,
     "metadata": {},
     "output_type": "execute_result"
    }
   ],
   "source": [
    "instructions_dict"
   ]
  },
  {
   "cell_type": "markdown",
   "metadata": {},
   "source": [
    "# 8. Apply instructions parser"
   ]
  },
  {
   "cell_type": "code",
   "execution_count": 89,
   "metadata": {},
   "outputs": [],
   "source": [
    "instructions_dict = parse_instructions(texts[0].description)"
   ]
  },
  {
   "cell_type": "code",
   "execution_count": 90,
   "metadata": {},
   "outputs": [
    {
     "data": {
      "text/plain": [
       "{'instructions': [' INICI HUU UT',\n",
       "  ' Für 4 Kenner 1 / 2 Bund Basilikum 3 - 4 Tomaten ( Hauptsache : reif und fruchtig ) 4 EL bestes Olivenöl Salz , schwarzer Pfeffer aus der Mühle 4 große Scheiben italienisches Weißbrot 4 Knoblauchzehen']}"
      ]
     },
     "execution_count": 90,
     "metadata": {},
     "output_type": "execute_result"
    }
   ],
   "source": [
    "instructions_dict"
   ]
  },
  {
   "cell_type": "code",
   "execution_count": 131,
   "metadata": {},
   "outputs": [],
   "source": [
    "test1 = texts[0].description\n",
    "\n",
    "test1 = re.sub(\"\\n\", \" \", test1)"
   ]
  },
  {
   "cell_type": "code",
   "execution_count": 147,
   "metadata": {},
   "outputs": [],
   "source": [
    "improve_fractions(recipe)    \n",
    "recipe = re.sub('[^A-Za-z0-9 ,;.:-?!\"\"\\n]+', '', recipe)\n",
    "recipe = re.sub(\"\\n\", \" \", recipe)\n",
    "recipe = text_to_number(recipe)\n",
    "    "
   ]
  },
  {
   "cell_type": "code",
   "execution_count": 148,
   "metadata": {},
   "outputs": [
    {
     "data": {
      "text/plain": [
       "'INICI HUU UT Fr 4 Kenner 12 Bund Basilikum 34 Tomaten Hauptsache: reif und fruchtig 4 EL bestes Olivenl Salz, schwarzer Pfeffer aus der Mhle 4 groe Scheiben italienisches Weibrot 4 Knoblauchzehen '"
      ]
     },
     "execution_count": 148,
     "metadata": {},
     "output_type": "execute_result"
    }
   ],
   "source": [
    "recipe"
   ]
  },
  {
   "cell_type": "code",
   "execution_count": 149,
   "metadata": {},
   "outputs": [],
   "source": [
    "def find_order(steps):\n",
    "    nums = []\n",
    "    for i in range(len(steps)):\n",
    "        \n",
    "        if steps[i].isnumeric():\n",
    "            nums.append([i, steps[i]])\n",
    "    # print(nums)\n",
    "    steps_list = []\n",
    "    for i in range(len(nums)):\n",
    "        if i == len(nums) - 1:\n",
    "            steps_list.append(steps[int(nums[i][0]):])\n",
    "        for j in range(1, len(nums)):\n",
    "            if int(nums[j][1]) - int(nums[i][1]) == 1:\n",
    "                if int(nums[j][0]) - int(nums[i][0]) > 10:\n",
    "                    steps_list.append(steps[int(nums[i][0]):int(nums[j][0])])\n",
    "    # print(steps_list)\n",
    "    indices = []\n",
    "    for i in range(len(steps_list)):\n",
    "        for j in range(len(steps_list)):\n",
    "            if i == j:\n",
    "                continue\n",
    "            if steps_list[i] in steps_list[j]:\n",
    "                indices.append(i) \n",
    "    print(indices)\n",
    "    return steps_list"
   ]
  },
  {
   "cell_type": "code",
   "execution_count": 150,
   "metadata": {},
   "outputs": [
    {
     "name": "stdout",
     "output_type": "stream",
     "text": [
      "[1, 1, 2]\n"
     ]
    }
   ],
   "source": [
    "steps_list = find_order(recipe)"
   ]
  },
  {
   "cell_type": "code",
   "execution_count": 151,
   "metadata": {},
   "outputs": [
    {
     "name": "stdout",
     "output_type": "stream",
     "text": [
      "['2 Bund Basilikum ', '34 Tomaten Hauptsache: reif und fruchtig ', '34 Tomaten Hauptsache: reif und fruchtig 4 EL bestes Olivenl Salz, schwarzer Pfeffer aus der Mhle ', '34 Tomaten Hauptsache: reif und fruchtig 4 EL bestes Olivenl Salz, schwarzer Pfeffer aus der Mhle 4 groe Scheiben italienisches Weibrot ', '4 Knoblauchzehen ']\n"
     ]
    }
   ],
   "source": [
    "print(steps_list)"
   ]
  },
  {
   "cell_type": "code",
   "execution_count": 157,
   "metadata": {},
   "outputs": [
    {
     "name": "stdout",
     "output_type": "stream",
     "text": [
      "[[16, '4'], [25, '1'], [26, '2'], [43, '3'], [44, '4'], [84, '4'], [141, '4'], [179, '4']]\n"
     ]
    }
   ],
   "source": [
    "nums = []\n",
    "for i in range(len(recipe)):\n",
    "        \n",
    "        if recipe[i].isnumeric():\n",
    "            nums.append([i, recipe[i]])\n",
    "            \n",
    "print(nums)\n"
   ]
  },
  {
   "cell_type": "code",
   "execution_count": 9,
   "metadata": {},
   "outputs": [],
   "source": [
    "def find_order(recipe):\n",
    "    \n",
    "    nums = []\n",
    "    \n",
    "    steps = []\n",
    "    \n",
    "    for i in range(len(recipe)):\n",
    "        \n",
    "        if recipe[i].isnumeric():\n",
    "            \n",
    "            nums.append([i, recipe[i]])\n",
    "            \n",
    "    # check if first number in string is 1\n",
    "    if nums[0][1] == \"1\":\n",
    "            \n",
    "        index_order = [0]\n",
    "            \n",
    "        for i in range(1,len(nums)):\n",
    "            \n",
    "            counter = 2\n",
    "            \n",
    "            # check if there are at least 10 characters between assumed instances of structure in the string.\n",
    "            if nums[i][1] == str(counter)  and (nums[i][0] - nums[index_order[-1]][0]) > 10:\n",
    "                    \n",
    "                index_oder.append(i)\n",
    "                    \n",
    "                counter  += 1\n",
    "                continue\n",
    "        \n",
    "        # check if there is at least a succesion of 1, 2, 3 in the string. If that is the case the assumption is that the string is structured. \n",
    "        if len(index_order) > 2:\n",
    "            \n",
    "            \n",
    "            # check if string started with \"1\"\n",
    "            if nums[0][0] > 1:\n",
    "            \n",
    "                steps.append({\"steps\": recipe[:nums[0][0]]})\n",
    "                \n",
    "                # iterate over index_order except the last element since it needs to be treated differently\n",
    "                for i in range(len(index_order) -1):\n",
    "                    \n",
    "                    \n",
    "                    steps.append({\"steps\": recipe[nums[index_order[i]][0]:nums[index_order[i+1]][0]]})\n",
    "                    \n",
    "                # append the last step \n",
    "                \n",
    "                steps.append({\"steps\": recipe[nums[index_order[-1]][0]:]})\n",
    "                \n",
    "                return {\"instructions\":steps}\n",
    "                \n",
    "                \n",
    "        else:\n",
    "            \n",
    "            return {\"instructions\": recipe}\n",
    "                    \n",
    "    else:\n",
    "        \n",
    "        return {\"instructions\": recipe}\n",
    "                \n",
    "            "
   ]
  },
  {
   "cell_type": "code",
   "execution_count": 12,
   "metadata": {},
   "outputs": [
    {
     "data": {
      "text/plain": [
       "'hello 1/2'"
      ]
     },
     "execution_count": 12,
     "metadata": {},
     "output_type": "execute_result"
    }
   ],
   "source": [
    "mytest = \"hello ½\"\n",
    "\n",
    "improve_fractions(mytest)"
   ]
  },
  {
   "cell_type": "code",
   "execution_count": 13,
   "metadata": {},
   "outputs": [
    {
     "data": {
      "text/plain": [
       "'hello ½'"
      ]
     },
     "execution_count": 13,
     "metadata": {},
     "output_type": "execute_result"
    }
   ],
   "source": [
    "mytest"
   ]
  },
  {
   "cell_type": "code",
   "execution_count": 91,
   "metadata": {},
   "outputs": [
    {
     "name": "stdout",
     "output_type": "stream",
     "text": [
      "[[27, '1'], [42, '2'], [56, '3'], [70, '4']]\n",
      "2\n",
      "3\n",
      "4\n",
      "worked\n",
      "[{'steps': 'these are my instructions: '}, {'steps': '1. chop onions '}, {'steps': '2. fry onions '}, {'steps': '3. eat onions '}, {'steps': '4. digest onion'}]\n"
     ]
    }
   ],
   "source": [
    "tester = \"these are my instructions: 1. chop onions 2. fry onions 3. eat onions 4. digest onion\"\n",
    "\n",
    "\n",
    "instructions_dict = find_order(tester)"
   ]
  },
  {
   "cell_type": "code",
   "execution_count": 92,
   "metadata": {},
   "outputs": [
    {
     "data": {
      "text/plain": [
       "{'instructions': [{'steps': 'these are my instructions: '},\n",
       "  {'steps': '1. chop onions '},\n",
       "  {'steps': '2. fry onions '},\n",
       "  {'steps': '3. eat onions '},\n",
       "  {'steps': '4. digest onion'}]}"
      ]
     },
     "execution_count": 92,
     "metadata": {},
     "output_type": "execute_result"
    }
   ],
   "source": [
    "instructions_dict"
   ]
  },
  {
   "cell_type": "code",
   "execution_count": null,
   "metadata": {},
   "outputs": [],
   "source": []
  }
 ],
 "metadata": {
  "kernelspec": {
   "display_name": "Spotify (Python3)",
   "language": "python",
   "name": "spotify"
  },
  "language_info": {
   "codemirror_mode": {
    "name": "ipython",
    "version": 3
   },
   "file_extension": ".py",
   "mimetype": "text/x-python",
   "name": "python",
   "nbconvert_exporter": "python",
   "pygments_lexer": "ipython3",
   "version": "3.7.0"
  }
 },
 "nbformat": 4,
 "nbformat_minor": 4
}
