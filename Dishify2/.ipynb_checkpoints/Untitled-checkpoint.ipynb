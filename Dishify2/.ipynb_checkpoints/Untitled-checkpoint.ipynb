{
 "cells": [
  {
   "cell_type": "code",
   "execution_count": 6,
   "metadata": {},
   "outputs": [
    {
     "name": "stderr",
     "output_type": "stream",
     "text": [
      "C:\\Users\\UX490\\Anaconda3\\envs\\spotify\\lib\\site-packages\\IPython\\core\\interactiveshell.py:3063: DtypeWarning: Columns (28,29,30) have mixed types.Specify dtype option on import or set low_memory=False.\n",
      "  interactivity=interactivity, compiler=compiler, result=result)\n"
     ]
    }
   ],
   "source": [
    "import pandas as pd\n",
    "\n",
    "df  = pd.read_csv(\"recipes_table_v2.csv\")"
   ]
  },
  {
   "cell_type": "code",
   "execution_count": 7,
   "metadata": {},
   "outputs": [
    {
     "data": {
      "text/html": [
       "<div>\n",
       "<style scoped>\n",
       "    .dataframe tbody tr th:only-of-type {\n",
       "        vertical-align: middle;\n",
       "    }\n",
       "\n",
       "    .dataframe tbody tr th {\n",
       "        vertical-align: top;\n",
       "    }\n",
       "\n",
       "    .dataframe thead th {\n",
       "        text-align: right;\n",
       "    }\n",
       "</style>\n",
       "<table border=\"1\" class=\"dataframe\">\n",
       "  <thead>\n",
       "    <tr style=\"text-align: right;\">\n",
       "      <th></th>\n",
       "      <th>name</th>\n",
       "      <th>ingredient1</th>\n",
       "      <th>ingredient2</th>\n",
       "      <th>ingredient3</th>\n",
       "      <th>ingredient4</th>\n",
       "      <th>ingredient5</th>\n",
       "      <th>ingredient6</th>\n",
       "      <th>ingredient7</th>\n",
       "      <th>ingredient8</th>\n",
       "      <th>ingredient9</th>\n",
       "      <th>...</th>\n",
       "      <th>ingredient21</th>\n",
       "      <th>ingredient22</th>\n",
       "      <th>ingredient23</th>\n",
       "      <th>ingredient24</th>\n",
       "      <th>ingredient25</th>\n",
       "      <th>ingredient26</th>\n",
       "      <th>ingredient27</th>\n",
       "      <th>ingredient28</th>\n",
       "      <th>ingredient29</th>\n",
       "      <th>ingredient30</th>\n",
       "    </tr>\n",
       "  </thead>\n",
       "  <tbody>\n",
       "    <tr>\n",
       "      <th>0</th>\n",
       "      <td>Death by Chocolate Mousse</td>\n",
       "      <td>['21', None, 'chocolate sandwich cookies, crus...</td>\n",
       "      <td>['1/4', 'cup', 'butter, softened']</td>\n",
       "      <td>['1', 'cup', 'heavy cream']</td>\n",
       "      <td>['1', '(12 ounce) package', 'semisweet chocola...</td>\n",
       "      <td>['1', 'teaspoon', 'vanilla extract']</td>\n",
       "      <td>['1', 'pinch', 'salt']</td>\n",
       "      <td>['2', 'cups', 'heavy cream']</td>\n",
       "      <td>['1/4', 'cup', 'white sugar']</td>\n",
       "      <td>['1', 'cup', 'heavy cream, chilled']</td>\n",
       "      <td>...</td>\n",
       "      <td>NaN</td>\n",
       "      <td>NaN</td>\n",
       "      <td>NaN</td>\n",
       "      <td>NaN</td>\n",
       "      <td>NaN</td>\n",
       "      <td>NaN</td>\n",
       "      <td>NaN</td>\n",
       "      <td>NaN</td>\n",
       "      <td>NaN</td>\n",
       "      <td>NaN</td>\n",
       "    </tr>\n",
       "    <tr>\n",
       "      <th>1</th>\n",
       "      <td>Shrimp and Crabmeat Loaf</td>\n",
       "      <td>['1', '(6 ounce) can', 'small shrimp, drained']</td>\n",
       "      <td>['1', '(6 ounce) can', 'crabmeat, drained and ...</td>\n",
       "      <td>['1/2', 'cup', 'mayonnaise']</td>\n",
       "      <td>['1/4', 'cup thinly slice', 'd green onions']</td>\n",
       "      <td>['1/4', 'cup', 'diced celery']</td>\n",
       "      <td>['1', '(8 ounce) package', 'shredded mozzarell...</td>\n",
       "      <td>['1/8', 'teaspoon', 'salt']</td>\n",
       "      <td>['1/8', 'teaspoon', 'ground black pepper']</td>\n",
       "      <td>NaN</td>\n",
       "      <td>...</td>\n",
       "      <td>NaN</td>\n",
       "      <td>NaN</td>\n",
       "      <td>NaN</td>\n",
       "      <td>NaN</td>\n",
       "      <td>NaN</td>\n",
       "      <td>NaN</td>\n",
       "      <td>NaN</td>\n",
       "      <td>NaN</td>\n",
       "      <td>NaN</td>\n",
       "      <td>NaN</td>\n",
       "    </tr>\n",
       "    <tr>\n",
       "      <th>2</th>\n",
       "      <td>Senate Bean Soup from Idahoan®</td>\n",
       "      <td>['1', '(4 ounce) package', 'Idahoan® Roasted G...</td>\n",
       "      <td>['2', 'tablespoons', 'olive oil']</td>\n",
       "      <td>['1', None, 'yellow onion, chopped']</td>\n",
       "      <td>['2', 'stalks', 'celery, chopped']</td>\n",
       "      <td>['2', None, 'carrots, chopped']</td>\n",
       "      <td>['2', '(14.5 ounce) cans', 'white beans, rinse...</td>\n",
       "      <td>['1/2', 'bunch', 'parsley, chopped']</td>\n",
       "      <td>NaN</td>\n",
       "      <td>NaN</td>\n",
       "      <td>...</td>\n",
       "      <td>NaN</td>\n",
       "      <td>NaN</td>\n",
       "      <td>NaN</td>\n",
       "      <td>NaN</td>\n",
       "      <td>NaN</td>\n",
       "      <td>NaN</td>\n",
       "      <td>NaN</td>\n",
       "      <td>NaN</td>\n",
       "      <td>NaN</td>\n",
       "      <td>NaN</td>\n",
       "    </tr>\n",
       "    <tr>\n",
       "      <th>3</th>\n",
       "      <td>Nutmeg Refrigerator Cookies</td>\n",
       "      <td>['1/2', 'cup', 'butter']</td>\n",
       "      <td>['1/3', 'cup', 'white sugar']</td>\n",
       "      <td>['2/3', 'cup', 'packed brown sugar']</td>\n",
       "      <td>['1', None, 'egg']</td>\n",
       "      <td>['1', 'teaspoon', 'vanilla extract']</td>\n",
       "      <td>['1 1/2', 'cups', 'all-purpose flour']</td>\n",
       "      <td>['1/4', 'teaspoon', 'cream of tartar']</td>\n",
       "      <td>['1/4', 'teaspoon', 'salt']</td>\n",
       "      <td>['1/2', 'teaspoon', 'ground nutmeg']</td>\n",
       "      <td>...</td>\n",
       "      <td>NaN</td>\n",
       "      <td>NaN</td>\n",
       "      <td>NaN</td>\n",
       "      <td>NaN</td>\n",
       "      <td>NaN</td>\n",
       "      <td>NaN</td>\n",
       "      <td>NaN</td>\n",
       "      <td>NaN</td>\n",
       "      <td>NaN</td>\n",
       "      <td>NaN</td>\n",
       "    </tr>\n",
       "    <tr>\n",
       "      <th>4</th>\n",
       "      <td>French Toast Sandwich</td>\n",
       "      <td>['2', None, 'eggs']</td>\n",
       "      <td>['3', 'tablespoons', 'milk']</td>\n",
       "      <td>['3', 'tablespoons', 'white sugar']</td>\n",
       "      <td>['1/2', 'teaspoon', 'vanilla extract']</td>\n",
       "      <td>['1', 'cup', 'oil for frying']</td>\n",
       "      <td>['1', 'cup', 'milk, divided']</td>\n",
       "      <td>['2', 'tablespoons', 'custard powder']</td>\n",
       "      <td>['1/2', 'cup', \"confectioners' sugar\"]</td>\n",
       "      <td>['1/2', 'cup', 'whipped cream']</td>\n",
       "      <td>...</td>\n",
       "      <td>NaN</td>\n",
       "      <td>NaN</td>\n",
       "      <td>NaN</td>\n",
       "      <td>NaN</td>\n",
       "      <td>NaN</td>\n",
       "      <td>NaN</td>\n",
       "      <td>NaN</td>\n",
       "      <td>NaN</td>\n",
       "      <td>NaN</td>\n",
       "      <td>NaN</td>\n",
       "    </tr>\n",
       "  </tbody>\n",
       "</table>\n",
       "<p>5 rows × 31 columns</p>\n",
       "</div>"
      ],
      "text/plain": [
       "                             name  \\\n",
       "0       Death by Chocolate Mousse   \n",
       "1        Shrimp and Crabmeat Loaf   \n",
       "2  Senate Bean Soup from Idahoan®   \n",
       "3     Nutmeg Refrigerator Cookies   \n",
       "4           French Toast Sandwich   \n",
       "\n",
       "                                         ingredient1  \\\n",
       "0  ['21', None, 'chocolate sandwich cookies, crus...   \n",
       "1    ['1', '(6 ounce) can', 'small shrimp, drained']   \n",
       "2  ['1', '(4 ounce) package', 'Idahoan® Roasted G...   \n",
       "3                           ['1/2', 'cup', 'butter']   \n",
       "4                                ['2', None, 'eggs']   \n",
       "\n",
       "                                         ingredient2  \\\n",
       "0                 ['1/4', 'cup', 'butter, softened']   \n",
       "1  ['1', '(6 ounce) can', 'crabmeat, drained and ...   \n",
       "2                  ['2', 'tablespoons', 'olive oil']   \n",
       "3                      ['1/3', 'cup', 'white sugar']   \n",
       "4                       ['3', 'tablespoons', 'milk']   \n",
       "\n",
       "                            ingredient3  \\\n",
       "0           ['1', 'cup', 'heavy cream']   \n",
       "1          ['1/2', 'cup', 'mayonnaise']   \n",
       "2  ['1', None, 'yellow onion, chopped']   \n",
       "3  ['2/3', 'cup', 'packed brown sugar']   \n",
       "4   ['3', 'tablespoons', 'white sugar']   \n",
       "\n",
       "                                         ingredient4  \\\n",
       "0  ['1', '(12 ounce) package', 'semisweet chocola...   \n",
       "1      ['1/4', 'cup thinly slice', 'd green onions']   \n",
       "2                 ['2', 'stalks', 'celery, chopped']   \n",
       "3                                 ['1', None, 'egg']   \n",
       "4             ['1/2', 'teaspoon', 'vanilla extract']   \n",
       "\n",
       "                            ingredient5  \\\n",
       "0  ['1', 'teaspoon', 'vanilla extract']   \n",
       "1        ['1/4', 'cup', 'diced celery']   \n",
       "2       ['2', None, 'carrots, chopped']   \n",
       "3  ['1', 'teaspoon', 'vanilla extract']   \n",
       "4        ['1', 'cup', 'oil for frying']   \n",
       "\n",
       "                                         ingredient6  \\\n",
       "0                             ['1', 'pinch', 'salt']   \n",
       "1  ['1', '(8 ounce) package', 'shredded mozzarell...   \n",
       "2  ['2', '(14.5 ounce) cans', 'white beans, rinse...   \n",
       "3             ['1 1/2', 'cups', 'all-purpose flour']   \n",
       "4                      ['1', 'cup', 'milk, divided']   \n",
       "\n",
       "                              ingredient7  \\\n",
       "0            ['2', 'cups', 'heavy cream']   \n",
       "1             ['1/8', 'teaspoon', 'salt']   \n",
       "2    ['1/2', 'bunch', 'parsley, chopped']   \n",
       "3  ['1/4', 'teaspoon', 'cream of tartar']   \n",
       "4  ['2', 'tablespoons', 'custard powder']   \n",
       "\n",
       "                                  ingredient8  \\\n",
       "0               ['1/4', 'cup', 'white sugar']   \n",
       "1  ['1/8', 'teaspoon', 'ground black pepper']   \n",
       "2                                         NaN   \n",
       "3                 ['1/4', 'teaspoon', 'salt']   \n",
       "4      ['1/2', 'cup', \"confectioners' sugar\"]   \n",
       "\n",
       "                            ingredient9  ... ingredient21 ingredient22  \\\n",
       "0  ['1', 'cup', 'heavy cream, chilled']  ...          NaN          NaN   \n",
       "1                                   NaN  ...          NaN          NaN   \n",
       "2                                   NaN  ...          NaN          NaN   \n",
       "3  ['1/2', 'teaspoon', 'ground nutmeg']  ...          NaN          NaN   \n",
       "4       ['1/2', 'cup', 'whipped cream']  ...          NaN          NaN   \n",
       "\n",
       "  ingredient23 ingredient24 ingredient25 ingredient26 ingredient27  \\\n",
       "0          NaN          NaN          NaN          NaN          NaN   \n",
       "1          NaN          NaN          NaN          NaN          NaN   \n",
       "2          NaN          NaN          NaN          NaN          NaN   \n",
       "3          NaN          NaN          NaN          NaN          NaN   \n",
       "4          NaN          NaN          NaN          NaN          NaN   \n",
       "\n",
       "  ingredient28 ingredient29 ingredient30  \n",
       "0          NaN          NaN          NaN  \n",
       "1          NaN          NaN          NaN  \n",
       "2          NaN          NaN          NaN  \n",
       "3          NaN          NaN          NaN  \n",
       "4          NaN          NaN          NaN  \n",
       "\n",
       "[5 rows x 31 columns]"
      ]
     },
     "execution_count": 7,
     "metadata": {},
     "output_type": "execute_result"
    }
   ],
   "source": [
    "df.head()"
   ]
  },
  {
   "cell_type": "code",
   "execution_count": 11,
   "metadata": {},
   "outputs": [
    {
     "data": {
      "text/plain": [
       "\"['21', None, 'chocolate sandwich cookies, crushed']\""
      ]
     },
     "execution_count": 11,
     "metadata": {},
     "output_type": "execute_result"
    }
   ],
   "source": [
    "test"
   ]
  },
  {
   "cell_type": "code",
   "execution_count": 13,
   "metadata": {},
   "outputs": [
    {
     "data": {
      "text/plain": [
       "[\"'21', None, 'chocolate sandwich cookies, crushed\"]"
      ]
     },
     "execution_count": 13,
     "metadata": {},
     "output_type": "execute_result"
    }
   ],
   "source": [
    "test[1:-2].split(\"delimiter\")"
   ]
  },
  {
   "cell_type": "code",
   "execution_count": 1,
   "metadata": {},
   "outputs": [],
   "source": [
    "import psycopg2\n",
    "conn = psycopg2.connect(database ='postgres', user = 'postgres', password = 'tz6MTgxObUZ62MNv0xgp', host = 'mydishdb-dev.c3und8sjo4p2.us-east-2.rds.amazonaws.com', port = '5432')\n"
   ]
  },
  {
   "cell_type": "code",
   "execution_count": 2,
   "metadata": {},
   "outputs": [
    {
     "data": {
      "text/plain": [
       "[('ds_full_ingr',),\n",
       " ('ds_full_step',),\n",
       " ('ds_plain_step',),\n",
       " ('ds_vision_block',),\n",
       " ('ds_vision_parsed',),\n",
       " ('ds_vision_return',)]"
      ]
     },
     "execution_count": 2,
     "metadata": {},
     "output_type": "execute_result"
    }
   ],
   "source": [
    "cursor = conn.cursor()\n",
    "\n",
    "cursor.execute(\"\"\"SELECT table_name FROM information_schema.tables WHERE table_schema='public'\n",
    "ORDER BY table_schema, table_name;\n",
    "\"\"\")\n",
    "\n",
    "table_list = cursor.fetchall()\n",
    "\n",
    "cursor.close()\n",
    "\n",
    "table_list"
   ]
  },
  {
   "cell_type": "code",
   "execution_count": 4,
   "metadata": {},
   "outputs": [],
   "source": [
    "import sqlalchemy\n",
    "\n",
    "database ='postgres' \n",
    "\n",
    "dbname = \"postgres\"\n",
    "\n",
    "user = 'postgres'\n",
    "\n",
    "password = 'tz6MTgxObUZ62MNv0xgp'\n",
    "\n",
    "host = 'mydishdb-dev.c3und8sjo4p2.us-east-2.rds.amazonaws.com'\n",
    "\n",
    "port = '5432'\n",
    "\n",
    "\n",
    "engine = sqlalchemy.create_engine(f\"{database}://{dbname}:{password}@{host}:{port}/{user}\")\n",
    "con = engine.connect()"
   ]
  },
  {
   "cell_type": "code",
   "execution_count": 5,
   "metadata": {},
   "outputs": [
    {
     "name": "stdout",
     "output_type": "stream",
     "text": [
      "['ds_vision_return', 'ds_vision_block', 'ds_vision_parsed', 'ds_full_ingr', 'ds_plain_step', 'ds_full_step']\n"
     ]
    }
   ],
   "source": [
    "print(engine.table_names())"
   ]
  },
  {
   "cell_type": "code",
   "execution_count": 8,
   "metadata": {},
   "outputs": [],
   "source": [
    "table_name = 'recipes'\n",
    "df.to_sql(table_name, con)"
   ]
  },
  {
   "cell_type": "code",
   "execution_count": 9,
   "metadata": {},
   "outputs": [
    {
     "name": "stdout",
     "output_type": "stream",
     "text": [
      "['ds_vision_return', 'ds_vision_block', 'ds_vision_parsed', 'ds_full_ingr', 'ds_plain_step', 'ds_full_step', 'recipes']\n"
     ]
    }
   ],
   "source": [
    "print(engine.table_names())"
   ]
  },
  {
   "cell_type": "code",
   "execution_count": null,
   "metadata": {},
   "outputs": [],
   "source": []
  }
 ],
 "metadata": {
  "kernelspec": {
   "display_name": "Spotify (Python3)",
   "language": "python",
   "name": "spotify"
  },
  "language_info": {
   "codemirror_mode": {
    "name": "ipython",
    "version": 3
   },
   "file_extension": ".py",
   "mimetype": "text/x-python",
   "name": "python",
   "nbconvert_exporter": "python",
   "pygments_lexer": "ipython3",
   "version": "3.7.0"
  }
 },
 "nbformat": 4,
 "nbformat_minor": 4
}
