{
 "cells": [
  {
   "cell_type": "code",
   "execution_count": 1,
   "metadata": {},
   "outputs": [],
   "source": [
    "%%capture\n",
    "pip install psycopg2"
   ]
  },
  {
   "cell_type": "code",
   "execution_count": 23,
   "metadata": {},
   "outputs": [],
   "source": [
    "import ast\n",
    "import psycopg2\n",
    "from collections import Counter"
   ]
  },
  {
   "cell_type": "code",
   "execution_count": 36,
   "metadata": {},
   "outputs": [],
   "source": [
    "def string_to_list(x):\n",
    "    return ast.literal_eval(x)\n",
    "\n",
    "\n",
    "def ingredient_getter(word):\n",
    "    if len(word) == 0:\n",
    "        return {'error': 'nothing entered'}\n",
    "    else:\n",
    "        results_dict = {}\n",
    "        split_words = word.split()\n",
    "\n",
    "        if not split_words:\n",
    "            split_words = \"none\"\n",
    "\n",
    "        conn = psycopg2.connect(database ='postgres', user = 'postgres', password = 'tz6MTgxObUZ62MNv0xgp', host = 'mydishdb-dev.c3und8sjo4p2.us-east-2.rds.amazonaws.com', port = '5432')\n",
    "        cursor = conn.cursor()\n",
    "\n",
    "        command = f\"SELECT * FROM recipes WHERE name ILIKE '%{split_words[0]}%' \"\n",
    "        if len(split_words) > 1:\n",
    "            for i in range(1, len(split_words)):\n",
    "                command += f\"AND name ILIKE '%{split_words[i]}%' \"\n",
    "        command += \";\"\n",
    "\n",
    "        cursor.execute(command)\n",
    "\n",
    "        recipe_table = cursor.fetchall()\n",
    "\n",
    "        cursor.close()\n",
    "        conn.close()\n",
    "\n",
    "        # Initialize a Counter for tabulating how often each ingredient occurs\n",
    "        ingredient_counts = Counter()\n",
    "\n",
    "        # Count each instance of each ingredient\n",
    "        for i in range(len(recipe_table)):\n",
    "            for j in range(2, len(recipe_table[i])):\n",
    "                if recipe_table[i][j]:\n",
    "                    ingredient = string_to_list(recipe_table[i][j])[2]\n",
    "                    ingredient_counts.update({ingredient: 1})\n",
    "\n",
    "        # Get the top 30 ingredients sorted by most common\n",
    "        top_30 = sorted(ingredient_counts.items(), key=lambda x: x[1], reverse=True)[:30]\n",
    "\n",
    "        # Get the ingredients that occured in at least 25% of recipes returned\n",
    "        above_25_percent = [(tup[0], round(100*tup[1]/len(recipe_table), 1)) for tup in top_30 if 100*tup[1]/len(recipe_table) >= 25]\n",
    "\n",
    "        # Get the ingredient information and put it in a dictionary\n",
    "        for item in above_25_percent:\n",
    "            quantity_list = []\n",
    "            unit_list = []\n",
    "\n",
    "            for i in range(len(recipe_table)):\n",
    "\n",
    "                for j in range(2, len(recipe_table[i])):\n",
    "\n",
    "                    if recipe_table[i][j]:\n",
    "                        if string_to_list(recipe_table[i][j])[2] == item[0]:\n",
    "\n",
    "                            quantity = string_to_list(recipe_table[i][j])[0]\n",
    "                            unit = string_to_list(recipe_table[i][j])[1]\n",
    "\n",
    "                            quantity_list.append(quantity)\n",
    "                            unit_list.append(unit)\n",
    "\n",
    "\n",
    "            # Getting and saving the most common quantity and unit for each ingredient\n",
    "            data = Counter(quantity_list)\n",
    "            quantity = data.most_common(1)\n",
    "            data = Counter(unit_list)\n",
    "            unit = data.most_common(1)\n",
    "\n",
    "            results_dict[item[1]] = {'quantity': quantity[0][0], \n",
    "                                  'unit': unit[0][0], \n",
    "                                  'ingredient': item[0]}\n",
    "\n",
    "        return results_dict\n",
    "    "
   ]
  },
  {
   "cell_type": "code",
   "execution_count": 37,
   "metadata": {},
   "outputs": [
    {
     "data": {
      "text/plain": [
       "{82.5: {'quantity': '1', 'unit': 'teaspoon', 'ingredient': 'vanilla extract'},\n",
       " 82.1: {'quantity': '1', 'unit': 'teaspoon', 'ingredient': 'baking soda'},\n",
       " 75.3: {'quantity': '2', 'unit': 'cups', 'ingredient': 'all-purpose flour'},\n",
       " 72.5: {'quantity': '1', 'unit': 'cup', 'ingredient': 'white sugar'},\n",
       " 68.0: {'quantity': '1/2', 'unit': 'teaspoon', 'ingredient': 'salt'},\n",
       " 52.2: {'quantity': '2', 'unit': None, 'ingredient': 'eggs'},\n",
       " 51.2: {'quantity': '2',\n",
       "  'unit': 'cups',\n",
       "  'ingredient': 'semisweet chocolate chips'},\n",
       " 34.4: {'quantity': '1', 'unit': 'cup', 'ingredient': 'butter, softened'},\n",
       " 30.9: {'quantity': '3/4', 'unit': 'cup', 'ingredient': 'packed brown sugar'},\n",
       " 25.8: {'quantity': '1', 'unit': 'teaspoon', 'ingredient': 'baking powder'}}"
      ]
     },
     "execution_count": 37,
     "metadata": {},
     "output_type": "execute_result"
    }
   ],
   "source": [
    "ingredient_getter('chocolate chip cookies')"
   ]
  },
  {
   "cell_type": "code",
   "execution_count": 38,
   "metadata": {},
   "outputs": [
    {
     "data": {
      "text/plain": [
       "{'error': 'nothing entered'}"
      ]
     },
     "execution_count": 38,
     "metadata": {},
     "output_type": "execute_result"
    }
   ],
   "source": [
    "ingredient_getter('')"
   ]
  },
  {
   "cell_type": "code",
   "execution_count": 40,
   "metadata": {},
   "outputs": [
    {
     "data": {
      "text/plain": [
       "{100.0: {'quantity': '3',\n",
       "  'unit': 'tablespoons',\n",
       "  'ingredient': 'chopped onion'}}"
      ]
     },
     "execution_count": 40,
     "metadata": {},
     "output_type": "execute_result"
    }
   ],
   "source": [
    "ingredient_getter('# $')"
   ]
  },
  {
   "cell_type": "code",
   "execution_count": 29,
   "metadata": {},
   "outputs": [],
   "source": [
    "word = \"\"\n",
    "split_words = word.split()\n",
    "\n",
    "if not split_words:\n",
    "    split_words = \"none\"\n",
    "\n",
    "conn = psycopg2.connect(database ='postgres', user = 'postgres', password = 'tz6MTgxObUZ62MNv0xgp', host = 'mydishdb-dev.c3und8sjo4p2.us-east-2.rds.amazonaws.com', port = '5432')\n",
    "cursor = conn.cursor()\n",
    "\n",
    "command = f\"SELECT * FROM recipes WHERE name ILIKE '%{split_words[0]}%' \"\n",
    "if len(split_words) > 1:\n",
    "    for i in range(1, len(split_words)):\n",
    "        command += f\"AND name ILIKE '%{split_words[i]}%' \"\n",
    "command += \";\"\n",
    "\n",
    "cursor.execute(command)\n",
    "\n",
    "recipe_table = cursor.fetchall()\n",
    "\n",
    "cursor.close()\n",
    "conn.close()"
   ]
  },
  {
   "cell_type": "markdown",
   "metadata": {},
   "source": [
    "### Get results to report accuracy"
   ]
  },
  {
   "cell_type": "code",
   "execution_count": 5,
   "metadata": {},
   "outputs": [],
   "source": [
    "# List of recipes to run through\n",
    "recipes = ['waffles', 'brownies', 'mint brownie', 'caramel brownie', 'chocolate chip cookies', 'peanut butter cookies',\n",
    "           'sesame chicken', 'banana bread', 'cheesecake', 'chicken curry', 'enchilada', 'enchilada sauce', 'cheese enchilada',\n",
    "           'hawaiian haystacks', 'veggie burger']"
   ]
  },
  {
   "cell_type": "code",
   "execution_count": 6,
   "metadata": {},
   "outputs": [
    {
     "data": {
      "text/plain": [
       "8"
      ]
     },
     "execution_count": 6,
     "metadata": {},
     "output_type": "execute_result"
    }
   ],
   "source": [
    "len(ingredient_getter('brownies'))"
   ]
  },
  {
   "cell_type": "code",
   "execution_count": 7,
   "metadata": {},
   "outputs": [
    {
     "data": {
      "text/plain": [
       "[(54,\n",
       "  'Gluten-Free Avocado Brownies',\n",
       "  None,\n",
       "  \"['1', 'tablespoon', 'coconut oil']\",\n",
       "  \"['3', None, 'avocados - peeled, pitted, and diced']\",\n",
       "  \"['3', None, 'eggs']\",\n",
       "  \"['3/4', 'cup', 'honey']\",\n",
       "  \"['1/4', 'cup', 'unsweetened cocoa powder']\",\n",
       "  \"['1', 'tablespoon', 'coconut flour']\",\n",
       "  \"['1', 'teaspoon', 'vanilla extract']\",\n",
       "  \"['1', 'teaspoon', 'baking soda']\",\n",
       "  None,\n",
       "  None,\n",
       "  None,\n",
       "  None,\n",
       "  None,\n",
       "  None,\n",
       "  None,\n",
       "  None,\n",
       "  None,\n",
       "  None,\n",
       "  None,\n",
       "  None,\n",
       "  None,\n",
       "  None,\n",
       "  None,\n",
       "  None,\n",
       "  None,\n",
       "  None,\n",
       "  None,\n",
       "  None,\n",
       "  None),\n",
       " (67,\n",
       "  'Toffee Bar Brownies',\n",
       "  \"['1', '(20 ounce) package', 'brownie mix']\",\n",
       "  \"['2', '(8 ounce) containers', 'frozen whipped topping, thawed']\",\n",
       "  None,\n",
       "  None,\n",
       "  None,\n",
       "  None,\n",
       "  None,\n",
       "  None,\n",
       "  None,\n",
       "  None,\n",
       "  None,\n",
       "  None,\n",
       "  None,\n",
       "  None,\n",
       "  None,\n",
       "  None,\n",
       "  None,\n",
       "  None,\n",
       "  None,\n",
       "  None,\n",
       "  None,\n",
       "  None,\n",
       "  None,\n",
       "  None,\n",
       "  None,\n",
       "  None,\n",
       "  None,\n",
       "  None,\n",
       "  None,\n",
       "  None)]"
      ]
     },
     "execution_count": 7,
     "metadata": {},
     "output_type": "execute_result"
    }
   ],
   "source": [
    "word = 'brownies'\n",
    "\n",
    "split_words = word.split()\n",
    "    \n",
    "conn = psycopg2.connect(database ='postgres', user = 'postgres', password = 'tz6MTgxObUZ62MNv0xgp', host = 'mydishdb-dev.c3und8sjo4p2.us-east-2.rds.amazonaws.com', port = '5432')\n",
    "cursor = conn.cursor()\n",
    "\n",
    "command = f\"SELECT * FROM recipes WHERE name ILIKE '%{split_words[0]}%' \"\n",
    "if len(split_words) > 1:\n",
    "    for i in range(1, len(split_words)):\n",
    "        command += f\"AND name ILIKE '%{split_words[i]}%' \"\n",
    "command += \";\"\n",
    "\n",
    "cursor.execute(command)\n",
    "\n",
    "recipe_table = cursor.fetchall()\n",
    "\n",
    "cursor.close()\n",
    "conn.close()\n",
    "\n",
    "recipe_table[:2]"
   ]
  },
  {
   "cell_type": "code",
   "execution_count": 8,
   "metadata": {},
   "outputs": [],
   "source": [
    "# Get the number of ingredients in each recipe\n",
    "recipes_dict_of_results = {}\n",
    "\n",
    "for i in range(len(recipe_table)):\n",
    "    count = 0\n",
    "    for j in range(2, len(recipe_table[i])):\n",
    "        if recipe_table[i][j]:\n",
    "            count += 1\n",
    "    recipes_dict_of_results[recipe_table[i][1]] = count\n",
    "\n",
    "#recipes_dict_of_results"
   ]
  },
  {
   "cell_type": "code",
   "execution_count": 9,
   "metadata": {},
   "outputs": [
    {
     "data": {
      "text/plain": [
       "8.8"
      ]
     },
     "execution_count": 9,
     "metadata": {},
     "output_type": "execute_result"
    }
   ],
   "source": [
    "import numpy as np\n",
    "\n",
    "np.mean(list(recipes_dict_of_results.values())).round(2)"
   ]
  },
  {
   "cell_type": "code",
   "execution_count": 16,
   "metadata": {},
   "outputs": [],
   "source": [
    "def db_fetch(recipes):\n",
    "    recipes_list = []\n",
    "    \n",
    "    for recipe in recipes:\n",
    "        \n",
    "        len_results = len(ingredient_getter(recipe))\n",
    "        \n",
    "        split_words = recipe.split()\n",
    "    \n",
    "        conn = psycopg2.connect(database ='postgres', user = 'postgres', password = 'tz6MTgxObUZ62MNv0xgp', host = 'mydishdb-dev.c3und8sjo4p2.us-east-2.rds.amazonaws.com', port = '5432')\n",
    "        cursor = conn.cursor()\n",
    "\n",
    "        command = f\"SELECT * FROM recipes WHERE name ILIKE '%{split_words[0]}%' \"\n",
    "        if len(split_words) > 1:\n",
    "            for i in range(1, len(split_words)):\n",
    "                command += f\"AND name ILIKE '%{split_words[i]}%' \"\n",
    "        command += \";\"\n",
    "\n",
    "        cursor.execute(command)\n",
    "\n",
    "        recipe_table = cursor.fetchall()\n",
    "\n",
    "        cursor.close()\n",
    "        conn.close()\n",
    "        \n",
    "        num_recipes = len(recipe_table)\n",
    "        \n",
    "        recipes_dict_of_results = {}\n",
    "        for i in range(len(recipe_table)):\n",
    "            count = 0\n",
    "            for j in range(2, len(recipe_table[i])):\n",
    "                if recipe_table[i][j]:\n",
    "                    count += 1\n",
    "            recipes_dict_of_results[recipe_table[i][1]] = count\n",
    "        \n",
    "        recipe_num = f'{recipe} ({num_recipes})'\n",
    "        ave_len_matching_recipes = np.mean(list(recipes_dict_of_results.values())).round(2)\n",
    "        \n",
    "        recipes_list.append((recipe_num, ave_len_matching_recipes, len_results))\n",
    "\n",
    "    return recipes_list"
   ]
  },
  {
   "cell_type": "code",
   "execution_count": 17,
   "metadata": {},
   "outputs": [],
   "source": [
    "recipes_to_graph = db_fetch(recipes)"
   ]
  },
  {
   "cell_type": "code",
   "execution_count": 18,
   "metadata": {},
   "outputs": [
    {
     "data": {
      "text/plain": [
       "[('waffles (154)', 8.77, 8),\n",
       " ('brownies (389)', 8.8, 8),\n",
       " ('mint brownie (15)', 8.53, 5),\n",
       " ('caramel brownie (18)', 6.22, 4),\n",
       " ('chocolate chip cookies (291)', 9.71, 10),\n",
       " ('peanut butter cookies (171)', 8.23, 9),\n",
       " ('sesame chicken (37)', 9.54, 7),\n",
       " ('banana bread (212)', 10.26, 8),\n",
       " ('cheesecake (658)', 9.0, 6),\n",
       " ('chicken curry (169)', 9.47, 5),\n",
       " ('enchilada (257)', 8.68, 1),\n",
       " ('enchilada sauce (26)', 10.0, 5),\n",
       " ('cheese enchilada (13)', 9.31, 1),\n",
       " ('hawaiian haystacks (2)', 13.5, 2),\n",
       " ('veggie burger (22)', 10.27, 3)]"
      ]
     },
     "execution_count": 18,
     "metadata": {},
     "output_type": "execute_result"
    }
   ],
   "source": [
    "recipes_to_graph"
   ]
  },
  {
   "cell_type": "code",
   "execution_count": 15,
   "metadata": {},
   "outputs": [
    {
     "data": {
      "text/plain": [
       "('waffles', 8.77, 8)"
      ]
     },
     "execution_count": 15,
     "metadata": {},
     "output_type": "execute_result"
    }
   ],
   "source": [
    "recipes_to_graph[0]"
   ]
  },
  {
   "cell_type": "code",
   "execution_count": 19,
   "metadata": {},
   "outputs": [],
   "source": [
    "%matplotlib inline"
   ]
  },
  {
   "cell_type": "code",
   "execution_count": 22,
   "metadata": {},
   "outputs": [
    {
     "data": {
      "image/png": "[encoded data removed]",
      "text/plain": [
       "<Figure size 864x432 with 1 Axes>"
      ]
     },
     "metadata": {
      "needs_background": "light"
     },
     "output_type": "display_data"
    }
   ],
   "source": [
    "import matplotlib\n",
    "import matplotlib.pyplot as plt\n",
    "import numpy as np\n",
    "\n",
    "labels = []\n",
    "all_recipes_mean = []\n",
    "returned_recipe_mean = []\n",
    "\n",
    "for i in range(len(recipes_to_graph)):\n",
    "    labels.append(recipes_to_graph[i][0])\n",
    "    all_recipes_mean.append(recipes_to_graph[i][1])\n",
    "    returned_recipe_mean.append(recipes_to_graph[i][2])\n",
    "\n",
    "# labels = [x for x in recipes_to_graph[0]]\n",
    "# all_recipes_mean = [x for x in recipes_to_graph[1]]\n",
    "# returned_recipe_mean = [x for x in recipes_to_graph[2]]\n",
    "\n",
    "x = np.arange(len(labels))  # the label locations\n",
    "width = 0.35  # the width of the bars\n",
    "\n",
    "fig, ax = plt.subplots()\n",
    "fig.set_size_inches(12, 6)\n",
    "rects1 = ax.bar(x - width/2, all_recipes_mean, width, label='Mean of All Matching Recipes')\n",
    "rects2 = ax.bar(x + width/2, returned_recipe_mean, width, label='Returned from Function')\n",
    "\n",
    "# Add some text for labels, title and custom x-axis tick labels, etc.\n",
    "ax.set_ylabel('Number of Ingredients', fontsize='large', fontweight='bold')\n",
    "ax.set_title('Comparison Between Different Recipes', fontsize='large', fontweight='bold')\n",
    "ax.set_xticks(x)\n",
    "ax.set_xticklabels(x, rotation=45, ha='right')\n",
    "ax.set_xticklabels(labels, fontsize='large', fontweight='bold')\n",
    "ax.legend()\n",
    "\n",
    "def autolabel(rects):\n",
    "    \"\"\"Attach a text label above each bar in *rects*, displaying its height.\"\"\"\n",
    "    for rect in rects:\n",
    "        height = rect.get_height()\n",
    "        ax.annotate('{}'.format(height),\n",
    "                    xy=(rect.get_x() + rect.get_width() / 2, height),\n",
    "                    xytext=(0, 3),  # 3 points vertical offset\n",
    "                    textcoords=\"offset points\",\n",
    "                    ha='center', va='bottom')\n",
    "\n",
    "\n",
    "autolabel(rects1)\n",
    "autolabel(rects2)\n",
    "\n",
    "# fig.tight_layout()\n",
    "\n",
    "plt.show()"
   ]
  },
  {
   "cell_type": "code",
   "execution_count": null,
   "metadata": {},
   "outputs": [],
   "source": []
  },
  {
   "cell_type": "code",
   "execution_count": null,
   "metadata": {},
   "outputs": [],
   "source": []
  }
 ],
 "metadata": {
  "kernelspec": {
   "display_name": "Python 3",
   "language": "python",
   "name": "python3"
  },
  "language_info": {
   "codemirror_mode": {
    "name": "ipython",
    "version": 3
   },
   "file_extension": ".py",
   "mimetype": "text/x-python",
   "name": "python",
   "nbconvert_exporter": "python",
   "pygments_lexer": "ipython3",
   "version": "3.7.4"
  }
 },
 "nbformat": 4,
 "nbformat_minor": 4
}
