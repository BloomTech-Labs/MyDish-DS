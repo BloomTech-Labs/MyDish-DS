{
 "cells": [
  {
   "cell_type": "code",
   "execution_count": 1,
   "metadata": {},
   "outputs": [],
   "source": [
    "from google.cloud import vision"
   ]
  },
  {
   "cell_type": "code",
   "execution_count": 2,
   "metadata": {},
   "outputs": [],
   "source": [
    "import os\n",
    "os.environ[\"GOOGLE_APPLICATION_CREDENTIALS\"] = \"ProjectKey.json\""
   ]
  },
  {
   "cell_type": "code",
   "execution_count": 3,
   "metadata": {},
   "outputs": [],
   "source": [
    "client = vision.ImageAnnotatorClient()"
   ]
  },
  {
   "cell_type": "code",
   "execution_count": 4,
   "metadata": {},
   "outputs": [],
   "source": [
    "import io\n",
    "\n",
    "path = './recipeimages/download.jpg'\n",
    "with io.open(path, 'rb') as image_file:\n",
    "        content = image_file.read()"
   ]
  },
  {
   "cell_type": "code",
   "execution_count": 5,
   "metadata": {},
   "outputs": [],
   "source": [
    "image = vision.types.Image(content=content)"
   ]
  },
  {
   "cell_type": "code",
   "execution_count": 6,
   "metadata": {},
   "outputs": [],
   "source": [
    "response = client.text_detection(image=image)"
   ]
  },
  {
   "cell_type": "code",
   "execution_count": 7,
   "metadata": {},
   "outputs": [
    {
     "name": "stdout",
     "output_type": "stream",
     "text": [
      "*1 BOWL OR POT\n",
      "*30 MINUTES OR LESS\n",
      "Coconut Sugar\n",
      "Caramel Sauce\n",
      "*10 INGREDIENTS OR LESS\n",
      "*GF GLUTEN-FREE\n",
      "Perfecting vegan caramel has been such a challenge for me, but this recipe is exactly what I\n",
      "have been looking for! It's entirely gluten-free and naturally sweetened, and requires just 5 in-\n",
      "predients. Serve this warm or chilled with your favorite desserts, coffee beverages, and more.\n",
      "It pairs perfectly with my Cherry Chocolate Chip Ice Cream (page 269).\n",
      "COOK TIME 15 MIN.\n",
      "SERVES 16\n",
      "PREP TIME S MIN\n",
      "TOTAL TIME 20 MIN.\n",
      "1 cup (192g) coconut sugar\n",
      "01 Place the coconut sugar and water in a\n",
      "small saucepan. Cook over nedium heat for\n",
      "12-15 minutes, swirling the pan but not\n",
      "stirring. Reduce the heat slightly if the\n",
      "mixture is bubbling too rapidly (and remove\n",
      "it fron the heat if it begins smelling\n",
      "* cup (60ml)\n",
      "filtered water\n",
      "% tsp pure vanilla\n",
      "extract\n",
      "burnt). When caramelized, it wil1 have\n",
      "* tsp sea salt\n",
      "a strong caramel scent and a dark anber\n",
      "* cup (160ml) coconut\n",
      "cream (not coconut milk)\n",
      "color.\n",
      "02 Once finished cooking, remove the pan\n",
      "OPTIONAL\n",
      "1 Tbsp (15ml) bourbon\n",
      "(omit to keep gluten-\n",
      "free)\n",
      "from the heat and immediately add the\n",
      "vanilla, salt, and coconut cream. Stir\n",
      "to combine. Add the bourbon and stir\n",
      "again (optional). Let cool slightly, then\n",
      "transfer to a clean nason jar and let cool\n",
      "completely before covering/sealing.\n",
      "03 Store in the refrigerator for 2-3 weeks.\n",
      "Reheat in your microwave, or place the jar\n",
      "in a saucepan with 2 inches of sinnering\n",
      "water until warmed through. However, the\n",
      "sauce is also pourable and delicious\n",
      "directly from the refrigerator.\n",
      "04 This caranel makes a great addition to\n",
      "vegan ahakes, sundaes, and pies.\n",
      "MINIMALIST EAKER 265 DESSERTS\n",
      "\n"
     ]
    }
   ],
   "source": [
    "print(response.full_text_annotation.text)"
   ]
  },
  {
   "cell_type": "code",
   "execution_count": null,
   "metadata": {},
   "outputs": [],
   "source": []
  }
 ],
 "metadata": {
  "kernelspec": {
   "display_name": "MyDish",
   "language": "python",
   "name": "mydish"
  },
  "language_info": {
   "codemirror_mode": {
    "name": "ipython",
    "version": 3
   },
   "file_extension": ".py",
   "mimetype": "text/x-python",
   "name": "python",
   "nbconvert_exporter": "python",
   "pygments_lexer": "ipython3",
   "version": "3.7.6"
  }
 },
 "nbformat": 4,
 "nbformat_minor": 4
}
